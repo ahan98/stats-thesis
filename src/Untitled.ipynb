{
 "cells": [
  {
   "cell_type": "code",
   "execution_count": 12,
   "metadata": {},
   "outputs": [
    {
     "data": {
      "text/plain": [
       "_var (generic function with 2 methods)"
      ]
     },
     "execution_count": 12,
     "metadata": {},
     "output_type": "execute_result"
    }
   ],
   "source": [
    "using CUDA, Random\n",
    "using GPUArrays: @allowscalar\n",
    "CUDA.allowscalar(false)\n",
    "include(\"utils.jl\")\n",
    "include(\"statistics.jl\")"
   ]
  },
  {
   "cell_type": "code",
   "execution_count": 13,
   "metadata": {},
   "outputs": [
    {
     "data": {
      "text/plain": [
       "CuArray{Float32, 3, CUDA.Mem.DeviceBuffer}"
      ]
     },
     "execution_count": 13,
     "metadata": {},
     "output_type": "execute_result"
    }
   ],
   "source": [
    "# data dimensions\n",
    "B  = 100    # num. coverage probabilities per boxplot\n",
    "S  = 1800   # num. samples per coverage probability\n",
    "nx = 6      # size of group 1\n",
    "ny = 6      # size of group 2\n",
    "\n",
    "# permutation test configuration\n",
    "pooled = true\n",
    "alpha = 0.05\n",
    "deltas = repeat([0], B)\n",
    "alternative = \"two_sided\"\n",
    "\n",
    "# Generate data\n",
    "Random.seed!(123)\n",
    "x = randn(Float32, (B, S, nx))\n",
    "y = randn(Float32, (B, S, ny))\n",
    "px, py = partition(nx, ny)\n",
    "wide = tconf.(eachslice(x, dims=1), eachslice(y, dims=1), alpha=0.0001)\n",
    "wide = hcat(wide...)\n",
    "narrow = tconf.(eachslice(x, dims=1), eachslice(y, dims=1), alpha=0.3)\n",
    "narrow = hcat(narrow...)\n",
    "\n",
    "# Move data to GPU\n",
    "x = cu(x)\n",
    "y = cu(y)\n",
    "typeof(x)"
   ]
  },
  {
   "cell_type": "code",
   "execution_count": 14,
   "metadata": {},
   "outputs": [
    {
     "data": {
      "text/plain": [
       "(1800, 6)"
      ]
     },
     "execution_count": 14,
     "metadata": {},
     "output_type": "execute_result"
    }
   ],
   "source": [
    "# get first batch for debugging purposes\n",
    "x1, y1 = x[1,:,:], y[1,:,:]\n",
    "x1.dims"
   ]
  },
  {
   "cell_type": "code",
   "execution_count": 15,
   "metadata": {},
   "outputs": [
    {
     "data": {
      "text/plain": [
       "pval (generic function with 4 methods)"
      ]
     },
     "execution_count": 15,
     "metadata": {},
     "output_type": "execute_result"
    }
   ],
   "source": [
    "function pval(x, y, pooled=false, alternative=\"two-sided\", delta=0)\n",
    "    \"\"\"\n",
    "    Parameters\n",
    "    ----------\n",
    "    x : Vector{Real}\n",
    "        Data for group 1\n",
    "    \n",
    "    y : Vector{Real}\n",
    "        Data for group 2\n",
    "    \n",
    "    pooled : Bool\n",
    "        Assume equal/unequal variances for the two groups\n",
    "    \n",
    "    alternative : String\n",
    "        Type of alternative hypothesis\n",
    "    \n",
    "    delta : Real\n",
    "        Null hypothesis difference in means\n",
    "    \n",
    "    Returns\n",
    "    -------\n",
    "    Float64\n",
    "        Proportion of pairs among all sample combinations which have\n",
    "        a test statistic as or more extreme than the original pair (x, y)\n",
    "    \"\"\"\n",
    "    \n",
    "    x_shift = x .- delta              # shift group 1 under null hypothesis\n",
    "    t_obs = t(x_shift, y, pooled)  # test statistic for observed data\n",
    "\n",
    "    combined = vcat(x_shift, y)  # join original pair into single vector\n",
    "    xs = combined[px]   # get all combinations of pairs from original pair\n",
    "    ys = combined[py]\n",
    "    ts = t(xs, ys, pooled)   # test statistic for all possible pairs of samples\n",
    "    \n",
    "    if alternative == \"smaller\"\n",
    "        n_extreme = count(ts .<= t_obs)\n",
    "    elseif alternative == \"larger\"\n",
    "        n_extreme = count(ts .>= t_obs)\n",
    "    else\n",
    "        n_extreme = count(@. (ts <= -abs(t_obs)) | (ts >= abs(t_obs)))\n",
    "    end\n",
    "\n",
    "    return n_extreme / size(px, 1)  # proportion of pairs w/ extreme test statistic\n",
    "    \n",
    "end"
   ]
  },
  {
   "cell_type": "code",
   "execution_count": 16,
   "metadata": {},
   "outputs": [
    {
     "data": {
      "text/plain": [
       "search (generic function with 1 method)"
      ]
     },
     "execution_count": 16,
     "metadata": {},
     "output_type": "execute_result"
    }
   ],
   "source": [
    "function search(x, y, start, stop;\n",
    "                pooled=false, alternative=\"two-sided\", isLowerBound=true,\n",
    "                margin=0.005, threshold=1.0, alpha=0.05)\n",
    "    \n",
    "    p_start = pval(x, y, pooled, alternative, start)\n",
    "    p_end   = pval(x, y, pooled, alternative, stop)\n",
    "    #println(\"p_start = \", p_start, \", p_end = \", p_end)\n",
    "    \n",
    "    # p-values corresponding to `start` and `stop` must be on opposite sides of `alpha`\n",
    "    @assert (p_start - alpha) * (p_end - alpha) <= 0\n",
    "\n",
    "    p = p_new = delta = nothing\n",
    "    percent_change = (old, new) -> 100 * abs(new-old) / old\n",
    "    \n",
    "    i = 0\n",
    "    while true\n",
    "        i += 1\n",
    "        delta = (start + stop) / 2\n",
    "        p_new = pval(x, y, pooled, alternative, delta)\n",
    "\n",
    "        if !isnothing(p) && percent_change(p, p_new) <= threshold\n",
    "            break  # (1) percent change in p-value is below `threshold`\n",
    "        end\n",
    "        \n",
    "        compare = (alpha - p_new) - isLowerBound * 2 * (alpha - p_new)\n",
    "        if margin < compare\n",
    "            stop = delta\n",
    "        elseif margin < -compare\n",
    "            start = delta\n",
    "        else\n",
    "            break  # (2) p-value is within `margin` of `alpha`\n",
    "        end\n",
    "\n",
    "        p = p_new\n",
    "    end\n",
    "    \n",
    "    return delta\n",
    "end"
   ]
  },
  {
   "cell_type": "code",
   "execution_count": 17,
   "metadata": {},
   "outputs": [
    {
     "data": {
      "text/plain": [
       "permInterval (generic function with 1 method)"
      ]
     },
     "execution_count": 17,
     "metadata": {},
     "output_type": "execute_result"
    }
   ],
   "source": [
    "function permInterval(x, y, wide, narrow, delta_true; pooled=false, alpha=0.05, alternative=\"two_sided\")\n",
    "    \"\"\"Returns true (false) if permutation test confidence interval does (not) include difference in\n",
    "    population means.\n",
    "    Parameters\n",
    "    ----------\n",
    "    x1 : Vector{Float64}\n",
    "        Data for group 1\n",
    "    x2 : Vector{Float64}\n",
    "        Data for group 2\n",
    "    partitions : Tuple{Matrix{Int64}, Matrix{Int64}}\n",
    "        The i-th rows of x1[partitions[1]] and x2[partitions[2]] denote the i-th arrangement of\n",
    "        the original (n1+n2) observations into two groups of size n1 and n2.\n",
    "    delta_true : Float64\n",
    "        Difference in population means\n",
    "    pooled : Bool\n",
    "        Assume pooled or unpooled variances\n",
    "    alpha : Float64\n",
    "        Significance level\n",
    "    alternative : String\n",
    "        Type of alternative hypothesis (\"two-sided\", \"smaller\", \"larger\")\n",
    "    Returns\n",
    "    -------\n",
    "    Bool\n",
    "        True (false) if permutation test confidence interval does (not) include difference in population means.\n",
    "    \"\"\"\n",
    "\n",
    "    # use binary search to find approximate permutation test confidence interval\n",
    "    lo = search(x, y, wide[1], narrow[1],\n",
    "                pooled=pooled, alpha=alpha, alternative=alternative, isLowerBound=true)\n",
    "    hi = search(x, y, narrow[2], wide[2],\n",
    "                pooled=pooled, alpha=alpha, alternative=alternative, isLowerBound=false)\n",
    "    # println(\"(\", lo, \", \", hi, \")\")\n",
    "    return lo <= delta_true <= hi\n",
    "end"
   ]
  },
  {
   "cell_type": "code",
   "execution_count": 18,
   "metadata": {},
   "outputs": [
    {
     "data": {
      "text/plain": [
       "coverage (generic function with 1 method)"
      ]
     },
     "execution_count": 18,
     "metadata": {},
     "output_type": "execute_result"
    }
   ],
   "source": [
    "function coverage(xs, ys, wide, narrow, delta_true; pooled=false, alpha=0.05, alternative=\"two_sided\")\n",
    "    covered = permInterval.(eachrow(xs), eachrow(ys), wide, narrow, delta_true,\n",
    "                            pooled=pooled, alpha=alpha, alternative=alternative)\n",
    "    return count(covered) / S\n",
    "end"
   ]
  },
  {
   "cell_type": "code",
   "execution_count": 19,
   "metadata": {
    "collapsed": true
   },
   "outputs": [
    {
     "ename": "LoadError",
     "evalue": "InterruptException:",
     "output_type": "error",
     "traceback": [
      "InterruptException:",
      "",
      "Stacktrace:",
      "  [1] cached_compilation(cache::Dict{UInt64, Any}, job::GPUCompiler.CompilerJob, compiler::typeof(CUDA.cufunction_compile), linker::typeof(CUDA.cufunction_link))",
      "    @ GPUCompiler ~/.julia/packages/GPUCompiler/1Ajz2/src/cache.jl:71",
      "  [2] cufunction(f::GPUArrays.var\"#broadcast_kernel#17\", tt::Type{Tuple{CUDA.CuKernelContext, CuDeviceMatrix{Float64, 1}, Base.Broadcast.Broadcasted{Nothing, Tuple{Base.OneTo{Int64}, Base.OneTo{Int64}}, typeof(*), Tuple{Int64, Base.Broadcast.Extruded{CuDeviceMatrix{Float64, 1}, Tuple{Bool, Bool}, Tuple{Int64, Int64}}}}, Int64}}; name::Nothing, kwargs::Base.Pairs{Symbol, Union{}, Tuple{}, NamedTuple{(), Tuple{}}})",
      "    @ CUDA ~/.julia/packages/CUDA/bki2w/src/compiler/execution.jl:297",
      "  [3] cufunction",
      "    @ ~/.julia/packages/CUDA/bki2w/src/compiler/execution.jl:291 [inlined]",
      "  [4] macro expansion",
      "    @ ~/.julia/packages/CUDA/bki2w/src/compiler/execution.jl:102 [inlined]",
      "  [5] #launch_heuristic#270",
      "    @ ~/.julia/packages/CUDA/bki2w/src/gpuarrays.jl:17 [inlined]",
      "  [6] copyto!",
      "    @ ~/.julia/packages/GPUArrays/umZob/src/host/broadcast.jl:65 [inlined]",
      "  [7] copyto!",
      "    @ ./broadcast.jl:913 [inlined]",
      "  [8] copy",
      "    @ ~/.julia/packages/GPUArrays/umZob/src/host/broadcast.jl:47 [inlined]",
      "  [9] materialize",
      "    @ ./broadcast.jl:860 [inlined]",
      " [10] broadcast_preserving_zero_d",
      "    @ ./broadcast.jl:849 [inlined]",
      " [11] *(A::Int64, B::CuArray{Float64, 2, CUDA.Mem.DeviceBuffer})",
      "    @ Base ./arraymath.jl:52",
      " [12] t(xs::CuArray{Float64, 2, CUDA.Mem.DeviceBuffer}, ys::CuArray{Float64, 2, CUDA.Mem.DeviceBuffer}, pooled::Bool)",
      "    @ Main ~/stats-thesis/src/statistics.jl:36",
      " [13] pval(x::SubArray{Float32, 1, CuArray{Float32, 3, CUDA.Mem.DeviceBuffer}, Tuple{Int64, Int64, Base.Slice{Base.OneTo{Int64}}}, true}, y::SubArray{Float32, 1, CuArray{Float32, 3, CUDA.Mem.DeviceBuffer}, Tuple{Int64, Int64, Base.Slice{Base.OneTo{Int64}}}, true}, pooled::Bool, alternative::String, delta::Float64)",
      "    @ Main ./In[15]:33",
      " [14] search(x::SubArray{Float32, 1, CuArray{Float32, 3, CUDA.Mem.DeviceBuffer}, Tuple{Int64, Int64, Base.Slice{Base.OneTo{Int64}}}, true}, y::SubArray{Float32, 1, CuArray{Float32, 3, CUDA.Mem.DeviceBuffer}, Tuple{Int64, Int64, Base.Slice{Base.OneTo{Int64}}}, true}, start::Float64, stop::Float64; pooled::Bool, alternative::String, isLowerBound::Bool, margin::Float64, threshold::Float64, alpha::Float64)",
      "    @ Main ./In[16]:19",
      " [15] #permInterval#13",
      "    @ ./In[17]:28 [inlined]",
      " [16] #41",
      "    @ ./broadcast.jl:1283 [inlined]",
      " [17] _broadcast_getindex_evalf",
      "    @ ./broadcast.jl:670 [inlined]",
      " [18] _broadcast_getindex",
      "    @ ./broadcast.jl:643 [inlined]",
      " [19] getindex",
      "    @ ./broadcast.jl:597 [inlined]",
      " [20] macro expansion",
      "    @ ./broadcast.jl:979 [inlined]",
      " [21] macro expansion",
      "    @ ./simdloop.jl:77 [inlined]",
      " [22] copyto!(dest::BitVector, bc::Base.Broadcast.Broadcasted{Nothing, Tuple{Base.OneTo{Int64}}, Base.Broadcast.var\"#41#42\"{Base.Pairs{Symbol, Any, Tuple{Symbol, Symbol, Symbol}, NamedTuple{(:pooled, :alpha, :alternative), Tuple{Bool, Float64, String}}}, typeof(permInterval)}, Tuple{Vector{SubArray{Float32, 1, CuArray{Float32, 3, CUDA.Mem.DeviceBuffer}, Tuple{Int64, Int64, Base.Slice{Base.OneTo{Int64}}}, true}}, Vector{SubArray{Float32, 1, CuArray{Float32, 3, CUDA.Mem.DeviceBuffer}, Tuple{Int64, Int64, Base.Slice{Base.OneTo{Int64}}}, true}}, SubArray{Tuple{Float64, Float64}, 1, Matrix{Tuple{Float64, Float64}}, Tuple{Base.Slice{Base.OneTo{Int64}}, Int64}, true}, SubArray{Tuple{Float64, Float64}, 1, Matrix{Tuple{Float64, Float64}}, Tuple{Base.Slice{Base.OneTo{Int64}}, Int64}, true}, Int64}})",
      "    @ Base.Broadcast ./broadcast.jl:978",
      " [23] copyto!",
      "    @ ./broadcast.jl:913 [inlined]",
      " [24] copy",
      "    @ ./broadcast.jl:885 [inlined]",
      " [25] materialize",
      "    @ ./broadcast.jl:860 [inlined]",
      " [26] coverage(xs::SubArray{Float32, 2, CuArray{Float32, 3, CUDA.Mem.DeviceBuffer}, Tuple{Int64, Base.Slice{Base.OneTo{Int64}}, Base.Slice{Base.OneTo{Int64}}}, true}, ys::SubArray{Float32, 2, CuArray{Float32, 3, CUDA.Mem.DeviceBuffer}, Tuple{Int64, Base.Slice{Base.OneTo{Int64}}, Base.Slice{Base.OneTo{Int64}}}, true}, wide::SubArray{Tuple{Float64, Float64}, 1, Matrix{Tuple{Float64, Float64}}, Tuple{Base.Slice{Base.OneTo{Int64}}, Int64}, true}, narrow::SubArray{Tuple{Float64, Float64}, 1, Matrix{Tuple{Float64, Float64}}, Tuple{Base.Slice{Base.OneTo{Int64}}, Int64}, true}, delta_true::Int64; pooled::Bool, alpha::Float64, alternative::String)",
      "    @ Main ./In[18]:2",
      " [27] #41",
      "    @ ./broadcast.jl:1283 [inlined]",
      " [28] _broadcast_getindex_evalf",
      "    @ ./broadcast.jl:670 [inlined]",
      " [29] _broadcast_getindex",
      "    @ ./broadcast.jl:643 [inlined]",
      " [30] getindex",
      "    @ ./broadcast.jl:597 [inlined]",
      " [31] copyto_nonleaf!(dest::Vector{Float64}, bc::Base.Broadcast.Broadcasted{Base.Broadcast.DefaultArrayStyle{1}, Tuple{Base.OneTo{Int64}}, Base.Broadcast.var\"#41#42\"{Base.Pairs{Symbol, Any, Tuple{Symbol, Symbol, Symbol}, NamedTuple{(:pooled, :alpha, :alternative), Tuple{Bool, Float64, String}}}, typeof(coverage)}, Tuple{Base.Broadcast.Extruded{Vector{SubArray{Float32, 2, CuArray{Float32, 3, CUDA.Mem.DeviceBuffer}, Tuple{Int64, Base.Slice{Base.OneTo{Int64}}, Base.Slice{Base.OneTo{Int64}}}, true}}, Tuple{Bool}, Tuple{Int64}}, Base.Broadcast.Extruded{Vector{SubArray{Float32, 2, CuArray{Float32, 3, CUDA.Mem.DeviceBuffer}, Tuple{Int64, Base.Slice{Base.OneTo{Int64}}, Base.Slice{Base.OneTo{Int64}}}, true}}, Tuple{Bool}, Tuple{Int64}}, Base.Broadcast.Extruded{Vector{SubArray{Tuple{Float64, Float64}, 1, Matrix{Tuple{Float64, Float64}}, Tuple{Base.Slice{Base.OneTo{Int64}}, Int64}, true}}, Tuple{Bool}, Tuple{Int64}}, Base.Broadcast.Extruded{Vector{SubArray{Tuple{Float64, Float64}, 1, Matrix{Tuple{Float64, Float64}}, Tuple{Base.Slice{Base.OneTo{Int64}}, Int64}, true}}, Tuple{Bool}, Tuple{Int64}}, Base.Broadcast.Extruded{Vector{Int64}, Tuple{Bool}, Tuple{Int64}}}}, iter::Base.OneTo{Int64}, state::Int64, count::Int64)",
      "    @ Base.Broadcast ./broadcast.jl:1055",
      " [32] copy(bc::Base.Broadcast.Broadcasted{Base.Broadcast.DefaultArrayStyle{1}, Tuple{Base.OneTo{Int64}}, Base.Broadcast.var\"#41#42\"{Base.Pairs{Symbol, Any, Tuple{Symbol, Symbol, Symbol}, NamedTuple{(:pooled, :alpha, :alternative), Tuple{Bool, Float64, String}}}, typeof(coverage)}, Tuple{Vector{SubArray{Float32, 2, CuArray{Float32, 3, CUDA.Mem.DeviceBuffer}, Tuple{Int64, Base.Slice{Base.OneTo{Int64}}, Base.Slice{Base.OneTo{Int64}}}, true}}, Vector{SubArray{Float32, 2, CuArray{Float32, 3, CUDA.Mem.DeviceBuffer}, Tuple{Int64, Base.Slice{Base.OneTo{Int64}}, Base.Slice{Base.OneTo{Int64}}}, true}}, Vector{SubArray{Tuple{Float64, Float64}, 1, Matrix{Tuple{Float64, Float64}}, Tuple{Base.Slice{Base.OneTo{Int64}}, Int64}, true}}, Vector{SubArray{Tuple{Float64, Float64}, 1, Matrix{Tuple{Float64, Float64}}, Tuple{Base.Slice{Base.OneTo{Int64}}, Int64}, true}}, Vector{Int64}}})",
      "    @ Base.Broadcast ./broadcast.jl:907",
      " [33] materialize(bc::Base.Broadcast.Broadcasted{Base.Broadcast.DefaultArrayStyle{1}, Nothing, Base.Broadcast.var\"#41#42\"{Base.Pairs{Symbol, Any, Tuple{Symbol, Symbol, Symbol}, NamedTuple{(:pooled, :alpha, :alternative), Tuple{Bool, Float64, String}}}, typeof(coverage)}, Tuple{Vector{SubArray{Float32, 2, CuArray{Float32, 3, CUDA.Mem.DeviceBuffer}, Tuple{Int64, Base.Slice{Base.OneTo{Int64}}, Base.Slice{Base.OneTo{Int64}}}, true}}, Vector{SubArray{Float32, 2, CuArray{Float32, 3, CUDA.Mem.DeviceBuffer}, Tuple{Int64, Base.Slice{Base.OneTo{Int64}}, Base.Slice{Base.OneTo{Int64}}}, true}}, Vector{SubArray{Tuple{Float64, Float64}, 1, Matrix{Tuple{Float64, Float64}}, Tuple{Base.Slice{Base.OneTo{Int64}}, Int64}, true}}, Vector{SubArray{Tuple{Float64, Float64}, 1, Matrix{Tuple{Float64, Float64}}, Tuple{Base.Slice{Base.OneTo{Int64}}, Int64}, true}}, Vector{Int64}}})",
      "    @ Base.Broadcast ./broadcast.jl:860",
      " [34] top-level scope",
      "    @ In[19]:1",
      " [35] eval",
      "    @ ./boot.jl:373 [inlined]",
      " [36] include_string(mapexpr::typeof(REPL.softscope), mod::Module, code::String, filename::String)",
      "    @ Base ./loading.jl:1196"
     ]
    }
   ],
   "source": [
    "results = coverage.(eachslice(x, dims=1),\n",
    "                    eachslice(y, dims=1),\n",
    "                    eachcol(wide),\n",
    "                    eachcol(narrow),\n",
    "                    deltas,\n",
    "                    pooled=pooled,\n",
    "                    alpha=alpha,\n",
    "                    alternative=alternative)\n",
    "\n",
    "\n",
    "outfile = \"results2.txt\"\n",
    "open(outfile, \"w\") do file\n",
    "    println(\n",
    "        file,\n",
    "        \"=======================\\n\",\n",
    "        \"alternative : \", alternative, \"\\n\",\n",
    "        \"pooled      : \", pooled, \"\\n\",\n",
    "        \"alpha       : \", alpha, \"\\n\",\n",
    "        \"=======================\"\n",
    "    )\n",
    "    for coverageProb in results\n",
    "        println(file, coverageProb)\n",
    "    end\n",
    "end"
   ]
  }
 ],
 "metadata": {
  "kernelspec": {
   "display_name": "Julia (16 threads) 1.7.1",
   "language": "julia",
   "name": "julia-(16-threads)-1.7"
  },
  "language_info": {
   "file_extension": ".jl",
   "mimetype": "application/julia",
   "name": "julia",
   "version": "1.7.1"
  }
 },
 "nbformat": 4,
 "nbformat_minor": 4
}
