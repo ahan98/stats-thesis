{
 "cells": [
  {
   "cell_type": "code",
   "execution_count": 1,
   "metadata": {},
   "outputs": [],
   "source": [
    "using CUDA, Random\n",
    "using GPUArrays: @allowscalar\n",
    "include(\"utils.jl\")\n",
    "CUDA.allowscalar(false)"
   ]
  },
  {
   "cell_type": "code",
   "execution_count": 2,
   "metadata": {},
   "outputs": [
    {
     "data": {
      "text/plain": [
       "7-element CuArray{Float32, 1, CUDA.Mem.DeviceBuffer}:\n",
       " -0.6457307\n",
       "  0.49224567\n",
       " -1.3416092\n",
       " -0.07616795\n",
       "  0.20607506\n",
       "  0.26140082\n",
       "  0.109018035"
      ]
     },
     "execution_count": 2,
     "metadata": {},
     "output_type": "execute_result"
    }
   ],
   "source": [
    "### Global variables\n",
    "S, nx, ny = 4, 4, 3\n",
    "px, py = partition(nx, ny)\n",
    "pooled = false\n",
    "DTYPE = Float32\n",
    "\n",
    "### Generate standard normal data\n",
    "Random.seed!(123)\n",
    "xs = randn(DTYPE, S, nx)\n",
    "ys = randn(DTYPE, S, ny)\n",
    "# move to GPU\n",
    "xs = cu(xs)\n",
    "ys = cu(ys)\n",
    "# get first pair\n",
    "x1 = xs[1,:]\n",
    "y1 = ys[1,:]\n",
    "data = vcat(x1, y1)"
   ]
  },
  {
   "cell_type": "code",
   "execution_count": 3,
   "metadata": {},
   "outputs": [
    {
     "data": {
      "text/plain": [
       "35×4 CuArray{Float32, 2, CUDA.Mem.DeviceBuffer}:\n",
       " -0.645731    0.492246   -1.34161    -0.0761679\n",
       " -0.645731    0.492246   -1.34161     0.206075\n",
       " -0.645731    0.492246   -1.34161     0.261401\n",
       " -0.645731    0.492246   -1.34161     0.109018\n",
       " -0.645731    0.492246   -0.0761679   0.206075\n",
       " -0.645731    0.492246   -0.0761679   0.261401\n",
       " -0.645731    0.492246   -0.0761679   0.109018\n",
       " -0.645731    0.492246    0.206075    0.261401\n",
       " -0.645731    0.492246    0.206075    0.109018\n",
       " -0.645731    0.492246    0.261401    0.109018\n",
       " -0.645731   -1.34161    -0.0761679   0.206075\n",
       " -0.645731   -1.34161    -0.0761679   0.261401\n",
       " -0.645731   -1.34161    -0.0761679   0.109018\n",
       "  ⋮                                  \n",
       "  0.492246   -1.34161     0.206075    0.261401\n",
       "  0.492246   -1.34161     0.206075    0.109018\n",
       "  0.492246   -1.34161     0.261401    0.109018\n",
       "  0.492246   -0.0761679   0.206075    0.261401\n",
       "  0.492246   -0.0761679   0.206075    0.109018\n",
       "  0.492246   -0.0761679   0.261401    0.109018\n",
       "  0.492246    0.206075    0.261401    0.109018\n",
       " -1.34161    -0.0761679   0.206075    0.261401\n",
       " -1.34161    -0.0761679   0.206075    0.109018\n",
       " -1.34161    -0.0761679   0.261401    0.109018\n",
       " -1.34161     0.206075    0.261401    0.109018\n",
       " -0.0761679   0.206075    0.261401    0.109018"
      ]
     },
     "execution_count": 3,
     "metadata": {},
     "output_type": "execute_result"
    }
   ],
   "source": [
    "data[px]  # returns GPU array even if index array is on CPU"
   ]
  },
  {
   "cell_type": "code",
   "execution_count": 4,
   "metadata": {},
   "outputs": [
    {
     "name": "stdout",
     "output_type": "stream",
     "text": [
      "Float32[0.6159249; 1.1902627; 1.1496912; 1.000899;;]\n",
      "Float32[0.6159249; 1.1902624; 1.1496912; 1.0008991;;]\n"
     ]
    }
   ],
   "source": [
    "function _mean(x, d)\n",
    "    d = ndims(x)\n",
    "    return sum(x, dims=d) ./ size(x, d)\n",
    "end\n",
    "\n",
    "\n",
    "function _var(x, d, means)\n",
    "    nx = size(x, d)\n",
    "    ss = sum(x.^2, dims=d)\n",
    "    return @. (ss - (nx * means.^2)) / (nx-1)\n",
    "end\n",
    "\n",
    "\n",
    "function _var(x, d)\n",
    "    means = _mean(x ,d)\n",
    "    return _var(x, d, means)\n",
    "end\n",
    "\n",
    "using Statistics\n",
    "println(Statistics.var(xs, dims=2))\n",
    "println(_var(xs, 2))"
   ]
  },
  {
   "cell_type": "code",
   "execution_count": 5,
   "metadata": {},
   "outputs": [
    {
     "name": "stdout",
     "output_type": "stream",
     "text": [
      "Float32[-1.481249]\n",
      "Float32[-1.481249; 0.68992394; 0.2269192; 0.047226395;;]\n"
     ]
    },
    {
     "data": {
      "text/plain": [
       "4-element Vector{CuArray{Float32, 1, CUDA.Mem.DeviceBuffer}}:\n",
       " Float32[-1.481249]\n",
       " Float32[0.68992394]\n",
       " Float32[0.2269192]\n",
       " Float32[0.047226395]"
      ]
     },
     "execution_count": 5,
     "metadata": {},
     "output_type": "execute_result"
    }
   ],
   "source": [
    "function t(xs, ys, pooled)\n",
    "    \"\"\"\n",
    "    Parameters\n",
    "    ----------\n",
    "    xs : AbstractArray{Real, N}\n",
    "        Data for group 1\n",
    "        If N == 1, then size(xs) = (nx,)\n",
    "        If N == 2, then size(xs) = (S, nx)\n",
    "    \n",
    "    ys : AbstractArray{Real, N}\n",
    "        Data for group 2\n",
    "        If N == 1, then size(ys) = (ny,)\n",
    "        If N == 2, then size(ys) = (S, ny)\n",
    "    \n",
    "    pooled : Bool\n",
    "        Assume equal/unequal variances for the two groups\n",
    "    \n",
    "    Returns\n",
    "    -------\n",
    "    S-element Vector{Float64}\n",
    "        t test statistic for each pair\n",
    "    \"\"\"\n",
    "    d = ndims(xs)  # if 1D vector, compute by column, if 2D matrix, compute by row\n",
    "\n",
    "    meanx = _mean(xs, d)\n",
    "    varx  = _var(xs, d, meanx)\n",
    "    \n",
    "    meany = _mean(ys, d)\n",
    "    vary = _var(ys, d, meany)\n",
    "\n",
    "    nx, ny = size(xs, d), size(ys, d)  # number of observations per group\n",
    "\n",
    "    if pooled\n",
    "        pooled_var = ((nx-1)*varx + (ny-1)*vary) / (nx+ny-2)\n",
    "        denom = sqrt.(pooled_var * (1/nx + 1/ny))\n",
    "    else\n",
    "        denom = sqrt.(varx/nx + vary/ny)\n",
    "    end\n",
    "\n",
    "    return (meanx-meany)./denom\n",
    "end\n",
    "\n",
    "\n",
    "println(t(x1, y1, pooled))            # 1D array input\n",
    "println(t(xs, ys, pooled))            # automatically vectorize for each row\n",
    "t.(eachrow(xs), eachrow(ys), pooled)  # dot syntax to vectorize for each row"
   ]
  },
  {
   "cell_type": "code",
   "execution_count": 7,
   "metadata": {},
   "outputs": [
    {
     "name": "stdout",
     "output_type": "stream",
     "text": [
      "0.2857142857142857\n",
      "0.5142857142857142\n",
      "0.7428571428571429\n",
      "0.9714285714285714\n"
     ]
    },
    {
     "data": {
      "text/plain": [
       "4-element Vector{Float64}:\n",
       " 0.2857142857142857\n",
       " 0.5142857142857142\n",
       " 0.7428571428571429\n",
       " 0.9714285714285714"
      ]
     },
     "execution_count": 7,
     "metadata": {},
     "output_type": "execute_result"
    }
   ],
   "source": [
    "function pval(x, y, pooled=false, alternative=\"two-sided\", delta=0)\n",
    "    \"\"\"\n",
    "    Parameters\n",
    "    ----------\n",
    "    x : Vector{Real}\n",
    "        Data for group 1\n",
    "    \n",
    "    y : Vector{Real}\n",
    "        Data for group 2\n",
    "    \n",
    "    pooled : Bool\n",
    "        Assume equal/unequal variances for the two groups\n",
    "    \n",
    "    alternative : String\n",
    "        Type of alternative hypothesis\n",
    "    \n",
    "    delta : Real\n",
    "        Null hypothesis difference in means\n",
    "    \n",
    "    Returns\n",
    "    -------\n",
    "    Float64\n",
    "        Proportion of pairs among all sample combinations which have\n",
    "        a test statistic as or more extreme than the original pair (x, y)\n",
    "    \"\"\"\n",
    "    \n",
    "    x_shift = x .- delta              # shift group 1 under null hypothesis\n",
    "    t_obs = t(x_shift, y, pooled)  # test statistic for observed data\n",
    "\n",
    "    combined = vcat(x_shift, y)  # join original pair into single vector\n",
    "    xs = combined[px]   # get all combinations of pairs from original pair\n",
    "    ys = combined[py]\n",
    "    ts = t(xs, ys, pooled)   # test statistic for all possible pairs of samples\n",
    "    \n",
    "    if alternative == \"smaller\"\n",
    "        n_extreme = count(ts .<= t_obs)\n",
    "    elseif alternative == \"larger\"\n",
    "        n_extreme = count(ts .>= t_obs)\n",
    "    else\n",
    "        n_extreme = count(@. (ts <= -abs(t_obs)) | (ts >= abs(t_obs)))\n",
    "    end\n",
    "\n",
    "    return n_extreme / size(px, 1)  # proportion of pairs w/ extreme test statistic\n",
    "    \n",
    "    \n",
    "end\n",
    "\n",
    "\n",
    "for i in 1:S\n",
    "    println(pval(xs[i,:], ys[i,:], pooled))  # Must accept 1D array input\n",
    "end\n",
    "pval.(eachrow(xs), eachrow(ys), pooled)      # But can be vectorized with dot syntax"
   ]
  },
  {
   "cell_type": "code",
   "execution_count": 10,
   "metadata": {},
   "outputs": [
    {
     "data": {
      "text/plain": [
       "4-element CuArray{Float32, 1, CUDA.Mem.DeviceBuffer}:\n",
       " -0.047495052\n",
       "  1.3215078\n",
       "  0.99111\n",
       "  0.7441092"
      ]
     },
     "execution_count": 10,
     "metadata": {},
     "output_type": "execute_result"
    }
   ],
   "source": [
    "using Distributions\n",
    "\n",
    "# TODO consider merging with ttest_ind()\n",
    "function tconf(x1, x2; pooled=true, alpha=0.05)\n",
    "    \"\"\"Returns (1-alpha)% t-test confidence interval for the difference in means.\n",
    "    Reference: http://www.stat.yale.edu/Courses/1997-98/101/meancomp.htm\n",
    "    Parameters\n",
    "    ----------\n",
    "    x1 : Vector{Int64}\n",
    "        Data for group 1\n",
    "    x2 : Vector{Int64}\n",
    "        Data for group 2\n",
    "    pooled : Bool\n",
    "        Assume pooled (equal) or unpooled (unequal) variances\n",
    "    alpha : Float64\n",
    "        Significance level\n",
    "    Returns\n",
    "    -------\n",
    "    Tuple{Float64, Float64}\n",
    "        (1-alpha)% t-test confidence interval for the difference in means\n",
    "    \"\"\"\n",
    "    d1, d2 = ndims(x1), ndims(x2)\n",
    "    n1, n2 = size(x1, d1), size(x2, d2)\n",
    "    \n",
    "    if pooled\n",
    "        dof = n1 + n2 - 2\n",
    "        var1 = var2 = ((n1-1).*var(x1, dims=d1) .+ (n2-2).*var(x2, dims=d2)) ./ dof\n",
    "        #var1, var2 = var(x1, dims=d1), var(x2, dims=d2)\n",
    "    else\n",
    "        dof = min(n1, n2) - 1\n",
    "        var1, var2 = var(x1, dims=d1), var(x2, dims=d2)\n",
    "    end\n",
    "\n",
    "    t = TDist(dof)\n",
    "    tcrit = quantile(t, 1-(alpha/2))\n",
    "    margin = @. tcrit * sqrt(var1/n1 + var2/n2)\n",
    "    diff = mean(x1, dims=d1) .- mean(x2, dims=d2)\n",
    "    return vcat(zip(diff .- margin, diff .+ margin)...)\n",
    "end\n",
    "\n",
    "wide   = @allowscalar tconf(xs, ys, alpha=0.0001)\n",
    "narrow = @allowscalar tconf(xs, ys, alpha=0.3)\n",
    "\n",
    "wide_lo   = cu([i for (i, _) in wide])\n",
    "wide_hi   = cu([i for (_, i) in wide])\n",
    "narrow_lo = cu([i for (i, _) in narrow])\n",
    "narrow_hi = cu([i for (-, i) in narrow])"
   ]
  },
  {
   "cell_type": "code",
   "execution_count": 8,
   "metadata": {},
   "outputs": [
    {
     "data": {
      "text/plain": [
       "search (generic function with 1 method)"
      ]
     },
     "execution_count": 8,
     "metadata": {},
     "output_type": "execute_result"
    }
   ],
   "source": [
    "function search(x, y, start, stop;\n",
    "                pooled=false, alternative=\"two-sided\", isLowerBound=true,\n",
    "                margin=0.005, threshold=1.0, alpha=0.05)\n",
    "    \n",
    "    p_start = pval(x, y, pooled, alternative, start)\n",
    "    p_end   = pval(x, y, pooled, alternative, stop)\n",
    "    #println(\"p_start = \", p_start, \", p_end = \", p_end)\n",
    "    \n",
    "    # p-values corresponding to `start` and `stop` must be on opposite sides of `alpha`\n",
    "    @assert (p_start - alpha) * (p_end - alpha) <= 0\n",
    "\n",
    "    p = p_new = delta = nothing\n",
    "    percent_change = (old, new) -> 100 * abs(new-old) / old\n",
    "    \n",
    "    i = 0\n",
    "    while true\n",
    "        i += 1\n",
    "        delta = (start + stop) / 2\n",
    "        p_new = pval(x, y, pooled, alternative, delta)\n",
    "\n",
    "        if !isnothing(p) && percent_change(p, p_new) <= threshold\n",
    "            break  # (1) percent change in p-value is below `threshold`\n",
    "        end\n",
    "        \n",
    "        compare = (alpha - p_new) - isLowerBound * 2 * (alpha - p_new)\n",
    "        if margin < compare\n",
    "            stop = delta\n",
    "        elseif margin < -compare\n",
    "            start = delta\n",
    "        else\n",
    "            break  # (2) p-value is within `margin` of `alpha`\n",
    "        end\n",
    "\n",
    "        p = p_new\n",
    "    end\n",
    "    \n",
    "    return delta\n",
    "end\n",
    "\n",
    "\n",
    "#search.(eachrow(xs), eachrow(ys), wide_lo, narrow_lo)"
   ]
  },
  {
   "cell_type": "code",
   "execution_count": 21,
   "metadata": {},
   "outputs": [
    {
     "name": "stdout",
     "output_type": "stream",
     "text": [
      "-2.5789237\n",
      "-2.415457\n",
      "-3.3115125\n",
      "-2.2412906\n"
     ]
    },
    {
     "data": {
      "text/plain": [
       "4-element Vector{CuArray{Float32, 1, CUDA.Mem.DeviceBuffer}}:\n",
       " Float32[-2.5789237]\n",
       " Float32[-2.415457]\n",
       " Float32[-3.3115125]\n",
       " Float32[-2.2412906]"
      ]
     },
     "execution_count": 21,
     "metadata": {},
     "output_type": "execute_result"
    }
   ],
   "source": [
    "for i in 1:S\n",
    "    println(@allowscalar search(xs[i,:], ys[i,:], wide_lo[i], narrow_lo[i]))\n",
    "end\n",
    "\n",
    "search.(eachrow(xs), eachrow(ys), eachrow(wide_lo), eachrow(narrow_lo))"
   ]
  },
  {
   "cell_type": "code",
   "execution_count": null,
   "metadata": {},
   "outputs": [],
   "source": []
  }
 ],
 "metadata": {
  "kernelspec": {
   "display_name": "Julia (8 threads) 1.7.1",
   "language": "julia",
   "name": "julia-(8-threads)-1.7"
  },
  "language_info": {
   "file_extension": ".jl",
   "mimetype": "application/julia",
   "name": "julia",
   "version": "1.7.1"
  }
 },
 "nbformat": 4,
 "nbformat_minor": 4
}
