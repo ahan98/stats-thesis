{
 "cells": [
  {
   "cell_type": "code",
   "execution_count": 1,
   "metadata": {},
   "outputs": [
    {
     "data": {
      "text/plain": [
       "_var (generic function with 2 methods)"
      ]
     },
     "execution_count": 1,
     "metadata": {},
     "output_type": "execute_result"
    }
   ],
   "source": [
    "using CUDA, Random\n",
    "using GPUArrays: @allowscalar\n",
    "CUDA.allowscalar(false)\n",
    "include(\"utils.jl\")\n",
    "include(\"statistics.jl\")"
   ]
  },
  {
   "cell_type": "code",
   "execution_count": 2,
   "metadata": {},
   "outputs": [
    {
     "data": {
      "text/plain": [
       "([-0.6457307 0.5931974 … 0.48432863 1.1067815; -1.4632514 -0.7684089 … -0.20241024 1.1486968; … ; -1.3416092 0.5053106 … 0.1707967 0.22824632; 0.41216165 -0.53829795 … -1.71712 0.59422016;;; 0.94035435 -0.68205047 … -1.5995136 1.4971732; -0.33309984 0.43087748 … -0.3802952 1.7855924; … ; 3.031836 -1.1985193 … 1.1820064 -0.13788761; -0.36440215 1.8255719 … -0.27137586 -0.66762507;;; 0.8151673 0.7156151 … 1.0914292 -0.26628616; 0.098473065 0.3785804 … -0.8792037 -0.25343972; … ; 1.5091707 -0.123943955 … 0.36522362 -1.0764854; -0.71137244 0.027235571 … 0.15584055 0.89249754;;; 1.7152905 -0.2818589 … 0.24685228 -0.0422467; 0.8787855 -2.3288715 … -1.4717366 -0.971406; … ; 0.15282853 -0.4139169 … -0.26430404 1.0259129; -0.3875826 -0.9293378 … 0.043618564 1.4719257], [-0.60569096 1.3072717 … -0.9987826 -0.8308392; -0.35481334 -0.4582605 … -1.1455126 0.10596891; … ; -0.038758337 0.42520037 … -0.14917293 -1.0552233; -0.7012483 0.50492907 … 0.99210846 -0.92516536;;; -0.85761726 0.19043577 … 0.32408527 -0.3246116; -0.19299386 -1.2721742 … 0.10052248 0.30286354; … ; 1.1895416 1.3259985 … -2.4082477 0.14508544; -1.6711968 -0.50563455 … -1.228557 2.564699;;; 0.7575185 -0.1120244 … 0.62162715 0.8648835; -1.1572272 -0.6517456 … -1.7134415 0.70220685; … ; 0.18550266 1.4435508 … 0.6351256 -0.45362183; -1.2550958 0.5802739 … 2.061869 -0.08208114], [(-6.37030689025947, 8.25337414051124) (-6.394165559994679, 7.121308788048726) … (-12.218862068846605, 13.004117798998735) (-2.7145699453163994, 4.607332844715203); (-5.690328801620802, 4.938991631019911) (-8.49691606035341, 8.941125159169328) … (-6.509128762244238, 3.763760758399023) (-8.476749290489613, 8.282956172489582); … ; (-8.270901112109279, 8.417829437404727) (-4.984310138949958, 5.3564416058154976) … (-6.237781205819955, 8.246172586130013) (-9.648398270038342, 7.53693281593678); (-5.919720841650574, 7.2611433994813845) (-8.374829239096359, 8.488858169760421) … (-5.741449190581422, 6.670515490973573) (-9.113880563620002, 9.22108821952668)], [(0.18549446943118575, 1.6975727808205843) (-0.33517364671869554, 1.0623168747727423) … (-0.9113913051495841, 1.6966470353017142) (0.5678416557989319, 1.3249212435998718); (-0.9252007057421187, 0.17386353514122754) (-0.6794360362240915, 1.1236451350400096) … (-1.9037887698254075, -0.8415792340198075) (-0.9633674250740705, 0.76957430707404); … ; (-0.789337325412764, 0.9362656507082123) (-0.3485474875415209, 0.7206789544070604) … (0.25538038346546776, 1.7530109968445908) (-1.9442082878371165, -0.16725716626444598); (-0.0107347572244203, 1.3521573150552308) (-0.8148322306991574, 0.92886116136322) … (-0.17716104968491753, 1.1062273500770683) (-0.894307596627858, 1.0015152525345352)])"
      ]
     },
     "execution_count": 2,
     "metadata": {},
     "output_type": "execute_result"
    }
   ],
   "source": [
    "# data dimensions\n",
    "B = 10  # num. coverage probabilities per boxplot\n",
    "S = 5   # num. samples per coverage probability\n",
    "nx = 4  # size of group 1\n",
    "ny = 3  # size of group 2\n",
    "\n",
    "# permutation test configuration\n",
    "pooled = false\n",
    "alpha = 0.05\n",
    "deltas = repeat([0], B)\n",
    "alternative = \"two_sided\"\n",
    "\n",
    "# Generate data\n",
    "Random.seed!(123)\n",
    "x = randn(Float32, (B, S, nx))\n",
    "y = randn(Float32, (B, S, ny))\n",
    "wide = tconf.(eachslice(x, dims=1), eachslice(y, dims=1), alpha=0.0001)\n",
    "wide = hcat(wide...)\n",
    "narrow = tconf.(eachslice(x, dims=1), eachslice(y, dims=1), alpha=0.3)\n",
    "narrow = hcat(narrow...)\n",
    "\n",
    "px, py = partition(nx, ny)\n",
    "\n",
    "# Move to GPU\n",
    "x, y, wide, narrow = cu(x), cu(y), cu(wide), cu(narrow)"
   ]
  },
  {
   "cell_type": "code",
   "execution_count": 3,
   "metadata": {},
   "outputs": [
    {
     "data": {
      "text/plain": [
       "5×4 CuArray{Float32, 2, CUDA.Mem.DeviceBuffer}:\n",
       " -0.645731   0.940354   0.815167   1.71529\n",
       "  0.593197  -0.68205    0.715615  -0.281859\n",
       "  0.261401   0.140672   3.14363    0.200474\n",
       "  0.484329  -1.59951    1.09143    0.246852\n",
       "  1.10678    1.49717   -0.266286  -0.0422467"
      ]
     },
     "execution_count": 3,
     "metadata": {},
     "output_type": "execute_result"
    }
   ],
   "source": [
    "# get first batch for debugging purposes\n",
    "x1, y1 = x[1,:,:], y[1,:,:]\n",
    "x1"
   ]
  },
  {
   "cell_type": "code",
   "execution_count": 4,
   "metadata": {},
   "outputs": [
    {
     "name": "stdout",
     "output_type": "stream",
     "text": [
      "0.2\n",
      "0.5142857142857142\n",
      "0.4857142857142857\n",
      "0.9142857142857143\n",
      "0.34285714285714286\n"
     ]
    },
    {
     "data": {
      "text/plain": [
       "5-element Vector{Float64}:\n",
       " 0.2\n",
       " 0.5142857142857142\n",
       " 0.4857142857142857\n",
       " 0.9142857142857143\n",
       " 0.34285714285714286"
      ]
     },
     "execution_count": 4,
     "metadata": {},
     "output_type": "execute_result"
    }
   ],
   "source": [
    "function pval(x, y, pooled=false, alternative=\"two-sided\", delta=0)\n",
    "    \"\"\"\n",
    "    Parameters\n",
    "    ----------\n",
    "    x : Vector{Real}\n",
    "        Data for group 1\n",
    "    \n",
    "    y : Vector{Real}\n",
    "        Data for group 2\n",
    "    \n",
    "    pooled : Bool\n",
    "        Assume equal/unequal variances for the two groups\n",
    "    \n",
    "    alternative : String\n",
    "        Type of alternative hypothesis\n",
    "    \n",
    "    delta : Real\n",
    "        Null hypothesis difference in means\n",
    "    \n",
    "    Returns\n",
    "    -------\n",
    "    Float64\n",
    "        Proportion of pairs among all sample combinations which have\n",
    "        a test statistic as or more extreme than the original pair (x, y)\n",
    "    \"\"\"\n",
    "    \n",
    "    x_shift = x .- delta              # shift group 1 under null hypothesis\n",
    "    t_obs = t(x_shift, y, pooled)  # test statistic for observed data\n",
    "\n",
    "    combined = vcat(x_shift, y)  # join original pair into single vector\n",
    "    xs = combined[px]   # get all combinations of pairs from original pair\n",
    "    ys = combined[py]\n",
    "    ts = t(xs, ys, pooled)   # test statistic for all possible pairs of samples\n",
    "    \n",
    "    if alternative == \"smaller\"\n",
    "        n_extreme = count(ts .<= t_obs)\n",
    "    elseif alternative == \"larger\"\n",
    "        n_extreme = count(ts .>= t_obs)\n",
    "    else\n",
    "        n_extreme = count(@. (ts <= -abs(t_obs)) | (ts >= abs(t_obs)))\n",
    "    end\n",
    "\n",
    "    return n_extreme / size(px, 1)  # proportion of pairs w/ extreme test statistic\n",
    "    \n",
    "end\n",
    "\n",
    "\n",
    "for i in 1:S\n",
    "    println(pval(x1[i,:], y1[i,:]))  # Must accept 1D array input\n",
    "end\n",
    "pval.(eachrow(x1), eachrow(y1))      # But can be vectorized with dot syntax"
   ]
  },
  {
   "cell_type": "code",
   "execution_count": 5,
   "metadata": {},
   "outputs": [
    {
     "data": {
      "text/plain": [
       "search (generic function with 1 method)"
      ]
     },
     "execution_count": 5,
     "metadata": {},
     "output_type": "execute_result"
    }
   ],
   "source": [
    "function search(x, y, start, stop;\n",
    "                pooled=false, alternative=\"two-sided\", isLowerBound=true,\n",
    "                margin=0.005, threshold=1.0, alpha=0.05)\n",
    "    \n",
    "    p_start = pval(x, y, pooled, alternative, start)\n",
    "    p_end   = pval(x, y, pooled, alternative, stop)\n",
    "    #println(\"p_start = \", p_start, \", p_end = \", p_end)\n",
    "    \n",
    "    # p-values corresponding to `start` and `stop` must be on opposite sides of `alpha`\n",
    "    @assert (p_start - alpha) * (p_end - alpha) <= 0\n",
    "\n",
    "    p = p_new = delta = nothing\n",
    "    percent_change = (old, new) -> 100 * abs(new-old) / old\n",
    "    \n",
    "    i = 0\n",
    "    while true\n",
    "        i += 1\n",
    "        delta = (start + stop) / 2\n",
    "        p_new = pval(x, y, pooled, alternative, delta)\n",
    "\n",
    "        if !isnothing(p) && percent_change(p, p_new) <= threshold\n",
    "            break  # (1) percent change in p-value is below `threshold`\n",
    "        end\n",
    "        \n",
    "        compare = (alpha - p_new) - isLowerBound * 2 * (alpha - p_new)\n",
    "        if margin < compare\n",
    "            stop = delta\n",
    "        elseif margin < -compare\n",
    "            start = delta\n",
    "        else\n",
    "            break  # (2) p-value is within `margin` of `alpha`\n",
    "        end\n",
    "\n",
    "        p = p_new\n",
    "    end\n",
    "    \n",
    "    return delta\n",
    "end"
   ]
  },
  {
   "cell_type": "code",
   "execution_count": 6,
   "metadata": {},
   "outputs": [
    {
     "data": {
      "text/plain": [
       "permInterval (generic function with 1 method)"
      ]
     },
     "execution_count": 6,
     "metadata": {},
     "output_type": "execute_result"
    }
   ],
   "source": [
    "function permInterval(x, y, wide, narrow, delta_true; pooled=false, alpha=0.05, alternative=\"two_sided\")\n",
    "    \"\"\"Returns true (false) if permutation test confidence interval does (not) include difference in\n",
    "    population means.\n",
    "    Parameters\n",
    "    ----------\n",
    "    x1 : Vector{Float64}\n",
    "        Data for group 1\n",
    "    x2 : Vector{Float64}\n",
    "        Data for group 2\n",
    "    partitions : Tuple{Matrix{Int64}, Matrix{Int64}}\n",
    "        The i-th rows of x1[partitions[1]] and x2[partitions[2]] denote the i-th arrangement of\n",
    "        the original (n1+n2) observations into two groups of size n1 and n2.\n",
    "    delta_true : Float64\n",
    "        Difference in population means\n",
    "    pooled : Bool\n",
    "        Assume pooled or unpooled variances\n",
    "    alpha : Float64\n",
    "        Significance level\n",
    "    alternative : String\n",
    "        Type of alternative hypothesis (\"two-sided\", \"smaller\", \"larger\")\n",
    "    Returns\n",
    "    -------\n",
    "    Bool\n",
    "        True (false) if permutation test confidence interval does (not) include difference in population means.\n",
    "    \"\"\"\n",
    "\n",
    "    # use binary search to find approximate permutation test confidence interval\n",
    "    lo = search(x, y, wide[1], narrow[1],\n",
    "                pooled=pooled, alpha=alpha, alternative=alternative, isLowerBound=true)\n",
    "    hi = search(x, y, narrow[2], wide[2],\n",
    "                pooled=pooled, alpha=alpha, alternative=alternative, isLowerBound=false)\n",
    "    # println(\"(\", lo, \", \", hi, \")\")\n",
    "    return lo <= delta_true <= hi\n",
    "end"
   ]
  },
  {
   "cell_type": "code",
   "execution_count": 7,
   "metadata": {},
   "outputs": [
    {
     "data": {
      "text/plain": [
       "coverage (generic function with 1 method)"
      ]
     },
     "execution_count": 7,
     "metadata": {},
     "output_type": "execute_result"
    }
   ],
   "source": [
    "function coverage(xs, ys, wide, narrow, delta_true; pooled=false, alpha=0.05, alternative=\"two_sided\")\n",
    "    covered = permInterval.(eachrow(xs), eachrow(ys), wide, narrow, delta_true,\n",
    "                            pooled=pooled, alpha=alpha, alternative=alternative)\n",
    "    return count(covered) / S\n",
    "end"
   ]
  },
  {
   "cell_type": "code",
   "execution_count": null,
   "metadata": {},
   "outputs": [],
   "source": [
    "coverage.(eachslice(x, dims=1),\n",
    "          eachslice(y, dims=1),\n",
    "          eachcol(wide),\n",
    "          eachcol(narrow),\n",
    "          eachrow(deltas),\n",
    "          pooled=pooled,\n",
    "          alpha=alpha,\n",
    "          alternative=alternative)"
   ]
  }
 ],
 "metadata": {
  "kernelspec": {
   "display_name": "Julia (16 threads) 1.7.1",
   "language": "julia",
   "name": "julia-(16-threads)-1.7"
  },
  "language_info": {
   "file_extension": ".jl",
   "mimetype": "application/julia",
   "name": "julia",
   "version": "1.7.1"
  }
 },
 "nbformat": 4,
 "nbformat_minor": 4
}
