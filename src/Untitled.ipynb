{
 "cells": [
  {
   "cell_type": "code",
   "execution_count": 65,
   "id": "d83161ad",
   "metadata": {},
   "outputs": [],
   "source": [
    "using Random\n",
    "using Distributions\n",
    "using StatsBase\n",
    "using FLoops\n",
    "\n",
    "include(\"main.jl\")"
   ]
  },
  {
   "cell_type": "code",
   "execution_count": 70,
   "id": "6c66990c",
   "metadata": {},
   "outputs": [
    {
     "name": "stdout",
     "output_type": "stream",
     "text": [
      "(x[:, 1, 1])[1] = 0.8590659f0\n"
     ]
    }
   ],
   "source": [
    "\"\"\"\n",
    "DATA CONFIG\n",
    "\"\"\"\n",
    "alpha = 0.05\n",
    "\n",
    "# data\n",
    "B  = 1    # num. coverage probabilities per boxplot\n",
    "S  = 1800   # num. samples per coverage probability\n",
    "nx = 8      # size of group 1\n",
    "ny = 8      # size of group 2\n",
    "dtype = Float32\n",
    "seed = 123\n",
    "\n",
    "\"\"\"\n",
    "POPULATION SETTINGS\n",
    "\"\"\"\n",
    "\n",
    "Random.seed!(seed)\n",
    "distrTypeX = LogNormal{dtype}\n",
    "muX = dtype.(round.(rand(Uniform(0, 1), B), digits=4))\n",
    "sdX = 2 * muX\n",
    "paramsX = (muX, sdX)\n",
    "\n",
    "distrTypeY = LogNormal{dtype}\n",
    "muY = dtype.(round.(rand(Uniform(0, 1), B), digits=4))\n",
    "sdY = 2 * muY\n",
    "paramsY = (muY, sdY)\n",
    "\n",
    "\n",
    "@time main(B, S, nx, ny, distrTypeX, paramsX, distrTypeY, paramsY, dtype=dtype, seed=seed)"
   ]
  }
 ],
 "metadata": {
  "kernelspec": {
   "display_name": "Julia 1.7.1",
   "language": "julia",
   "name": "julia-1.7"
  },
  "language_info": {
   "file_extension": ".jl",
   "mimetype": "application/julia",
   "name": "julia",
   "version": "1.7.1"
  }
 },
 "nbformat": 4,
 "nbformat_minor": 5
}
