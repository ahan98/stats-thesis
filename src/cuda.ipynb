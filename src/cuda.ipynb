{
 "cells": [
  {
   "cell_type": "code",
   "execution_count": 1,
   "id": "efdeb95d",
   "metadata": {},
   "outputs": [],
   "source": [
    "from scipy.stats import ttest_ind\n",
    "import numpy as np\n",
    "from utils import partition\n",
    "from perm_test import permInterval, pval, tconf"
   ]
  },
  {
   "cell_type": "code",
   "execution_count": 2,
   "id": "c51f8af7",
   "metadata": {},
   "outputs": [
    {
     "data": {
      "text/plain": [
       "array([ 0.02288745,  2.0926654 , -0.43440118,  0.60474104,  2.0320015 ,\n",
       "       -1.2283934 ,  0.7599544 ,  0.34247264, -0.5637238 ,  0.064959  ,\n",
       "        0.35305887,  2.3999612 , -1.6936734 ,  0.21588634,  1.1284194 ,\n",
       "       -0.88623947, -0.7898006 ,  1.2211282 , -1.0268205 , -1.0317919 ,\n",
       "        1.0080342 ,  1.1724267 , -0.22055963, -1.3208809 ,  1.6397921 ,\n",
       "        0.24637549, -2.0423365 ,  1.224522  ,  0.6851538 , -0.0684469 ,\n",
       "       -0.01847662, -0.37820017, -1.7693397 , -0.7219246 ,  1.3305384 ,\n",
       "       -0.1906493 ,  0.50128424, -1.3641483 ,  0.5594391 ,  0.5448983 ,\n",
       "        0.29982695, -1.9513791 , -0.49591184,  0.2882335 ,  0.748388  ,\n",
       "       -0.86470735,  0.5089196 ,  0.18490031, -0.329755  , -0.00321723,\n",
       "        1.9339507 ,  1.1011589 , -0.7417909 , -0.5083448 , -0.6956452 ,\n",
       "        0.37978023,  0.71493536,  0.4924357 ,  0.596291  ,  0.5522851 ,\n",
       "        1.1185036 , -1.480141  ,  0.83585465, -2.5387344 ], dtype=float32)"
      ]
     },
     "execution_count": 2,
     "metadata": {},
     "output_type": "execute_result"
    }
   ],
   "source": [
    "n, n1, n2 = 64, 12, 8\n",
    "np.random.seed(123)\n",
    "x1s = np.random.normal(size=(n, n1)).astype(\"f\")\n",
    "x2s = np.random.normal(size=(n, n2)).astype(\"f\")\n",
    "ts = ttest_ind(x1s, x2s, axis=-1).statistic\n",
    "ts"
   ]
  },
  {
   "cell_type": "code",
   "execution_count": 3,
   "id": "886b6195-cfba-43a4-8354-d27001fffcbd",
   "metadata": {},
   "outputs": [
    {
     "data": {
      "text/plain": [
       "(64, 20)"
      ]
     },
     "execution_count": 3,
     "metadata": {},
     "output_type": "execute_result"
    }
   ],
   "source": [
    "data = np.hstack((x1s, x2s))\n",
    "data.shape"
   ]
  },
  {
   "cell_type": "code",
   "execution_count": 4,
   "id": "69c442a0",
   "metadata": {},
   "outputs": [
    {
     "data": {
      "text/plain": [
       "0.022887447471290987"
      ]
     },
     "execution_count": 4,
     "metadata": {},
     "output_type": "execute_result"
    }
   ],
   "source": [
    "x1, x2 = x1s[0], x2s[0]\n",
    "t_obs = ttest_ind(x1, x2, axis=-1).statistic\n",
    "t_obs"
   ]
  },
  {
   "cell_type": "code",
   "execution_count": 5,
   "id": "c3c231fd",
   "metadata": {},
   "outputs": [
    {
     "data": {
      "text/plain": [
       "array([[ 0,  1,  2, ..., 17, 18, 19],\n",
       "       [ 0,  1,  2, ..., 17, 18, 19],\n",
       "       [ 0,  1,  2, ..., 17, 18, 19],\n",
       "       ...,\n",
       "       [ 7,  8, 10, ...,  5,  6,  9],\n",
       "       [ 7,  9, 10, ...,  5,  6,  8],\n",
       "       [ 8,  9, 10, ...,  5,  6,  7]])"
      ]
     },
     "execution_count": 5,
     "metadata": {},
     "output_type": "execute_result"
    }
   ],
   "source": [
    "parts = partition(n1, n2)\n",
    "parts"
   ]
  },
  {
   "cell_type": "code",
   "execution_count": 6,
   "id": "d5ae3001",
   "metadata": {},
   "outputs": [
    {
     "data": {
      "text/plain": [
       "True"
      ]
     },
     "execution_count": 6,
     "metadata": {},
     "output_type": "execute_result"
    }
   ],
   "source": [
    "permInterval(x1, x2, parts, 0)"
   ]
  },
  {
   "cell_type": "code",
   "execution_count": 7,
   "id": "61091fa1-2619-482c-b20f-d395e19ae6a6",
   "metadata": {},
   "outputs": [],
   "source": [
    "from numba import vectorize\n",
    "\n",
    "@vectorize(['float32(float32)'],target='cuda')\n",
    "def gpu_normalize(x):\n",
    "    return x / 255"
   ]
  },
  {
   "cell_type": "code",
   "execution_count": 8,
   "id": "c0e16300-5ae2-4720-a59a-4f78cca1fd8a",
   "metadata": {},
   "outputs": [],
   "source": [
    "from numba import cuda\n",
    "\n",
    "@cuda.jit(device=True)\n",
    "def add(array): \n",
    "  acc = 0\n",
    "  for val in array: \n",
    "    acc += abs(val)\n",
    "  return math.sqrt(acc)\n",
    "\n",
    "#@guvectorize(['(float32[:], float32[:])'],\n",
    "#             '(n)->()',                \n",
    "#             target='cuda')\n",
    "@cuda.jit\n",
    "def gpu_average(array, out):\n",
    "    out[0] = add(array)/len(array)"
   ]
  },
  {
   "cell_type": "code",
   "execution_count": 55,
   "id": "6c70e88e-4d70-47b4-ac67-1d8f6711f05b",
   "metadata": {},
   "outputs": [],
   "source": [
    "from numba import cuda\n",
    "\n",
    "@cuda.jit\n",
    "def gpu_sqrt_kernel(x, out, parts):\n",
    "    idx = cuda.grid(1)\n",
    "    data = x[idx]\n",
    "    x1, x2 = data[:n1], data[n1:]\n",
    "    out[idx] = add(x1)"
   ]
  },
  {
   "cell_type": "code",
   "execution_count": 30,
   "id": "97aa48c8-1f15-4257-9097-e72da2c90648",
   "metadata": {},
   "outputs": [
    {
     "name": "stdout",
     "output_type": "stream",
     "text": [
      "[[1. 1. 1. ... 1. 1. 1.]\n",
      " [1. 1. 1. ... 1. 1. 1.]\n",
      " [1. 1. 1. ... 1. 1. 1.]\n",
      " ...\n",
      " [1. 1. 1. ... 1. 1. 1.]\n",
      " [1. 1. 1. ... 1. 1. 1.]\n",
      " [1. 1. 1. ... 1. 1. 1.]]\n"
     ]
    },
    {
     "name": "stderr",
     "output_type": "stream",
     "text": [
      "/home/ubuntu/.local/lib/python3.8/site-packages/numba/cuda/compiler.py:724: NumbaPerformanceWarning: \u001b[1mGrid size (32) < 2 * SM count (168) will likely result in GPU under utilization due to low occupancy.\u001b[0m\n",
      "  warn(NumbaPerformanceWarning(msg))\n"
     ]
    }
   ],
   "source": [
    "# move input data to the device\n",
    "d_in = cuda.to_device(data)\n",
    "# create output data on the device\n",
    "d_out = cuda.device_array_like(d_in)\n",
    "d_parts = cuda.to_device(parts)\n",
    "\n",
    "# we decide to use 32 blocks, each containing 128 threads\n",
    "blocks_per_grid = 32\n",
    "threads_per_block = 128\n",
    "gpu_sqrt_kernel[blocks_per_grid, threads_per_block](d_in, d_out, d_parts)\n",
    "# wait for all threads to complete\n",
    "cuda.synchronize()\n",
    "# copy the output array back to the host system\n",
    "# and print it\n",
    "print(d_out.copy_to_host())"
   ]
  },
  {
   "cell_type": "code",
   "execution_count": 69,
   "id": "ff4ee2d9-2654-466a-8d7d-0bdc6d5f6fcd",
   "metadata": {},
   "outputs": [],
   "source": [
    "@cuda.jit('float32(float32, float32, float32)', device=True)\n",
    "def cu_device_fn(x, y, z):\n",
    "    return x ** y / z\n",
    "\n",
    "# define a ufunc that calls our device function\n",
    "@vectorize(['float32(float32, float32, float32)'], target='cuda')\n",
    "def cu_ufunc(x, y, z):\n",
    "    return cu_device_fn(x, y, z)"
   ]
  },
  {
   "cell_type": "code",
   "execution_count": 70,
   "id": "178af744-f0f0-4608-851b-6268c0916a81",
   "metadata": {},
   "outputs": [
    {
     "name": "stderr",
     "output_type": "stream",
     "text": [
      "/home/ubuntu/.local/lib/python3.8/site-packages/numba/cuda/compiler.py:724: NumbaPerformanceWarning: \u001b[1mGrid size (1) < 2 * SM count (168) will likely result in GPU under utilization due to low occupancy.\u001b[0m\n",
      "  warn(NumbaPerformanceWarning(msg))\n"
     ]
    },
    {
     "data": {
      "text/plain": [
       "array([49.999996], dtype=float32)"
      ]
     },
     "execution_count": 70,
     "metadata": {},
     "output_type": "execute_result"
    }
   ],
   "source": [
    "cu_ufunc(10, 2, 2)"
   ]
  },
  {
   "cell_type": "code",
   "execution_count": 54,
   "id": "cdccdf51-d631-4c85-9072-4b21dcb8622b",
   "metadata": {},
   "outputs": [
    {
     "data": {
      "text/plain": [
       "12.706204736432095"
      ]
     },
     "execution_count": 54,
     "metadata": {},
     "output_type": "execute_result"
    }
   ],
   "source": [
    "from numba_stats import t\n",
    "\n",
    "t.ppf(0.975, 1, 0, 1)"
   ]
  },
  {
   "cell_type": "code",
   "execution_count": 71,
   "id": "a84c635c-9f14-4ef2-bf7f-1b2da9e7cb0d",
   "metadata": {},
   "outputs": [],
   "source": [
    "@vectorize(['float32(float32, int32, float32, float32)'], target='cuda')\n",
    "def tcuda(p, df, mean, var):\n",
    "    # return t.ppf(p, df, mean, var)\n",
    "    return 1.0"
   ]
  },
  {
   "cell_type": "code",
   "execution_count": 72,
   "id": "6716488e-d416-49fc-afaf-04c58cf197e0",
   "metadata": {},
   "outputs": [
    {
     "name": "stderr",
     "output_type": "stream",
     "text": [
      "/home/ubuntu/.local/lib/python3.8/site-packages/numba/cuda/compiler.py:724: NumbaPerformanceWarning: \u001b[1mGrid size (1) < 2 * SM count (168) will likely result in GPU under utilization due to low occupancy.\u001b[0m\n",
      "  warn(NumbaPerformanceWarning(msg))\n"
     ]
    },
    {
     "data": {
      "text/plain": [
       "array([1.])"
      ]
     },
     "execution_count": 72,
     "metadata": {},
     "output_type": "execute_result"
    }
   ],
   "source": [
    "tcuda(0.3, 1, 0, 1)"
   ]
  }
 ],
 "metadata": {
  "kernelspec": {
   "display_name": "Python 3 (ipykernel)",
   "language": "python",
   "name": "python3"
  },
  "language_info": {
   "codemirror_mode": {
    "name": "ipython",
    "version": 3
   },
   "file_extension": ".py",
   "mimetype": "text/x-python",
   "name": "python",
   "nbconvert_exporter": "python",
   "pygments_lexer": "ipython3",
   "version": "3.8.10"
  }
 },
 "nbformat": 4,
 "nbformat_minor": 5
}
