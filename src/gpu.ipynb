{
 "cells": [
  {
   "cell_type": "markdown",
   "metadata": {},
   "source": [
    "# Setup"
   ]
  },
  {
   "cell_type": "code",
   "execution_count": 1,
   "metadata": {},
   "outputs": [
    {
     "data": {
      "text/plain": [
       "8"
      ]
     },
     "execution_count": 1,
     "metadata": {},
     "output_type": "execute_result"
    }
   ],
   "source": [
    "Threads.nthreads()"
   ]
  },
  {
   "cell_type": "code",
   "execution_count": 1,
   "metadata": {},
   "outputs": [],
   "source": [
    "using Distributed, Folds, FLoops\n",
    "using Random, Distributions"
   ]
  },
  {
   "cell_type": "code",
   "execution_count": 2,
   "metadata": {},
   "outputs": [
    {
     "data": {
      "text/plain": [
       "partition (generic function with 1 method)"
      ]
     },
     "execution_count": 2,
     "metadata": {},
     "output_type": "execute_result"
    }
   ],
   "source": [
    "include(\"perm_test.jl\")\n",
    "include(\"partition.jl\")"
   ]
  },
  {
   "cell_type": "code",
   "execution_count": 4,
   "metadata": {},
   "outputs": [
    {
     "data": {
      "text/plain": [
       "256×20 Matrix{Float64}:\n",
       " -0.645731     1.34194    -0.19564   -1.05875    …  -1.35274    -0.370654\n",
       " -1.46325     -1.18862    -0.915458  -0.920206       1.14854    -0.921302\n",
       " -1.6236       1.18954    -0.167391   2.08291        0.297835   -0.483097\n",
       " -0.217665    -1.6712     -0.75522   -0.281233       0.425549    1.91035\n",
       "  0.492246     0.190436   -1.00009    0.0599196     -0.260339   -1.41726\n",
       "  0.98098     -1.27217    -0.498621   0.179808   …   1.58057    -0.460531\n",
       "  0.0799568   -0.803196    0.802551  -0.437841      -0.936614   -0.243236\n",
       "  1.54912      1.97076     0.146786   0.0807004     -1.3201      1.90304\n",
       " -1.34161      1.54823    -0.922078   1.58911       -0.114953    0.109298\n",
       "  0.412162    -0.126723    1.22042    0.668593      -0.399888   -0.910424\n",
       "  0.593197     0.174584   -0.223876   0.749044   …  -0.372004   -0.0788338\n",
       " -0.768409     0.267046   -0.966475  -0.163043      -1.16322    -0.253188\n",
       " -0.0761679    1.326      -0.950514   1.42283        1.16112     0.874681\n",
       "  ⋮                                              ⋱              \n",
       " -0.00399714  -0.798842    0.297035   0.033951       1.08248    -0.729412\n",
       "  0.153829    -2.06012    -1.59517   -0.506355   …   1.58232     1.14605\n",
       " -0.657564    -1.95857    -1.60127    0.455424       1.9772     -1.30463\n",
       "  2.42093      0.0867775  -1.29443    0.947003       0.39451     1.09171\n",
       " -1.05522      0.739542    1.30924   -1.44439       -0.195158    1.17554\n",
       " -0.925165    -0.430667   -0.969424  -1.2785         1.55091     0.363222\n",
       " -0.857617     0.779092    1.30686    1.1397     …   0.952342    1.09501\n",
       " -0.192994     0.857337   -0.498421  -0.888869      -0.598934    0.0109003\n",
       " -0.791916     0.728794   -0.95179    0.220856      -0.0577762  -0.408445\n",
       " -1.21288      0.671962    0.222213   0.24831       -0.802645   -2.15605\n",
       " -1.66074     -0.675715    0.425228   0.941992      -0.126661   -0.327728\n",
       "  0.494462    -0.983256    1.16919   -2.27302    …   0.765671   -1.46501"
      ]
     },
     "execution_count": 4,
     "metadata": {},
     "output_type": "execute_result"
    }
   ],
   "source": [
    "n, n1, n2 = 256, 12, 8\n",
    "d = Normal()\n",
    "delta_true = 0\n",
    "parts = partition(n1, n2)\n",
    "Random.seed!(123)\n",
    "x1s = rand(d, (n, n1))\n",
    "x2s = rand(d, (n, n2))\n",
    "data = hcat(x1s, x2s)"
   ]
  },
  {
   "cell_type": "code",
   "execution_count": 5,
   "metadata": {},
   "outputs": [
    {
     "data": {
      "text/plain": [
       "(-0.41835631489929964, 0.2257538708992997)"
      ]
     },
     "execution_count": 5,
     "metadata": {},
     "output_type": "execute_result"
    }
   ],
   "source": [
    "x1 = [0.69646919, 0.28613933, 0.22685145, 0.55131477, 0.71946897]\n",
    "x2 = [0.42310646, 0.9807642 , 0.68482974, 0.4809319 , 0.39211752]\n",
    "tconf(x1, x2)  # (-0.4422928901381373, 0.2496904486215163)"
   ]
  },
  {
   "cell_type": "code",
   "execution_count": 6,
   "metadata": {},
   "outputs": [
    {
     "data": {
      "text/plain": [
       "1-element Vector{Float64}:\n",
       " -0.6418391945147361"
      ]
     },
     "execution_count": 6,
     "metadata": {},
     "output_type": "execute_result"
    }
   ],
   "source": [
    "ttest_ind(x1, x2, true)"
   ]
  },
  {
   "cell_type": "code",
   "execution_count": 7,
   "metadata": {},
   "outputs": [
    {
     "data": {
      "text/plain": [
       "([1 2 … 4 5; 1 2 … 4 6; … ; 5 7 … 9 10; 6 7 … 9 10], [10 9 … 7 6; 10 9 … 7 5; … ; 6 4 … 2 1; 5 4 … 2 1])"
      ]
     },
     "execution_count": 7,
     "metadata": {},
     "output_type": "execute_result"
    }
   ],
   "source": [
    "pooled, alpha, alternative = true, 0.05, \"two-sided\"\n",
    "parts1, parts2 = partition(length(x1), length(x2))"
   ]
  },
  {
   "cell_type": "code",
   "execution_count": 13,
   "metadata": {},
   "outputs": [
    {
     "data": {
      "text/plain": [
       "true"
      ]
     },
     "execution_count": 13,
     "metadata": {},
     "output_type": "execute_result"
    }
   ],
   "source": [
    "permInterval(x1, x2, parts1, parts2, 0)"
   ]
  },
  {
   "cell_type": "code",
   "execution_count": 63,
   "metadata": {},
   "outputs": [],
   "source": [
    "# p_start = 0.023809523809523808, p_end= 0.09523809523809523\n",
    "# p_start = 0.12698412698412698,  p_end= 0.007936507936507936"
   ]
  },
  {
   "cell_type": "markdown",
   "metadata": {},
   "source": [
    "---"
   ]
  },
  {
   "cell_type": "markdown",
   "metadata": {},
   "source": [
    "# CPU Programming"
   ]
  },
  {
   "cell_type": "code",
   "execution_count": null,
   "metadata": {},
   "outputs": [],
   "source": [
    "x = data[1,:]\n",
    "x1, x2 = x[1:n1], x[n1+1:end]\n",
    "@time permInterval(x1, x2, parts, delta_true)"
   ]
  },
  {
   "cell_type": "code",
   "execution_count": null,
   "metadata": {},
   "outputs": [],
   "source": [
    "@time @distributed (+) for i in 1:n\n",
    "    permInterval(data[i, 1:n1], data[i, n1+1:end], parts, delta_true)\n",
    "end"
   ]
  },
  {
   "cell_type": "code",
   "execution_count": null,
   "metadata": {},
   "outputs": [],
   "source": [
    "@time @floop for row in eachrow(data)\n",
    "    @reduce(coverage += permInterval(row[1:n1], row[n1+1:end], parts, delta_true))\n",
    "end"
   ]
  },
  {
   "cell_type": "code",
   "execution_count": null,
   "metadata": {},
   "outputs": [],
   "source": [
    "@time Folds.reduce(+, Folds.map(x -> permInterval(x[1:n1], x[n1+1:end], parts, delta_true), eachrow(data)))"
   ]
  },
  {
   "cell_type": "markdown",
   "metadata": {},
   "source": [
    "---"
   ]
  },
  {
   "cell_type": "markdown",
   "metadata": {},
   "source": [
    "# GPU Programming"
   ]
  },
  {
   "cell_type": "code",
   "execution_count": 3,
   "metadata": {},
   "outputs": [
    {
     "data": {
      "text/plain": [
       "1024×8 CuArray{Float64, 2, CUDA.Mem.DeviceBuffer}:\n",
       " 0.919181   0.292579   0.825846   …  0.0617123  0.741307   0.979005\n",
       " 0.426019   0.149323   0.489151      0.976627   0.772621   0.414016\n",
       " 0.746586   0.188196   0.699858      0.840765   0.314378   0.474786\n",
       " 0.819201   0.566957   0.539838      0.120534   0.440371   0.926076\n",
       " 0.954159   0.0496869  0.948309      0.999903   0.911686   0.574866\n",
       " 0.845895   0.506965   0.0744135  …  0.635452   0.706518   0.824061\n",
       " 0.586749   0.0930013  0.0117718     0.771802   0.915362   0.303661\n",
       " 0.121813   0.997974   0.398319      0.674117   0.935987   0.963485\n",
       " 0.789493   0.709287   0.143511      0.0295761  0.993146   0.265231\n",
       " 0.619259   0.910902   0.241169      0.533718   0.874191   0.0167825\n",
       " 0.477645   0.436953   0.220376   …  0.373497   0.109393   0.71381\n",
       " 0.804193   0.673175   0.129352      0.875639   0.503859   0.0513694\n",
       " 0.123538   0.6756     0.303669      0.694664   0.481859   0.681448\n",
       " ⋮                                ⋱  ⋮                     \n",
       " 0.722624   0.636694   0.459694      0.171791   0.298695   0.481576\n",
       " 0.21389    0.578567   0.483752      0.220186   0.519123   0.816838\n",
       " 0.141777   0.431944   0.460532      0.193016   0.0583541  0.241047\n",
       " 0.785873   0.265588   0.837426   …  0.189284   0.710663   0.89264\n",
       " 0.592765   0.237982   0.634604      0.107973   0.846666   0.73253\n",
       " 0.252843   0.0723859  0.968748      0.461967   0.487343   0.97738\n",
       " 0.141472   0.261119   0.942569      0.747633   0.495394   0.455912\n",
       " 0.348334   0.0708358  0.372984      0.455545   0.356611   0.453434\n",
       " 0.473375   0.973624   0.382234   …  0.427954   0.181404   0.828319\n",
       " 0.298998   0.278812   0.821165      0.406277   0.0550423  0.333214\n",
       " 0.0769627  0.76252    0.971892      0.40659    0.160547   0.926819\n",
       " 0.486571   0.0158257  0.343417      0.665925   0.823091   0.846194"
      ]
     },
     "execution_count": 3,
     "metadata": {},
     "output_type": "execute_result"
    }
   ],
   "source": [
    "using CUDA, Test, Random\n",
    "\n",
    "N = 2^10\n",
    "n1, n2 = 12, 8\n",
    "Random.seed!(123)\n",
    "x1 = CuArray(rand(N, n1))\n",
    "x2 = CuArray(rand(N, n2))"
   ]
  },
  {
   "cell_type": "code",
   "execution_count": 5,
   "metadata": {},
   "outputs": [],
   "source": [
    "CUDA.allowscalar(false)"
   ]
  },
  {
   "cell_type": "markdown",
   "metadata": {},
   "source": [
    "## Student T Distribution"
   ]
  },
  {
   "cell_type": "markdown",
   "metadata": {},
   "source": [
    "Note that this only covers computing the [T-test stastic](https://docs.scipy.org/doc/scipy/reference/generated/scipy.stats.ttest_ind.html) and not calculations involving the actual T distribution (e.g., cdf, pdf, quantiles)."
   ]
  },
  {
   "cell_type": "code",
   "execution_count": 6,
   "metadata": {},
   "outputs": [
    {
     "data": {
      "text/plain": [
       "var_gpu (generic function with 2 methods)"
      ]
     },
     "execution_count": 6,
     "metadata": {},
     "output_type": "execute_result"
    }
   ],
   "source": [
    "function mean_gpu(x, d)\n",
    "    return sum(x, dims=d) ./= size(x)[d]\n",
    "end\n",
    "\n",
    "function sum_sq_gpu(x, d)\n",
    "    return sum(x.^2, dims=d)\n",
    "end\n",
    "\n",
    "function var_gpu(x)\n",
    "    d = ndims(x)\n",
    "    n = size(x)[d]\n",
    "    m = mean_gpu(x, d)\n",
    "    ss = sum_sq_gpu(x, d)\n",
    "    return var_gpu(n, m, ss)\n",
    "end\n",
    "\n",
    "function var_gpu(n, mean, ss)\n",
    "    return @. (ss - (n * mean^2)) / (n - 1)\n",
    "end"
   ]
  },
  {
   "cell_type": "code",
   "execution_count": 7,
   "metadata": {},
   "outputs": [
    {
     "data": {
      "text/plain": [
       "\u001b[32m\u001b[1mTest Passed\u001b[22m\u001b[39m\n",
       "  Expression: all(mean_gpu(x1, ndims(x1)) .== Statistics.mean(x1, dims = 2))"
      ]
     },
     "execution_count": 7,
     "metadata": {},
     "output_type": "execute_result"
    }
   ],
   "source": [
    "using Statistics\n",
    "\n",
    "@test all(mean_gpu(x1, ndims(x1)) .== Statistics.mean(x1, dims=2))"
   ]
  },
  {
   "cell_type": "code",
   "execution_count": 8,
   "metadata": {},
   "outputs": [
    {
     "data": {
      "text/plain": [
       "\u001b[32m\u001b[1mTest Passed\u001b[22m\u001b[39m\n",
       "  Expression: all(sum_sq_gpu(x1, ndims(x1)) .== sum(x1 .^ 2, dims = 2))"
      ]
     },
     "execution_count": 8,
     "metadata": {},
     "output_type": "execute_result"
    }
   ],
   "source": [
    "@test all(sum_sq_gpu(x1, ndims(x1)) .== sum(x1.^2, dims=2))"
   ]
  },
  {
   "cell_type": "code",
   "execution_count": 9,
   "metadata": {},
   "outputs": [
    {
     "data": {
      "text/plain": [
       "\u001b[32m\u001b[1mTest Passed\u001b[22m\u001b[39m\n",
       "  Expression: isapprox(var_gpu(n, m, ss), Statistics.var(x1, dims = 2))\n",
       "   Evaluated: isapprox([0.08112273805746789; 0.056394516192776356; … ; 0.08123599538480565; 0.08010810137533932;;], [0.08112273805746789; 0.05639451619277636; … ; 0.08123599538480553; 0.08010810137533936;;])"
      ]
     },
     "execution_count": 9,
     "metadata": {},
     "output_type": "execute_result"
    }
   ],
   "source": [
    "d = ndims(x1)\n",
    "n = size(x1)[d]\n",
    "m = mean_gpu(x1, d)\n",
    "ss = sum_sq_gpu(x1, d)\n",
    "@test isapprox(var_gpu(n, m, ss), Statistics.var(x1, dims=2))"
   ]
  },
  {
   "cell_type": "code",
   "execution_count": 10,
   "metadata": {},
   "outputs": [
    {
     "data": {
      "text/plain": [
       "\u001b[32m\u001b[1mTest Passed\u001b[22m\u001b[39m\n",
       "  Expression: isapprox(var_gpu(x1), Statistics.var(x1, dims = 2))\n",
       "   Evaluated: isapprox([0.08112273805746789; 0.056394516192776356; … ; 0.08123599538480565; 0.08010810137533932;;], [0.08112273805746789; 0.05639451619277636; … ; 0.08123599538480553; 0.08010810137533936;;])"
      ]
     },
     "execution_count": 10,
     "metadata": {},
     "output_type": "execute_result"
    }
   ],
   "source": [
    "@test isapprox(var_gpu(x1), Statistics.var(x1, dims=2))  # test overloading"
   ]
  },
  {
   "cell_type": "code",
   "execution_count": 11,
   "metadata": {},
   "outputs": [
    {
     "data": {
      "text/plain": [
       "t_gpu (generic function with 1 method)"
      ]
     },
     "execution_count": 11,
     "metadata": {},
     "output_type": "execute_result"
    }
   ],
   "source": [
    "function t_gpu(x1, x2, pooled)\n",
    "    d = ndims(x1)\n",
    "    mean1, mean2 = mean_gpu(x1, d), mean_gpu(x2, d)\n",
    "    ss1, ss2 = sum_sq_gpu(x1, d), sum_sq_gpu(x2, d)\n",
    "    n1, n2 = size(x1)[d], size(x2)[d]\n",
    "    # TODO implement pooled variance\n",
    "    var1, var2 = var_gpu(n1, mean1, ss1), var_gpu(n2, mean2, ss2)\n",
    "    return @. (mean1 - mean2) / sqrt(var1/n1 + var2/n2)\n",
    "end"
   ]
  },
  {
   "cell_type": "code",
   "execution_count": 12,
   "metadata": {},
   "outputs": [
    {
     "data": {
      "text/plain": [
       "\u001b[32m\u001b[1mTest Passed\u001b[22m\u001b[39m\n",
       "  Expression: isapprox(t_gpu(x1, x2, false), ttest_ind(x1, x2, false))\n",
       "   Evaluated: isapprox([-0.8083415417660851; -0.022399183457034788; … ; 0.2929699077440149; -0.7860528801237276;;], [-0.808341541766085; -0.022399183457034778; … ; 0.29296990774401493; -0.7860528801237273;;])"
      ]
     },
     "execution_count": 12,
     "metadata": {},
     "output_type": "execute_result"
    }
   ],
   "source": [
    "@test isapprox(t_gpu(x1, x2, false), ttest_ind(x1, x2, false))"
   ]
  },
  {
   "cell_type": "markdown",
   "metadata": {},
   "source": [
    "## Permutation Test p-value"
   ]
  },
  {
   "cell_type": "code",
   "execution_count": 32,
   "metadata": {},
   "outputs": [
    {
     "data": {
      "text/plain": [
       "0"
      ]
     },
     "execution_count": 32,
     "metadata": {},
     "output_type": "execute_result"
    }
   ],
   "source": [
    "parts1, parts2 = partition(n1, n2)\n",
    "parts1, parts2 = CuArray(parts1), CuArray(parts2)\n",
    "delta_true = 0"
   ]
  },
  {
   "cell_type": "code",
   "execution_count": 14,
   "metadata": {},
   "outputs": [
    {
     "data": {
      "text/plain": [
       "0.4248551242359292"
      ]
     },
     "execution_count": 14,
     "metadata": {},
     "output_type": "execute_result"
    }
   ],
   "source": [
    "pval(x1[1,:], x2[1,:], parts1, parts2)"
   ]
  },
  {
   "cell_type": "markdown",
   "metadata": {},
   "source": [
    "## Binary Search"
   ]
  },
  {
   "cell_type": "code",
   "execution_count": 15,
   "metadata": {},
   "outputs": [
    {
     "data": {
      "text/plain": [
       "1024×8 Matrix{Float64}:\n",
       " 0.919181   0.292579   0.825846   …  0.0617123  0.741307   0.979005\n",
       " 0.426019   0.149323   0.489151      0.976627   0.772621   0.414016\n",
       " 0.746586   0.188196   0.699858      0.840765   0.314378   0.474786\n",
       " 0.819201   0.566957   0.539838      0.120534   0.440371   0.926076\n",
       " 0.954159   0.0496869  0.948309      0.999903   0.911686   0.574866\n",
       " 0.845895   0.506965   0.0744135  …  0.635452   0.706518   0.824061\n",
       " 0.586749   0.0930013  0.0117718     0.771802   0.915362   0.303661\n",
       " 0.121813   0.997974   0.398319      0.674117   0.935987   0.963485\n",
       " 0.789493   0.709287   0.143511      0.0295761  0.993146   0.265231\n",
       " 0.619259   0.910902   0.241169      0.533718   0.874191   0.0167825\n",
       " 0.477645   0.436953   0.220376   …  0.373497   0.109393   0.71381\n",
       " 0.804193   0.673175   0.129352      0.875639   0.503859   0.0513694\n",
       " 0.123538   0.6756     0.303669      0.694664   0.481859   0.681448\n",
       " ⋮                                ⋱  ⋮                     \n",
       " 0.722624   0.636694   0.459694      0.171791   0.298695   0.481576\n",
       " 0.21389    0.578567   0.483752      0.220186   0.519123   0.816838\n",
       " 0.141777   0.431944   0.460532      0.193016   0.0583541  0.241047\n",
       " 0.785873   0.265588   0.837426   …  0.189284   0.710663   0.89264\n",
       " 0.592765   0.237982   0.634604      0.107973   0.846666   0.73253\n",
       " 0.252843   0.0723859  0.968748      0.461967   0.487343   0.97738\n",
       " 0.141472   0.261119   0.942569      0.747633   0.495394   0.455912\n",
       " 0.348334   0.0708358  0.372984      0.455545   0.356611   0.453434\n",
       " 0.473375   0.973624   0.382234   …  0.427954   0.181404   0.828319\n",
       " 0.298998   0.278812   0.821165      0.406277   0.0550423  0.333214\n",
       " 0.0769627  0.76252    0.971892      0.40659    0.160547   0.926819\n",
       " 0.486571   0.0158257  0.343417      0.665925   0.823091   0.846194"
      ]
     },
     "execution_count": 15,
     "metadata": {},
     "output_type": "execute_result"
    }
   ],
   "source": [
    "x1_cpu = Matrix(x1)\n",
    "x2_cpu = Matrix(x2)"
   ]
  },
  {
   "cell_type": "code",
   "execution_count": 19,
   "metadata": {},
   "outputs": [
    {
     "data": {
      "text/plain": [
       "([1 2 … 11 12; 1 2 … 11 13; … ; 8 10 … 19 20; 9 10 … 19 20], [20 19 … 14 13; 20 19 … 14 12; … ; 9 7 … 2 1; 8 7 … 2 1])"
      ]
     },
     "execution_count": 19,
     "metadata": {},
     "output_type": "execute_result"
    }
   ],
   "source": [
    "p1, p2 = Matrix(parts1), Matrix(parts2)"
   ]
  },
  {
   "cell_type": "code",
   "execution_count": 17,
   "metadata": {},
   "outputs": [
    {
     "data": {
      "text/plain": [
       "true"
      ]
     },
     "execution_count": 17,
     "metadata": {},
     "output_type": "execute_result"
    }
   ],
   "source": [
    "permInterval(x1[1,:], x2[1,:], parts1, parts2, 0, pooled=false)"
   ]
  },
  {
   "cell_type": "code",
   "execution_count": 20,
   "metadata": {},
   "outputs": [
    {
     "data": {
      "text/plain": [
       "true"
      ]
     },
     "execution_count": 20,
     "metadata": {},
     "output_type": "execute_result"
    }
   ],
   "source": [
    "permInterval(x1_cpu[1,:], x2_cpu[1,:], p1, p2, 0, pooled=false)"
   ]
  },
  {
   "cell_type": "code",
   "execution_count": 51,
   "metadata": {},
   "outputs": [
    {
     "data": {
      "text/plain": [
       "foo (generic function with 2 methods)"
      ]
     },
     "execution_count": 51,
     "metadata": {},
     "output_type": "execute_result"
    }
   ],
   "source": [
    "function foo(data; pooled=true, alpha=0.05, alternative=\"two-sided\")\n",
    "    n1, n2 = size(parts1)[2], size(parts2)[2]\n",
    "    x1, x2 = data[1:n1], data[n1+1:end]\n",
    "    # provide estimates of permutation test CI using t-test CIs\n",
    "    wide_lo, wide_hi = tconf(x1, x2, alpha=0.01, pooled=pooled)\n",
    "    narrow_lo, narrow_hi = tconf(x1, x2, alpha=0.1, pooled=pooled)\n",
    "    # use binary search to find approximate permutation test confidence interval\n",
    "    lo = search(x1, x2, parts1, parts2, wide_lo, narrow_lo, pooled=pooled, alpha=alpha, alternative=alternative)\n",
    "    hi = search(x1, x2, parts1, parts2, narrow_hi, wide_hi, pooled=pooled, alpha=alpha, alternative=alternative)\n",
    "    return lo <= delta_true <= hi\n",
    "end"
   ]
  },
  {
   "cell_type": "code",
   "execution_count": 52,
   "metadata": {},
   "outputs": [
    {
     "data": {
      "text/plain": [
       "1024×20 CuArray{Float64, 2, CUDA.Mem.DeviceBuffer}:\n",
       " 0.9063     0.187503    0.824122  …  0.0617123  0.741307   0.979005\n",
       " 0.443494   0.498439    0.859881     0.976627   0.772621   0.414016\n",
       " 0.745673   0.794295    0.705596     0.840765   0.314378   0.474786\n",
       " 0.512083   0.876415    0.612023     0.120534   0.440371   0.926076\n",
       " 0.253849   0.826659    0.418106     0.999903   0.911686   0.574866\n",
       " 0.334152   0.665469    0.956036  …  0.635452   0.706518   0.824061\n",
       " 0.427328   0.53198     0.233742     0.771802   0.915362   0.303661\n",
       " 0.867547   0.166588    0.773851     0.674117   0.935987   0.963485\n",
       " 0.0991336  0.750193    0.151066     0.0295761  0.993146   0.265231\n",
       " 0.125287   0.278028    0.124571     0.533718   0.874191   0.0167825\n",
       " 0.692209   0.669833    0.304985  …  0.373497   0.109393   0.71381\n",
       " 0.136551   0.302631    0.360705     0.875639   0.503859   0.0513694\n",
       " 0.0320967  0.847642    0.166796     0.694664   0.481859   0.681448\n",
       " ⋮                                ⋱                        \n",
       " 0.76755    0.00772217  0.629175     0.171791   0.298695   0.481576\n",
       " 0.655671   0.924284    0.393533     0.220186   0.519123   0.816838\n",
       " 0.327765   0.615806    0.412631     0.193016   0.0583541  0.241047\n",
       " 0.99428    0.361419    0.558479  …  0.189284   0.710663   0.89264\n",
       " 0.160402   0.227261    0.089643     0.107973   0.846666   0.73253\n",
       " 0.692826   0.204425    0.278645     0.461967   0.487343   0.97738\n",
       " 0.749478   0.0843324   0.604182     0.747633   0.495394   0.455912\n",
       " 0.827275   0.419845    0.789992     0.455545   0.356611   0.453434\n",
       " 0.258614   0.77832     0.774069  …  0.427954   0.181404   0.828319\n",
       " 0.784663   0.221147    0.906941     0.406277   0.0550423  0.333214\n",
       " 0.358919   0.111469    0.873219     0.40659    0.160547   0.926819\n",
       " 0.0359276  0.708116    0.603106     0.665925   0.823091   0.846194"
      ]
     },
     "execution_count": 52,
     "metadata": {},
     "output_type": "execute_result"
    }
   ],
   "source": [
    "data = hcat(x1, x2)"
   ]
  },
  {
   "cell_type": "code",
   "execution_count": 54,
   "metadata": {},
   "outputs": [
    {
     "data": {
      "text/plain": [
       "true"
      ]
     },
     "execution_count": 54,
     "metadata": {},
     "output_type": "execute_result"
    }
   ],
   "source": [
    "foo(data)"
   ]
  },
  {
   "cell_type": "code",
   "execution_count": 49,
   "metadata": {},
   "outputs": [],
   "source": [
    "CUDA.allowscalar(true)"
   ]
  },
  {
   "cell_type": "code",
   "execution_count": 55,
   "metadata": {},
   "outputs": [
    {
     "data": {
      "text/plain": [
       "0.95703125"
      ]
     },
     "execution_count": 55,
     "metadata": {},
     "output_type": "execute_result"
    }
   ],
   "source": [
    "mapreduce(foo, +, eachrow(data)) / 1024"
   ]
  },
  {
   "cell_type": "code",
   "execution_count": 40,
   "metadata": {},
   "outputs": [
    {
     "data": {
      "text/plain": [
       "foo_fast! (generic function with 1 method)"
      ]
     },
     "execution_count": 40,
     "metadata": {},
     "output_type": "execute_result"
    }
   ],
   "source": [
    "function foo_fast!(data, out)\n",
    "    \"\"\"Computes the sum of the 1-D vector x and stores in y[1]\"\"\"\n",
    "    index = (blockIdx().x-1) * blockDim().x + threadIdx().x\n",
    "    stride = gridDim().x * blockDim().x\n",
    "    for i = index:stride:length(x)\n",
    "        @inbounds out[i] = foo(data)\n",
    "    end\n",
    "end"
   ]
  },
  {
   "cell_type": "code",
   "execution_count": 42,
   "metadata": {},
   "outputs": [
    {
     "data": {
      "text/plain": [
       "1024-element CuArray{Float64, 1, CUDA.Mem.DeviceBuffer}:\n",
       " 0.0\n",
       " 0.0\n",
       " 0.0\n",
       " 0.0\n",
       " 0.0\n",
       " 0.0\n",
       " 0.0\n",
       " 0.0\n",
       " 0.0\n",
       " 0.0\n",
       " 0.0\n",
       " 0.0\n",
       " 0.0\n",
       " ⋮\n",
       " 0.0\n",
       " 0.0\n",
       " 0.0\n",
       " 0.0\n",
       " 0.0\n",
       " 0.0\n",
       " 0.0\n",
       " 0.0\n",
       " 0.0\n",
       " 0.0\n",
       " 0.0\n",
       " 0.0"
      ]
     },
     "execution_count": 42,
     "metadata": {},
     "output_type": "execute_result"
    }
   ],
   "source": [
    "out = CuArray(zeros(size(data)[1]))"
   ]
  },
  {
   "cell_type": "code",
   "execution_count": 44,
   "metadata": {},
   "outputs": [],
   "source": [
    "CUDA.allowscalar(false)"
   ]
  },
  {
   "cell_type": "code",
   "execution_count": 47,
   "metadata": {},
   "outputs": [
    {
     "ename": "LoadError",
     "evalue": "InvalidIRError: compiling kernel foo_fast!(CuDeviceMatrix{Float64, 1}, CuDeviceVector{Float64, 1}) resulted in invalid LLVM IR\nReason: unsupported dynamic function invocation (call to size)\nStacktrace:\n [1] \u001b[0m\u001b[1m#foo#8\u001b[22m\n\u001b[90m   @ \u001b[39m\u001b[90m./\u001b[39m\u001b[90m\u001b[4mIn[30]:2\u001b[24m\u001b[39m\n [2] \u001b[0m\u001b[1mfoo\u001b[22m\n\u001b[90m   @ \u001b[39m\u001b[90m./\u001b[39m\u001b[90m\u001b[4mIn[30]:2\u001b[24m\u001b[39m\n [3] \u001b[0m\u001b[1mfoo_fast!\u001b[22m\n\u001b[90m   @ \u001b[39m\u001b[90m./\u001b[39m\u001b[90m\u001b[4mIn[40]:6\u001b[24m\u001b[39m\nReason: unsupported dynamic function invocation (call to getindex)\nStacktrace:\n [1] \u001b[0m\u001b[1m#foo#8\u001b[22m\n\u001b[90m   @ \u001b[39m\u001b[90m./\u001b[39m\u001b[90m\u001b[4mIn[30]:2\u001b[24m\u001b[39m\n [2] \u001b[0m\u001b[1mfoo\u001b[22m\n\u001b[90m   @ \u001b[39m\u001b[90m./\u001b[39m\u001b[90m\u001b[4mIn[30]:2\u001b[24m\u001b[39m\n [3] \u001b[0m\u001b[1mfoo_fast!\u001b[22m\n\u001b[90m   @ \u001b[39m\u001b[90m./\u001b[39m\u001b[90m\u001b[4mIn[40]:6\u001b[24m\u001b[39m\nReason: unsupported dynamic function invocation (call to Colon())\nStacktrace:\n [1] \u001b[0m\u001b[1m#foo#8\u001b[22m\n\u001b[90m   @ \u001b[39m\u001b[90m./\u001b[39m\u001b[90m\u001b[4mIn[30]:3\u001b[24m\u001b[39m\n [2] \u001b[0m\u001b[1mfoo\u001b[22m\n\u001b[90m   @ \u001b[39m\u001b[90m./\u001b[39m\u001b[90m\u001b[4mIn[30]:2\u001b[24m\u001b[39m\n [3] \u001b[0m\u001b[1mfoo_fast!\u001b[22m\n\u001b[90m   @ \u001b[39m\u001b[90m./\u001b[39m\u001b[90m\u001b[4mIn[40]:6\u001b[24m\u001b[39m\nReason: unsupported dynamic function invocation (call to getindex)\nStacktrace:\n [1] \u001b[0m\u001b[1m#foo#8\u001b[22m\n\u001b[90m   @ \u001b[39m\u001b[90m./\u001b[39m\u001b[90m\u001b[4mIn[30]:3\u001b[24m\u001b[39m\n [2] \u001b[0m\u001b[1mfoo\u001b[22m\n\u001b[90m   @ \u001b[39m\u001b[90m./\u001b[39m\u001b[90m\u001b[4mIn[30]:2\u001b[24m\u001b[39m\n [3] \u001b[0m\u001b[1mfoo_fast!\u001b[22m\n\u001b[90m   @ \u001b[39m\u001b[90m./\u001b[39m\u001b[90m\u001b[4mIn[40]:6\u001b[24m\u001b[39m\nReason: unsupported dynamic function invocation (call to +)\nStacktrace:\n [1] \u001b[0m\u001b[1m#foo#8\u001b[22m\n\u001b[90m   @ \u001b[39m\u001b[90m./\u001b[39m\u001b[90m\u001b[4mIn[30]:3\u001b[24m\u001b[39m\n [2] \u001b[0m\u001b[1mfoo\u001b[22m\n\u001b[90m   @ \u001b[39m\u001b[90m./\u001b[39m\u001b[90m\u001b[4mIn[30]:2\u001b[24m\u001b[39m\n [3] \u001b[0m\u001b[1mfoo_fast!\u001b[22m\n\u001b[90m   @ \u001b[39m\u001b[90m./\u001b[39m\u001b[90m\u001b[4mIn[40]:6\u001b[24m\u001b[39m\nReason: unsupported dynamic function invocation (call to tconf##kw)\nStacktrace:\n [1] \u001b[0m\u001b[1m#foo#8\u001b[22m\n\u001b[90m   @ \u001b[39m\u001b[90m./\u001b[39m\u001b[90m\u001b[4mIn[30]:5\u001b[24m\u001b[39m\n [2] \u001b[0m\u001b[1mfoo\u001b[22m\n\u001b[90m   @ \u001b[39m\u001b[90m./\u001b[39m\u001b[90m\u001b[4mIn[30]:2\u001b[24m\u001b[39m\n [3] \u001b[0m\u001b[1mfoo_fast!\u001b[22m\n\u001b[90m   @ \u001b[39m\u001b[90m./\u001b[39m\u001b[90m\u001b[4mIn[40]:6\u001b[24m\u001b[39m\nReason: unsupported call to an unknown function (call to jl_f_getfield)\nStacktrace:\n [1] \u001b[0m\u001b[1mindexed_iterate\u001b[22m\u001b[90m (repeats 2 times)\u001b[39m\n\u001b[90m   @ \u001b[39m\u001b[90m./\u001b[39m\u001b[90m\u001b[4mtuple.jl:89\u001b[24m\u001b[39m\n [2] \u001b[0m\u001b[1m#foo#8\u001b[22m\n\u001b[90m   @ \u001b[39m\u001b[90m./\u001b[39m\u001b[90m\u001b[4mIn[30]:5\u001b[24m\u001b[39m\n [3] \u001b[0m\u001b[1mfoo\u001b[22m\n\u001b[90m   @ \u001b[39m\u001b[90m./\u001b[39m\u001b[90m\u001b[4mIn[30]:2\u001b[24m\u001b[39m\n [4] \u001b[0m\u001b[1mfoo_fast!\u001b[22m\n\u001b[90m   @ \u001b[39m\u001b[90m./\u001b[39m\u001b[90m\u001b[4mIn[40]:6\u001b[24m\u001b[39m\nReason: unsupported call to an unknown function (call to jl_f_getfield)\nStacktrace:\n [1] \u001b[0m\u001b[1mindexed_iterate\u001b[22m\n\u001b[90m   @ \u001b[39m\u001b[90m./\u001b[39m\u001b[90m\u001b[4mtuple.jl:89\u001b[24m\u001b[39m\n [2] \u001b[0m\u001b[1m#foo#8\u001b[22m\n\u001b[90m   @ \u001b[39m\u001b[90m./\u001b[39m\u001b[90m\u001b[4mIn[30]:5\u001b[24m\u001b[39m\n [3] \u001b[0m\u001b[1mfoo\u001b[22m\n\u001b[90m   @ \u001b[39m\u001b[90m./\u001b[39m\u001b[90m\u001b[4mIn[30]:2\u001b[24m\u001b[39m\n [4] \u001b[0m\u001b[1mfoo_fast!\u001b[22m\n\u001b[90m   @ \u001b[39m\u001b[90m./\u001b[39m\u001b[90m\u001b[4mIn[40]:6\u001b[24m\u001b[39m\nReason: unsupported dynamic function invocation (call to tconf##kw)\nStacktrace:\n [1] \u001b[0m\u001b[1m#foo#8\u001b[22m\n\u001b[90m   @ \u001b[39m\u001b[90m./\u001b[39m\u001b[90m\u001b[4mIn[30]:6\u001b[24m\u001b[39m\n [2] \u001b[0m\u001b[1mfoo\u001b[22m\n\u001b[90m   @ \u001b[39m\u001b[90m./\u001b[39m\u001b[90m\u001b[4mIn[30]:2\u001b[24m\u001b[39m\n [3] \u001b[0m\u001b[1mfoo_fast!\u001b[22m\n\u001b[90m   @ \u001b[39m\u001b[90m./\u001b[39m\u001b[90m\u001b[4mIn[40]:6\u001b[24m\u001b[39m\nReason: unsupported call to an unknown function (call to jl_f_getfield)\nStacktrace:\n [1] \u001b[0m\u001b[1mindexed_iterate\u001b[22m\u001b[90m (repeats 2 times)\u001b[39m\n\u001b[90m   @ \u001b[39m\u001b[90m./\u001b[39m\u001b[90m\u001b[4mtuple.jl:89\u001b[24m\u001b[39m\n [2] \u001b[0m\u001b[1m#foo#8\u001b[22m\n\u001b[90m   @ \u001b[39m\u001b[90m./\u001b[39m\u001b[90m\u001b[4mIn[30]:6\u001b[24m\u001b[39m\n [3] \u001b[0m\u001b[1mfoo\u001b[22m\n\u001b[90m   @ \u001b[39m\u001b[90m./\u001b[39m\u001b[90m\u001b[4mIn[30]:2\u001b[24m\u001b[39m\n [4] \u001b[0m\u001b[1mfoo_fast!\u001b[22m\n\u001b[90m   @ \u001b[39m\u001b[90m./\u001b[39m\u001b[90m\u001b[4mIn[40]:6\u001b[24m\u001b[39m\nReason: unsupported call to an unknown function (call to jl_f_getfield)\nStacktrace:\n [1] \u001b[0m\u001b[1mindexed_iterate\u001b[22m\n\u001b[90m   @ \u001b[39m\u001b[90m./\u001b[39m\u001b[90m\u001b[4mtuple.jl:89\u001b[24m\u001b[39m\n [2] \u001b[0m\u001b[1m#foo#8\u001b[22m\n\u001b[90m   @ \u001b[39m\u001b[90m./\u001b[39m\u001b[90m\u001b[4mIn[30]:6\u001b[24m\u001b[39m\n [3] \u001b[0m\u001b[1mfoo\u001b[22m\n\u001b[90m   @ \u001b[39m\u001b[90m./\u001b[39m\u001b[90m\u001b[4mIn[30]:2\u001b[24m\u001b[39m\n [4] \u001b[0m\u001b[1mfoo_fast!\u001b[22m\n\u001b[90m   @ \u001b[39m\u001b[90m./\u001b[39m\u001b[90m\u001b[4mIn[40]:6\u001b[24m\u001b[39m\nReason: unsupported dynamic function invocation (call to search##kw)\nStacktrace:\n [1] \u001b[0m\u001b[1m#foo#8\u001b[22m\n\u001b[90m   @ \u001b[39m\u001b[90m./\u001b[39m\u001b[90m\u001b[4mIn[30]:8\u001b[24m\u001b[39m\n [2] \u001b[0m\u001b[1mfoo\u001b[22m\n\u001b[90m   @ \u001b[39m\u001b[90m./\u001b[39m\u001b[90m\u001b[4mIn[30]:2\u001b[24m\u001b[39m\n [3] \u001b[0m\u001b[1mfoo_fast!\u001b[22m\n\u001b[90m   @ \u001b[39m\u001b[90m./\u001b[39m\u001b[90m\u001b[4mIn[40]:6\u001b[24m\u001b[39m\nReason: unsupported dynamic function invocation (call to search##kw)\nStacktrace:\n [1] \u001b[0m\u001b[1m#foo#8\u001b[22m\n\u001b[90m   @ \u001b[39m\u001b[90m./\u001b[39m\u001b[90m\u001b[4mIn[30]:9\u001b[24m\u001b[39m\n [2] \u001b[0m\u001b[1mfoo\u001b[22m\n\u001b[90m   @ \u001b[39m\u001b[90m./\u001b[39m\u001b[90m\u001b[4mIn[30]:2\u001b[24m\u001b[39m\n [3] \u001b[0m\u001b[1mfoo_fast!\u001b[22m\n\u001b[90m   @ \u001b[39m\u001b[90m./\u001b[39m\u001b[90m\u001b[4mIn[40]:6\u001b[24m\u001b[39m\nReason: unsupported dynamic function invocation (call to println)\nStacktrace:\n [1] \u001b[0m\u001b[1m#foo#8\u001b[22m\n\u001b[90m   @ \u001b[39m\u001b[90m./\u001b[39m\u001b[90m\u001b[4mIn[30]:10\u001b[24m\u001b[39m\n [2] \u001b[0m\u001b[1mfoo\u001b[22m\n\u001b[90m   @ \u001b[39m\u001b[90m./\u001b[39m\u001b[90m\u001b[4mIn[30]:2\u001b[24m\u001b[39m\n [3] \u001b[0m\u001b[1mfoo_fast!\u001b[22m\n\u001b[90m   @ \u001b[39m\u001b[90m./\u001b[39m\u001b[90m\u001b[4mIn[40]:6\u001b[24m\u001b[39m\nReason: unsupported dynamic function invocation (call to <=)\nStacktrace:\n [1] \u001b[0m\u001b[1m#foo#8\u001b[22m\n\u001b[90m   @ \u001b[39m\u001b[90m./\u001b[39m\u001b[90m\u001b[4mIn[30]:11\u001b[24m\u001b[39m\n [2] \u001b[0m\u001b[1mfoo\u001b[22m\n\u001b[90m   @ \u001b[39m\u001b[90m./\u001b[39m\u001b[90m\u001b[4mIn[30]:2\u001b[24m\u001b[39m\n [3] \u001b[0m\u001b[1mfoo_fast!\u001b[22m\n\u001b[90m   @ \u001b[39m\u001b[90m./\u001b[39m\u001b[90m\u001b[4mIn[40]:6\u001b[24m\u001b[39m\nReason: unsupported dynamic function invocation (call to Colon())\nStacktrace:\n [1] \u001b[0m\u001b[1mfoo_fast!\u001b[22m\n\u001b[90m   @ \u001b[39m\u001b[90m./\u001b[39m\u001b[90m\u001b[4mIn[40]:5\u001b[24m\u001b[39m\nReason: unsupported dynamic function invocation (call to iterate)\nStacktrace:\n [1] \u001b[0m\u001b[1mfoo_fast!\u001b[22m\n\u001b[90m   @ \u001b[39m\u001b[90m./\u001b[39m\u001b[90m\u001b[4mIn[40]:5\u001b[24m\u001b[39m\nReason: unsupported call to an unknown function (call to jl_f_getfield)\nStacktrace:\n [1] \u001b[0m\u001b[1mfoo_fast!\u001b[22m\n\u001b[90m   @ \u001b[39m\u001b[90m./\u001b[39m\u001b[90m\u001b[4mIn[40]:5\u001b[24m\u001b[39m\nReason: unsupported dynamic function invocation (call to setindex!)\nStacktrace:\n [1] \u001b[0m\u001b[1mfoo_fast!\u001b[22m\n\u001b[90m   @ \u001b[39m\u001b[90m./\u001b[39m\u001b[90m\u001b[4mIn[40]:6\u001b[24m\u001b[39m\nReason: unsupported dynamic function invocation (call to iterate)\nStacktrace:\n [1] \u001b[0m\u001b[1mfoo_fast!\u001b[22m\n\u001b[90m   @ \u001b[39m\u001b[90m./\u001b[39m\u001b[90m\u001b[4mIn[40]:6\u001b[24m\u001b[39m\nReason: unsupported use of an undefined name (use of 'x')\nStacktrace:\n [1] \u001b[0m\u001b[1mfoo_fast!\u001b[22m\n\u001b[90m   @ \u001b[39m\u001b[90m./\u001b[39m\u001b[90m\u001b[4mIn[40]:5\u001b[24m\u001b[39m\nReason: unsupported dynamic function invocation (call to length)\nStacktrace:\n [1] \u001b[0m\u001b[1mfoo_fast!\u001b[22m\n\u001b[90m   @ \u001b[39m\u001b[90m./\u001b[39m\u001b[90m\u001b[4mIn[40]:5\u001b[24m\u001b[39m",
     "output_type": "error",
     "traceback": [
      "InvalidIRError: compiling kernel foo_fast!(CuDeviceMatrix{Float64, 1}, CuDeviceVector{Float64, 1}) resulted in invalid LLVM IR\nReason: unsupported dynamic function invocation (call to size)\nStacktrace:\n [1] \u001b[0m\u001b[1m#foo#8\u001b[22m\n\u001b[90m   @ \u001b[39m\u001b[90m./\u001b[39m\u001b[90m\u001b[4mIn[30]:2\u001b[24m\u001b[39m\n [2] \u001b[0m\u001b[1mfoo\u001b[22m\n\u001b[90m   @ \u001b[39m\u001b[90m./\u001b[39m\u001b[90m\u001b[4mIn[30]:2\u001b[24m\u001b[39m\n [3] \u001b[0m\u001b[1mfoo_fast!\u001b[22m\n\u001b[90m   @ \u001b[39m\u001b[90m./\u001b[39m\u001b[90m\u001b[4mIn[40]:6\u001b[24m\u001b[39m\nReason: unsupported dynamic function invocation (call to getindex)\nStacktrace:\n [1] \u001b[0m\u001b[1m#foo#8\u001b[22m\n\u001b[90m   @ \u001b[39m\u001b[90m./\u001b[39m\u001b[90m\u001b[4mIn[30]:2\u001b[24m\u001b[39m\n [2] \u001b[0m\u001b[1mfoo\u001b[22m\n\u001b[90m   @ \u001b[39m\u001b[90m./\u001b[39m\u001b[90m\u001b[4mIn[30]:2\u001b[24m\u001b[39m\n [3] \u001b[0m\u001b[1mfoo_fast!\u001b[22m\n\u001b[90m   @ \u001b[39m\u001b[90m./\u001b[39m\u001b[90m\u001b[4mIn[40]:6\u001b[24m\u001b[39m\nReason: unsupported dynamic function invocation (call to Colon())\nStacktrace:\n [1] \u001b[0m\u001b[1m#foo#8\u001b[22m\n\u001b[90m   @ \u001b[39m\u001b[90m./\u001b[39m\u001b[90m\u001b[4mIn[30]:3\u001b[24m\u001b[39m\n [2] \u001b[0m\u001b[1mfoo\u001b[22m\n\u001b[90m   @ \u001b[39m\u001b[90m./\u001b[39m\u001b[90m\u001b[4mIn[30]:2\u001b[24m\u001b[39m\n [3] \u001b[0m\u001b[1mfoo_fast!\u001b[22m\n\u001b[90m   @ \u001b[39m\u001b[90m./\u001b[39m\u001b[90m\u001b[4mIn[40]:6\u001b[24m\u001b[39m\nReason: unsupported dynamic function invocation (call to getindex)\nStacktrace:\n [1] \u001b[0m\u001b[1m#foo#8\u001b[22m\n\u001b[90m   @ \u001b[39m\u001b[90m./\u001b[39m\u001b[90m\u001b[4mIn[30]:3\u001b[24m\u001b[39m\n [2] \u001b[0m\u001b[1mfoo\u001b[22m\n\u001b[90m   @ \u001b[39m\u001b[90m./\u001b[39m\u001b[90m\u001b[4mIn[30]:2\u001b[24m\u001b[39m\n [3] \u001b[0m\u001b[1mfoo_fast!\u001b[22m\n\u001b[90m   @ \u001b[39m\u001b[90m./\u001b[39m\u001b[90m\u001b[4mIn[40]:6\u001b[24m\u001b[39m\nReason: unsupported dynamic function invocation (call to +)\nStacktrace:\n [1] \u001b[0m\u001b[1m#foo#8\u001b[22m\n\u001b[90m   @ \u001b[39m\u001b[90m./\u001b[39m\u001b[90m\u001b[4mIn[30]:3\u001b[24m\u001b[39m\n [2] \u001b[0m\u001b[1mfoo\u001b[22m\n\u001b[90m   @ \u001b[39m\u001b[90m./\u001b[39m\u001b[90m\u001b[4mIn[30]:2\u001b[24m\u001b[39m\n [3] \u001b[0m\u001b[1mfoo_fast!\u001b[22m\n\u001b[90m   @ \u001b[39m\u001b[90m./\u001b[39m\u001b[90m\u001b[4mIn[40]:6\u001b[24m\u001b[39m\nReason: unsupported dynamic function invocation (call to tconf##kw)\nStacktrace:\n [1] \u001b[0m\u001b[1m#foo#8\u001b[22m\n\u001b[90m   @ \u001b[39m\u001b[90m./\u001b[39m\u001b[90m\u001b[4mIn[30]:5\u001b[24m\u001b[39m\n [2] \u001b[0m\u001b[1mfoo\u001b[22m\n\u001b[90m   @ \u001b[39m\u001b[90m./\u001b[39m\u001b[90m\u001b[4mIn[30]:2\u001b[24m\u001b[39m\n [3] \u001b[0m\u001b[1mfoo_fast!\u001b[22m\n\u001b[90m   @ \u001b[39m\u001b[90m./\u001b[39m\u001b[90m\u001b[4mIn[40]:6\u001b[24m\u001b[39m\nReason: unsupported call to an unknown function (call to jl_f_getfield)\nStacktrace:\n [1] \u001b[0m\u001b[1mindexed_iterate\u001b[22m\u001b[90m (repeats 2 times)\u001b[39m\n\u001b[90m   @ \u001b[39m\u001b[90m./\u001b[39m\u001b[90m\u001b[4mtuple.jl:89\u001b[24m\u001b[39m\n [2] \u001b[0m\u001b[1m#foo#8\u001b[22m\n\u001b[90m   @ \u001b[39m\u001b[90m./\u001b[39m\u001b[90m\u001b[4mIn[30]:5\u001b[24m\u001b[39m\n [3] \u001b[0m\u001b[1mfoo\u001b[22m\n\u001b[90m   @ \u001b[39m\u001b[90m./\u001b[39m\u001b[90m\u001b[4mIn[30]:2\u001b[24m\u001b[39m\n [4] \u001b[0m\u001b[1mfoo_fast!\u001b[22m\n\u001b[90m   @ \u001b[39m\u001b[90m./\u001b[39m\u001b[90m\u001b[4mIn[40]:6\u001b[24m\u001b[39m\nReason: unsupported call to an unknown function (call to jl_f_getfield)\nStacktrace:\n [1] \u001b[0m\u001b[1mindexed_iterate\u001b[22m\n\u001b[90m   @ \u001b[39m\u001b[90m./\u001b[39m\u001b[90m\u001b[4mtuple.jl:89\u001b[24m\u001b[39m\n [2] \u001b[0m\u001b[1m#foo#8\u001b[22m\n\u001b[90m   @ \u001b[39m\u001b[90m./\u001b[39m\u001b[90m\u001b[4mIn[30]:5\u001b[24m\u001b[39m\n [3] \u001b[0m\u001b[1mfoo\u001b[22m\n\u001b[90m   @ \u001b[39m\u001b[90m./\u001b[39m\u001b[90m\u001b[4mIn[30]:2\u001b[24m\u001b[39m\n [4] \u001b[0m\u001b[1mfoo_fast!\u001b[22m\n\u001b[90m   @ \u001b[39m\u001b[90m./\u001b[39m\u001b[90m\u001b[4mIn[40]:6\u001b[24m\u001b[39m\nReason: unsupported dynamic function invocation (call to tconf##kw)\nStacktrace:\n [1] \u001b[0m\u001b[1m#foo#8\u001b[22m\n\u001b[90m   @ \u001b[39m\u001b[90m./\u001b[39m\u001b[90m\u001b[4mIn[30]:6\u001b[24m\u001b[39m\n [2] \u001b[0m\u001b[1mfoo\u001b[22m\n\u001b[90m   @ \u001b[39m\u001b[90m./\u001b[39m\u001b[90m\u001b[4mIn[30]:2\u001b[24m\u001b[39m\n [3] \u001b[0m\u001b[1mfoo_fast!\u001b[22m\n\u001b[90m   @ \u001b[39m\u001b[90m./\u001b[39m\u001b[90m\u001b[4mIn[40]:6\u001b[24m\u001b[39m\nReason: unsupported call to an unknown function (call to jl_f_getfield)\nStacktrace:\n [1] \u001b[0m\u001b[1mindexed_iterate\u001b[22m\u001b[90m (repeats 2 times)\u001b[39m\n\u001b[90m   @ \u001b[39m\u001b[90m./\u001b[39m\u001b[90m\u001b[4mtuple.jl:89\u001b[24m\u001b[39m\n [2] \u001b[0m\u001b[1m#foo#8\u001b[22m\n\u001b[90m   @ \u001b[39m\u001b[90m./\u001b[39m\u001b[90m\u001b[4mIn[30]:6\u001b[24m\u001b[39m\n [3] \u001b[0m\u001b[1mfoo\u001b[22m\n\u001b[90m   @ \u001b[39m\u001b[90m./\u001b[39m\u001b[90m\u001b[4mIn[30]:2\u001b[24m\u001b[39m\n [4] \u001b[0m\u001b[1mfoo_fast!\u001b[22m\n\u001b[90m   @ \u001b[39m\u001b[90m./\u001b[39m\u001b[90m\u001b[4mIn[40]:6\u001b[24m\u001b[39m\nReason: unsupported call to an unknown function (call to jl_f_getfield)\nStacktrace:\n [1] \u001b[0m\u001b[1mindexed_iterate\u001b[22m\n\u001b[90m   @ \u001b[39m\u001b[90m./\u001b[39m\u001b[90m\u001b[4mtuple.jl:89\u001b[24m\u001b[39m\n [2] \u001b[0m\u001b[1m#foo#8\u001b[22m\n\u001b[90m   @ \u001b[39m\u001b[90m./\u001b[39m\u001b[90m\u001b[4mIn[30]:6\u001b[24m\u001b[39m\n [3] \u001b[0m\u001b[1mfoo\u001b[22m\n\u001b[90m   @ \u001b[39m\u001b[90m./\u001b[39m\u001b[90m\u001b[4mIn[30]:2\u001b[24m\u001b[39m\n [4] \u001b[0m\u001b[1mfoo_fast!\u001b[22m\n\u001b[90m   @ \u001b[39m\u001b[90m./\u001b[39m\u001b[90m\u001b[4mIn[40]:6\u001b[24m\u001b[39m\nReason: unsupported dynamic function invocation (call to search##kw)\nStacktrace:\n [1] \u001b[0m\u001b[1m#foo#8\u001b[22m\n\u001b[90m   @ \u001b[39m\u001b[90m./\u001b[39m\u001b[90m\u001b[4mIn[30]:8\u001b[24m\u001b[39m\n [2] \u001b[0m\u001b[1mfoo\u001b[22m\n\u001b[90m   @ \u001b[39m\u001b[90m./\u001b[39m\u001b[90m\u001b[4mIn[30]:2\u001b[24m\u001b[39m\n [3] \u001b[0m\u001b[1mfoo_fast!\u001b[22m\n\u001b[90m   @ \u001b[39m\u001b[90m./\u001b[39m\u001b[90m\u001b[4mIn[40]:6\u001b[24m\u001b[39m\nReason: unsupported dynamic function invocation (call to search##kw)\nStacktrace:\n [1] \u001b[0m\u001b[1m#foo#8\u001b[22m\n\u001b[90m   @ \u001b[39m\u001b[90m./\u001b[39m\u001b[90m\u001b[4mIn[30]:9\u001b[24m\u001b[39m\n [2] \u001b[0m\u001b[1mfoo\u001b[22m\n\u001b[90m   @ \u001b[39m\u001b[90m./\u001b[39m\u001b[90m\u001b[4mIn[30]:2\u001b[24m\u001b[39m\n [3] \u001b[0m\u001b[1mfoo_fast!\u001b[22m\n\u001b[90m   @ \u001b[39m\u001b[90m./\u001b[39m\u001b[90m\u001b[4mIn[40]:6\u001b[24m\u001b[39m\nReason: unsupported dynamic function invocation (call to println)\nStacktrace:\n [1] \u001b[0m\u001b[1m#foo#8\u001b[22m\n\u001b[90m   @ \u001b[39m\u001b[90m./\u001b[39m\u001b[90m\u001b[4mIn[30]:10\u001b[24m\u001b[39m\n [2] \u001b[0m\u001b[1mfoo\u001b[22m\n\u001b[90m   @ \u001b[39m\u001b[90m./\u001b[39m\u001b[90m\u001b[4mIn[30]:2\u001b[24m\u001b[39m\n [3] \u001b[0m\u001b[1mfoo_fast!\u001b[22m\n\u001b[90m   @ \u001b[39m\u001b[90m./\u001b[39m\u001b[90m\u001b[4mIn[40]:6\u001b[24m\u001b[39m\nReason: unsupported dynamic function invocation (call to <=)\nStacktrace:\n [1] \u001b[0m\u001b[1m#foo#8\u001b[22m\n\u001b[90m   @ \u001b[39m\u001b[90m./\u001b[39m\u001b[90m\u001b[4mIn[30]:11\u001b[24m\u001b[39m\n [2] \u001b[0m\u001b[1mfoo\u001b[22m\n\u001b[90m   @ \u001b[39m\u001b[90m./\u001b[39m\u001b[90m\u001b[4mIn[30]:2\u001b[24m\u001b[39m\n [3] \u001b[0m\u001b[1mfoo_fast!\u001b[22m\n\u001b[90m   @ \u001b[39m\u001b[90m./\u001b[39m\u001b[90m\u001b[4mIn[40]:6\u001b[24m\u001b[39m\nReason: unsupported dynamic function invocation (call to Colon())\nStacktrace:\n [1] \u001b[0m\u001b[1mfoo_fast!\u001b[22m\n\u001b[90m   @ \u001b[39m\u001b[90m./\u001b[39m\u001b[90m\u001b[4mIn[40]:5\u001b[24m\u001b[39m\nReason: unsupported dynamic function invocation (call to iterate)\nStacktrace:\n [1] \u001b[0m\u001b[1mfoo_fast!\u001b[22m\n\u001b[90m   @ \u001b[39m\u001b[90m./\u001b[39m\u001b[90m\u001b[4mIn[40]:5\u001b[24m\u001b[39m\nReason: unsupported call to an unknown function (call to jl_f_getfield)\nStacktrace:\n [1] \u001b[0m\u001b[1mfoo_fast!\u001b[22m\n\u001b[90m   @ \u001b[39m\u001b[90m./\u001b[39m\u001b[90m\u001b[4mIn[40]:5\u001b[24m\u001b[39m\nReason: unsupported dynamic function invocation (call to setindex!)\nStacktrace:\n [1] \u001b[0m\u001b[1mfoo_fast!\u001b[22m\n\u001b[90m   @ \u001b[39m\u001b[90m./\u001b[39m\u001b[90m\u001b[4mIn[40]:6\u001b[24m\u001b[39m\nReason: unsupported dynamic function invocation (call to iterate)\nStacktrace:\n [1] \u001b[0m\u001b[1mfoo_fast!\u001b[22m\n\u001b[90m   @ \u001b[39m\u001b[90m./\u001b[39m\u001b[90m\u001b[4mIn[40]:6\u001b[24m\u001b[39m\nReason: unsupported use of an undefined name (use of 'x')\nStacktrace:\n [1] \u001b[0m\u001b[1mfoo_fast!\u001b[22m\n\u001b[90m   @ \u001b[39m\u001b[90m./\u001b[39m\u001b[90m\u001b[4mIn[40]:5\u001b[24m\u001b[39m\nReason: unsupported dynamic function invocation (call to length)\nStacktrace:\n [1] \u001b[0m\u001b[1mfoo_fast!\u001b[22m\n\u001b[90m   @ \u001b[39m\u001b[90m./\u001b[39m\u001b[90m\u001b[4mIn[40]:5\u001b[24m\u001b[39m",
      "",
      "Stacktrace:",
      "  [1] check_ir(job::GPUCompiler.CompilerJob{GPUCompiler.PTXCompilerTarget, CUDA.CUDACompilerParams, GPUCompiler.FunctionSpec{typeof(foo_fast!), Tuple{CuDeviceMatrix{Float64, 1}, CuDeviceVector{Float64, 1}}}}, args::LLVM.Module)",
      "    @ GPUCompiler ~/.julia/packages/GPUCompiler/HeCT6/src/validation.jl:111",
      "  [2] macro expansion",
      "    @ ~/.julia/packages/GPUCompiler/HeCT6/src/driver.jl:326 [inlined]",
      "  [3] macro expansion",
      "    @ ~/.julia/packages/TimerOutputs/YJq3h/src/TimerOutput.jl:252 [inlined]",
      "  [4] macro expansion",
      "    @ ~/.julia/packages/GPUCompiler/HeCT6/src/driver.jl:324 [inlined]",
      "  [5] emit_asm(job::GPUCompiler.CompilerJob, ir::LLVM.Module; strip::Bool, validate::Bool, format::LLVM.API.LLVMCodeGenFileType)",
      "    @ GPUCompiler ~/.julia/packages/GPUCompiler/HeCT6/src/utils.jl:64",
      "  [6] cufunction_compile(job::GPUCompiler.CompilerJob)",
      "    @ CUDA ~/.julia/packages/CUDA/sCev8/src/compiler/execution.jl:326",
      "  [7] cached_compilation(cache::Dict{UInt64, Any}, job::GPUCompiler.CompilerJob, compiler::typeof(CUDA.cufunction_compile), linker::typeof(CUDA.cufunction_link))",
      "    @ GPUCompiler ~/.julia/packages/GPUCompiler/HeCT6/src/cache.jl:90",
      "  [8] cufunction(f::typeof(foo_fast!), tt::Type{Tuple{CuDeviceMatrix{Float64, 1}, CuDeviceVector{Float64, 1}}}; name::Nothing, kwargs::Base.Pairs{Symbol, Union{}, Tuple{}, NamedTuple{(), Tuple{}}})",
      "    @ CUDA ~/.julia/packages/CUDA/sCev8/src/compiler/execution.jl:297",
      "  [9] cufunction(f::typeof(foo_fast!), tt::Type{Tuple{CuDeviceMatrix{Float64, 1}, CuDeviceVector{Float64, 1}}})",
      "    @ CUDA ~/.julia/packages/CUDA/sCev8/src/compiler/execution.jl:291",
      " [10] top-level scope",
      "    @ ~/.julia/packages/CUDA/sCev8/src/compiler/execution.jl:102",
      " [11] eval",
      "    @ ./boot.jl:373 [inlined]",
      " [12] include_string(mapexpr::typeof(REPL.softscope), mod::Module, code::String, filename::String)",
      "    @ Base ./loading.jl:1196"
     ]
    }
   ],
   "source": [
    "@cuda threads=256 blocks=4 foo_fast!(data, out)"
   ]
  },
  {
   "cell_type": "markdown",
   "metadata": {},
   "source": [
    "---"
   ]
  },
  {
   "cell_type": "code",
   "execution_count": null,
   "metadata": {},
   "outputs": [],
   "source": [
    "function gpu_sum!(x, y, )\n",
    "    \"\"\"Computes the sum of the 1-D vector x and stores in y[1]\"\"\"\n",
    "    index = (blockIdx().x-1) * blockDim().x + threadIdx().x\n",
    "    stride = gridDim().x * blockDim().x\n",
    "    for i = index:stride:length(x)\n",
    "        @inbounds y[1] += x[i]\n",
    "    end\n",
    "end"
   ]
  },
  {
   "cell_type": "code",
   "execution_count": null,
   "metadata": {},
   "outputs": [],
   "source": []
  },
  {
   "cell_type": "code",
   "execution_count": null,
   "metadata": {},
   "outputs": [],
   "source": [
    "numblocks = ceil(Int, N/256)\n",
    "@cuda threads=256 blocks=numblocks gpu_sum!(x, y)\n",
    "#@test all(sum(x) .== y)\n",
    "@test all(x .== y)"
   ]
  },
  {
   "cell_type": "code",
   "execution_count": null,
   "metadata": {},
   "outputs": [],
   "source": [
    "function bench_gpu3!(y, x)\n",
    "    numblocks = ceil(Int, length(y)/256)\n",
    "    CUDA.@sync begin\n",
    "        @cuda threads=256 blocks=numblocks gpu_add3!(y, x)\n",
    "    end\n",
    "end"
   ]
  },
  {
   "cell_type": "code",
   "execution_count": null,
   "metadata": {},
   "outputs": [],
   "source": [
    "using BenchmarkTools\n",
    "\n",
    "@btime bench_gpu3!($y_d, $x_d)"
   ]
  }
 ],
 "metadata": {
  "kernelspec": {
   "display_name": "Julia (8 threads) 1.7.1",
   "language": "julia",
   "name": "julia-(8-threads)-1.7"
  },
  "language_info": {
   "file_extension": ".jl",
   "mimetype": "application/julia",
   "name": "julia",
   "version": "1.7.1"
  }
 },
 "nbformat": 4,
 "nbformat_minor": 5
}
