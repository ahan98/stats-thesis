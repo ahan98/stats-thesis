{
 "cells": [
  {
   "cell_type": "code",
   "execution_count": 55,
   "metadata": {},
   "outputs": [
    {
     "data": {
      "text/plain": [
       "_var (generic function with 2 methods)"
      ]
     },
     "execution_count": 55,
     "metadata": {},
     "output_type": "execute_result"
    }
   ],
   "source": [
    "using Random\n",
    "using Distributions: Gamma\n",
    "using DataFrames, CSV\n",
    "include(\"utils.jl\")\n",
    "include(\"statistics.jl\")"
   ]
  },
  {
   "cell_type": "code",
   "execution_count": 71,
   "metadata": {},
   "outputs": [
    {
     "data": {
      "text/plain": [
       "0.025"
      ]
     },
     "execution_count": 71,
     "metadata": {},
     "output_type": "execute_result"
    }
   ],
   "source": [
    "# permutation test configuration\n",
    "pooled = false\n",
    "alpha = 0.05\n",
    "\n",
    "oneSided = true\n",
    "if oneSided\n",
    "    alternativeType = \"oneSided\"\n",
    "    alt_lo, alt_hi = \"greater\", \"less\"\n",
    "    alpha /= 2\n",
    "else\n",
    "    alternativeType = alt_lo = alt_hi = \"twoSided\"\n",
    "end"
   ]
  },
  {
   "cell_type": "code",
   "execution_count": 72,
   "metadata": {},
   "outputs": [
    {
     "data": {
      "text/plain": [
       "Float32"
      ]
     },
     "execution_count": 72,
     "metadata": {},
     "output_type": "execute_result"
    }
   ],
   "source": [
    "# data dimensions\n",
    "B  = 100      # num. coverage probabilities per boxplot\n",
    "S  = 1800   # num. samples per coverage probability\n",
    "nx = 6      # size of group 1\n",
    "ny = 6      # size of group 2\n",
    "px, py = partition(nx, ny)\n",
    "dtype = Float32"
   ]
  },
  {
   "cell_type": "code",
   "execution_count": 73,
   "metadata": {},
   "outputs": [
    {
     "data": {
      "text/plain": [
       "100×1800 Matrix{Tuple{Float32, Float32}}:\n",
       " (-1.01801f6, -9.94906f5)  …  (-1.03184f6, -1.00108f6)\n",
       " (-1.00423f6, -9.79155f5)     (-1.02546f6, -1.00013f6)\n",
       " (-1.01172f6, -9.83759f5)     (-1.02642f6, -9.90234f5)\n",
       " (-1.0181f6, -9.95932f5)      (-1.02037f6, -9.90036f5)\n",
       " (-1.0411f6, -1.03103f6)      (-1.03132f6, -1.01038f6)\n",
       " (-1.01065f6, -993802.0)   …  (-1.00202f6, -9.73796f5)\n",
       " (-1.01233f6, -9.91354f5)     (-1.04439f6, -1.01714f6)\n",
       " (-1.01661f6, -9.94613f5)     (-1.00337f6, -9.893f5)\n",
       " (-1.00685f6, -9.88251f5)     (-1.01781f6, -9.95413f5)\n",
       " (-1.01544f6, -9.95905f5)     (-1.02347f6, -1.00633f6)\n",
       " (-9.96336f5, -9.81876f5)  …  (-9.98995f5, -9.84405f5)\n",
       " (-1.00474f6, -9.89105f5)     (-1.01513f6, -9.88519f5)\n",
       " (-1.02424f6, -1.00168f6)     (-1.00828f6, -9.89986f5)\n",
       " ⋮                         ⋱  \n",
       " (-1.01505f6, -9.81305f5)     (-1.01933f6, -1.00207f6)\n",
       " (-1.02937f6, -1.00868f6)     (-1.02804f6, -1.01996f6)\n",
       " (-1.0206f6, -1.00058f6)   …  (-1.03474f6, -1.0113f6)\n",
       " (-1.03646f6, -1.0117f6)      (-1.03498f6, -1.00273f6)\n",
       " (-1.01569f6, -9.99268f5)     (-9.93146f5, -9.74933f5)\n",
       " (-1.03104f6, -1.00323f6)     (-1.03697f6, -1.00365f6)\n",
       " (-1.01196f6, -9.8301f5)      (-1.01923f6, -1.0023f6)\n",
       " (-1.02755f6, -1.01331f6)  …  (-1.022f6, -1.0048f6)\n",
       " (-1.01962f6, -9.97078f5)     (-1.02175f6, -9.96237f5)\n",
       " (-1.05298f6, -1.01631f6)     (-1.04198f6, -1.01976f6)\n",
       " (-1.01323f6, -9.82216f5)     (-1.04187f6, -9.97379f5)\n",
       " (-1.03335f6, -1.01217f6)     (-9.9321f5, -9.74041f5)"
      ]
     },
     "execution_count": 73,
     "metadata": {},
     "output_type": "execute_result"
    }
   ],
   "source": [
    "# Generate data\n",
    "Random.seed!(123)\n",
    "\n",
    "shapeX = rand(1:10, B)\n",
    "scaleX = rand(1:10, B)\n",
    "distrX = Gamma.(shapeX, scaleX)\n",
    "\n",
    "shapeY = rand(1000:1010, B)\n",
    "scaleY = rand(1000:1010, B)\n",
    "distrY = Gamma.(shapeY, scaleY)\n",
    "\n",
    "deltas = @. (shapeX * scaleX) - (shapeY * scaleY)\n",
    "\n",
    "# produces B vectors of S * nx elements\n",
    "# each vector is drawn from a distinct (but not necessarily distinct) distribution\n",
    "x = rand.(distrX, S * nx)\n",
    "y = rand.(distrY, S * ny)\n",
    "\n",
    "# flatten into (B, S * n)\n",
    "x = hcat(x...)'\n",
    "y = hcat(y...)'\n",
    "\n",
    "# reshape to 3D batch\n",
    "x = reshape(x, (B, S, nx))\n",
    "y = reshape(y, (B, S, ny))\n",
    "\n",
    "# Compute t confidence intervals for each of the (B x S x nx) pairs\n",
    "wide   = tconf(x, y, alpha=0.00001, pooled=pooled)\n",
    "narrow = tconf(x, y, alpha=0.4, pooled=pooled)\n",
    "\n",
    "wide   = reshape(wide, B, S)\n",
    "narrow = reshape(narrow, B, S)"
   ]
  },
  {
   "cell_type": "code",
   "execution_count": 74,
   "metadata": {},
   "outputs": [
    {
     "data": {
      "text/plain": [
       "coverage (generic function with 1 method)"
      ]
     },
     "execution_count": 74,
     "metadata": {},
     "output_type": "execute_result"
    }
   ],
   "source": [
    "function pval(x, y, pooled=false, alternative=\"two_sided\", delta=0)\n",
    "    \"\"\"\n",
    "    Parameters\n",
    "    ----------\n",
    "    x : Vector{Real}\n",
    "        Data for group 1\n",
    "    \n",
    "    y : Vector{Real}\n",
    "        Data for group 2\n",
    "    \n",
    "    pooled : Bool\n",
    "        Assume equal/unequal variances for the two groups\n",
    "    \n",
    "    alternative : String\n",
    "        Type of alternative hypothesis\n",
    "    \n",
    "    delta : Real\n",
    "        Null hypothesis difference in means\n",
    "    \n",
    "    Returns\n",
    "    -------\n",
    "    Float64\n",
    "        Proportion of pairs among all sample combinations which have\n",
    "        a test statistic as or more extreme than the original pair (x, y)\n",
    "    \"\"\"\n",
    "    x_shift = x .- delta  # shift group 1 under null hypothesis\n",
    "    t_obs = t(x_shift, y, pooled)  # test statistic for observed data\n",
    "    combined = vcat(x_shift, y)  # join original pair into single vector\n",
    "    xs = combined[px]   # get all combinations of pairs from original pair\n",
    "    ys = combined[py]\n",
    "    ts = t(xs, ys, pooled)   # test statistic for all possible pairs of samples\n",
    "    \n",
    "    if alternative == \"less\"\n",
    "        n_extreme = count(ts .<= t_obs)\n",
    "    elseif alternative == \"greater\"\n",
    "        n_extreme = count(ts .>= t_obs)\n",
    "    else\n",
    "        n_extreme = count(@. (ts <= -abs(t_obs)) | (ts >= abs(t_obs)))\n",
    "    end\n",
    "\n",
    "    return n_extreme / size(px, 1)  # proportion of pairs w/ extreme test statistic\n",
    "    \n",
    "end\n",
    "\n",
    "function search(x, y, start, stop;\n",
    "                pooled=false, alternative=\"two_sided\", isLowerBound=true,\n",
    "                margin=0.005, threshold=1.0, alpha=0.05)\n",
    "    p_start = pval(x, y, pooled, alternative, start)\n",
    "    p_end   = pval(x, y, pooled, alternative, stop)\n",
    "    #println(\"p_start = \", p_start, \", p_end = \", p_end)\n",
    "    \n",
    "    \"\"\"\n",
    "    if (p_start - alpha) * (p_end - alpha) > 0\n",
    "        @show (p_start, p_end, alpha, x, y)\n",
    "        @show alternative\n",
    "    end\n",
    "    \"\"\"\n",
    "    \n",
    "    # p-values corresponding to `start` and `stop` must be on opposite sides of `alpha`\n",
    "    @assert (p_start - alpha) * (p_end - alpha) <= 0\n",
    "\n",
    "    p = p_new = delta = nothing\n",
    "    percent_change = (old, new) -> 100 * abs(new-old) / old\n",
    "    \n",
    "    while true\n",
    "        delta = (start + stop) / 2\n",
    "        p_new = pval(x, y, pooled, alternative, delta)\n",
    "\n",
    "        if !isnothing(p) && percent_change(p, p_new) <= threshold\n",
    "            break  # (1) percent change in p-value is below `threshold`\n",
    "        end\n",
    "        \n",
    "        compare = (alpha - p_new) - isLowerBound * 2 * (alpha - p_new)\n",
    "        if margin < compare\n",
    "            stop = delta\n",
    "        elseif margin < -compare\n",
    "            start = delta\n",
    "        else\n",
    "            break  # (2) p-value is within `margin` of `alpha`\n",
    "        end\n",
    "\n",
    "        p = p_new\n",
    "    end\n",
    "    \n",
    "    return delta\n",
    "end\n",
    "\n",
    "function permInterval(x, y, wide, narrow, delta_true, alt_lo, alt_hi; pooled=false, alpha=0.05)\n",
    "    \"\"\"Returns true (false) if permutation test confidence interval does (not) include difference in\n",
    "    population means.\n",
    "    Parameters\n",
    "    ----------\n",
    "    x1 : Vector{Float64}\n",
    "        Data for group 1\n",
    "    x2 : Vector{Float64}\n",
    "        Data for group 2\n",
    "    partitions : Tuple{Matrix{Int64}, Matrix{Int64}}\n",
    "        The i-th rows of x1[partitions[1]] and x2[partitions[2]] denote the i-th arrangement of\n",
    "        the original (n1+n2) observations into two groups of size n1 and n2.\n",
    "    delta_true : Float64\n",
    "        Difference in population means\n",
    "    pooled : Bool\n",
    "        Assume pooled or unpooled variances\n",
    "    alpha : Float64\n",
    "        Significance level\n",
    "    alternative : String\n",
    "        Type of alternative hypothesis (\"two-sided\", \"smaller\", \"larger\")\n",
    "    Returns\n",
    "    -------\n",
    "    Bool\n",
    "        True (false) if permutation test confidence interval does (not) include difference in population means.\n",
    "    \"\"\"\n",
    "\n",
    "    wide_lo, wide_hi = wide\n",
    "    narrow_lo, narrow_hi = narrow\n",
    "\n",
    "    # use binary search to find approximate permutation test confidence interval\n",
    "    lo = search(x, y, wide_lo, narrow_lo,\n",
    "                pooled=pooled, alpha=alpha, alternative=alt_lo, isLowerBound=true)\n",
    "    hi = search(x, y, narrow_hi, wide_hi,\n",
    "                pooled=pooled, alpha=alpha, alternative=alt_hi, isLowerBound=false)\n",
    "    return [(lo <= delta_true <= hi), hi - lo]\n",
    "end\n",
    "\n",
    "function coverage(xs, ys, wide, narrow, delta_true, alt_lo, alt_hi;\n",
    "                  pooled=false, alpha=0.05)\n",
    "    results = permInterval.(eachrow(xs), eachrow(ys), wide, narrow, delta_true, alt_lo, alt_hi,\n",
    "                            pooled=pooled, alpha=alpha)\n",
    "    results = hcat(results...)\n",
    "    coverage = sum(results[1,:]) / S\n",
    "    avg_CI_width = mean(results[2,:])\n",
    "    return coverage, avg_CI_width\n",
    "end"
   ]
  },
  {
   "cell_type": "code",
   "execution_count": 75,
   "metadata": {},
   "outputs": [
    {
     "name": "stdout",
     "output_type": "stream",
     "text": [
      " 93.602898 seconds (163.78 M allocations: 514.700 GiB, 16.86% gc time, 0.26% compilation time)\n"
     ]
    },
    {
     "data": {
      "text/plain": [
       "100-element Vector{Tuple{Float32, Float32}}:\n",
       " (0.9611111, 95017.016)\n",
       " (0.9588889, 99104.89)\n",
       " (0.95055556, 96474.22)\n",
       " (0.9688889, 97479.555)\n",
       " (0.96, 95479.914)\n",
       " (0.9638889, 95827.12)\n",
       " (0.96, 97665.56)\n",
       " (0.96166664, 95868.81)\n",
       " (0.95555556, 96062.4)\n",
       " (0.96166664, 95432.016)\n",
       " (0.9688889, 98032.445)\n",
       " (0.9622222, 97379.414)\n",
       " (0.96166664, 97646.45)\n",
       " ⋮\n",
       " (0.955, 96271.2)\n",
       " (0.95555556, 94821.17)\n",
       " (0.9572222, 97363.85)\n",
       " (0.9572222, 97216.53)\n",
       " (0.9611111, 98741.74)\n",
       " (0.9583333, 98333.1)\n",
       " (0.9688889, 97574.516)\n",
       " (0.9627778, 96417.9)\n",
       " (0.9572222, 95129.76)\n",
       " (0.96944445, 99518.58)\n",
       " (0.9622222, 96546.45)\n",
       " (0.9638889, 98259.16)"
      ]
     },
     "execution_count": 75,
     "metadata": {},
     "output_type": "execute_result"
    }
   ],
   "source": [
    "@time begin\n",
    "results = coverage.(eachslice(x, dims=1),\n",
    "                    eachslice(y, dims=1),\n",
    "                    eachrow(wide),\n",
    "                    eachrow(narrow),\n",
    "                    deltas,\n",
    "                    alt_lo,\n",
    "                    alt_hi,\n",
    "                    pooled=pooled,\n",
    "                    alpha=alpha)\n",
    "end"
   ]
  },
  {
   "cell_type": "code",
   "execution_count": 76,
   "metadata": {},
   "outputs": [
    {
     "data": {
      "text/html": [
       "<div class=\"data-frame\"><p>100 rows × 4 columns</p><table class=\"data-frame\"><thead><tr><th></th><th>prob</th><th>width</th><th>distrX</th><th>distrY</th></tr><tr><th></th><th title=\"Float32\">Float32</th><th title=\"Float32\">Float32</th><th title=\"Gamma{Float64}\">Gamma…</th><th title=\"Gamma{Float64}\">Gamma…</th></tr></thead><tbody><tr><th>1</th><td>0.961111</td><td>95017.0</td><td>Gamma{Float64}(α=6.0, θ=6.0)</td><td>Gamma{Float64}(α=1008.0, θ=1001.0)</td></tr><tr><th>2</th><td>0.958889</td><td>99104.9</td><td>Gamma{Float64}(α=6.0, θ=1.0)</td><td>Gamma{Float64}(α=1008.0, θ=1010.0)</td></tr><tr><th>3</th><td>0.950556</td><td>96474.2</td><td>Gamma{Float64}(α=9.0, θ=6.0)</td><td>Gamma{Float64}(α=1007.0, θ=1007.0)</td></tr><tr><th>4</th><td>0.968889</td><td>97479.6</td><td>Gamma{Float64}(α=2.0, θ=2.0)</td><td>Gamma{Float64}(α=1004.0, θ=1010.0)</td></tr><tr><th>5</th><td>0.96</td><td>95479.9</td><td>Gamma{Float64}(α=6.0, θ=7.0)</td><td>Gamma{Float64}(α=1007.0, θ=1007.0)</td></tr><tr><th>6</th><td>0.963889</td><td>95827.1</td><td>Gamma{Float64}(α=4.0, θ=10.0)</td><td>Gamma{Float64}(α=1000.0, θ=1001.0)</td></tr><tr><th>7</th><td>0.96</td><td>97665.6</td><td>Gamma{Float64}(α=1.0, θ=3.0)</td><td>Gamma{Float64}(α=1002.0, θ=1010.0)</td></tr><tr><th>8</th><td>0.961667</td><td>95868.8</td><td>Gamma{Float64}(α=10.0, θ=10.0)</td><td>Gamma{Float64}(α=1000.0, θ=1003.0)</td></tr><tr><th>9</th><td>0.955556</td><td>96062.4</td><td>Gamma{Float64}(α=6.0, θ=7.0)</td><td>Gamma{Float64}(α=1005.0, θ=1006.0)</td></tr><tr><th>10</th><td>0.961667</td><td>95432.0</td><td>Gamma{Float64}(α=4.0, θ=6.0)</td><td>Gamma{Float64}(α=1006.0, θ=1009.0)</td></tr><tr><th>11</th><td>0.968889</td><td>98032.4</td><td>Gamma{Float64}(α=6.0, θ=3.0)</td><td>Gamma{Float64}(α=1000.0, θ=1006.0)</td></tr><tr><th>12</th><td>0.962222</td><td>97379.4</td><td>Gamma{Float64}(α=9.0, θ=3.0)</td><td>Gamma{Float64}(α=1003.0, θ=1010.0)</td></tr><tr><th>13</th><td>0.961667</td><td>97646.5</td><td>Gamma{Float64}(α=1.0, θ=8.0)</td><td>Gamma{Float64}(α=1008.0, θ=1009.0)</td></tr><tr><th>14</th><td>0.957222</td><td>95176.8</td><td>Gamma{Float64}(α=5.0, θ=7.0)</td><td>Gamma{Float64}(α=1005.0, θ=1003.0)</td></tr><tr><th>15</th><td>0.952222</td><td>96005.8</td><td>Gamma{Float64}(α=4.0, θ=8.0)</td><td>Gamma{Float64}(α=1002.0, θ=1001.0)</td></tr><tr><th>16</th><td>0.966667</td><td>97099.4</td><td>Gamma{Float64}(α=2.0, θ=1.0)</td><td>Gamma{Float64}(α=1009.0, θ=1005.0)</td></tr><tr><th>17</th><td>0.963333</td><td>98740.4</td><td>Gamma{Float64}(α=8.0, θ=5.0)</td><td>Gamma{Float64}(α=1005.0, θ=1001.0)</td></tr><tr><th>18</th><td>0.968333</td><td>96939.9</td><td>Gamma{Float64}(α=6.0, θ=1.0)</td><td>Gamma{Float64}(α=1009.0, θ=1008.0)</td></tr><tr><th>19</th><td>0.960556</td><td>98594.8</td><td>Gamma{Float64}(α=7.0, θ=1.0)</td><td>Gamma{Float64}(α=1008.0, θ=1010.0)</td></tr><tr><th>20</th><td>0.958333</td><td>96398.6</td><td>Gamma{Float64}(α=3.0, θ=1.0)</td><td>Gamma{Float64}(α=1009.0, θ=1006.0)</td></tr><tr><th>21</th><td>0.961111</td><td>96550.7</td><td>Gamma{Float64}(α=3.0, θ=10.0)</td><td>Gamma{Float64}(α=1002.0, θ=1005.0)</td></tr><tr><th>22</th><td>0.96</td><td>97337.1</td><td>Gamma{Float64}(α=10.0, θ=7.0)</td><td>Gamma{Float64}(α=1009.0, θ=1007.0)</td></tr><tr><th>23</th><td>0.956111</td><td>96546.3</td><td>Gamma{Float64}(α=9.0, θ=7.0)</td><td>Gamma{Float64}(α=1000.0, θ=1007.0)</td></tr><tr><th>24</th><td>0.963333</td><td>97173.5</td><td>Gamma{Float64}(α=3.0, θ=8.0)</td><td>Gamma{Float64}(α=1010.0, θ=1001.0)</td></tr><tr><th>25</th><td>0.96</td><td>96586.0</td><td>Gamma{Float64}(α=4.0, θ=8.0)</td><td>Gamma{Float64}(α=1005.0, θ=1008.0)</td></tr><tr><th>26</th><td>0.961667</td><td>96929.1</td><td>Gamma{Float64}(α=2.0, θ=1.0)</td><td>Gamma{Float64}(α=1000.0, θ=1002.0)</td></tr><tr><th>27</th><td>0.958889</td><td>98822.3</td><td>Gamma{Float64}(α=1.0, θ=7.0)</td><td>Gamma{Float64}(α=1001.0, θ=1009.0)</td></tr><tr><th>28</th><td>0.969444</td><td>95945.3</td><td>Gamma{Float64}(α=4.0, θ=10.0)</td><td>Gamma{Float64}(α=1001.0, θ=1005.0)</td></tr><tr><th>29</th><td>0.965</td><td>96335.0</td><td>Gamma{Float64}(α=5.0, θ=1.0)</td><td>Gamma{Float64}(α=1009.0, θ=1003.0)</td></tr><tr><th>30</th><td>0.966667</td><td>95785.0</td><td>Gamma{Float64}(α=8.0, θ=1.0)</td><td>Gamma{Float64}(α=1009.0, θ=1008.0)</td></tr><tr><th>&vellip;</th><td>&vellip;</td><td>&vellip;</td><td>&vellip;</td><td>&vellip;</td></tr></tbody></table></div>"
      ],
      "text/latex": [
       "\\begin{tabular}{r|cccc}\n",
       "\t& prob & width & distrX & distrY\\\\\n",
       "\t\\hline\n",
       "\t& Float32 & Float32 & Gamma… & Gamma…\\\\\n",
       "\t\\hline\n",
       "\t1 & 0.961111 & 95017.0 & Gamma\\{Float64\\}(α=6.0, θ=6.0) & Gamma\\{Float64\\}(α=1008.0, θ=1001.0) \\\\\n",
       "\t2 & 0.958889 & 99104.9 & Gamma\\{Float64\\}(α=6.0, θ=1.0) & Gamma\\{Float64\\}(α=1008.0, θ=1010.0) \\\\\n",
       "\t3 & 0.950556 & 96474.2 & Gamma\\{Float64\\}(α=9.0, θ=6.0) & Gamma\\{Float64\\}(α=1007.0, θ=1007.0) \\\\\n",
       "\t4 & 0.968889 & 97479.6 & Gamma\\{Float64\\}(α=2.0, θ=2.0) & Gamma\\{Float64\\}(α=1004.0, θ=1010.0) \\\\\n",
       "\t5 & 0.96 & 95479.9 & Gamma\\{Float64\\}(α=6.0, θ=7.0) & Gamma\\{Float64\\}(α=1007.0, θ=1007.0) \\\\\n",
       "\t6 & 0.963889 & 95827.1 & Gamma\\{Float64\\}(α=4.0, θ=10.0) & Gamma\\{Float64\\}(α=1000.0, θ=1001.0) \\\\\n",
       "\t7 & 0.96 & 97665.6 & Gamma\\{Float64\\}(α=1.0, θ=3.0) & Gamma\\{Float64\\}(α=1002.0, θ=1010.0) \\\\\n",
       "\t8 & 0.961667 & 95868.8 & Gamma\\{Float64\\}(α=10.0, θ=10.0) & Gamma\\{Float64\\}(α=1000.0, θ=1003.0) \\\\\n",
       "\t9 & 0.955556 & 96062.4 & Gamma\\{Float64\\}(α=6.0, θ=7.0) & Gamma\\{Float64\\}(α=1005.0, θ=1006.0) \\\\\n",
       "\t10 & 0.961667 & 95432.0 & Gamma\\{Float64\\}(α=4.0, θ=6.0) & Gamma\\{Float64\\}(α=1006.0, θ=1009.0) \\\\\n",
       "\t11 & 0.968889 & 98032.4 & Gamma\\{Float64\\}(α=6.0, θ=3.0) & Gamma\\{Float64\\}(α=1000.0, θ=1006.0) \\\\\n",
       "\t12 & 0.962222 & 97379.4 & Gamma\\{Float64\\}(α=9.0, θ=3.0) & Gamma\\{Float64\\}(α=1003.0, θ=1010.0) \\\\\n",
       "\t13 & 0.961667 & 97646.5 & Gamma\\{Float64\\}(α=1.0, θ=8.0) & Gamma\\{Float64\\}(α=1008.0, θ=1009.0) \\\\\n",
       "\t14 & 0.957222 & 95176.8 & Gamma\\{Float64\\}(α=5.0, θ=7.0) & Gamma\\{Float64\\}(α=1005.0, θ=1003.0) \\\\\n",
       "\t15 & 0.952222 & 96005.8 & Gamma\\{Float64\\}(α=4.0, θ=8.0) & Gamma\\{Float64\\}(α=1002.0, θ=1001.0) \\\\\n",
       "\t16 & 0.966667 & 97099.4 & Gamma\\{Float64\\}(α=2.0, θ=1.0) & Gamma\\{Float64\\}(α=1009.0, θ=1005.0) \\\\\n",
       "\t17 & 0.963333 & 98740.4 & Gamma\\{Float64\\}(α=8.0, θ=5.0) & Gamma\\{Float64\\}(α=1005.0, θ=1001.0) \\\\\n",
       "\t18 & 0.968333 & 96939.9 & Gamma\\{Float64\\}(α=6.0, θ=1.0) & Gamma\\{Float64\\}(α=1009.0, θ=1008.0) \\\\\n",
       "\t19 & 0.960556 & 98594.8 & Gamma\\{Float64\\}(α=7.0, θ=1.0) & Gamma\\{Float64\\}(α=1008.0, θ=1010.0) \\\\\n",
       "\t20 & 0.958333 & 96398.6 & Gamma\\{Float64\\}(α=3.0, θ=1.0) & Gamma\\{Float64\\}(α=1009.0, θ=1006.0) \\\\\n",
       "\t21 & 0.961111 & 96550.7 & Gamma\\{Float64\\}(α=3.0, θ=10.0) & Gamma\\{Float64\\}(α=1002.0, θ=1005.0) \\\\\n",
       "\t22 & 0.96 & 97337.1 & Gamma\\{Float64\\}(α=10.0, θ=7.0) & Gamma\\{Float64\\}(α=1009.0, θ=1007.0) \\\\\n",
       "\t23 & 0.956111 & 96546.3 & Gamma\\{Float64\\}(α=9.0, θ=7.0) & Gamma\\{Float64\\}(α=1000.0, θ=1007.0) \\\\\n",
       "\t24 & 0.963333 & 97173.5 & Gamma\\{Float64\\}(α=3.0, θ=8.0) & Gamma\\{Float64\\}(α=1010.0, θ=1001.0) \\\\\n",
       "\t25 & 0.96 & 96586.0 & Gamma\\{Float64\\}(α=4.0, θ=8.0) & Gamma\\{Float64\\}(α=1005.0, θ=1008.0) \\\\\n",
       "\t26 & 0.961667 & 96929.1 & Gamma\\{Float64\\}(α=2.0, θ=1.0) & Gamma\\{Float64\\}(α=1000.0, θ=1002.0) \\\\\n",
       "\t27 & 0.958889 & 98822.3 & Gamma\\{Float64\\}(α=1.0, θ=7.0) & Gamma\\{Float64\\}(α=1001.0, θ=1009.0) \\\\\n",
       "\t28 & 0.969444 & 95945.3 & Gamma\\{Float64\\}(α=4.0, θ=10.0) & Gamma\\{Float64\\}(α=1001.0, θ=1005.0) \\\\\n",
       "\t29 & 0.965 & 96335.0 & Gamma\\{Float64\\}(α=5.0, θ=1.0) & Gamma\\{Float64\\}(α=1009.0, θ=1003.0) \\\\\n",
       "\t30 & 0.966667 & 95785.0 & Gamma\\{Float64\\}(α=8.0, θ=1.0) & Gamma\\{Float64\\}(α=1009.0, θ=1008.0) \\\\\n",
       "\t$\\dots$ & $\\dots$ & $\\dots$ & $\\dots$ & $\\dots$ \\\\\n",
       "\\end{tabular}\n"
      ],
      "text/plain": [
       "\u001b[1m100×4 DataFrame\u001b[0m\n",
       "\u001b[1m Row \u001b[0m│\u001b[1m prob     \u001b[0m\u001b[1m width   \u001b[0m\u001b[1m distrX                         \u001b[0m\u001b[1m distrY              \u001b[0m ⋯\n",
       "\u001b[1m     \u001b[0m│\u001b[90m Float32  \u001b[0m\u001b[90m Float32 \u001b[0m\u001b[90m Gamma…                         \u001b[0m\u001b[90m Gamma…              \u001b[0m ⋯\n",
       "─────┼──────────────────────────────────────────────────────────────────────────\n",
       "   1 │ 0.961111  95017.0  Gamma{Float64}(α=6.0, θ=6.0)    Gamma{Float64}(α=100 ⋯\n",
       "   2 │ 0.958889  99104.9  Gamma{Float64}(α=6.0, θ=1.0)    Gamma{Float64}(α=100\n",
       "   3 │ 0.950556  96474.2  Gamma{Float64}(α=9.0, θ=6.0)    Gamma{Float64}(α=100\n",
       "   4 │ 0.968889  97479.6  Gamma{Float64}(α=2.0, θ=2.0)    Gamma{Float64}(α=100\n",
       "   5 │ 0.96      95479.9  Gamma{Float64}(α=6.0, θ=7.0)    Gamma{Float64}(α=100 ⋯\n",
       "   6 │ 0.963889  95827.1  Gamma{Float64}(α=4.0, θ=10.0)   Gamma{Float64}(α=100\n",
       "   7 │ 0.96      97665.6  Gamma{Float64}(α=1.0, θ=3.0)    Gamma{Float64}(α=100\n",
       "   8 │ 0.961667  95868.8  Gamma{Float64}(α=10.0, θ=10.0)  Gamma{Float64}(α=100\n",
       "   9 │ 0.955556  96062.4  Gamma{Float64}(α=6.0, θ=7.0)    Gamma{Float64}(α=100 ⋯\n",
       "  10 │ 0.961667  95432.0  Gamma{Float64}(α=4.0, θ=6.0)    Gamma{Float64}(α=100\n",
       "  11 │ 0.968889  98032.4  Gamma{Float64}(α=6.0, θ=3.0)    Gamma{Float64}(α=100\n",
       "  ⋮  │    ⋮         ⋮                   ⋮                                 ⋮    ⋱\n",
       "  91 │ 0.957222  97363.9  Gamma{Float64}(α=8.0, θ=2.0)    Gamma{Float64}(α=100\n",
       "  92 │ 0.957222  97216.5  Gamma{Float64}(α=9.0, θ=1.0)    Gamma{Float64}(α=100 ⋯\n",
       "  93 │ 0.961111  98741.7  Gamma{Float64}(α=7.0, θ=1.0)    Gamma{Float64}(α=100\n",
       "  94 │ 0.958333  98333.1  Gamma{Float64}(α=1.0, θ=8.0)    Gamma{Float64}(α=100\n",
       "  95 │ 0.968889  97574.5  Gamma{Float64}(α=2.0, θ=7.0)    Gamma{Float64}(α=100\n",
       "  96 │ 0.962778  96417.9  Gamma{Float64}(α=2.0, θ=5.0)    Gamma{Float64}(α=100 ⋯\n",
       "  97 │ 0.957222  95129.8  Gamma{Float64}(α=8.0, θ=6.0)    Gamma{Float64}(α=100\n",
       "  98 │ 0.969444  99518.6  Gamma{Float64}(α=9.0, θ=5.0)    Gamma{Float64}(α=101\n",
       "  99 │ 0.962222  96546.5  Gamma{Float64}(α=2.0, θ=2.0)    Gamma{Float64}(α=101\n",
       " 100 │ 0.963889  98259.2  Gamma{Float64}(α=8.0, θ=3.0)    Gamma{Float64}(α=100 ⋯\n",
       "\u001b[36m                                                    1 column and 79 rows omitted\u001b[0m"
      ]
     },
     "execution_count": 76,
     "metadata": {},
     "output_type": "execute_result"
    }
   ],
   "source": [
    "probs  = [x for (x, _) in results]\n",
    "widths = [x for (_, x) in results]\n",
    "df = DataFrame(prob=probs, width=widths, distrX=distrX, distrY=distrY)"
   ]
  },
  {
   "cell_type": "code",
   "execution_count": 77,
   "metadata": {},
   "outputs": [
    {
     "data": {
      "text/plain": [
       "\"oneSided_unpooled_0.025.csv\""
      ]
     },
     "execution_count": 77,
     "metadata": {},
     "output_type": "execute_result"
    }
   ],
   "source": [
    "filename = alternativeType * \"_\" * (pooled ? \"\" : \"un\") * \"pooled\" * \"_\" * string(alpha) * \".csv\"\n",
    "CSV.write(filename, df)"
   ]
  },
  {
   "cell_type": "markdown",
   "metadata": {},
   "source": [
    "- overview/explain two-sample t-test\n",
    "- derive t test confidence interval by inverting the t test of H0: delta = delta0 vs. H_A: delta != delta0, where delta = mu_1 - mu_2, delta0 in R\n",
    "    - CI is the set of all deltas for which we do NOT reject the null == set of all deltas for which p-value > 0.05\n",
    "    - set of all deltas for which the test statistic < t quantile == set of all deltas for which [mean(x1) - mean(x2) - delta] / s.d. (pooled or unpooled) < t quantile\n",
    "    - output after solving for delta is the CI\n",
    "- mention that the test statistic for difference in means (for pooled variances) follows a t distribution\n",
    "    - DoF also changes for unpooled variances\n",
    "- permutation test\n",
    "    - explain how permTest p-value is derived (detail interval halving, etc.)\n",
    "    - similar to above t test overview, start with two-sided alternative, then explain for inverting two one-sided tests (here, use alpha/2 instead of alpha)\n",
    "    - literature review\n",
    "- fix DoF in unpooled tconf()"
   ]
  }
 ],
 "metadata": {
  "kernelspec": {
   "display_name": "Julia 1.7.1",
   "language": "julia",
   "name": "julia-1.7"
  },
  "language_info": {
   "file_extension": ".jl",
   "mimetype": "application/julia",
   "name": "julia",
   "version": "1.7.1"
  }
 },
 "nbformat": 4,
 "nbformat_minor": 4
}
