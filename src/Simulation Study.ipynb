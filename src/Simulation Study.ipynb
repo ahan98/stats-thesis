{
 "cells": [
  {
   "cell_type": "code",
   "execution_count": 10,
   "metadata": {},
   "outputs": [
    {
     "data": {
      "text/plain": [
       "partition (generic function with 1 method)"
      ]
     },
     "execution_count": 10,
     "metadata": {},
     "output_type": "execute_result"
    }
   ],
   "source": [
    "using Random\n",
    "using Distributions\n",
    "using DataFrames, CSV\n",
    "include(\"statistics.jl\")\n",
    "include(\"simulation.jl\")\n",
    "include(\"data.jl\")\n",
    "include(\"util.jl\")"
   ]
  },
  {
   "cell_type": "code",
   "execution_count": 32,
   "metadata": {},
   "outputs": [
    {
     "data": {
      "text/plain": [
       "10-element Vector{Float32}:\n",
       " 15.945381\n",
       " 17.107214\n",
       " 19.266548\n",
       " 17.53432\n",
       " 13.3879795\n",
       "  5.9490023\n",
       "  6.20426\n",
       "  4.8129325\n",
       " 13.273467\n",
       " 16.86187"
      ]
     },
     "execution_count": 32,
     "metadata": {},
     "output_type": "execute_result"
    }
   ],
   "source": [
    "\"\"\"\n",
    "CONFIG\n",
    "\"\"\"\n",
    "\n",
    "pooled = true\n",
    "alpha = 0.05\n",
    "isTwoSided = false\n",
    "\n",
    "# data\n",
    "B  = 10    # num. coverage probabilities per boxplot\n",
    "S  = 18   # num. samples per coverage probability\n",
    "nx = 8      # size of group 1\n",
    "ny = 8      # size of group 2\n",
    "dtype = Float32\n",
    "\n",
    "# distributions\n",
    "Random.seed!(123)\n",
    "\n",
    "distrTypeX = Gamma\n",
    "shapeX = dtype.(rand(Uniform(1, 5), B))\n",
    "scaleX = 4 * shapeX\n",
    "\n",
    "distrTypeY = Gamma\n",
    "shapeY = dtype.(rand(Uniform(1, 5), B))\n",
    "scaleY = 4 * shapeY"
   ]
  },
  {
   "cell_type": "code",
   "execution_count": 33,
   "metadata": {},
   "outputs": [
    {
     "name": "stdout",
     "output_type": "stream",
     "text": [
      "size(x) = (10, 18, 8)\n",
      "size(y) = (10, 18, 8)\n",
      "size(wide) = (10, 18)\n",
      "size(narrow) = (10, 18)\n",
      "size(deltas) = (10,)\n",
      "distrX[1] = Gamma{Float32}(α=4.6251984f0, θ=18.500793f0)\n",
      "distrY[1] = Gamma{Float32}(α=3.9863453f0, θ=15.945381f0)\n"
     ]
    },
    {
     "data": {
      "text/plain": [
       "Gamma{Float32}(α=3.9863453f0, θ=15.945381f0)"
      ]
     },
     "execution_count": 33,
     "metadata": {},
     "output_type": "execute_result"
    }
   ],
   "source": [
    "# generate data\n",
    "x, y, wide, narrow, deltas, distrX, distrY = generateData(B, S, nx, ny,\n",
    "                                                          distrTypeX, (shapeX, scaleX),\n",
    "                                                          distrTypeY, (shapeY, scaleY))\n",
    "@show size(x)\n",
    "@show size(y)\n",
    "@show size(wide)\n",
    "@show size(narrow)\n",
    "@show size(deltas)\n",
    "@show distrX[1]\n",
    "@show distrY[1]"
   ]
  },
  {
   "cell_type": "code",
   "execution_count": 38,
   "metadata": {},
   "outputs": [],
   "source": [
    "# wrap constant arguments into an iterable object\n",
    "# this allows each batch to have local access\n",
    "\n",
    "@enum Alternative less greater twoSided\n",
    "\n",
    "struct Args\n",
    "    px::AbstractMatrix{Int}\n",
    "    py::AbstractMatrix{Int}\n",
    "    pooled::Bool\n",
    "    alpha::Float32\n",
    "    alt_lo::Alternative\n",
    "    alt_hi::Alternative\n",
    "end\n",
    "\n",
    "px, py = partition(nx, ny)\n",
    "args = Args(px, py, pooled, alpha, twoSided, twoSided)\n",
    "Base.Broadcast.broadcastable(args::Args) = Ref(args)  # make object iterable"
   ]
  },
  {
   "cell_type": "code",
   "execution_count": 44,
   "metadata": {},
   "outputs": [
    {
     "name": "stdout",
     "output_type": "stream",
     "text": [
      "Finished (isTwoSided: true, pooled: true)\n",
      "Finished (isTwoSided: true, pooled: false)\n",
      "Finished (isTwoSided: false, pooled: true)\n",
      "Finished (isTwoSided: false, pooled: false)\n"
     ]
    }
   ],
   "source": [
    "for isTwoSided in [true, false]\n",
    "    alpha_temp = alpha\n",
    "    alt_lo = alt_hi = twoSided\n",
    "    \n",
    "    if !isTwoSided\n",
    "        alpha_temp = alpha / 2\n",
    "        alt_lo = greater\n",
    "        alt_hi = less\n",
    "    end\n",
    "        \n",
    "    for pooled in [true, false]\n",
    "        args = Args(px, py, pooled, alpha_temp, alt_lo, alt_hi)\n",
    "        \n",
    "        results = coverage.(eachslice(x, dims=1),\n",
    "                            eachslice(y, dims=1),\n",
    "                            eachrow(wide),\n",
    "                            eachrow(narrow),\n",
    "                            deltas,\n",
    "                            args)\n",
    "        \n",
    "        # convert results to DataFrame\n",
    "        probs  = [x for (x, _) in results]\n",
    "        widths = [x for (_, x) in results]\n",
    "        df = DataFrame(prob=probs, width=widths, distrX=distrX, distrY=distrY)\n",
    "\n",
    "        # save DataFrame as .csv\n",
    "        filename = (isTwoSided ? \"twoSided\" : \"oneSided\") * \"_\" *\n",
    "                   (pooled ? \"\" : \"un\") * \"pooled\" * \"_\" * string(args.alpha) * \".csv\"\n",
    "        \n",
    "        #CSV.write(\"../results/\" * filename, df)\n",
    "        CSV.write(filename, df)\n",
    "        \n",
    "        println(\"Finished (isTwoSided: $isTwoSided, pooled: $pooled)\")\n",
    "    end\n",
    "end"
   ]
  }
 ],
 "metadata": {
  "kernelspec": {
   "display_name": "Julia 1.7.1",
   "language": "julia",
   "name": "julia-1.7"
  },
  "language_info": {
   "file_extension": ".jl",
   "mimetype": "application/julia",
   "name": "julia",
   "version": "1.7.1"
  }
 },
 "nbformat": 4,
 "nbformat_minor": 4
}
