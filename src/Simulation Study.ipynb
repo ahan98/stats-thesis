{
 "cells": [
  {
   "cell_type": "code",
   "execution_count": 168,
   "metadata": {},
   "outputs": [
    {
     "data": {
      "text/plain": [
       "partition (generic function with 1 method)"
      ]
     },
     "execution_count": 168,
     "metadata": {},
     "output_type": "execute_result"
    }
   ],
   "source": [
    "using Random\n",
    "using Distributions\n",
    "using DataFrames, CSV\n",
    "include(\"statistics.jl\")\n",
    "include(\"simulation.jl\")\n",
    "include(\"data.jl\")\n",
    "include(\"util.jl\")"
   ]
  },
  {
   "cell_type": "code",
   "execution_count": 169,
   "metadata": {},
   "outputs": [
    {
     "data": {
      "text/plain": [
       "5-element Vector{Int64}:\n",
       "  8\n",
       "  4\n",
       " 20\n",
       " 12\n",
       "  8"
      ]
     },
     "execution_count": 169,
     "metadata": {},
     "output_type": "execute_result"
    }
   ],
   "source": [
    "\"\"\"\n",
    "CONFIG\n",
    "\"\"\"\n",
    "\n",
    "pooled = false\n",
    "alpha = 0.05\n",
    "isTwoSided = false\n",
    "\n",
    "# data\n",
    "B  = 5      # num. coverage probabilities per boxplot\n",
    "S  = 10     # num. samples per coverage probability\n",
    "nx = 6      # size of group 1\n",
    "ny = 6      # size of group 2\n",
    "dtype = Float32\n",
    "\n",
    "# distributions\n",
    "Random.seed!(123)\n",
    "\n",
    "distrTypeX = Gamma\n",
    "shapeX = rand(1:5, B)\n",
    "scaleX = 4 * shapeX\n",
    "\n",
    "distrTypeY = Gamma\n",
    "shapeY = rand(1:5, B)\n",
    "scaleY = 4 * shapeY"
   ]
  },
  {
   "cell_type": "code",
   "execution_count": 170,
   "metadata": {},
   "outputs": [
    {
     "name": "stdout",
     "output_type": "stream",
     "text": [
      "size(x) = (5, 10, 6)\n",
      "size(y) = (5, 10, 6)\n",
      "size(wide) = (5, 10)\n",
      "size(narrow) = (5, 10)\n",
      "size(deltas) = (5,)\n",
      "distrX[1] = Gamma{Float64}(α=3.0, θ=12.0)\n",
      "distrY[1] = Gamma{Float64}(α=2.0, θ=8.0)\n"
     ]
    },
    {
     "data": {
      "text/plain": [
       "Gamma{Float64}(α=2.0, θ=8.0)"
      ]
     },
     "execution_count": 170,
     "metadata": {},
     "output_type": "execute_result"
    }
   ],
   "source": [
    "# generate data\n",
    "x, y, wide, narrow, deltas, distrX, distrY = generateData(B, S, nx, ny,\n",
    "                                                          distrTypeX, (shapeX, scaleX),\n",
    "                                                          distrTypeY, (shapeY, scaleY))\n",
    "@show size(x)\n",
    "@show size(y)\n",
    "@show size(wide)\n",
    "@show size(narrow)\n",
    "@show size(deltas)\n",
    "@show distrX[1]\n",
    "@show distrY[1]"
   ]
  },
  {
   "cell_type": "code",
   "execution_count": 171,
   "metadata": {},
   "outputs": [
    {
     "data": {
      "text/plain": [
       "Args([1 2 … 5 6; 1 2 … 5 7; … ; 6 8 … 11 12; 7 8 … 11 12], [12 11 … 8 7; 12 11 … 8 6; … ; 7 5 … 2 1; 6 5 … 2 1], false, 0.025f0, greater, less)"
      ]
     },
     "execution_count": 171,
     "metadata": {},
     "output_type": "execute_result"
    }
   ],
   "source": [
    "# wrap constant arguments into an iterable object\n",
    "# this allows each batch to have local access\n",
    "\n",
    "@enum Alternative less greater twoSided\n",
    "\n",
    "struct Args\n",
    "    px::AbstractMatrix{Int}\n",
    "    py::AbstractMatrix{Int}\n",
    "    pooled::Bool\n",
    "    alpha::Float32\n",
    "    alt_lo::Alternative\n",
    "    alt_hi::Alternative\n",
    "end\n",
    "\n",
    "px, py = partition(nx, ny)\n",
    "\n",
    "if isTwoSided\n",
    "    args = Args(px, py, pooled, alpha, twoSided, twoSided)\n",
    "else\n",
    "    args = Args(px, py, pooled, alpha / 2, greater, less)\n",
    "end\n",
    "\n",
    "Base.Broadcast.broadcastable(args::Args) = Ref(args)  # make object iterable\n",
    "args"
   ]
  },
  {
   "cell_type": "code",
   "execution_count": 172,
   "metadata": {},
   "outputs": [
    {
     "name": "stdout",
     "output_type": "stream",
     "text": [
      "  0.415989 seconds (1.88 M allocations: 201.326 MiB, 5.32% gc time, 88.78% compilation time)\n"
     ]
    },
    {
     "data": {
      "text/plain": [
       "5-element Vector{Tuple{Float32, Float32}}:\n",
       " (0.9, 39.562084)\n",
       " (0.9, 37.43362)\n",
       " (1.0, 99.32058)\n",
       " (0.9, 36.45017)\n",
       " (0.8, 38.431763)"
      ]
     },
     "execution_count": 172,
     "metadata": {},
     "output_type": "execute_result"
    }
   ],
   "source": [
    "@time begin\n",
    "results = coverage.(eachslice(x, dims=1),\n",
    "                    eachslice(y, dims=1),\n",
    "                    eachrow(wide),\n",
    "                    eachrow(narrow),\n",
    "                    deltas,\n",
    "                    args)\n",
    "end"
   ]
  },
  {
   "cell_type": "code",
   "execution_count": 173,
   "metadata": {},
   "outputs": [
    {
     "data": {
      "text/html": [
       "<div class=\"data-frame\"><p>5 rows × 4 columns</p><table class=\"data-frame\"><thead><tr><th></th><th>prob</th><th>width</th><th>distrX</th><th>distrY</th></tr><tr><th></th><th title=\"Float32\">Float32</th><th title=\"Float32\">Float32</th><th title=\"Gamma{Float64}\">Gamma…</th><th title=\"Gamma{Float64}\">Gamma…</th></tr></thead><tbody><tr><th>1</th><td>0.9</td><td>39.5621</td><td>Gamma{Float64}(α=3.0, θ=12.0)</td><td>Gamma{Float64}(α=2.0, θ=8.0)</td></tr><tr><th>2</th><td>0.9</td><td>37.4336</td><td>Gamma{Float64}(α=3.0, θ=12.0)</td><td>Gamma{Float64}(α=1.0, θ=4.0)</td></tr><tr><th>3</th><td>1.0</td><td>99.3206</td><td>Gamma{Float64}(α=5.0, θ=20.0)</td><td>Gamma{Float64}(α=5.0, θ=20.0)</td></tr><tr><th>4</th><td>0.9</td><td>36.4502</td><td>Gamma{Float64}(α=1.0, θ=4.0)</td><td>Gamma{Float64}(α=3.0, θ=12.0)</td></tr><tr><th>5</th><td>0.8</td><td>38.4318</td><td>Gamma{Float64}(α=3.0, θ=12.0)</td><td>Gamma{Float64}(α=2.0, θ=8.0)</td></tr></tbody></table></div>"
      ],
      "text/latex": [
       "\\begin{tabular}{r|cccc}\n",
       "\t& prob & width & distrX & distrY\\\\\n",
       "\t\\hline\n",
       "\t& Float32 & Float32 & Gamma… & Gamma…\\\\\n",
       "\t\\hline\n",
       "\t1 & 0.9 & 39.5621 & Gamma\\{Float64\\}(α=3.0, θ=12.0) & Gamma\\{Float64\\}(α=2.0, θ=8.0) \\\\\n",
       "\t2 & 0.9 & 37.4336 & Gamma\\{Float64\\}(α=3.0, θ=12.0) & Gamma\\{Float64\\}(α=1.0, θ=4.0) \\\\\n",
       "\t3 & 1.0 & 99.3206 & Gamma\\{Float64\\}(α=5.0, θ=20.0) & Gamma\\{Float64\\}(α=5.0, θ=20.0) \\\\\n",
       "\t4 & 0.9 & 36.4502 & Gamma\\{Float64\\}(α=1.0, θ=4.0) & Gamma\\{Float64\\}(α=3.0, θ=12.0) \\\\\n",
       "\t5 & 0.8 & 38.4318 & Gamma\\{Float64\\}(α=3.0, θ=12.0) & Gamma\\{Float64\\}(α=2.0, θ=8.0) \\\\\n",
       "\\end{tabular}\n"
      ],
      "text/plain": [
       "\u001b[1m5×4 DataFrame\u001b[0m\n",
       "\u001b[1m Row \u001b[0m│\u001b[1m prob    \u001b[0m\u001b[1m width   \u001b[0m\u001b[1m distrX                        \u001b[0m\u001b[1m distrY                \u001b[0m ⋯\n",
       "\u001b[1m     \u001b[0m│\u001b[90m Float32 \u001b[0m\u001b[90m Float32 \u001b[0m\u001b[90m Gamma…                        \u001b[0m\u001b[90m Gamma…                \u001b[0m ⋯\n",
       "─────┼──────────────────────────────────────────────────────────────────────────\n",
       "   1 │     0.9  39.5621  Gamma{Float64}(α=3.0, θ=12.0)  Gamma{Float64}(α=2.0,  ⋯\n",
       "   2 │     0.9  37.4336  Gamma{Float64}(α=3.0, θ=12.0)  Gamma{Float64}(α=1.0,\n",
       "   3 │     1.0  99.3206  Gamma{Float64}(α=5.0, θ=20.0)  Gamma{Float64}(α=5.0,\n",
       "   4 │     0.9  36.4502  Gamma{Float64}(α=1.0, θ=4.0)   Gamma{Float64}(α=3.0,\n",
       "   5 │     0.8  38.4318  Gamma{Float64}(α=3.0, θ=12.0)  Gamma{Float64}(α=2.0,  ⋯\n",
       "\u001b[36m                                                                1 column omitted\u001b[0m"
      ]
     },
     "execution_count": 173,
     "metadata": {},
     "output_type": "execute_result"
    }
   ],
   "source": [
    "probs  = [x for (x, _) in results]\n",
    "widths = [x for (_, x) in results]\n",
    "df = DataFrame(prob=probs, width=widths, distrX=distrX, distrY=distrY)"
   ]
  },
  {
   "cell_type": "code",
   "execution_count": 181,
   "metadata": {},
   "outputs": [
    {
     "data": {
      "text/plain": [
       "\"../results/oneSided_unpooled_0.05.csv\""
      ]
     },
     "execution_count": 181,
     "metadata": {},
     "output_type": "execute_result"
    }
   ],
   "source": [
    "filename = (isTwoSided ? \"twoSided\" : \"oneSided\") * \"_\" * (pooled ? \"\" : \"un\") * \"pooled\" * \"_\" * string(alpha) * \".csv\"\n",
    "CSV.write(\"../results/\" * filename, df)"
   ]
  }
 ],
 "metadata": {
  "kernelspec": {
   "display_name": "Julia 1.7.1",
   "language": "julia",
   "name": "julia-1.7"
  },
  "language_info": {
   "file_extension": ".jl",
   "mimetype": "application/julia",
   "name": "julia",
   "version": "1.7.1"
  }
 },
 "nbformat": 4,
 "nbformat_minor": 4
}
