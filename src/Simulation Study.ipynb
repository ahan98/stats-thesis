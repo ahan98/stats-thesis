{
 "cells": [
  {
   "cell_type": "code",
   "execution_count": 46,
   "metadata": {},
   "outputs": [
    {
     "data": {
      "text/plain": [
       "partition (generic function with 1 method)"
      ]
     },
     "execution_count": 46,
     "metadata": {},
     "output_type": "execute_result"
    }
   ],
   "source": [
    "using Random\n",
    "using Distributions\n",
    "using DataFrames, CSV\n",
    "\n",
    "# compile local files\n",
    "include(\"statistics.jl\")\n",
    "include(\"simulation.jl\")\n",
    "include(\"data.jl\")\n",
    "include(\"util.jl\")\n",
    "\n",
    "using .TestStatistics\n",
    "using .Simulation\n",
    "using .Data"
   ]
  },
  {
   "cell_type": "code",
   "execution_count": 47,
   "metadata": {},
   "outputs": [
    {
     "data": {
      "text/plain": [
       "100-element Vector{Float32}:\n",
       " 19.266548\n",
       " 17.53432\n",
       " 13.3879795\n",
       "  5.9490023\n",
       "  6.20426\n",
       "  4.8129325\n",
       " 10.183042\n",
       " 17.543331\n",
       "  5.9766097\n",
       " 15.840324\n",
       " 15.291957\n",
       " 19.871372\n",
       " 15.853451\n",
       "  ⋮\n",
       " 13.917272\n",
       "  8.684432\n",
       " 12.028593\n",
       " 19.052887\n",
       " 11.938293\n",
       " 13.562956\n",
       "  6.078747\n",
       " 10.519771\n",
       " 12.670172\n",
       " 16.41903\n",
       "  5.146885\n",
       " 18.922937"
      ]
     },
     "execution_count": 47,
     "metadata": {},
     "output_type": "execute_result"
    }
   ],
   "source": [
    "\"\"\"\n",
    "CONFIG\n",
    "\"\"\"\n",
    "\n",
    "pooled = true\n",
    "alpha = 0.05\n",
    "isTwoSided = false\n",
    "\n",
    "# data\n",
    "B  = 100    # num. coverage probabilities per boxplot\n",
    "S  = 1800   # num. samples per coverage probability\n",
    "nx = 8      # size of group 1\n",
    "ny = 8      # size of group 2\n",
    "px, py = partition(nx, ny)\n",
    "dtype = Float32\n",
    "\n",
    "# distributions\n",
    "Random.seed!(123)\n",
    "\n",
    "distrTypeX = Gamma\n",
    "shapeX = dtype.(rand(Uniform(1, 5), B))\n",
    "scaleX = 4 * shapeX\n",
    "\n",
    "distrTypeY = Gamma\n",
    "shapeY = dtype.(rand(Uniform(1, 5), B))\n",
    "scaleY = 4 * shapeY"
   ]
  },
  {
   "cell_type": "code",
   "execution_count": 50,
   "metadata": {},
   "outputs": [
    {
     "name": "stdout",
     "output_type": "stream",
     "text": [
      "size(x) = (100, 1800, 8)\n",
      "size(y) = (100, 1800, 8)\n",
      "size(wide) = (100, 1800)\n",
      "size(narrow) = (100, 1800)\n",
      "deltas[1] = -7.230133f0\n",
      "distrX[1] = Gamma{Float32}(α=4.6251984f0, θ=18.500793f0)\n",
      "distrY[1] = Gamma{Float32}(α=4.816637f0, θ=19.266548f0)\n"
     ]
    },
    {
     "data": {
      "text/plain": [
       "Gamma{Float32}(α=4.816637f0, θ=19.266548f0)"
      ]
     },
     "execution_count": 50,
     "metadata": {},
     "output_type": "execute_result"
    }
   ],
   "source": [
    "# generate data\n",
    "x, y, wide, narrow, deltas, distrX, distrY = generateData(B, S, nx, ny,\n",
    "                                                          distrTypeX, (shapeX, scaleX),\n",
    "                                                          distrTypeY, (shapeY, scaleY))\n",
    "@show size(x)\n",
    "@show size(y)\n",
    "@show size(wide)\n",
    "@show size(narrow)\n",
    "@show deltas[1]\n",
    "@show distrX[1]\n",
    "@show distrY[1]"
   ]
  },
  {
   "cell_type": "code",
   "execution_count": 51,
   "metadata": {},
   "outputs": [],
   "source": [
    "# wrap constant arguments into an iterable object\n",
    "# this allows each batch to have local access\n",
    "\n",
    "#@enum Alternative less greater twoSided\n",
    "# try with above line uncommented but enum removed from simulation.jl\n",
    "\n",
    "struct Args\n",
    "    px::AbstractMatrix{Int}\n",
    "    py::AbstractMatrix{Int}\n",
    "    pooled::Bool\n",
    "    alpha::Float32\n",
    "    alt_lo::Alternative\n",
    "    alt_hi::Alternative\n",
    "end\n",
    "\n",
    "Base.Broadcast.broadcastable(obj::Args) = Ref(obj)  # make objects of this type iterable"
   ]
  },
  {
   "cell_type": "code",
   "execution_count": 52,
   "metadata": {},
   "outputs": [
    {
     "name": "stdout",
     "output_type": "stream",
     "text": [
      "(isTwoSided: true, pooled: true)\n",
      "(isTwoSided: true, pooled: false)\n",
      "(isTwoSided: false, pooled: true)\n",
      "(isTwoSided: false, pooled: false)\n"
     ]
    }
   ],
   "source": [
    "for isTwoSided in [true, false]\n",
    "    alpha_temp = alpha\n",
    "    alt_lo = alt_hi = twoSided\n",
    "    \n",
    "    if !isTwoSided\n",
    "        alpha_temp = alpha / 2\n",
    "        alt_lo = greater\n",
    "        alt_hi = less\n",
    "    end\n",
    "        \n",
    "    for pooled in [true, false]\n",
    "        args = Args(px, py, pooled, alpha_temp, alt_lo, alt_hi)\n",
    "        \n",
    "        results = coverage.(eachslice(x, dims=1),\n",
    "                            eachslice(y, dims=1),\n",
    "                            eachrow(wide),\n",
    "                            eachrow(narrow),\n",
    "                            deltas,\n",
    "                            args)\n",
    "        \n",
    "        # convert results to DataFrame\n",
    "        probs  = [x for (x, _) in results]\n",
    "        widths = [x for (_, x) in results]\n",
    "        df = DataFrame(prob=probs, width=widths, distrX=distrX, distrY=distrY)\n",
    "\n",
    "        # save DataFrame as .csv\n",
    "        filename = (isTwoSided ? \"twoSided\" : \"oneSided\") * \"_\" *\n",
    "                   (pooled ? \"\" : \"un\") * \"pooled\" * \"_\" * string(args.alpha) * \".csv\"\n",
    "        \n",
    "        #CSV.write(\"../results/\" * filename, df)\n",
    "        CSV.write(filename, df)\n",
    "        \n",
    "    end\n",
    "end"
   ]
  }
 ],
 "metadata": {
  "kernelspec": {
   "display_name": "Julia 1.7.1",
   "language": "julia",
   "name": "julia-1.7"
  },
  "language_info": {
   "file_extension": ".jl",
   "mimetype": "application/julia",
   "name": "julia",
   "version": "1.7.1"
  }
 },
 "nbformat": 4,
 "nbformat_minor": 4
}
