{
 "cells": [
  {
   "cell_type": "code",
   "execution_count": 273,
   "metadata": {},
   "outputs": [
    {
     "data": {
      "text/plain": [
       "_var (generic function with 2 methods)"
      ]
     },
     "execution_count": 273,
     "metadata": {},
     "output_type": "execute_result"
    }
   ],
   "source": [
    "#using CUDA, Random\n",
    "#using GPUArrays: @allowscalar\n",
    "using Distributions: Gamma\n",
    "#CUDA.allowscalar(false)\n",
    "include(\"utils.jl\")\n",
    "include(\"statistics.jl\")"
   ]
  },
  {
   "cell_type": "code",
   "execution_count": 274,
   "metadata": {},
   "outputs": [
    {
     "data": {
      "text/plain": [
       "\"two_sided\""
      ]
     },
     "execution_count": 274,
     "metadata": {},
     "output_type": "execute_result"
    }
   ],
   "source": [
    "# permutation test configuration\n",
    "pooled = false\n",
    "alpha = 0.05\n",
    "alternative = \"two_sided\""
   ]
  },
  {
   "cell_type": "code",
   "execution_count": 275,
   "metadata": {},
   "outputs": [
    {
     "data": {
      "text/plain": [
       "Float32"
      ]
     },
     "execution_count": 275,
     "metadata": {},
     "output_type": "execute_result"
    }
   ],
   "source": [
    "# data dimensions\n",
    "B  = 2    # num. coverage probabilities per boxplot\n",
    "S  = 3   # num. samples per coverage probability\n",
    "nx = 4      # size of group 1\n",
    "ny = 4      # size of group 2\n",
    "px, py = partition(nx, ny)\n",
    "dtype = Float32"
   ]
  },
  {
   "cell_type": "code",
   "execution_count": 276,
   "metadata": {},
   "outputs": [
    {
     "data": {
      "text/plain": [
       "2×3 Matrix{Tuple{Float32, Float32}}:\n",
       " (24.6893, 35.9444)    (35.7545, 50.8279)    (30.1725, 42.5637)\n",
       " (-32.2455, -10.2636)  (-44.9693, -23.0827)  (-43.8947, -25.1134)"
      ]
     },
     "execution_count": 276,
     "metadata": {},
     "output_type": "execute_result"
    }
   ],
   "source": [
    "# Generate data\n",
    "Random.seed!(123)\n",
    "\n",
    "shapeX = rand(1:10, B)\n",
    "scaleX = rand(1:10, B)\n",
    "distrX = Gamma.(shapeX, scaleX)\n",
    "\n",
    "shapeY = rand(1:10, B)\n",
    "scaleY = rand(1:10, B)\n",
    "distrY = Gamma.(shapeY, scaleY)\n",
    "\n",
    "deltas = @. (shapeX * scaleX) - (shapeY * scaleY)\n",
    "\n",
    "# produces B vectors of S * nx elements\n",
    "# each vector is drawn from a distinct (but not necessarily distinct) distribution\n",
    "x = rand.(distrX, S * nx)\n",
    "y = rand.(distrY, S * ny)\n",
    "\n",
    "# flatten into (B, S * n)\n",
    "x = hcat(x...)'\n",
    "y = hcat(y...)'\n",
    "\n",
    "# reshape to 3D batch\n",
    "x = reshape(x, (B, S, nx))\n",
    "y = reshape(y, (B, S, ny))\n",
    "\n",
    "# Compute t confidence intervals for each of the (B x S x nx) pairs\n",
    "wide   = tconf(x, y, alpha=0.00001, pooled=pooled)\n",
    "narrow = tconf(x, y, alpha=0.4, pooled=pooled)\n",
    "\n",
    "wide   = reshape(wide, B, S)\n",
    "narrow = reshape(narrow, B, S)\n",
    "\n",
    "# move data to GPU\n",
    "#x = CuArray(x)\n",
    "#y = CuArray(y)\n",
    "#typeof(x)"
   ]
  },
  {
   "cell_type": "code",
   "execution_count": 279,
   "metadata": {},
   "outputs": [
    {
     "data": {
      "text/plain": [
       "coverage (generic function with 2 methods)"
      ]
     },
     "execution_count": 279,
     "metadata": {},
     "output_type": "execute_result"
    }
   ],
   "source": [
    "function pval(x, y, pooled=false, alternative=\"two-sided\", delta=0)\n",
    "    \"\"\"\n",
    "    Parameters\n",
    "    ----------\n",
    "    x : Vector{Real}\n",
    "        Data for group 1\n",
    "    \n",
    "    y : Vector{Real}\n",
    "        Data for group 2\n",
    "    \n",
    "    pooled : Bool\n",
    "        Assume equal/unequal variances for the two groups\n",
    "    \n",
    "    alternative : String\n",
    "        Type of alternative hypothesis\n",
    "    \n",
    "    delta : Real\n",
    "        Null hypothesis difference in means\n",
    "    \n",
    "    Returns\n",
    "    -------\n",
    "    Float64\n",
    "        Proportion of pairs among all sample combinations which have\n",
    "        a test statistic as or more extreme than the original pair (x, y)\n",
    "    \"\"\"\n",
    "    x_shift = x .- delta  # shift group 1 under null hypothesis\n",
    "    t_obs = t(x_shift, y, pooled)  # test statistic for observed data\n",
    "    combined = vcat(x_shift, y)  # join original pair into single vector\n",
    "    xs = combined[px]   # get all combinations of pairs from original pair\n",
    "    ys = combined[py]\n",
    "    ts = t(xs, ys, pooled)   # test statistic for all possible pairs of samples\n",
    "    \n",
    "    if alternative == \"smaller\"\n",
    "        n_extreme = count(ts .<= t_obs)\n",
    "    elseif alternative == \"larger\"\n",
    "        n_extreme = count(ts .>= t_obs)\n",
    "    else\n",
    "        n_extreme = count(@. (ts <= -abs(t_obs)) | (ts >= abs(t_obs)))\n",
    "    end\n",
    "\n",
    "    return n_extreme / size(px, 1)  # proportion of pairs w/ extreme test statistic\n",
    "    \n",
    "end\n",
    "\n",
    "function search(x, y, start, stop;\n",
    "                pooled=false, alternative=\"two-sided\", isLowerBound=true,\n",
    "                margin=0.005, threshold=1.0, alpha=0.05)\n",
    "    p_start = pval(x, y, pooled, alternative, start)\n",
    "    p_end   = pval(x, y, pooled, alternative, stop)\n",
    "    #println(\"p_start = \", p_start, \", p_end = \", p_end)\n",
    "    \n",
    "    # p-values corresponding to `start` and `stop` must be on opposite sides of `alpha`\n",
    "    if (p_start - alpha) * (p_end - alpha) > 0\n",
    "        @show (p_start, p_end, alpha, x, y)\n",
    "    end\n",
    "    @assert (p_start - alpha) * (p_end - alpha) <= 0\n",
    "\n",
    "    p = p_new = delta = nothing\n",
    "    percent_change = (old, new) -> 100 * abs(new-old) / old\n",
    "    \n",
    "    while true\n",
    "        delta = (start + stop) / 2\n",
    "        p_new = pval(x, y, pooled, alternative, delta)\n",
    "\n",
    "        if !isnothing(p) && percent_change(p, p_new) <= threshold\n",
    "            break  # (1) percent change in p-value is below `threshold`\n",
    "        end\n",
    "        \n",
    "        compare = (alpha - p_new) - isLowerBound * 2 * (alpha - p_new)\n",
    "        if margin < compare\n",
    "            stop = delta\n",
    "        elseif margin < -compare\n",
    "            start = delta\n",
    "        else\n",
    "            break  # (2) p-value is within `margin` of `alpha`\n",
    "        end\n",
    "\n",
    "        p = p_new\n",
    "    end\n",
    "    \n",
    "    return delta\n",
    "end\n",
    "\n",
    "function permInterval(x, y, wide, narrow, delta_true; pooled=false, alpha=0.05, alternative=\"two_sided\")\n",
    "    \"\"\"Returns true (false) if permutation test confidence interval does (not) include difference in\n",
    "    population means.\n",
    "    Parameters\n",
    "    ----------\n",
    "    x1 : Vector{Float64}\n",
    "        Data for group 1\n",
    "    x2 : Vector{Float64}\n",
    "        Data for group 2\n",
    "    partitions : Tuple{Matrix{Int64}, Matrix{Int64}}\n",
    "        The i-th rows of x1[partitions[1]] and x2[partitions[2]] denote the i-th arrangement of\n",
    "        the original (n1+n2) observations into two groups of size n1 and n2.\n",
    "    delta_true : Float64\n",
    "        Difference in population means\n",
    "    pooled : Bool\n",
    "        Assume pooled or unpooled variances\n",
    "    alpha : Float64\n",
    "        Significance level\n",
    "    alternative : String\n",
    "        Type of alternative hypothesis (\"two-sided\", \"smaller\", \"larger\")\n",
    "    Returns\n",
    "    -------\n",
    "    Bool\n",
    "        True (false) if permutation test confidence interval does (not) include difference in population means.\n",
    "    \"\"\"\n",
    "\n",
    "    # use binary search to find approximate permutation test confidence interval\n",
    "    wide_lo, wide_hi = wide\n",
    "    narrow_lo, narrow_hi = narrow\n",
    "    \n",
    "    lo = search(x, y, wide_lo, narrow_lo,\n",
    "                pooled=pooled, alpha=alpha, alternative=alternative, isLowerBound=true)\n",
    "    hi = search(x, y, narrow_hi, wide_hi,\n",
    "                pooled=pooled, alpha=alpha, alternative=alternative, isLowerBound=false)\n",
    "    return lo <= delta_true <= hi\n",
    "end\n",
    "\n",
    "function coverage(xs, ys, wide, narrow, delta_true; pooled=false, alpha=0.05, alternative=\"two_sided\")\n",
    "    covered = permInterval.(eachrow(xs), eachrow(ys), wide, narrow, delta_true,\n",
    "                            pooled=pooled, alpha=alpha, alternative=alternative)\n",
    "    return count(covered) / S\n",
    "end"
   ]
  },
  {
   "cell_type": "code",
   "execution_count": 280,
   "metadata": {},
   "outputs": [
    {
     "name": "stdout",
     "output_type": "stream",
     "text": [
      "(x, y) = ([25.232636477916977, 36.64211134046001, 38.7901854718786, 51.82777064870452], [7.038821787657253, 1.886675443576392, 7.926392988506167, 14.373415277522433])\n",
      "(wide, narrow) = ((-115.34374f0, 175.97745f0), (24.689344f0, 35.944355f0))\n",
      "delta_true = 48\n",
      "(x, y) = ([62.81227776854474, 47.01058130543349, 25.680812911247173, 55.44302952904971], [2.3086063545266633, 6.048309141180762, 4.7465504884256395, 4.678598448292739])\n",
      "(wide, narrow) = ((-151.78653f0, 238.36884f0), (35.754456f0, 50.82786f0))\n",
      "delta_true = 48\n",
      "(x, y) = ([34.60980973854018, 30.328175879707658, 58.03749702501094, 50.71248321317073], [9.731543074790217, 6.981844282100447, 4.945364815839145, 6.556911077672816])\n",
      "(wide, narrow) = ((-123.99682f0, 196.73297f0), (30.17248f0, 42.56367f0))\n",
      "delta_true = 48\n",
      "(x, y) = ([12.95183889404135, 10.071096820569148, 11.706949782945207, 11.815693305341455], [22.994271408125794, 25.42085165768232, 67.57471229700592, 15.57403236685195])\n",
      "(wide, narrow) = ((-305.74036f0, 263.2312f0), (-32.2455f0, -10.263644f0))\n",
      "delta_true = -28\n",
      "(x, y) = ([10.282044872526585, 14.548557032964153, 16.245166289709417, 4.420243548153575], [26.237094643512687, 77.48510430004094, 45.377539820758486, 32.50026753033838])\n",
      "(wide, narrow) = ((-317.27786f0, 249.22588f0), (-44.969254f0, -23.082743f0))\n",
      "delta_true = -28\n",
      "(x, y) = ([13.388989793543582, 11.682529184268173, 11.135341242771561, 17.04761792989588], [57.12285398604135, 37.6812057477023, 25.85763027865088, 70.60897769355645])\n",
      "(wide, narrow) = ((-277.5677f0, 208.55959f0), (-43.894657f0, -25.113438f0))\n",
      "delta_true = -28\n",
      "  0.252452 seconds (615.34 k allocations: 32.176 MiB, 19.85% gc time, 98.85% compilation time)\n"
     ]
    }
   ],
   "source": [
    "@time begin\n",
    "results = coverage.(eachslice(x, dims=1),\n",
    "                    eachslice(y, dims=1),\n",
    "                    eachrow(wide),\n",
    "                    eachrow(narrow),\n",
    "                    deltas,\n",
    "                    pooled=pooled,\n",
    "                    alpha=alpha,\n",
    "                    alternative=alternative)\n",
    "end\n",
    "\n",
    "outfile = \"results2.txt\"\n",
    "open(outfile, \"w\") do file\n",
    "    println(\n",
    "        file,\n",
    "        \"==============================================\\n\",\n",
    "        \"num. batches : \", B, \"\\n\",\n",
    "        \"batch size   : \", S, \"\\n\",\n",
    "        \"size group 1 : \", nx, \"\\n\",\n",
    "        \"size group 2 : \", ny, \"\\n\",\n",
    "        \"alternative  : \", alternative, \"\\n\",\n",
    "        \"pooled       : \", pooled, \"\\n\",\n",
    "        \"alpha        : \", alpha, \"\\n\",\n",
    "        \"==============================================\"\n",
    "    )\n",
    "    for (i, coverageProb) in enumerate(results)\n",
    "        println(file, coverageProb, \" ; x: \", distrX[i], \" ; y: \", distrY[i])\n",
    "    end\n",
    "end"
   ]
  },
  {
   "cell_type": "markdown",
   "metadata": {},
   "source": [
    "- overview/explain two-sample t-test\n",
    "- derive t test confidence interval by inverting the t test of H0: delta = delta0 vs. H_A: delta != delta0, where delta = mu_1 - mu_2, delta0 in R\n",
    "    - CI is the set of all deltas for which we do NOT reject the null == set of all deltas for which p-value > 0.05\n",
    "    - set of all deltas for which the test statistic < t quantile == set of all deltas for which [mean(x1) - mean(x2) - delta] / s.d. (pooled or unpooled) < t quantile\n",
    "    - output after solving for delta is the CI\n",
    "- mention that the test statistic for difference in means (for pooled variances) follows a t distribution\n",
    "    - DoF also changes for unpooled variances\n",
    "- permutation test\n",
    "    - explain how permTest p-value is derived (detail interval halving, etc.)\n",
    "    - similar to above t test overview, start with two-sided alternative, then explain for inverting two one-sided tests (here, use alpha/2 instead of alpha)\n",
    "    - literature review\n",
    "- fix DoF in unpooled tconf()"
   ]
  }
 ],
 "metadata": {
  "kernelspec": {
   "display_name": "Julia 1.7.1",
   "language": "julia",
   "name": "julia-1.7"
  },
  "language_info": {
   "file_extension": ".jl",
   "mimetype": "application/julia",
   "name": "julia",
   "version": "1.7.1"
  }
 },
 "nbformat": 4,
 "nbformat_minor": 4
}
