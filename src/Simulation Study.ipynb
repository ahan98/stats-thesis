{
 "cells": [
  {
   "cell_type": "code",
   "execution_count": 1,
   "metadata": {},
   "outputs": [],
   "source": [
    "using Random\n",
    "using Distributions\n",
    "using DataFrames, CSV\n",
    "using FLoops\n",
    "\n",
    "# compile local files\n",
    "include(\"statistics.jl\")\n",
    "include(\"simulation.jl\")\n",
    "include(\"data.jl\")\n",
    "include(\"util.jl\")\n",
    "\n",
    "using .TestStatistics\n",
    "using .Simulation\n",
    "using .Data"
   ]
  },
  {
   "cell_type": "code",
   "execution_count": 19,
   "metadata": {},
   "outputs": [
    {
     "data": {
      "text/plain": [
       "(Float32[0.90629965, 0.44349372, 0.74567336, 0.51208305, 0.2538491, 0.33415154, 0.42732787, 0.8675472, 0.58191234, 0.3114475], Float32[1.8125993, 0.88698745, 1.4913467, 1.0241661, 0.5076982, 0.6683031, 0.85465574, 1.7350944, 1.1638247, 0.622895])"
      ]
     },
     "execution_count": 19,
     "metadata": {},
     "output_type": "execute_result"
    }
   ],
   "source": [
    "\"\"\"\n",
    "CONFIG\n",
    "\"\"\"\n",
    "alpha = 0.05\n",
    "\n",
    "# data\n",
    "B  = 10    # num. coverage probabilities per boxplot\n",
    "S  = 1000   # num. samples per coverage probability\n",
    "nx = 6      # size of group 1\n",
    "ny = 6      # size of group 2\n",
    "px, py = partition(nx, ny)\n",
    "dtype = Float32\n",
    "\n",
    "# distribution settings\n",
    "Random.seed!(123)\n",
    "\n",
    "distrTypeX = Normal\n",
    "muX = dtype.(rand(Uniform(0, 1), B))\n",
    "sdX = 2 * muX\n",
    "paramsX = (muX, sdX)\n",
    "\n",
    "distrTypeY = Normal\n",
    "paramsY = paramsX"
   ]
  },
  {
   "cell_type": "code",
   "execution_count": null,
   "metadata": {},
   "outputs": [],
   "source": [
    "\"\"\"\n",
    "distrTypeX = Gamma\n",
    "shapeX = dtype.(rand(Uniform(1, 5), B))\n",
    "scaleX = 4 * shapeX\n",
    "paramsX = (shapeX, scaleX)\n",
    "\n",
    "distrTypeY = Gamma\n",
    "shapeY = dtype.(rand(Uniform(1, 5), B))\n",
    "scaleY = 4 * shapeY\n",
    "paramsY = (shapeY, scaleY)\n",
    "\n",
    "\n",
    "\n",
    "distrTypeX = Exponential\n",
    "lambdaX = dtype.(rand(Uniform(1, 20), B))\n",
    "paramsX = (lambdaX,)\n",
    "\n",
    "distrTypeY = Exponential\n",
    "lambdaY = dtype.(rand(Uniform(1, 20), B))\n",
    "paramsY = (lambdaY,)\n",
    "\n",
    "\n",
    "\n",
    "distrTypeX = LogNormal\n",
    "muX = dtype.(rand(Uniform(0, 1), B))\n",
    "sdX = 2 * muX\n",
    "paramsX = (muX, sdX)\n",
    "\n",
    "distrTypeY = LogNormal\n",
    "muY = dtype.(rand(Uniform(0, 1), B))\n",
    "sdY = 2 * muY\n",
    "paramsY = (muY, sdY)\n",
    "\"\"\""
   ]
  },
  {
   "cell_type": "code",
   "execution_count": 20,
   "metadata": {},
   "outputs": [
    {
     "name": "stdout",
     "output_type": "stream",
     "text": [
      "size(x) = (10, 1000, 6)\n",
      "size(y) = (10, 1000, 6)\n",
      "size(wide) = (10, 1000)\n",
      "size(narrow) = (10, 1000)\n",
      "deltas[1] = 0.0f0\n",
      "distrX[1] = Normal{Float32}(μ=0.90629965f0, σ=1.8125993f0)\n",
      "distrY[1] = Normal{Float32}(μ=0.90629965f0, σ=1.8125993f0)\n"
     ]
    },
    {
     "data": {
      "text/plain": [
       "5-element Vector{Float32}:\n",
       " -0.26415128\n",
       "  0.28020507\n",
       "  1.7277128\n",
       "  1.6068726\n",
       " -0.5532921"
      ]
     },
     "execution_count": 20,
     "metadata": {},
     "output_type": "execute_result"
    }
   ],
   "source": [
    "# generate data\n",
    "Random.seed!(123)\n",
    "x, y, wide, narrow, deltas, distrX, distrY = generateData(B, S, nx, ny, true,\n",
    "                                                          distrTypeX, paramsX,\n",
    "                                                          distrTypeY, paramsY)\n",
    "@show size(x)\n",
    "@show size(y)\n",
    "@show size(wide)\n",
    "@show size(narrow)\n",
    "@show deltas[1]\n",
    "@show distrX[1]\n",
    "@show distrY[1]\n",
    "x[1:5]"
   ]
  },
  {
   "cell_type": "code",
   "execution_count": 21,
   "metadata": {},
   "outputs": [],
   "source": [
    "# wrap constant arguments into an iterable object\n",
    "# this allows each batch to have local access\n",
    "\n",
    "struct Args\n",
    "    px::AbstractMatrix{Int}\n",
    "    py::AbstractMatrix{Int}\n",
    "    pooled::Bool\n",
    "    alpha::Float32\n",
    "    alt_lo::Alternative\n",
    "    alt_hi::Alternative\n",
    "end\n",
    "\n",
    "Base.Broadcast.broadcastable(obj::Args) = Ref(obj)  # make objects of this type iterable"
   ]
  },
  {
   "cell_type": "code",
   "execution_count": 22,
   "metadata": {},
   "outputs": [
    {
     "name": "stdout",
     "output_type": "stream",
     "text": [
      " 13.158914 seconds (43.16 M allocations: 77.853 GiB, 58.77% gc time, 0.86% compilation time)\n"
     ]
    }
   ],
   "source": [
    "basesize = ceil(Int, B / Threads.nthreads())\n",
    "\n",
    "@time for isTwoSided in [true, false]\n",
    "    alpha_temp = alpha\n",
    "    alt_lo = alt_hi = twoSided\n",
    "    \n",
    "    if !isTwoSided\n",
    "        alpha_temp = alpha / 2\n",
    "        alt_lo = greater\n",
    "        alt_hi = smaller\n",
    "    end\n",
    "        \n",
    "    for pooled in [true, false]\n",
    "        args = Args(px, py, pooled, alpha_temp, alt_lo, alt_hi)\n",
    "        \n",
    "        results = Vector{Any}(undef, B)\n",
    "        @floop ThreadedEx(basesize = basesize) for b in 1:B\n",
    "            results[b] = coverage(x[b,:,:], y[b,:,:], wide[b,:], narrow[b,:], deltas[b], args)\n",
    "        end\n",
    "        \n",
    "        # convert results to DataFrame\n",
    "        probs  = [x for (x, _) in results]\n",
    "        widths = [x for (_, x) in results]\n",
    "        df = DataFrame(prob=probs, width=widths, distrX=distrX, distrY=distrY)\n",
    "\n",
    "        # save DataFrame as .csv\n",
    "        filename = (isTwoSided ? \"twoSided\" : \"oneSided\") * \"_\" *\n",
    "                   (pooled ? \"\" : \"un\") * \"pooled\" * \"_\" * string(args.alpha) * \".csv\"\n",
    "        \n",
    "        #CSV.write(\"../results/\" * filename, df)\n",
    "        CSV.write(filename, df)\n",
    "    end\n",
    "end"
   ]
  },
  {
   "cell_type": "code",
   "execution_count": null,
   "metadata": {},
   "outputs": [],
   "source": [
    "args = Args(px, py, true, 0.05, twoSided, twoSided)\n",
    "results = Vector{Any}(undef, B)\n",
    "for b in 1:B\n",
    "    results[b] = coverage(x[b,:,:], y[b,:,:], wide[b,:], narrow[b,:], deltas[b], args)\n",
    "end\n",
    "results"
   ]
  }
 ],
 "metadata": {
  "kernelspec": {
   "display_name": "Julia 1.7.1",
   "language": "julia",
   "name": "julia-1.7"
  },
  "language_info": {
   "file_extension": ".jl",
   "mimetype": "application/julia",
   "name": "julia",
   "version": "1.7.1"
  }
 },
 "nbformat": 4,
 "nbformat_minor": 4
}
