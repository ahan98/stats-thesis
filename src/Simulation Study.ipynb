{
 "cells": [
  {
   "cell_type": "code",
   "execution_count": 1,
   "metadata": {},
   "outputs": [
    {
     "data": {
      "text/plain": [
       "_var (generic function with 2 methods)"
      ]
     },
     "execution_count": 1,
     "metadata": {},
     "output_type": "execute_result"
    }
   ],
   "source": [
    "using CUDA, Random\n",
    "using GPUArrays: @allowscalar\n",
    "using Distributions: Gamma\n",
    "CUDA.allowscalar(false)\n",
    "include(\"utils.jl\")\n",
    "include(\"statistics.jl\")"
   ]
  },
  {
   "cell_type": "code",
   "execution_count": 2,
   "metadata": {},
   "outputs": [
    {
     "data": {
      "text/plain": [
       "\"two_sided\""
      ]
     },
     "execution_count": 2,
     "metadata": {},
     "output_type": "execute_result"
    }
   ],
   "source": [
    "# permutation test configuration\n",
    "pooled = true\n",
    "alpha = 0.05\n",
    "alternative = \"two_sided\""
   ]
  },
  {
   "cell_type": "code",
   "execution_count": 3,
   "metadata": {},
   "outputs": [
    {
     "data": {
      "text/plain": [
       "Float32"
      ]
     },
     "execution_count": 3,
     "metadata": {},
     "output_type": "execute_result"
    }
   ],
   "source": [
    "# data dimensions\n",
    "B  = 100   # num. coverage probabilities per boxplot\n",
    "S  = 1800   # num. samples per coverage probability\n",
    "nx = 6      # size of group 1\n",
    "ny = 6      # size of group 2\n",
    "px, py = partition(nx, ny)\n",
    "dtype = Float32"
   ]
  },
  {
   "cell_type": "code",
   "execution_count": 4,
   "metadata": {},
   "outputs": [
    {
     "data": {
      "text/plain": [
       "CuArray{Float64, 3, CUDA.Mem.DeviceBuffer}"
      ]
     },
     "execution_count": 4,
     "metadata": {},
     "output_type": "execute_result"
    }
   ],
   "source": [
    "# Generate data\n",
    "Random.seed!(123)\n",
    "\n",
    "shapeX = rand(1:10, B)\n",
    "scaleX = rand(1:10, B)\n",
    "distrX = Gamma.(shapeX, scaleX)\n",
    "\n",
    "shapeY = rand(1:10, B)\n",
    "scaleY = rand(1:10, B)\n",
    "distrY = Gamma.(shapeY, scaleY)\n",
    "\n",
    "deltas = @. (shapeX * scaleX) - (shapeY * scaleY)\n",
    "\n",
    "# produces B vectors of S * nx elements\n",
    "# each vector is drawn from a distinct (but not necessarily distinct) distribution\n",
    "x = rand.(distrX, S * nx)\n",
    "y = rand.(distrY, S * ny)\n",
    "\n",
    "# flatten into (B, S * n)\n",
    "x = hcat(x...)'\n",
    "y = hcat(y...)'\n",
    "\n",
    "# reshape to 3D batch\n",
    "x = reshape(x, (B, S, nx))\n",
    "y = reshape(y, (B, S, ny))\n",
    "\n",
    "# Compute t confidence intervals for each of the (B x S x nx) pairs\n",
    "wide   = tconf(x, y, alpha=0.0001, pooled=pooled)\n",
    "narrow = tconf(x, y, alpha=0.3, pooled=pooled)\n",
    "\n",
    "wide   = reshape(wide, B, S)\n",
    "narrow = reshape(narrow, B, S)\n",
    "\n",
    "# move data to GPU\n",
    "x = CuArray(x)\n",
    "y = CuArray(y)\n",
    "typeof(x)"
   ]
  },
  {
   "cell_type": "code",
   "execution_count": 5,
   "metadata": {},
   "outputs": [
    {
     "data": {
      "text/plain": [
       "coverage (generic function with 1 method)"
      ]
     },
     "execution_count": 5,
     "metadata": {},
     "output_type": "execute_result"
    }
   ],
   "source": [
    "function pval(x, y, pooled=false, alternative=\"two-sided\", delta=0)\n",
    "    \"\"\"\n",
    "    Parameters\n",
    "    ----------\n",
    "    x : Vector{Real}\n",
    "        Data for group 1\n",
    "    \n",
    "    y : Vector{Real}\n",
    "        Data for group 2\n",
    "    \n",
    "    pooled : Bool\n",
    "        Assume equal/unequal variances for the two groups\n",
    "    \n",
    "    alternative : String\n",
    "        Type of alternative hypothesis\n",
    "    \n",
    "    delta : Real\n",
    "        Null hypothesis difference in means\n",
    "    \n",
    "    Returns\n",
    "    -------\n",
    "    Float64\n",
    "        Proportion of pairs among all sample combinations which have\n",
    "        a test statistic as or more extreme than the original pair (x, y)\n",
    "    \"\"\"\n",
    "    x_shift = x .- delta  # shift group 1 under null hypothesis\n",
    "    t_obs = t(x_shift, y, pooled)  # test statistic for observed data\n",
    "    combined = vcat(x_shift, y)  # join original pair into single vector\n",
    "    xs = combined[px]   # get all combinations of pairs from original pair\n",
    "    ys = combined[py]\n",
    "    ts = t(xs, ys, pooled)   # test statistic for all possible pairs of samples\n",
    "    \n",
    "    if alternative == \"smaller\"\n",
    "        n_extreme = count(ts .<= t_obs)\n",
    "    elseif alternative == \"larger\"\n",
    "        n_extreme = count(ts .>= t_obs)\n",
    "    else\n",
    "        n_extreme = count(@. (ts <= -abs(t_obs)) | (ts >= abs(t_obs)))\n",
    "    end\n",
    "\n",
    "    return n_extreme / size(px, 1)  # proportion of pairs w/ extreme test statistic\n",
    "    \n",
    "end\n",
    "\n",
    "function search(x, y, start, stop;\n",
    "                pooled=false, alternative=\"two-sided\", isLowerBound=true,\n",
    "                margin=0.005, threshold=1.0, alpha=0.05)\n",
    "    p_start = pval(x, y, pooled, alternative, start)\n",
    "    p_end   = pval(x, y, pooled, alternative, stop)\n",
    "    #println(\"p_start = \", p_start, \", p_end = \", p_end)\n",
    "    \n",
    "    # p-values corresponding to `start` and `stop` must be on opposite sides of `alpha`\n",
    "    @assert (p_start - alpha) * (p_end - alpha) <= 0\n",
    "\n",
    "    p = p_new = delta = nothing\n",
    "    percent_change = (old, new) -> 100 * abs(new-old) / old\n",
    "    \n",
    "    while true\n",
    "        delta = (start + stop) / 2\n",
    "        p_new = pval(x, y, pooled, alternative, delta)\n",
    "\n",
    "        if !isnothing(p) && percent_change(p, p_new) <= threshold\n",
    "            break  # (1) percent change in p-value is below `threshold`\n",
    "        end\n",
    "        \n",
    "        compare = (alpha - p_new) - isLowerBound * 2 * (alpha - p_new)\n",
    "        if margin < compare\n",
    "            stop = delta\n",
    "        elseif margin < -compare\n",
    "            start = delta\n",
    "        else\n",
    "            break  # (2) p-value is within `margin` of `alpha`\n",
    "        end\n",
    "\n",
    "        p = p_new\n",
    "    end\n",
    "    \n",
    "    return delta\n",
    "end\n",
    "\n",
    "function permInterval(x, y, wide, narrow, delta_true; pooled=false, alpha=0.05, alternative=\"two_sided\")\n",
    "    \"\"\"Returns true (false) if permutation test confidence interval does (not) include difference in\n",
    "    population means.\n",
    "    Parameters\n",
    "    ----------\n",
    "    x1 : Vector{Float64}\n",
    "        Data for group 1\n",
    "    x2 : Vector{Float64}\n",
    "        Data for group 2\n",
    "    partitions : Tuple{Matrix{Int64}, Matrix{Int64}}\n",
    "        The i-th rows of x1[partitions[1]] and x2[partitions[2]] denote the i-th arrangement of\n",
    "        the original (n1+n2) observations into two groups of size n1 and n2.\n",
    "    delta_true : Float64\n",
    "        Difference in population means\n",
    "    pooled : Bool\n",
    "        Assume pooled or unpooled variances\n",
    "    alpha : Float64\n",
    "        Significance level\n",
    "    alternative : String\n",
    "        Type of alternative hypothesis (\"two-sided\", \"smaller\", \"larger\")\n",
    "    Returns\n",
    "    -------\n",
    "    Bool\n",
    "        True (false) if permutation test confidence interval does (not) include difference in population means.\n",
    "    \"\"\"\n",
    "\n",
    "    # use binary search to find approximate permutation test confidence interval\n",
    "\n",
    "    lo = search(x, y, wide[1], narrow[1],\n",
    "                pooled=pooled, alpha=alpha, alternative=alternative, isLowerBound=true)\n",
    "    hi = search(x, y, narrow[2], wide[2],\n",
    "                pooled=pooled, alpha=alpha, alternative=alternative, isLowerBound=false)\n",
    "    # println(\"(\", lo, \", \", hi, \")\")\n",
    "    return lo <= delta_true <= hi\n",
    "end\n",
    "\n",
    "function coverage(xs, ys, wide, narrow, delta_true; pooled=false, alpha=0.05, alternative=\"two_sided\")\n",
    "    covered = permInterval.(eachrow(xs), eachrow(ys), wide, narrow, delta_true,\n",
    "                            pooled=pooled, alpha=alpha, alternative=alternative)\n",
    "    return count(covered) / S\n",
    "end"
   ]
  },
  {
   "cell_type": "code",
   "execution_count": 6,
   "metadata": {},
   "outputs": [
    {
     "name": "stdout",
     "output_type": "stream",
     "text": [
      "2132.490683 seconds (3.46 G allocations: 189.464 GiB, 4.71% gc time, 1.72% compilation time)\n"
     ]
    }
   ],
   "source": [
    "@time begin\n",
    "results = coverage.(eachslice(x, dims=1),\n",
    "                    eachslice(y, dims=1),\n",
    "                    eachrow(wide),\n",
    "                    eachrow(narrow),\n",
    "                    deltas,\n",
    "                    pooled=pooled,\n",
    "                    alpha=alpha,\n",
    "                    alternative=alternative)\n",
    "end\n",
    "\n",
    "outfile = \"results_temp.txt\"\n",
    "open(outfile, \"w\") do file\n",
    "    println(\n",
    "        file,\n",
    "        \"==============================================\\n\",\n",
    "        \"num. batches : \", B, \"\\n\",\n",
    "        \"batch size   : \", S, \"\\n\",\n",
    "        \"size group 1 : \", nx, \"\\n\",\n",
    "        \"size group 2 : \", ny, \"\\n\",\n",
    "        \"alternative  : \", alternative, \"\\n\",\n",
    "        \"pooled       : \", pooled, \"\\n\",\n",
    "        \"alpha        : \", alpha, \"\\n\",\n",
    "        \"==============================================\"\n",
    "    )\n",
    "    for (i, coverageProb) in enumerate(results)\n",
    "        println(file, coverageProb, \" ; x: \", distrX[i], \" ; y: \", distrY[i])\n",
    "    end\n",
    "end"
   ]
  },
  {
   "cell_type": "markdown",
   "metadata": {},
   "source": [
    "- overview/explain two-sample t-test\n",
    "- derive t test confidence interval by inverting the t test of H0: delta = delta0 vs. H_A: delta != delta0, where delta = mu_1 - mu_2, delta0 in R\n",
    "    - CI is the set of all deltas for which we do NOT reject the null == set of all deltas for which p-value > 0.05\n",
    "    - set of all deltas for which the test statistic < t quantile == set of all deltas for which [mean(x1) - mean(x2) - delta] / s.d. (pooled or unpooled) < t quantile\n",
    "    - output after solving for delta is the CI\n",
    "- mention that the test statistic for difference in means (for pooled variances) follows a t distribution\n",
    "    - DoF also changes for unpooled variances\n",
    "- permutation test\n",
    "    - explain how permTest p-value is derived (detail interval halving, etc.)\n",
    "    - similar to above t test overview, start with two-sided alternative, then explain for inverting two one-sided tests (here, use alpha/2 instead of alpha)\n",
    "    - literature review\n",
    "- fix DoF in unpooled tconf()"
   ]
  }
 ],
 "metadata": {
  "kernelspec": {
   "display_name": "Julia (16 threads) 1.7.1",
   "language": "julia",
   "name": "julia-(16-threads)-1.7"
  },
  "language_info": {
   "file_extension": ".jl",
   "mimetype": "application/julia",
   "name": "julia",
   "version": "1.7.1"
  }
 },
 "nbformat": 4,
 "nbformat_minor": 4
}
