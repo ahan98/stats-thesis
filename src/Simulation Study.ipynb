{
 "cells": [
  {
   "cell_type": "code",
   "execution_count": 1,
   "metadata": {},
   "outputs": [],
   "source": [
    "using Random\n",
    "using Distributions\n",
    "using DataFrames, CSV\n",
    "using FLoops\n",
    "\n",
    "# compile local files\n",
    "include(\"statistics.jl\")\n",
    "include(\"simulation.jl\")\n",
    "include(\"data.jl\")\n",
    "include(\"util.jl\")\n",
    "\n",
    "using .TestStatistics\n",
    "using .Simulation\n",
    "using .Data"
   ]
  },
  {
   "cell_type": "code",
   "execution_count": 15,
   "metadata": {},
   "outputs": [
    {
     "data": {
      "text/plain": [
       "(Float32[4.5635147, 1.7636268], Float32[18.254059, 7.0545073])"
      ]
     },
     "execution_count": 15,
     "metadata": {},
     "output_type": "execute_result"
    }
   ],
   "source": [
    "\"\"\"\n",
    "CONFIG\n",
    "\"\"\"\n",
    "alpha = 0.05\n",
    "\n",
    "# data\n",
    "B  = 2    # num. coverage probabilities per boxplot\n",
    "S  = 1800   # num. samples per coverage probability\n",
    "nx = 8      # size of group 1\n",
    "ny = 8      # size of group 2\n",
    "px, py = partition(nx, ny)\n",
    "dtype = Float32\n",
    "\n",
    "# distribution settings\n",
    "Random.seed!(123)\n",
    "\n",
    "distrTypeX = Normal\n",
    "shapeX = dtype.(rand(Uniform(1, 5), B))\n",
    "scaleX = 4 * shapeX\n",
    "paramsX = (shapeX, scaleX)\n",
    "\n",
    "distrTypeY = Normal\n",
    "shapeY = dtype.(rand(Uniform(1, 5), B))\n",
    "scaleY = 4 * shapeY\n",
    "paramsY = (shapeY, scaleY)"
   ]
  },
  {
   "cell_type": "code",
   "execution_count": null,
   "metadata": {},
   "outputs": [],
   "source": [
    "\"\"\"\n",
    "distrTypeX = Exponential\n",
    "lambdaX = dtype.(rand(Uniform(1, 20), B))\n",
    "paramsX = (lambdaX,)\n",
    "\n",
    "distrTypeY = Exponential\n",
    "lambdaY = dtype.(rand(Uniform(1, 20), B))\n",
    "paramsY = (lambdaY,)\n",
    "\n",
    "\n",
    "distrTypeX = LogNormal\n",
    "muX = dtype.(rand(Uniform(0, 1), B))\n",
    "sdX = 2 * muX\n",
    "paramsX = (muX, sdX)\n",
    "\n",
    "distrTypeY = LogNormal\n",
    "muY = dtype.(rand(Uniform(0, 1), B))\n",
    "sdY = 2 * muY\n",
    "paramsY = (muY, sdY)\n",
    "\n",
    "\n",
    "distrTypeX = Gamma\n",
    "shapeX = dtype.(rand(Uniform(1, 5), B))\n",
    "scaleX = 4 * shapeX\n",
    "paramsX = (shapeX, scaleX)\n",
    "\n",
    "distrTypeY = Gamma\n",
    "shapeY = dtype.(rand(Uniform(1, 5), B))\n",
    "scaleY = 4 * shapeY\n",
    "paramsY = (shapeY, scaleY)\n",
    "\"\"\""
   ]
  },
  {
   "cell_type": "code",
   "execution_count": 16,
   "metadata": {},
   "outputs": [
    {
     "name": "stdout",
     "output_type": "stream",
     "text": [
      "size(x) = (28800,)\n",
      "size(wide) = (3600,)\n",
      "size(x) = (8, 1800, 2)\n",
      "size(y) = (8, 1800, 2)\n",
      "size(wide) = (1800, 2)\n",
      "size(narrow) = (1800, 2)\n",
      "deltas[1] = -1.4786596f0\n",
      "distrX[1] = Normal{Float32}(μ=3.084855f0, σ=12.33942f0)\n",
      "distrY[1] = Normal{Float32}(μ=4.5635147f0, σ=18.254059f0)\n"
     ]
    },
    {
     "data": {
      "text/plain": [
       "5-element Vector{Float32}:\n",
       "  -4.883087\n",
       " -14.9708185\n",
       " -16.949474\n",
       "   0.39899373\n",
       "   9.158881"
      ]
     },
     "execution_count": 16,
     "metadata": {},
     "output_type": "execute_result"
    }
   ],
   "source": [
    "# generate data\n",
    "Random.seed!(123)\n",
    "x, y, wide, narrow, deltas, distrX, distrY = Data.generateData(B, S, nx, ny, true,\n",
    "                                                          distrTypeX, paramsX,\n",
    "                                                          distrTypeY, paramsY)\n",
    "@show size(x)\n",
    "@show size(y)\n",
    "@show size(wide)\n",
    "@show size(narrow)\n",
    "@show deltas[1]\n",
    "@show distrX[1]\n",
    "@show distrY[1]\n",
    "x[1:5]"
   ]
  },
  {
   "cell_type": "code",
   "execution_count": 4,
   "metadata": {},
   "outputs": [],
   "source": [
    "# wrap constant arguments into an iterable object\n",
    "# this allows each batch to have local access\n",
    "\n",
    "struct Args\n",
    "    px::AbstractMatrix{Int}\n",
    "    py::AbstractMatrix{Int}\n",
    "    pooled::Bool\n",
    "    alpha::Float32\n",
    "    alt_lo::Alternative\n",
    "    alt_hi::Alternative\n",
    "end\n",
    "\n",
    "Base.Broadcast.broadcastable(obj::Args) = Ref(obj)  # make objects of this type iterable"
   ]
  },
  {
   "cell_type": "code",
   "execution_count": 56,
   "metadata": {},
   "outputs": [
    {
     "name": "stdout",
     "output_type": "stream",
     "text": [
      " 13.308303 seconds (12.61 M allocations: 71.634 GiB, 16.91% gc time, 1.12% compilation time)\n"
     ]
    }
   ],
   "source": [
    "basesize = ceil(Int, B / Threads.nthreads())\n",
    "\n",
    "@time for isTwoSided in [true, false]\n",
    "    alpha_temp = alpha\n",
    "    alt_lo = alt_hi = twoSided\n",
    "    \n",
    "    if !isTwoSided\n",
    "        alpha_temp = alpha / 2\n",
    "        alt_lo = greater\n",
    "        alt_hi = smaller\n",
    "    end\n",
    "        \n",
    "    for pooled in [true, false]\n",
    "        args = Args(px, py, pooled, alpha_temp, alt_lo, alt_hi)\n",
    "        \n",
    "        \n",
    "        results = Vector{Any}(undef, B)\n",
    "        \n",
    "        @floop ThreadedEx(basesize = 1) for i = 1:B\n",
    "            @floop ThreadedEx() for j = 1:S\n",
    "                @inbounds a, b = Simulation.permInterval(x[:,j,i], y[:,j,i], wide[j,i], narrow[j,i], deltas[i], args)\n",
    "                @reduce() do (coverage = 0; a), (width = 0.0f0; b)\n",
    "                    coverage += a\n",
    "                    width += b\n",
    "                end\n",
    "            end\n",
    "            results[i] = (coverage / S, width / S)\n",
    "        end\n",
    "        \n",
    "        # convert results to DataFrame\n",
    "        probs  = [i for (i, _) in results]\n",
    "        widths = [j for (_, j) in results]\n",
    "        df = DataFrame(prob=probs, width=widths, distrX=distrX, distrY=distrY)\n",
    "\n",
    "        # save DataFrame as .csv\n",
    "        filename = (isTwoSided ? \"twoSided\" : \"oneSided\") * \"_\" *\n",
    "                   (pooled ? \"\" : \"un\") * \"pooled\" * \"_\" * string(args.alpha) * \".csv\"\n",
    "        \n",
    "        #CSV.write(\"../results/\" * filename, df)\n",
    "        CSV.write(filename, df)\n",
    "    end\n",
    "end"
   ]
  },
  {
   "cell_type": "code",
   "execution_count": 17,
   "metadata": {},
   "outputs": [
    {
     "name": "stdout",
     "output_type": "stream",
     "text": [
      "  7.573892 seconds (7.09 M allocations: 42.486 GiB, 20.28% gc time, 2.17% compilation time)\n"
     ]
    },
    {
     "data": {
      "text/plain": [
       "2-element Vector{Any}:\n",
       " (0.9494444444444444, 32.448074f0)\n",
       " (0.9461111111111111, 22.329578f0)"
      ]
     },
     "execution_count": 17,
     "metadata": {},
     "output_type": "execute_result"
    }
   ],
   "source": [
    "args = Args(px, py, true, 0.05, twoSided, twoSided)\n",
    "results = Vector{Any}(undef, B)\n",
    "\n",
    "@time @floop ThreadedEx(basesize = 1) for i = 1:B\n",
    "    @floop ThreadedEx() for j = 1:S\n",
    "        @inbounds a, b = Simulation.permInterval(x[:,j,i], y[:,j,i], wide[j,i], narrow[j,i], deltas[i], args)\n",
    "        @reduce() do (coverage = 0; a), (width = 0.0f0; b)\n",
    "            coverage += a\n",
    "            width += b\n",
    "        end\n",
    "    end\n",
    "    results[i] = (coverage / S, width / S)\n",
    "end\n",
    "\n",
    "results"
   ]
  }
 ],
 "metadata": {
  "kernelspec": {
   "display_name": "Julia 1.7.1",
   "language": "julia",
   "name": "julia-1.7"
  },
  "language_info": {
   "file_extension": ".jl",
   "mimetype": "application/julia",
   "name": "julia",
   "version": "1.7.1"
  }
 },
 "nbformat": 4,
 "nbformat_minor": 4
}
