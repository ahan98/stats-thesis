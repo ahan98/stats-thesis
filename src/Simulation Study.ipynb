{
 "cells": [
  {
   "cell_type": "code",
   "execution_count": 12,
   "metadata": {},
   "outputs": [
    {
     "name": "stderr",
     "output_type": "stream",
     "text": [
      "WARNING: replacing module PermTest.\n",
      "WARNING: replacing module Utils.\n",
      "WARNING: replacing module Utils.\n"
     ]
    },
    {
     "data": {
      "text/plain": [
       "Main.PermTestCUDA"
      ]
     },
     "execution_count": 12,
     "metadata": {},
     "output_type": "execute_result"
    }
   ],
   "source": [
    "using CUDA, Random\n",
    "using Test, BenchmarkTools\n",
    "CUDA.allowscalar(false)\n",
    "\n",
    "include(\"perm_test.jl\")\n",
    "include(\"utils.jl\")\n",
    "#include(\"kernels/math.jl\")\n",
    "include(\"kernels/statistics.jl\")"
   ]
  },
  {
   "cell_type": "code",
   "execution_count": 2,
   "metadata": {},
   "outputs": [
    {
     "data": {
      "text/plain": [
       "8"
      ]
     },
     "execution_count": 2,
     "metadata": {},
     "output_type": "execute_result"
    }
   ],
   "source": [
    "Threads.nthreads()"
   ]
  },
  {
   "cell_type": "code",
   "execution_count": 3,
   "metadata": {},
   "outputs": [
    {
     "name": "stdout",
     "output_type": "stream",
     "text": [
      "Effective GPU memory usage: 0.73% (59.125 MiB/7.936 GiB)\n",
      "No memory pool is in use."
     ]
    }
   ],
   "source": [
    "CUDA.memory_status()"
   ]
  },
  {
   "cell_type": "markdown",
   "metadata": {},
   "source": [
    "---"
   ]
  },
  {
   "cell_type": "code",
   "execution_count": 4,
   "metadata": {},
   "outputs": [
    {
     "data": {
      "text/plain": [
       "([1 2 … 11 12; 1 2 … 11 13; … ; 8 10 … 19 20; 9 10 … 19 20], [20 19 … 14 13; 20 19 … 14 12; … ; 9 7 … 2 1; 8 7 … 2 1])"
      ]
     },
     "execution_count": 4,
     "metadata": {},
     "output_type": "execute_result"
    }
   ],
   "source": [
    "N = 100\n",
    "nx, ny = 12, 8\n",
    "\n",
    "# initialize fake data\n",
    "Random.seed!(1)\n",
    "x = CuArray(rand(N, nx))\n",
    "y = CuArray(rand(N, ny))\n",
    "px, py = Utils.partition(nx, ny)\n",
    "px, py = CuArray(px), CuArray(py)"
   ]
  },
  {
   "cell_type": "code",
   "execution_count": 6,
   "metadata": {},
   "outputs": [
    {
     "data": {
      "text/plain": [
       "100-element CuArray{Tuple{Float64, Float64}, 1, CUDA.Mem.DeviceBuffer}:\n",
       " (-0.20033566186130905, 0.27897686653156795)\n",
       " (-0.21092714231376697, 0.29001194478888614)\n",
       " (-0.478509716590083, 0.013872684894141757)\n",
       " (-0.008643089840340068, 0.4736660337116226)\n",
       " (-0.1738778364681788, 0.31429385634148366)\n",
       " (-0.1737027099561762, 0.3362213214785722)\n",
       " (-0.481418964359429, 0.09367501082054275)\n",
       " (-0.07405379502984116, 0.40440372666416197)\n",
       " (-0.1896253945861558, 0.23516390332487835)\n",
       " (-0.16725165087659033, 0.3417676319053423)\n",
       " (-0.3966413398907492, 0.16929304287733477)\n",
       " (-0.34992751805969635, 0.10506511526771004)\n",
       " (-0.04721959277298873, 0.43480398345735904)\n",
       " ⋮\n",
       " (-0.30315138724790025, 0.1726538504404105)\n",
       " (-0.21473653925959513, 0.1917261009848089)\n",
       " (-0.05116754487991704, 0.45782022384867016)\n",
       " (0.0010848296123596168, 0.5704888096241005)\n",
       " (-0.1166337686298452, 0.27000962068316625)\n",
       " (-0.24842310752681795, 0.25189770165251457)\n",
       " (-0.15606822020907735, 0.2420074589105337)\n",
       " (-0.2630251815849355, 0.2335431979957696)\n",
       " (-0.3088218990089479, 0.1365201331429467)\n",
       " (-0.28467302323371163, 0.3043407627831471)\n",
       " (-0.16618246858859234, 0.22619178070551252)\n",
       " (-0.4913931953526897, 0.07144130330416903)"
      ]
     },
     "execution_count": 6,
     "metadata": {},
     "output_type": "execute_result"
    }
   ],
   "source": [
    "x_cpu, y_cpu = Array(x), Array(y)\n",
    "wide = CuArray(PermTest.tconf(x_cpu, y_cpu; pooled=false, alpha=0.01))\n",
    "narrow = CuArray(PermTest.tconf(x_cpu, y_cpu; pooled=false, alpha=0.1))"
   ]
  },
  {
   "cell_type": "code",
   "execution_count": 7,
   "metadata": {},
   "outputs": [
    {
     "data": {
      "text/plain": [
       "solve! (generic function with 1 method)"
      ]
     },
     "execution_count": 7,
     "metadata": {},
     "output_type": "execute_result"
    }
   ],
   "source": [
    "function solve!(out, x, y, px, py, delta_true, wide, narrow)\n",
    "    tidx = (blockIdx().x - 1) * blockDim().x + threadIdx().x  # thread index\n",
    "    stride = blockDim().x * gridDim().x                       # num. threads per block\n",
    "    for i = tidx:stride:length(out)\n",
    "        @inbounds out[i] = PermTest.permInterval(x[i,:], y[i,:], px, py, delta_true, wide[i], narrow[i])\n",
    "    end\n",
    "    return\n",
    "end"
   ]
  },
  {
   "cell_type": "code",
   "execution_count": null,
   "metadata": {},
   "outputs": [],
   "source": [
    "i = 1\n",
    "CUDA.allowscalar(true)\n",
    "PermTestCUDA.permInterval(x[i,:], y[i,:], px, py, 0, wide[i], narrow[i])"
   ]
  },
  {
   "cell_type": "code",
   "execution_count": 10,
   "metadata": {},
   "outputs": [
    {
     "data": {
      "text/plain": [
       "false"
      ]
     },
     "execution_count": 10,
     "metadata": {},
     "output_type": "execute_result"
    }
   ],
   "source": [
    "i = 1\n",
    "CUDA.allowscalar(true)\n",
    "PermTest.permInterval(x[i,:], y[i,:], px, py, 0, wide[i], narrow[i])"
   ]
  },
  {
   "cell_type": "code",
   "execution_count": null,
   "metadata": {},
   "outputs": [],
   "source": [
    "out = zeros(Bool, N)\n",
    "for i in 1:N\n",
    "    out[i] = PermTestCUDA.permInterval(x[i,:], y[i,:], px, py, 0, wide[i], narrow[i])\n",
    "end\n",
    "sum(out) / length(out)"
   ]
  },
  {
   "cell_type": "code",
   "execution_count": null,
   "metadata": {},
   "outputs": [],
   "source": [
    "out = CUDA.zeros(Bool, N)\n",
    "T, B = Utils.set_thread_block(N)\n",
    "@cuda threads=T blocks=B solve!(out, x, y, px, py, 0, CuArray(wide), CuArray(narrow))"
   ]
  },
  {
   "cell_type": "code",
   "execution_count": null,
   "metadata": {},
   "outputs": [],
   "source": []
  }
 ],
 "metadata": {
  "kernelspec": {
   "display_name": "Julia (8 threads) 1.7.1",
   "language": "julia",
   "name": "julia-(8-threads)-1.7"
  },
  "language_info": {
   "file_extension": ".jl",
   "mimetype": "application/julia",
   "name": "julia",
   "version": "1.7.1"
  }
 },
 "nbformat": 4,
 "nbformat_minor": 4
}
