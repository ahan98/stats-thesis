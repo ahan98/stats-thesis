{
 "cells": [
  {
   "cell_type": "code",
   "execution_count": 1,
   "metadata": {},
   "outputs": [],
   "source": [
    "using Random\n",
    "using Distributions\n",
    "using DataFrames, CSV\n",
    "using FLoops\n",
    "\n",
    "# compile local files\n",
    "include(\"statistics.jl\")\n",
    "include(\"simulation.jl\")\n",
    "include(\"data.jl\")\n",
    "include(\"util.jl\")\n",
    "\n",
    "using .TestStatistics\n",
    "using .Simulation\n",
    "using .Data"
   ]
  },
  {
   "cell_type": "code",
   "execution_count": 7,
   "metadata": {},
   "outputs": [
    {
     "data": {
      "text/plain": [
       "(Float32[4.816637, 4.38358, 3.3469949, 1.4872506, 1.551065, 1.2032331, 2.5457604, 4.385833, 1.4941524, 3.960081  …  3.0071483, 4.7632217, 2.9845734, 3.390739, 1.5196867, 2.6299427, 3.167543, 4.1047573, 1.2867212, 4.7307343], Float32[19.266548, 17.53432, 13.3879795, 5.9490023, 6.20426, 4.8129325, 10.183042, 17.543331, 5.9766097, 15.840324  …  12.028593, 19.052887, 11.938293, 13.562956, 6.078747, 10.519771, 12.670172, 16.41903, 5.146885, 18.922937])"
      ]
     },
     "execution_count": 7,
     "metadata": {},
     "output_type": "execute_result"
    }
   ],
   "source": [
    "\"\"\"\n",
    "CONFIG\n",
    "\"\"\"\n",
    "alpha = 0.05\n",
    "\n",
    "# data\n",
    "B  = 100    # num. coverage probabilities per boxplot\n",
    "S  = 1800   # num. samples per coverage probability\n",
    "nx = 8      # size of group 1\n",
    "ny = 8      # size of group 2\n",
    "px, py = partition(nx, ny)\n",
    "dtype = Float32\n",
    "\n",
    "# distribution settings\n",
    "Random.seed!(123)\n",
    "\n",
    "distrTypeX = Gamma\n",
    "shapeX = dtype.(rand(Uniform(1, 5), B))\n",
    "scaleX = 4 * shapeX\n",
    "paramsX = (shapeX, scaleX)\n",
    "\n",
    "distrTypeY = Gamma\n",
    "shapeY = dtype.(rand(Uniform(1, 5), B))\n",
    "scaleY = 4 * shapeY\n",
    "paramsY = (shapeY, scaleY)"
   ]
  },
  {
   "cell_type": "code",
   "execution_count": null,
   "metadata": {},
   "outputs": [],
   "source": [
    "\"\"\"\n",
    "distrTypeX = Exponential\n",
    "lambdaX = dtype.(rand(Uniform(1, 20), B))\n",
    "paramsX = (lambdaX,)\n",
    "\n",
    "distrTypeY = Exponential\n",
    "lambdaY = dtype.(rand(Uniform(1, 20), B))\n",
    "paramsY = (lambdaY,)\n",
    "\"\"\"\n",
    "\n",
    "\"\"\"\n",
    "distrTypeX = LogNormal\n",
    "muX = dtype.(rand(Uniform(0, 1), B))\n",
    "sdX = 2 * muX\n",
    "paramsX = (muX, sdX)\n",
    "\n",
    "distrTypeY = LogNormal\n",
    "muY = dtype.(rand(Uniform(0, 1), B))\n",
    "sdY = 2 * muY\n",
    "paramsY = (muY, sdY)\n",
    "\"\"\""
   ]
  },
  {
   "cell_type": "code",
   "execution_count": 9,
   "metadata": {},
   "outputs": [
    {
     "name": "stdout",
     "output_type": "stream",
     "text": [
      "size(x) = (100, 1800, 8)\n",
      "size(y) = (100, 1800, 8)\n",
      "size(wide) = (100, 1800)\n",
      "size(narrow) = (100, 1800)\n",
      "deltas[1] = -7.230133f0\n",
      "distrX[1] = Gamma{Float32}(α=4.6251984f0, θ=18.500793f0)\n",
      "distrY[1] = Gamma{Float32}(α=4.816637f0, θ=19.266548f0)\n"
     ]
    },
    {
     "data": {
      "text/plain": [
       "5-element Vector{Float32}:\n",
       "  53.98391\n",
       "  20.56398\n",
       " 101.49282\n",
       "  32.297592\n",
       "  21.075668"
      ]
     },
     "execution_count": 9,
     "metadata": {},
     "output_type": "execute_result"
    }
   ],
   "source": [
    "# generate data\n",
    "Random.seed!(123)\n",
    "x, y, wide, narrow, deltas, distrX, distrY = generateData(B, S, nx, ny, true,\n",
    "                                                          distrTypeX, paramsX,\n",
    "                                                          distrTypeY, paramsY)\n",
    "@show size(x)\n",
    "@show size(y)\n",
    "@show size(wide)\n",
    "@show size(narrow)\n",
    "@show deltas[1]\n",
    "@show distrX[1]\n",
    "@show distrY[1]\n",
    "x[1:5]"
   ]
  },
  {
   "cell_type": "code",
   "execution_count": 10,
   "metadata": {},
   "outputs": [],
   "source": [
    "# wrap constant arguments into an iterable object\n",
    "# this allows each batch to have local access\n",
    "\n",
    "struct Args\n",
    "    px::AbstractMatrix{Int}\n",
    "    py::AbstractMatrix{Int}\n",
    "    pooled::Bool\n",
    "    alpha::Float32\n",
    "    alt_lo::Alternative\n",
    "    alt_hi::Alternative\n",
    "end\n",
    "\n",
    "Base.Broadcast.broadcastable(obj::Args) = Ref(obj)  # make objects of this type iterable"
   ]
  },
  {
   "cell_type": "code",
   "execution_count": 11,
   "metadata": {},
   "outputs": [
    {
     "name": "stdout",
     "output_type": "stream",
     "text": [
      "4024.597083 seconds (949.25 M allocations: 22.989 TiB, 33.83% gc time, 0.01% compilation time)\n"
     ]
    }
   ],
   "source": [
    "basesize = ceil(Int, B / Threads.nthreads())\n",
    "\n",
    "@time for isTwoSided in [true, false]\n",
    "    alpha_temp = alpha\n",
    "    alt_lo = alt_hi = twoSided\n",
    "    \n",
    "    if !isTwoSided\n",
    "        alpha_temp = alpha / 2\n",
    "        alt_lo = greater\n",
    "        alt_hi = smaller\n",
    "    end\n",
    "        \n",
    "    for pooled in [true, false]\n",
    "        args = Args(px, py, pooled, alpha_temp, alt_lo, alt_hi)\n",
    "        \n",
    "        results = Vector{Any}(undef, B)\n",
    "        @floop ThreadedEx(basesize = basesize) for b in 1:B\n",
    "            results[b] = coverage(x[b,:,:], y[b,:,:], wide[b,:], narrow[b,:], deltas[b], args)\n",
    "        end\n",
    "        \n",
    "        # convert results to DataFrame\n",
    "        probs  = [x for (x, _) in results]\n",
    "        widths = [x for (_, x) in results]\n",
    "        df = DataFrame(prob=probs, width=widths, distrX=distrX, distrY=distrY)\n",
    "\n",
    "        # save DataFrame as .csv\n",
    "        filename = (isTwoSided ? \"twoSided\" : \"oneSided\") * \"_\" *\n",
    "                   (pooled ? \"\" : \"un\") * \"pooled\" * \"_\" * string(args.alpha) * \".csv\"\n",
    "        \n",
    "        #CSV.write(\"../results/\" * filename, df)\n",
    "        CSV.write(filename, df)\n",
    "    end\n",
    "end"
   ]
  },
  {
   "cell_type": "code",
   "execution_count": null,
   "metadata": {},
   "outputs": [],
   "source": [
    "args = Args(px, py, true, 0.05, twoSided, twoSided)\n",
    "results = Vector{Any}(undef, B)\n",
    "for b in 1:B\n",
    "    results[b] = coverage(x[b,:,:], y[b,:,:], wide[b,:], narrow[b,:], deltas[b], args)\n",
    "end\n",
    "results"
   ]
  }
 ],
 "metadata": {
  "kernelspec": {
   "display_name": "Julia 1.7.1",
   "language": "julia",
   "name": "julia-1.7"
  },
  "language_info": {
   "file_extension": ".jl",
   "mimetype": "application/julia",
   "name": "julia",
   "version": "1.7.1"
  }
 },
 "nbformat": 4,
 "nbformat_minor": 4
}
