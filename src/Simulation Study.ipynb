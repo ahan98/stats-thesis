{
 "cells": [
  {
   "cell_type": "code",
   "execution_count": null,
   "metadata": {},
   "outputs": [],
   "source": [
    "using CUDA, Random\n",
    "using Test, BenchmarkTools\n",
    "CUDA.allowscalar(false)\n",
    "\n",
    "include(\"perm_test.jl\")\n",
    "include(\"utils.jl\")\n",
    "#include(\"kernels/math.jl\")\n",
    "include(\"kernels/statistics.jl\")"
   ]
  },
  {
   "cell_type": "code",
   "execution_count": null,
   "metadata": {},
   "outputs": [],
   "source": [
    "Threads.nthreads()"
   ]
  },
  {
   "cell_type": "code",
   "execution_count": null,
   "metadata": {},
   "outputs": [],
   "source": [
    "CUDA.memory_status()"
   ]
  },
  {
   "cell_type": "markdown",
   "metadata": {},
   "source": [
    "---"
   ]
  },
  {
   "cell_type": "code",
   "execution_count": null,
   "metadata": {},
   "outputs": [],
   "source": [
    "N = 100\n",
    "nx, ny = 12, 8\n",
    "\n",
    "# initialize fake data\n",
    "Random.seed!(1)\n",
    "x = CuArray(rand(N, nx))\n",
    "y = CuArray(rand(N, ny))\n",
    "px, py = Utils.partition(nx, ny)\n",
    "px, py = CuArray(px), CuArray(py)"
   ]
  },
  {
   "cell_type": "code",
   "execution_count": null,
   "metadata": {},
   "outputs": [],
   "source": [
    "x_cpu, y_cpu = Array(x), Array(y)\n",
    "wide = PermTest.tconf(x_cpu, y_cpu; pooled=false, alpha=0.01)\n",
    "narrow = PermTest.tconf(x_cpu, y_cpu; pooled=false, alpha=0.1)"
   ]
  },
  {
   "cell_type": "code",
   "execution_count": null,
   "metadata": {},
   "outputs": [],
   "source": [
    "function solve!(out, x, y, px, py, delta_true, wide, narrow)\n",
    "    tidx = (blockIdx().x - 1) * blockDim().x + threadIdx().x  # thread index\n",
    "    stride = blockDim().x * gridDim().x                       # num. threads per block\n",
    "    for i = tidx:stride:length(out)\n",
    "        @inbounds out[i] = PermTestCUDA.permInterval(x[i,:], y[i,:], px, py, delta_true, wide[i], narrow[i])\n",
    "    end\n",
    "    return\n",
    "end"
   ]
  },
  {
   "cell_type": "code",
   "execution_count": null,
   "metadata": {},
   "outputs": [],
   "source": [
    "i = 1\n",
    "PermTestCUDA.permInterval(x[i,:], y[i,:], px, py, 0, wide[i], narrow[i])"
   ]
  },
  {
   "cell_type": "code",
   "execution_count": null,
   "metadata": {},
   "outputs": [],
   "source": [
    "out = zeros(Bool, N)\n",
    "for i in 1:N\n",
    "    out[i] = PermTestCUDA.permInterval(x[i,:], y[i,:], px, py, 0, wide[i], narrow[i])\n",
    "end\n",
    "sum(out) / length(out)"
   ]
  },
  {
   "cell_type": "code",
   "execution_count": null,
   "metadata": {},
   "outputs": [],
   "source": [
    "out = CUDA.zeros(Bool, N)\n",
    "T, B = Utils.set_thread_block(N)\n",
    "@cuda threads=T blocks=B solve!(out, x, y, px, py, 0, CuArray(wide), CuArray(narrow))"
   ]
  },
  {
   "cell_type": "code",
   "execution_count": null,
   "metadata": {},
   "outputs": [],
   "source": []
  }
 ],
 "metadata": {
  "kernelspec": {
   "display_name": "Julia (8 threads) 1.7.1",
   "language": "julia",
   "name": "julia-(8-threads)-1.7"
  },
  "language_info": {
   "file_extension": ".jl",
   "mimetype": "application/julia",
   "name": "julia",
   "version": "1.7.1"
  }
 },
 "nbformat": 4,
 "nbformat_minor": 4
}
