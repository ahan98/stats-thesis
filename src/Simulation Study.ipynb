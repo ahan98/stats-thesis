{
 "cells": [
  {
   "cell_type": "code",
   "execution_count": 1,
   "metadata": {},
   "outputs": [
    {
     "data": {
      "text/plain": [
       "partition (generic function with 1 method)"
      ]
     },
     "execution_count": 1,
     "metadata": {},
     "output_type": "execute_result"
    }
   ],
   "source": [
    "using Random\n",
    "using Distributions\n",
    "using DataFrames, CSV\n",
    "include(\"statistics.jl\")\n",
    "include(\"simulation.jl\")\n",
    "include(\"data.jl\")\n",
    "include(\"util.jl\")"
   ]
  },
  {
   "cell_type": "code",
   "execution_count": 2,
   "metadata": {},
   "outputs": [
    {
     "data": {
      "text/plain": [
       "100-element Vector{Int64}:\n",
       " 12\n",
       "  4\n",
       " 12\n",
       "  4\n",
       " 16\n",
       " 20\n",
       "  8\n",
       " 20\n",
       " 16\n",
       " 12\n",
       "  8\n",
       "  8\n",
       " 16\n",
       "  ⋮\n",
       " 16\n",
       " 16\n",
       "  4\n",
       "  4\n",
       "  4\n",
       " 16\n",
       " 16\n",
       " 12\n",
       " 12\n",
       " 12\n",
       "  4\n",
       "  8"
      ]
     },
     "execution_count": 2,
     "metadata": {},
     "output_type": "execute_result"
    }
   ],
   "source": [
    "\"\"\"\n",
    "CONFIG\n",
    "\"\"\"\n",
    "\n",
    "pooled = false\n",
    "alpha = 0.05\n",
    "isTwoSided = false\n",
    "\n",
    "# data\n",
    "B  = 100    # num. coverage probabilities per boxplot\n",
    "S  = 1800   # num. samples per coverage probability\n",
    "nx = 8      # size of group 1\n",
    "ny = 8      # size of group 2\n",
    "dtype = Float32\n",
    "\n",
    "# distributions\n",
    "Random.seed!(123)\n",
    "\n",
    "distrTypeX = Gamma\n",
    "shapeX = rand(1:5, B)\n",
    "scaleX = 4 * shapeX\n",
    "\n",
    "distrTypeY = Gamma\n",
    "shapeY = rand(1:5, B)\n",
    "scaleY = 4 * shapeY"
   ]
  },
  {
   "cell_type": "code",
   "execution_count": 3,
   "metadata": {},
   "outputs": [
    {
     "name": "stdout",
     "output_type": "stream",
     "text": [
      "size(x) = (100, 1800, 8)\n",
      "size(y) = (100, 1800, 8)\n",
      "size(wide) = (100, 1800)\n",
      "size(narrow) = (100, 1800)\n",
      "size(deltas) = (100,)\n",
      "distrX[1] = Gamma{Float64}(α=3.0, θ=12.0)\n",
      "distrY[1] = Gamma{Float64}(α=3.0, θ=12.0)\n"
     ]
    },
    {
     "data": {
      "text/plain": [
       "Gamma{Float64}(α=3.0, θ=12.0)"
      ]
     },
     "execution_count": 3,
     "metadata": {},
     "output_type": "execute_result"
    }
   ],
   "source": [
    "# generate data\n",
    "x, y, wide, narrow, deltas, distrX, distrY = generateData(B, S, nx, ny,\n",
    "                                                          distrTypeX, (shapeX, scaleX),\n",
    "                                                          distrTypeY, (shapeY, scaleY))\n",
    "@show size(x)\n",
    "@show size(y)\n",
    "@show size(wide)\n",
    "@show size(narrow)\n",
    "@show size(deltas)\n",
    "@show distrX[1]\n",
    "@show distrY[1]"
   ]
  },
  {
   "cell_type": "code",
   "execution_count": 4,
   "metadata": {},
   "outputs": [
    {
     "data": {
      "text/plain": [
       "Args([1 2 … 7 8; 1 2 … 7 9; … ; 8 10 … 15 16; 9 10 … 15 16], [16 15 … 10 9; 16 15 … 10 8; … ; 9 7 … 2 1; 8 7 … 2 1], false, 0.025f0, greater, less)"
      ]
     },
     "execution_count": 4,
     "metadata": {},
     "output_type": "execute_result"
    }
   ],
   "source": [
    "# wrap constant arguments into an iterable object\n",
    "# this allows each batch to have local access\n",
    "\n",
    "@enum Alternative less greater twoSided\n",
    "\n",
    "struct Args\n",
    "    px::AbstractMatrix{Int}\n",
    "    py::AbstractMatrix{Int}\n",
    "    pooled::Bool\n",
    "    alpha::Float32\n",
    "    alt_lo::Alternative\n",
    "    alt_hi::Alternative\n",
    "end\n",
    "\n",
    "px, py = partition(nx, ny)\n",
    "\n",
    "if isTwoSided\n",
    "    args = Args(px, py, pooled, alpha, twoSided, twoSided)\n",
    "else\n",
    "    args = Args(px, py, pooled, alpha / 2, greater, less)\n",
    "end\n",
    "\n",
    "Base.Broadcast.broadcastable(args::Args) = Ref(args)  # make object iterable\n",
    "args"
   ]
  },
  {
   "cell_type": "code",
   "execution_count": 5,
   "metadata": {},
   "outputs": [
    {
     "name": "stdout",
     "output_type": "stream",
     "text": [
      "1493.923841 seconds (308.72 M allocations: 5.592 TiB, 9.06% gc time, 0.18% compilation time)\n"
     ]
    },
    {
     "data": {
      "text/plain": [
       "100-element Vector{Tuple{Float32, Float32}}:\n",
       " (0.9066667, 35.776093)\n",
       " (0.85888886, 24.679276)\n",
       " (0.8888889, 59.28975)\n",
       " (0.9033333, 6.643051)\n",
       " (0.9, 46.236908)\n",
       " (0.87222224, 55.670696)\n",
       " (0.8761111, 14.079197)\n",
       " (0.8888889, 78.258385)\n",
       " (0.89666665, 46.271328)\n",
       " (0.88222224, 28.76648)\n",
       " (0.87333333, 28.460117)\n",
       " (0.8927778, 55.25492)\n",
       " (0.86388886, 38.454247)\n",
       " ⋮\n",
       " (0.8938889, 55.082275)\n",
       " (0.8811111, 40.6787)\n",
       " (0.85555553, 37.761208)\n",
       " (0.86944443, 53.11663)\n",
       " (0.86277777, 38.2919)\n",
       " (0.8611111, 37.792435)\n",
       " (0.88277775, 38.62868)\n",
       " (0.86833334, 24.852634)\n",
       " (0.895, 46.28684)\n",
       " (0.8838889, 59.354023)\n",
       " (0.8983333, 6.65358)\n",
       " (0.87333333, 40.38958)"
      ]
     },
     "execution_count": 5,
     "metadata": {},
     "output_type": "execute_result"
    }
   ],
   "source": [
    "@time begin\n",
    "results = coverage.(eachslice(x, dims=1),\n",
    "                    eachslice(y, dims=1),\n",
    "                    eachrow(wide),\n",
    "                    eachrow(narrow),\n",
    "                    deltas,\n",
    "                    args)\n",
    "end"
   ]
  },
  {
   "cell_type": "code",
   "execution_count": 8,
   "metadata": {},
   "outputs": [
    {
     "data": {
      "text/html": [
       "<div class=\"data-frame\"><p>100 rows × 4 columns</p><table class=\"data-frame\"><thead><tr><th></th><th>prob</th><th>width</th><th>distrX</th><th>distrY</th></tr><tr><th></th><th title=\"Float32\">Float32</th><th title=\"Float32\">Float32</th><th title=\"Gamma{Float64}\">Gamma…</th><th title=\"Gamma{Float64}\">Gamma…</th></tr></thead><tbody><tr><th>1</th><td>0.906667</td><td>35.7761</td><td>Gamma{Float64}(α=3.0, θ=12.0)</td><td>Gamma{Float64}(α=3.0, θ=12.0)</td></tr><tr><th>2</th><td>0.858889</td><td>24.6793</td><td>Gamma{Float64}(α=3.0, θ=12.0)</td><td>Gamma{Float64}(α=1.0, θ=4.0)</td></tr><tr><th>3</th><td>0.888889</td><td>59.2897</td><td>Gamma{Float64}(α=5.0, θ=20.0)</td><td>Gamma{Float64}(α=3.0, θ=12.0)</td></tr><tr><th>4</th><td>0.903333</td><td>6.64305</td><td>Gamma{Float64}(α=1.0, θ=4.0)</td><td>Gamma{Float64}(α=1.0, θ=4.0)</td></tr><tr><th>5</th><td>0.9</td><td>46.2369</td><td>Gamma{Float64}(α=3.0, θ=12.0)</td><td>Gamma{Float64}(α=4.0, θ=16.0)</td></tr><tr><th>6</th><td>0.872222</td><td>55.6707</td><td>Gamma{Float64}(α=2.0, θ=8.0)</td><td>Gamma{Float64}(α=5.0, θ=20.0)</td></tr><tr><th>7</th><td>0.876111</td><td>14.0792</td><td>Gamma{Float64}(α=1.0, θ=4.0)</td><td>Gamma{Float64}(α=2.0, θ=8.0)</td></tr><tr><th>8</th><td>0.888889</td><td>78.2584</td><td>Gamma{Float64}(α=5.0, θ=20.0)</td><td>Gamma{Float64}(α=5.0, θ=20.0)</td></tr><tr><th>9</th><td>0.896667</td><td>46.2713</td><td>Gamma{Float64}(α=3.0, θ=12.0)</td><td>Gamma{Float64}(α=4.0, θ=16.0)</td></tr><tr><th>10</th><td>0.882222</td><td>28.7665</td><td>Gamma{Float64}(α=2.0, θ=8.0)</td><td>Gamma{Float64}(α=3.0, θ=12.0)</td></tr><tr><th>11</th><td>0.873333</td><td>28.4601</td><td>Gamma{Float64}(α=3.0, θ=12.0)</td><td>Gamma{Float64}(α=2.0, θ=8.0)</td></tr><tr><th>12</th><td>0.892778</td><td>55.2549</td><td>Gamma{Float64}(α=5.0, θ=20.0)</td><td>Gamma{Float64}(α=2.0, θ=8.0)</td></tr><tr><th>13</th><td>0.863889</td><td>38.4542</td><td>Gamma{Float64}(α=1.0, θ=4.0)</td><td>Gamma{Float64}(α=4.0, θ=16.0)</td></tr><tr><th>14</th><td>0.891111</td><td>46.7009</td><td>Gamma{Float64}(α=3.0, θ=12.0)</td><td>Gamma{Float64}(α=4.0, θ=16.0)</td></tr><tr><th>15</th><td>0.876667</td><td>40.5368</td><td>Gamma{Float64}(α=2.0, θ=8.0)</td><td>Gamma{Float64}(α=4.0, θ=16.0)</td></tr><tr><th>16</th><td>0.897222</td><td>6.69709</td><td>Gamma{Float64}(α=1.0, θ=4.0)</td><td>Gamma{Float64}(α=1.0, θ=4.0)</td></tr><tr><th>17</th><td>0.907778</td><td>46.637</td><td>Gamma{Float64}(α=4.0, θ=16.0)</td><td>Gamma{Float64}(α=3.0, θ=12.0)</td></tr><tr><th>18</th><td>0.867778</td><td>24.8147</td><td>Gamma{Float64}(α=3.0, θ=12.0)</td><td>Gamma{Float64}(α=1.0, θ=4.0)</td></tr><tr><th>19</th><td>0.876111</td><td>37.7481</td><td>Gamma{Float64}(α=4.0, θ=16.0)</td><td>Gamma{Float64}(α=1.0, θ=4.0)</td></tr><tr><th>20</th><td>0.855</td><td>14.102</td><td>Gamma{Float64}(α=2.0, θ=8.0)</td><td>Gamma{Float64}(α=1.0, θ=4.0)</td></tr><tr><th>21</th><td>0.880556</td><td>54.7842</td><td>Gamma{Float64}(α=2.0, θ=8.0)</td><td>Gamma{Float64}(α=5.0, θ=20.0)</td></tr><tr><th>22</th><td>0.903889</td><td>66.9685</td><td>Gamma{Float64}(α=5.0, θ=20.0)</td><td>Gamma{Float64}(α=4.0, θ=16.0)</td></tr><tr><th>23</th><td>0.897222</td><td>67.3439</td><td>Gamma{Float64}(α=5.0, θ=20.0)</td><td>Gamma{Float64}(α=4.0, θ=16.0)</td></tr><tr><th>24</th><td>0.883333</td><td>40.5575</td><td>Gamma{Float64}(α=2.0, θ=8.0)</td><td>Gamma{Float64}(α=4.0, θ=16.0)</td></tr><tr><th>25</th><td>0.878889</td><td>40.7964</td><td>Gamma{Float64}(α=2.0, θ=8.0)</td><td>Gamma{Float64}(α=4.0, θ=16.0)</td></tr><tr><th>26</th><td>0.893889</td><td>6.57507</td><td>Gamma{Float64}(α=1.0, θ=4.0)</td><td>Gamma{Float64}(α=1.0, θ=4.0)</td></tr><tr><th>27</th><td>0.865556</td><td>38.3081</td><td>Gamma{Float64}(α=1.0, θ=4.0)</td><td>Gamma{Float64}(α=4.0, θ=16.0)</td></tr><tr><th>28</th><td>0.865</td><td>54.1415</td><td>Gamma{Float64}(α=2.0, θ=8.0)</td><td>Gamma{Float64}(α=5.0, θ=20.0)</td></tr><tr><th>29</th><td>0.873889</td><td>24.6891</td><td>Gamma{Float64}(α=3.0, θ=12.0)</td><td>Gamma{Float64}(α=1.0, θ=4.0)</td></tr><tr><th>30</th><td>0.871667</td><td>37.9877</td><td>Gamma{Float64}(α=4.0, θ=16.0)</td><td>Gamma{Float64}(α=1.0, θ=4.0)</td></tr><tr><th>&vellip;</th><td>&vellip;</td><td>&vellip;</td><td>&vellip;</td><td>&vellip;</td></tr></tbody></table></div>"
      ],
      "text/latex": [
       "\\begin{tabular}{r|cccc}\n",
       "\t& prob & width & distrX & distrY\\\\\n",
       "\t\\hline\n",
       "\t& Float32 & Float32 & Gamma… & Gamma…\\\\\n",
       "\t\\hline\n",
       "\t1 & 0.906667 & 35.7761 & Gamma\\{Float64\\}(α=3.0, θ=12.0) & Gamma\\{Float64\\}(α=3.0, θ=12.0) \\\\\n",
       "\t2 & 0.858889 & 24.6793 & Gamma\\{Float64\\}(α=3.0, θ=12.0) & Gamma\\{Float64\\}(α=1.0, θ=4.0) \\\\\n",
       "\t3 & 0.888889 & 59.2897 & Gamma\\{Float64\\}(α=5.0, θ=20.0) & Gamma\\{Float64\\}(α=3.0, θ=12.0) \\\\\n",
       "\t4 & 0.903333 & 6.64305 & Gamma\\{Float64\\}(α=1.0, θ=4.0) & Gamma\\{Float64\\}(α=1.0, θ=4.0) \\\\\n",
       "\t5 & 0.9 & 46.2369 & Gamma\\{Float64\\}(α=3.0, θ=12.0) & Gamma\\{Float64\\}(α=4.0, θ=16.0) \\\\\n",
       "\t6 & 0.872222 & 55.6707 & Gamma\\{Float64\\}(α=2.0, θ=8.0) & Gamma\\{Float64\\}(α=5.0, θ=20.0) \\\\\n",
       "\t7 & 0.876111 & 14.0792 & Gamma\\{Float64\\}(α=1.0, θ=4.0) & Gamma\\{Float64\\}(α=2.0, θ=8.0) \\\\\n",
       "\t8 & 0.888889 & 78.2584 & Gamma\\{Float64\\}(α=5.0, θ=20.0) & Gamma\\{Float64\\}(α=5.0, θ=20.0) \\\\\n",
       "\t9 & 0.896667 & 46.2713 & Gamma\\{Float64\\}(α=3.0, θ=12.0) & Gamma\\{Float64\\}(α=4.0, θ=16.0) \\\\\n",
       "\t10 & 0.882222 & 28.7665 & Gamma\\{Float64\\}(α=2.0, θ=8.0) & Gamma\\{Float64\\}(α=3.0, θ=12.0) \\\\\n",
       "\t11 & 0.873333 & 28.4601 & Gamma\\{Float64\\}(α=3.0, θ=12.0) & Gamma\\{Float64\\}(α=2.0, θ=8.0) \\\\\n",
       "\t12 & 0.892778 & 55.2549 & Gamma\\{Float64\\}(α=5.0, θ=20.0) & Gamma\\{Float64\\}(α=2.0, θ=8.0) \\\\\n",
       "\t13 & 0.863889 & 38.4542 & Gamma\\{Float64\\}(α=1.0, θ=4.0) & Gamma\\{Float64\\}(α=4.0, θ=16.0) \\\\\n",
       "\t14 & 0.891111 & 46.7009 & Gamma\\{Float64\\}(α=3.0, θ=12.0) & Gamma\\{Float64\\}(α=4.0, θ=16.0) \\\\\n",
       "\t15 & 0.876667 & 40.5368 & Gamma\\{Float64\\}(α=2.0, θ=8.0) & Gamma\\{Float64\\}(α=4.0, θ=16.0) \\\\\n",
       "\t16 & 0.897222 & 6.69709 & Gamma\\{Float64\\}(α=1.0, θ=4.0) & Gamma\\{Float64\\}(α=1.0, θ=4.0) \\\\\n",
       "\t17 & 0.907778 & 46.637 & Gamma\\{Float64\\}(α=4.0, θ=16.0) & Gamma\\{Float64\\}(α=3.0, θ=12.0) \\\\\n",
       "\t18 & 0.867778 & 24.8147 & Gamma\\{Float64\\}(α=3.0, θ=12.0) & Gamma\\{Float64\\}(α=1.0, θ=4.0) \\\\\n",
       "\t19 & 0.876111 & 37.7481 & Gamma\\{Float64\\}(α=4.0, θ=16.0) & Gamma\\{Float64\\}(α=1.0, θ=4.0) \\\\\n",
       "\t20 & 0.855 & 14.102 & Gamma\\{Float64\\}(α=2.0, θ=8.0) & Gamma\\{Float64\\}(α=1.0, θ=4.0) \\\\\n",
       "\t21 & 0.880556 & 54.7842 & Gamma\\{Float64\\}(α=2.0, θ=8.0) & Gamma\\{Float64\\}(α=5.0, θ=20.0) \\\\\n",
       "\t22 & 0.903889 & 66.9685 & Gamma\\{Float64\\}(α=5.0, θ=20.0) & Gamma\\{Float64\\}(α=4.0, θ=16.0) \\\\\n",
       "\t23 & 0.897222 & 67.3439 & Gamma\\{Float64\\}(α=5.0, θ=20.0) & Gamma\\{Float64\\}(α=4.0, θ=16.0) \\\\\n",
       "\t24 & 0.883333 & 40.5575 & Gamma\\{Float64\\}(α=2.0, θ=8.0) & Gamma\\{Float64\\}(α=4.0, θ=16.0) \\\\\n",
       "\t25 & 0.878889 & 40.7964 & Gamma\\{Float64\\}(α=2.0, θ=8.0) & Gamma\\{Float64\\}(α=4.0, θ=16.0) \\\\\n",
       "\t26 & 0.893889 & 6.57507 & Gamma\\{Float64\\}(α=1.0, θ=4.0) & Gamma\\{Float64\\}(α=1.0, θ=4.0) \\\\\n",
       "\t27 & 0.865556 & 38.3081 & Gamma\\{Float64\\}(α=1.0, θ=4.0) & Gamma\\{Float64\\}(α=4.0, θ=16.0) \\\\\n",
       "\t28 & 0.865 & 54.1415 & Gamma\\{Float64\\}(α=2.0, θ=8.0) & Gamma\\{Float64\\}(α=5.0, θ=20.0) \\\\\n",
       "\t29 & 0.873889 & 24.6891 & Gamma\\{Float64\\}(α=3.0, θ=12.0) & Gamma\\{Float64\\}(α=1.0, θ=4.0) \\\\\n",
       "\t30 & 0.871667 & 37.9877 & Gamma\\{Float64\\}(α=4.0, θ=16.0) & Gamma\\{Float64\\}(α=1.0, θ=4.0) \\\\\n",
       "\t$\\dots$ & $\\dots$ & $\\dots$ & $\\dots$ & $\\dots$ \\\\\n",
       "\\end{tabular}\n"
      ],
      "text/plain": [
       "\u001b[1m100×4 DataFrame\u001b[0m\n",
       "\u001b[1m Row \u001b[0m│\u001b[1m prob     \u001b[0m\u001b[1m width    \u001b[0m\u001b[1m distrX                        \u001b[0m\u001b[1m distrY              \u001b[0m ⋯\n",
       "\u001b[1m     \u001b[0m│\u001b[90m Float32  \u001b[0m\u001b[90m Float32  \u001b[0m\u001b[90m Gamma…                        \u001b[0m\u001b[90m Gamma…              \u001b[0m ⋯\n",
       "─────┼──────────────────────────────────────────────────────────────────────────\n",
       "   1 │ 0.906667  35.7761   Gamma{Float64}(α=3.0, θ=12.0)  Gamma{Float64}(α=3.0 ⋯\n",
       "   2 │ 0.858889  24.6793   Gamma{Float64}(α=3.0, θ=12.0)  Gamma{Float64}(α=1.0\n",
       "   3 │ 0.888889  59.2897   Gamma{Float64}(α=5.0, θ=20.0)  Gamma{Float64}(α=3.0\n",
       "   4 │ 0.903333   6.64305  Gamma{Float64}(α=1.0, θ=4.0)   Gamma{Float64}(α=1.0\n",
       "   5 │ 0.9       46.2369   Gamma{Float64}(α=3.0, θ=12.0)  Gamma{Float64}(α=4.0 ⋯\n",
       "   6 │ 0.872222  55.6707   Gamma{Float64}(α=2.0, θ=8.0)   Gamma{Float64}(α=5.0\n",
       "   7 │ 0.876111  14.0792   Gamma{Float64}(α=1.0, θ=4.0)   Gamma{Float64}(α=2.0\n",
       "   8 │ 0.888889  78.2584   Gamma{Float64}(α=5.0, θ=20.0)  Gamma{Float64}(α=5.0\n",
       "   9 │ 0.896667  46.2713   Gamma{Float64}(α=3.0, θ=12.0)  Gamma{Float64}(α=4.0 ⋯\n",
       "  10 │ 0.882222  28.7665   Gamma{Float64}(α=2.0, θ=8.0)   Gamma{Float64}(α=3.0\n",
       "  11 │ 0.873333  28.4601   Gamma{Float64}(α=3.0, θ=12.0)  Gamma{Float64}(α=2.0\n",
       "  ⋮  │    ⋮         ⋮                    ⋮                              ⋮      ⋱\n",
       "  91 │ 0.855556  37.7612   Gamma{Float64}(α=4.0, θ=16.0)  Gamma{Float64}(α=1.0\n",
       "  92 │ 0.869444  53.1166   Gamma{Float64}(α=5.0, θ=20.0)  Gamma{Float64}(α=1.0 ⋯\n",
       "  93 │ 0.862778  38.2919   Gamma{Float64}(α=4.0, θ=16.0)  Gamma{Float64}(α=1.0\n",
       "  94 │ 0.861111  37.7924   Gamma{Float64}(α=1.0, θ=4.0)   Gamma{Float64}(α=4.0\n",
       "  95 │ 0.882778  38.6287   Gamma{Float64}(α=1.0, θ=4.0)   Gamma{Float64}(α=4.0\n",
       "  96 │ 0.868333  24.8526   Gamma{Float64}(α=1.0, θ=4.0)   Gamma{Float64}(α=3.0 ⋯\n",
       "  97 │ 0.895     46.2868   Gamma{Float64}(α=4.0, θ=16.0)  Gamma{Float64}(α=3.0\n",
       "  98 │ 0.883889  59.354    Gamma{Float64}(α=5.0, θ=20.0)  Gamma{Float64}(α=3.0\n",
       "  99 │ 0.898333   6.65358  Gamma{Float64}(α=1.0, θ=4.0)   Gamma{Float64}(α=1.0\n",
       " 100 │ 0.873333  40.3896   Gamma{Float64}(α=4.0, θ=16.0)  Gamma{Float64}(α=2.0 ⋯\n",
       "\u001b[36m                                                    1 column and 79 rows omitted\u001b[0m"
      ]
     },
     "execution_count": 8,
     "metadata": {},
     "output_type": "execute_result"
    }
   ],
   "source": [
    "probs  = [x for (x, _) in results]\n",
    "widths = [x for (_, x) in results]\n",
    "df = DataFrame(prob=probs, width=widths, distrX=distrX, distrY=distrY)"
   ]
  },
  {
   "cell_type": "code",
   "execution_count": 9,
   "metadata": {},
   "outputs": [
    {
     "data": {
      "text/plain": [
       "\"../results/oneSided_unpooled_0.025.csv\""
      ]
     },
     "execution_count": 9,
     "metadata": {},
     "output_type": "execute_result"
    }
   ],
   "source": [
    "filename = (isTwoSided ? \"twoSided\" : \"oneSided\") * \"_\" * (pooled ? \"\" : \"un\") * \"pooled\" * \"_\" * string(args.alpha) * \".csv\"\n",
    "CSV.write(\"../results/\" * filename, df)"
   ]
  }
 ],
 "metadata": {
  "kernelspec": {
   "display_name": "Julia 1.7.1",
   "language": "julia",
   "name": "julia-1.7"
  },
  "language_info": {
   "file_extension": ".jl",
   "mimetype": "application/julia",
   "name": "julia",
   "version": "1.7.1"
  }
 },
 "nbformat": 4,
 "nbformat_minor": 4
}
