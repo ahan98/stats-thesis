{
 "cells": [
  {
   "cell_type": "code",
   "execution_count": 1,
   "metadata": {},
   "outputs": [],
   "source": [
    "using Random\n",
    "using Distributions\n",
    "using DataFrames, CSV\n",
    "\n",
    "# compile local files\n",
    "include(\"statistics.jl\")\n",
    "include(\"simulation.jl\")\n",
    "include(\"data.jl\")\n",
    "include(\"util.jl\")\n",
    "\n",
    "using .TestStatistics\n",
    "using .Simulation\n",
    "using .Data"
   ]
  },
  {
   "cell_type": "code",
   "execution_count": 6,
   "metadata": {},
   "outputs": [
    {
     "data": {
      "text/plain": [
       "(Float32[19.129026, 17.072006, 12.148226, 3.31444, 3.6175585, 1.9653575, 8.342362, 17.082706, 3.3472242, 15.060385  …  10.533955, 18.875303, 10.426724, 12.35601, 3.468512, 8.742228, 11.295829, 15.747598, 2.3619258, 18.72099],)"
      ]
     },
     "execution_count": 6,
     "metadata": {},
     "output_type": "execute_result"
    }
   ],
   "source": [
    "\"\"\"\n",
    "CONFIG\n",
    "\"\"\"\n",
    "\n",
    "pooled = true\n",
    "alpha = 0.05\n",
    "isTwoSided = false\n",
    "\n",
    "# data\n",
    "B  = 100    # num. coverage probabilities per boxplot\n",
    "S  = 1800   # num. samples per coverage probability\n",
    "nx = 8      # size of group 1\n",
    "ny = 8      # size of group 2\n",
    "px, py = partition(nx, ny)\n",
    "dtype = Float32\n",
    "\n",
    "# distribution settings\n",
    "Random.seed!(123)\n",
    "\n",
    "\"\"\"\n",
    "distrTypeX = Gamma\n",
    "shapeX = dtype.(rand(Uniform(1, 5), B))\n",
    "scaleX = 4 * shapeX\n",
    "paramsX = (shapeX, scaleX)\n",
    "\n",
    "distrTypeY = Gamma\n",
    "shapeY = dtype.(rand(Uniform(1, 5), B))\n",
    "scaleY = 4 * shapeY\n",
    "paramsY = (shapeY, scaleY)\n",
    "\"\"\"\n",
    "\n",
    "distrTypeX = Exponential\n",
    "lambdaX = dtype.(rand(Uniform(1, 20), B))\n",
    "paramsX = (lambdaX,)\n",
    "\n",
    "distrTypeY = Exponential\n",
    "lambdaY = dtype.(rand(Uniform(1, 20), B))\n",
    "paramsY = (lambdaY,)"
   ]
  },
  {
   "cell_type": "code",
   "execution_count": 7,
   "metadata": {},
   "outputs": [
    {
     "name": "stdout",
     "output_type": "stream",
     "text": [
      "size(x) = (100, 1800, 8)\n",
      "size(y) = (100, 1800, 8)\n",
      "size(wide) = (100, 1800)\n",
      "size(narrow) = (100, 1800)\n",
      "deltas[1] = -0.9093342f0\n",
      "distrX[1] = Exponential{Float32}(θ=18.219692f0)\n",
      "distrY[1] = Exponential{Float32}(θ=19.129026f0)\n"
     ]
    },
    {
     "data": {
      "text/plain": [
       "Exponential{Float32}(θ=19.129026f0)"
      ]
     },
     "execution_count": 7,
     "metadata": {},
     "output_type": "execute_result"
    }
   ],
   "source": [
    "# generate data\n",
    "x, y, wide, narrow, deltas, distrX, distrY = generateData(B, S, nx, ny, pooled,\n",
    "                                                          distrTypeX, paramsX,\n",
    "                                                          distrTypeY, paramsY)\n",
    "@show size(x)\n",
    "@show size(y)\n",
    "@show size(wide)\n",
    "@show size(narrow)\n",
    "@show deltas[1]\n",
    "@show distrX[1]\n",
    "@show distrY[1]"
   ]
  },
  {
   "cell_type": "code",
   "execution_count": 8,
   "metadata": {},
   "outputs": [],
   "source": [
    "# wrap constant arguments into an iterable object\n",
    "# this allows each batch to have local access\n",
    "\n",
    "struct Args\n",
    "    px::AbstractMatrix{Int}\n",
    "    py::AbstractMatrix{Int}\n",
    "    pooled::Bool\n",
    "    alpha::Float32\n",
    "    alt_lo::Alternative\n",
    "    alt_hi::Alternative\n",
    "end\n",
    "\n",
    "Base.Broadcast.broadcastable(obj::Args) = Ref(obj)  # make objects of this type iterable"
   ]
  },
  {
   "cell_type": "code",
   "execution_count": 9,
   "metadata": {},
   "outputs": [],
   "source": [
    "for isTwoSided in [true, false]\n",
    "    alpha_temp = alpha\n",
    "    alt_lo = alt_hi = Simulation.twoSided\n",
    "    \n",
    "    if !isTwoSided\n",
    "        alpha_temp = alpha / 2\n",
    "        alt_lo = greater\n",
    "        alt_hi = smaller\n",
    "    end\n",
    "        \n",
    "    for pooled in [true, false]\n",
    "        args = Args(px, py, pooled, alpha_temp, alt_lo, alt_hi)\n",
    "        \n",
    "        results = coverage.(eachslice(x, dims=1),\n",
    "                            eachslice(y, dims=1),\n",
    "                            eachrow(wide),\n",
    "                            eachrow(narrow),\n",
    "                            deltas,\n",
    "                            args)\n",
    "        \n",
    "        # convert results to DataFrame\n",
    "        probs  = [x for (x, _) in results]\n",
    "        widths = [x for (_, x) in results]\n",
    "        df = DataFrame(prob=probs, width=widths, distrX=distrX, distrY=distrY)\n",
    "\n",
    "        # save DataFrame as .csv\n",
    "        filename = (isTwoSided ? \"twoSided\" : \"oneSided\") * \"_\" *\n",
    "                   (pooled ? \"\" : \"un\") * \"pooled\" * \"_\" * string(args.alpha) * \".csv\"\n",
    "        \n",
    "        #CSV.write(\"../results/\" * filename, df)\n",
    "        CSV.write(filename, df)\n",
    "    end\n",
    "end"
   ]
  },
  {
   "cell_type": "code",
   "execution_count": null,
   "metadata": {},
   "outputs": [],
   "source": []
  }
 ],
 "metadata": {
  "kernelspec": {
   "display_name": "Julia 1.7.1",
   "language": "julia",
   "name": "julia-1.7"
  },
  "language_info": {
   "file_extension": ".jl",
   "mimetype": "application/julia",
   "name": "julia",
   "version": "1.7.1"
  }
 },
 "nbformat": 4,
 "nbformat_minor": 4
}
