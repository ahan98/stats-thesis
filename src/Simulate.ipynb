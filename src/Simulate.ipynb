{
 "cells": [
  {
   "cell_type": "code",
   "execution_count": 43,
   "id": "5177bc1d",
   "metadata": {},
   "outputs": [
    {
     "data": {
      "text/plain": [
       "8"
      ]
     },
     "execution_count": 43,
     "metadata": {},
     "output_type": "execute_result"
    }
   ],
   "source": [
    "using Random\n",
    "using Distributions\n",
    "using FLoops\n",
    "using Base.Threads\n",
    "using BenchmarkTools\n",
    "\n",
    "include(\"data.jl\")\n",
    "include(\"util.jl\")\n",
    "\n",
    "include(\"intervals/permutation.jl\")\n",
    "include(\"intervals/bootstrap.jl\")\n",
    "include(\"intervals/t.jl\")\n",
    "\n",
    "Threads.nthreads()"
   ]
  },
  {
   "cell_type": "code",
   "execution_count": 44,
   "id": "02dba51e",
   "metadata": {},
   "outputs": [
    {
     "data": {
      "text/plain": [
       "100×5 Matrix{Int64}:\n",
       "   1   79   71   14   60\n",
       "   2   89   99  143   84\n",
       "   3  134   98   97   34\n",
       "   4   32  106  142   31\n",
       "   5   81   65  109  100\n",
       "   6   62   83   27   94\n",
       "   7   13  115  144  135\n",
       "   8  141  121   56   82\n",
       "   9   91  145   98   22\n",
       "  10   56  120  138   87\n",
       "  11   84   30   90   58\n",
       "  12  128   97  150   66\n",
       "  13   18   31  129  130\n",
       "   ⋮                 \n",
       "  89  127    3   65   83\n",
       "  90  110  102  126   75\n",
       "  91  133   19   23   28\n",
       "  92  144    8   44   99\n",
       "  93   87  114  133   37\n",
       "  94   98   41   60    8\n",
       "  95  103  107  105   38\n",
       "  96  105  143  131   11\n",
       "  97   75   43   20   59\n",
       "  98   82   16   21  140\n",
       "  99   65  119   37    7\n",
       " 100   46    9   55   50"
      ]
     },
     "execution_count": 44,
     "metadata": {},
     "output_type": "execute_result"
    }
   ],
   "source": [
    "dtype = Float32\n",
    "seed = 123\n",
    "\n",
    "# DATA CONFIG\n",
    "\n",
    "alpha = 0.05\n",
    "\n",
    "# data\n",
    "B  = 100   # num. coverage probabilities per boxplot\n",
    "S  = 4300  # num. samples per coverage probability\n",
    "nx = 100   # size of group 1\n",
    "ny = 50    # size of group 2\n",
    "nperm = try\n",
    "    binomial(nx+ny, nx)\n",
    "catch OverflowError\n",
    "    Inf\n",
    "end\n",
    "    \n",
    "if nperm > 30_000\n",
    "    Random.seed!(123)\n",
    "    px, py = partition(nx, ny, 10_000)\n",
    "else\n",
    "    px, py = partition(nx, ny)\n",
    "end\n",
    "\n",
    "bits = vcat(ones(Int, nx), zeros(Int, ny))\n",
    "addx, addy = bits[px], bits[py]\n",
    "px[:, 1:5]"
   ]
  },
  {
   "cell_type": "code",
   "execution_count": 45,
   "id": "9d3281e2",
   "metadata": {},
   "outputs": [],
   "source": [
    "# POPULATION SETTINGS\n",
    "\n",
    "Random.seed!(123)\n",
    "\n",
    "distrTypeX = Gamma{dtype}\n",
    "X_shape = random(Uniform(2, 4), B)\n",
    "X_scale = random(Uniform(0.5, 2), B)\n",
    "distrX = map(distrTypeX, X_shape, X_scale)\n",
    "\n",
    "distrTypeY = Gumbel{dtype}\n",
    "Y_loc = random(Uniform(0, 1), B)\n",
    "Y_scale = random(Uniform(2, 4), B)\n",
    "distrY = map(distrTypeY, Y_loc, Y_scale)\n",
    ";"
   ]
  },
  {
   "cell_type": "code",
   "execution_count": 46,
   "id": "75cca7ae",
   "metadata": {},
   "outputs": [
    {
     "name": "stdout",
     "output_type": "stream",
     "text": [
      "distrX[1:2] = Gamma{Float32}[Gamma{Float32}(α=3.813f0, θ=1.931f0), Gamma{Float32}(α=2.887f0, θ=1.769f0)]\n",
      "distrY[1:2] = Gumbel{Float32}[Gumbel{Float32}(μ=0.965f0, θ=2.056f0), Gumbel{Float32}(μ=0.071f0, θ=2.495f0)]\n",
      "deltas[1:2] = Float32[5.211148, 3.5959504]\n"
     ]
    }
   ],
   "source": [
    "deltas = @. mean(distrX) - mean(distrY)\n",
    "\n",
    "@show distrX[1:2]\n",
    "@show distrY[1:2]\n",
    "@show deltas[1:2];"
   ]
  },
  {
   "cell_type": "code",
   "execution_count": 47,
   "id": "5fea7174",
   "metadata": {},
   "outputs": [
    {
     "name": "stdout",
     "output_type": "stream",
     "text": [
      "size(ys) = (100,)\n"
     ]
    },
    {
     "data": {
      "text/plain": [
       "50×4300 Matrix{Float32}:\n",
       "  4.96632    2.68948     3.39481    …  -0.654883    0.649917   -0.547117\n",
       "  4.1306     0.51833    -0.340174       3.00418    -1.37342     3.25588\n",
       " -3.05929    5.30728    -0.341889      -3.47024    -0.378375    2.54732\n",
       "  5.46767    2.42243    -0.265613      -0.574028    2.42536    -1.53447\n",
       "  7.25734    9.90195     2.97764       -2.57248     2.37158    -1.15894\n",
       "  3.56301    3.03044     2.02682    …   3.09028     0.404494   -0.499147\n",
       "  4.00801    3.27124    -2.31258       -0.312584   -0.0365355  -2.49059\n",
       "  1.70405    4.81771     0.102927       1.85326     0.29744    -0.631769\n",
       " -1.32989    6.57513    -0.201606       2.74437    -0.937224    0.759019\n",
       "  2.11959    9.82986     1.35133        0.0537991  -1.30835     4.69618\n",
       "  6.4245     4.28912     0.0536875  …   5.30297    -2.42861     6.44185\n",
       "  2.01805    2.83512    -1.29911       27.0076      4.24639    -1.04852\n",
       "  3.12121    1.61074     0.75042       11.8885      0.0403012   1.72527\n",
       "  ⋮                                 ⋱                          \n",
       "  1.82545   -2.02919     0.412896      -0.324855    1.25459     2.09895\n",
       "  4.50339   -3.33321     0.434177       1.35682    -4.6836      8.40941\n",
       "  0.855422   4.68156     0.537337   …  -2.63246     1.94069     1.59747\n",
       "  2.06435    1.42979     5.83236       -0.497162    5.51225     6.56589\n",
       "  0.253679   4.69075     7.913          2.86393    -1.66403     1.28479\n",
       "  4.88108    2.64778    -1.31203        0.553966   -1.44231     1.30253\n",
       "  1.26049   -0.80062     4.51779        1.70247     7.07472     6.36413\n",
       "  4.68672   -1.94354     7.68799    …   1.49648     4.14008     0.613463\n",
       "  0.795185  -0.560901    3.27493        0.220051   -0.789598    1.07679\n",
       "  1.34342   -1.54081    -4.56513        3.17032    -1.44114    -1.40834\n",
       " -1.81402   -0.0647404  -0.429224       1.22973     1.38359    -2.00492\n",
       " -0.066679   2.70743     2.94527        0.362116    1.01986     0.541989"
      ]
     },
     "execution_count": 47,
     "metadata": {},
     "output_type": "execute_result"
    }
   ],
   "source": [
    "Random.seed!(123)\n",
    "xs = [dtype.(rand(distrX[i], nx, S)) for i in 1:B]\n",
    "ys = [dtype.(rand(distrY[i], ny, S)) for i in 1:B]\n",
    "@show size(ys)\n",
    "ys[2]"
   ]
  },
  {
   "cell_type": "code",
   "execution_count": 48,
   "id": "c5e4db4c",
   "metadata": {},
   "outputs": [
    {
     "data": {
      "text/plain": [
       "50×4300 Matrix{Float32}:\n",
       "  4.96632    2.68948     3.39481    …  -0.654883    0.649917   -0.547117\n",
       "  4.1306     0.51833    -0.340174       3.00418    -1.37342     3.25588\n",
       " -3.05929    5.30728    -0.341889      -3.47024    -0.378375    2.54732\n",
       "  5.46767    2.42243    -0.265613      -0.574028    2.42536    -1.53447\n",
       "  7.25734    9.90195     2.97764       -2.57248     2.37158    -1.15894\n",
       "  3.56301    3.03044     2.02682    …   3.09028     0.404494   -0.499147\n",
       "  4.00801    3.27124    -2.31258       -0.312584   -0.0365355  -2.49059\n",
       "  1.70405    4.81771     0.102927       1.85326     0.29744    -0.631769\n",
       " -1.32989    6.57513    -0.201606       2.74437    -0.937224    0.759019\n",
       "  2.11959    9.82986     1.35133        0.0537991  -1.30835     4.69618\n",
       "  6.4245     4.28912     0.0536875  …   5.30297    -2.42861     6.44185\n",
       "  2.01805    2.83512    -1.29911       27.0076      4.24639    -1.04852\n",
       "  3.12121    1.61074     0.75042       11.8885      0.0403012   1.72527\n",
       "  ⋮                                 ⋱                          \n",
       "  1.82545   -2.02919     0.412896      -0.324855    1.25459     2.09895\n",
       "  4.50339   -3.33321     0.434177       1.35682    -4.6836      8.40941\n",
       "  0.855422   4.68156     0.537337   …  -2.63246     1.94069     1.59747\n",
       "  2.06435    1.42979     5.83236       -0.497162    5.51225     6.56589\n",
       "  0.253679   4.69075     7.913          2.86393    -1.66403     1.28479\n",
       "  4.88108    2.64778    -1.31203        0.553966   -1.44231     1.30253\n",
       "  1.26049   -0.80062     4.51779        1.70247     7.07472     6.36413\n",
       "  4.68672   -1.94354     7.68799    …   1.49648     4.14008     0.613463\n",
       "  0.795185  -0.560901    3.27493        0.220051   -0.789598    1.07679\n",
       "  1.34342   -1.54081    -4.56513        3.17032    -1.44114    -1.40834\n",
       " -1.81402   -0.0647404  -0.429224       1.22973     1.38359    -2.00492\n",
       " -0.066679   2.70743     2.94527        0.362116    1.01986     0.541989"
      ]
     },
     "execution_count": 48,
     "metadata": {},
     "output_type": "execute_result"
    }
   ],
   "source": [
    "# flatten into 3D matrix\n",
    "X = reshape(hcat(xs...), nx, S, B)\n",
    "Y = reshape(hcat(ys...), ny, S, B)\n",
    "Y[:,:,2]"
   ]
  },
  {
   "cell_type": "code",
   "execution_count": 56,
   "id": "c4b9c653",
   "metadata": {},
   "outputs": [
    {
     "data": {
      "text/plain": [
       "save_permutation_results (generic function with 1 method)"
      ]
     },
     "execution_count": 56,
     "metadata": {},
     "output_type": "execute_result"
    }
   ],
   "source": [
    "function save_ci_results(results, methodId, B, S, pooled=nothing, two_sided=nothing; prefix=\"\", dir=\"./\")\n",
    "    averages = []\n",
    "\n",
    "    for batchId in 1:B\n",
    "        batch = results[methodId, batchId, :]\n",
    "        coverage = sum([j for (j, _) in batch]) / S\n",
    "        width = sum([j for (_, j) in batch]) / S\n",
    "        push!(averages, (coverage, width))\n",
    "    end\n",
    "    if isnothing(two_sided)\n",
    "        save(averages, distrX[1:B], distrY[1:B], alpha, prefix=prefix, dir=dir)\n",
    "    else\n",
    "        alpha_ = two_sided ? alpha : alpha / 2\n",
    "        save(averages, distrX[1:B], distrY[1:B], alpha_, pooled, two_sided, prefix=prefix, dir=dir)\n",
    "    end\n",
    "end\n",
    "\n",
    "function save_permutation_results(results, B, S; prefix=\"\", dir=\"./\")\n",
    "    i = 1\n",
    "    per_method = []\n",
    "    for two_sided in [true, false]\n",
    "        for pooled in [true, false]\n",
    "            if i in [1, 3]  # use only pooled for now\n",
    "                save_ci_results(results, i, B, S, pooled, two_sided, prefix=prefix, dir=dir)\n",
    "            end\n",
    "            i += 1\n",
    "        end\n",
    "    end\n",
    "end"
   ]
  },
  {
   "cell_type": "code",
   "execution_count": 57,
   "id": "777511b0",
   "metadata": {},
   "outputs": [
    {
     "data": {
      "text/plain": [
       "cache (generic function with 1 method)"
      ]
     },
     "execution_count": 57,
     "metadata": {},
     "output_type": "execute_result"
    }
   ],
   "source": [
    "function cache(groups, masks)\n",
    "    mean_og = mean(groups, dims=1)\n",
    "    var_og = var(groups, dims=1)\n",
    "    nshift = sum(masks, dims=1)\n",
    "    shift_sum = sum(groups .* masks, dims=1)\n",
    "    return P(mean_og, var_og, nshift, shift_sum, size(groups, 1))\n",
    "end"
   ]
  },
  {
   "cell_type": "code",
   "execution_count": 59,
   "id": "dfbb5d6e",
   "metadata": {
    "tags": []
   },
   "outputs": [
    {
     "name": "stdout",
     "output_type": "stream",
     "text": [
      "  0.016630 seconds (2.29 k allocations: 14.835 MiB)\n"
     ]
    },
    {
     "data": {
      "text/plain": [
       "(4.694457650790023, 7.0463708633090985)"
      ]
     },
     "execution_count": 59,
     "metadata": {},
     "output_type": "execute_result"
    }
   ],
   "source": [
    "x = X[:,1,1]\n",
    "y = Y[:,1,1]\n",
    "pooled = vcat(x, y)\n",
    "xs = pooled[px]\n",
    "ys = pooled[py]\n",
    "xcache = cache(xs, addx)\n",
    "ycache = cache(ys, addy)\n",
    "\n",
    "wide, narrow = t_estimates(x, y, true)\n",
    "@time permInterval(xcache, ycache, wide, narrow, true, alpha, twoSided, twoSided, 0.005)"
   ]
  },
  {
   "cell_type": "code",
   "execution_count": null,
   "id": "f746d0ba",
   "metadata": {},
   "outputs": [],
   "source": [
    "T = Threads.nthreads()\n",
    "results = Array{Union{Tuple, Nothing}, 3}(nothing, 6, B, S)\n",
    "\n",
    "#@time Threads.@threads for (i,j) in collect(Iterators.product(1:B, 1:S)) # 15.52 sec on (B,S) = (5, 1800)\n",
    "@time @floop ThreadedEx(basesize=div(B*S, T)) for b in 1:1, s in 1:1000\n",
    "    @inbounds x = X[:,s,b]\n",
    "    @inbounds y = Y[:,s,b]\n",
    "    \n",
    "    pooled = vcat(x, y)\n",
    "    xs = @inbounds pooled[px]\n",
    "    ys = @inbounds pooled[py]\n",
    "    xcache = cache(xs, addx)\n",
    "    ycache = cache(ys, addy)\n",
    "    wide, narrow = t_estimates(x, y, true)\n",
    " \n",
    "    results[1, b, s] = permInterval(xcache, ycache, wide, narrow, deltas[b], true, alpha, twoSided, twoSided, 0.0005)\n",
    "    #results[2, b, s] = permInterval(xcache, ycache, wide, narrow, deltas[b], false, alpha, twoSided, twoSided, 0.0005)\n",
    "    results[3, b, s] = permInterval(xcache, ycache, wide, narrow, deltas[b], true, alpha/2, greater, smaller, 0.0005)\n",
    "    #results[4, b, s] = permInterval(xcache, ycache, wide, narrow, deltas[b], false, alpha/2, greater, smaller, 0.0005)\n",
    "    \n",
    "    #\"\"\"\n",
    "    #results[5, b, s] = bootstrap(x, y, deltas[b], alpha, nsamples=10_000)\n",
    "    #results[6, b, s] = tconf(x, y, deltas[b], alpha, false)\n",
    "    #\"\"\"\n",
    "end\n",
    "\n",
    "dir = \"../results/\" * string(nx) * \"_\" * string(ny) * \"/3/\"\n",
    "# save_permutation_results(results, B, S; dir=dir)\n",
    "#save_ci_results(results, 5, B, S; prefix=\"bs\", dir=dir)\n",
    "#save_ci_results(results, 6, B, S; prefix=\"t\", dir=dir)"
   ]
  },
  {
   "cell_type": "code",
   "execution_count": null,
   "id": "416576e9-8a12-42ae-a0cd-6091d61a4505",
   "metadata": {},
   "outputs": [
    {
     "data": {
      "text/plain": [
       "10-element Vector{Float64}:\n",
       " 0.95\n",
       " 0.98\n",
       " 0.95\n",
       " 0.94\n",
       " 0.95\n",
       " 0.93\n",
       " 0.95\n",
       " 0.92\n",
       " 0.94\n",
       " 0.97"
      ]
     },
     "execution_count": 94,
     "metadata": {},
     "output_type": "execute_result"
    }
   ],
   "source": [
    "b = 10\n",
    "s = 100\n",
    "[sum(x for (x, _) in results[4, b, 1:s]) / s for b in 1:b]"
   ]
  }
 ],
 "metadata": {
  "kernelspec": {
   "display_name": "Julia 1.7.1",
   "language": "julia",
   "name": "julia-1.7"
  },
  "language_info": {
   "file_extension": ".jl",
   "mimetype": "application/julia",
   "name": "julia",
   "version": "1.7.1"
  }
 },
 "nbformat": 4,
 "nbformat_minor": 5
}
