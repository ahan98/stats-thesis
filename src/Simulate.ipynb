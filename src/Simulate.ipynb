{
 "cells": [
  {
   "cell_type": "code",
   "execution_count": 1,
   "id": "70cf7d05",
   "metadata": {},
   "outputs": [
    {
     "data": {
      "text/plain": [
       "112"
      ]
     },
     "execution_count": 1,
     "metadata": {},
     "output_type": "execute_result"
    }
   ],
   "source": [
    "using Random\n",
    "using Distributions\n",
    "using FLoops\n",
    "using Base.Threads\n",
    "\n",
    "include(\"data.jl\")\n",
    "include(\"util.jl\")\n",
    "\n",
    "include(\"intervals/permutation.jl\")\n",
    "include(\"intervals/bootstrap.jl\")\n",
    "include(\"intervals/t.jl\")\n",
    "\n",
    "Threads.nthreads()"
   ]
  },
  {
   "cell_type": "code",
   "execution_count": 21,
   "id": "a3c90010",
   "metadata": {},
   "outputs": [
    {
     "name": "stdout",
     "output_type": "stream",
     "text": [
      "distrX[1] = LogNormal{Float32}(μ=0.906f0, σ=0.572f0)\n",
      "distrY[1] = Gamma{Float32}(α=2.5836008f0, θ=1.1279569f0)\n"
     ]
    }
   ],
   "source": [
    "\"\"\"\n",
    "DATA CONFIG\n",
    "\"\"\"\n",
    "alpha = 0.05\n",
    "\n",
    "# data\n",
    "B  = 100    # num. coverage probabilities per boxplot\n",
    "S  = 1800   # num. samples per coverage probability\n",
    "nx = 8      # size of group 1\n",
    "ny = 8     # size of group 2\n",
    "px, py = partition(nx, ny)\n",
    "mc_size = try\n",
    "    (binomial(nx+ny, nx) > 45_000) ? 10_000 : 0\n",
    "catch\n",
    "    0\n",
    "end\n",
    "\n",
    "dtype = Float32\n",
    "seed = 123\n",
    "\n",
    "\"\"\"\n",
    "POPULATION SETTINGS\n",
    "\"\"\"\n",
    "\n",
    "Random.seed!(seed)\n",
    "\n",
    "distrTypeX = LogNormal{dtype}\n",
    "X_mu = dtype.(round.(rand(B), digits=3))\n",
    "X_sigma = dtype.(round.(rand(B) * 0.6, digits=3))\n",
    "distrX = map(distrTypeX, X_mu, X_sigma)\n",
    "\n",
    "distrTypeY = Gamma{dtype}\n",
    "Y_shape = @. 1 / (exp(X_sigma^2) - 1)\n",
    "Y_scale = @. exp(X_mu + X_sigma^2 / 2) / Y_shape\n",
    "distrY = map(distrTypeY, Y_shape, Y_scale)\n",
    "\n",
    "@show distrX[1]\n",
    "@show distrY[1]\n",
    "\n",
    "deltas = @. mean(distrX) - mean(distrY);"
   ]
  },
  {
   "cell_type": "code",
   "execution_count": 22,
   "id": "a4ee1edb",
   "metadata": {},
   "outputs": [
    {
     "name": "stdout",
     "output_type": "stream",
     "text": [
      "size(ys) = (100,)\n"
     ]
    },
    {
     "data": {
      "text/plain": [
       "8×1800 Matrix{Float32}:\n",
       " 2.11136   2.6391    1.90156   2.00924   …  1.1069   1.53412   2.7346\n",
       " 1.64843   2.95654   2.34013   3.09854      0.7289   0.64576   2.83896\n",
       " 0.627449  1.19132   2.54112   0.57285      1.879    1.32214   1.07355\n",
       " 2.57078   2.25439   0.436584  0.606195     1.14569  4.97861   6.19997\n",
       " 4.01339   2.41301   1.89056   2.58368      2.40217  1.16623   0.868414\n",
       " 2.27239   0.260851  2.46342   1.77637   …  3.36924  3.41251   0.814334\n",
       " 1.41211   0.676851  1.63079   2.18224      3.02213  3.22583   4.04552\n",
       " 1.37667   0.765134  1.66696   0.737053     2.08818  0.721793  0.55302"
      ]
     },
     "execution_count": 22,
     "metadata": {},
     "output_type": "execute_result"
    }
   ],
   "source": [
    "Random.seed!(123)\n",
    "xs = [dtype.(rand(distrX[i], nx, S)) for i in 1:B]\n",
    "ys = [dtype.(rand(distrY[i], nx, S)) for i in 1:B]\n",
    "@show size(ys)\n",
    "ys[2]"
   ]
  },
  {
   "cell_type": "code",
   "execution_count": 23,
   "id": "bce58a77",
   "metadata": {},
   "outputs": [
    {
     "data": {
      "text/plain": [
       "8×1800 Matrix{Float32}:\n",
       " 2.11136   2.6391    1.90156   2.00924   …  1.1069   1.53412   2.7346\n",
       " 1.64843   2.95654   2.34013   3.09854      0.7289   0.64576   2.83896\n",
       " 0.627449  1.19132   2.54112   0.57285      1.879    1.32214   1.07355\n",
       " 2.57078   2.25439   0.436584  0.606195     1.14569  4.97861   6.19997\n",
       " 4.01339   2.41301   1.89056   2.58368      2.40217  1.16623   0.868414\n",
       " 2.27239   0.260851  2.46342   1.77637   …  3.36924  3.41251   0.814334\n",
       " 1.41211   0.676851  1.63079   2.18224      3.02213  3.22583   4.04552\n",
       " 1.37667   0.765134  1.66696   0.737053     2.08818  0.721793  0.55302"
      ]
     },
     "execution_count": 23,
     "metadata": {},
     "output_type": "execute_result"
    }
   ],
   "source": [
    "# flatten into 3D matrix\n",
    "X = reshape(hcat(xs...), 8, S, B)\n",
    "Y = reshape(hcat(ys...), 8, S, B)\n",
    "Y[:,:,2]"
   ]
  },
  {
   "cell_type": "code",
   "execution_count": 26,
   "id": "4647d88b",
   "metadata": {},
   "outputs": [
    {
     "data": {
      "text/plain": [
       "save_permutation_results (generic function with 2 methods)"
      ]
     },
     "execution_count": 26,
     "metadata": {},
     "output_type": "execute_result"
    }
   ],
   "source": [
    "function save_permutation_results(results, B, S, dir=\"./\")\n",
    "    i = 1\n",
    "    per_method = []\n",
    "    for is_two_sided in [true, false]\n",
    "        for pooled in [true, false]\n",
    "            averages = []\n",
    "\n",
    "            for row in eachrow(results[i,:,:])\n",
    "                coverage = sum([j for (j, _) in row]) / S\n",
    "                width = sum([j for (_, j) in row]) / S\n",
    "                push!(averages, (coverage, width))\n",
    "            end\n",
    "\n",
    "            alpha_ = is_two_sided ? alpha : alpha / 2\n",
    "            save(averages, distrX[1:B], distrY[1:B], alpha_, pooled, is_two_sided, parent_dir=dir)\n",
    "            i += 1\n",
    "        end\n",
    "    end\n",
    "end"
   ]
  },
  {
   "cell_type": "code",
   "execution_count": 29,
   "id": "a6e2038f",
   "metadata": {},
   "outputs": [
    {
     "name": "stdout",
     "output_type": "stream",
     "text": [
      "1856.476325 seconds (1.12 G allocations: 12.290 TiB, 72.62% gc time, 0.01% compilation time)\n"
     ]
    }
   ],
   "source": [
    "B = 100\n",
    "S = 1800\n",
    "\n",
    "T = Threads.nthreads()\n",
    "results = Array{Union{Nothing, Tuple}, 3}(undef, 6, B, S)\n",
    "fill!(results, nothing)\n",
    "\n",
    "#@time Threads.@threads for (i,j) in collect(Iterators.product(1:B, 1:S)) # 15.52 sec on (B,S) = (5, 1800)\n",
    "@time @floop ThreadedEx(basesize=div(B*S, T)) for b in 1:B, s in 1:S\n",
    "    @inbounds x = X[:,s,b]\n",
    "    @inbounds y = Y[:,s,b]\n",
    "\n",
    "    results[1, b, s] = permInterval(x, y, deltas[b], (px, py, mc_size), true, 0.05, twoSided, twoSided)    \n",
    "    results[2, b, s] = permInterval(x, y, deltas[b], (px, py, mc_size), false, alpha, twoSided, twoSided)\n",
    "    results[3, b, s] = permInterval(x, y, deltas[b], (px, py, mc_size), true, alpha/2, greater, smaller)\n",
    "    results[4, b, s] = permInterval(x, y, deltas[b], (px, py, mc_size), false, alpha/2, greater, smaller)\n",
    "    \n",
    "    \"\"\"\n",
    "    lo, hi = bootstrap(x, y, 0.05, false, 10_000)\n",
    "    coverages[5] += (lo <= delta <= hi)\n",
    "\n",
    "    lo, hi = tconf(x, y, 0.05, false)\n",
    "    coverages[6] += (lo <= delta <= hi)\n",
    "    \"\"\"\n",
    "end\n",
    "\n",
    "save_permutation_results(results, B, S)"
   ]
  },
  {
   "cell_type": "code",
   "execution_count": 28,
   "id": "84869002",
   "metadata": {},
   "outputs": [
    {
     "data": {
      "text/plain": [
       "5-element Vector{Any}:\n",
       " (0.95, 3.1827745949945476)\n",
       " (0.92, 1.6322506846556246)\n",
       " (0.85, 1.3739451044574138)\n",
       " (0.93, 0.21217739206443034)\n",
       " (0.9, 0.18690359039665994)"
      ]
     },
     "execution_count": 28,
     "metadata": {},
     "output_type": "execute_result"
    }
   ],
   "source": [
    "averages = []\n",
    "for row in eachrow(results[1,:,:])\n",
    "    coverage = sum([j for (j, _) in row]) / S\n",
    "    width = sum([j for (_, j) in row]) / S\n",
    "    push!(averages, (coverage, width))\n",
    "end\n",
    "averages"
   ]
  }
 ],
 "metadata": {
  "kernelspec": {
   "display_name": "Julia_112 1.7.1",
   "language": "julia",
   "name": "julia_112-1.7"
  },
  "language_info": {
   "file_extension": ".jl",
   "mimetype": "application/julia",
   "name": "julia",
   "version": "1.7.1"
  }
 },
 "nbformat": 4,
 "nbformat_minor": 5
}
