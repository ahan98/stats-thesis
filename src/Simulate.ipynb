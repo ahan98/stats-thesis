{
 "cells": [
  {
   "cell_type": "code",
   "execution_count": 2,
   "id": "2dca59de",
   "metadata": {},
   "outputs": [
    {
     "data": {
      "text/plain": [
       "112"
      ]
     },
     "execution_count": 2,
     "metadata": {},
     "output_type": "execute_result"
    }
   ],
   "source": [
    "using Random\n",
    "using Distributions\n",
    "using FLoops\n",
    "using Base.Threads\n",
    "using BenchmarkTools\n",
    "\n",
    "include(\"data.jl\")\n",
    "include(\"util.jl\")\n",
    "\n",
    "include(\"intervals/permutation.jl\")\n",
    "include(\"intervals/bootstrap.jl\")\n",
    "include(\"intervals/t.jl\")\n",
    "\n",
    "Threads.nthreads()"
   ]
  },
  {
   "cell_type": "code",
   "execution_count": 3,
   "id": "a5dc0bb1",
   "metadata": {},
   "outputs": [
    {
     "data": {
      "text/plain": [
       "([1 1 … 9 10; 2 2 … 11 11; … ; 7 7 … 16 16; 8 9 … 17 17], [17 17 … 10 9; 16 16 … 8 8; … ; 10 10 … 2 2; 9 8 … 1 1])"
      ]
     },
     "execution_count": 3,
     "metadata": {},
     "output_type": "execute_result"
    }
   ],
   "source": [
    "dtype = Float32\n",
    "seed = 123\n",
    "\n",
    "# DATA CONFIG\n",
    "\n",
    "alpha = 0.05\n",
    "\n",
    "# data\n",
    "B  = 100   # num. coverage probabilities per boxplot\n",
    "S  = 4300  # num. samples per coverage probability\n",
    "nx = 8   # size of group 1\n",
    "ny = 9    # size of group 2\n",
    "MC = 10_000\n",
    "perms = nothing\n",
    "if binomial(nx + ny, nx) < 30_000\n",
    "    perms = partition(nx, ny)\n",
    "end"
   ]
  },
  {
   "cell_type": "code",
   "execution_count": 4,
   "id": "de8d2ed3",
   "metadata": {},
   "outputs": [],
   "source": [
    "# POPULATION SETTINGS\n",
    "\n",
    "Random.seed!(123)\n",
    "\n",
    "distrTypeX = LogNormal{dtype}\n",
    "X_mu = random(Uniform(0, 1), B)\n",
    "X_sigma = random(Uniform(0, 0.6), B)\n",
    "distrX = map(distrTypeX, X_mu, X_sigma)\n",
    "\n",
    "distrTypeY = Gamma{dtype}\n",
    "Y_shape = @. 1 / (exp(X_sigma^2) - 1)\n",
    "Y_scale = @. exp(X_mu + X_sigma^2 / 2) / Y_shape\n",
    "distrY = map(distrTypeY, Y_shape, Y_scale)\n",
    ";"
   ]
  },
  {
   "cell_type": "code",
   "execution_count": 5,
   "id": "b497895a",
   "metadata": {},
   "outputs": [
    {
     "name": "stdout",
     "output_type": "stream",
     "text": [
      "distrX[1:2] = LogNormal{Float32}[LogNormal{Float32}(μ=0.906f0, σ=0.572f0), LogNormal{Float32}(μ=0.443f0, σ=0.508f0)]\n",
      "distrY[1:2] = Gamma{Float32}[Gamma{Float32}(α=2.5836008f0, θ=1.1279569f0), Gamma{Float32}(α=3.3964891f0, θ=0.5216751f0)]\n",
      "deltas[1:2] = Float32[0.0, 0.0]\n"
     ]
    }
   ],
   "source": [
    "deltas = @. mean(distrX) - mean(distrY)\n",
    "\n",
    "@show distrX[1:2]\n",
    "@show distrY[1:2]\n",
    "@show deltas[1:2];"
   ]
  },
  {
   "cell_type": "code",
   "execution_count": 6,
   "id": "a1efa196",
   "metadata": {},
   "outputs": [
    {
     "name": "stdout",
     "output_type": "stream",
     "text": [
      "size(ys) = (100,)\n"
     ]
    },
    {
     "data": {
      "text/plain": [
       "9×4300 Matrix{Float32}:\n",
       " 0.918382  1.17214   1.58792   1.78473   …  1.57903  0.909114  1.3323\n",
       " 5.10085   0.846234  0.812752  2.07632      1.28616  1.1478    1.35084\n",
       " 0.740079  3.25956   1.11199   1.12065      2.44196  2.97778   0.823054\n",
       " 3.05069   2.62497   1.50005   1.41386      3.28416  1.12238   2.214\n",
       " 1.26255   2.59351   5.15911   0.718461     2.29101  1.07196   1.32316\n",
       " 1.06029   0.193651  5.10846   1.49302   …  1.1329   0.841168  1.67932\n",
       " 2.89129   1.37615   2.85749   1.36728      1.99558  3.09876   0.870452\n",
       " 2.13142   1.73405   1.6878    1.32262      1.53206  3.41373   2.45196\n",
       " 5.38291   1.30888   3.09052   0.559428     1.65195  4.15913   2.07091"
      ]
     },
     "execution_count": 6,
     "metadata": {},
     "output_type": "execute_result"
    }
   ],
   "source": [
    "Random.seed!(123)\n",
    "xs = [dtype.(rand(distrX[i], nx, S)) for i in 1:B]\n",
    "ys = [dtype.(rand(distrY[i], ny, S)) for i in 1:B]\n",
    "@show size(ys)\n",
    "ys[2]"
   ]
  },
  {
   "cell_type": "code",
   "execution_count": 7,
   "id": "b0d937b8",
   "metadata": {},
   "outputs": [
    {
     "data": {
      "text/plain": [
       "9×4300 Matrix{Float32}:\n",
       " 0.918382  1.17214   1.58792   1.78473   …  1.57903  0.909114  1.3323\n",
       " 5.10085   0.846234  0.812752  2.07632      1.28616  1.1478    1.35084\n",
       " 0.740079  3.25956   1.11199   1.12065      2.44196  2.97778   0.823054\n",
       " 3.05069   2.62497   1.50005   1.41386      3.28416  1.12238   2.214\n",
       " 1.26255   2.59351   5.15911   0.718461     2.29101  1.07196   1.32316\n",
       " 1.06029   0.193651  5.10846   1.49302   …  1.1329   0.841168  1.67932\n",
       " 2.89129   1.37615   2.85749   1.36728      1.99558  3.09876   0.870452\n",
       " 2.13142   1.73405   1.6878    1.32262      1.53206  3.41373   2.45196\n",
       " 5.38291   1.30888   3.09052   0.559428     1.65195  4.15913   2.07091"
      ]
     },
     "execution_count": 7,
     "metadata": {},
     "output_type": "execute_result"
    }
   ],
   "source": [
    "# flatten into 3D matrix\n",
    "X = reshape(hcat(xs...), nx, S, B)\n",
    "Y = reshape(hcat(ys...), ny, S, B)\n",
    "Y[:,:,2]"
   ]
  },
  {
   "cell_type": "code",
   "execution_count": 8,
   "id": "1de4deef",
   "metadata": {},
   "outputs": [
    {
     "data": {
      "text/plain": [
       "save_permutation_results (generic function with 1 method)"
      ]
     },
     "execution_count": 8,
     "metadata": {},
     "output_type": "execute_result"
    }
   ],
   "source": [
    "function save_ci_results(results, methodId, B, S, pooled=nothing, two_sided=nothing; prefix=\"\", dir=\"./\")\n",
    "    averages = []\n",
    "\n",
    "    for batchId in 1:B\n",
    "        batch = results[methodId, batchId, :]\n",
    "        coverage = sum([j for (j, _) in batch]) / S\n",
    "        width = sum([j for (_, j) in batch]) / S\n",
    "        push!(averages, (coverage, width))\n",
    "    end\n",
    "    if isnothing(two_sided)\n",
    "        save(averages, distrX[1:B], distrY[1:B], alpha, prefix=prefix, dir=dir)\n",
    "    else\n",
    "        alpha_ = two_sided ? alpha : alpha / 2\n",
    "        save(averages, distrX[1:B], distrY[1:B], alpha_, pooled, two_sided, prefix=prefix, dir=dir)\n",
    "    end\n",
    "end\n",
    "\n",
    "function save_permutation_results(results, B, S; prefix=\"\", dir=\"./\")\n",
    "    i = 1\n",
    "    per_method = []\n",
    "    for two_sided in [true, false]\n",
    "        for pooled in [true, false]\n",
    "            save_ci_results(results, i, B, S, pooled, two_sided, prefix=prefix, dir=dir)\n",
    "            i += 1\n",
    "        end\n",
    "    end\n",
    "end"
   ]
  },
  {
   "cell_type": "code",
   "execution_count": 9,
   "id": "d683d848",
   "metadata": {},
   "outputs": [
    {
     "name": "stdout",
     "output_type": "stream",
     "text": [
      "3846.562758 seconds (3.33 G allocations: 78.381 TiB, 51.52% gc time, 0.16% compilation time)\n",
      "dir * filename = \"../results/8_9/1/twoSided_pooled_0.05.csv\"\n",
      "dir * filename = \"../results/8_9/1/twoSided_unpooled_0.05.csv\"\n",
      "dir * filename = \"../results/8_9/1/oneSided_pooled_0.025.csv\"\n",
      "dir * filename = \"../results/8_9/1/oneSided_unpooled_0.025.csv\"\n"
     ]
    }
   ],
   "source": [
    "T = Threads.nthreads()\n",
    "results = Array{Union{Tuple, Nothing}, 3}(nothing, 6, B, S)\n",
    "\n",
    "#@time Threads.@threads for (i,j) in collect(Iterators.product(1:B, 1:S)) # 15.52 sec on (B,S) = (5, 1800)\n",
    "@time @floop ThreadedEx(basesize=div(B*S, T)) for b in 1:B, s in 1:S\n",
    "    @inbounds x = X[:,s,b]\n",
    "    @inbounds y = Y[:,s,b]\n",
    " \n",
    "    results[1, b, s] = permInterval(x, y, deltas[b], perms, true, alpha, twoSided, twoSided, 0.0005)    \n",
    "    results[2, b, s] = permInterval(x, y, deltas[b], perms, false, alpha, twoSided, twoSided, 0.0005)\n",
    "    results[3, b, s] = permInterval(x, y, deltas[b], perms, true, alpha/2, greater, smaller, 0.0005)\n",
    "    results[4, b, s] = permInterval(x, y, deltas[b], perms, false, alpha/2, greater, smaller, 0.0005)\n",
    "    \n",
    "    \"\"\"\n",
    "    results[5, b, s] = bootstrap(x, y, deltas[b], alpha, nsamples=10_000)\n",
    "    results[6, b, s] = tconf(x, y, deltas[b], alpha, false)\n",
    "    \"\"\"\n",
    "end\n",
    "\n",
    "dir = \"../results/\" * string(nx) * \"_\" * string(ny) * \"/1/\"\n",
    "save_permutation_results(results, B, S; dir=dir)\n",
    "#save_ci_results(results, 6, B, S; prefix=\"bs\", dir=dir)"
   ]
  },
  {
   "cell_type": "code",
   "execution_count": null,
   "id": "ae2678ea",
   "metadata": {},
   "outputs": [],
   "source": []
  }
 ],
 "metadata": {
  "kernelspec": {
   "display_name": "Julia_112 1.7.1",
   "language": "julia",
   "name": "julia_112-1.7"
  },
  "language_info": {
   "file_extension": ".jl",
   "mimetype": "application/julia",
   "name": "julia",
   "version": "1.7.1"
  }
 },
 "nbformat": 4,
 "nbformat_minor": 5
}
