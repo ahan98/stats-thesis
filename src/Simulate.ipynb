{
 "cells": [
  {
   "cell_type": "code",
   "execution_count": 31,
   "id": "d83161ad",
   "metadata": {},
   "outputs": [
    {
     "data": {
      "text/plain": [
       "generateData (generic function with 3 methods)"
      ]
     },
     "execution_count": 31,
     "metadata": {},
     "output_type": "execute_result"
    }
   ],
   "source": [
    "using Random\n",
    "using Distributions\n",
    "\n",
    "include(\"simulate.jl\")\n",
    "include(\"data.jl\")"
   ]
  },
  {
   "cell_type": "code",
   "execution_count": 32,
   "id": "6c66990c",
   "metadata": {},
   "outputs": [
    {
     "data": {
      "text/plain": [
       "([-0.15190965; -1.0040932; … ; 0.604547; 2.1360075;;;], [1.1227064; 2.9508371; … ; 3.2373917; 2.3966696;;;], Float32[-2.0], Normal{Float32}[Normal{Float32}(μ=0.5212f0, σ=1.0424f0)], Normal{Float32}[Normal{Float32}(μ=2.5212f0, σ=1.0424f0)])"
      ]
     },
     "execution_count": 32,
     "metadata": {},
     "output_type": "execute_result"
    }
   ],
   "source": [
    "\"\"\"\n",
    "DATA CONFIG\n",
    "\"\"\"\n",
    "alpha = 0.05\n",
    "\n",
    "# data\n",
    "B  = 1    # num. coverage probabilities per boxplot\n",
    "S  = 1   # num. samples per coverage probability\n",
    "nx = 8      # size of group 1\n",
    "ny = 8     # size of group 2\n",
    "dtype = Float32\n",
    "seed = 123\n",
    "\n",
    "\"\"\"\n",
    "POPULATION SETTINGS\n",
    "\"\"\"\n",
    "\n",
    "Random.seed!(seed)\n",
    "distrTypeX = Normal{dtype}\n",
    "muX = dtype.(round.(rand(Uniform(0, 1), B), digits=4))\n",
    "sdX = 2 * muX\n",
    "paramsX = (muX, sdX)\n",
    "\n",
    "distrTypeY = Normal{dtype}\n",
    "paramsY = (2 .+ muX, sdX)\n",
    "\n",
    "x, y, deltas, distrX, distrY = generateData(B, S, nx, ny,\n",
    "                                            distrTypeX, paramsX, distrTypeY, paramsY,\n",
    "                                            dtype, seed)"
   ]
  },
  {
   "cell_type": "code",
   "execution_count": 33,
   "id": "23e128c0",
   "metadata": {},
   "outputs": [
    {
     "name": "stdout",
     "output_type": "stream",
     "text": [
      "results = Any[(1.0, 1.7461473309877178)]\n",
      "results = Any[(1.0, 1.7393206767372076)]\n",
      "results = Any[(1.0, 2.1040461779802953)]\n",
      "results = Any[(1.0, 2.0337632940349675)]\n"
     ]
    }
   ],
   "source": [
    "include(\"simulate.jl\")\n",
    "\n",
    "\n",
    "mc_size = try\n",
    "    (binomial(nx+ny, nx) > 45_000) ? 10_000 : 0\n",
    "catch\n",
    "    0\n",
    "end\n",
    "\n",
    "simulate_perm(x, y, deltas, distrX, distrY,\n",
    "              alpha=alpha, mc_size=mc_size, save_csv=true)"
   ]
  },
  {
   "cell_type": "code",
   "execution_count": 28,
   "id": "6ac34b0b",
   "metadata": {},
   "outputs": [
    {
     "name": "stdout",
     "output_type": "stream",
     "text": [
      "results = Any[(1.0, 4.3203465133870775)]\n",
      "results = Any[(1.0, 4.384213209152222)]\n"
     ]
    }
   ],
   "source": [
    "simulate_bootstrap(x, y, deltas, distrX, distrY,\n",
    "                   alpha=alpha, nsamples=10_000, save_csv=false)"
   ]
  },
  {
   "cell_type": "code",
   "execution_count": 27,
   "id": "77299c2c",
   "metadata": {},
   "outputs": [
    {
     "name": "stdout",
     "output_type": "stream",
     "text": [
      "results = Any[(1.0, 4.715934144871943)]\n",
      "results = Any[(1.0, 4.881538143765756)]\n"
     ]
    }
   ],
   "source": [
    "include(\"simulate.jl\")\n",
    "\n",
    "simulate_t(x, y, deltas, distrX, distrY,\n",
    "           alpha=alpha, save_csv=false)"
   ]
  }
 ],
 "metadata": {
  "kernelspec": {
   "display_name": "Julia 1.7.1",
   "language": "julia",
   "name": "julia-1.7"
  },
  "language_info": {
   "file_extension": ".jl",
   "mimetype": "application/julia",
   "name": "julia",
   "version": "1.7.1"
  }
 },
 "nbformat": 4,
 "nbformat_minor": 5
}
