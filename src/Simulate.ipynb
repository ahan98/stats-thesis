{
 "cells": [
  {
   "cell_type": "code",
   "execution_count": 1,
   "id": "62f03c83",
   "metadata": {},
   "outputs": [
    {
     "data": {
      "text/plain": [
       "112"
      ]
     },
     "execution_count": 1,
     "metadata": {},
     "output_type": "execute_result"
    }
   ],
   "source": [
    "using Random\n",
    "using Distributions\n",
    "using FLoops\n",
    "using Base.Threads\n",
    "\n",
    "include(\"data.jl\")\n",
    "include(\"util.jl\")\n",
    "\n",
    "include(\"intervals/permutation.jl\")\n",
    "include(\"intervals/bootstrap.jl\")\n",
    "include(\"intervals/t.jl\")\n",
    "\n",
    "Threads.nthreads()"
   ]
  },
  {
   "cell_type": "code",
   "execution_count": 2,
   "id": "d4126030",
   "metadata": {},
   "outputs": [
    {
     "name": "stdout",
     "output_type": "stream",
     "text": [
      "distrX[1:2] = LogNormal{Float32}[LogNormal{Float32}(μ=0.906f0, σ=0.572f0), LogNormal{Float32}(μ=0.443f0, σ=0.508f0)]\n",
      "distrY[1:2] = Gamma{Float32}[Gamma{Float32}(α=2.5836008f0, θ=1.1279569f0), Gamma{Float32}(α=3.3964891f0, θ=0.5216751f0)]\n",
      "deltas[1:2] = Float32[0.0, 0.0]\n"
     ]
    }
   ],
   "source": [
    "\"\"\"\n",
    "DATA CONFIG\n",
    "\"\"\"\n",
    "alpha = 0.05\n",
    "\n",
    "# data\n",
    "B  = 100    # num. coverage probabilities per boxplot\n",
    "S  = 1825   # num. samples per coverage probability\n",
    "nx = 15      # size of group 1\n",
    "ny = 8     # size of group 2\n",
    "px, py = partition(nx, ny)\n",
    "mc_size = try\n",
    "    (binomial(nx+ny, nx) > 45_000) ? 10_000 : 0\n",
    "catch\n",
    "    0\n",
    "end\n",
    "\n",
    "# ALWAYS USE EXACT ENUMERATION FOR NOW\n",
    "# mc_size = 0\n",
    "\n",
    "dtype = Float32\n",
    "seed = 123\n",
    "\n",
    "\"\"\"\n",
    "POPULATION SETTINGS\n",
    "\"\"\"\n",
    "\n",
    "Random.seed!(seed)\n",
    "\n",
    "distrTypeX = LogNormal{dtype}\n",
    "X_mu = dtype.(round.(rand(B), digits=3))\n",
    "X_sigma = dtype.(round.(rand(B) * 0.6, digits=3))\n",
    "distrX = map(distrTypeX, X_mu, X_sigma)\n",
    "\n",
    "distrTypeY = Gamma{dtype}\n",
    "Y_shape = @. 1 / (exp(X_sigma^2) - 1)\n",
    "Y_scale = @. exp(X_mu + X_sigma^2 / 2) / Y_shape\n",
    "distrY = map(distrTypeY, Y_shape, Y_scale)\n",
    "\n",
    "deltas = @. mean(distrX) - mean(distrY)\n",
    "\n",
    "@show distrX[1:2]\n",
    "@show distrY[1:2]\n",
    "@show deltas[1:2];"
   ]
  },
  {
   "cell_type": "code",
   "execution_count": 3,
   "id": "18467fd7",
   "metadata": {},
   "outputs": [
    {
     "name": "stdout",
     "output_type": "stream",
     "text": [
      "size(ys) = (100,)\n"
     ]
    },
    {
     "data": {
      "text/plain": [
       "8×1825 Matrix{Float32}:\n",
       " 1.27223  3.1798    1.81246   1.97748  …  2.14475   2.82104   2.4803\n",
       " 1.36035  2.76708   3.31021   2.70327     1.28937   2.40363   0.621126\n",
       " 3.00014  1.00329   1.80747   1.65209     0.282144  1.76671   0.52518\n",
       " 2.22925  1.62867   1.91258   1.57929     2.38521   1.03268   1.17764\n",
       " 1.19952  1.5436    2.80614   1.11051     1.52318   1.11725   1.24181\n",
       " 1.78589  1.78796   0.623522  1.52808  …  1.53321   0.975532  1.13855\n",
       " 2.44329  0.426206  0.595918  2.11458     2.22236   2.90708   3.30418\n",
       " 1.03847  1.19621   1.79049   1.96801     3.51545   0.547925  1.07951"
      ]
     },
     "execution_count": 3,
     "metadata": {},
     "output_type": "execute_result"
    }
   ],
   "source": [
    "Random.seed!(123)\n",
    "xs = [dtype.(rand(distrX[i], nx, S)) for i in 1:B]\n",
    "ys = [dtype.(rand(distrY[i], ny, S)) for i in 1:B]\n",
    "@show size(ys)\n",
    "ys[2]"
   ]
  },
  {
   "cell_type": "code",
   "execution_count": 4,
   "id": "cf022619",
   "metadata": {},
   "outputs": [
    {
     "data": {
      "text/plain": [
       "8×1825 Matrix{Float32}:\n",
       " 1.27223  3.1798    1.81246   1.97748  …  2.14475   2.82104   2.4803\n",
       " 1.36035  2.76708   3.31021   2.70327     1.28937   2.40363   0.621126\n",
       " 3.00014  1.00329   1.80747   1.65209     0.282144  1.76671   0.52518\n",
       " 2.22925  1.62867   1.91258   1.57929     2.38521   1.03268   1.17764\n",
       " 1.19952  1.5436    2.80614   1.11051     1.52318   1.11725   1.24181\n",
       " 1.78589  1.78796   0.623522  1.52808  …  1.53321   0.975532  1.13855\n",
       " 2.44329  0.426206  0.595918  2.11458     2.22236   2.90708   3.30418\n",
       " 1.03847  1.19621   1.79049   1.96801     3.51545   0.547925  1.07951"
      ]
     },
     "execution_count": 4,
     "metadata": {},
     "output_type": "execute_result"
    }
   ],
   "source": [
    "# flatten into 3D matrix\n",
    "X = reshape(hcat(xs...), nx, S, B)\n",
    "Y = reshape(hcat(ys...), ny, S, B)\n",
    "Y[:,:,2]"
   ]
  },
  {
   "cell_type": "code",
   "execution_count": 5,
   "id": "ffb59401",
   "metadata": {},
   "outputs": [
    {
     "data": {
      "text/plain": [
       "save_permutation_results (generic function with 1 method)"
      ]
     },
     "execution_count": 5,
     "metadata": {},
     "output_type": "execute_result"
    }
   ],
   "source": [
    "function save_ci_results(results, methodId, B, S, pooled=nothing, two_sided=nothing; prefix=\"\", dir=\"./\")\n",
    "    averages = []\n",
    "    \n",
    "    for batchId in 1:B\n",
    "        batch = results[methodId, batchId, :]\n",
    "        coverage = sum([j for (j, _) in batch]) / S\n",
    "        width = sum([j for (_, j) in batch]) / S\n",
    "        push!(averages, (coverage, width))\n",
    "    end\n",
    "\n",
    "    if isnothing(two_sided)\n",
    "        save(averages, distrX[1:B], distrY[1:B], alpha, prefix=prefix, dir=dir)\n",
    "    else\n",
    "        alpha_ = two_sided ? alpha : alpha / 2\n",
    "        save(averages, distrX[1:B], distrY[1:B], alpha_, pooled, two_sided, prefix=prefix, dir=dir)\n",
    "    end\n",
    "end\n",
    "\n",
    "function save_permutation_results(results, B, S; prefix=\"\", dir=\"./\")\n",
    "    i = 1\n",
    "    per_method = []\n",
    "    for two_sided in [true, false]\n",
    "        for pooled in [true, false]\n",
    "            save_ci_results(results, i, B, S, pooled, two_sided, prefix=prefix, dir=dir)\n",
    "            i += 1\n",
    "        end\n",
    "    end\n",
    "end"
   ]
  },
  {
   "cell_type": "code",
   "execution_count": 6,
   "id": "ae7c31aa",
   "metadata": {},
   "outputs": [
    {
     "name": "stdout",
     "output_type": "stream",
     "text": [
      "2318.702673 seconds (3.84 G allocations: 408.328 GiB, 92.89% gc time, 0.22% compilation time)\n",
      "dir * filename = \"../results/15_8/2/bs_0.05.csv\"\n"
     ]
    },
    {
     "data": {
      "text/plain": [
       "\"../results/15_8/2/bs_0.05.csv\""
      ]
     },
     "execution_count": 6,
     "metadata": {},
     "output_type": "execute_result"
    }
   ],
   "source": [
    "B = 100\n",
    "S = 1825\n",
    "\n",
    "T = Threads.nthreads()\n",
    "results = Array{Union{Nothing, Tuple}, 3}(undef, 6, B, S)\n",
    "fill!(results, nothing)\n",
    "mc_size = 0\n",
    "\n",
    "#@time Threads.@threads for (i,j) in collect(Iterators.product(1:B, 1:S)) # 15.52 sec on (B,S) = (5, 1800)\n",
    "@time @floop ThreadedEx(basesize=div(B*S, T)) for b in 1:B, s in 1:S\n",
    "    @inbounds x = X[:,s,b]\n",
    "    @inbounds y = Y[:,s,b]\n",
    "\n",
    "    \"\"\" \n",
    "    results[1, b, s] = permInterval(x, y, deltas[b], (px, py, mc_size), true, alpha, twoSided, twoSided)    \n",
    "    results[2, b, s] = permInterval(x, y, deltas[b], (px, py, mc_size), false, alpha, twoSided, twoSided)\n",
    "    results[3, b, s] = permInterval(x, y, deltas[b], (px, py, mc_size), true, alpha/2, greater, smaller, 0.0005)\n",
    "    results[4, b, s] = permInterval(x, y, deltas[b], (px, py, mc_size), false, alpha/2, greater, smaller, 0.0005)\n",
    "    \"\"\"\n",
    "    \n",
    "    results[5, b, s] = bootstrap(x, y, deltas[b], alpha, nsamples=10_000)\n",
    "    \"\"\"\n",
    "    results[6, b, s] = tconf(x, y, deltas[b], alpha, false)\n",
    "    \"\"\"\n",
    "end\n",
    "\n",
    "dir = \"../results/\" * string(nx) * \"_\" * string(ny) * \"/2/\"\n",
    "save_ci_results(results, 5, B, S, true; prefix=\"bs\", dir=dir)\n",
    "#save_permutation_results(results, B, S; dir=dir)"
   ]
  },
  {
   "cell_type": "code",
   "execution_count": 76,
   "id": "5e526f94",
   "metadata": {},
   "outputs": [
    {
     "data": {
      "text/plain": [
       "5-element Vector{Any}:\n",
       " (0.9041095890410958, 1.7169137288119696)\n",
       " (0.8964383561643836, 1.5188572278067674)\n",
       " (0.9057534246575343, 1.0491979467480967)\n",
       " (0.8997260273972603, 0.21909246020121118)\n",
       " (0.9145205479452054, 0.2478563258378473)"
      ]
     },
     "execution_count": 76,
     "metadata": {},
     "output_type": "execute_result"
    }
   ],
   "source": [
    "averages = []\n",
    "for row in eachrow(results[5,:,:])\n",
    "    coverage = sum([j for (j, _) in row]) / S\n",
    "    width = sum([j for (_, j) in row]) / S\n",
    "    push!(averages, (coverage, width))\n",
    "end\n",
    "averages"
   ]
  },
  {
   "cell_type": "markdown",
   "id": "1d86ebe3",
   "metadata": {},
   "source": [
    "---"
   ]
  },
  {
   "cell_type": "code",
   "execution_count": 70,
   "id": "708a2b78",
   "metadata": {},
   "outputs": [
    {
     "name": "stdout",
     "output_type": "stream",
     "text": [
      "  0.292847 seconds (510.31 k allocations: 55.944 MiB, 93.62% compilation time)\n"
     ]
    },
    {
     "data": {
      "text/plain": [
       "0.05034965f0"
      ]
     },
     "execution_count": 70,
     "metadata": {},
     "output_type": "execute_result"
    }
   ],
   "source": [
    "x = X[:,1,1]\n",
    "y = Y[:,1,1]\n",
    "@time permInterval(x, y, deltas[1], (px, py, 0), true, alpha, twoSided, twoSided)\n",
    "\n",
    "permInterval(x, y, deltas[1], (px, py, 0), true, alpha/2, greater, smaller)\n",
    "\n",
    "pval(x, y, 2.4218399175319254, (px, py, 0), true, twoSided)"
   ]
  }
 ],
 "metadata": {
  "kernelspec": {
   "display_name": "Julia_112 1.7.1",
   "language": "julia",
   "name": "julia_112-1.7"
  },
  "language_info": {
   "file_extension": ".jl",
   "mimetype": "application/julia",
   "name": "julia",
   "version": "1.7.1"
  }
 },
 "nbformat": 4,
 "nbformat_minor": 5
}
