{
 "cells": [
  {
   "cell_type": "code",
   "execution_count": 115,
   "id": "e74bb44e",
   "metadata": {},
   "outputs": [
    {
     "data": {
      "text/plain": [
       "112"
      ]
     },
     "execution_count": 115,
     "metadata": {},
     "output_type": "execute_result"
    }
   ],
   "source": [
    "using Random\n",
    "using Distributions\n",
    "using FLoops\n",
    "using Base.Threads\n",
    "\n",
    "include(\"data.jl\")\n",
    "include(\"util.jl\")\n",
    "\n",
    "include(\"intervals/permutation.jl\")\n",
    "include(\"intervals/bootstrap.jl\")\n",
    "include(\"intervals/t.jl\")\n",
    "\n",
    "Threads.nthreads()"
   ]
  },
  {
   "cell_type": "code",
   "execution_count": 116,
   "id": "492a8b81",
   "metadata": {},
   "outputs": [
    {
     "name": "stdout",
     "output_type": "stream",
     "text": [
      "distrX[1:2] = LogNormal{Float32}[LogNormal{Float32}(μ=0.906f0, σ=0.572f0), LogNormal{Float32}(μ=0.443f0, σ=0.508f0)]\n",
      "distrY[1:2] = Exponential{Float32}[Exponential{Float32}(θ=0.965f0), Exponential{Float32}(θ=0.071f0)]\n"
     ]
    }
   ],
   "source": [
    "\"\"\"\n",
    "DATA CONFIG\n",
    "\"\"\"\n",
    "alpha = 0.05\n",
    "\n",
    "# data\n",
    "B  = 100    # num. coverage probabilities per boxplot\n",
    "S  = 1825   # num. samples per coverage probability\n",
    "nx = 8      # size of group 1\n",
    "ny = 8     # size of group 2\n",
    "px, py = partition(nx, ny)\n",
    "mc_size = try\n",
    "    (binomial(nx+ny, nx) > 45_000) ? 10_000 : 0\n",
    "catch\n",
    "    0\n",
    "end\n",
    "\n",
    "dtype = Float32\n",
    "seed = 123\n",
    "\n",
    "\"\"\"\n",
    "POPULATION SETTINGS\n",
    "\"\"\"\n",
    "\n",
    "Random.seed!(seed)\n",
    "\n",
    "distrTypeX = LogNormal{dtype}\n",
    "X_mu = dtype.(round.(rand(B), digits=3))\n",
    "X_sigma = dtype.(round.(rand(B) * 0.6, digits=3))\n",
    "distrX = map(distrTypeX, X_mu, X_sigma)\n",
    "\n",
    "distrTypeY = Exponential{dtype}\n",
    "Y_inv_scale = dtype.(round.(rand(B), digits = 3))\n",
    "distrY = map(distrTypeY, Y_inv_scale)\n",
    "\n",
    "@show distrX[1:2]\n",
    "@show distrY[1:2]\n",
    "\n",
    "deltas = @. mean(distrX) - mean(distrY);"
   ]
  },
  {
   "cell_type": "code",
   "execution_count": 117,
   "id": "b94df613",
   "metadata": {},
   "outputs": [
    {
     "name": "stdout",
     "output_type": "stream",
     "text": [
      "size(ys) = (100,)\n"
     ]
    },
    {
     "data": {
      "text/plain": [
       "8×1800 Matrix{Float32}:\n",
       " 0.133637    0.0162722   0.0698903  0.0643012   …  0.0285788    0.12464\n",
       " 0.120016    0.0285583   0.0353553  0.0638659      0.109599     0.00707607\n",
       " 0.00606461  0.136366    0.0799037  0.128313       0.0400807    0.0653869\n",
       " 0.0377555   0.0749071   0.0802353  0.177147       0.0514611    0.117508\n",
       " 0.0178158   0.0233403   0.119965   0.0830359      0.144351     0.0954628\n",
       " 0.0790322   0.152405    0.191122   0.0151772   …  0.000609229  0.0924027\n",
       " 0.0465132   0.032767    0.100552   0.129687       0.00699415   0.0157552\n",
       " 0.107458    0.00534581  0.0410884  0.00296156     0.0154778    0.198447"
      ]
     },
     "execution_count": 117,
     "metadata": {},
     "output_type": "execute_result"
    }
   ],
   "source": [
    "Random.seed!(123)\n",
    "xs = [dtype.(rand(distrX[i], nx, S)) for i in 1:B]\n",
    "ys = [dtype.(rand(distrY[i], ny, S)) for i in 1:B]\n",
    "@show size(ys)\n",
    "ys[2]"
   ]
  },
  {
   "cell_type": "code",
   "execution_count": 118,
   "id": "0921bbf3",
   "metadata": {},
   "outputs": [
    {
     "data": {
      "text/plain": [
       "8×1800 Matrix{Float32}:\n",
       " 0.133637    0.0162722   0.0698903  0.0643012   …  0.0285788    0.12464\n",
       " 0.120016    0.0285583   0.0353553  0.0638659      0.109599     0.00707607\n",
       " 0.00606461  0.136366    0.0799037  0.128313       0.0400807    0.0653869\n",
       " 0.0377555   0.0749071   0.0802353  0.177147       0.0514611    0.117508\n",
       " 0.0178158   0.0233403   0.119965   0.0830359      0.144351     0.0954628\n",
       " 0.0790322   0.152405    0.191122   0.0151772   …  0.000609229  0.0924027\n",
       " 0.0465132   0.032767    0.100552   0.129687       0.00699415   0.0157552\n",
       " 0.107458    0.00534581  0.0410884  0.00296156     0.0154778    0.198447"
      ]
     },
     "execution_count": 118,
     "metadata": {},
     "output_type": "execute_result"
    }
   ],
   "source": [
    "# flatten into 3D matrix\n",
    "X = reshape(hcat(xs...), nx, S, B)\n",
    "Y = reshape(hcat(ys...), ny, S, B)\n",
    "Y[:,:,2]"
   ]
  },
  {
   "cell_type": "code",
   "execution_count": 119,
   "id": "902998c5",
   "metadata": {},
   "outputs": [
    {
     "data": {
      "text/plain": [
       "save_permutation_results (generic function with 2 methods)"
      ]
     },
     "execution_count": 119,
     "metadata": {},
     "output_type": "execute_result"
    }
   ],
   "source": [
    "function save_permutation_results(results, B, S, dir=\"./\")\n",
    "    i = 1\n",
    "    per_method = []\n",
    "    for is_two_sided in [true, false]\n",
    "        for pooled in [true, false]\n",
    "            averages = []\n",
    "\n",
    "            for row in eachrow(results[i,:,:])\n",
    "                coverage = sum([j for (j, _) in row]) / S\n",
    "                width = sum([j for (_, j) in row]) / S\n",
    "                push!(averages, (coverage, width))\n",
    "            end\n",
    "\n",
    "            alpha_ = is_two_sided ? alpha : alpha / 2\n",
    "            save(averages, distrX[1:B], distrY[1:B], alpha_, pooled, is_two_sided, parent_dir=dir)\n",
    "            i += 1\n",
    "        end\n",
    "    end\n",
    "end"
   ]
  },
  {
   "cell_type": "code",
   "execution_count": 120,
   "id": "17f56232",
   "metadata": {},
   "outputs": [
    {
     "name": "stdout",
     "output_type": "stream",
     "text": [
      "2464.410118 seconds (1.35 G allocations: 14.896 TiB, 70.52% gc time, 0.02% compilation time)\n"
     ]
    }
   ],
   "source": [
    "B = 100\n",
    "S = 1825\n",
    "\n",
    "T = Threads.nthreads()\n",
    "results = Array{Union{Nothing, Tuple}, 3}(undef, 6, B, S)\n",
    "fill!(results, nothing)\n",
    "\n",
    "#@time Threads.@threads for (i,j) in collect(Iterators.product(1:B, 1:S)) # 15.52 sec on (B,S) = (5, 1800)\n",
    "@time @floop ThreadedEx(basesize=div(B*S, T)) for b in 1:B, s in 1:S\n",
    "    @inbounds x = X[:,s,b]\n",
    "    @inbounds y = Y[:,s,b]\n",
    "\n",
    "    results[1, b, s] = permInterval(x, y, deltas[b], (px, py, mc_size), true, alpha, twoSided, twoSided)    \n",
    "    results[2, b, s] = permInterval(x, y, deltas[b], (px, py, mc_size), false, alpha, twoSided, twoSided)\n",
    "    results[3, b, s] = permInterval(x, y, deltas[b], (px, py, mc_size), true, alpha/2, greater, smaller, 0.0005)\n",
    "    results[4, b, s] = permInterval(x, y, deltas[b], (px, py, mc_size), false, alpha/2, greater, smaller, 0.0005)\n",
    "    \n",
    "    \"\"\"\n",
    "    lo, hi = bootstrap(x, y, 0.05, false, 10_000)\n",
    "    coverages[5] += (lo <= delta <= hi)\n",
    "\n",
    "    lo, hi = tconf(x, y, 0.05, false)\n",
    "    coverages[6] += (lo <= delta <= hi)\n",
    "    \"\"\"\n",
    "end\n",
    "\n",
    "save_permutation_results(results, B, S)"
   ]
  },
  {
   "cell_type": "markdown",
   "id": "63b699c7",
   "metadata": {},
   "source": [
    "---"
   ]
  },
  {
   "cell_type": "code",
   "execution_count": 28,
   "id": "daa53ab7",
   "metadata": {},
   "outputs": [
    {
     "data": {
      "text/plain": [
       "5-element Vector{Any}:\n",
       " (0.95, 3.1827745949945476)\n",
       " (0.92, 1.6322506846556246)\n",
       " (0.85, 1.3739451044574138)\n",
       " (0.93, 0.21217739206443034)\n",
       " (0.9, 0.18690359039665994)"
      ]
     },
     "execution_count": 28,
     "metadata": {},
     "output_type": "execute_result"
    }
   ],
   "source": [
    "averages = []\n",
    "for row in eachrow(results[1,:,:])\n",
    "    coverage = sum([j for (j, _) in row]) / S\n",
    "    width = sum([j for (_, j) in row]) / S\n",
    "    push!(averages, (coverage, width))\n",
    "end\n",
    "averages"
   ]
  },
  {
   "cell_type": "code",
   "execution_count": 70,
   "id": "71691f3e",
   "metadata": {},
   "outputs": [
    {
     "name": "stdout",
     "output_type": "stream",
     "text": [
      "  0.292847 seconds (510.31 k allocations: 55.944 MiB, 93.62% compilation time)\n"
     ]
    },
    {
     "data": {
      "text/plain": [
       "0.05034965f0"
      ]
     },
     "execution_count": 70,
     "metadata": {},
     "output_type": "execute_result"
    }
   ],
   "source": [
    "x = X[:,1,1]\n",
    "y = Y[:,1,1]\n",
    "@time permInterval(x, y, deltas[1], (px, py, 0), true, alpha, twoSided, twoSided)\n",
    "\n",
    "permInterval(x, y, deltas[1], (px, py, 0), true, alpha/2, greater, smaller)\n",
    "\n",
    "pval(x, y, 2.4218399175319254, (px, py, 0), true, twoSided)"
   ]
  }
 ],
 "metadata": {
  "kernelspec": {
   "display_name": "Julia_112 1.7.1",
   "language": "julia",
   "name": "julia_112-1.7"
  },
  "language_info": {
   "file_extension": ".jl",
   "mimetype": "application/julia",
   "name": "julia",
   "version": "1.7.1"
  }
 },
 "nbformat": 4,
 "nbformat_minor": 5
}
