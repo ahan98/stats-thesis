{
 "cells": [
  {
   "cell_type": "code",
   "execution_count": 1,
   "id": "3d4a5b92",
   "metadata": {},
   "outputs": [
    {
     "data": {
      "text/plain": [
       "112"
      ]
     },
     "execution_count": 1,
     "metadata": {},
     "output_type": "execute_result"
    }
   ],
   "source": [
    "using Random\n",
    "using Distributions\n",
    "using FLoops\n",
    "using Base.Threads\n",
    "\n",
    "include(\"data.jl\")\n",
    "include(\"util.jl\")\n",
    "\n",
    "include(\"intervals/permutation.jl\")\n",
    "include(\"intervals/bootstrap.jl\")\n",
    "include(\"intervals/t.jl\")\n",
    "\n",
    "Threads.nthreads()"
   ]
  },
  {
   "cell_type": "code",
   "execution_count": 5,
   "id": "17f70602",
   "metadata": {},
   "outputs": [
    {
     "data": {
      "text/plain": [
       "10-element Vector{Float64}:\n",
       " 5.305727856440202\n",
       " 1.3165361783826628\n",
       " 4.658085973094793\n",
       " 8.621722650262056\n",
       " 7.762316680662818\n",
       " 6.259344789631702\n",
       " 3.3868211484445165\n",
       " 2.6661536809118376\n",
       " 4.4440444127712535\n",
       " 3.696200463087836"
      ]
     },
     "execution_count": 5,
     "metadata": {},
     "output_type": "execute_result"
    }
   ],
   "source": [
    "rand(Uniform(1, 10), 10)"
   ]
  },
  {
   "cell_type": "code",
   "execution_count": 13,
   "id": "eacfef9a",
   "metadata": {},
   "outputs": [
    {
     "name": "stdout",
     "output_type": "stream",
     "text": [
      "distrX[1:2] = Normal{Float32}[Normal{Float32}(μ=0.906f0, σ=0.954f0), Normal{Float32}(μ=0.443f0, σ=0.846f0)]\n",
      "distrY[1:2] = Normal{Float32}[Normal{Float32}(μ=0.906f0, σ=4.669853f0), Normal{Float32}(μ=0.443f0, σ=1.8714627f0)]\n"
     ]
    }
   ],
   "source": [
    "\"\"\"\n",
    "DATA CONFIG\n",
    "\"\"\"\n",
    "alpha = 0.05\n",
    "\n",
    "# data\n",
    "B  = 100    # num. coverage probabilities per boxplot\n",
    "S  = 1825   # num. samples per coverage probability\n",
    "nx = 8      # size of group 1\n",
    "ny = 8     # size of group 2\n",
    "px, py = partition(nx, ny)\n",
    "mc_size = try\n",
    "    (binomial(nx+ny, nx) > 45_000) ? 10_000 : 0\n",
    "catch\n",
    "    0\n",
    "end\n",
    "\n",
    "dtype = Float32\n",
    "seed = 123\n",
    "\n",
    "\"\"\"\n",
    "POPULATION SETTINGS\n",
    "\"\"\"\n",
    "\n",
    "Random.seed!(seed)\n",
    "\n",
    "distrTypeX = Normal{dtype}\n",
    "X_mu = dtype.(round.(rand(B), digits=3))\n",
    "X_sigma = dtype.(round.(rand(B), digits=3))\n",
    "distrX = map(distrTypeX, X_mu, X_sigma)\n",
    "\n",
    "distrTypeY = Normal{dtype}\n",
    "Y_mu = X_mu\n",
    "Y_sigma = dtype.(rand(Uniform(2, 5), B)) .* X_sigma\n",
    "distrY = map(distrTypeY, Y_mu, Y_sigma)\n",
    "\n",
    "@show distrX[1:2]\n",
    "@show distrY[1:2]\n",
    "\n",
    "deltas = @. mean(distrX) - mean(distrY);"
   ]
  },
  {
   "cell_type": "code",
   "execution_count": 14,
   "id": "369f440a",
   "metadata": {},
   "outputs": [
    {
     "name": "stdout",
     "output_type": "stream",
     "text": [
      "size(ys) = (100,)\n"
     ]
    },
    {
     "data": {
      "text/plain": [
       "8×1825 Matrix{Float32}:\n",
       " -0.266106   2.24199    1.77805   …  -0.385481   4.77009    1.13052\n",
       "  4.11802   -0.706996  -0.356081      0.552066  -3.59045    2.4257\n",
       "  2.31829    0.593428   3.14608       0.647509  -0.220311  -0.197421\n",
       "  1.41488    0.505523  -3.47063      -0.983018   0.387133   0.226448\n",
       "  0.625931   2.78857   -0.100655      1.7088     1.82707    0.225094\n",
       "  0.121556   1.45671    1.07035   …  -0.900813  -0.620921   0.513558\n",
       "  0.03956   -0.706514  -1.22506       1.02886    1.55326   -0.71521\n",
       " -0.833561   0.554825   2.14267      -2.36663    0.849666  -0.162708"
      ]
     },
     "execution_count": 14,
     "metadata": {},
     "output_type": "execute_result"
    }
   ],
   "source": [
    "Random.seed!(123)\n",
    "xs = [dtype.(rand(distrX[i], nx, S)) for i in 1:B]\n",
    "ys = [dtype.(rand(distrY[i], ny, S)) for i in 1:B]\n",
    "@show size(ys)\n",
    "ys[2]"
   ]
  },
  {
   "cell_type": "code",
   "execution_count": 15,
   "id": "c777288b",
   "metadata": {},
   "outputs": [
    {
     "data": {
      "text/plain": [
       "8×1825 Matrix{Float32}:\n",
       " -0.266106   2.24199    1.77805   …  -0.385481   4.77009    1.13052\n",
       "  4.11802   -0.706996  -0.356081      0.552066  -3.59045    2.4257\n",
       "  2.31829    0.593428   3.14608       0.647509  -0.220311  -0.197421\n",
       "  1.41488    0.505523  -3.47063      -0.983018   0.387133   0.226448\n",
       "  0.625931   2.78857   -0.100655      1.7088     1.82707    0.225094\n",
       "  0.121556   1.45671    1.07035   …  -0.900813  -0.620921   0.513558\n",
       "  0.03956   -0.706514  -1.22506       1.02886    1.55326   -0.71521\n",
       " -0.833561   0.554825   2.14267      -2.36663    0.849666  -0.162708"
      ]
     },
     "execution_count": 15,
     "metadata": {},
     "output_type": "execute_result"
    }
   ],
   "source": [
    "# flatten into 3D matrix\n",
    "X = reshape(hcat(xs...), nx, S, B)\n",
    "Y = reshape(hcat(ys...), ny, S, B)\n",
    "Y[:,:,2]"
   ]
  },
  {
   "cell_type": "code",
   "execution_count": 16,
   "id": "95e35da5",
   "metadata": {},
   "outputs": [
    {
     "data": {
      "text/plain": [
       "save_permutation_results (generic function with 2 methods)"
      ]
     },
     "execution_count": 16,
     "metadata": {},
     "output_type": "execute_result"
    }
   ],
   "source": [
    "function save_permutation_results(results, B, S, dir=\"./\")\n",
    "    i = 1\n",
    "    per_method = []\n",
    "    for is_two_sided in [true, false]\n",
    "        for pooled in [true, false]\n",
    "            averages = []\n",
    "\n",
    "            for row in eachrow(results[i,:,:])\n",
    "                coverage = sum([j for (j, _) in row]) / S\n",
    "                width = sum([j for (_, j) in row]) / S\n",
    "                push!(averages, (coverage, width))\n",
    "            end\n",
    "\n",
    "            alpha_ = is_two_sided ? alpha : alpha / 2\n",
    "            save(averages, distrX[1:B], distrY[1:B], alpha_, pooled, is_two_sided, parent_dir=dir)\n",
    "            i += 1\n",
    "        end\n",
    "    end\n",
    "end"
   ]
  },
  {
   "cell_type": "code",
   "execution_count": 18,
   "id": "bd16e9fd",
   "metadata": {},
   "outputs": [
    {
     "name": "stdout",
     "output_type": "stream",
     "text": [
      "2378.407456 seconds (1.37 G allocations: 15.048 TiB, 69.14% gc time, 0.68% compilation time)\n"
     ]
    }
   ],
   "source": [
    "B = 100\n",
    "S = 1825\n",
    "\n",
    "T = Threads.nthreads()\n",
    "results = Array{Union{Nothing, Tuple}, 3}(undef, 6, B, S)\n",
    "fill!(results, nothing)\n",
    "\n",
    "#@time Threads.@threads for (i,j) in collect(Iterators.product(1:B, 1:S)) # 15.52 sec on (B,S) = (5, 1800)\n",
    "@time @floop ThreadedEx(basesize=div(B*S, T)) for b in 1:B, s in 1:S\n",
    "    @inbounds x = X[:,s,b]\n",
    "    @inbounds y = Y[:,s,b]\n",
    "\n",
    "    results[1, b, s] = permInterval(x, y, deltas[b], (px, py, mc_size), true, alpha, twoSided, twoSided)    \n",
    "    results[2, b, s] = permInterval(x, y, deltas[b], (px, py, mc_size), false, alpha, twoSided, twoSided)\n",
    "    results[3, b, s] = permInterval(x, y, deltas[b], (px, py, mc_size), true, alpha/2, greater, smaller, 0.0005)\n",
    "    results[4, b, s] = permInterval(x, y, deltas[b], (px, py, mc_size), false, alpha/2, greater, smaller, 0.0005)\n",
    "    \n",
    "    \"\"\"\n",
    "    lo, hi = bootstrap(x, y, 0.05, false, 10_000)\n",
    "    coverages[5] += (lo <= delta <= hi)\n",
    "\n",
    "    lo, hi = tconf(x, y, 0.05, false)\n",
    "    coverages[6] += (lo <= delta <= hi)\n",
    "    \"\"\"\n",
    "end\n",
    "\n",
    "save_permutation_results(results, B, S, \"../results/permutation/4/\")"
   ]
  },
  {
   "cell_type": "markdown",
   "id": "535623b9",
   "metadata": {},
   "source": [
    "---"
   ]
  },
  {
   "cell_type": "code",
   "execution_count": 28,
   "id": "88199ec1",
   "metadata": {},
   "outputs": [
    {
     "data": {
      "text/plain": [
       "5-element Vector{Any}:\n",
       " (0.95, 3.1827745949945476)\n",
       " (0.92, 1.6322506846556246)\n",
       " (0.85, 1.3739451044574138)\n",
       " (0.93, 0.21217739206443034)\n",
       " (0.9, 0.18690359039665994)"
      ]
     },
     "execution_count": 28,
     "metadata": {},
     "output_type": "execute_result"
    }
   ],
   "source": [
    "averages = []\n",
    "for row in eachrow(results[1,:,:])\n",
    "    coverage = sum([j for (j, _) in row]) / S\n",
    "    width = sum([j for (_, j) in row]) / S\n",
    "    push!(averages, (coverage, width))\n",
    "end\n",
    "averages"
   ]
  },
  {
   "cell_type": "code",
   "execution_count": 70,
   "id": "f13f0798",
   "metadata": {},
   "outputs": [
    {
     "name": "stdout",
     "output_type": "stream",
     "text": [
      "  0.292847 seconds (510.31 k allocations: 55.944 MiB, 93.62% compilation time)\n"
     ]
    },
    {
     "data": {
      "text/plain": [
       "0.05034965f0"
      ]
     },
     "execution_count": 70,
     "metadata": {},
     "output_type": "execute_result"
    }
   ],
   "source": [
    "x = X[:,1,1]\n",
    "y = Y[:,1,1]\n",
    "@time permInterval(x, y, deltas[1], (px, py, 0), true, alpha, twoSided, twoSided)\n",
    "\n",
    "permInterval(x, y, deltas[1], (px, py, 0), true, alpha/2, greater, smaller)\n",
    "\n",
    "pval(x, y, 2.4218399175319254, (px, py, 0), true, twoSided)"
   ]
  }
 ],
 "metadata": {
  "kernelspec": {
   "display_name": "Julia_112 1.7.1",
   "language": "julia",
   "name": "julia_112-1.7"
  },
  "language_info": {
   "file_extension": ".jl",
   "mimetype": "application/julia",
   "name": "julia",
   "version": "1.7.1"
  }
 },
 "nbformat": 4,
 "nbformat_minor": 5
}
