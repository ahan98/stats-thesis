{
 "cells": [
  {
   "cell_type": "code",
   "execution_count": 1,
   "id": "c7c32b58",
   "metadata": {},
   "outputs": [
    {
     "data": {
      "text/plain": [
       "112"
      ]
     },
     "execution_count": 1,
     "metadata": {},
     "output_type": "execute_result"
    }
   ],
   "source": [
    "using Random\n",
    "using Distributions\n",
    "using FLoops\n",
    "using Base.Threads\n",
    "\n",
    "include(\"data.jl\")\n",
    "include(\"util.jl\")\n",
    "\n",
    "include(\"intervals/permutation.jl\")\n",
    "include(\"intervals/bootstrap.jl\")\n",
    "include(\"intervals/t.jl\")\n",
    "\n",
    "Threads.nthreads()"
   ]
  },
  {
   "cell_type": "code",
   "execution_count": 2,
   "id": "cf301c1d",
   "metadata": {},
   "outputs": [
    {
     "name": "stdout",
     "output_type": "stream",
     "text": [
      "distrX[1:2] = LogNormal{Float32}[LogNormal{Float32}(μ=0.906f0, σ=0.572f0), LogNormal{Float32}(μ=0.443f0, σ=0.508f0)]\n",
      "distrY[1:2] = Exponential{Float32}[Exponential{Float32}(θ=0.965f0), Exponential{Float32}(θ=0.071f0)]\n",
      "deltas[1:2] = Float32[1.9491904, 1.7008638]\n"
     ]
    }
   ],
   "source": [
    "\"\"\"\n",
    "DATA CONFIG\n",
    "\"\"\"\n",
    "alpha = 0.05\n",
    "\n",
    "# data\n",
    "B  = 100    # num. coverage probabilities per boxplot\n",
    "S  = 1825   # num. samples per coverage probability\n",
    "nx = 8      # size of group 1\n",
    "ny = 8     # size of group 2\n",
    "px, py = partition(nx, ny)\n",
    "mc_size = try\n",
    "    (binomial(nx+ny, nx) > 45_000) ? 10_000 : 0\n",
    "catch\n",
    "    0\n",
    "end\n",
    "\n",
    "dtype = Float32\n",
    "seed = 123\n",
    "\n",
    "\"\"\"\n",
    "POPULATION SETTINGS\n",
    "\"\"\"\n",
    "\n",
    "Random.seed!(seed)\n",
    "\n",
    "distrTypeX = LogNormal{dtype}\n",
    "X_mu = dtype.(round.(rand(B), digits=3))\n",
    "X_sigma = dtype.(round.(rand(B) * 0.6, digits=3))\n",
    "distrX = map(distrTypeX, X_mu, X_sigma)\n",
    "\n",
    "distrTypeY = Exponential{dtype}\n",
    "Y_inv_scale = dtype.(round.(rand(B), digits = 3))\n",
    "distrY = map(distrTypeY, Y_inv_scale)\n",
    "\n",
    "deltas = @. mean(distrX) - mean(distrY)\n",
    "\n",
    "@show distrX[1:2]\n",
    "@show distrY[1:2]\n",
    "@show deltas[1:2];"
   ]
  },
  {
   "cell_type": "code",
   "execution_count": 3,
   "id": "103d2b22",
   "metadata": {},
   "outputs": [
    {
     "name": "stdout",
     "output_type": "stream",
     "text": [
      "size(ys) = (100,)\n"
     ]
    },
    {
     "data": {
      "text/plain": [
       "8×1825 Matrix{Float32}:\n",
       " 0.0465622  0.0391918   0.00937071  …  0.0696844   0.0794947    0.0839996\n",
       " 0.0638254  0.00326854  0.00623603     0.00635873  0.044125     0.0819774\n",
       " 0.0517833  0.131853    0.0688361      0.0792817   0.0614382    0.0352203\n",
       " 0.0268165  0.00722365  0.100975       0.110455    0.0408731    0.188051\n",
       " 0.0287555  0.0313231   0.0717322      0.0308951   0.0611875    0.18126\n",
       " 0.0644453  0.0142121   0.115114    …  0.0797291   0.000873464  0.0244408\n",
       " 0.111636   0.0502828   0.0627707      0.0173685   0.048458     0.00157402\n",
       " 0.0995213  0.269118    0.0934827      0.00627715  0.0383707    0.0645604"
      ]
     },
     "execution_count": 3,
     "metadata": {},
     "output_type": "execute_result"
    }
   ],
   "source": [
    "Random.seed!(123)\n",
    "xs = [dtype.(rand(distrX[i], nx, S)) for i in 1:B]\n",
    "ys = [dtype.(rand(distrY[i], ny, S)) for i in 1:B]\n",
    "@show size(ys)\n",
    "ys[2]"
   ]
  },
  {
   "cell_type": "code",
   "execution_count": 4,
   "id": "bba97513",
   "metadata": {},
   "outputs": [
    {
     "data": {
      "text/plain": [
       "8×1825 Matrix{Float32}:\n",
       " 0.0465622  0.0391918   0.00937071  …  0.0696844   0.0794947    0.0839996\n",
       " 0.0638254  0.00326854  0.00623603     0.00635873  0.044125     0.0819774\n",
       " 0.0517833  0.131853    0.0688361      0.0792817   0.0614382    0.0352203\n",
       " 0.0268165  0.00722365  0.100975       0.110455    0.0408731    0.188051\n",
       " 0.0287555  0.0313231   0.0717322      0.0308951   0.0611875    0.18126\n",
       " 0.0644453  0.0142121   0.115114    …  0.0797291   0.000873464  0.0244408\n",
       " 0.111636   0.0502828   0.0627707      0.0173685   0.048458     0.00157402\n",
       " 0.0995213  0.269118    0.0934827      0.00627715  0.0383707    0.0645604"
      ]
     },
     "execution_count": 4,
     "metadata": {},
     "output_type": "execute_result"
    }
   ],
   "source": [
    "# flatten into 3D matrix\n",
    "X = reshape(hcat(xs...), nx, S, B)\n",
    "Y = reshape(hcat(ys...), ny, S, B)\n",
    "Y[:,:,2]"
   ]
  },
  {
   "cell_type": "code",
   "execution_count": 5,
   "id": "71f183dc",
   "metadata": {},
   "outputs": [
    {
     "data": {
      "text/plain": [
       "save_permutation_results (generic function with 1 method)"
      ]
     },
     "execution_count": 5,
     "metadata": {},
     "output_type": "execute_result"
    }
   ],
   "source": [
    "function save_ci_results(results, methodId, B, S, pooled=nothing, two_sided=nothing; prefix=\"\", dir=\"./\")\n",
    "    averages = []\n",
    "    \n",
    "    for batchId in 1:B\n",
    "        batch = results[methodId, batchId, :]\n",
    "        coverage = sum([j for (j, _) in batch]) / S\n",
    "        width = sum([j for (_, j) in batch]) / S\n",
    "        push!(averages, (coverage, width))\n",
    "    end\n",
    "\n",
    "    if isnothing(two_sided)\n",
    "        save(averages, distrX[1:B], distrY[1:B], alpha, prefix=prefix, dir=dir)\n",
    "    else\n",
    "        alpha_ = two_sided ? alpha : alpha / 2\n",
    "        save(averages, distrX[1:B], distrY[1:B], alpha_, pooled, two_sided, prefix=prefix, dir=dir)\n",
    "    end\n",
    "end\n",
    "\n",
    "function save_permutation_results(results, B, S; dir=\"./\")\n",
    "    i = 1\n",
    "    per_method = []\n",
    "    for two_sided in [true, false]\n",
    "        for pooled in [true, false]\n",
    "            save_ci_results(results, i, B, S, pooled, two_sided, prefix=prefix, dir=dir)\n",
    "            i += 1\n",
    "        end\n",
    "    end\n",
    "end"
   ]
  },
  {
   "cell_type": "code",
   "execution_count": 6,
   "id": "db9e99cf",
   "metadata": {},
   "outputs": [
    {
     "name": "stdout",
     "output_type": "stream",
     "text": [
      "2070.130331 seconds (3.84 G allocations: 353.889 GiB, 91.94% gc time, 0.11% compilation time)\n",
      "dir * filename = \"../results/bootstrap/3/bs_0.05.csv\"\n"
     ]
    },
    {
     "data": {
      "text/plain": [
       "\"../results/bootstrap/3/bs_0.05.csv\""
      ]
     },
     "execution_count": 6,
     "metadata": {},
     "output_type": "execute_result"
    }
   ],
   "source": [
    "B = 100\n",
    "S = 1825\n",
    "\n",
    "T = Threads.nthreads()\n",
    "results = Array{Union{Nothing, Tuple}, 3}(undef, 6, B, S)\n",
    "fill!(results, nothing)\n",
    "\n",
    "#@time Threads.@threads for (i,j) in collect(Iterators.product(1:B, 1:S)) # 15.52 sec on (B,S) = (5, 1800)\n",
    "@time @floop ThreadedEx(basesize=div(B*S, T)) for b in 1:B, s in 1:S\n",
    "    @inbounds x = X[:,s,b]\n",
    "    @inbounds y = Y[:,s,b]\n",
    "\n",
    "    \"\"\"\n",
    "    results[1, b, s] = permInterval(x, y, deltas[b], (px, py, mc_size), true, alpha, twoSided, twoSided)    \n",
    "    results[2, b, s] = permInterval(x, y, deltas[b], (px, py, mc_size), false, alpha, twoSided, twoSided)\n",
    "    results[3, b, s] = permInterval(x, y, deltas[b], (px, py, mc_size), true, alpha/2, greater, smaller, 0.0005)\n",
    "    results[4, b, s] = permInterval(x, y, deltas[b], (px, py, mc_size), false, alpha/2, greater, smaller, 0.0005)\n",
    "    \"\"\"    \n",
    "    \n",
    "    results[5, b, s] = bootstrap(x, y, deltas[b], alpha, nsamples=10_000)\n",
    "    #results[6, b, s] = tconf(x, y, deltas[b], alpha, false)\n",
    "end\n",
    "\n",
    "save_ci_results(results, 5, B, S, prefix=\"bs\", dir=\"../results/bootstrap/3/\")"
   ]
  },
  {
   "cell_type": "code",
   "execution_count": 76,
   "id": "21f64e73",
   "metadata": {},
   "outputs": [
    {
     "data": {
      "text/plain": [
       "5-element Vector{Any}:\n",
       " (0.9041095890410958, 1.7169137288119696)\n",
       " (0.8964383561643836, 1.5188572278067674)\n",
       " (0.9057534246575343, 1.0491979467480967)\n",
       " (0.8997260273972603, 0.21909246020121118)\n",
       " (0.9145205479452054, 0.2478563258378473)"
      ]
     },
     "execution_count": 76,
     "metadata": {},
     "output_type": "execute_result"
    }
   ],
   "source": [
    "averages = []\n",
    "for row in eachrow(results[5,:,:])\n",
    "    coverage = sum([j for (j, _) in row]) / S\n",
    "    width = sum([j for (_, j) in row]) / S\n",
    "    push!(averages, (coverage, width))\n",
    "end\n",
    "averages"
   ]
  },
  {
   "cell_type": "code",
   "execution_count": null,
   "id": "beb2886f",
   "metadata": {},
   "outputs": [],
   "source": [
    "save_ci_results(results, 5, B, S, dir=\"../results/bootstrap/1/\")\n",
    "save_ci_results(results, 6, B, S, dir=\"../results/t/1/\")"
   ]
  },
  {
   "cell_type": "markdown",
   "id": "75f0d90c",
   "metadata": {},
   "source": [
    "---"
   ]
  },
  {
   "cell_type": "code",
   "execution_count": 70,
   "id": "a2c10011",
   "metadata": {},
   "outputs": [
    {
     "name": "stdout",
     "output_type": "stream",
     "text": [
      "  0.292847 seconds (510.31 k allocations: 55.944 MiB, 93.62% compilation time)\n"
     ]
    },
    {
     "data": {
      "text/plain": [
       "0.05034965f0"
      ]
     },
     "execution_count": 70,
     "metadata": {},
     "output_type": "execute_result"
    }
   ],
   "source": [
    "x = X[:,1,1]\n",
    "y = Y[:,1,1]\n",
    "@time permInterval(x, y, deltas[1], (px, py, 0), true, alpha, twoSided, twoSided)\n",
    "\n",
    "permInterval(x, y, deltas[1], (px, py, 0), true, alpha/2, greater, smaller)\n",
    "\n",
    "pval(x, y, 2.4218399175319254, (px, py, 0), true, twoSided)"
   ]
  }
 ],
 "metadata": {
  "kernelspec": {
   "display_name": "Julia_112 1.7.1",
   "language": "julia",
   "name": "julia_112-1.7"
  },
  "language_info": {
   "file_extension": ".jl",
   "mimetype": "application/julia",
   "name": "julia",
   "version": "1.7.1"
  }
 },
 "nbformat": 4,
 "nbformat_minor": 5
}
