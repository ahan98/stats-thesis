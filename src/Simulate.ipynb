{
 "cells": [
  {
   "cell_type": "code",
   "execution_count": 43,
   "id": "d83161ad",
   "metadata": {},
   "outputs": [
    {
     "data": {
      "text/plain": [
       "generateData (generic function with 3 methods)"
      ]
     },
     "execution_count": 43,
     "metadata": {},
     "output_type": "execute_result"
    }
   ],
   "source": [
    "using Random\n",
    "using Distributions\n",
    "\n",
    "include(\"simulate.jl\")\n",
    "include(\"data.jl\")"
   ]
  },
  {
   "cell_type": "code",
   "execution_count": 48,
   "id": "6c66990c",
   "metadata": {},
   "outputs": [
    {
     "data": {
      "text/plain": [
       "([0.8590659; 0.3663767; … ; 2.5245826; 1.886721;;;], [2.4790723; 1.922852; … ; 5.880738; 1.8599702;;;], Float32[-0.6809921], LogNormal{Float32}[LogNormal{Float32}(μ=0.5212f0, σ=1.0424f0)], LogNormal{Float32}[LogNormal{Float32}(μ=0.5868f0, σ=1.1736f0)])"
      ]
     },
     "execution_count": 48,
     "metadata": {},
     "output_type": "execute_result"
    }
   ],
   "source": [
    "\"\"\"\n",
    "DATA CONFIG\n",
    "\"\"\"\n",
    "alpha = 0.05\n",
    "\n",
    "# data\n",
    "B  = 1    # num. coverage probabilities per boxplot\n",
    "S  = 1   # num. samples per coverage probability\n",
    "nx = 25      # size of group 1\n",
    "ny = 13     # size of group 2\n",
    "dtype = Float32\n",
    "seed = 123\n",
    "\n",
    "\"\"\"\n",
    "POPULATION SETTINGS\n",
    "\"\"\"\n",
    "\n",
    "Random.seed!(seed)\n",
    "distrTypeX = LogNormal{dtype}\n",
    "muX = dtype.(round.(rand(Uniform(0, 1), B), digits=4))\n",
    "sdX = 2 * muX\n",
    "paramsX = (muX, sdX)\n",
    "\n",
    "distrTypeY = LogNormal{dtype}\n",
    "muY = dtype.(round.(rand(Uniform(0, 1), B), digits=4))\n",
    "sdY = 2 * muY\n",
    "paramsY = (muY, sdY)\n",
    "\n",
    "x, y, deltas, distrX, distrY = generateData(B, S, nx, ny,\n",
    "                                            distrTypeX, paramsX, distrTypeY, paramsY,\n",
    "                                            dtype, seed)"
   ]
  },
  {
   "cell_type": "code",
   "execution_count": 44,
   "id": "23e128c0",
   "metadata": {
    "collapsed": true
   },
   "outputs": [
    {
     "ename": "LoadError",
     "evalue": "type Tuple has no field pooled",
     "output_type": "error",
     "traceback": [
      "type Tuple has no field pooled",
      "",
      "Stacktrace:",
      "  [1] getproperty",
      "    @ ./Base.jl:42 [inlined]",
      "  [2] permInterval(x::Vector{Float32}, y::Vector{Float32}, args::Tuple{Args})",
      "    @ Main ~/git/stats-thesis/src/permutation.jl:38",
      "  [3] macro expansion",
      "    @ ~/git/stats-thesis/src/simulate.jl:68 [inlined]",
      "  [4] __",
      "    @ ~/.julia/packages/FLoops/ByvfD/src/reduce.jl:620 [inlined]",
      "  [5] (::InitialValues.AdjoinIdentity{var\"#__##reducing_function#332#5641\"{Int64, Array{Float32, 3}, Array{Float32, 3}, Vector{Float32}, typeof(permInterval), Tuple{Args}}})(x::Tuple{Tuple{Int64, Float32}}, y::Int64)",
      "    @ InitialValues ~/.julia/packages/InitialValues/OWP8V/src/InitialValues.jl:306",
      "  [6] next",
      "    @ ~/.julia/packages/Transducers/aODFF/src/combinators.jl:261 [inlined]",
      "  [7] next",
      "    @ ~/.julia/packages/Transducers/aODFF/src/core.jl:289 [inlined]",
      "  [8] macro expansion",
      "    @ ~/.julia/packages/Transducers/aODFF/src/core.jl:181 [inlined]",
      "  [9] _foldl_array",
      "    @ ~/.julia/packages/Transducers/aODFF/src/processes.jl:187 [inlined]",
      " [10] __foldl__",
      "    @ ~/.julia/packages/Transducers/aODFF/src/processes.jl:182 [inlined]",
      " [11] foldl_nocomplete",
      "    @ ~/.julia/packages/Transducers/aODFF/src/processes.jl:356 [inlined]",
      " [12] _reduce_basecase(rf::Transducers.BottomRF{Transducers.AdHocRF{var\"#__##oninit_function#331#5640\", typeof(identity), InitialValues.AdjoinIdentity{var\"#__##reducing_function#332#5641\"{Int64, Array{Float32, 3}, Array{Float32, 3}, Vector{Float32}, typeof(permInterval), Tuple{Args}}}, typeof(identity), var\"#__##combine_function#333#5642\"{Int64, Vector{Float32}}}}, init::Transducers.InitOf{Transducers.DefaultInitOf}, reducible::Transducers.SizedReducible{UnitRange{Int64}, Int64})",
      "    @ Transducers ~/.julia/packages/Transducers/aODFF/src/threading_utils.jl:56",
      " [13] _reduce(ctx::Transducers.NoopDACContext, rf::Transducers.BottomRF{Transducers.AdHocRF{var\"#__##oninit_function#331#5640\", typeof(identity), InitialValues.AdjoinIdentity{var\"#__##reducing_function#332#5641\"{Int64, Array{Float32, 3}, Array{Float32, 3}, Vector{Float32}, typeof(permInterval), Tuple{Args}}}, typeof(identity), var\"#__##combine_function#333#5642\"{Int64, Vector{Float32}}}}, init::Transducers.InitOf{Transducers.DefaultInitOf}, reducible::Transducers.SizedReducible{UnitRange{Int64}, Int64})",
      "    @ Transducers ~/.julia/packages/Transducers/aODFF/src/reduce.jl:170",
      " [14] _transduce_assoc_nocomplete",
      "    @ ~/.julia/packages/Transducers/aODFF/src/reduce.jl:159 [inlined]",
      " [15] transduce_assoc(xform::Transducers.IdentityTransducer, step::Transducers.AdHocRF{var\"#__##oninit_function#331#5640\", typeof(identity), var\"#__##reducing_function#332#5641\"{Int64, Array{Float32, 3}, Array{Float32, 3}, Vector{Float32}, typeof(permInterval), Tuple{Args}}, typeof(identity), var\"#__##combine_function#333#5642\"{Int64, Vector{Float32}}}, init::Transducers.InitOf{Transducers.DefaultInitOf}, coll0::UnitRange{Int64}; simd::Val{false}, basesize::Nothing, stoppable::Nothing, nestlevel::Nothing)",
      "    @ Transducers ~/.julia/packages/Transducers/aODFF/src/reduce.jl:128",
      " [16] transduce",
      "    @ ~/.julia/packages/Transducers/aODFF/src/executors.jl:50 [inlined]",
      " [17] _fold",
      "    @ ~/.julia/packages/FLoops/ByvfD/src/reduce.jl:653 [inlined]",
      " [18] macro expansion",
      "    @ ~/.julia/packages/FLoops/ByvfD/src/reduce.jl:631 [inlined]",
      " [19] macro expansion",
      "    @ ~/git/stats-thesis/src/simulate.jl:67 [inlined]",
      " [20] __",
      "    @ ~/.julia/packages/FLoops/ByvfD/src/reduce.jl:620 [inlined]",
      " [21] (::InitialValues.AdjoinIdentity{var\"#__##reducing_function#337#5639\"{Array{Float32, 3}, Array{Float32, 3}, Vector{Float32}, typeof(permInterval), Tuple{Args}, Vector{Any}, Int64}})(x::Tuple{}, y::Int64)",
      "    @ InitialValues ~/.julia/packages/InitialValues/OWP8V/src/InitialValues.jl:306",
      " [22] next",
      "    @ ~/.julia/packages/Transducers/aODFF/src/combinators.jl:261 [inlined]",
      " [23] next",
      "    @ ~/.julia/packages/Transducers/aODFF/src/core.jl:289 [inlined]",
      " [24] macro expansion",
      "    @ ~/.julia/packages/Transducers/aODFF/src/core.jl:181 [inlined]",
      " [25] _foldl_array",
      "    @ ~/.julia/packages/Transducers/aODFF/src/processes.jl:187 [inlined]",
      " [26] __foldl__",
      "    @ ~/.julia/packages/Transducers/aODFF/src/processes.jl:182 [inlined]",
      " [27] foldl_nocomplete",
      "    @ ~/.julia/packages/Transducers/aODFF/src/processes.jl:356 [inlined]",
      " [28] _reduce_basecase(rf::Transducers.BottomRF{Transducers.AdHocRF{var\"#__##oninit_function#336#5638\", typeof(identity), InitialValues.AdjoinIdentity{var\"#__##reducing_function#337#5639\"{Array{Float32, 3}, Array{Float32, 3}, Vector{Float32}, typeof(permInterval), Tuple{Args}, Vector{Any}, Int64}}, typeof(identity), var\"#__##combine_function#338#5643\"}}, init::Transducers.InitOf{Transducers.DefaultInitOf}, reducible::Transducers.SizedReducible{UnitRange{Int64}, Int64})",
      "    @ Transducers ~/.julia/packages/Transducers/aODFF/src/threading_utils.jl:56",
      " [29] _reduce(ctx::Transducers.CancellableDACContext, rf::Transducers.BottomRF{Transducers.AdHocRF{var\"#__##oninit_function#336#5638\", typeof(identity), InitialValues.AdjoinIdentity{var\"#__##reducing_function#337#5639\"{Array{Float32, 3}, Array{Float32, 3}, Vector{Float32}, typeof(permInterval), Tuple{Args}, Vector{Any}, Int64}}, typeof(identity), var\"#__##combine_function#338#5643\"}}, init::Transducers.InitOf{Transducers.DefaultInitOf}, reducible::Transducers.SizedReducible{UnitRange{Int64}, Int64})",
      "    @ Transducers ~/.julia/packages/Transducers/aODFF/src/reduce.jl:170",
      " [30] _transduce_assoc_nocomplete(rf::Transducers.BottomRF{Transducers.AdHocRF{var\"#__##oninit_function#336#5638\", typeof(identity), InitialValues.AdjoinIdentity{var\"#__##reducing_function#337#5639\"{Array{Float32, 3}, Array{Float32, 3}, Vector{Float32}, typeof(permInterval), Tuple{Args}, Vector{Any}, Int64}}, typeof(identity), var\"#__##combine_function#338#5643\"}}, init::Transducers.InitOf{Transducers.DefaultInitOf}, coll::UnitRange{Int64}, basesize::Int64, ctx::Transducers.CancellableDACContext)",
      "    @ Transducers ~/.julia/packages/Transducers/aODFF/src/reduce.jl:159",
      " [31] transduce_assoc(xform::Transducers.IdentityTransducer, step::Transducers.AdHocRF{var\"#__##oninit_function#336#5638\", typeof(identity), var\"#__##reducing_function#337#5639\"{Array{Float32, 3}, Array{Float32, 3}, Vector{Float32}, typeof(permInterval), Tuple{Args}, Vector{Any}, Int64}, typeof(identity), var\"#__##combine_function#338#5643\"}, init::Transducers.InitOf{Transducers.DefaultInitOf}, coll0::UnitRange{Int64}; simd::Val{false}, basesize::Nothing, stoppable::Nothing, nestlevel::Nothing)",
      "    @ Transducers ~/.julia/packages/Transducers/aODFF/src/reduce.jl:128",
      " [32] transduce(xf::Transducers.IdentityTransducer, rf::Function, init::Transducers.InitOf{Transducers.DefaultInitOf}, coll::UnitRange{Int64}, exc::ThreadedEx{NamedTuple{(:simd,), Tuple{Val{false}}}})",
      "    @ Transducers ~/.julia/packages/Transducers/aODFF/src/executors.jl:50",
      " [33] _fold",
      "    @ ~/.julia/packages/FLoops/ByvfD/src/reduce.jl:653 [inlined]",
      " [34] macro expansion",
      "    @ ~/.julia/packages/FLoops/ByvfD/src/reduce.jl:631 [inlined]",
      " [35] simulate(x::Array{Float32, 3}, y::Array{Float32, 3}, deltas::Vector{Float32}, distrX::Vector{LogNormal{Float32}}, distrY::Vector{LogNormal{Float32}}, method::typeof(permInterval), method_args::Args; save_csv::Bool)",
      "    @ Main ~/git/stats-thesis/src/simulate.jl:66",
      " [36] simulate_perm(x::Array{Float32, 3}, y::Array{Float32, 3}, deltas::Vector{Float32}, distrX::Vector{LogNormal{Float32}}, distrY::Vector{LogNormal{Float32}}; mc_size::Int64, save_csv::Bool)",
      "    @ Main ~/git/stats-thesis/src/simulate.jl:29",
      " [37] top-level scope",
      "    @ In[44]:7",
      " [38] eval",
      "    @ ./boot.jl:373 [inlined]",
      " [39] include_string(mapexpr::typeof(REPL.softscope), mod::Module, code::String, filename::String)",
      "    @ Base ./loading.jl:1196"
     ]
    }
   ],
   "source": [
    "mc_size = try\n",
    "    (binomial(nx+ny, nx) > 45_000) ? 10_000 : 0\n",
    "catch\n",
    "    0\n",
    "end\n",
    "\n",
    "simulate_perm(x, y, deltas, distrX, distrY,\n",
    "              alpha=alpha, mc_size=mc_size, save_csv=false)"
   ]
  },
  {
   "cell_type": "code",
   "execution_count": null,
   "id": "6ac34b0b",
   "metadata": {},
   "outputs": [],
   "source": [
    "simulate_bootstrap(x, y, deltas, distrX, distrY,\n",
    "                   alpha=alpha, nsamples=10_000, save_csv=false)"
   ]
  },
  {
   "cell_type": "code",
   "execution_count": null,
   "id": "77299c2c",
   "metadata": {},
   "outputs": [],
   "source": [
    "simulate_t(x, y, deltas, distrX, distrY,\n",
    "           alpha=alpha, save_csv=false)"
   ]
  }
 ],
 "metadata": {
  "kernelspec": {
   "display_name": "Julia 1.7.1",
   "language": "julia",
   "name": "julia-1.7"
  },
  "language_info": {
   "file_extension": ".jl",
   "mimetype": "application/julia",
   "name": "julia",
   "version": "1.7.1"
  }
 },
 "nbformat": 4,
 "nbformat_minor": 5
}
