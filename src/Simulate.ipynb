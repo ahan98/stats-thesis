{
 "cells": [
  {
   "cell_type": "code",
<<<<<<< HEAD
   "execution_count": 1,
=======
   "execution_count": 67,
>>>>>>> 1e9bfd61cb910f86cff91c69142f732da20da92e
   "id": "5177bc1d",
   "metadata": {},
   "outputs": [
    {
     "data": {
      "text/plain": [
       "112"
      ]
     },
<<<<<<< HEAD
     "execution_count": 1,
=======
     "execution_count": 67,
>>>>>>> 1e9bfd61cb910f86cff91c69142f732da20da92e
     "metadata": {},
     "output_type": "execute_result"
    }
   ],
   "source": [
    "using Random\n",
    "using Distributions\n",
    "using FLoops\n",
    "using Base.Threads\n",
    "using BenchmarkTools\n",
    "\n",
    "include(\"data.jl\")\n",
    "include(\"util.jl\")\n",
    "\n",
    "include(\"intervals/permutation.jl\")\n",
    "include(\"intervals/bootstrap.jl\")\n",
    "include(\"intervals/t.jl\")\n",
    "\n",
    "Threads.nthreads()"
   ]
  },
  {
   "cell_type": "code",
<<<<<<< HEAD
   "execution_count": 2,
=======
   "execution_count": 68,
>>>>>>> 1e9bfd61cb910f86cff91c69142f732da20da92e
   "id": "02dba51e",
   "metadata": {},
   "outputs": [
    {
     "data": {
      "text/plain": [
       "100×5 Matrix{Int64}:\n",
       "   1   79   71   14   60\n",
       "   2   89   99  143   84\n",
       "   3  134   98   97   34\n",
       "   4   32  106  142   31\n",
       "   5   81   65  109  100\n",
       "   6   62   83   27   94\n",
       "   7   13  115  144  135\n",
       "   8  141  121   56   82\n",
       "   9   91  145   98   22\n",
       "  10   56  120  138   87\n",
       "  11   84   30   90   58\n",
       "  12  128   97  150   66\n",
       "  13   18   31  129  130\n",
       "   ⋮                 \n",
       "  89  127    3   65   83\n",
       "  90  110  102  126   75\n",
       "  91  133   19   23   28\n",
       "  92  144    8   44   99\n",
       "  93   87  114  133   37\n",
       "  94   98   41   60    8\n",
       "  95  103  107  105   38\n",
       "  96  105  143  131   11\n",
       "  97   75   43   20   59\n",
       "  98   82   16   21  140\n",
       "  99   65  119   37    7\n",
       " 100   46    9   55   50"
      ]
     },
<<<<<<< HEAD
     "execution_count": 2,
=======
     "execution_count": 68,
>>>>>>> 1e9bfd61cb910f86cff91c69142f732da20da92e
     "metadata": {},
     "output_type": "execute_result"
    }
   ],
   "source": [
    "dtype = Float32\n",
    "seed = 123\n",
    "\n",
    "# DATA CONFIG\n",
    "\n",
    "alpha = 0.05\n",
    "\n",
    "# data\n",
    "B  = 100   # num. coverage probabilities per boxplot\n",
    "S  = 4300  # num. samples per coverage probability\n",
    "nx = 100   # size of group 1\n",
    "ny = 50    # size of group 2\n",
    "nperm = try\n",
    "    binomial(nx+ny, nx)\n",
    "catch OverflowError\n",
    "    Inf\n",
    "end\n",
    "    \n",
    "if nperm > 30_000\n",
    "    Random.seed!(123)\n",
    "    px, py = partition(nx, ny, 10_000)\n",
    "else\n",
    "    px, py = partition(nx, ny)\n",
    "end\n",
    "\n",
    "bits = vcat(ones(Int, nx), zeros(Int, ny))\n",
    "addx, addy = bits[px], bits[py]\n",
    "px[:, 1:5]"
   ]
  },
  {
   "cell_type": "code",
<<<<<<< HEAD
   "execution_count": 3,
=======
   "execution_count": 69,
>>>>>>> 1e9bfd61cb910f86cff91c69142f732da20da92e
   "id": "9d3281e2",
   "metadata": {},
   "outputs": [],
   "source": [
    "# POPULATION SETTINGS\n",
    "\n",
    "Random.seed!(123)\n",
    "\n",
    "distrTypeX = Normal{dtype}\n",
    "X_mu = random(Uniform(-1, 1), B)\n",
    "X_sigma = random(Uniform(0.5, 1), B)\n",
    "distrX = map(distrTypeX, X_mu, X_sigma)\n",
    "\n",
    "distrTypeY = Normal{dtype}\n",
    "Y_mu = X_mu\n",
    "Y_sigma = random(Uniform(1.5, 2), B)\n",
    "distrY = map(distrTypeY, Y_mu, Y_sigma)\n",
    ";"
   ]
  },
  {
   "cell_type": "code",
<<<<<<< HEAD
   "execution_count": 4,
=======
   "execution_count": 70,
>>>>>>> 1e9bfd61cb910f86cff91c69142f732da20da92e
   "id": "75cca7ae",
   "metadata": {},
   "outputs": [
    {
     "name": "stdout",
     "output_type": "stream",
     "text": [
      "distrX[1:2] = Normal{Float32}[Normal{Float32}(μ=0.813f0, σ=0.977f0), Normal{Float32}(μ=-0.113f0, σ=0.923f0)]\n",
      "distrY[1:2] = Normal{Float32}[Normal{Float32}(μ=0.813f0, σ=1.983f0), Normal{Float32}(μ=-0.113f0, σ=1.535f0)]\n",
      "deltas[1:2] = Float32[0.0, 0.0]\n"
     ]
    }
   ],
   "source": [
    "deltas = @. mean(distrX) - mean(distrY)\n",
    "\n",
    "@show distrX[1:2]\n",
    "@show distrY[1:2]\n",
    "@show deltas[1:2];"
   ]
  },
  {
   "cell_type": "code",
<<<<<<< HEAD
   "execution_count": 5,
=======
   "execution_count": 71,
>>>>>>> 1e9bfd61cb910f86cff91c69142f732da20da92e
   "id": "5fea7174",
   "metadata": {},
   "outputs": [
    {
     "name": "stdout",
     "output_type": "stream",
     "text": [
      "size(ys) = (100,)\n"
     ]
    },
    {
     "data": {
      "text/plain": [
       "50×4300 Matrix{Float32}:\n",
       " -3.46337     3.05667    2.5799     …  -1.27818      0.978084   1.65769\n",
       " -2.33651    -0.749393  -0.546185      -1.32154     -0.419742   0.066951\n",
       "  0.523691   -0.378069   0.362716       0.844814     2.24581    0.562093\n",
       " -0.166705   -1.90958   -1.69999       -0.232102     3.55834    0.0413183\n",
       " -1.87789    -1.89284   -2.08205       -0.862462     0.23983   -0.590452\n",
       " -0.49616     4.53157   -1.87585    …   2.83667     -0.84479    0.330015\n",
       " -1.40787     1.90632    1.14323       -0.0261095    0.138385  -0.604899\n",
       "  0.475819    1.43638   -1.45801        2.483        0.88775   -3.11832\n",
       "  3.15621    -1.43821   -0.220666       0.874551     1.69064   -2.99554\n",
       "  2.45838     0.296243   0.449436       2.70835     -3.91091   -0.799601\n",
       "  0.7826      1.0259    -0.0509224  …  -1.40877     -1.56215    2.09737\n",
       "  3.07552    -0.746889  -0.566378      -1.41825      1.64675    0.392352\n",
       " -1.50266    -1.56891   -1.30608        0.00117437  -1.35052    3.26603\n",
       "  ⋮                                 ⋱                          \n",
       "  0.0503683   1.46568    1.05129       -2.59139      0.915752  -1.45129\n",
       "  0.765013    2.76856    1.28067       -0.659916    -2.33143    2.80985\n",
       " -0.0787017  -1.93837   -0.107328   …   1.10459     -1.67468    0.817583\n",
       "  1.35893     0.262625   2.32792        1.24191      1.67883   -2.75879\n",
       " -0.283562    1.93566    1.61151       -0.214762     0.742114   1.22585\n",
       "  1.17854     0.989066   0.626578      -0.875525     1.65795    0.973664\n",
       "  0.118887   -0.256637  -1.10888        1.03826     -0.923948  -1.5966\n",
       "  0.896368    2.08764    0.494612   …  -0.622657    -4.5267     0.983499\n",
       " -2.68264     0.252073   1.62222        4.1247       0.563069  -0.291442\n",
       "  0.891035    1.84194    5.05816        1.25133     -1.12971    0.762793\n",
       " -0.304778   -1.48106   -1.92779       -0.970454    -3.376      1.75051\n",
       "  0.667867   -2.30398    1.08256       -2.15088     -1.43541    1.08285"
      ]
     },
<<<<<<< HEAD
     "execution_count": 5,
=======
     "execution_count": 71,
>>>>>>> 1e9bfd61cb910f86cff91c69142f732da20da92e
     "metadata": {},
     "output_type": "execute_result"
    }
   ],
   "source": [
    "Random.seed!(123)\n",
    "xs = [dtype.(rand(distrX[i], nx, S)) for i in 1:B]\n",
    "ys = [dtype.(rand(distrY[i], ny, S)) for i in 1:B]\n",
    "@show size(ys)\n",
    "ys[2]"
   ]
  },
  {
   "cell_type": "code",
<<<<<<< HEAD
   "execution_count": 6,
=======
   "execution_count": 72,
>>>>>>> 1e9bfd61cb910f86cff91c69142f732da20da92e
   "id": "c5e4db4c",
   "metadata": {},
   "outputs": [
    {
     "data": {
      "text/plain": [
       "50×4300 Matrix{Float32}:\n",
       " -3.46337     3.05667    2.5799     …  -1.27818      0.978084   1.65769\n",
       " -2.33651    -0.749393  -0.546185      -1.32154     -0.419742   0.066951\n",
       "  0.523691   -0.378069   0.362716       0.844814     2.24581    0.562093\n",
       " -0.166705   -1.90958   -1.69999       -0.232102     3.55834    0.0413183\n",
       " -1.87789    -1.89284   -2.08205       -0.862462     0.23983   -0.590452\n",
       " -0.49616     4.53157   -1.87585    …   2.83667     -0.84479    0.330015\n",
       " -1.40787     1.90632    1.14323       -0.0261095    0.138385  -0.604899\n",
       "  0.475819    1.43638   -1.45801        2.483        0.88775   -3.11832\n",
       "  3.15621    -1.43821   -0.220666       0.874551     1.69064   -2.99554\n",
       "  2.45838     0.296243   0.449436       2.70835     -3.91091   -0.799601\n",
       "  0.7826      1.0259    -0.0509224  …  -1.40877     -1.56215    2.09737\n",
       "  3.07552    -0.746889  -0.566378      -1.41825      1.64675    0.392352\n",
       " -1.50266    -1.56891   -1.30608        0.00117437  -1.35052    3.26603\n",
       "  ⋮                                 ⋱                          \n",
       "  0.0503683   1.46568    1.05129       -2.59139      0.915752  -1.45129\n",
       "  0.765013    2.76856    1.28067       -0.659916    -2.33143    2.80985\n",
       " -0.0787017  -1.93837   -0.107328   …   1.10459     -1.67468    0.817583\n",
       "  1.35893     0.262625   2.32792        1.24191      1.67883   -2.75879\n",
       " -0.283562    1.93566    1.61151       -0.214762     0.742114   1.22585\n",
       "  1.17854     0.989066   0.626578      -0.875525     1.65795    0.973664\n",
       "  0.118887   -0.256637  -1.10888        1.03826     -0.923948  -1.5966\n",
       "  0.896368    2.08764    0.494612   …  -0.622657    -4.5267     0.983499\n",
       " -2.68264     0.252073   1.62222        4.1247       0.563069  -0.291442\n",
       "  0.891035    1.84194    5.05816        1.25133     -1.12971    0.762793\n",
       " -0.304778   -1.48106   -1.92779       -0.970454    -3.376      1.75051\n",
       "  0.667867   -2.30398    1.08256       -2.15088     -1.43541    1.08285"
      ]
     },
<<<<<<< HEAD
     "execution_count": 6,
=======
     "execution_count": 72,
>>>>>>> 1e9bfd61cb910f86cff91c69142f732da20da92e
     "metadata": {},
     "output_type": "execute_result"
    }
   ],
   "source": [
    "# flatten into 3D matrix\n",
    "X = reshape(hcat(xs...), nx, S, B)\n",
    "Y = reshape(hcat(ys...), ny, S, B)\n",
    "Y[:,:,2]"
   ]
  },
  {
   "cell_type": "code",
<<<<<<< HEAD
   "execution_count": 7,
=======
   "execution_count": 73,
>>>>>>> 1e9bfd61cb910f86cff91c69142f732da20da92e
   "id": "c4b9c653",
   "metadata": {},
   "outputs": [
    {
     "data": {
      "text/plain": [
       "save_permutation_results (generic function with 1 method)"
      ]
     },
<<<<<<< HEAD
     "execution_count": 7,
=======
     "execution_count": 73,
>>>>>>> 1e9bfd61cb910f86cff91c69142f732da20da92e
     "metadata": {},
     "output_type": "execute_result"
    }
   ],
   "source": [
    "function save_ci_results(results, methodId, B, S, pooled=nothing, two_sided=nothing; prefix=\"\", dir=\"./\")\n",
    "    averages = []\n",
    "\n",
    "    for batchId in 1:B\n",
    "        batch = results[methodId, batchId, :]\n",
    "        coverage = sum([j for (j, _) in batch]) / S\n",
    "        width = sum([j for (_, j) in batch]) / S\n",
    "        push!(averages, (coverage, width))\n",
    "    end\n",
    "    if isnothing(two_sided)\n",
    "        save(averages, distrX[1:B], distrY[1:B], alpha, prefix=prefix, dir=dir)\n",
    "    else\n",
    "        alpha_ = two_sided ? alpha : alpha / 2\n",
    "        save(averages, distrX[1:B], distrY[1:B], alpha_, pooled, two_sided, prefix=prefix, dir=dir)\n",
    "    end\n",
    "end\n",
    "\n",
    "function save_permutation_results(results, B, S; prefix=\"\", dir=\"./\")\n",
    "    i = 1\n",
    "    per_method = []\n",
    "    for two_sided in [true, false]\n",
    "        for pooled in [true, false]\n",
    "            if i in [1, 3]  # use only pooled for now\n",
    "                save_ci_results(results, i, B, S, pooled, two_sided, prefix=prefix, dir=dir)\n",
    "            end\n",
    "            i += 1\n",
    "        end\n",
    "    end\n",
    "end"
   ]
  },
  {
   "cell_type": "code",
<<<<<<< HEAD
   "execution_count": 8,
=======
   "execution_count": 77,
>>>>>>> 1e9bfd61cb910f86cff91c69142f732da20da92e
   "id": "777511b0",
   "metadata": {},
   "outputs": [
    {
     "data": {
      "text/plain": [
       "cache (generic function with 1 method)"
      ]
     },
<<<<<<< HEAD
     "execution_count": 8,
=======
     "execution_count": 77,
>>>>>>> 1e9bfd61cb910f86cff91c69142f732da20da92e
     "metadata": {},
     "output_type": "execute_result"
    }
   ],
   "source": [
    "function cache(groups, masks)\n",
    "    mean_og = mean(groups, dims=1)\n",
    "    var_og = var(groups, dims=1)\n",
    "    nshift = sum(masks, dims=1)\n",
    "    shift_sum = sum(groups .* masks, dims=1)\n",
    "    return P(mean_og, var_og, nshift, shift_sum, size(groups, 1))\n",
    "end"
   ]
  },
  {
   "cell_type": "code",
<<<<<<< HEAD
   "execution_count": 9,
=======
   "execution_count": 78,
>>>>>>> 1e9bfd61cb910f86cff91c69142f732da20da92e
   "id": "dfbb5d6e",
   "metadata": {
    "tags": []
   },
   "outputs": [
    {
     "name": "stdout",
     "output_type": "stream",
     "text": [
<<<<<<< HEAD
      "  1.245705 seconds (4.46 M allocations: 245.757 MiB, 98.62% compilation time)\n"
=======
      "  0.008060 seconds (2.15 k allocations: 13.908 MiB)\n"
>>>>>>> 1e9bfd61cb910f86cff91c69142f732da20da92e
     ]
    },
    {
     "data": {
      "text/plain": [
<<<<<<< HEAD
       "(4.694458127627181, 7.046371340146257)"
      ]
     },
     "execution_count": 9,
=======
       "(-0.37752148134296004, 0.5187644877273748)"
      ]
     },
     "execution_count": 78,
>>>>>>> 1e9bfd61cb910f86cff91c69142f732da20da92e
     "metadata": {},
     "output_type": "execute_result"
    }
   ],
   "source": [
    "x = X[:,1,1]\n",
    "y = Y[:,1,1]\n",
    "pooled = vcat(x, y)\n",
    "xs = pooled[px]\n",
    "ys = pooled[py]\n",
    "xcache = cache(xs, addx)\n",
    "ycache = cache(ys, addy)\n",
    "\n",
    "wide, narrow = t_estimates(x, y, true)\n",
    "@time permInterval(xcache, ycache, wide, narrow, true, alpha, twoSided, twoSided, 0.005)"
   ]
  },
  {
   "cell_type": "code",
<<<<<<< HEAD
   "execution_count": 10,
=======
   "execution_count": 81,
>>>>>>> 1e9bfd61cb910f86cff91c69142f732da20da92e
   "id": "f746d0ba",
   "metadata": {},
   "outputs": [
    {
     "name": "stdout",
     "output_type": "stream",
     "text": [
<<<<<<< HEAD
      "1494.102610 seconds (2.40 G allocations: 19.692 TiB, 48.56% gc time, 0.58% compilation time)\n",
      "dir * filename = \"../results/100_50/3/twoSided_pooled_0.05.csv\"\n",
      "dir * filename = \"../results/100_50/3/oneSided_pooled_0.025.csv\"\n"
=======
      "1071.561332 seconds (8.55 G allocations: 2.945 TiB, 23.12% gc time, 0.01% compilation time)\n"
     ]
    },
    {
     "ename": "LoadError",
     "evalue": "MethodError: no method matching iterate(::Nothing)\n\u001b[0mClosest candidates are:\n\u001b[0m  iterate(\u001b[91m::Union{LinRange, StepRangeLen}\u001b[39m) at /Applications/Julia-1.7.app/Contents/Resources/julia/share/julia/base/range.jl:826\n\u001b[0m  iterate(\u001b[91m::Union{LinRange, StepRangeLen}\u001b[39m, \u001b[91m::Integer\u001b[39m) at /Applications/Julia-1.7.app/Contents/Resources/julia/share/julia/base/range.jl:826\n\u001b[0m  iterate(\u001b[91m::T\u001b[39m) where T<:Union{Base.KeySet{<:Any, <:Dict}, Base.ValueIterator{<:Dict}} at /Applications/Julia-1.7.app/Contents/Resources/julia/share/julia/base/dict.jl:695\n\u001b[0m  ...",
     "output_type": "error",
     "traceback": [
      "MethodError: no method matching iterate(::Nothing)\n\u001b[0mClosest candidates are:\n\u001b[0m  iterate(\u001b[91m::Union{LinRange, StepRangeLen}\u001b[39m) at /Applications/Julia-1.7.app/Contents/Resources/julia/share/julia/base/range.jl:826\n\u001b[0m  iterate(\u001b[91m::Union{LinRange, StepRangeLen}\u001b[39m, \u001b[91m::Integer\u001b[39m) at /Applications/Julia-1.7.app/Contents/Resources/julia/share/julia/base/range.jl:826\n\u001b[0m  iterate(\u001b[91m::T\u001b[39m) where T<:Union{Base.KeySet{<:Any, <:Dict}, Base.ValueIterator{<:Dict}} at /Applications/Julia-1.7.app/Contents/Resources/julia/share/julia/base/dict.jl:695\n\u001b[0m  ...",
      "",
      "Stacktrace:",
      " [1] indexed_iterate(I::Nothing, i::Int64)",
      "   @ Base ./tuple.jl:92",
      " [2] (::var\"#140#142\")(::Nothing)",
      "   @ Main ./none:0",
      " [3] iterate",
      "   @ ./generator.jl:47 [inlined]",
      " [4] collect(itr::Base.Generator{Vector{Union{Nothing, Tuple}}, var\"#140#142\"})",
      "   @ Base ./array.jl:724",
      " [5] save_ci_results(results::Array{Union{Nothing, Tuple}, 3}, methodId::Int64, B::Int64, S::Int64, pooled::Nothing, two_sided::Nothing; prefix::String, dir::String)",
      "   @ Main ./In[73]:6",
      " [6] top-level scope",
      "   @ In[81]:29",
      " [7] eval",
      "   @ ./boot.jl:373 [inlined]",
      " [8] include_string(mapexpr::typeof(REPL.softscope), mod::Module, code::String, filename::String)",
      "   @ Base ./loading.jl:1196"
>>>>>>> 1e9bfd61cb910f86cff91c69142f732da20da92e
     ]
    }
   ],
   "source": [
    "T = Threads.nthreads()\n",
    "results = Array{Union{Tuple, Nothing}, 3}(nothing, 6, B, S)\n",
    "\n",
    "#@time Threads.@threads for (i,j) in collect(Iterators.product(1:B, 1:S)) # 15.52 sec on (B,S) = (5, 1800)\n",
<<<<<<< HEAD
    "@time @floop ThreadedEx(basesize=div(B*S, T)) for b in 1:B, s in 1:S\n",
=======
    "@time @floop ThreadedEx(basesize=div(B*S, T)) for b in 2:B, s in 1:S\n",
>>>>>>> 1e9bfd61cb910f86cff91c69142f732da20da92e
    "    @inbounds x = X[:,s,b]\n",
    "    @inbounds y = Y[:,s,b]\n",
    "    \n",
    "#     pooled = vcat(x, y)\n",
    "#     xs = @inbounds pooled[px]\n",
    "#     ys = @inbounds pooled[py]\n",
    "#     xcache = cache(xs, addx)\n",
    "#     ycache = cache(ys, addy)\n",
    "#     wide, narrow = t_estimates(x, y, true)\n",
    " \n",
    "#     results[1, b, s] = permInterval(xcache, ycache, wide, narrow, deltas[b], true, alpha, twoSided, twoSided, 0.0005)\n",
    "#     results[2, b, s] = permInterval(xcache, ycache, wide, narrow, deltas[b], false, alpha, twoSided, twoSided, 0.0005)\n",
    "#     results[3, b, s] = permInterval(xcache, ycache, wide, narrow, deltas[b], true, alpha/2, greater, smaller, 0.0005)\n",
    "#     results[4, b, s] = permInterval(xcache, ycache, wide, narrow, deltas[b], false, alpha/2, greater, smaller, 0.0005)\n",
    "    \n",
    "    #\"\"\"\n",
    "    results[5, b, s] = bootstrap(x, y, deltas[b], alpha, nsamples=10_000)\n",
    "    results[6, b, s] = tconf(x, y, deltas[b], alpha, false)\n",
    "    #\"\"\"\n",
    "end\n",
    "\n",
<<<<<<< HEAD
    "dir = \"../results/\" * string(nx) * \"_\" * string(ny) * \"/3/\"\n",
    "save_permutation_results(results, B, S; dir=dir)\n",
    "#save_ci_results(results, 5, B, S; prefix=\"bs\", dir=dir)\n",
    "#save_ci_results(results, 6, B, S; prefix=\"t\", dir=dir)"
=======
    "dir = \"../results/\" * string(nx) * \"_\" * string(ny) * \"/2/\"\n",
    "# save_permutation_results(results, B, S; dir=dir)\n",
    "save_ci_results(results, 5, B, S; prefix=\"bs\", dir=dir)\n",
    "save_ci_results(results, 6, B, S; prefix=\"t\", dir=dir)"
>>>>>>> 1e9bfd61cb910f86cff91c69142f732da20da92e
   ]
  },
  {
   "cell_type": "code",
   "execution_count": null,
   "id": "416576e9-8a12-42ae-a0cd-6091d61a4505",
   "metadata": {},
   "outputs": [
    {
     "data": {
      "text/plain": [
       "10-element Vector{Float64}:\n",
       " 0.95\n",
       " 0.98\n",
       " 0.95\n",
       " 0.94\n",
       " 0.95\n",
       " 0.93\n",
       " 0.95\n",
       " 0.92\n",
       " 0.94\n",
       " 0.97"
      ]
     },
     "execution_count": 94,
     "metadata": {},
     "output_type": "execute_result"
    }
   ],
   "source": [
    "b = 10\n",
    "s = 100\n",
    "[sum(x for (x, _) in results[4, b, 1:s]) / s for b in 1:b]"
   ]
  }
 ],
 "metadata": {
  "kernelspec": {
   "display_name": "Julia_112 1.7.1",
   "language": "julia",
   "name": "julia_112-1.7"
  },
  "language_info": {
   "file_extension": ".jl",
   "mimetype": "application/julia",
   "name": "julia",
   "version": "1.7.1"
  }
 },
 "nbformat": 4,
 "nbformat_minor": 5
}
