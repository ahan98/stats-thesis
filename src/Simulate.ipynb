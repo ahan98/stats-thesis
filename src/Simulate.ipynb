{
 "cells": [
  {
   "cell_type": "code",
   "execution_count": 1,
   "id": "5177bc1d",
   "metadata": {},
   "outputs": [
    {
     "data": {
      "text/plain": [
       "8"
      ]
     },
     "execution_count": 1,
     "metadata": {},
     "output_type": "execute_result"
    }
   ],
   "source": [
    "using Random\n",
    "using Distributions\n",
    "using FLoops\n",
    "using Base.Threads\n",
    "using BenchmarkTools\n",
    "\n",
    "include(\"data.jl\")\n",
    "include(\"util.jl\")\n",
    "\n",
    "include(\"intervals/permutation.jl\")\n",
    "include(\"intervals/bootstrap.jl\")\n",
    "include(\"intervals/t.jl\")\n",
    "\n",
    "Threads.nthreads()"
   ]
  },
  {
   "cell_type": "code",
   "execution_count": 2,
   "id": "02dba51e",
   "metadata": {},
   "outputs": [
    {
     "data": {
      "text/plain": [
       "100×5 Matrix{Int64}:\n",
       "   1   79   71   14   60\n",
       "   2   89   99  143   84\n",
       "   3  134   98   97   34\n",
       "   4   32  106  142   31\n",
       "   5   81   65  109  100\n",
       "   6   62   83   27   94\n",
       "   7   13  115  144  135\n",
       "   8  141  121   56   82\n",
       "   9   91  145   98   22\n",
       "  10   56  120  138   87\n",
       "  11   84   30   90   58\n",
       "  12  128   97  150   66\n",
       "  13   18   31  129  130\n",
       "   ⋮                 \n",
       "  89  127    3   65   83\n",
       "  90  110  102  126   75\n",
       "  91  133   19   23   28\n",
       "  92  144    8   44   99\n",
       "  93   87  114  133   37\n",
       "  94   98   41   60    8\n",
       "  95  103  107  105   38\n",
       "  96  105  143  131   11\n",
       "  97   75   43   20   59\n",
       "  98   82   16   21  140\n",
       "  99   65  119   37    7\n",
       " 100   46    9   55   50"
      ]
     },
     "execution_count": 2,
     "metadata": {},
     "output_type": "execute_result"
    }
   ],
   "source": [
    "dtype = Float32\n",
    "seed = 123\n",
    "\n",
    "# DATA CONFIG\n",
    "\n",
    "alpha = 0.05\n",
    "\n",
    "# data\n",
    "B  = 100   # num. coverage probabilities per boxplot\n",
    "S  = 4300  # num. samples per coverage probability\n",
    "nx = 100   # size of group 1\n",
    "ny = 50    # size of group 2\n",
    "nperm = try\n",
    "    binomial(nx+ny, nx)\n",
    "catch OverflowError\n",
    "    Inf\n",
    "end\n",
    "    \n",
    "if nperm > 30_000\n",
    "    Random.seed!(123)\n",
    "    px, py = partition(nx, ny, 10_000)\n",
    "else\n",
    "    px, py = partition(nx, ny)\n",
    "end\n",
    "\n",
    "bits = vcat(ones(Int, nx), zeros(Int, ny))\n",
    "addx, addy = bits[px], bits[py]\n",
    "px[:, 1:5]"
   ]
  },
  {
   "cell_type": "code",
   "execution_count": 13,
   "id": "9d3281e2",
   "metadata": {},
   "outputs": [],
   "source": [
    "# POPULATION SETTINGS\n",
    "\n",
    "Random.seed!(123)\n",
    "\n",
    "distrTypeX = Laplace{dtype}\n",
    "X_mu = random(Uniform(0, 1), B)\n",
    "X_sigma = random(Uniform(2, 4), B)\n",
    "distrX = map(distrTypeX, X_mu, X_sigma)\n",
    "\n",
    "distrTypeY = Laplace{dtype}\n",
    "Y_mu = X_mu .+ random(Uniform(-5, 5), B)\n",
    "Y_sigma = X_sigma\n",
    "distrY = map(distrTypeY, Y_mu, Y_sigma)\n",
    ";"
   ]
  },
  {
   "cell_type": "code",
   "execution_count": 14,
   "id": "75cca7ae",
   "metadata": {},
   "outputs": [
    {
     "name": "stdout",
     "output_type": "stream",
     "text": [
      "distrX[1:2] = Laplace{Float32}[Laplace{Float32}(μ=0.906f0, θ=3.908f0), Laplace{Float32}(μ=0.443f0, θ=3.692f0)]\n",
      "distrY[1:2] = Laplace{Float32}[Laplace{Float32}(μ=5.556f0, θ=3.908f0), Laplace{Float32}(μ=-3.8500001f0, θ=3.692f0)]\n",
      "deltas[1:2] = Float32[-4.65, 4.293]\n"
     ]
    }
   ],
   "source": [
    "deltas = @. mean(distrX) - mean(distrY)\n",
    "\n",
    "@show distrX[1:2]\n",
    "@show distrY[1:2]\n",
    "@show deltas[1:2];"
   ]
  },
  {
   "cell_type": "code",
   "execution_count": 15,
   "id": "5fea7174",
   "metadata": {},
   "outputs": [
    {
     "name": "stdout",
     "output_type": "stream",
     "text": [
      "size(ys) = (100,)\n"
     ]
    },
    {
     "data": {
      "text/plain": [
       "50×4300 Matrix{Float32}:\n",
       "  -0.333925     1.31092    -7.38782   …   -3.37927   -1.1654     2.74575\n",
       "   0.0676902   -5.67038    -7.46346       -1.27034   -5.84355   -3.15161\n",
       "  -1.69411     -8.48162    -8.91671       -3.78911    5.17836   -8.30319\n",
       "  -9.54606     -3.3755     -5.09105       -5.12691   -4.72239   -6.01472\n",
       "  -3.9664       9.08281    -4.48176      -16.6926     3.44047   -2.896\n",
       "  -4.14218     -0.422397   -3.39665   …   -8.43455   -2.42219   -3.20621\n",
       "  -6.83521     -3.30915    -9.02733       -3.53746   -1.23077   -7.15858\n",
       "  -4.50355      0.364631   -2.69697       -1.85944    6.81848   -7.10866\n",
       " -19.2384      -3.64316    -7.09127       -1.41352   -9.70076   -5.54769\n",
       "  -3.23951     -6.43108   -14.0481        -4.65282   -5.84959   -4.77871\n",
       "   1.67845     -9.69094    -5.75341   …   -0.372413  -4.95373   -3.99881\n",
       "  -1.72792     21.2682     -2.96603       -5.83838   -2.44691   -1.98653\n",
       "  -8.47004      1.39169    -2.55322        7.12183    3.95665    4.44845\n",
       "   ⋮                                  ⋱                        \n",
       " -14.6764      -4.00674    -7.7937        -6.47082   -1.8511     7.54885\n",
       "  -4.80277     -6.66038    -6.88986       -1.05786   -9.70423   -4.80697\n",
       "  -1.12982     -0.880551   -9.55974   …   -2.43943   -8.78567  -10.0457\n",
       "  -7.73435     -3.98366    -2.30611        5.16089   -4.02068  -17.8028\n",
       "  -8.67594     -9.07107    -0.952521      -6.58787   -2.9678   -10.5671\n",
       "  -2.5146      -6.7799     -4.20081       -5.77706   -7.86243   -7.30886\n",
       "  -5.96972      0.47713    -6.89653       15.7376    -6.52086    8.35495\n",
       "  -7.36256     -5.28215    -3.5163    …   -8.70479   -6.84072    1.89241\n",
       "  -3.81445    -12.654      -3.58049       -0.885165  -3.81493   -6.51083\n",
       " -19.0251      -3.91758    -0.518926      -4.76345    1.03463   -6.7682\n",
       "  -0.251613     1.92067    -7.16233        2.84257    1.47223   -6.91261\n",
       "   9.09739    -11.6038     -6.10139       -5.24666   -2.06144   -8.56273"
      ]
     },
     "execution_count": 15,
     "metadata": {},
     "output_type": "execute_result"
    }
   ],
   "source": [
    "Random.seed!(123)\n",
    "xs = [dtype.(rand(distrX[i], nx, S)) for i in 1:B]\n",
    "ys = [dtype.(rand(distrY[i], ny, S)) for i in 1:B]\n",
    "@show size(ys)\n",
    "ys[2]"
   ]
  },
  {
   "cell_type": "code",
   "execution_count": 16,
   "id": "c5e4db4c",
   "metadata": {},
   "outputs": [
    {
     "data": {
      "text/plain": [
       "50×4300 Matrix{Float32}:\n",
       "  -0.333925     1.31092    -7.38782   …   -3.37927   -1.1654     2.74575\n",
       "   0.0676902   -5.67038    -7.46346       -1.27034   -5.84355   -3.15161\n",
       "  -1.69411     -8.48162    -8.91671       -3.78911    5.17836   -8.30319\n",
       "  -9.54606     -3.3755     -5.09105       -5.12691   -4.72239   -6.01472\n",
       "  -3.9664       9.08281    -4.48176      -16.6926     3.44047   -2.896\n",
       "  -4.14218     -0.422397   -3.39665   …   -8.43455   -2.42219   -3.20621\n",
       "  -6.83521     -3.30915    -9.02733       -3.53746   -1.23077   -7.15858\n",
       "  -4.50355      0.364631   -2.69697       -1.85944    6.81848   -7.10866\n",
       " -19.2384      -3.64316    -7.09127       -1.41352   -9.70076   -5.54769\n",
       "  -3.23951     -6.43108   -14.0481        -4.65282   -5.84959   -4.77871\n",
       "   1.67845     -9.69094    -5.75341   …   -0.372413  -4.95373   -3.99881\n",
       "  -1.72792     21.2682     -2.96603       -5.83838   -2.44691   -1.98653\n",
       "  -8.47004      1.39169    -2.55322        7.12183    3.95665    4.44845\n",
       "   ⋮                                  ⋱                        \n",
       " -14.6764      -4.00674    -7.7937        -6.47082   -1.8511     7.54885\n",
       "  -4.80277     -6.66038    -6.88986       -1.05786   -9.70423   -4.80697\n",
       "  -1.12982     -0.880551   -9.55974   …   -2.43943   -8.78567  -10.0457\n",
       "  -7.73435     -3.98366    -2.30611        5.16089   -4.02068  -17.8028\n",
       "  -8.67594     -9.07107    -0.952521      -6.58787   -2.9678   -10.5671\n",
       "  -2.5146      -6.7799     -4.20081       -5.77706   -7.86243   -7.30886\n",
       "  -5.96972      0.47713    -6.89653       15.7376    -6.52086    8.35495\n",
       "  -7.36256     -5.28215    -3.5163    …   -8.70479   -6.84072    1.89241\n",
       "  -3.81445    -12.654      -3.58049       -0.885165  -3.81493   -6.51083\n",
       " -19.0251      -3.91758    -0.518926      -4.76345    1.03463   -6.7682\n",
       "  -0.251613     1.92067    -7.16233        2.84257    1.47223   -6.91261\n",
       "   9.09739    -11.6038     -6.10139       -5.24666   -2.06144   -8.56273"
      ]
     },
     "execution_count": 16,
     "metadata": {},
     "output_type": "execute_result"
    }
   ],
   "source": [
    "# flatten into 3D matrix\n",
    "X = reshape(hcat(xs...), nx, S, B)\n",
    "Y = reshape(hcat(ys...), ny, S, B)\n",
    "Y[:,:,2]"
   ]
  },
  {
   "cell_type": "code",
   "execution_count": 17,
   "id": "c4b9c653",
   "metadata": {},
   "outputs": [
    {
     "data": {
      "text/plain": [
       "save_permutation_results (generic function with 1 method)"
      ]
     },
     "execution_count": 17,
     "metadata": {},
     "output_type": "execute_result"
    }
   ],
   "source": [
    "function save_ci_results(results, methodId, B, S, pooled=nothing, two_sided=nothing; prefix=\"\", dir=\"./\")\n",
    "    averages = []\n",
    "\n",
    "    for batchId in 1:B\n",
    "        batch = results[methodId, batchId, :]\n",
    "        coverage = sum([j for (j, _) in batch]) / S\n",
    "        width = sum([j for (_, j) in batch]) / S\n",
    "        push!(averages, (coverage, width))\n",
    "    end\n",
    "    if isnothing(two_sided)\n",
    "        save(averages, distrX[1:B], distrY[1:B], alpha, prefix=prefix, dir=dir)\n",
    "    else\n",
    "        alpha_ = two_sided ? alpha : alpha / 2\n",
    "        save(averages, distrX[1:B], distrY[1:B], alpha_, pooled, two_sided, prefix=prefix, dir=dir)\n",
    "    end\n",
    "end\n",
    "\n",
    "function save_permutation_results(results, B, S; prefix=\"\", dir=\"./\")\n",
    "    i = 1\n",
    "    per_method = []\n",
    "    for two_sided in [true, false]\n",
    "        for pooled in [true, false]\n",
    "            if i in [2, 4]  # use only unpooled for now\n",
    "                save_ci_results(results, i, B, S, pooled, two_sided, prefix=prefix, dir=dir)\n",
    "            end\n",
    "            i += 1\n",
    "        end\n",
    "    end\n",
    "end"
   ]
  },
  {
   "cell_type": "code",
   "execution_count": 18,
   "id": "777511b0",
   "metadata": {},
   "outputs": [
    {
     "data": {
      "text/plain": [
       "cache (generic function with 1 method)"
      ]
     },
     "execution_count": 18,
     "metadata": {},
     "output_type": "execute_result"
    }
   ],
   "source": [
    "function cache(groups, masks)\n",
    "    mean_og = mean(groups, dims=1)\n",
    "    var_og = var(groups, dims=1)\n",
    "    nshift = sum(masks, dims=1)\n",
    "    shift_sum = sum(groups .* masks, dims=1)\n",
    "    return P(mean_og, var_og, nshift, shift_sum, size(groups, 1))\n",
    "end"
   ]
  },
  {
   "cell_type": "code",
   "execution_count": 19,
   "id": "dfbb5d6e",
   "metadata": {
    "tags": []
   },
   "outputs": [
    {
     "name": "stdout",
     "output_type": "stream",
     "text": [
      "  0.009405 seconds (1.78 k allocations: 11.905 MiB)\n"
     ]
    },
    {
     "data": {
      "text/plain": [
       "(-7.9077641749761405, -4.167715332470147)"
      ]
     },
     "execution_count": 19,
     "metadata": {},
     "output_type": "execute_result"
    }
   ],
   "source": [
    "x = X[:,1,1]\n",
    "y = Y[:,1,1]\n",
    "pooled = vcat(x, y)\n",
    "xs = pooled[px]\n",
    "ys = pooled[py]\n",
    "xcache = cache(xs, addx)\n",
    "ycache = cache(ys, addy)\n",
    "\n",
    "wide, narrow = t_estimates(x, y, false)\n",
    "@time permInterval(xcache, ycache, wide, narrow, false, alpha, twoSided, twoSided, 0.005)"
   ]
  },
  {
   "cell_type": "code",
   "execution_count": null,
   "id": "f746d0ba",
   "metadata": {},
   "outputs": [],
   "source": [
    "T = Threads.nthreads()\n",
    "results = Array{Union{Tuple, Nothing}, 3}(nothing, 6, B, S)\n",
    "\n",
    "#@time Threads.@threads for (i,j) in collect(Iterators.product(1:B, 1:S)) # 15.52 sec on (B,S) = (5, 1800)\n",
    "@time @floop ThreadedEx(basesize=div(B*S, T)) for b in 1:B, s in 1:S\n",
    "    @inbounds x = X[:,s,b]\n",
    "    @inbounds y = Y[:,s,b]\n",
    "    \n",
    "#     pooled = vcat(x, y)\n",
    "#     xs = @inbounds pooled[px]\n",
    "#     ys = @inbounds pooled[py]\n",
    "#     xcache = cache(xs, addx)\n",
    "#     ycache = cache(ys, addy)\n",
    "#     wide, narrow = t_estimates(x, y, false)\n",
    " \n",
    "#     results[1, b, s] = permInterval(xcache, ycache, deltas[b], true, alpha, twoSided, twoSided, 0.0005)    \n",
    "#     results[2, b, s] = permInterval(xcache, ycache, wide, narrow, deltas[b], false, alpha, twoSided, twoSided, 0.0005)\n",
    "#     results[3, b, s] = permInterval(xcache, ycache, deltas[b], true, alpha/2, greater, smaller, 0.0005)\n",
    "#     results[4, b, s] = permInterval(xcache, ycache, wide, narrow, deltas[b], false, alpha/2, greater, smaller, 0.0005)\n",
    "    \n",
    "    #\"\"\"\n",
    "    results[5, b, s] = bootstrap(x, y, deltas[b], alpha, nsamples=10_000)\n",
    "    results[6, b, s] = tconf(x, y, deltas[b], alpha, false)\n",
    "    #\"\"\"\n",
    "end\n",
    "\n",
    "dir = \"../results/\" * string(nx) * \"_\" * string(ny) * \"/4/\"\n",
    "# save_permutation_results(results, B, S; dir=dir)\n",
    "save_ci_results(results, 5, B, S; prefix=\"bs\", dir=dir)\n",
    "save_ci_results(results, 6, B, S; prefix=\"t\", dir=dir)"
   ]
  },
  {
   "cell_type": "code",
   "execution_count": null,
   "id": "416576e9-8a12-42ae-a0cd-6091d61a4505",
   "metadata": {},
   "outputs": [
    {
     "data": {
      "text/plain": [
       "10-element Vector{Float64}:\n",
       " 0.95\n",
       " 0.98\n",
       " 0.95\n",
       " 0.94\n",
       " 0.95\n",
       " 0.93\n",
       " 0.95\n",
       " 0.92\n",
       " 0.94\n",
       " 0.97"
      ]
     },
     "execution_count": 94,
     "metadata": {},
     "output_type": "execute_result"
    }
   ],
   "source": [
    "b = 10\n",
    "s = 100\n",
    "[sum(x for (x, _) in results[4, b, 1:s]) / s for b in 1:b]"
   ]
  }
 ],
 "metadata": {
  "kernelspec": {
   "display_name": "Julia 1.7.1",
   "language": "julia",
   "name": "julia-1.7"
  },
  "language_info": {
   "file_extension": ".jl",
   "mimetype": "application/julia",
   "name": "julia",
   "version": "1.7.1"
  }
 },
 "nbformat": 4,
 "nbformat_minor": 5
}
