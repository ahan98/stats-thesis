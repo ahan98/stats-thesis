{
 "cells": [
  {
   "cell_type": "code",
   "execution_count": 83,
   "id": "5177bc1d",
   "metadata": {},
   "outputs": [
    {
     "data": {
      "text/plain": [
       "8"
      ]
     },
     "execution_count": 83,
     "metadata": {},
     "output_type": "execute_result"
    }
   ],
   "source": [
    "using Random\n",
    "using Distributions\n",
    "using FLoops\n",
    "using Base.Threads\n",
    "using BenchmarkTools\n",
    "\n",
    "include(\"data.jl\")\n",
    "include(\"util.jl\")\n",
    "\n",
    "include(\"intervals/permutation.jl\")\n",
    "include(\"intervals/bootstrap.jl\")\n",
    "include(\"intervals/t.jl\")\n",
    "\n",
    "Threads.nthreads()"
   ]
  },
  {
   "cell_type": "code",
   "execution_count": 84,
   "id": "02dba51e",
   "metadata": {},
   "outputs": [
    {
     "data": {
      "text/plain": [
       "8×5 Matrix{Int64}:\n",
       " 1  1   1   1   1\n",
       " 2  2   2   2   2\n",
       " 3  3   3   3   3\n",
       " 4  4   4   4   4\n",
       " 5  5   5   5   5\n",
       " 6  6   6   6   6\n",
       " 7  7   7   7   7\n",
       " 8  9  10  11  12"
      ]
     },
     "execution_count": 84,
     "metadata": {},
     "output_type": "execute_result"
    }
   ],
   "source": [
    "dtype = Float32\n",
    "seed = 123\n",
    "\n",
    "# DATA CONFIG\n",
    "\n",
    "alpha = 0.05\n",
    "\n",
    "# data\n",
    "B  = 100   # num. coverage probabilities per boxplot\n",
    "S  = 4300  # num. samples per coverage probability\n",
    "nx = 8   # size of group 1\n",
    "ny = 9    # size of group 2\n",
    "nperm = try\n",
    "    binomial(nx+ny, nx)\n",
    "catch OverflowError\n",
    "    Inf\n",
    "end\n",
    "    \n",
    "if nperm > 30_000\n",
    "    Random.seed!(123)\n",
    "    px, py = partition(nx, ny, 10_000)\n",
    "else\n",
    "    px, py = partition(nx, ny)\n",
    "end\n",
    "\n",
    "bits = vcat(ones(Int, nx), zeros(Int, ny))\n",
    "addx, addy = bits[px], bits[py]\n",
    "px[:, 1:5]"
   ]
  },
  {
   "cell_type": "code",
   "execution_count": 85,
   "id": "9d3281e2",
   "metadata": {},
   "outputs": [],
   "source": [
    "# POPULATION SETTINGS\n",
    "\n",
    "Random.seed!(123)\n",
    "\n",
    "distrTypeX = Normal{dtype}\n",
    "X_mu = random(Uniform(-1, 1), B)\n",
    "X_sigma = random(Uniform(0.5, 1), B)\n",
    "distrX = map(distrTypeX, X_mu, X_sigma)\n",
    "\n",
    "distrTypeY = Normal{dtype}\n",
    "Y_mu = X_mu\n",
    "Y_sigma = random(Uniform(1.5, 2), B)\n",
    "distrY = map(distrTypeY, Y_mu, Y_sigma)\n",
    ";"
   ]
  },
  {
   "cell_type": "code",
   "execution_count": 86,
   "id": "75cca7ae",
   "metadata": {},
   "outputs": [
    {
     "name": "stdout",
     "output_type": "stream",
     "text": [
      "distrX[1:2] = Normal{Float32}[Normal{Float32}(μ=0.813f0, σ=0.977f0), Normal{Float32}(μ=-0.113f0, σ=0.923f0)]\n",
      "distrY[1:2] = Normal{Float32}[Normal{Float32}(μ=0.813f0, σ=1.983f0), Normal{Float32}(μ=-0.113f0, σ=1.535f0)]\n",
      "deltas[1:2] = Float32[0.0, 0.0]\n"
     ]
    }
   ],
   "source": [
    "deltas = @. mean(distrX) - mean(distrY)\n",
    "\n",
    "@show distrX[1:2]\n",
    "@show distrY[1:2]\n",
    "@show deltas[1:2];"
   ]
  },
  {
   "cell_type": "code",
   "execution_count": 87,
   "id": "5fea7174",
   "metadata": {},
   "outputs": [
    {
     "name": "stdout",
     "output_type": "stream",
     "text": [
      "size(ys) = (100,)\n"
     ]
    },
    {
     "data": {
      "text/plain": [
       "9×4300 Matrix{Float32}:\n",
       " -0.902477    -2.04466   -1.60487   …   2.11726    1.71138     0.0402462\n",
       " -1.44411     -0.112212   0.160702     -0.98992    0.0881085   2.29172\n",
       " -0.334489    -0.082353  -1.18844       1.82412    0.176726   -0.954524\n",
       " -0.00729625   0.945658  -1.78854      -0.42551    1.36516     0.811924\n",
       " -0.159706     1.25432   -1.67344      -3.14253    3.51393     1.18724\n",
       " -1.58751      0.662799   2.92263   …  -0.167795  -0.709806   -1.54364\n",
       "  1.60311     -0.675307  -1.24478       1.62218    0.437874    1.10455\n",
       " -0.578301    -1.81976    0.460858     -3.55892    0.69047    -0.0107497\n",
       "  0.260769     2.27429    0.133193      2.03919    1.94998     0.532423"
      ]
     },
     "execution_count": 87,
     "metadata": {},
     "output_type": "execute_result"
    }
   ],
   "source": [
    "Random.seed!(123)\n",
    "xs = [dtype.(rand(distrX[i], nx, S)) for i in 1:B]\n",
    "ys = [dtype.(rand(distrY[i], ny, S)) for i in 1:B]\n",
    "@show size(ys)\n",
    "ys[2]"
   ]
  },
  {
   "cell_type": "code",
   "execution_count": 88,
   "id": "c5e4db4c",
   "metadata": {},
   "outputs": [
    {
     "data": {
      "text/plain": [
       "9×4300 Matrix{Float32}:\n",
       " -0.902477    -2.04466   -1.60487   …   2.11726    1.71138     0.0402462\n",
       " -1.44411     -0.112212   0.160702     -0.98992    0.0881085   2.29172\n",
       " -0.334489    -0.082353  -1.18844       1.82412    0.176726   -0.954524\n",
       " -0.00729625   0.945658  -1.78854      -0.42551    1.36516     0.811924\n",
       " -0.159706     1.25432   -1.67344      -3.14253    3.51393     1.18724\n",
       " -1.58751      0.662799   2.92263   …  -0.167795  -0.709806   -1.54364\n",
       "  1.60311     -0.675307  -1.24478       1.62218    0.437874    1.10455\n",
       " -0.578301    -1.81976    0.460858     -3.55892    0.69047    -0.0107497\n",
       "  0.260769     2.27429    0.133193      2.03919    1.94998     0.532423"
      ]
     },
     "execution_count": 88,
     "metadata": {},
     "output_type": "execute_result"
    }
   ],
   "source": [
    "# flatten into 3D matrix\n",
    "X = reshape(hcat(xs...), nx, S, B)\n",
    "Y = reshape(hcat(ys...), ny, S, B)\n",
    "Y[:,:,2]"
   ]
  },
  {
   "cell_type": "code",
   "execution_count": 89,
   "id": "c4b9c653",
   "metadata": {},
   "outputs": [
    {
     "data": {
      "text/plain": [
       "save_permutation_results (generic function with 1 method)"
      ]
     },
     "execution_count": 89,
     "metadata": {},
     "output_type": "execute_result"
    }
   ],
   "source": [
    "function save_ci_results(results, methodId, B, S, pooled=nothing, two_sided=nothing; prefix=\"\", dir=\"./\")\n",
    "    averages = []\n",
    "\n",
    "    for batchId in 1:B\n",
    "        batch = results[methodId, batchId, :]\n",
    "        coverage = sum([j for (j, _) in batch]) / S\n",
    "        width = sum([j for (_, j) in batch]) / S\n",
    "        push!(averages, (coverage, width))\n",
    "    end\n",
    "    if isnothing(two_sided)\n",
    "        save(averages, distrX[1:B], distrY[1:B], alpha, prefix=prefix, dir=dir)\n",
    "    else\n",
    "        alpha_ = two_sided ? alpha : alpha / 2\n",
    "        save(averages, distrX[1:B], distrY[1:B], alpha_, pooled, two_sided, prefix=prefix, dir=dir)\n",
    "    end\n",
    "end\n",
    "\n",
    "function save_permutation_results(results, B, S; prefix=\"\", dir=\"./\")\n",
    "    i = 1\n",
    "    per_method = []\n",
    "    for two_sided in [true, false]\n",
    "        for pooled in [true, false]\n",
    "            if i in [1, 3]  # use only pooled for now\n",
    "                save_ci_results(results, i, B, S, pooled, two_sided, prefix=prefix, dir=dir)\n",
    "            end\n",
    "            i += 1\n",
    "        end\n",
    "    end\n",
    "end"
   ]
  },
  {
   "cell_type": "code",
   "execution_count": 90,
   "id": "777511b0",
   "metadata": {},
   "outputs": [
    {
     "data": {
      "text/plain": [
       "cache (generic function with 1 method)"
      ]
     },
     "execution_count": 90,
     "metadata": {},
     "output_type": "execute_result"
    }
   ],
   "source": [
    "function cache(groups, masks)\n",
    "    mean_og = mean(groups, dims=1)\n",
    "    var_og = var(groups, dims=1)\n",
    "    nshift = sum(masks, dims=1)\n",
    "    shift_sum = sum(groups .* masks, dims=1)\n",
    "    return P(mean_og, var_og, nshift, shift_sum, size(groups, 1))\n",
    "end"
   ]
  },
  {
   "cell_type": "code",
   "execution_count": 93,
   "id": "dfbb5d6e",
   "metadata": {
    "tags": []
   },
   "outputs": [
    {
     "name": "stdout",
     "output_type": "stream",
     "text": [
      "  0.022711 seconds (2.01 k allocations: 31.339 MiB)\n"
     ]
    },
    {
     "data": {
      "text/plain": [
       "(-1.6869089986807981, 1.6292024871842525)"
      ]
     },
     "execution_count": 93,
     "metadata": {},
     "output_type": "execute_result"
    }
   ],
   "source": [
    "x = X[:,1,1]\n",
    "y = Y[:,1,1]\n",
    "pooled = vcat(x, y)\n",
    "xs = pooled[px]\n",
    "ys = pooled[py]\n",
    "xcache = cache(xs, addx)\n",
    "ycache = cache(ys, addy)\n",
    "\n",
    "wide, narrow = t_estimates(x, y, true)\n",
    "@time permInterval(xcache, ycache, wide, narrow, true, alpha, twoSided, twoSided, 0.005)"
   ]
  },
  {
   "cell_type": "code",
   "execution_count": null,
   "id": "f746d0ba",
   "metadata": {},
   "outputs": [],
   "source": [
    "T = Threads.nthreads()\n",
    "results = Array{Union{Tuple, Nothing}, 3}(nothing, 6, B, S)\n",
    "\n",
    "#@time Threads.@threads for (i,j) in collect(Iterators.product(1:B, 1:S)) # 15.52 sec on (B,S) = (5, 1800)\n",
    "@time @floop ThreadedEx(basesize=div(B*S, T)) for b in 1:B, s in 1:S\n",
    "    @inbounds x = X[:,s,b]\n",
    "    @inbounds y = Y[:,s,b]\n",
    "    \n",
    "#     pooled = vcat(x, y)\n",
    "#     xs = @inbounds pooled[px]\n",
    "#     ys = @inbounds pooled[py]\n",
    "#     xcache = cache(xs, addx)\n",
    "#     ycache = cache(ys, addy)\n",
    "#     wide, narrow = t_estimates(x, y, true)\n",
    " \n",
    "#     results[1, b, s] = permInterval(xcache, ycache, wide, narrow, deltas[b], true, alpha, twoSided, twoSided, 0.0005)\n",
    "#     results[2, b, s] = permInterval(xcache, ycache, wide, narrow, deltas[b], false, alpha, twoSided, twoSided, 0.0005)\n",
    "#     results[3, b, s] = permInterval(xcache, ycache, wide, narrow, deltas[b], true, alpha/2, greater, smaller, 0.0005)\n",
    "#     results[4, b, s] = permInterval(xcache, ycache, wide, narrow, deltas[b], false, alpha/2, greater, smaller, 0.0005)\n",
    "    \n",
    "    #\"\"\"\n",
    "    results[5, b, s] = bootstrap(x, y, deltas[b], alpha, nsamples=10_000)\n",
    "    results[6, b, s] = tconf(x, y, deltas[b], alpha, false)\n",
    "    #\"\"\"\n",
    "end\n",
    "\n",
    "dir = \"../results/\" * string(nx) * \"_\" * string(ny) * \"/2/\"\n",
    "# save_permutation_results(results, B, S; dir=dir)\n",
    "save_ci_results(results, 5, B, S; prefix=\"bs\", dir=dir)\n",
    "save_ci_results(results, 6, B, S; prefix=\"t\", dir=dir)"
   ]
  },
  {
   "cell_type": "code",
   "execution_count": null,
   "id": "416576e9-8a12-42ae-a0cd-6091d61a4505",
   "metadata": {},
   "outputs": [
    {
     "data": {
      "text/plain": [
       "10-element Vector{Float64}:\n",
       " 0.95\n",
       " 0.98\n",
       " 0.95\n",
       " 0.94\n",
       " 0.95\n",
       " 0.93\n",
       " 0.95\n",
       " 0.92\n",
       " 0.94\n",
       " 0.97"
      ]
     },
     "execution_count": 94,
     "metadata": {},
     "output_type": "execute_result"
    }
   ],
   "source": [
    "b = 10\n",
    "s = 100\n",
    "[sum(x for (x, _) in results[4, b, 1:s]) / s for b in 1:b]"
   ]
  }
 ],
 "metadata": {
  "kernelspec": {
   "display_name": "Julia 1.7.1",
   "language": "julia",
   "name": "julia-1.7"
  },
  "language_info": {
   "file_extension": ".jl",
   "mimetype": "application/julia",
   "name": "julia",
   "version": "1.7.1"
  }
 },
 "nbformat": 4,
 "nbformat_minor": 5
}
