{
 "cells": [
  {
   "cell_type": "code",
   "execution_count": 1,
   "id": "5177bc1d",
   "metadata": {},
   "outputs": [
    {
     "data": {
      "text/plain": [
       "8"
      ]
     },
     "execution_count": 1,
     "metadata": {},
     "output_type": "execute_result"
    }
   ],
   "source": [
    "using Random\n",
    "using Distributions\n",
    "using FLoops\n",
    "using Base.Threads\n",
    "using BenchmarkTools\n",
    "\n",
    "include(\"data.jl\")\n",
    "include(\"util.jl\")\n",
    "\n",
    "include(\"intervals/permutation.jl\")\n",
    "include(\"intervals/bootstrap.jl\")\n",
    "include(\"intervals/t.jl\")\n",
    "\n",
    "Threads.nthreads()"
   ]
  },
  {
   "cell_type": "code",
   "execution_count": 21,
   "id": "02dba51e",
   "metadata": {},
   "outputs": [
    {
     "data": {
      "text/plain": [
       "8×5 Matrix{Int64}:\n",
       " 1  1   1   1   1\n",
       " 2  2   2   2   2\n",
       " 3  3   3   3   3\n",
       " 4  4   4   4   4\n",
       " 5  5   5   5   5\n",
       " 6  6   6   6   6\n",
       " 7  7   7   7   7\n",
       " 8  9  10  11  12"
      ]
     },
     "execution_count": 21,
     "metadata": {},
     "output_type": "execute_result"
    }
   ],
   "source": [
    "dtype = Float32\n",
    "seed = 123\n",
    "\n",
    "# DATA CONFIG\n",
    "\n",
    "alpha = 0.05\n",
    "\n",
    "# data\n",
    "B  = 100   # num. coverage probabilities per boxplot\n",
    "S  = 4300  # num. samples per coverage probability\n",
    "nx = 8   # size of group 1\n",
    "ny = 9    # size of group 2\n",
    "nperm = try\n",
    "    binomial(nx+ny, nx)\n",
    "catch OverflowError\n",
    "    Inf\n",
    "end\n",
    "    \n",
    "if nperm > 30_000\n",
    "    Random.seed!(123)\n",
    "    px, py = partition(nx, ny, 10_000)\n",
    "else\n",
    "    px, py = partition(nx, ny)\n",
    "end\n",
    "\n",
    "bits = vcat(ones(Int, nx), zeros(Int, ny))\n",
    "addx, addy = bits[px], bits[py]\n",
    "px[:, 1:5]"
   ]
  },
  {
   "cell_type": "code",
   "execution_count": 22,
   "id": "9d3281e2",
   "metadata": {},
   "outputs": [],
   "source": [
    "# POPULATION SETTINGS\n",
    "\n",
    "Random.seed!(123)\n",
    "\n",
    "distrTypeX = Laplace{dtype}\n",
    "X_mu = random(Uniform(0, 1), B)\n",
    "X_sigma = random(Uniform(2, 4), B)\n",
    "distrX = map(distrTypeX, X_mu, X_sigma)\n",
    "\n",
    "distrTypeY = Laplace{dtype}\n",
    "Y_mu = X_mu .+ random(Uniform(-5, 5), B)\n",
    "Y_sigma = X_sigma\n",
    "distrY = map(distrTypeY, Y_mu, Y_sigma)\n",
    ";"
   ]
  },
  {
   "cell_type": "code",
   "execution_count": 23,
   "id": "75cca7ae",
   "metadata": {},
   "outputs": [
    {
     "name": "stdout",
     "output_type": "stream",
     "text": [
      "distrX[1:2] = Laplace{Float32}[Laplace{Float32}(μ=0.906f0, θ=3.908f0), Laplace{Float32}(μ=0.443f0, θ=3.692f0)]\n",
      "distrY[1:2] = Laplace{Float32}[Laplace{Float32}(μ=5.556f0, θ=3.908f0), Laplace{Float32}(μ=-3.8500001f0, θ=3.692f0)]\n",
      "deltas[1:2] = Float32[-4.65, 4.293]\n"
     ]
    }
   ],
   "source": [
    "deltas = @. mean(distrX) - mean(distrY)\n",
    "\n",
    "@show distrX[1:2]\n",
    "@show distrY[1:2]\n",
    "@show deltas[1:2];"
   ]
  },
  {
   "cell_type": "code",
   "execution_count": 24,
   "id": "5fea7174",
   "metadata": {},
   "outputs": [
    {
     "name": "stdout",
     "output_type": "stream",
     "text": [
      "size(ys) = (100,)\n"
     ]
    },
    {
     "data": {
      "text/plain": [
       "9×4300 Matrix{Float32}:\n",
       "  1.21238   -12.0656    -5.72501   …  -3.54165  -2.86373   -3.68552\n",
       " -4.94164   -13.4604    -7.78351      -5.8675   -3.98819   -9.06254\n",
       " -1.21379    -3.74062   -3.03806      -7.25893  -3.16679   -5.64835\n",
       " -2.43914     1.42707   -4.50381      -3.06727  -4.6536    -3.30118\n",
       "  1.13805     0.859749  -1.74957       3.21269  -6.97413   -5.29728\n",
       " -2.06508    -1.35375    0.841032  …  -4.97212  -4.14999   -1.05894\n",
       "  0.891501   -6.42806   -0.44811      -1.40522  -3.59966  -28.5312\n",
       " -4.14019    -7.35408   -5.63809      -4.13824  -2.57561    4.7373\n",
       "  1.71894    16.3879    -4.05828      -3.65615  -9.83951   -4.64191"
      ]
     },
     "execution_count": 24,
     "metadata": {},
     "output_type": "execute_result"
    }
   ],
   "source": [
    "Random.seed!(123)\n",
    "xs = [dtype.(rand(distrX[i], nx, S)) for i in 1:B]\n",
    "ys = [dtype.(rand(distrY[i], ny, S)) for i in 1:B]\n",
    "@show size(ys)\n",
    "ys[2]"
   ]
  },
  {
   "cell_type": "code",
   "execution_count": 25,
   "id": "c5e4db4c",
   "metadata": {},
   "outputs": [
    {
     "data": {
      "text/plain": [
       "9×4300 Matrix{Float32}:\n",
       "  1.21238   -12.0656    -5.72501   …  -3.54165  -2.86373   -3.68552\n",
       " -4.94164   -13.4604    -7.78351      -5.8675   -3.98819   -9.06254\n",
       " -1.21379    -3.74062   -3.03806      -7.25893  -3.16679   -5.64835\n",
       " -2.43914     1.42707   -4.50381      -3.06727  -4.6536    -3.30118\n",
       "  1.13805     0.859749  -1.74957       3.21269  -6.97413   -5.29728\n",
       " -2.06508    -1.35375    0.841032  …  -4.97212  -4.14999   -1.05894\n",
       "  0.891501   -6.42806   -0.44811      -1.40522  -3.59966  -28.5312\n",
       " -4.14019    -7.35408   -5.63809      -4.13824  -2.57561    4.7373\n",
       "  1.71894    16.3879    -4.05828      -3.65615  -9.83951   -4.64191"
      ]
     },
     "execution_count": 25,
     "metadata": {},
     "output_type": "execute_result"
    }
   ],
   "source": [
    "# flatten into 3D matrix\n",
    "X = reshape(hcat(xs...), nx, S, B)\n",
    "Y = reshape(hcat(ys...), ny, S, B)\n",
    "Y[:,:,2]"
   ]
  },
  {
   "cell_type": "code",
   "execution_count": 27,
   "id": "c4b9c653",
   "metadata": {},
   "outputs": [
    {
     "data": {
      "text/plain": [
       "save_permutation_results (generic function with 1 method)"
      ]
     },
     "execution_count": 27,
     "metadata": {},
     "output_type": "execute_result"
    }
   ],
   "source": [
    "function save_ci_results(results, methodId, B, S, pooled=nothing, two_sided=nothing; prefix=\"\", dir=\"./\")\n",
    "    averages = []\n",
    "\n",
    "    for batchId in 1:B\n",
    "        batch = results[methodId, batchId, :]\n",
    "        coverage = sum([j for (j, _) in batch]) / S\n",
    "        width = sum([j for (_, j) in batch]) / S\n",
    "        push!(averages, (coverage, width))\n",
    "    end\n",
    "    if isnothing(two_sided)\n",
    "        save(averages, distrX[1:B], distrY[1:B], alpha, prefix=prefix, dir=dir)\n",
    "    else\n",
    "        alpha_ = two_sided ? alpha : alpha / 2\n",
    "        save(averages, distrX[1:B], distrY[1:B], alpha_, pooled, two_sided, prefix=prefix, dir=dir)\n",
    "    end\n",
    "end\n",
    "\n",
    "function save_permutation_results(results, B, S; prefix=\"\", dir=\"./\")\n",
    "    i = 1\n",
    "    per_method = []\n",
    "    for two_sided in [true, false]\n",
    "        for pooled in [true, false]\n",
    "            if i in [2, 4]  # use only unpooled for now\n",
    "                save_ci_results(results, i, B, S, pooled, two_sided, prefix=prefix, dir=dir)\n",
    "            end\n",
    "            i += 1\n",
    "        end\n",
    "    end\n",
    "end"
   ]
  },
  {
   "cell_type": "code",
   "execution_count": 28,
   "id": "777511b0",
   "metadata": {},
   "outputs": [
    {
     "data": {
      "text/plain": [
       "cache (generic function with 1 method)"
      ]
     },
     "execution_count": 28,
     "metadata": {},
     "output_type": "execute_result"
    }
   ],
   "source": [
    "function cache(groups, masks)\n",
    "    mean_og = mean(groups, dims=1)\n",
    "    var_og = var(groups, dims=1)\n",
    "    nshift = sum(masks, dims=1)\n",
    "    shift_sum = sum(groups .* masks, dims=1)\n",
    "    return P(mean_og, var_og, nshift, shift_sum, size(groups, 1))\n",
    "end"
   ]
  },
  {
   "cell_type": "code",
   "execution_count": 30,
   "id": "dfbb5d6e",
   "metadata": {
    "tags": []
   },
   "outputs": [
    {
     "name": "stdout",
     "output_type": "stream",
     "text": [
      "  0.022929 seconds (1.91 k allocations: 30.788 MiB)\n"
     ]
    },
    {
     "data": {
      "text/plain": [
       "(-6.576183463748455, 7.559701057227282)"
      ]
     },
     "execution_count": 30,
     "metadata": {},
     "output_type": "execute_result"
    }
   ],
   "source": [
    "x = X[:,1,1]\n",
    "y = Y[:,1,1]\n",
    "pooled = vcat(x, y)\n",
    "xs = pooled[px]\n",
    "ys = pooled[py]\n",
    "xcache = cache(xs, addx)\n",
    "ycache = cache(ys, addy)\n",
    "\n",
    "wide, narrow = t_estimates(x, y, false)\n",
    "@time permInterval(xcache, ycache, wide, narrow, false, alpha, twoSided, twoSided, 0.005)"
   ]
  },
  {
   "cell_type": "code",
   "execution_count": 32,
   "id": "f746d0ba",
   "metadata": {},
   "outputs": [
    {
     "name": "stdout",
     "output_type": "stream",
     "text": [
      "432.660652 seconds (8.63 G allocations: 803.014 GiB, 21.69% gc time, 0.03% compilation time)\n",
      "dir * filename = \"../results/8_9/4/bs_0.05.csv\"\n",
      "dir * filename = \"../results/8_9/4/t_0.05.csv\"\n"
     ]
    },
    {
     "data": {
      "text/plain": [
       "\"../results/8_9/4/t_0.05.csv\""
      ]
     },
     "execution_count": 32,
     "metadata": {},
     "output_type": "execute_result"
    }
   ],
   "source": [
    "T = Threads.nthreads()\n",
    "results = Array{Union{Tuple, Nothing}, 3}(nothing, 6, B, S)\n",
    "\n",
    "#@time Threads.@threads for (i,j) in collect(Iterators.product(1:B, 1:S)) # 15.52 sec on (B,S) = (5, 1800)\n",
    "@time @floop ThreadedEx(basesize=div(B*S, T)) for b in 1:B, s in 1:S\n",
    "    @inbounds x = X[:,s,b]\n",
    "    @inbounds y = Y[:,s,b]\n",
    "    \n",
    "#     pooled = vcat(x, y)\n",
    "#     xs = @inbounds pooled[px]\n",
    "#     ys = @inbounds pooled[py]\n",
    "#     xcache = cache(xs, addx)\n",
    "#     ycache = cache(ys, addy)\n",
    "#     wide, narrow = t_estimates(x, y, false)\n",
    " \n",
    "#     results[1, b, s] = permInterval(xcache, ycache, deltas[b], true, alpha, twoSided, twoSided, 0.0005)    \n",
    "#     results[2, b, s] = permInterval(xcache, ycache, wide, narrow, deltas[b], false, alpha, twoSided, twoSided, 0.0005)\n",
    "#     results[3, b, s] = permInterval(xcache, ycache, deltas[b], true, alpha/2, greater, smaller, 0.0005)\n",
    "#     results[4, b, s] = permInterval(xcache, ycache, wide, narrow, deltas[b], false, alpha/2, greater, smaller, 0.0005)\n",
    "    \n",
    "    #\"\"\"\n",
    "    results[5, b, s] = bootstrap(x, y, deltas[b], alpha, nsamples=10_000)\n",
    "    results[6, b, s] = tconf(x, y, deltas[b], alpha, false)\n",
    "    #\"\"\"\n",
    "end\n",
    "\n",
    "dir = \"../results/\" * string(nx) * \"_\" * string(ny) * \"/4/\"\n",
    "# save_permutation_results(results, B, S; dir=dir)\n",
    "save_ci_results(results, 5, B, S; prefix=\"bs\", dir=dir)\n",
    "save_ci_results(results, 6, B, S; prefix=\"t\", dir=dir)"
   ]
  },
  {
   "cell_type": "code",
   "execution_count": null,
   "id": "416576e9-8a12-42ae-a0cd-6091d61a4505",
   "metadata": {},
   "outputs": [
    {
     "data": {
      "text/plain": [
       "10-element Vector{Float64}:\n",
       " 0.95\n",
       " 0.98\n",
       " 0.95\n",
       " 0.94\n",
       " 0.95\n",
       " 0.93\n",
       " 0.95\n",
       " 0.92\n",
       " 0.94\n",
       " 0.97"
      ]
     },
     "execution_count": 94,
     "metadata": {},
     "output_type": "execute_result"
    }
   ],
   "source": [
    "b = 10\n",
    "s = 100\n",
    "[sum(x for (x, _) in results[4, b, 1:s]) / s for b in 1:b]"
   ]
  }
 ],
 "metadata": {
  "kernelspec": {
   "display_name": "Julia 1.7.1",
   "language": "julia",
   "name": "julia-1.7"
  },
  "language_info": {
   "file_extension": ".jl",
   "mimetype": "application/julia",
   "name": "julia",
   "version": "1.7.1"
  }
 },
 "nbformat": 4,
 "nbformat_minor": 5
}
