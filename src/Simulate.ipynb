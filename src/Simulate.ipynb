{
 "cells": [
  {
   "cell_type": "code",
   "execution_count": 11,
   "id": "cced024d",
   "metadata": {},
   "outputs": [
    {
     "data": {
      "text/plain": [
       "112"
      ]
     },
     "execution_count": 11,
     "metadata": {},
     "output_type": "execute_result"
    }
   ],
   "source": [
    "using Random\n",
    "using Distributions\n",
    "using FLoops\n",
    "using Base.Threads\n",
    "using BenchmarkTools\n",
    "\n",
    "include(\"data.jl\")\n",
    "include(\"util.jl\")\n",
    "\n",
    "include(\"intervals/permutation.jl\")\n",
    "include(\"intervals/bootstrap.jl\")\n",
    "include(\"intervals/t.jl\")\n",
    "\n",
    "Threads.nthreads()"
   ]
  },
  {
   "cell_type": "code",
   "execution_count": 12,
   "id": "a6a53e72",
   "metadata": {},
   "outputs": [
    {
     "data": {
      "text/plain": [
       "([1 1 … 5 6; 2 2 … 7 7; … ; 14 14 … 19 19; 15 16 … 20 20], [20 20 … 6 5; 19 19 … 4 4; … ; 17 17 … 2 2; 16 15 … 1 1])"
      ]
     },
     "execution_count": 12,
     "metadata": {},
     "output_type": "execute_result"
    }
   ],
   "source": [
    "dtype = Float32\n",
    "seed = 123\n",
    "\n",
    "# DATA CONFIG\n",
    "\n",
    "alpha = 0.05\n",
    "\n",
    "# data\n",
    "B  = 100   # num. coverage probabilities per boxplot\n",
    "S  = 4300  # num. samples per coverage probability\n",
    "nx = 15   # size of group 1\n",
    "ny = 5    # size of group 2\n",
    "MC = 10_000\n",
    "perms = nothing\n",
    "if binomial(nx + ny, nx) < 30_000\n",
    "    perms = partition(nx, ny)\n",
    "end"
   ]
  },
  {
   "cell_type": "code",
   "execution_count": 13,
   "id": "0f6b269f",
   "metadata": {},
   "outputs": [],
   "source": [
    "# POPULATION SETTINGS\n",
    "\n",
    "Random.seed!(123)\n",
    "\n",
    "distrTypeX = LogNormal{dtype}\n",
    "X_mu = random(Uniform(0, 1), B)\n",
    "X_sigma = random(Uniform(0, 0.6), B)\n",
    "distrX = map(distrTypeX, X_mu, X_sigma)\n",
    "\n",
    "distrTypeY = Gamma{dtype}\n",
    "Y_shape = @. 1 / (exp(X_sigma^2) - 1)\n",
    "Y_scale = @. exp(X_mu + X_sigma^2 / 2) / Y_shape\n",
    "distrY = map(distrTypeY, Y_shape, Y_scale);"
   ]
  },
  {
   "cell_type": "code",
   "execution_count": 14,
   "id": "563023b8",
   "metadata": {},
   "outputs": [
    {
     "name": "stdout",
     "output_type": "stream",
     "text": [
      "distrX[1:2] = LogNormal{Float32}[LogNormal{Float32}(μ=0.906f0, σ=0.572f0), LogNormal{Float32}(μ=0.443f0, σ=0.508f0)]\n",
      "distrY[1:2] = Gamma{Float32}[Gamma{Float32}(α=2.5836008f0, θ=1.1279569f0), Gamma{Float32}(α=3.3964891f0, θ=0.5216751f0)]\n",
      "deltas[1:2] = Float32[0.0, 0.0]\n"
     ]
    }
   ],
   "source": [
    "deltas = @. mean(distrX) - mean(distrY)\n",
    "\n",
    "@show distrX[1:2]\n",
    "@show distrY[1:2]\n",
    "@show deltas[1:2];"
   ]
  },
  {
   "cell_type": "code",
   "execution_count": 15,
   "id": "23eb5a21",
   "metadata": {},
   "outputs": [
    {
     "name": "stdout",
     "output_type": "stream",
     "text": [
      "size(ys) = (100,)\n"
     ]
    },
    {
     "data": {
      "text/plain": [
       "5×4300 Matrix{Float32}:\n",
       " 2.44324   1.97657  0.592417  2.05831   …  1.18617  3.5021    2.1959\n",
       " 0.839079  1.62085  1.83155   5.96646      2.88642  0.992534  3.4971\n",
       " 2.03561   2.59261  0.586244  1.59166      1.03209  1.47581   1.6656\n",
       " 0.492746  1.22292  0.686977  0.636792     3.4526   1.5387    1.89366\n",
       " 1.13457   1.35263  1.28554   1.11607      1.4801   3.98515   2.90282"
      ]
     },
     "execution_count": 15,
     "metadata": {},
     "output_type": "execute_result"
    }
   ],
   "source": [
    "Random.seed!(123)\n",
    "xs = [dtype.(rand(distrX[i], nx, S)) for i in 1:B]\n",
    "ys = [dtype.(rand(distrY[i], ny, S)) for i in 1:B]\n",
    "@show size(ys)\n",
    "ys[2]"
   ]
  },
  {
   "cell_type": "code",
   "execution_count": 16,
   "id": "9ba64371",
   "metadata": {},
   "outputs": [
    {
     "data": {
      "text/plain": [
       "5×4300 Matrix{Float32}:\n",
       " 2.44324   1.97657  0.592417  2.05831   …  1.18617  3.5021    2.1959\n",
       " 0.839079  1.62085  1.83155   5.96646      2.88642  0.992534  3.4971\n",
       " 2.03561   2.59261  0.586244  1.59166      1.03209  1.47581   1.6656\n",
       " 0.492746  1.22292  0.686977  0.636792     3.4526   1.5387    1.89366\n",
       " 1.13457   1.35263  1.28554   1.11607      1.4801   3.98515   2.90282"
      ]
     },
     "execution_count": 16,
     "metadata": {},
     "output_type": "execute_result"
    }
   ],
   "source": [
    "# flatten into 3D matrix\n",
    "X = reshape(hcat(xs...), nx, S, B)\n",
    "Y = reshape(hcat(ys...), ny, S, B)\n",
    "Y[:,:,2]"
   ]
  },
  {
   "cell_type": "code",
   "execution_count": 17,
   "id": "fa6c5d11",
   "metadata": {},
   "outputs": [
    {
     "data": {
      "text/plain": [
       "save_permutation_results (generic function with 1 method)"
      ]
     },
     "execution_count": 17,
     "metadata": {},
     "output_type": "execute_result"
    }
   ],
   "source": [
    "function save_ci_results(results, methodId, B, S, pooled=nothing, two_sided=nothing; prefix=\"\", dir=\"./\")\n",
    "    averages = []\n",
    "\n",
    "    for batchId in 1:B\n",
    "        batch = results[methodId, batchId, :]\n",
    "        coverage = sum([j for (j, _) in batch]) / S\n",
    "        width = sum([j for (_, j) in batch]) / S\n",
    "        push!(averages, (coverage, width))\n",
    "    end\n",
    "    if isnothing(two_sided)\n",
    "        save(averages, distrX[1:B], distrY[1:B], alpha, prefix=prefix, dir=dir)\n",
    "    else\n",
    "        alpha_ = two_sided ? alpha : alpha / 2\n",
    "        save(averages, distrX[1:B], distrY[1:B], alpha_, pooled, two_sided, prefix=prefix, dir=dir)\n",
    "    end\n",
    "end\n",
    "\n",
    "function save_permutation_results(results, B, S; prefix=\"\", dir=\"./\")\n",
    "    i = 1\n",
    "    per_method = []\n",
    "    for two_sided in [true, false]\n",
    "        for pooled in [true, false]\n",
    "            save_ci_results(results, i, B, S, pooled, two_sided, prefix=prefix, dir=dir)\n",
    "            i += 1\n",
    "        end\n",
    "    end\n",
    "end"
   ]
  },
  {
   "cell_type": "code",
   "execution_count": 18,
   "id": "9c29d083",
   "metadata": {},
   "outputs": [
    {
     "name": "stdout",
     "output_type": "stream",
     "text": [
      "1357.115033 seconds (3.39 G allocations: 50.887 TiB, 50.06% gc time, 0.51% compilation time)\n",
      "dir * filename = \"../results/15_5/1/twoSided_pooled_0.05.csv\"\n",
      "dir * filename = \"../results/15_5/1/twoSided_unpooled_0.05.csv\"\n",
      "dir * filename = \"../results/15_5/1/oneSided_pooled_0.025.csv\"\n",
      "dir * filename = \"../results/15_5/1/oneSided_unpooled_0.025.csv\"\n"
     ]
    }
   ],
   "source": [
    "T = Threads.nthreads()\n",
    "results = Array{Union{Nothing, Tuple}, 3}(undef, 6, B, S)\n",
    "fill!(results, nothing)\n",
    "\n",
    "#@time Threads.@threads for (i,j) in collect(Iterators.product(1:B, 1:S)) # 15.52 sec on (B,S) = (5, 1800)\n",
    "@time @floop ThreadedEx(basesize=div(B*S, T)) for b in 1:B, s in 1:S\n",
    "    @inbounds x = X[:,s,b]\n",
    "    @inbounds y = Y[:,s,b]\n",
    " \n",
    "    results[1, b, s] = permInterval(x, y, deltas[b], perms, true, alpha, twoSided, twoSided, 0.0005)    \n",
    "    results[2, b, s] = permInterval(x, y, deltas[b], perms, false, alpha, twoSided, twoSided, 0.0005)\n",
    "    results[3, b, s] = permInterval(x, y, deltas[b], perms, true, alpha/2, greater, smaller, 0.0005)\n",
    "    results[4, b, s] = permInterval(x, y, deltas[b], perms, false, alpha/2, greater, smaller, 0.0005)\n",
    "    \n",
    "    \"\"\"\n",
    "    results[5, b, s] = bootstrap(x, y, deltas[b], alpha, nsamples=10_000)\n",
    "    results[6, b, s] = tconf(x, y, deltas[b], alpha, false)\n",
    "    \"\"\"\n",
    "end\n",
    "\n",
    "dir = \"../results/\" * string(nx) * \"_\" * string(ny) * \"/1/\"\n",
    "save_permutation_results(results, B, S; dir=dir)\n",
    "#save_ci_results(results, 6, B, S; prefix=\"bs\", dir=dir)"
   ]
  }
 ],
 "metadata": {
  "kernelspec": {
   "display_name": "Julia_112 1.7.1",
   "language": "julia",
   "name": "julia_112-1.7"
  },
  "language_info": {
   "file_extension": ".jl",
   "mimetype": "application/julia",
   "name": "julia",
   "version": "1.7.1"
  }
 },
 "nbformat": 4,
 "nbformat_minor": 5
}
