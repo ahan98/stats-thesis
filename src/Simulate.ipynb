{
 "cells": [
  {
   "cell_type": "code",
   "execution_count": 16,
   "id": "5177bc1d",
   "metadata": {},
   "outputs": [
    {
     "data": {
      "text/plain": [
       "112"
      ]
     },
     "execution_count": 16,
     "metadata": {},
     "output_type": "execute_result"
    }
   ],
   "source": [
    "using Random\n",
    "using Distributions\n",
    "using FLoops\n",
    "using Base.Threads\n",
    "using BenchmarkTools\n",
    "\n",
    "include(\"data.jl\")\n",
    "include(\"util.jl\")\n",
    "\n",
    "include(\"intervals/permutation.jl\")\n",
    "include(\"intervals/bootstrap.jl\")\n",
    "include(\"intervals/t.jl\")\n",
    "\n",
    "Threads.nthreads()"
   ]
  },
  {
   "cell_type": "code",
   "execution_count": 17,
   "id": "02dba51e",
   "metadata": {},
   "outputs": [
    {
     "data": {
      "text/plain": [
       "([1 0 … 0 1; 1 1 … 0 1; … ; 1 1 … 1 1; 1 1 … 1 1], [0 1 … 0 0; 0 1 … 0 1; … ; 0 1 … 0 1; 0 0 … 0 1])"
      ]
     },
     "execution_count": 17,
     "metadata": {},
     "output_type": "execute_result"
    }
   ],
   "source": [
    "dtype = Float32\n",
    "seed = 123\n",
    "\n",
    "# DATA CONFIG\n",
    "\n",
    "alpha = 0.05\n",
    "\n",
    "# data\n",
    "B  = 100   # num. coverage probabilities per boxplot\n",
    "S  = 4300  # num. samples per coverage probability\n",
    "nx = 200   # size of group 1\n",
    "ny = 100    # size of group 2\n",
    "nperm = try\n",
    "    binomial(nx+ny, nx)\n",
    "catch OverflowError\n",
    "    Inf\n",
    "end\n",
    "    \n",
    "if nperm > 30_000\n",
    "    px, py = partition(nx, ny, 10_000)\n",
    "else\n",
    "    px, py = partition(nx, ny)\n",
    "end\n",
    "\n",
    "bits = vcat(ones(Int, nx), zeros(Int, ny))\n",
    "addx, addy = bits[px], bits[py]"
   ]
  },
  {
   "cell_type": "code",
   "execution_count": 18,
   "id": "9d3281e2",
   "metadata": {},
   "outputs": [],
   "source": [
    "# POPULATION SETTINGS\n",
    "\n",
    "Random.seed!(123)\n",
    "\n",
    "distrTypeX = LogNormal{dtype}\n",
    "X_mu = random(Uniform(0, 1), B)\n",
    "X_sigma = random(Uniform(0, 0.6), B)\n",
    "distrX = map(distrTypeX, X_mu, X_sigma)\n",
    "\n",
    "distrTypeY = Gamma{dtype}\n",
    "Y_shape = @. 1 / (exp(X_sigma^2) - 1)\n",
    "Y_scale = @. exp(X_mu + X_sigma^2 / 2) / Y_shape\n",
    "distrY = map(distrTypeY, Y_shape, Y_scale)\n",
    ";"
   ]
  },
  {
   "cell_type": "code",
   "execution_count": 19,
   "id": "75cca7ae",
   "metadata": {},
   "outputs": [
    {
     "name": "stdout",
     "output_type": "stream",
     "text": [
      "distrX[1:2] = LogNormal{Float32}[LogNormal{Float32}(μ=0.906f0, σ=0.572f0), LogNormal{Float32}(μ=0.443f0, σ=0.508f0)]\n",
      "distrY[1:2] = Gamma{Float32}[Gamma{Float32}(α=2.5836008f0, θ=1.1279569f0), Gamma{Float32}(α=3.3964891f0, θ=0.5216751f0)]\n",
      "deltas[1:2] = Float32[0.0, 0.0]\n"
     ]
    }
   ],
   "source": [
    "deltas = @. mean(distrX) - mean(distrY)\n",
    "\n",
    "@show distrX[1:2]\n",
    "@show distrY[1:2]\n",
    "@show deltas[1:2];"
   ]
  },
  {
   "cell_type": "code",
   "execution_count": 20,
   "id": "5fea7174",
   "metadata": {},
   "outputs": [
    {
     "name": "stdout",
     "output_type": "stream",
     "text": [
      "size(ys) = (100,)\n"
     ]
    },
    {
     "data": {
      "text/plain": [
       "100×4300 Matrix{Float32}:\n",
       " 0.938853  1.00503   3.40909   1.0114    …  1.09361   1.27738   1.34061\n",
       " 1.26308   1.71532   1.74553   2.44234      1.70738   1.46919   1.12799\n",
       " 4.0256    2.48289   2.49671   2.18975      0.886978  1.2627    0.764371\n",
       " 1.00635   0.282019  2.07133   1.60065      1.27084   2.55679   1.49512\n",
       " 1.36648   2.65669   0.983595  1.67379      1.96715   1.91593   1.81058\n",
       " 3.71419   2.5243    2.02421   1.93055   …  2.02448   1.30205   0.90291\n",
       " 0.99162   1.3175    0.969833  2.30885      1.48678   1.1413    0.729581\n",
       " 1.30761   1.89309   1.35754   0.351206     1.05594   1.91375   2.20303\n",
       " 3.43932   1.2984    1.49306   2.02629      1.588     0.44524   2.25513\n",
       " 1.89935   1.86558   2.72272   3.50044      1.27078   1.33801   0.689221\n",
       " 1.0599    0.277075  2.2834    5.51918   …  2.95257   1.35119   1.61859\n",
       " 2.5917    1.37948   3.58566   2.60645      1.9195    1.93142   1.72451\n",
       " 0.495102  1.76342   1.25715   0.616498     3.14038   2.03003   1.84618\n",
       " ⋮                                       ⋱                      \n",
       " 0.467664  1.43221   0.917246  1.10984      0.794848  2.88104   0.531011\n",
       " 0.937827  1.29741   0.85477   1.31526      2.77382   1.66531   1.77517\n",
       " 2.98075   0.898926  1.19516   0.740863  …  0.735186  0.440854  1.58514\n",
       " 1.53463   0.431991  1.13237   1.07753      3.63438   1.78566   1.84108\n",
       " 0.741893  0.863232  2.88038   3.8434       1.61008   2.50454   1.36184\n",
       " 0.901835  1.67424   1.5433    1.82462      2.42854   0.577243  2.05294\n",
       " 3.62457   2.81661   2.9645    1.69997      1.79251   1.2817    1.5\n",
       " 0.916916  0.885211  2.76434   4.47311   …  0.818376  1.03266   1.65422\n",
       " 1.99825   3.86989   1.5212    0.697945     1.46557   0.828192  3.27652\n",
       " 1.91486   0.813653  2.59858   1.54661      0.752493  0.986932  1.99475\n",
       " 1.17019   1.39912   0.933484  1.67159      1.29697   0.598112  1.83362\n",
       " 1.07632   1.15326   1.6849    1.86776      0.908064  0.543163  0.895637"
      ]
     },
     "execution_count": 20,
     "metadata": {},
     "output_type": "execute_result"
    }
   ],
   "source": [
    "Random.seed!(123)\n",
    "xs = [dtype.(rand(distrX[i], nx, S)) for i in 1:B]\n",
    "ys = [dtype.(rand(distrY[i], ny, S)) for i in 1:B]\n",
    "@show size(ys)\n",
    "ys[2]"
   ]
  },
  {
   "cell_type": "code",
   "execution_count": 21,
   "id": "c5e4db4c",
   "metadata": {},
   "outputs": [
    {
     "data": {
      "text/plain": [
       "100×4300 Matrix{Float32}:\n",
       " 0.938853  1.00503   3.40909   1.0114    …  1.09361   1.27738   1.34061\n",
       " 1.26308   1.71532   1.74553   2.44234      1.70738   1.46919   1.12799\n",
       " 4.0256    2.48289   2.49671   2.18975      0.886978  1.2627    0.764371\n",
       " 1.00635   0.282019  2.07133   1.60065      1.27084   2.55679   1.49512\n",
       " 1.36648   2.65669   0.983595  1.67379      1.96715   1.91593   1.81058\n",
       " 3.71419   2.5243    2.02421   1.93055   …  2.02448   1.30205   0.90291\n",
       " 0.99162   1.3175    0.969833  2.30885      1.48678   1.1413    0.729581\n",
       " 1.30761   1.89309   1.35754   0.351206     1.05594   1.91375   2.20303\n",
       " 3.43932   1.2984    1.49306   2.02629      1.588     0.44524   2.25513\n",
       " 1.89935   1.86558   2.72272   3.50044      1.27078   1.33801   0.689221\n",
       " 1.0599    0.277075  2.2834    5.51918   …  2.95257   1.35119   1.61859\n",
       " 2.5917    1.37948   3.58566   2.60645      1.9195    1.93142   1.72451\n",
       " 0.495102  1.76342   1.25715   0.616498     3.14038   2.03003   1.84618\n",
       " ⋮                                       ⋱                      \n",
       " 0.467664  1.43221   0.917246  1.10984      0.794848  2.88104   0.531011\n",
       " 0.937827  1.29741   0.85477   1.31526      2.77382   1.66531   1.77517\n",
       " 2.98075   0.898926  1.19516   0.740863  …  0.735186  0.440854  1.58514\n",
       " 1.53463   0.431991  1.13237   1.07753      3.63438   1.78566   1.84108\n",
       " 0.741893  0.863232  2.88038   3.8434       1.61008   2.50454   1.36184\n",
       " 0.901835  1.67424   1.5433    1.82462      2.42854   0.577243  2.05294\n",
       " 3.62457   2.81661   2.9645    1.69997      1.79251   1.2817    1.5\n",
       " 0.916916  0.885211  2.76434   4.47311   …  0.818376  1.03266   1.65422\n",
       " 1.99825   3.86989   1.5212    0.697945     1.46557   0.828192  3.27652\n",
       " 1.91486   0.813653  2.59858   1.54661      0.752493  0.986932  1.99475\n",
       " 1.17019   1.39912   0.933484  1.67159      1.29697   0.598112  1.83362\n",
       " 1.07632   1.15326   1.6849    1.86776      0.908064  0.543163  0.895637"
      ]
     },
     "execution_count": 21,
     "metadata": {},
     "output_type": "execute_result"
    }
   ],
   "source": [
    "# flatten into 3D matrix\n",
    "X = reshape(hcat(xs...), nx, S, B)\n",
    "Y = reshape(hcat(ys...), ny, S, B)\n",
    "Y[:,:,2]"
   ]
  },
  {
   "cell_type": "code",
   "execution_count": 22,
   "id": "c4b9c653",
   "metadata": {},
   "outputs": [
    {
     "data": {
      "text/plain": [
       "save_permutation_results (generic function with 1 method)"
      ]
     },
     "execution_count": 22,
     "metadata": {},
     "output_type": "execute_result"
    }
   ],
   "source": [
    "function save_ci_results(results, methodId, B, S, pooled=nothing, two_sided=nothing; prefix=\"\", dir=\"./\")\n",
    "    averages = []\n",
    "\n",
    "    for batchId in 1:B\n",
    "        batch = results[methodId, batchId, :]\n",
    "        coverage = sum([j for (j, _) in batch]) / S\n",
    "        width = sum([j for (_, j) in batch]) / S\n",
    "        push!(averages, (coverage, width))\n",
    "    end\n",
    "    if isnothing(two_sided)\n",
    "        save(averages, distrX[1:B], distrY[1:B], alpha, prefix=prefix, dir=dir)\n",
    "    else\n",
    "        alpha_ = two_sided ? alpha : alpha / 2\n",
    "        save(averages, distrX[1:B], distrY[1:B], alpha_, pooled, two_sided, prefix=prefix, dir=dir)\n",
    "    end\n",
    "end\n",
    "\n",
    "function save_permutation_results(results, B, S; prefix=\"\", dir=\"./\")\n",
    "    i = 1\n",
    "    per_method = []\n",
    "    for two_sided in [true, false]\n",
    "        for pooled in [true, false]\n",
    "            if i in [2, 4]  # use only unpooled for now\n",
    "                save_ci_results(results, i, B, S, pooled, two_sided, prefix=prefix, dir=dir)\n",
    "            end\n",
    "            i += 1\n",
    "        end\n",
    "    end\n",
    "end"
   ]
  },
  {
   "cell_type": "code",
   "execution_count": 23,
   "id": "777511b0",
   "metadata": {},
   "outputs": [
    {
     "data": {
      "text/plain": [
       "cache (generic function with 1 method)"
      ]
     },
     "execution_count": 23,
     "metadata": {},
     "output_type": "execute_result"
    }
   ],
   "source": [
    "function cache(groups, masks)\n",
    "    mean_og = mean(groups, dims=1)\n",
    "    var_og = var(groups, dims=1)\n",
    "    nshift = sum(masks, dims=1)\n",
    "    shift_sum = sum(groups .* masks, dims=1)\n",
    "    return P(mean_og, var_og, nshift, shift_sum, size(groups, 1))\n",
    "end"
   ]
  },
  {
   "cell_type": "code",
   "execution_count": 25,
   "id": "dfbb5d6e",
   "metadata": {
    "tags": []
   },
   "outputs": [
    {
     "name": "stdout",
     "output_type": "stream",
     "text": [
      "  0.010364 seconds (2.03 k allocations: 13.605 MiB)\n"
     ]
    },
    {
     "data": {
      "text/plain": [
       "(-0.7104112703032146, 0.28976174179979663)"
      ]
     },
     "execution_count": 25,
     "metadata": {},
     "output_type": "execute_result"
    }
   ],
   "source": [
    "x = X[:,1,1]\n",
    "y = Y[:,1,1]\n",
    "pooled = vcat(x, y)\n",
    "xs = pooled[px]\n",
    "ys = pooled[py]\n",
    "xcache = cache(xs, addx)\n",
    "ycache = cache(ys, addy)\n",
    "\n",
    "wide, narrow = t_estimates(x, y, false)\n",
    "@time permInterval(xcache, ycache, wide, narrow, false, alpha, twoSided, twoSided, 0.005)"
   ]
  },
  {
   "cell_type": "code",
   "execution_count": 26,
   "id": "f746d0ba",
   "metadata": {},
   "outputs": [
    {
     "name": "stdout",
     "output_type": "stream",
     "text": [
      "  3.212737 seconds (875.33 k allocations: 5.528 GiB, 9.33% gc time, 7.34% compilation time)\n"
     ]
    },
    {
     "data": {
      "text/plain": [
       "\"../results/200_100/2/\""
      ]
     },
     "execution_count": 26,
     "metadata": {},
     "output_type": "execute_result"
    }
   ],
   "source": [
    "T = Threads.nthreads()\n",
    "results = Array{Union{Tuple, Nothing}, 3}(nothing, 6, B, S)\n",
    "\n",
    "#@time Threads.@threads for (i,j) in collect(Iterators.product(1:B, 1:S)) # 15.52 sec on (B,S) = (5, 1800)\n",
    "@time @floop ThreadedEx(basesize=div(B*S, T)) for b in 1:10, s in 1:10\n",
    "    @inbounds x = X[:,s,b]\n",
    "    @inbounds y = Y[:,s,b]\n",
    "    \n",
    "    pooled = vcat(x, y)\n",
    "    xs = @inbounds pooled[px]\n",
    "    ys = @inbounds pooled[py]\n",
    "    xcache = cache(xs, addx)\n",
    "    ycache = cache(ys, addy)\n",
    "    wide, narrow = t_estimates(x, y, false)\n",
    " \n",
    "    #results[1, b, s] = permInterval(xcache, ycache, deltas[b], true, alpha, twoSided, twoSided, 0.0005)    \n",
    "    results[2, b, s] = permInterval(xcache, ycache, wide, narrow, deltas[b], false, alpha, twoSided, twoSided, 0.0005)\n",
    "    #results[3, b, s] = permInterval(xcache, ycache, deltas[b], true, alpha/2, greater, smaller, 0.0005)\n",
    "    results[4, b, s] = permInterval(xcache, ycache, wide, narrow, deltas[b], false, alpha/2, greater, smaller, 0.0005)\n",
    "    \n",
    "    \"\"\"\n",
    "    results[5, b, s] = bootstrap(x, y, deltas[b], alpha, nsamples=10_000)\n",
    "    results[6, b, s] = tconf(x, y, deltas[b], alpha, false)\n",
    "    \"\"\"\n",
    "end\n",
    "\n",
    "dir = \"../results/\" * string(nx) * \"_\" * string(ny) * \"/2/\"\n",
    "save_permutation_results(results, B, S; dir=dir)\n",
    "#save_ci_results(results, 6, B, S; prefix=\"bs\", dir=dir)"
   ]
  }
 ],
 "metadata": {
  "kernelspec": {
   "display_name": "Julia_112 1.7.1",
   "language": "julia",
   "name": "julia_112-1.7"
  },
  "language_info": {
   "file_extension": ".jl",
   "mimetype": "application/julia",
   "name": "julia",
   "version": "1.7.1"
  }
 },
 "nbformat": 4,
 "nbformat_minor": 5
}
