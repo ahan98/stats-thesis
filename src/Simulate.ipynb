{
 "cells": [
  {
   "cell_type": "code",
   "execution_count": 1,
   "id": "3c62e2a8",
   "metadata": {},
   "outputs": [
    {
     "data": {
      "text/plain": [
       "112"
      ]
     },
     "execution_count": 1,
     "metadata": {},
     "output_type": "execute_result"
    }
   ],
   "source": [
    "using Random\n",
    "using Distributions\n",
    "using FLoops\n",
    "using Base.Threads\n",
    "\n",
    "include(\"data.jl\")\n",
    "include(\"util.jl\")\n",
    "\n",
    "include(\"intervals/permutation.jl\")\n",
    "include(\"intervals/bootstrap.jl\")\n",
    "include(\"intervals/t.jl\")\n",
    "\n",
    "Threads.nthreads()"
   ]
  },
  {
   "cell_type": "code",
   "execution_count": 36,
   "id": "22adb5be",
   "metadata": {},
   "outputs": [
    {
     "name": "stdout",
     "output_type": "stream",
     "text": [
      "distrX[1] = Normal{Float32}(μ=0.906f0, σ=1.812f0)\n",
      "distrY[1] = Normal{Float32}(μ=5.906f0, σ=1.812f0)\n"
     ]
    }
   ],
   "source": [
    "\"\"\"\n",
    "DATA CONFIG\n",
    "\"\"\"\n",
    "alpha = 0.05\n",
    "\n",
    "# data\n",
    "B  = 100    # num. coverage probabilities per boxplot\n",
    "S  = 1800   # num. samples per coverage probability\n",
    "nx = 8      # size of group 1\n",
    "ny = 8     # size of group 2\n",
    "px, py = partition(nx, ny)\n",
    "mc_size = try\n",
    "    (binomial(nx+ny, nx) > 45_000) ? 10_000 : 0\n",
    "catch\n",
    "    0\n",
    "end\n",
    "\n",
    "dtype = Float32\n",
    "seed = 123\n",
    "\n",
    "\"\"\"\n",
    "POPULATION SETTINGS\n",
    "\"\"\"\n",
    "\n",
    "Random.seed!(seed)\n",
    "distrTypeX = Normal{dtype}\n",
    "muX = dtype.(round.(rand(Uniform(0, 1), B), digits=3))\n",
    "sdX = 2 .* muX\n",
    "distrX = map(distrTypeX, muX, sdX)\n",
    "\n",
    "distrTypeY = Normal{dtype}\n",
    "#muY = dtype.(round.(rand(Uniform(0, 1), B), digits=4))\n",
    "muY = 5 .+ muX\n",
    "sdY = sdX\n",
    "distrY = map(distrTypeY, muY, sdY)\n",
    "\n",
    "@show distrX[1]\n",
    "@show distrY[1]\n",
    "\n",
    "deltas = @. mean(distrX) - mean(distrY);"
   ]
  },
  {
   "cell_type": "code",
   "execution_count": 42,
   "id": "64066f49",
   "metadata": {},
   "outputs": [
    {
     "name": "stdout",
     "output_type": "stream",
     "text": [
      "size(ys) = (100,)\n"
     ]
    },
    {
     "data": {
      "text/plain": [
       "8×1800 Matrix{Float32}:\n",
       " 5.86046  5.22366  7.10505  4.37502  …  4.25748  6.38194  6.41548  4.89421\n",
       " 5.21914  5.70342  4.23227  6.58422     5.92762  4.71447  6.64843  6.27187\n",
       " 5.91383  5.29252  5.06846  6.41311     5.37003  2.91424  6.31675  4.12682\n",
       " 2.94526  6.66259  5.39992  4.50337     7.26296  5.39531  4.96408  6.39604\n",
       " 4.79775  6.59313  4.15702  4.3229      6.47965  5.40516  4.18001  4.24418\n",
       " 7.14234  4.75319  6.10638  5.42706  …  4.9405   7.44997  5.88326  4.22156\n",
       " 5.72458  6.04158  6.206    6.99709     6.46472  5.23017  4.04794  5.77849\n",
       " 5.19582  6.03821  4.70971  6.40662     5.92166  4.72116  5.77421  5.60228"
      ]
     },
     "execution_count": 42,
     "metadata": {},
     "output_type": "execute_result"
    }
   ],
   "source": [
    "Random.seed!(123)\n",
    "xs = [rand(distrX[i], nx, S) for i in 1:B]\n",
    "ys = [rand(distrY[i], nx, S) for i in 1:B]\n",
    "@show size(ys)\n",
    "ys[2]"
   ]
  },
  {
   "cell_type": "code",
   "execution_count": 43,
   "id": "38208dca",
   "metadata": {},
   "outputs": [
    {
     "data": {
      "text/plain": [
       "8×1800 Matrix{Float32}:\n",
       " 5.86046  5.22366  7.10505  4.37502  …  4.25748  6.38194  6.41548  4.89421\n",
       " 5.21914  5.70342  4.23227  6.58422     5.92762  4.71447  6.64843  6.27187\n",
       " 5.91383  5.29252  5.06846  6.41311     5.37003  2.91424  6.31675  4.12682\n",
       " 2.94526  6.66259  5.39992  4.50337     7.26296  5.39531  4.96408  6.39604\n",
       " 4.79775  6.59313  4.15702  4.3229      6.47965  5.40516  4.18001  4.24418\n",
       " 7.14234  4.75319  6.10638  5.42706  …  4.9405   7.44997  5.88326  4.22156\n",
       " 5.72458  6.04158  6.206    6.99709     6.46472  5.23017  4.04794  5.77849\n",
       " 5.19582  6.03821  4.70971  6.40662     5.92166  4.72116  5.77421  5.60228"
      ]
     },
     "execution_count": 43,
     "metadata": {},
     "output_type": "execute_result"
    }
   ],
   "source": [
    "# flatten into 3D matrix\n",
    "X = reshape(hcat(xs...), 8, S, B)\n",
    "Y = reshape(hcat(ys...), 8, S, B)\n",
    "Y[:,:,2]"
   ]
  },
  {
   "cell_type": "code",
   "execution_count": 65,
   "id": "f0e0e70e",
   "metadata": {},
   "outputs": [
    {
     "name": "stdout",
     "output_type": "stream",
     "text": [
      "2054.484222 seconds (1.12 G allocations: 12.301 TiB, 71.47% gc time, 0.00% compilation time)\n"
     ]
    }
   ],
   "source": [
    "B = 100\n",
    "S = 1800\n",
    "\n",
    "T = Threads.nthreads()\n",
    "results = Array{Union{Nothing, Tuple}, 3}(undef, 6, B, S)\n",
    "fill!(results, nothing)\n",
    "\n",
    "#@time Threads.@threads for (i,j) in collect(Iterators.product(1:B, 1:S)) # 15.52 sec on (B,S) = (5, 1800)\n",
    "@time @floop ThreadedEx(basesize=div(B*S, T)) for b in 1:B, s in 1:S\n",
    "    @inbounds x = X[:,s,b]\n",
    "    @inbounds y = Y[:,s,b]\n",
    "\n",
    "    results[1, b, s] = permInterval(x, y, deltas[b], (px, py, mc_size), true, 0.05, twoSided, twoSided)    \n",
    "    results[2, b, s] = permInterval(x, y, deltas[b], (px, py, mc_size), false, alpha, twoSided, twoSided)\n",
    "    results[3, b, s] = permInterval(x, y, deltas[b], (px, py, mc_size), true, alpha/2, greater, smaller)\n",
    "    results[4, b, s] = permInterval(x, y, deltas[b], (px, py, mc_size), false, alpha/2, greater, smaller)\n",
    "    \n",
    "    \"\"\"\n",
    "    lo, hi = bootstrap(x, y, 0.05, false, 10_000)\n",
    "    coverages[5] += (lo <= delta <= hi)\n",
    "\n",
    "    lo, hi = tconf(x, y, 0.05, false)\n",
    "    coverages[6] += (lo <= delta <= hi)\n",
    "    \"\"\"\n",
    "end\n",
    "\n",
    "save_permutation_results(results, B, S)"
   ]
  },
  {
   "cell_type": "code",
   "execution_count": 51,
   "id": "e3d49e3e",
   "metadata": {},
   "outputs": [
    {
     "data": {
      "text/plain": [
       "5-element Vector{Any}:\n",
       " (0.9, 3.190407323161939)\n",
       " (0.8933333333333333, 1.5502733808778613)\n",
       " (0.8944444444444445, 2.586856261654738)\n",
       " (0.8977777777777778, 1.7984253204964482)\n",
       " (0.9033333333333333, 0.8845411716270898)"
      ]
     },
     "execution_count": 51,
     "metadata": {},
     "output_type": "execute_result"
    }
   ],
   "source": [
    "averages = []\n",
    "for row in eachrow(results[1,:,:])\n",
    "    coverage = sum([j for (j, _) in row]) / S\n",
    "    width = sum([j for (_, j) in row]) / S\n",
    "    push!(averages, (coverage, width))\n",
    "end\n",
    "averages"
   ]
  },
  {
   "cell_type": "code",
   "execution_count": 62,
   "id": "3ef3176a",
   "metadata": {},
   "outputs": [
    {
     "data": {
      "text/plain": [
       "save_permutation_results (generic function with 4 methods)"
      ]
     },
     "execution_count": 62,
     "metadata": {},
     "output_type": "execute_result"
    }
   ],
   "source": [
    "function save_permutation_results(results, B, S, dir=\"./\")\n",
    "    i = 1\n",
    "    per_method = []\n",
    "    for is_two_sided in [true, false]\n",
    "        for pooled in [true, false]\n",
    "            averages = []\n",
    "\n",
    "            for row in eachrow(results[i,:,:])\n",
    "                coverage = sum([j for (j, _) in row]) / S\n",
    "                width = sum([j for (_, j) in row]) / S\n",
    "                push!(averages, (coverage, width))\n",
    "            end\n",
    "\n",
    "            alpha_ = is_two_sided ? alpha : alpha / 2\n",
    "            save(averages, distrX[1:B], distrY[1:B], alpha_, pooled, is_two_sided, parent_dir=dir)\n",
    "            i += 1\n",
    "        end\n",
    "    end\n",
    "end"
   ]
  },
  {
   "cell_type": "markdown",
   "id": "81f3ab39",
   "metadata": {},
   "source": [
    "Alex Han\n",
    "\n",
    "InvertingPermutationTests2022"
   ]
  }
 ],
 "metadata": {
  "kernelspec": {
   "display_name": "Julia_112 1.7.1",
   "language": "julia",
   "name": "julia_112-1.7"
  },
  "language_info": {
   "file_extension": ".jl",
   "mimetype": "application/julia",
   "name": "julia",
   "version": "1.7.1"
  }
 },
 "nbformat": 4,
 "nbformat_minor": 5
}
