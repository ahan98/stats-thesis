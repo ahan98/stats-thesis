{
 "cells": [
  {
   "cell_type": "code",
   "execution_count": 40,
   "id": "5177bc1d",
   "metadata": {},
   "outputs": [
    {
     "data": {
      "text/plain": [
       "8"
      ]
     },
     "execution_count": 40,
     "metadata": {},
     "output_type": "execute_result"
    }
   ],
   "source": [
    "using Random\n",
    "using Distributions\n",
    "using FLoops\n",
    "using Base.Threads\n",
    "using BenchmarkTools\n",
    "\n",
    "include(\"data.jl\")\n",
    "include(\"util.jl\")\n",
    "\n",
    "include(\"intervals/permutation.jl\")\n",
    "include(\"intervals/bootstrap.jl\")\n",
    "include(\"intervals/t.jl\")\n",
    "\n",
    "Threads.nthreads()"
   ]
  },
  {
   "cell_type": "code",
   "execution_count": 14,
   "id": "02dba51e",
   "metadata": {},
   "outputs": [
    {
     "data": {
      "text/plain": [
       "([1 1 … 0 0; 1 1 … 0 0; … ; 1 1 … 0 0; 1 0 … 0 0], [0 0 … 0 0; 0 0 … 1 1; … ; 0 0 … 1 1; 0 1 … 1 1])"
      ]
     },
     "execution_count": 14,
     "metadata": {},
     "output_type": "execute_result"
    }
   ],
   "source": [
    "dtype = Float32\n",
    "seed = 123\n",
    "\n",
    "# DATA CONFIG\n",
    "\n",
    "alpha = 0.05\n",
    "\n",
    "# data\n",
    "B  = 100   # num. coverage probabilities per boxplot\n",
    "S  = 4300  # num. samples per coverage probability\n",
    "nx = 8   # size of group 1\n",
    "ny = 9    # size of group 2\n",
    "if binomial(nx+ny, nx) > 30_000\n",
    "    px, py = partition(nx, ny, 10_000)\n",
    "else\n",
    "    px, py = partition(nx, ny)\n",
    "end\n",
    "\n",
    "bits = vcat(ones(Int, nx), zeros(Int, ny))\n",
    "addx, addy = bits[px], bits[py]"
   ]
  },
  {
   "cell_type": "code",
   "execution_count": 3,
   "id": "9d3281e2",
   "metadata": {},
   "outputs": [],
   "source": [
    "# POPULATION SETTINGS\n",
    "\n",
    "Random.seed!(123)\n",
    "\n",
    "distrTypeX = Gamma{dtype}\n",
    "X_shape = random(Uniform(2, 4), B)\n",
    "X_scale = random(Uniform(0.5, 2), B)\n",
    "distrX = map(distrTypeX, X_shape, X_scale)\n",
    "\n",
    "distrTypeY = Gumbel{dtype}\n",
    "Y_loc = random(Uniform(0, 1), B)\n",
    "Y_scale = random(Uniform(2, 4), B)\n",
    "distrY = map(distrTypeY, Y_loc, Y_scale)\n",
    ";"
   ]
  },
  {
   "cell_type": "code",
   "execution_count": 4,
   "id": "75cca7ae",
   "metadata": {},
   "outputs": [
    {
     "name": "stdout",
     "output_type": "stream",
     "text": [
      "distrX[1:2] = Gamma{Float32}[Gamma{Float32}(α=3.813f0, θ=1.931f0), Gamma{Float32}(α=2.887f0, θ=1.769f0)]\n",
      "distrY[1:2] = Gumbel{Float32}[Gumbel{Float32}(μ=0.965f0, θ=2.056f0), Gumbel{Float32}(μ=0.071f0, θ=2.495f0)]\n",
      "deltas[1:2] = Float32[5.211148, 3.5959504]\n"
     ]
    }
   ],
   "source": [
    "deltas = @. mean(distrX) - mean(distrY)\n",
    "\n",
    "@show distrX[1:2]\n",
    "@show distrY[1:2]\n",
    "@show deltas[1:2];"
   ]
  },
  {
   "cell_type": "code",
   "execution_count": 5,
   "id": "5fea7174",
   "metadata": {},
   "outputs": [
    {
     "name": "stdout",
     "output_type": "stream",
     "text": [
      "size(ys) = (100,)\n"
     ]
    },
    {
     "data": {
      "text/plain": [
       "9×4300 Matrix{Float32}:\n",
       " 11.8033    -1.09869    1.77469   …   7.44399     2.78415   -0.42669\n",
       " -0.443109  -0.590155  -2.27474      -2.87445     1.81832   -4.23349\n",
       "  2.44806    1.33871    0.65206       7.27469    -2.28245   -2.09474\n",
       " -1.61376   -1.32229    0.677952      4.31303    -0.77003    3.49074\n",
       "  2.9012     1.09572    4.57841       7.7269     -0.548287   1.50053\n",
       " -2.78064    1.03421    2.48815   …  -0.625538    9.11552   -4.146\n",
       " -0.144154  -1.39356    0.984717      2.92807     0.873052  -0.782865\n",
       "  1.74981    4.19627    2.87135      -0.802826    3.80352   -0.383334\n",
       " -3.9335    -2.3745     2.82539      -0.0943729   8.94879   -2.37657"
      ]
     },
     "execution_count": 5,
     "metadata": {},
     "output_type": "execute_result"
    }
   ],
   "source": [
    "Random.seed!(123)\n",
    "xs = [dtype.(rand(distrX[i], nx, S)) for i in 1:B]\n",
    "ys = [dtype.(rand(distrY[i], ny, S)) for i in 1:B]\n",
    "@show size(ys)\n",
    "ys[2]"
   ]
  },
  {
   "cell_type": "code",
   "execution_count": 6,
   "id": "c5e4db4c",
   "metadata": {},
   "outputs": [
    {
     "data": {
      "text/plain": [
       "9×4300 Matrix{Float32}:\n",
       " 11.8033    -1.09869    1.77469   …   7.44399     2.78415   -0.42669\n",
       " -0.443109  -0.590155  -2.27474      -2.87445     1.81832   -4.23349\n",
       "  2.44806    1.33871    0.65206       7.27469    -2.28245   -2.09474\n",
       " -1.61376   -1.32229    0.677952      4.31303    -0.77003    3.49074\n",
       "  2.9012     1.09572    4.57841       7.7269     -0.548287   1.50053\n",
       " -2.78064    1.03421    2.48815   …  -0.625538    9.11552   -4.146\n",
       " -0.144154  -1.39356    0.984717      2.92807     0.873052  -0.782865\n",
       "  1.74981    4.19627    2.87135      -0.802826    3.80352   -0.383334\n",
       " -3.9335    -2.3745     2.82539      -0.0943729   8.94879   -2.37657"
      ]
     },
     "execution_count": 6,
     "metadata": {},
     "output_type": "execute_result"
    }
   ],
   "source": [
    "# flatten into 3D matrix\n",
    "X = reshape(hcat(xs...), nx, S, B)\n",
    "Y = reshape(hcat(ys...), ny, S, B)\n",
    "Y[:,:,2]"
   ]
  },
  {
   "cell_type": "code",
   "execution_count": 44,
   "id": "c4b9c653",
   "metadata": {},
   "outputs": [
    {
     "data": {
      "text/plain": [
       "save_permutation_results (generic function with 1 method)"
      ]
     },
     "execution_count": 44,
     "metadata": {},
     "output_type": "execute_result"
    }
   ],
   "source": [
    "function save_ci_results(results, methodId, B, S, pooled=nothing, two_sided=nothing; prefix=\"\", dir=\"./\")\n",
    "    averages = []\n",
    "\n",
    "    for batchId in 1:B\n",
    "        batch = results[methodId, batchId, :]\n",
    "        coverage = sum([j for (j, _) in batch]) / S\n",
    "        width = sum([j for (_, j) in batch]) / S\n",
    "        push!(averages, (coverage, width))\n",
    "    end\n",
    "    if isnothing(two_sided)\n",
    "        save(averages, distrX[1:B], distrY[1:B], alpha, prefix=prefix, dir=dir)\n",
    "    else\n",
    "        alpha_ = two_sided ? alpha : alpha / 2\n",
    "        save(averages, distrX[1:B], distrY[1:B], alpha_, pooled, two_sided, prefix=prefix, dir=dir)\n",
    "    end\n",
    "end\n",
    "\n",
    "function save_permutation_results(results, B, S; prefix=\"\", dir=\"./\")\n",
    "    i = 1\n",
    "    per_method = []\n",
    "    for two_sided in [true, false]\n",
    "        for pooled in [true, false]\n",
    "            if i in [2, 4]\n",
    "                save_ci_results(results, i, B, S, pooled, two_sided, prefix=prefix, dir=dir)\n",
    "            end\n",
    "            i += 1\n",
    "        end\n",
    "    end\n",
    "end"
   ]
  },
  {
   "cell_type": "code",
   "execution_count": 8,
   "id": "777511b0",
   "metadata": {},
   "outputs": [
    {
     "data": {
      "text/plain": [
       "cache (generic function with 1 method)"
      ]
     },
     "execution_count": 8,
     "metadata": {},
     "output_type": "execute_result"
    }
   ],
   "source": [
    "struct P\n",
    "    mean_og   # unshifted group mean\n",
    "    var_og    # unshifted group variance\n",
    "    nshift    # number of items to be shifted\n",
    "    shift_sum # original sum of items to be shifted\n",
    "    n         # group size\n",
    "end\n",
    "\n",
    "function cache(groups, masks)\n",
    "    mean_og = mean(groups, dims=1)\n",
    "    var_og = var(groups, dims=1)\n",
    "    nshift = sum(masks, dims=1)\n",
    "    shift_sum = sum(groups .* masks, dims=1)\n",
    "    return P(mean_og, var_og, nshift, shift_sum, size(groups, 1))\n",
    "end"
   ]
  },
  {
   "cell_type": "code",
   "execution_count": 43,
   "id": "dfbb5d6e",
   "metadata": {},
   "outputs": [
    {
     "data": {
      "text/plain": [
       "(0.3418512207780364, 6.443799878256071)"
      ]
     },
     "execution_count": 43,
     "metadata": {},
     "output_type": "execute_result"
    }
   ],
   "source": [
    "x = X[:,1,1]\n",
    "y = Y[:,1,1]\n",
    "pooled = vcat(x, y)\n",
    "xs = pooled[px]\n",
    "ys = pooled[py]\n",
    "xcache = cache(xs, addx)\n",
    "ycache = cache(ys, addy)\n",
    "\n",
    "wide, narrow = t_estimates(x, y, false)\n",
    "permInterval(xcache, ycache, wide, narrow, false, 0.05, twoSided, twoSided, 0.005)"
   ]
  },
  {
   "cell_type": "code",
   "execution_count": 42,
   "id": "f746d0ba",
   "metadata": {},
   "outputs": [
    {
     "name": "stdout",
     "output_type": "stream",
     "text": [
      " 18.353633 seconds (3.04 M allocations: 46.353 GiB, 11.09% gc time, 0.44% compilation time)\n"
     ]
    },
    {
     "data": {
      "text/plain": [
       "\"../results/8_9/2/\""
      ]
     },
     "execution_count": 42,
     "metadata": {},
     "output_type": "execute_result"
    }
   ],
   "source": [
    "T = Threads.nthreads()\n",
    "results = Array{Union{Tuple, Nothing}, 3}(nothing, 6, B, S)\n",
    "\n",
    "#@time Threads.@threads for (i,j) in collect(Iterators.product(1:B, 1:S)) # 15.52 sec on (B,S) = (5, 1800)\n",
    "@time @floop ThreadedEx(basesize=div(B*S, T)) for b in 1:10, s in 1:100\n",
    "    @inbounds x = X[:,s,b]\n",
    "    @inbounds y = Y[:,s,b]\n",
    "    \n",
    "    pooled = vcat(x, y)\n",
    "    xs = @inbounds pooled[px]\n",
    "    ys = @inbounds pooled[py]\n",
    "    xcache = cache(xs, addx)\n",
    "    ycache = cache(ys, addy)\n",
    "    wide, narrow = t_estimates(x, y, false)\n",
    " \n",
    "    #results[1, b, s] = permInterval(xcache, ycache, deltas[b], true, alpha, twoSided, twoSided, 0.0005)    \n",
    "    results[2, b, s] = permInterval(xcache, ycache, wide, narrow, deltas[b], false, alpha, twoSided, twoSided, 0.0005)\n",
    "    #results[3, b, s] = permInterval(xcache, ycache, deltas[b], true, alpha/2, greater, smaller, 0.0005)\n",
    "    results[4, b, s] = permInterval(xcache, ycache, deltas[b], false, alpha/2, greater, smaller, 0.0005)\n",
    "    \n",
    "    \"\"\"\n",
    "    results[5, b, s] = bootstrap(x, y, deltas[b], alpha, nsamples=10_000)\n",
    "    results[6, b, s] = tconf(x, y, deltas[b], alpha, false)\n",
    "    \"\"\"\n",
    "end\n",
    "\n",
    "dir = \"../results/\" * string(nx) * \"_\" * string(ny) * \"/2/\"\n",
    "#save_permutation_results(results, B, S; dir=dir)\n",
    "#save_ci_results(results, 6, B, S; prefix=\"bs\", dir=dir)"
   ]
  }
 ],
 "metadata": {
  "kernelspec": {
   "display_name": "Julia 1.7.1",
   "language": "julia",
   "name": "julia-1.7"
  },
  "language_info": {
   "file_extension": ".jl",
   "mimetype": "application/julia",
   "name": "julia",
   "version": "1.7.1"
  }
 },
 "nbformat": 4,
 "nbformat_minor": 5
}
