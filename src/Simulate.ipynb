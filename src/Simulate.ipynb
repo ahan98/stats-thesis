{
 "cells": [
  {
   "cell_type": "code",
   "execution_count": 195,
   "id": "38a1ce54",
   "metadata": {},
   "outputs": [
    {
     "data": {
      "text/plain": [
       "8"
      ]
     },
     "execution_count": 195,
     "metadata": {},
     "output_type": "execute_result"
    }
   ],
   "source": [
    "using Random\n",
    "using Distributions\n",
    "using FLoops\n",
    "using Base.Threads\n",
    "using BenchmarkTools\n",
    "\n",
    "include(\"data.jl\")\n",
    "include(\"util.jl\")\n",
    "\n",
    "include(\"intervals/permutation.jl\")\n",
    "include(\"intervals/bootstrap.jl\")\n",
    "include(\"intervals/t.jl\")\n",
    "\n",
    "Threads.nthreads()"
   ]
  },
  {
   "cell_type": "code",
   "execution_count": 196,
   "id": "80a6352a",
   "metadata": {},
   "outputs": [
    {
     "data": {
      "text/plain": [
       "([1 1 … 6 7; 2 2 … 8 8; … ; 12 12 … 18 18; 13 14 … 19 19], [19 19 … 7 6; 18 18 … 5 5; … ; 15 15 … 2 2; 14 13 … 1 1])"
      ]
     },
     "execution_count": 196,
     "metadata": {},
     "output_type": "execute_result"
    }
   ],
   "source": [
    "dtype = Float32\n",
    "seed = 123\n",
    "\n",
    "# DATA CONFIG\n",
    "\n",
    "alpha = 0.05\n",
    "\n",
    "# data\n",
    "B  = 100   # num. coverage probabilities per boxplot\n",
    "S  = 4300  # num. samples per coverage probability\n",
    "nx = 13   # size of group 1\n",
    "ny = 6    # size of group 2\n",
    "MC = 10_000\n",
    "permuter = nothing\n",
    "if binomial(nx + ny, nx) < 30_000\n",
    "    permuter = partition(nx, ny)\n",
    "end"
   ]
  },
  {
   "cell_type": "code",
   "execution_count": 4,
   "id": "5eaf4ccc",
   "metadata": {},
   "outputs": [],
   "source": [
    "# POPULATION SETTINGS\n",
    "\n",
    "Random.seed!(123)\n",
    "\n",
    "distrTypeX = LogNormal{dtype}\n",
    "X_mu = dtype.(round.(rand(B), digits=3))\n",
    "X_sigma = dtype.(round.(rand(B) * 0.6, digits=3))\n",
    "distrX = map(distrTypeX, X_mu, X_sigma)\n",
    "\n",
    "distrTypeY = Gamma{dtype}\n",
    "Y_shape = @. 1 / (exp(X_sigma^2) - 1)\n",
    "Y_scale = @. exp(X_mu + X_sigma^2 / 2) / Y_shape\n",
    "distrY = map(distrTypeY, Y_shape, Y_scale);"
   ]
  },
  {
   "cell_type": "code",
   "execution_count": 5,
   "id": "ed58451f",
   "metadata": {},
   "outputs": [
    {
     "name": "stdout",
     "output_type": "stream",
     "text": [
      "distrX[1:2] = LogNormal{Float32}[LogNormal{Float32}(μ=0.906f0, σ=0.572f0), LogNormal{Float32}(μ=0.443f0, σ=0.508f0)]\n",
      "distrY[1:2] = Gamma{Float32}[Gamma{Float32}(α=2.5836008f0, θ=1.1279569f0), Gamma{Float32}(α=3.3964891f0, θ=0.5216751f0)]\n",
      "deltas[1:2] = Float32[0.0, 0.0]\n"
     ]
    }
   ],
   "source": [
    "deltas = @. mean(distrX) - mean(distrY)\n",
    "\n",
    "@show distrX[1:2]\n",
    "@show distrY[1:2]\n",
    "@show deltas[1:2];"
   ]
  },
  {
   "cell_type": "code",
   "execution_count": 6,
   "id": "e860a159",
   "metadata": {},
   "outputs": [
    {
     "name": "stdout",
     "output_type": "stream",
     "text": [
      "size(ys) = (100,)\n"
     ]
    },
    {
     "data": {
      "text/plain": [
       "5×4300 Matrix{Float32}:\n",
       " 2.44324   1.97657  0.592417  2.05831   …  1.18617  3.5021    2.1959\n",
       " 0.839079  1.62085  1.83155   5.96646      2.88642  0.992534  3.4971\n",
       " 2.03561   2.59261  0.586244  1.59166      1.03209  1.47581   1.6656\n",
       " 0.492746  1.22292  0.686977  0.636792     3.4526   1.5387    1.89366\n",
       " 1.13457   1.35263  1.28554   1.11607      1.4801   3.98515   2.90282"
      ]
     },
     "execution_count": 6,
     "metadata": {},
     "output_type": "execute_result"
    }
   ],
   "source": [
    "Random.seed!(123)\n",
    "xs = [dtype.(rand(distrX[i], nx, S)) for i in 1:B]\n",
    "ys = [dtype.(rand(distrY[i], ny, S)) for i in 1:B]\n",
    "@show size(ys)\n",
    "ys[2]"
   ]
  },
  {
   "cell_type": "code",
   "execution_count": 7,
   "id": "98cb6ecc",
   "metadata": {},
   "outputs": [
    {
     "data": {
      "text/plain": [
       "5×4300 Matrix{Float32}:\n",
       " 2.44324   1.97657  0.592417  2.05831   …  1.18617  3.5021    2.1959\n",
       " 0.839079  1.62085  1.83155   5.96646      2.88642  0.992534  3.4971\n",
       " 2.03561   2.59261  0.586244  1.59166      1.03209  1.47581   1.6656\n",
       " 0.492746  1.22292  0.686977  0.636792     3.4526   1.5387    1.89366\n",
       " 1.13457   1.35263  1.28554   1.11607      1.4801   3.98515   2.90282"
      ]
     },
     "execution_count": 7,
     "metadata": {},
     "output_type": "execute_result"
    }
   ],
   "source": [
    "# flatten into 3D matrix\n",
    "X = reshape(hcat(xs...), nx, S, B)\n",
    "Y = reshape(hcat(ys...), ny, S, B)\n",
    "Y[:,:,2]"
   ]
  },
  {
   "cell_type": "code",
   "execution_count": 8,
   "id": "da6a16af",
   "metadata": {},
   "outputs": [
    {
     "data": {
      "text/plain": [
       "save_permutation_results (generic function with 1 method)"
      ]
     },
     "execution_count": 8,
     "metadata": {},
     "output_type": "execute_result"
    }
   ],
   "source": [
    "function save_ci_results(results, methodId, B, S, pooled=nothing, two_sided=nothing; prefix=\"\", dir=\"./\")\n",
    "    averages = []\n",
    "\n",
    "    for batchId in 1:B\n",
    "        batch = results[methodId, batchId, :]\n",
    "        coverage = sum([j for (j, _) in batch]) / S\n",
    "        width = sum([j for (_, j) in batch]) / S\n",
    "        push!(averages, (coverage, width))\n",
    "    end\n",
    "    if isnothing(two_sided)\n",
    "        save(averages, distrX[1:B], distrY[1:B], alpha, prefix=prefix, dir=dir)\n",
    "    else\n",
    "        alpha_ = two_sided ? alpha : alpha / 2\n",
    "        save(averages, distrX[1:B], distrY[1:B], alpha_, pooled, two_sided, prefix=prefix, dir=dir)\n",
    "    end\n",
    "end\n",
    "\n",
    "function save_permutation_results(results, B, S; prefix=\"\", dir=\"./\")\n",
    "    i = 1\n",
    "    per_method = []\n",
    "    for two_sided in [true, false]\n",
    "        for pooled in [true, false]\n",
    "            save_ci_results(results, i, B, S, pooled, two_sided, prefix=prefix, dir=dir)\n",
    "            i += 1\n",
    "        end\n",
    "    end\n",
    "end"
   ]
  },
  {
   "cell_type": "code",
   "execution_count": 9,
   "id": "826fe9c9",
   "metadata": {},
   "outputs": [
    {
     "name": "stdout",
     "output_type": "stream",
     "text": [
      "2365.250478 seconds (3.88 G allocations: 28.393 TiB, 80.49% gc time, 0.47% compilation time)\n",
      "dir * filename = \"../results/13_5/2/twoSided_pooled_0.05.csv\"\n",
      "dir * filename = \"../results/13_5/2/twoSided_unpooled_0.05.csv\"\n",
      "dir * filename = \"../results/13_5/2/oneSided_pooled_0.025.csv\"\n",
      "dir * filename = \"../results/13_5/2/oneSided_unpooled_0.025.csv\"\n"
     ]
    }
   ],
   "source": [
    "#B = 100\n",
    "#S = 9605\n",
    "\n",
    "T = Threads.nthreads()\n",
    "results = Array{Union{Nothing, Tuple}, 3}(undef, 6, B, S)\n",
    "fill!(results, nothing)\n",
    "mc_size = 0\n",
    "\n",
    "#@time Threads.@threads for (i,j) in collect(Iterators.product(1:B, 1:S)) # 15.52 sec on (B,S) = (5, 1800)\n",
    "@time @floop ThreadedEx(basesize=div(B*S, T)) for b in 1:B, s in 1:S\n",
    "    @inbounds x = X[:,s,b]\n",
    "    @inbounds y = Y[:,s,b]\n",
    " \n",
    "    results[1, b, s] = permInterval(x, y, deltas[b], (px, py, mc_size), true, alpha, twoSided, twoSided, 0.0005)    \n",
    "    results[2, b, s] = permInterval(x, y, deltas[b], (px, py, mc_size), false, alpha, twoSided, twoSided, 0.0005)\n",
    "    results[3, b, s] = permInterval(x, y, deltas[b], (px, py, mc_size), true, alpha/2, greater, smaller, 0.0005)\n",
    "    results[4, b, s] = permInterval(x, y, deltas[b], (px, py, mc_size), false, alpha/2, greater, smaller, 0.0005)\n",
    "    \n",
    "    \"\"\"\n",
    "    results[5, b, s] = bootstrap(x, y, deltas[b], alpha, nsamples=10_000)\n",
    "    results[6, b, s] = tconf(x, y, deltas[b], alpha, false)\n",
    "    \"\"\"\n",
    "end\n",
    "\n",
    "dir = \"../results/\" * string(nx) * \"_\" * string(ny) * \"/2/\"\n",
    "save_permutation_results(results, B, S; dir=dir)\n",
    "#save_ci_results(results, 6, B, S; prefix=\"bs\", dir=dir)"
   ]
  }
 ],
 "metadata": {
  "kernelspec": {
   "display_name": "Julia 1.7.1",
   "language": "julia",
   "name": "julia-1.7"
  },
  "language_info": {
   "file_extension": ".jl",
   "mimetype": "application/julia",
   "name": "julia",
   "version": "1.7.1"
  }
 },
 "nbformat": 4,
 "nbformat_minor": 5
}
