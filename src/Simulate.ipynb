{
 "cells": [
  {
   "cell_type": "code",
   "execution_count": 1,
   "id": "d719097f",
   "metadata": {},
   "outputs": [
    {
     "data": {
      "text/plain": [
       "112"
      ]
     },
     "execution_count": 1,
     "metadata": {},
     "output_type": "execute_result"
    }
   ],
   "source": [
    "using Random\n",
    "using Distributions\n",
    "using FLoops\n",
    "using Base.Threads\n",
    "\n",
    "include(\"data.jl\")\n",
    "include(\"util.jl\")\n",
    "\n",
    "include(\"intervals/permutation.jl\")\n",
    "include(\"intervals/bootstrap.jl\")\n",
    "include(\"intervals/t.jl\")\n",
    "\n",
    "Threads.nthreads()"
   ]
  },
  {
   "cell_type": "code",
   "execution_count": 13,
   "id": "41546722",
   "metadata": {},
   "outputs": [
    {
     "name": "stdout",
     "output_type": "stream",
     "text": [
      "distrX[1:2] = Normal{Float32}[Normal{Float32}(μ=0.906f0, σ=0.954f0), Normal{Float32}(μ=0.443f0, σ=0.846f0)]\n",
      "distrY[1:2] = Normal{Float32}[Normal{Float32}(μ=2.766f0, σ=0.954f0), Normal{Float32}(μ=-1.273f0, σ=0.846f0)]\n"
     ]
    }
   ],
   "source": [
    "\"\"\"\n",
    "DATA CONFIG\n",
    "\"\"\"\n",
    "alpha = 0.05\n",
    "\n",
    "# data\n",
    "B  = 100    # num. coverage probabilities per boxplot\n",
    "S  = 1825   # num. samples per coverage probability\n",
    "nx = 8      # size of group 1\n",
    "ny = 8     # size of group 2\n",
    "px, py = partition(nx, ny)\n",
    "mc_size = try\n",
    "    (binomial(nx+ny, nx) > 45_000) ? 10_000 : 0\n",
    "catch\n",
    "    0\n",
    "end\n",
    "\n",
    "dtype = Float32\n",
    "seed = 123\n",
    "\n",
    "\"\"\"\n",
    "POPULATION SETTINGS\n",
    "\"\"\"\n",
    "\n",
    "Random.seed!(seed)\n",
    "\n",
    "distrTypeX = Normal{dtype}\n",
    "X_mu = dtype.(round.(rand(B), digits=3))\n",
    "X_sigma = dtype.(round.(rand(B), digits=3))\n",
    "distrX = map(distrTypeX, X_mu, X_sigma)\n",
    "\n",
    "distrTypeY = Normal{dtype}\n",
    "Y_mu = dtype.(X_mu .+ ((round.(rand(B), digits=3) * 4) .- 2))\n",
    "Y_sigma = X_sigma\n",
    "distrY = map(distrTypeY, Y_mu, Y_sigma)\n",
    "\n",
    "@show distrX[1:2]\n",
    "@show distrY[1:2]\n",
    "\n",
    "deltas = @. mean(distrX) - mean(distrY);"
   ]
  },
  {
   "cell_type": "code",
   "execution_count": 16,
   "id": "220a0fc9",
   "metadata": {},
   "outputs": [
    {
     "name": "stdout",
     "output_type": "stream",
     "text": [
      "size(ys) = (100,)\n"
     ]
    },
    {
     "data": {
      "text/plain": [
       "8×1825 Matrix{Float32}:\n",
       " -1.59355   -0.459762  -0.669487   …  -1.64752    0.683074  -0.962203\n",
       "  0.388304  -1.79286   -1.63423       -1.2237    -3.09633   -0.376717\n",
       " -0.425268  -1.205     -0.0510648     -1.18055   -1.57285   -1.5625\n",
       " -0.833658  -1.24474   -3.04217       -1.91764   -1.29825   -1.37089\n",
       " -1.19031   -0.212677  -1.51876       -0.700791  -0.647329  -1.37151\n",
       " -1.41831   -0.814752  -0.989404   …  -1.88047   -1.75395   -1.2411\n",
       " -1.45538   -1.79264   -2.02705       -1.00816   -0.771106  -1.79657\n",
       " -1.85007   -1.22245   -0.504659      -2.5431    -1.08917   -1.54681"
      ]
     },
     "execution_count": 16,
     "metadata": {},
     "output_type": "execute_result"
    }
   ],
   "source": [
    "Random.seed!(123)\n",
    "xs = [dtype.(rand(distrX[i], nx, S)) for i in 1:B]\n",
    "ys = [dtype.(rand(distrY[i], ny, S)) for i in 1:B]\n",
    "@show size(ys)\n",
    "ys[2]"
   ]
  },
  {
   "cell_type": "code",
   "execution_count": 17,
   "id": "23e1dd81",
   "metadata": {},
   "outputs": [
    {
     "data": {
      "text/plain": [
       "8×1825 Matrix{Float32}:\n",
       " -1.59355   -0.459762  -0.669487   …  -1.64752    0.683074  -0.962203\n",
       "  0.388304  -1.79286   -1.63423       -1.2237    -3.09633   -0.376717\n",
       " -0.425268  -1.205     -0.0510648     -1.18055   -1.57285   -1.5625\n",
       " -0.833658  -1.24474   -3.04217       -1.91764   -1.29825   -1.37089\n",
       " -1.19031   -0.212677  -1.51876       -0.700791  -0.647329  -1.37151\n",
       " -1.41831   -0.814752  -0.989404   …  -1.88047   -1.75395   -1.2411\n",
       " -1.45538   -1.79264   -2.02705       -1.00816   -0.771106  -1.79657\n",
       " -1.85007   -1.22245   -0.504659      -2.5431    -1.08917   -1.54681"
      ]
     },
     "execution_count": 17,
     "metadata": {},
     "output_type": "execute_result"
    }
   ],
   "source": [
    "# flatten into 3D matrix\n",
    "X = reshape(hcat(xs...), nx, S, B)\n",
    "Y = reshape(hcat(ys...), ny, S, B)\n",
    "Y[:,:,2]"
   ]
  },
  {
   "cell_type": "code",
   "execution_count": 18,
   "id": "d6ab000e",
   "metadata": {},
   "outputs": [
    {
     "data": {
      "text/plain": [
       "save_permutation_results (generic function with 2 methods)"
      ]
     },
     "execution_count": 18,
     "metadata": {},
     "output_type": "execute_result"
    }
   ],
   "source": [
    "function save_permutation_results(results, B, S, dir=\"./\")\n",
    "    i = 1\n",
    "    per_method = []\n",
    "    for is_two_sided in [true, false]\n",
    "        for pooled in [true, false]\n",
    "            averages = []\n",
    "\n",
    "            for row in eachrow(results[i,:,:])\n",
    "                coverage = sum([j for (j, _) in row]) / S\n",
    "                width = sum([j for (_, j) in row]) / S\n",
    "                push!(averages, (coverage, width))\n",
    "            end\n",
    "\n",
    "            alpha_ = is_two_sided ? alpha : alpha / 2\n",
    "            save(averages, distrX[1:B], distrY[1:B], alpha_, pooled, is_two_sided, parent_dir=dir)\n",
    "            i += 1\n",
    "        end\n",
    "    end\n",
    "end"
   ]
  },
  {
   "cell_type": "code",
   "execution_count": 22,
   "id": "41505939",
   "metadata": {},
   "outputs": [
    {
     "name": "stdout",
     "output_type": "stream",
     "text": [
      "2299.917468 seconds (1.31 G allocations: 14.534 TiB, 69.74% gc time, 0.00% compilation time)\n"
     ]
    }
   ],
   "source": [
    "B = 100\n",
    "S = 1825\n",
    "\n",
    "T = Threads.nthreads()\n",
    "results = Array{Union{Nothing, Tuple}, 3}(undef, 6, B, S)\n",
    "fill!(results, nothing)\n",
    "\n",
    "#@time Threads.@threads for (i,j) in collect(Iterators.product(1:B, 1:S)) # 15.52 sec on (B,S) = (5, 1800)\n",
    "@time @floop ThreadedEx(basesize=div(B*S, T)) for b in 1:B, s in 1:S\n",
    "    @inbounds x = X[:,s,b]\n",
    "    @inbounds y = Y[:,s,b]\n",
    "\n",
    "    results[1, b, s] = permInterval(x, y, deltas[b], (px, py, mc_size), true, alpha, twoSided, twoSided)    \n",
    "    results[2, b, s] = permInterval(x, y, deltas[b], (px, py, mc_size), false, alpha, twoSided, twoSided)\n",
    "    results[3, b, s] = permInterval(x, y, deltas[b], (px, py, mc_size), true, alpha/2, greater, smaller, 0.0005)\n",
    "    results[4, b, s] = permInterval(x, y, deltas[b], (px, py, mc_size), false, alpha/2, greater, smaller, 0.0005)\n",
    "    \n",
    "    \"\"\"\n",
    "    lo, hi = bootstrap(x, y, 0.05, false, 10_000)\n",
    "    coverages[5] += (lo <= delta <= hi)\n",
    "\n",
    "    lo, hi = tconf(x, y, 0.05, false)\n",
    "    coverages[6] += (lo <= delta <= hi)\n",
    "    \"\"\"\n",
    "end\n",
    "\n",
    "#save_permutation_results(results, B, S, \"../results/permutation/1/\")"
   ]
  },
  {
   "cell_type": "markdown",
   "id": "0a2fd73f",
   "metadata": {},
   "source": [
    "---"
   ]
  },
  {
   "cell_type": "code",
   "execution_count": 28,
   "id": "b5d1b753",
   "metadata": {},
   "outputs": [
    {
     "data": {
      "text/plain": [
       "5-element Vector{Any}:\n",
       " (0.95, 3.1827745949945476)\n",
       " (0.92, 1.6322506846556246)\n",
       " (0.85, 1.3739451044574138)\n",
       " (0.93, 0.21217739206443034)\n",
       " (0.9, 0.18690359039665994)"
      ]
     },
     "execution_count": 28,
     "metadata": {},
     "output_type": "execute_result"
    }
   ],
   "source": [
    "averages = []\n",
    "for row in eachrow(results[1,:,:])\n",
    "    coverage = sum([j for (j, _) in row]) / S\n",
    "    width = sum([j for (_, j) in row]) / S\n",
    "    push!(averages, (coverage, width))\n",
    "end\n",
    "averages"
   ]
  },
  {
   "cell_type": "code",
   "execution_count": 70,
   "id": "ce51da64",
   "metadata": {},
   "outputs": [
    {
     "name": "stdout",
     "output_type": "stream",
     "text": [
      "  0.292847 seconds (510.31 k allocations: 55.944 MiB, 93.62% compilation time)\n"
     ]
    },
    {
     "data": {
      "text/plain": [
       "0.05034965f0"
      ]
     },
     "execution_count": 70,
     "metadata": {},
     "output_type": "execute_result"
    }
   ],
   "source": [
    "x = X[:,1,1]\n",
    "y = Y[:,1,1]\n",
    "@time permInterval(x, y, deltas[1], (px, py, 0), true, alpha, twoSided, twoSided)\n",
    "\n",
    "permInterval(x, y, deltas[1], (px, py, 0), true, alpha/2, greater, smaller)\n",
    "\n",
    "pval(x, y, 2.4218399175319254, (px, py, 0), true, twoSided)"
   ]
  }
 ],
 "metadata": {
  "kernelspec": {
   "display_name": "Julia_112 1.7.1",
   "language": "julia",
   "name": "julia_112-1.7"
  },
  "language_info": {
   "file_extension": ".jl",
   "mimetype": "application/julia",
   "name": "julia",
   "version": "1.7.1"
  }
 },
 "nbformat": 4,
 "nbformat_minor": 5
}
