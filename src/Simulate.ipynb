{
 "cells": [
  {
   "cell_type": "code",
   "execution_count": 2,
   "id": "745390e7",
   "metadata": {},
   "outputs": [
    {
     "data": {
      "text/plain": [
       "112"
      ]
     },
     "execution_count": 2,
     "metadata": {},
     "output_type": "execute_result"
    }
   ],
   "source": [
    "using Random\n",
    "using Distributions\n",
    "using FLoops\n",
    "using Base.Threads\n",
    "using BenchmarkTools\n",
    "\n",
    "include(\"data.jl\")\n",
    "include(\"util.jl\")\n",
    "\n",
    "include(\"intervals/permutation.jl\")\n",
    "include(\"intervals/bootstrap.jl\")\n",
    "include(\"intervals/t.jl\")\n",
    "\n",
    "Threads.nthreads()"
   ]
  },
  {
   "cell_type": "code",
   "execution_count": 3,
   "id": "3e3dc911",
   "metadata": {},
   "outputs": [
    {
     "data": {
      "text/plain": [
       "([1 1 … 9 10; 2 2 … 11 11; … ; 7 7 … 16 16; 8 9 … 17 17], [17 17 … 10 9; 16 16 … 8 8; … ; 10 10 … 2 2; 9 8 … 1 1])"
      ]
     },
     "execution_count": 3,
     "metadata": {},
     "output_type": "execute_result"
    }
   ],
   "source": [
    "dtype = Float32\n",
    "seed = 123\n",
    "\n",
    "# DATA CONFIG\n",
    "\n",
    "alpha = 0.05\n",
    "\n",
    "# data\n",
    "B  = 100   # num. coverage probabilities per boxplot\n",
    "S  = 4300  # num. samples per coverage probability\n",
    "nx = 8   # size of group 1\n",
    "ny = 9    # size of group 2\n",
    "MC = 10_000\n",
    "perms = nothing\n",
    "if binomial(nx + ny, nx) < 30_000\n",
    "    perms = partition(nx, ny)\n",
    "end"
   ]
  },
  {
   "cell_type": "code",
   "execution_count": 4,
   "id": "243739c1",
   "metadata": {},
   "outputs": [],
   "source": [
    "# POPULATION SETTINGS\n",
    "\n",
    "Random.seed!(123)\n",
    "\n",
    "distrTypeX = Normal{dtype}\n",
    "X_mu = random(Uniform(-1, 1), B)\n",
    "X_sigma = random(Uniform(0.5, 1), B)\n",
    "distrX = map(distrTypeX, X_mu, X_sigma)\n",
    "\n",
    "distrTypeY = Normal{dtype}\n",
    "Y_mu = X_mu\n",
    "Y_sigma = random(Uniform(1.5, 2), B)\n",
    "distrY = map(distrTypeY, Y_mu, Y_sigma)\n",
    ";"
   ]
  },
  {
   "cell_type": "code",
   "execution_count": 5,
   "id": "9192936d",
   "metadata": {},
   "outputs": [
    {
     "name": "stdout",
     "output_type": "stream",
     "text": [
      "distrX[1:2] = Normal{Float32}[Normal{Float32}(μ=0.813f0, σ=0.977f0), Normal{Float32}(μ=-0.113f0, σ=0.923f0)]\n",
      "distrY[1:2] = Normal{Float32}[Normal{Float32}(μ=0.813f0, σ=1.983f0), Normal{Float32}(μ=-0.113f0, σ=1.535f0)]\n",
      "deltas[1:2] = Float32[0.0, 0.0]\n"
     ]
    }
   ],
   "source": [
    "deltas = @. mean(distrX) - mean(distrY)\n",
    "\n",
    "@show distrX[1:2]\n",
    "@show distrY[1:2]\n",
    "@show deltas[1:2];"
   ]
  },
  {
   "cell_type": "code",
   "execution_count": 6,
   "id": "6f519fd9",
   "metadata": {},
   "outputs": [
    {
     "name": "stdout",
     "output_type": "stream",
     "text": [
      "size(ys) = (100,)\n"
     ]
    },
    {
     "data": {
      "text/plain": [
       "9×4300 Matrix{Float32}:\n",
       " -0.902477    -2.04466   -1.60487   …   2.11726    1.71138     0.0402462\n",
       " -1.44411     -0.112212   0.160702     -0.98992    0.0881085   2.29172\n",
       " -0.334489    -0.082353  -1.18844       1.82412    0.176726   -0.954524\n",
       " -0.00729625   0.945658  -1.78854      -0.42551    1.36516     0.811924\n",
       " -0.159706     1.25432   -1.67344      -3.14253    3.51393     1.18724\n",
       " -1.58751      0.662799   2.92263   …  -0.167795  -0.709806   -1.54364\n",
       "  1.60311     -0.675307  -1.24478       1.62218    0.437874    1.10455\n",
       " -0.578301    -1.81976    0.460858     -3.55892    0.69047    -0.0107497\n",
       "  0.260769     2.27429    0.133193      2.03919    1.94998     0.532423"
      ]
     },
     "execution_count": 6,
     "metadata": {},
     "output_type": "execute_result"
    }
   ],
   "source": [
    "Random.seed!(123)\n",
    "xs = [dtype.(rand(distrX[i], nx, S)) for i in 1:B]\n",
    "ys = [dtype.(rand(distrY[i], ny, S)) for i in 1:B]\n",
    "@show size(ys)\n",
    "ys[2]"
   ]
  },
  {
   "cell_type": "code",
   "execution_count": 7,
   "id": "d87ae775",
   "metadata": {},
   "outputs": [
    {
     "data": {
      "text/plain": [
       "9×4300 Matrix{Float32}:\n",
       " -0.902477    -2.04466   -1.60487   …   2.11726    1.71138     0.0402462\n",
       " -1.44411     -0.112212   0.160702     -0.98992    0.0881085   2.29172\n",
       " -0.334489    -0.082353  -1.18844       1.82412    0.176726   -0.954524\n",
       " -0.00729625   0.945658  -1.78854      -0.42551    1.36516     0.811924\n",
       " -0.159706     1.25432   -1.67344      -3.14253    3.51393     1.18724\n",
       " -1.58751      0.662799   2.92263   …  -0.167795  -0.709806   -1.54364\n",
       "  1.60311     -0.675307  -1.24478       1.62218    0.437874    1.10455\n",
       " -0.578301    -1.81976    0.460858     -3.55892    0.69047    -0.0107497\n",
       "  0.260769     2.27429    0.133193      2.03919    1.94998     0.532423"
      ]
     },
     "execution_count": 7,
     "metadata": {},
     "output_type": "execute_result"
    }
   ],
   "source": [
    "# flatten into 3D matrix\n",
    "X = reshape(hcat(xs...), nx, S, B)\n",
    "Y = reshape(hcat(ys...), ny, S, B)\n",
    "Y[:,:,2]"
   ]
  },
  {
   "cell_type": "code",
   "execution_count": 8,
   "id": "4ca7eaf7",
   "metadata": {},
   "outputs": [
    {
     "data": {
      "text/plain": [
       "save_permutation_results (generic function with 1 method)"
      ]
     },
     "execution_count": 8,
     "metadata": {},
     "output_type": "execute_result"
    }
   ],
   "source": [
    "function save_ci_results(results, methodId, B, S, pooled=nothing, two_sided=nothing; prefix=\"\", dir=\"./\")\n",
    "    averages = []\n",
    "\n",
    "    for batchId in 1:B\n",
    "        batch = results[methodId, batchId, :]\n",
    "        coverage = sum([j for (j, _) in batch]) / S\n",
    "        width = sum([j for (_, j) in batch]) / S\n",
    "        push!(averages, (coverage, width))\n",
    "    end\n",
    "    if isnothing(two_sided)\n",
    "        save(averages, distrX[1:B], distrY[1:B], alpha, prefix=prefix, dir=dir)\n",
    "    else\n",
    "        alpha_ = two_sided ? alpha : alpha / 2\n",
    "        save(averages, distrX[1:B], distrY[1:B], alpha_, pooled, two_sided, prefix=prefix, dir=dir)\n",
    "    end\n",
    "end\n",
    "\n",
    "function save_permutation_results(results, B, S; prefix=\"\", dir=\"./\")\n",
    "    i = 1\n",
    "    per_method = []\n",
    "    for two_sided in [true, false]\n",
    "        for pooled in [true, false]\n",
    "            save_ci_results(results, i, B, S, pooled, two_sided, prefix=prefix, dir=dir)\n",
    "            i += 1\n",
    "        end\n",
    "    end\n",
    "end"
   ]
  },
  {
   "cell_type": "code",
   "execution_count": 9,
   "id": "c9c9823f",
   "metadata": {},
   "outputs": [
    {
     "name": "stdout",
     "output_type": "stream",
     "text": [
      "3429.800294 seconds (3.35 G allocations: 78.785 TiB, 51.59% gc time, 0.21% compilation time)\n",
      "dir * filename = \"../results/8_9/2/twoSided_pooled_0.05.csv\"\n",
      "dir * filename = \"../results/8_9/2/twoSided_unpooled_0.05.csv\"\n",
      "dir * filename = \"../results/8_9/2/oneSided_pooled_0.025.csv\"\n",
      "dir * filename = \"../results/8_9/2/oneSided_unpooled_0.025.csv\"\n"
     ]
    }
   ],
   "source": [
    "T = Threads.nthreads()\n",
    "results = Array{Union{Tuple, Nothing}, 3}(nothing, 6, B, S)\n",
    "\n",
    "#@time Threads.@threads for (i,j) in collect(Iterators.product(1:B, 1:S)) # 15.52 sec on (B,S) = (5, 1800)\n",
    "@time @floop ThreadedEx(basesize=div(B*S, T)) for b in 1:B, s in 1:S\n",
    "    @inbounds x = X[:,s,b]\n",
    "    @inbounds y = Y[:,s,b]\n",
    " \n",
    "    results[1, b, s] = permInterval(x, y, deltas[b], perms, true, alpha, twoSided, twoSided, 0.0005)    \n",
    "    results[2, b, s] = permInterval(x, y, deltas[b], perms, false, alpha, twoSided, twoSided, 0.0005)\n",
    "    results[3, b, s] = permInterval(x, y, deltas[b], perms, true, alpha/2, greater, smaller, 0.0005)\n",
    "    results[4, b, s] = permInterval(x, y, deltas[b], perms, false, alpha/2, greater, smaller, 0.0005)\n",
    "    \n",
    "    \"\"\"\n",
    "    results[5, b, s] = bootstrap(x, y, deltas[b], alpha, nsamples=10_000)\n",
    "    results[6, b, s] = tconf(x, y, deltas[b], alpha, false)\n",
    "    \"\"\"\n",
    "end\n",
    "\n",
    "dir = \"../results/\" * string(nx) * \"_\" * string(ny) * \"/2/\"\n",
    "save_permutation_results(results, B, S; dir=dir)\n",
    "#save_ci_results(results, 6, B, S; prefix=\"bs\", dir=dir)"
   ]
  }
 ],
 "metadata": {
  "kernelspec": {
   "display_name": "Julia_112 1.7.1",
   "language": "julia",
   "name": "julia_112-1.7"
  },
  "language_info": {
   "file_extension": ".jl",
   "mimetype": "application/julia",
   "name": "julia",
   "version": "1.7.1"
  }
 },
 "nbformat": 4,
 "nbformat_minor": 5
}
