{
 "cells": [
  {
   "cell_type": "code",
   "execution_count": 1,
   "id": "1ccf2960",
   "metadata": {},
   "outputs": [
    {
     "data": {
      "text/plain": [
       "112"
      ]
     },
     "execution_count": 1,
     "metadata": {},
     "output_type": "execute_result"
    }
   ],
   "source": [
    "using Random\n",
    "using Distributions\n",
    "using FLoops\n",
    "using Base.Threads\n",
    "\n",
    "include(\"data.jl\")\n",
    "include(\"util.jl\")\n",
    "\n",
    "include(\"intervals/permutation.jl\")\n",
    "include(\"intervals/bootstrap.jl\")\n",
    "include(\"intervals/t.jl\")\n",
    "\n",
    "Threads.nthreads()"
   ]
  },
  {
   "cell_type": "code",
   "execution_count": 3,
   "id": "b4b96d0f",
   "metadata": {},
   "outputs": [
    {
     "name": "stdout",
     "output_type": "stream",
     "text": [
      "distrX[1:2] = Normal{Float32}[Normal{Float32}(μ=0.906f0, σ=0.954f0), Normal{Float32}(μ=0.443f0, σ=0.846f0)]\n",
      "distrY[1:2] = Normal{Float32}[Normal{Float32}(μ=2.766f0, σ=0.954f0), Normal{Float32}(μ=-1.273f0, σ=0.846f0)]\n",
      "deltas[1:2] = Float32[-1.86, 1.716]\n"
     ]
    }
   ],
   "source": [
    "\"\"\"\n",
    "DATA CONFIG\n",
    "\"\"\"\n",
    "alpha = 0.05\n",
    "\n",
    "# data\n",
    "B  = 100    # num. coverage probabilities per boxplot\n",
    "S  = 1825   # num. samples per coverage probability\n",
    "nx = 15      # size of group 1\n",
    "ny = 8     # size of group 2\n",
    "px, py = partition(nx, ny)\n",
    "mc_size = try\n",
    "    (binomial(nx+ny, nx) > 45_000) ? 10_000 : 0\n",
    "catch\n",
    "    0\n",
    "end\n",
    "\n",
    "# ALWAYS USE EXACT ENUMERATION FOR NOW\n",
    "# mc_size = 0\n",
    "\n",
    "dtype = Float32\n",
    "seed = 123\n",
    "\n",
    "\"\"\"\n",
    "POPULATION SETTINGS\n",
    "\"\"\"\n",
    "\n",
    "Random.seed!(seed)\n",
    "\n",
    "distrTypeX = Normal{dtype}\n",
    "X_mu = dtype.(round.(rand(B), digits=3))\n",
    "X_sigma = dtype.(round.(rand(B), digits=3))\n",
    "distrX = map(distrTypeX, X_mu, X_sigma)\n",
    "\n",
    "distrTypeY = Normal{dtype}\n",
    "Y_mu = dtype.(X_mu .+ ((round.(rand(B), digits=3) * 4) .- 2))\n",
    "Y_sigma = X_sigma\n",
    "distrY = map(distrTypeY, Y_mu, Y_sigma)\n",
    "\n",
    "deltas = @. mean(distrX) - mean(distrY)\n",
    "\n",
    "@show distrX[1:2]\n",
    "@show distrY[1:2]\n",
    "@show deltas[1:2];"
   ]
  },
  {
   "cell_type": "code",
   "execution_count": 4,
   "id": "7f2f9110",
   "metadata": {},
   "outputs": [
    {
     "name": "stdout",
     "output_type": "stream",
     "text": [
      "size(ys) = (100,)\n"
     ]
    },
    {
     "data": {
      "text/plain": [
       "8×1825 Matrix{Float32}:\n",
       " -2.28166   -1.1419    -3.18769  …  -1.73181   -0.948724  -1.76034\n",
       " -1.23177   -2.2025    -1.23641      0.48103   -1.59983   -1.3861\n",
       " -0.781374  -0.600414  -1.74909      0.2314    -2.1528    -3.04988\n",
       " -1.7223    -1.57811   -2.2822      -1.63318   -1.35202   -0.336312\n",
       " -1.70014   -0.952603  -1.1475      -1.68727   -2.91257   -0.638246\n",
       " -2.74712   -0.376529  -1.85082  …  -2.01309   -0.804211  -2.42942\n",
       " -3.0038    -2.73733   -1.04156     -0.636508  -2.33025   -0.750896\n",
       " -1.97228   -1.66221   -1.3331      -1.02326   -1.57945   -1.06126"
      ]
     },
     "execution_count": 4,
     "metadata": {},
     "output_type": "execute_result"
    }
   ],
   "source": [
    "Random.seed!(123)\n",
    "xs = [dtype.(rand(distrX[i], nx, S)) for i in 1:B]\n",
    "ys = [dtype.(rand(distrY[i], ny, S)) for i in 1:B]\n",
    "@show size(ys)\n",
    "ys[2]"
   ]
  },
  {
   "cell_type": "code",
   "execution_count": 5,
   "id": "f59a10df",
   "metadata": {},
   "outputs": [
    {
     "data": {
      "text/plain": [
       "8×1825 Matrix{Float32}:\n",
       " -2.28166   -1.1419    -3.18769  …  -1.73181   -0.948724  -1.76034\n",
       " -1.23177   -2.2025    -1.23641      0.48103   -1.59983   -1.3861\n",
       " -0.781374  -0.600414  -1.74909      0.2314    -2.1528    -3.04988\n",
       " -1.7223    -1.57811   -2.2822      -1.63318   -1.35202   -0.336312\n",
       " -1.70014   -0.952603  -1.1475      -1.68727   -2.91257   -0.638246\n",
       " -2.74712   -0.376529  -1.85082  …  -2.01309   -0.804211  -2.42942\n",
       " -3.0038    -2.73733   -1.04156     -0.636508  -2.33025   -0.750896\n",
       " -1.97228   -1.66221   -1.3331      -1.02326   -1.57945   -1.06126"
      ]
     },
     "execution_count": 5,
     "metadata": {},
     "output_type": "execute_result"
    }
   ],
   "source": [
    "# flatten into 3D matrix\n",
    "X = reshape(hcat(xs...), nx, S, B)\n",
    "Y = reshape(hcat(ys...), ny, S, B)\n",
    "Y[:,:,2]"
   ]
  },
  {
   "cell_type": "code",
   "execution_count": 6,
   "id": "b6c24678",
   "metadata": {},
   "outputs": [
    {
     "data": {
      "text/plain": [
       "save_permutation_results (generic function with 1 method)"
      ]
     },
     "execution_count": 6,
     "metadata": {},
     "output_type": "execute_result"
    }
   ],
   "source": [
    "function save_ci_results(results, methodId, B, S, pooled=nothing, two_sided=nothing; prefix=\"\", dir=\"./\")\n",
    "    averages = []\n",
    "    \n",
    "    for batchId in 1:B\n",
    "        batch = results[methodId, batchId, :]\n",
    "        coverage = sum([j for (j, _) in batch]) / S\n",
    "        width = sum([j for (_, j) in batch]) / S\n",
    "        push!(averages, (coverage, width))\n",
    "    end\n",
    "\n",
    "    if isnothing(two_sided)\n",
    "        save(averages, distrX[1:B], distrY[1:B], alpha, prefix=prefix, dir=dir)\n",
    "    else\n",
    "        alpha_ = two_sided ? alpha : alpha / 2\n",
    "        save(averages, distrX[1:B], distrY[1:B], alpha_, pooled, two_sided, prefix=prefix, dir=dir)\n",
    "    end\n",
    "end\n",
    "\n",
    "function save_permutation_results(results, B, S; prefix=\"\", dir=\"./\")\n",
    "    i = 1\n",
    "    per_method = []\n",
    "    for two_sided in [true, false]\n",
    "        for pooled in [true, false]\n",
    "            save_ci_results(results, i, B, S, pooled, two_sided, prefix=prefix, dir=dir)\n",
    "            i += 1\n",
    "        end\n",
    "    end\n",
    "end"
   ]
  },
  {
   "cell_type": "code",
   "execution_count": 7,
   "id": "d65a8a9b",
   "metadata": {},
   "outputs": [
    {
     "name": "stdout",
     "output_type": "stream",
     "text": [
      "2534.511027 seconds (3.84 G allocations: 408.328 GiB, 93.69% gc time, 0.20% compilation time)\n",
      "dir * filename = \"../results/15_8/1/bs_0.05.csv\"\n"
     ]
    },
    {
     "data": {
      "text/plain": [
       "\"../results/15_8/1/bs_0.05.csv\""
      ]
     },
     "execution_count": 7,
     "metadata": {},
     "output_type": "execute_result"
    }
   ],
   "source": [
    "B = 100\n",
    "S = 1825\n",
    "\n",
    "T = Threads.nthreads()\n",
    "results = Array{Union{Nothing, Tuple}, 3}(undef, 6, B, S)\n",
    "fill!(results, nothing)\n",
    "mc_size = 0\n",
    "\n",
    "#@time Threads.@threads for (i,j) in collect(Iterators.product(1:B, 1:S)) # 15.52 sec on (B,S) = (5, 1800)\n",
    "@time @floop ThreadedEx(basesize=div(B*S, T)) for b in 1:B, s in 1:S\n",
    "    @inbounds x = X[:,s,b]\n",
    "    @inbounds y = Y[:,s,b]\n",
    "\n",
    "    \"\"\" \n",
    "    results[1, b, s] = permInterval(x, y, deltas[b], (px, py, mc_size), true, alpha, twoSided, twoSided)    \n",
    "    results[2, b, s] = permInterval(x, y, deltas[b], (px, py, mc_size), false, alpha, twoSided, twoSided)\n",
    "    results[3, b, s] = permInterval(x, y, deltas[b], (px, py, mc_size), true, alpha/2, greater, smaller, 0.0005)\n",
    "    results[4, b, s] = permInterval(x, y, deltas[b], (px, py, mc_size), false, alpha/2, greater, smaller, 0.0005)\n",
    "    \"\"\"\n",
    "    \n",
    "    results[5, b, s] = bootstrap(x, y, deltas[b], alpha, nsamples=10_000)\n",
    "    \"\"\"\n",
    "    results[6, b, s] = tconf(x, y, deltas[b], alpha, false)\n",
    "    \"\"\"\n",
    "end\n",
    "\n",
    "dir = \"../results/\" * string(nx) * \"_\" * string(ny) * \"/1/\"\n",
    "save_ci_results(results, 5, B, S, true; prefix=\"bs\", dir=dir)\n",
    "#save_permutation_results(results, B, S; dir=dir)"
   ]
  },
  {
   "cell_type": "code",
   "execution_count": 76,
   "id": "90fd9df5",
   "metadata": {},
   "outputs": [
    {
     "data": {
      "text/plain": [
       "5-element Vector{Any}:\n",
       " (0.9041095890410958, 1.7169137288119696)\n",
       " (0.8964383561643836, 1.5188572278067674)\n",
       " (0.9057534246575343, 1.0491979467480967)\n",
       " (0.8997260273972603, 0.21909246020121118)\n",
       " (0.9145205479452054, 0.2478563258378473)"
      ]
     },
     "execution_count": 76,
     "metadata": {},
     "output_type": "execute_result"
    }
   ],
   "source": [
    "averages = []\n",
    "for row in eachrow(results[5,:,:])\n",
    "    coverage = sum([j for (j, _) in row]) / S\n",
    "    width = sum([j for (_, j) in row]) / S\n",
    "    push!(averages, (coverage, width))\n",
    "end\n",
    "averages"
   ]
  },
  {
   "cell_type": "markdown",
   "id": "8498bd70",
   "metadata": {},
   "source": [
    "---"
   ]
  },
  {
   "cell_type": "code",
   "execution_count": 70,
   "id": "5b8c759c",
   "metadata": {},
   "outputs": [
    {
     "name": "stdout",
     "output_type": "stream",
     "text": [
      "  0.292847 seconds (510.31 k allocations: 55.944 MiB, 93.62% compilation time)\n"
     ]
    },
    {
     "data": {
      "text/plain": [
       "0.05034965f0"
      ]
     },
     "execution_count": 70,
     "metadata": {},
     "output_type": "execute_result"
    }
   ],
   "source": [
    "x = X[:,1,1]\n",
    "y = Y[:,1,1]\n",
    "@time permInterval(x, y, deltas[1], (px, py, 0), true, alpha, twoSided, twoSided)\n",
    "\n",
    "permInterval(x, y, deltas[1], (px, py, 0), true, alpha/2, greater, smaller)\n",
    "\n",
    "pval(x, y, 2.4218399175319254, (px, py, 0), true, twoSided)"
   ]
  }
 ],
 "metadata": {
  "kernelspec": {
   "display_name": "Julia_112 1.7.1",
   "language": "julia",
   "name": "julia_112-1.7"
  },
  "language_info": {
   "file_extension": ".jl",
   "mimetype": "application/julia",
   "name": "julia",
   "version": "1.7.1"
  }
 },
 "nbformat": 4,
 "nbformat_minor": 5
}
