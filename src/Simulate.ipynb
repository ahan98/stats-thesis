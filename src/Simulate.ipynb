{
 "cells": [
  {
   "cell_type": "code",
   "execution_count": 2,
   "metadata": {},
   "outputs": [
    {
     "data": {
      "text/plain": [
       "16"
      ]
     },
     "execution_count": 2,
     "metadata": {},
     "output_type": "execute_result"
    }
   ],
   "source": [
    "using Random\n",
    "using Distributions\n",
    "using FLoops\n",
    "using Base.Threads\n",
    "\n",
    "include(\"data.jl\")\n",
    "include(\"util.jl\")\n",
    "\n",
    "include(\"intervals/permutation.jl\")\n",
    "include(\"intervals/bootstrap.jl\")\n",
    "include(\"intervals/t.jl\")\n",
    "\n",
    "Threads.nthreads()"
   ]
  },
  {
   "cell_type": "code",
   "execution_count": 3,
   "metadata": {},
   "outputs": [
    {
     "name": "stdout",
     "output_type": "stream",
     "text": [
      "distrY[1:3] = Normal{Float32}[Normal{Float32}(μ=0.9542f0, σ=1.9084f0), Normal{Float32}(μ=0.8459f0, σ=1.6918f0), Normal{Float32}(μ=0.5867f0, σ=1.1734f0)]\n"
     ]
    }
   ],
   "source": [
    "\"\"\"\n",
    "DATA CONFIG\n",
    "\"\"\"\n",
    "alpha = 0.05\n",
    "\n",
    "# data\n",
    "B  = 100    # num. coverage probabilities per boxplot\n",
    "S  = 1800   # num. samples per coverage probability\n",
    "nx = 8      # size of group 1\n",
    "ny = 8     # size of group 2\n",
    "px, py = partition(nx, ny)\n",
    "mc_size = try\n",
    "    (binomial(nx+ny, nx) > 45_000) ? 10_000 : 0\n",
    "catch\n",
    "    0\n",
    "end\n",
    "\n",
    "dtype = Float32\n",
    "seed = 123\n",
    "\n",
    "\"\"\"\n",
    "POPULATION SETTINGS\n",
    "\"\"\"\n",
    "\n",
    "Random.seed!(seed)\n",
    "distrTypeX = Normal{dtype}\n",
    "muX = dtype.(round.(rand(Uniform(0, 1), B), digits=4))\n",
    "sdX = 2 * muX\n",
    "distrX = map(distrTypeX, muX, sdX)\n",
    "\n",
    "distrTypeY = Normal{dtype}\n",
    "muY = dtype.(round.(rand(Uniform(0, 1), B), digits=4))\n",
    "sdY = 2 * muY\n",
    "distrY = map(distrTypeY, muY, sdY)\n",
    "\n",
    "@show distrY[1:3]\n",
    "\n",
    "deltas = @. mean(distrX) - mean(distrY);"
   ]
  },
  {
   "cell_type": "code",
   "execution_count": 4,
   "metadata": {},
   "outputs": [
    {
     "data": {
      "text/plain": [
       "8×1800 Matrix{Float32}:\n",
       "  1.64304    0.427069   4.01956   …   2.63878    2.70283    -0.202007\n",
       "  0.418447   1.34317   -1.46597      -0.545218   3.14764     2.42861\n",
       "  1.74494    0.55856    0.130721     -3.98272    2.51431    -1.66733\n",
       " -3.92348    3.17468    0.763631      0.754839  -0.0685847   2.66572\n",
       " -0.386198   3.04206   -1.60965       0.773651  -1.56575    -1.44321\n",
       "  4.09075   -0.471276   2.1126    …   4.67817    1.68657    -1.48642\n",
       "  1.38358    1.98887    2.30283       0.439505  -1.81795     1.48651\n",
       "  0.373906   1.98244   -0.554305     -0.532434   1.47835     1.15004"
      ]
     },
     "execution_count": 4,
     "metadata": {},
     "output_type": "execute_result"
    }
   ],
   "source": [
    "Random.seed!(123)\n",
    "xs = [rand(distrX[i], nx, S) for i in 1:B]\n",
    "ys = [rand(distrY[i], nx, S) for i in 1:B]\n",
    "ys[2]"
   ]
  },
  {
   "cell_type": "code",
   "execution_count": 5,
   "metadata": {},
   "outputs": [
    {
     "data": {
      "text/plain": [
       "8×1800 Matrix{Float32}:\n",
       "  1.64304    0.427069   4.01956   …   2.63878    2.70283    -0.202007\n",
       "  0.418447   1.34317   -1.46597      -0.545218   3.14764     2.42861\n",
       "  1.74494    0.55856    0.130721     -3.98272    2.51431    -1.66733\n",
       " -3.92348    3.17468    0.763631      0.754839  -0.0685847   2.66572\n",
       " -0.386198   3.04206   -1.60965       0.773651  -1.56575    -1.44321\n",
       "  4.09075   -0.471276   2.1126    …   4.67817    1.68657    -1.48642\n",
       "  1.38358    1.98887    2.30283       0.439505  -1.81795     1.48651\n",
       "  0.373906   1.98244   -0.554305     -0.532434   1.47835     1.15004"
      ]
     },
     "execution_count": 5,
     "metadata": {},
     "output_type": "execute_result"
    }
   ],
   "source": [
    "X = reshape(hcat(xs...), 8, S, B)\n",
    "Y = reshape(hcat(ys...), 8, S, B)\n",
    "Y[:,:,2]"
   ]
  },
  {
   "cell_type": "code",
   "execution_count": 13,
   "metadata": {},
   "outputs": [
    {
     "name": "stdout",
     "output_type": "stream",
     "text": [
      "  7.235667 seconds (6.48 M allocations: 69.601 GiB, 11.87% gc time, 1.57% compilation time)\n"
     ]
    },
    {
     "data": {
      "text/plain": [
       "4-element Vector{Any}:\n",
       " Any[(0.9, 3.427311873339935), (0.9, 2.394524247724658), (0.8, 2.1974981228157184), (1.0, 1.3356003101044496), (0.8, 0.7358609112716937), (0.9, 0.832752014937228), (0.9, 1.3569443539703812), (0.9, 2.990785960701275), (0.9, 0.39854449124318553), (1.0, 1.9772253658628631)  …  (1.0, 1.1516825105566277), (0.9, 2.268885293866494), (1.0, 2.319162144572429), (0.9, 2.631759669909701), (1.0, 0.36326906067069664), (1.0, 1.7441511597468256), (0.9, 2.0780659791263947), (0.9, 2.1327812488110696), (0.8, 0.3811564452536488), (0.9, 2.4128481089222458)]\n",
       " Any[(0.9, 3.412378722741748), (0.9, 2.3938926152039963), (0.8, 2.1891448965453186), (1.0, 1.564556309192551), (0.8, 0.7349399738857878), (0.9, 0.8336170113681746), (0.9, 1.3559603346243345), (0.8, 2.9682378485234837), (0.9, 0.39746973222672666), (1.0, 1.9771481343213442)  …  (1.0, 1.2117820158624182), (1.0, 2.2513591915541005), (1.0, 2.3082002358986857), (0.9, 2.6019247454712846), (1.0, 0.3610296505975924), (1.0, 1.755792645246153), (0.9, 2.0673341841416524), (0.9, 2.130480000565094), (0.8, 0.3790736753527463), (0.9, 2.410967033968236)]\n",
       " Any[(1.0, 4.121514949888117), (0.9, 2.893558554025083), (0.9, 2.662490527451806), (1.0, 1.6055550122814133), (0.9, 0.8851089953930419), (0.9, 1.0177660218132631), (0.9, 1.6419602603240206), (1.0, 3.6092156853134947), (0.9, 0.4802321079521919), (1.0, 2.3986427958133834)  …  (1.0, 1.3925392503042509), (1.0, 2.722280668685889), (1.0, 2.7900326958434767), (0.9, 3.150428919445377), (1.0, 0.4388491092016282), (1.0, 2.0978255507383303), (1.0, 2.4992132424134668), (0.9, 2.558544326136835), (0.9, 0.45787284843581233), (1.0, 2.934027761811634)]\n",
       " Any[(1.0, 4.176121506141007), (0.9, 2.872859168954749), (0.9, 2.700269760641287), (1.0, 1.7813752427349836), (0.9, 0.889046043342038), (0.9, 1.0068282636549786), (0.9, 1.6365158184026796), (1.0, 3.595001776216459), (0.9, 0.4856772922547351), (1.0, 2.394365312962668)  …  (1.0, 1.458782001216425), (1.0, 2.694925413173287), (1.0, 2.8002264376410153), (0.9, 3.205934861331154), (1.0, 0.4405550891318157), (1.0, 2.085935633001473), (1.0, 2.528009280429287), (0.9, 2.590954435136996), (0.9, 0.45971756551180754), (1.0, 2.876941923870044)]"
      ]
     },
     "execution_count": 13,
     "metadata": {},
     "output_type": "execute_result"
    }
   ],
   "source": [
    "B = 100\n",
    "S = 10\n",
    "\n",
    "T = Threads.nthreads()\n",
    "results = Array{Union{Nothing, Tuple}, 3}(undef, 6, B, S)\n",
    "fill!(results, nothing)\n",
    "\n",
    "#@time Threads.@threads for (i,j) in collect(Iterators.product(1:B, 1:S)) # 15.52 sec on (B,S) = (5, 1800)\n",
    "@time @floop ThreadedEx(basesize=div(B*S, T)) for b in 1:B, s in 1:S\n",
    "    @inbounds x = X[:,s,b]\n",
    "    @inbounds y = Y[:,s,b]\n",
    "    \n",
    "    results[1, b, s] = permInterval(x, y, deltas[b], (px, py, mc_size), true, 0.05, twoSided, twoSided)\n",
    "    results[2, b, s] = permInterval(x, y, deltas[b], (px, py, mc_size), false, alpha, twoSided, twoSided)\n",
    "    results[3, b, s] = permInterval(x, y, deltas[b], (px, py, mc_size), true, alpha/2, greater, smaller)\n",
    "    results[4, b, s] = permInterval(x, y, deltas[b], (px, py, mc_size), false, alpha/2, greater, smaller)\n",
    "    \n",
    "    \"\"\"\n",
    "    lo, hi = bootstrap(x, y, 0.05, false, 10_000)\n",
    "    coverages[5] += (lo <= delta <= hi)\n",
    "\n",
    "    lo, hi = tconf(x, y, 0.05, false)\n",
    "    coverages[6] += (lo <= delta <= hi)\n",
    "    \"\"\"\n",
    "end\n",
    "\n",
    "i = 1\n",
    "per_method = []\n",
    "for is_two_sided in [true, false]\n",
    "    for pooled in [true, false]\n",
    "        averages = []\n",
    "        \n",
    "        for row in eachrow(results[i,:,:])\n",
    "            coverage = sum([j for (j, _) in row]) / S\n",
    "            width = sum([j for (_, j) in row]) / S\n",
    "            push!(averages, (coverage, width))\n",
    "        end\n",
    "        push!(per_method, averages)\n",
    "        \n",
    "        alpha_ = is_two_sided ? alpha : alpha / 2\n",
    "        save(averages, distrX, distrY, alpha_, pooled, is_two_sided)\n",
    "        i += 1\n",
    "    end\n",
    "end"
   ]
  },
  {
   "cell_type": "markdown",
   "metadata": {},
   "source": [
    "Alex Han\n",
    "\n",
    "InvertingPermutationTests2022"
   ]
  }
 ],
 "metadata": {
  "kernelspec": {
   "display_name": "Julia (16 threads) 1.7.1",
   "language": "julia",
   "name": "julia-(16-threads)-1.7"
  },
  "language_info": {
   "file_extension": ".jl",
   "mimetype": "application/julia",
   "name": "julia",
   "version": "1.7.1"
  }
 },
 "nbformat": 4,
 "nbformat_minor": 5
}
