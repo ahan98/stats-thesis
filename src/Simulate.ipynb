{
 "cells": [
  {
   "cell_type": "code",
   "execution_count": 95,
   "id": "d83161ad",
   "metadata": {},
   "outputs": [
    {
     "data": {
      "text/plain": [
       "generateData (generic function with 3 methods)"
      ]
     },
     "execution_count": 95,
     "metadata": {},
     "output_type": "execute_result"
    }
   ],
   "source": [
    "using Random\n",
    "using Distributions\n",
    "\n",
    "include(\"simulate.jl\")\n",
    "include(\"data.jl\")"
   ]
  },
  {
   "cell_type": "code",
   "execution_count": 71,
   "id": "6c66990c",
   "metadata": {},
   "outputs": [
    {
     "data": {
      "text/plain": [
       "([0.8590659; 0.3663767; … ; 2.5245826; 1.886721;;;], [2.4790723; 1.922852; … ; 5.880738; 1.8599702;;;], Float32[-0.6809921], LogNormal{Float32}[LogNormal{Float32}(μ=0.5212f0, σ=1.0424f0)], LogNormal{Float32}[LogNormal{Float32}(μ=0.5868f0, σ=1.1736f0)])"
      ]
     },
     "execution_count": 71,
     "metadata": {},
     "output_type": "execute_result"
    }
   ],
   "source": [
    "\"\"\"\n",
    "DATA CONFIG\n",
    "\"\"\"\n",
    "alpha = 0.05\n",
    "\n",
    "# data\n",
    "B  = 1    # num. coverage probabilities per boxplot\n",
    "S  = 1   # num. samples per coverage probability\n",
    "nx = 25      # size of group 1\n",
    "ny = 13     # size of group 2\n",
    "dtype = Float32\n",
    "seed = 123\n",
    "\n",
    "\"\"\"\n",
    "POPULATION SETTINGS\n",
    "\"\"\"\n",
    "\n",
    "Random.seed!(seed)\n",
    "distrTypeX = LogNormal{dtype}\n",
    "muX = dtype.(round.(rand(Uniform(0, 1), B), digits=4))\n",
    "sdX = 2 * muX\n",
    "paramsX = (muX, sdX)\n",
    "\n",
    "distrTypeY = LogNormal{dtype}\n",
    "muY = dtype.(round.(rand(Uniform(0, 1), B), digits=4))\n",
    "sdY = 2 * muY\n",
    "paramsY = (muY, sdY)\n",
    "\n",
    "x, y, deltas, distrX, distrY = generateData(B, S, nx, ny,\n",
    "                                            distrTypeX, paramsX, distrTypeY, paramsY,\n",
    "                                            dtype, seed)"
   ]
  },
  {
   "cell_type": "code",
   "execution_count": 96,
   "id": "23e128c0",
   "metadata": {},
   "outputs": [],
   "source": [
    "mc_size = try\n",
    "    (binomial(nx+ny, nx) > 45_000) ? 10_000 : 0\n",
    "catch\n",
    "    0\n",
    "end\n",
    "\n",
    "simulate_perm(x, y, deltas, distrX, distrY,\n",
    "              alpha=alpha, mc_size=mc_size, save_csv=true)"
   ]
  },
  {
   "cell_type": "code",
   "execution_count": 73,
   "id": "6ac34b0b",
   "metadata": {},
   "outputs": [],
   "source": [
    "simulate_bootstrap(x, y, deltas, distrX, distrY,\n",
    "                   alpha=alpha, nsamples=10_000, save_csv=false)"
   ]
  },
  {
   "cell_type": "code",
   "execution_count": 74,
   "id": "77299c2c",
   "metadata": {},
   "outputs": [],
   "source": [
    "simulate_t(x, y, deltas, distrX, distrY,\n",
    "           alpha=alpha, save_csv=false)"
   ]
  }
 ],
 "metadata": {
  "kernelspec": {
   "display_name": "Julia 1.7.1",
   "language": "julia",
   "name": "julia-1.7"
  },
  "language_info": {
   "file_extension": ".jl",
   "mimetype": "application/julia",
   "name": "julia",
   "version": "1.7.1"
  }
 },
 "nbformat": 4,
 "nbformat_minor": 5
}
