{
 "cells": [
  {
   "cell_type": "code",
   "execution_count": 4,
   "id": "4c030ee6",
   "metadata": {},
   "outputs": [],
   "source": [
    "using DataFrames, DelimitedFiles"
   ]
  },
  {
   "cell_type": "code",
   "execution_count": 10,
   "id": "208ea8c2",
   "metadata": {},
   "outputs": [
    {
     "data": {
      "text/plain": [
       "100-element Vector{Float32}:\n",
       " 0.9627778\n",
       " 0.94777775\n",
       " 0.95\n",
       " 0.9527778\n",
       " 0.94722223\n",
       " 0.95666665\n",
       " 0.9461111\n",
       " 0.9588889\n",
       " 0.9583333\n",
       " 0.95\n",
       " 0.9483333\n",
       " 0.94722223\n",
       " 0.95944446\n",
       " ⋮\n",
       " 0.9494445\n",
       " 0.95444447\n",
       " 0.945\n",
       " 0.9494445\n",
       " 0.9483333\n",
       " 0.9522222\n",
       " 0.9588889\n",
       " 0.95055556\n",
       " 0.94277775\n",
       " 0.9527778\n",
       " 0.9522222\n",
       " 0.9483333"
      ]
     },
     "execution_count": 10,
     "metadata": {},
     "output_type": "execute_result"
    }
   ],
   "source": [
    "coverages = readdlm(\"results2.txt\", '\\n', Float32)\n",
    "coverages = vec(coverages)"
   ]
  },
  {
   "cell_type": "code",
   "execution_count": 11,
   "id": "ef88a53d",
   "metadata": {},
   "outputs": [
    {
     "data": {
      "text/html": [
       "<div class=\"data-frame\"><p>100 rows × 1 columns</p><table class=\"data-frame\"><thead><tr><th></th><th>coverage</th></tr><tr><th></th><th title=\"Float32\">Float32</th></tr></thead><tbody><tr><th>1</th><td>0.962778</td></tr><tr><th>2</th><td>0.947778</td></tr><tr><th>3</th><td>0.95</td></tr><tr><th>4</th><td>0.952778</td></tr><tr><th>5</th><td>0.947222</td></tr><tr><th>6</th><td>0.956667</td></tr><tr><th>7</th><td>0.946111</td></tr><tr><th>8</th><td>0.958889</td></tr><tr><th>9</th><td>0.958333</td></tr><tr><th>10</th><td>0.95</td></tr><tr><th>11</th><td>0.948333</td></tr><tr><th>12</th><td>0.947222</td></tr><tr><th>13</th><td>0.959444</td></tr><tr><th>14</th><td>0.952778</td></tr><tr><th>15</th><td>0.940556</td></tr><tr><th>16</th><td>0.94</td></tr><tr><th>17</th><td>0.948333</td></tr><tr><th>18</th><td>0.946111</td></tr><tr><th>19</th><td>0.946111</td></tr><tr><th>20</th><td>0.951667</td></tr><tr><th>21</th><td>0.947778</td></tr><tr><th>22</th><td>0.954444</td></tr><tr><th>23</th><td>0.947778</td></tr><tr><th>24</th><td>0.955</td></tr><tr><th>25</th><td>0.955556</td></tr><tr><th>26</th><td>0.952222</td></tr><tr><th>27</th><td>0.954444</td></tr><tr><th>28</th><td>0.95</td></tr><tr><th>29</th><td>0.953333</td></tr><tr><th>30</th><td>0.941111</td></tr><tr><th>&vellip;</th><td>&vellip;</td></tr></tbody></table></div>"
      ],
      "text/latex": [
       "\\begin{tabular}{r|c}\n",
       "\t& coverage\\\\\n",
       "\t\\hline\n",
       "\t& Float32\\\\\n",
       "\t\\hline\n",
       "\t1 & 0.962778 \\\\\n",
       "\t2 & 0.947778 \\\\\n",
       "\t3 & 0.95 \\\\\n",
       "\t4 & 0.952778 \\\\\n",
       "\t5 & 0.947222 \\\\\n",
       "\t6 & 0.956667 \\\\\n",
       "\t7 & 0.946111 \\\\\n",
       "\t8 & 0.958889 \\\\\n",
       "\t9 & 0.958333 \\\\\n",
       "\t10 & 0.95 \\\\\n",
       "\t11 & 0.948333 \\\\\n",
       "\t12 & 0.947222 \\\\\n",
       "\t13 & 0.959444 \\\\\n",
       "\t14 & 0.952778 \\\\\n",
       "\t15 & 0.940556 \\\\\n",
       "\t16 & 0.94 \\\\\n",
       "\t17 & 0.948333 \\\\\n",
       "\t18 & 0.946111 \\\\\n",
       "\t19 & 0.946111 \\\\\n",
       "\t20 & 0.951667 \\\\\n",
       "\t21 & 0.947778 \\\\\n",
       "\t22 & 0.954444 \\\\\n",
       "\t23 & 0.947778 \\\\\n",
       "\t24 & 0.955 \\\\\n",
       "\t25 & 0.955556 \\\\\n",
       "\t26 & 0.952222 \\\\\n",
       "\t27 & 0.954444 \\\\\n",
       "\t28 & 0.95 \\\\\n",
       "\t29 & 0.953333 \\\\\n",
       "\t30 & 0.941111 \\\\\n",
       "\t$\\dots$ & $\\dots$ \\\\\n",
       "\\end{tabular}\n"
      ],
      "text/plain": [
       "\u001b[1m100×1 DataFrame\u001b[0m\n",
       "\u001b[1m Row \u001b[0m│\u001b[1m coverage \u001b[0m\n",
       "\u001b[1m     \u001b[0m│\u001b[90m Float32  \u001b[0m\n",
       "─────┼──────────\n",
       "   1 │ 0.962778\n",
       "   2 │ 0.947778\n",
       "   3 │ 0.95\n",
       "   4 │ 0.952778\n",
       "   5 │ 0.947222\n",
       "   6 │ 0.956667\n",
       "   7 │ 0.946111\n",
       "   8 │ 0.958889\n",
       "   9 │ 0.958333\n",
       "  10 │ 0.95\n",
       "  11 │ 0.948333\n",
       "  ⋮  │    ⋮\n",
       "  91 │ 0.945\n",
       "  92 │ 0.949444\n",
       "  93 │ 0.948333\n",
       "  94 │ 0.952222\n",
       "  95 │ 0.958889\n",
       "  96 │ 0.950556\n",
       "  97 │ 0.942778\n",
       "  98 │ 0.952778\n",
       "  99 │ 0.952222\n",
       " 100 │ 0.948333\n",
       "\u001b[36m 79 rows omitted\u001b[0m"
      ]
     },
     "execution_count": 11,
     "metadata": {},
     "output_type": "execute_result"
    }
   ],
   "source": [
    "df = DataFrame(coverage=coverages)"
   ]
  },
  {
   "cell_type": "code",
   "execution_count": 13,
   "id": "8eeaaabf",
   "metadata": {},
   "outputs": [
    {
     "name": "stderr",
     "output_type": "stream",
     "text": [
      " Interrupted: Exiting precompilation...\n",
      "\u001b[32m\u001b[1m   Resolving\u001b[22m\u001b[39m package versions...\n",
      "\u001b[32m\u001b[1m  No Changes\u001b[22m\u001b[39m to `~/.julia/environments/v1.7/Project.toml`\n",
      "\u001b[32m\u001b[1m  No Changes\u001b[22m\u001b[39m to `~/.julia/environments/v1.7/Manifest.toml`\n",
      "\u001b[32m\u001b[1mPrecompiling\u001b[22m\u001b[39m project...\n",
      "\u001b[32m  ✓ \u001b[39m\u001b[90mColors\u001b[39m\n",
      "\u001b[32m  ✓ \u001b[39m\u001b[90mWidgets\u001b[39m\n",
      "\u001b[32m  ✓ \u001b[39m\u001b[90mWebIO\u001b[39m\n",
      "\u001b[32m  ✓ \u001b[39m\u001b[90mColorSchemes\u001b[39m\n",
      "\u001b[32m  ✓ \u001b[39m\u001b[90mJSExpr\u001b[39m\n",
      "\u001b[32m  ✓ \u001b[39m\u001b[90mPlotlyBase\u001b[39m\n",
      "\u001b[32m  ✓ \u001b[39m\u001b[90mBlink\u001b[39m\n",
      "\u001b[32m  ✓ \u001b[39mPlotlyJS\n",
      "  8 dependencies successfully precompiled in 18 seconds (115 already precompiled)\n"
     ]
    }
   ],
   "source": [
    "Pkg.add(\"PlotlyJS\")"
   ]
  },
  {
   "cell_type": "code",
   "execution_count": null,
   "id": "eea99a20",
   "metadata": {},
   "outputs": [],
   "source": []
  }
 ],
 "metadata": {
  "kernelspec": {
   "display_name": "Julia 1.7.1",
   "language": "julia",
   "name": "julia-1.7"
  },
  "language_info": {
   "file_extension": ".jl",
   "mimetype": "application/julia",
   "name": "julia",
   "version": "1.7.1"
  }
 },
 "nbformat": 4,
 "nbformat_minor": 5
}
