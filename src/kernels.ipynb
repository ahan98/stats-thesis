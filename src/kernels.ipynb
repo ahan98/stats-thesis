{
 "cells": [
  {
   "cell_type": "code",
   "execution_count": 72,
   "metadata": {},
   "outputs": [],
   "source": [
    "using CUDA, Random, Test\n",
    "CUDA.allowscalar(false)"
   ]
  },
  {
   "cell_type": "code",
   "execution_count": 2,
   "metadata": {},
   "outputs": [
    {
     "data": {
      "text/plain": [
       "partition (generic function with 1 method)"
      ]
     },
     "execution_count": 2,
     "metadata": {},
     "output_type": "execute_result"
    }
   ],
   "source": [
    "include(\"perm_test.jl\")\n",
    "include(\"partition.jl\")"
   ]
  },
  {
   "cell_type": "code",
   "execution_count": 3,
   "metadata": {},
   "outputs": [
    {
     "data": {
      "text/plain": [
       "([0.906299638797481 0.18750281732422014 … 0.5941010362656459 0.17323597986665784; 0.44349373245960455 0.498439397828113 … 0.35202055060070614 0.31073836950193956; … ; 0.3589185993287528 0.1114694679461018 … 0.6439746082053515 0.5539659994059574; 0.035927613151065296 0.7081160306383704 … 0.8242544528646908 0.9229874487702134], [0.9191811597933967 0.2925787758936972 … 0.741307376507605 0.9790050449921868; 0.42601923740838954 0.14932329779230624 … 0.7726209816563904 0.4140158502518958; … ; 0.0769627114182928 0.7625196951584902 … 0.16054705848932704 0.926818712518206; 0.48657054103959807 0.015825668052687814 … 0.8230914230335877 0.8461944332763968])"
      ]
     },
     "execution_count": 3,
     "metadata": {},
     "output_type": "execute_result"
    }
   ],
   "source": [
    "Random.seed!(123)\n",
    "N = 1024\n",
    "n1, n2 = 12, 8\n",
    "x1, x2 = CuArray(rand(N, n1)), CuArray(rand(N, n2))"
   ]
  },
  {
   "cell_type": "code",
   "execution_count": 4,
   "metadata": {},
   "outputs": [
    {
     "data": {
      "text/plain": [
       "125970×12 CuArray{Int64, 2, CUDA.Mem.DeviceBuffer}:\n",
       " 1   2   3   4   5   6   7   8   9  10  11  12\n",
       " 1   2   3   4   5   6   7   8   9  10  11  13\n",
       " 1   2   3   4   5   6   7   8   9  10  11  14\n",
       " 1   2   3   4   5   6   7   8   9  10  11  15\n",
       " 1   2   3   4   5   6   7   8   9  10  11  16\n",
       " 1   2   3   4   5   6   7   8   9  10  11  17\n",
       " 1   2   3   4   5   6   7   8   9  10  11  18\n",
       " 1   2   3   4   5   6   7   8   9  10  11  19\n",
       " 1   2   3   4   5   6   7   8   9  10  11  20\n",
       " 1   2   3   4   5   6   7   8   9  10  12  13\n",
       " 1   2   3   4   5   6   7   8   9  10  12  14\n",
       " 1   2   3   4   5   6   7   8   9  10  12  15\n",
       " 1   2   3   4   5   6   7   8   9  10  12  16\n",
       " ⋮                   ⋮                   ⋮  \n",
       " 8   9  10  11  12  13  14  15  16  17  18  20\n",
       " 8   9  10  11  12  13  14  15  16  17  19  20\n",
       " 8   9  10  11  12  13  14  15  16  18  19  20\n",
       " 8   9  10  11  12  13  14  15  17  18  19  20\n",
       " 8   9  10  11  12  13  14  16  17  18  19  20\n",
       " 8   9  10  11  12  13  15  16  17  18  19  20\n",
       " 8   9  10  11  12  14  15  16  17  18  19  20\n",
       " 8   9  10  11  13  14  15  16  17  18  19  20\n",
       " 8   9  10  12  13  14  15  16  17  18  19  20\n",
       " 8   9  11  12  13  14  15  16  17  18  19  20\n",
       " 8  10  11  12  13  14  15  16  17  18  19  20\n",
       " 9  10  11  12  13  14  15  16  17  18  19  20"
      ]
     },
     "execution_count": 4,
     "metadata": {},
     "output_type": "execute_result"
    }
   ],
   "source": [
    "p1, p2 = partition(n1, n2)\n",
    "p1, p2 = CuArray(p1), CuArray(p2)\n",
    "p1"
   ]
  },
  {
   "cell_type": "code",
   "execution_count": 5,
   "metadata": {},
   "outputs": [
    {
     "data": {
      "text/plain": [
       "(-0.3758134181173361, 0.15103016052040058)"
      ]
     },
     "execution_count": 5,
     "metadata": {},
     "output_type": "execute_result"
    }
   ],
   "source": [
    "a, b = x1[1,:], x2[1,:]\n",
    "wide_lo, wide_hi = tconf(a, b, alpha=0.01, pooled=false)\n",
    "narrow_lo, narrow_hi = tconf(a, b, alpha=0.1, pooled=false)"
   ]
  },
  {
   "cell_type": "code",
   "execution_count": 6,
   "metadata": {},
   "outputs": [
    {
     "data": {
      "text/plain": [
       "-0.5987410951846774"
      ]
     },
     "execution_count": 6,
     "metadata": {},
     "output_type": "execute_result"
    }
   ],
   "source": [
    "search(a, b, p1, p2, wide_lo, narrow_lo; pooled=false)"
   ]
  },
  {
   "cell_type": "code",
   "execution_count": 7,
   "metadata": {},
   "outputs": [
    {
     "data": {
      "text/plain": [
       "true"
      ]
     },
     "execution_count": 7,
     "metadata": {},
     "output_type": "execute_result"
    }
   ],
   "source": [
    "permInterval(a, b, p1, p2, 0)"
   ]
  },
  {
   "cell_type": "code",
   "execution_count": 69,
   "metadata": {},
   "outputs": [
    {
     "data": {
      "text/plain": [
       "f! (generic function with 2 methods)"
      ]
     },
     "execution_count": 69,
     "metadata": {},
     "output_type": "execute_result"
    }
   ],
   "source": [
    "function matrix_row_sum!(out, x, n)\n",
    "    \"\"\"out = sum(x, dims=2)\"\"\"\n",
    "    row_idx = (blockIdx().x-1) * blockDim().x + threadIdx().x\n",
    "    row_sum = 0\n",
    "    for i = 1:n\n",
    "        @inbounds row_sum += x[row_idx, i]\n",
    "    end\n",
    "    out[row_idx] = row_sum\n",
    "    return\n",
    "end"
   ]
  },
  {
   "cell_type": "code",
   "execution_count": 82,
   "metadata": {},
   "outputs": [
    {
     "data": {
      "text/plain": [
       "\u001b[32m\u001b[1mTest Passed\u001b[22m\u001b[39m\n",
       "  Expression: isapprox(y, sum(x1, dims = 2))\n",
       "   Evaluated: isapprox([6.53110238678372, 6.377362795307128, 6.919564267865844, 6.174720415752943, 7.817461484498605, 5.293765801948105, 4.557146998711857, 7.688457256848162, 5.4602616578311665, 4.1431747027884915  …  3.979767404455261, 5.578894708504509, 5.426513198117829, 6.230180953961174, 6.318454449768334, 6.759367514489274, 6.3418690026911335, 7.059379878760508, 7.5059121052625155, 5.577208109503038], [6.53110238678372; 6.3773627953071275; … ; 7.5059121052625155; 5.577208109503038;;])"
      ]
     },
     "execution_count": 82,
     "metadata": {},
     "output_type": "execute_result"
    }
   ],
   "source": [
    "y = CuArray{Float64, 1}(zeros(N))\n",
    "@cuda threads=256 blocks=4 f!(x1, y, 12)\n",
    "@test isapprox(y, sum(x1, dims=2))"
   ]
  }
 ],
 "metadata": {
  "kernelspec": {
   "display_name": "Julia (8 threads) 1.7.1",
   "language": "julia",
   "name": "julia-(8-threads)-1.7"
  },
  "language_info": {
   "file_extension": ".jl",
   "mimetype": "application/julia",
   "name": "julia",
   "version": "1.7.1"
  }
 },
 "nbformat": 4,
 "nbformat_minor": 4
}
