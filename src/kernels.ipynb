{
 "cells": [
  {
   "cell_type": "code",
   "execution_count": 2,
   "metadata": {},
   "outputs": [],
   "source": [
    "using CUDA, Random, Test\n",
    "CUDA.allowscalar(false)"
   ]
  },
  {
   "cell_type": "code",
   "execution_count": 3,
   "metadata": {},
   "outputs": [
    {
     "data": {
      "text/plain": [
       "partition (generic function with 1 method)"
      ]
     },
     "execution_count": 3,
     "metadata": {},
     "output_type": "execute_result"
    }
   ],
   "source": [
    "include(\"perm_test.jl\")\n",
    "include(\"partition.jl\")"
   ]
  },
  {
   "cell_type": "code",
   "execution_count": 5,
   "metadata": {},
   "outputs": [
    {
     "data": {
      "text/plain": [
       "([0.33191841660403193 0.13993236241073398 … 0.3266274977484425 0.07435057735085088; 0.09758743943216291 0.7245063305784085 … 0.4537553121217804 0.6003845859788253; … ; 0.8944203199277037 0.3779703845290438 … 0.45657134590782905 0.9976296889782996; 0.5759949577993901 0.7966846977630275 … 0.3319420113131965 0.15994894964580547], [0.4543866769965745 0.2636475562764177 … 0.03507011170581459 0.35581133995783737; 0.7200073576520345 0.8690257846587579 … 0.10709625780543425 0.19803005445043637; … ; 0.5803647031417776 0.6960132011019047 … 0.7807831392991891 0.724291588808329; 0.6986291202814392 0.8845014540596929 … 0.6516510865208662 0.8267851665796302])"
      ]
     },
     "execution_count": 5,
     "metadata": {},
     "output_type": "execute_result"
    }
   ],
   "source": [
    "Random.seed!(123)\n",
    "N = 1024\n",
    "n1, n2 = 12, 8\n",
    "x1, x2 = CUDA.rand(Float64, N, n1), CUDA.rand(Float64, N, n2)"
   ]
  },
  {
   "cell_type": "code",
   "execution_count": 6,
   "metadata": {},
   "outputs": [
    {
     "data": {
      "text/plain": [
       "([1 2 … 11 12; 1 2 … 11 13; … ; 8 10 … 19 20; 9 10 … 19 20], [20 19 … 14 13; 20 19 … 14 12; … ; 9 7 … 2 1; 8 7 … 2 1])"
      ]
     },
     "execution_count": 6,
     "metadata": {},
     "output_type": "execute_result"
    }
   ],
   "source": [
    "p1, p2 = partition(n1, n2)\n",
    "p1, p2 = CuArray(p1), CuArray(p2)"
   ]
  },
  {
   "cell_type": "code",
   "execution_count": 71,
   "metadata": {},
   "outputs": [
    {
     "data": {
      "text/plain": [
       "mean! (generic function with 1 method)"
      ]
     },
     "execution_count": 71,
     "metadata": {},
     "output_type": "execute_result"
    }
   ],
   "source": [
    "function mean!(x, n, out)\n",
    "    \"\"\"out = sum(x, dims=2)\"\"\"\n",
    "    row_idx = (blockIdx().x-1) * blockDim().x + threadIdx().x\n",
    "    for i = 1:n\n",
    "        @inbounds out[row_idx] += x[row_idx, i]\n",
    "    end\n",
    "    @inbounds out[row_idx] /= n\n",
    "    return\n",
    "end"
   ]
  },
  {
   "cell_type": "code",
   "execution_count": 72,
   "metadata": {},
   "outputs": [
    {
     "data": {
      "text/plain": [
       "\u001b[32m\u001b[1mTest Passed\u001b[22m\u001b[39m\n",
       "  Expression: isapprox(y, mean(x1, dims = 2))\n",
       "   Evaluated: isapprox([0.4158057617914684, 0.54089452534108, 0.4524898082598267, 0.5083081472702323, 0.4380688443521326, 0.3569448543013704, 0.4974078531665431, 0.5379865245441388, 0.33865822212714064, 0.45825727998292787  …  0.5096949390638388, 0.4583620706167644, 0.4325325430212037, 0.40978602133159847, 0.6342294446970657, 0.39765892264072716, 0.5147646691329809, 0.6389884962774152, 0.6543238609464797, 0.46963423479479843], [0.4158057617914685; 0.5408945253410798; … ; 0.6543238609464798; 0.4696342347947984;;])"
      ]
     },
     "execution_count": 72,
     "metadata": {},
     "output_type": "execute_result"
    }
   ],
   "source": [
    "y = CuArray{Float64, 1}(zeros(N))\n",
    "@cuda threads=256 blocks=4 mean!(x1, size(x1)[2], y)\n",
    "@test isapprox(y, mean(x1, dims=2))"
   ]
  },
  {
   "cell_type": "code",
   "execution_count": 73,
   "metadata": {},
   "outputs": [
    {
     "data": {
      "text/plain": [
       "sumsq! (generic function with 1 method)"
      ]
     },
     "execution_count": 73,
     "metadata": {},
     "output_type": "execute_result"
    }
   ],
   "source": [
    "function sumsq!(x, n, out)\n",
    "    \"\"\"out = sum(x, dims=2)\"\"\"\n",
    "    row_idx = (blockIdx().x-1) * blockDim().x + threadIdx().x\n",
    "    for i = 1:n\n",
    "        @inbounds out[row_idx] += x[row_idx, i]^2\n",
    "    end\n",
    "    return\n",
    "end"
   ]
  },
  {
   "cell_type": "code",
   "execution_count": 74,
   "metadata": {},
   "outputs": [
    {
     "data": {
      "text/plain": [
       "\u001b[32m\u001b[1mTest Passed\u001b[22m\u001b[39m\n",
       "  Expression: isapprox(y, sum(x1 .^ 2, dims = 2))\n",
       "   Evaluated: isapprox([2.9576283927036604, 4.349671309954059, 3.4525589483156507, 3.850952389300226, 3.2894621976014125, 2.7047426810673163, 3.6506137435184924, 4.1168173519881215, 2.4138347381971705, 3.3750119187813126  …  4.152528523319621, 3.656978200633897, 3.2408852423456094, 3.1151688567702163, 6.060194161149632, 2.404153347197356, 3.8251480857457043, 5.917030941377447, 6.061911574825796, 3.6821869867142154], [2.9576283927036604; 4.349671309954059; … ; 6.061911574825795; 3.682186986714216;;])"
      ]
     },
     "execution_count": 74,
     "metadata": {},
     "output_type": "execute_result"
    }
   ],
   "source": [
    "y = CuArray{Float64, 1}(zeros(N))\n",
    "@cuda threads=256 blocks=4 sumsq!(x1, size(x1)[2], y)\n",
    "@test isapprox(y, sum(x1.^2, dims=2))"
   ]
  },
  {
   "cell_type": "code",
   "execution_count": 212,
   "metadata": {},
   "outputs": [
    {
     "data": {
      "text/plain": [
       "_var! (generic function with 1 method)"
      ]
     },
     "execution_count": 212,
     "metadata": {},
     "output_type": "execute_result"
    }
   ],
   "source": [
    "function _var!(n, ss, means, out)\n",
    "    i = (blockIdx().x-1) * blockDim().x + threadIdx().x\n",
    "    @inbounds out[i] = (ss[i] - (n * means[i]^2)) / (n-1)\n",
    "    return\n",
    "end"
   ]
  },
  {
   "cell_type": "code",
   "execution_count": 213,
   "metadata": {},
   "outputs": [
    {
     "data": {
      "text/plain": [
       "var_gpu (generic function with 1 method)"
      ]
     },
     "execution_count": 213,
     "metadata": {},
     "output_type": "execute_result"
    }
   ],
   "source": [
    "function var_gpu(x)\n",
    "    nrow, ncol = size(x)\n",
    "    ss = CUDA.zeros(Float64, size(x)[1])\n",
    "    @cuda threads=256 blocks=4 sumsq!(x, ncol, ss)\n",
    "\n",
    "    means = CUDA.zeros(Float64, nrow)\n",
    "    @cuda threads=256 blocks=4 mean!(x, ncol, means)\n",
    "\n",
    "    vars = CUDA.zeros(Float64, nrow)\n",
    "    @cuda threads=256 blocks=4 _var!(ncol, ss, means, vars)\n",
    "    return vars, means\n",
    "end"
   ]
  },
  {
   "cell_type": "code",
   "execution_count": 214,
   "metadata": {},
   "outputs": [
    {
     "data": {
      "text/plain": [
       "\u001b[32m\u001b[1mTest Passed\u001b[22m\u001b[39m\n",
       "  Expression: isapprox((var_gpu(x2))[1], var(x2, dims = 2))\n",
       "   Evaluated: isapprox([0.08940683594148886, 0.1369454638998972, 0.0867649256335066, 0.11092958845303122, 0.06413028866107497, 0.06094058779485038, 0.10847738630726989, 0.11513032767354854, 0.03873637150156105, 0.11423126476380416  …  0.13785538796358937, 0.10591744565462413, 0.06977934626941026, 0.08077133833936598, 0.11205752476026896, 0.062380245995309655, 0.09279517748881325, 0.07773276376463945, 0.02578348553925469, 0.05013598112000585], [0.08940683594148888; 0.1369454638998971; … ; 0.025783485539254747; 0.05013598112000578;;])"
      ]
     },
     "execution_count": 214,
     "metadata": {},
     "output_type": "execute_result"
    }
   ],
   "source": [
    "@test isapprox(var_gpu(x2)[1], var(x2, dims=2))"
   ]
  },
  {
   "cell_type": "code",
   "execution_count": 298,
   "metadata": {},
   "outputs": [
    {
     "data": {
      "text/plain": [
       "copy_arr_gpu! (generic function with 1 method)"
      ]
     },
     "execution_count": 298,
     "metadata": {},
     "output_type": "execute_result"
    }
   ],
   "source": [
    "function mul_gpu!(x, val)\n",
    "    \"\"\" out = x ./ y \"\"\"\n",
    "    i = (blockIdx().x-1) * blockDim().x + threadIdx().x\n",
    "    @inbounds x[i] *= val\n",
    "    return\n",
    "end\n",
    "\n",
    "function mul_arr_gpu!(x, y)\n",
    "    \"\"\" out = x ./ y \"\"\"\n",
    "    i = (blockIdx().x-1) * blockDim().x + threadIdx().x\n",
    "    @inbounds x[i] *= y[i]\n",
    "    return\n",
    "end\n",
    "\n",
    "function div_gpu!(x, val)\n",
    "    \"\"\" out = x ./ y \"\"\"\n",
    "    i = (blockIdx().x-1) * blockDim().x + threadIdx().x\n",
    "    @inbounds x[i] /= val\n",
    "    return\n",
    "end\n",
    "\n",
    "function div_arr_gpu!(x, y)\n",
    "    \"\"\" out = x ./ y \"\"\"\n",
    "    i = (blockIdx().x-1) * blockDim().x + threadIdx().x\n",
    "    @inbounds x[i] /= y[i]\n",
    "    return\n",
    "end\n",
    "\n",
    "function sqrt_gpu!(x)\n",
    "    i = (blockIdx().x-1) * blockDim().x + threadIdx().x\n",
    "    @inbounds x[i] = sqrt(x[i])\n",
    "    return\n",
    "end\n",
    "\n",
    "function add_gpu!(a, b, c)\n",
    "    i = (blockIdx().x-1) * blockDim().x + threadIdx().x\n",
    "    @inbounds c[i] = a[i] + b[i]\n",
    "    return\n",
    "end\n",
    "\n",
    "function subtract_gpu!(a, b, c)\n",
    "    i = (blockIdx().x-1) * blockDim().x + threadIdx().x\n",
    "    @inbounds c[i] = a[i] - b[i]\n",
    "    return\n",
    "end\n",
    "\n",
    "function copy_arr_gpu!(dest, source)\n",
    "    i = (blockIdx().x-1) * blockDim().x + threadIdx().x\n",
    "    @inbounds dest[i] = source[i]\n",
    "    return\n",
    "end"
   ]
  },
  {
   "cell_type": "code",
   "execution_count": 319,
   "metadata": {},
   "outputs": [
    {
     "name": "stdout",
     "output_type": "stream",
     "text": [
      "  2.811 μs (0 allocations: 0 bytes)\n",
      "  7.392 μs (27 allocations: 1.33 KiB)\n"
     ]
    },
    {
     "data": {
      "text/plain": [
       "\u001b[32m\u001b[1mTest Passed\u001b[22m\u001b[39m\n",
       "  Expression: all(x .== y)"
      ]
     },
     "execution_count": 319,
     "metadata": {},
     "output_type": "execute_result"
    }
   ],
   "source": [
    "using BenchmarkTools\n",
    "\n",
    "K = 2^25\n",
    "x = CUDA.rand(K)\n",
    "y = CUDA.zeros(K)\n",
    "\n",
    "@btime copyto!($y, $x)\n",
    "@btime @cuda threads=256 blocks=Int(K/256) copy_arr_gpu!(y, x)\n",
    "@test all(x .== y)"
   ]
  },
  {
   "cell_type": "code",
   "execution_count": 316,
   "metadata": {},
   "outputs": [
    {
     "data": {
      "text/plain": [
       "t_gpu (generic function with 1 method)"
      ]
     },
     "execution_count": 316,
     "metadata": {},
     "output_type": "execute_result"
    }
   ],
   "source": [
    "function t_gpu(x, y; pooled=false)\n",
    "    varx, meanx = var_gpu(x)\n",
    "    vary, meany = var_gpu(y)\n",
    "    nx, ny = size(x)[2], size(y)[2]\n",
    "    \n",
    "    if pooled\n",
    "        @cuda threads=256 blocks=4 mul_gpu!(varx, nx-1)\n",
    "        @cuda threads=256 blocks=4 mul_gpu!(vary, ny-1)\n",
    "        @cuda threads=256 blocks=4 add_gpu!(varx, vary, varx)   # varx = (nx-1)*varx + (ny-1)*vary\n",
    "        @cuda threads=256 blocks=4 div_gpu!(varx, nx+ny-2)      # varx /= nx+ny-2\n",
    "        #@cuda threads=256 blocks=4 copy_arr_gpu!(vary, varx)\n",
    "        copyto!(vary, varx)\n",
    "    end\n",
    "        \n",
    "    @cuda threads=256 blocks=4 div_gpu!(varx, nx)\n",
    "    @cuda threads=256 blocks=4 div_gpu!(vary, ny)\n",
    "    \n",
    "    denom = CUDA.zeros(Float64, size(x)[1])\n",
    "    @cuda threads=256 blocks=4 add_gpu!(varx, vary, denom)\n",
    "    @cuda threads=256 blocks=4 sqrt_gpu!(denom)\n",
    "    \n",
    "    t = CUDA.zeros(Float64, size(x)[1])\n",
    "    @cuda threads=256 blocks=4 subtract_gpu!(meanx, meany, t)\n",
    "    @cuda threads=256 blocks=4 div_arr_gpu!(t, denom)\n",
    "    return t\n",
    "end"
   ]
  },
  {
   "cell_type": "code",
   "execution_count": 317,
   "metadata": {},
   "outputs": [
    {
     "data": {
      "text/plain": [
       "\u001b[32m\u001b[1mTest Passed\u001b[22m\u001b[39m\n",
       "  Expression: isapprox(t_gpu(x1, x2, pooled = pooled), ttest_ind(x1, x2, pooled))\n",
       "   Evaluated: isapprox([0.18680399704742479, 0.6216597446398325, -0.6683190430389726, 0.1884296089524259, 0.16093649485200498, -1.2531079746102525, -0.19795712004603416, 0.5228226162731499, -0.7802173274332709, -0.8566160615959619  …  0.387100680745915, -0.7620851214754379, -1.927133042432487, -0.7962851993598136, 0.540963939159896, 0.5711508187115787, 1.8634379916531385, 1.0956321103730968, -0.048472174040136685, -2.5286926460914128], [0.1868039970474261; 0.6216597446398315; … ; -0.0484721740401356; -2.5286926460914136;;])"
      ]
     },
     "execution_count": 317,
     "metadata": {},
     "output_type": "execute_result"
    }
   ],
   "source": [
    "pooled = false\n",
    "@test isapprox(t_gpu(x1, x2, pooled=pooled), ttest_ind(x1, x2, pooled))"
   ]
  },
  {
   "cell_type": "code",
   "execution_count": null,
   "metadata": {},
   "outputs": [],
   "source": []
  }
 ],
 "metadata": {
  "kernelspec": {
   "display_name": "Julia (8 threads) 1.7.1",
   "language": "julia",
   "name": "julia-(8-threads)-1.7"
  },
  "language_info": {
   "file_extension": ".jl",
   "mimetype": "application/julia",
   "name": "julia",
   "version": "1.7.1"
  }
 },
 "nbformat": 4,
 "nbformat_minor": 4
}
