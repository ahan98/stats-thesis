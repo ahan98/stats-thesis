{
 "cells": [
  {
   "cell_type": "code",
   "execution_count": 425,
   "id": "3a933ffe",
   "metadata": {},
   "outputs": [],
   "source": [
    "using Distributed, Folds, FLoops\n",
    "using Random, Distributions"
   ]
  },
  {
   "cell_type": "code",
   "execution_count": 434,
   "id": "dba1bf42",
   "metadata": {},
   "outputs": [
    {
     "data": {
      "text/plain": [
       "partition (generic function with 1 method)"
      ]
     },
     "execution_count": 434,
     "metadata": {},
     "output_type": "execute_result"
    }
   ],
   "source": [
    "include(\"perm_test.jl\")\n",
    "include(\"partition.jl\")"
   ]
  },
  {
   "cell_type": "code",
   "execution_count": 418,
   "id": "9f477a22",
   "metadata": {},
   "outputs": [
    {
     "data": {
      "text/plain": [
       "200×20 Matrix{Float64}:\n",
       " -0.645731   -0.605691   -0.756464   …   0.037911   -0.609532    0.268983\n",
       " -1.46325    -0.354813    0.21732       -1.05255    -0.236771   -1.57179\n",
       " -1.6236     -0.782707   -0.737335      -0.137629    0.33269    -0.171054\n",
       " -0.217665    0.0812944  -1.98671        0.0656706   0.526011   -0.562248\n",
       "  0.492246   -0.453337    0.572599       0.406255    0.185543    0.251055\n",
       "  0.98098     0.0983998  -0.979219   …  -0.736835    0.135897   -0.22668\n",
       "  0.0799568   0.77467     1.72272       -0.561219   -0.357161   -0.65838\n",
       "  1.54912    -2.08215    -1.37706        0.467577   -0.782272    0.304469\n",
       " -1.34161    -0.0387583  -1.3131         0.0614698   0.506474    2.50715\n",
       "  0.412162   -0.701248   -0.0490801     -2.12121    -1.38048    -1.56417\n",
       "  0.593197    1.30727    -0.521194   …   0.543751   -1.26496     0.494784\n",
       " -0.768409   -0.458261   -0.330495       0.842038   -0.120105    1.00935\n",
       " -0.0761679   0.232625   -0.319317      -0.52795    -0.583295    0.0196977\n",
       "  ⋮                                  ⋱                          \n",
       " -0.264304   -0.272842   -1.51976        0.419715   -1.04801    -0.811461\n",
       "  0.0436186   1.80921     0.591125      -0.0898329   0.0271271  -0.445661\n",
       " -0.0422467   0.446463   -1.62944    …   0.314367   -0.589452    0.049515\n",
       " -0.971406   -1.03299     0.943397       1.87681    -1.22014     1.01477\n",
       "  0.686645   -0.654367   -0.399497       1.19207     0.107228   -2.57171\n",
       " -1.06328     0.818291   -1.47927        0.407769    0.710498    0.0886231\n",
       "  0.931674   -0.0332812  -1.06512        0.137113   -0.802584    2.24169\n",
       " -0.449045    1.62558    -0.426338   …  -0.651234    0.264715    0.339709\n",
       "  0.258362    0.721391   -0.330893       0.504723   -1.17916     1.85313\n",
       "  0.258083    2.16077    -1.32753        0.549082    0.83121     1.53965\n",
       "  1.02591    -1.12326     1.89214        2.79172    -1.34187    -1.63713\n",
       "  1.47193    -0.355144   -0.982538       1.71821    -0.140827    0.111598"
      ]
     },
     "execution_count": 418,
     "metadata": {},
     "output_type": "execute_result"
    }
   ],
   "source": [
    "n, n1, n2 = 200, 12, 8\n",
    "d = Normal()\n",
    "delta_true = 0\n",
    "parts = partition(n1, n2)\n",
    "Random.seed!(123)\n",
    "x1s = rand(d, (n, n1))\n",
    "x2s = rand(d, (n, n2))\n",
    "data = hcat(x1s, x2s)"
   ]
  },
  {
   "cell_type": "code",
   "execution_count": 421,
   "id": "0061bc67",
   "metadata": {},
   "outputs": [
    {
     "name": "stdout",
     "output_type": "stream",
     "text": [
      "  0.181694 seconds (1.40 k allocations: 492.455 MiB, 2.89% gc time)\n"
     ]
    },
    {
     "data": {
      "text/plain": [
       "true"
      ]
     },
     "execution_count": 421,
     "metadata": {},
     "output_type": "execute_result"
    }
   ],
   "source": [
    "first = data[1,:]\n",
    "@time permInterval(first, parts, delta_true)"
   ]
  },
  {
   "cell_type": "code",
   "execution_count": 455,
   "id": "b0d2a0c7",
   "metadata": {},
   "outputs": [
    {
     "name": "stdout",
     "output_type": "stream",
     "text": [
      " 33.557403 seconds (317.95 k allocations: 96.305 GiB, 6.57% gc time, 0.16% compilation time)\n"
     ]
    },
    {
     "data": {
      "text/plain": [
       "194"
      ]
     },
     "execution_count": 455,
     "metadata": {},
     "output_type": "execute_result"
    }
   ],
   "source": [
    "@time @distributed (+) for i in 1:n\n",
    "    permInterval(data[i, 1:n1], data[i, n1+1:end], parts, delta_true)\n",
    "end"
   ]
  },
  {
   "cell_type": "code",
   "execution_count": 442,
   "id": "5fb06759",
   "metadata": {},
   "outputs": [
    {
     "name": "stdout",
     "output_type": "stream",
     "text": [
      " 24.784075 seconds (819.67 k allocations: 96.331 GiB, 18.45% gc time, 2.78% compilation time)\n"
     ]
    }
   ],
   "source": [
    "@time @floop for row in eachrow(data)\n",
    "    @reduce(coverage += permInterval(row[1:n1], row[n1+1:end], parts, delta_true))\n",
    "end"
   ]
  },
  {
   "cell_type": "code",
   "execution_count": 440,
   "id": "bd48d6b7",
   "metadata": {},
   "outputs": [
    {
     "name": "stdout",
     "output_type": "stream",
     "text": [
      " 23.808151 seconds (772.82 k allocations: 96.329 GiB, 18.25% gc time, 1.62% compilation time)\n"
     ]
    },
    {
     "data": {
      "text/plain": [
       "194"
      ]
     },
     "execution_count": 440,
     "metadata": {},
     "output_type": "execute_result"
    }
   ],
   "source": [
    "@time Folds.reduce(+, Folds.map(x -> permInterval(x[1:n1], x[n1+1:end], parts, delta_true), eachrow(data)))"
   ]
  }
 ],
 "metadata": {
  "kernelspec": {
   "display_name": "Julia 1.7.1",
   "language": "julia",
   "name": "julia-1.7"
  },
  "language_info": {
   "file_extension": ".jl",
   "mimetype": "application/julia",
   "name": "julia",
   "version": "1.7.1"
  }
 },
 "nbformat": 4,
 "nbformat_minor": 5
}
