{
 "cells": [
  {
   "cell_type": "code",
   "execution_count": null,
   "metadata": {},
   "outputs": [],
   "source": [
    "import numpy as np\n",
    "from collections import defaultdict\n",
    "from itertools import combinations, permutations\n",
    "from bisect import bisect_left\n",
    "from tqdm import tqdm"
   ]
  },
  {
   "cell_type": "code",
   "execution_count": null,
   "metadata": {},
   "outputs": [],
   "source": [
    "import matplotlib.pyplot as plt\n",
    "%matplotlib inline\n",
    "plt.rcParams['figure.figsize'] = [20, 10]"
   ]
  },
  {
   "cell_type": "code",
   "execution_count": 4,
   "metadata": {},
   "outputs": [],
   "source": [
    "a = np.array([18.85,16.93,19.29,18.31,17.27,18.64,17.82,19.00,19.58,18.04,17.27,19.19])\n",
    "b = np.array([19.23,19.57,19.50,18.64,18.70,19.54,19.04,20.67,20.71,18.99,19.37,19.06])"
   ]
  },
  {
   "cell_type": "markdown",
   "metadata": {},
   "source": [
    "## Two-Sample Permutation Test\n",
    "\n",
    "The two-sample t-test gives `[-1.7348128 -0.4035205]` as a 95% confidence interval for the true difference in means between `a` and `b`. Following this result, we test various $\\Delta_0 \\in [-2, 0]$. For each $\\Delta_0$, we collect all possible two-sample permutations. For each permutation, we compute the test statistic $t = |\\bar X_1 - \\bar X_2 - \\Delta_0|$. The p-value associated with each $\\Delta_0$ is the proportion of permutations such that $t \\ge t_{obs}$, where $t_{obs}$ is the test statistic computed for the observed data $X_1 =$ `a` and $X_2 =$ `b`."
   ]
  },
  {
   "cell_type": "markdown",
   "metadata": {},
   "source": [
    "The goal is to compute a confidence interval for the plausible (i.e., $\\alpha = 0.05$) values of the true difference in means $\\delta$. We note that the $(\\Delta_0, p)$ plot appears to be strictly decreasing. I.e., as $\\Delta_0 \\in [-2,0]$ increases, $p$ decreases."
   ]
  },
  {
   "cell_type": "code",
   "execution_count": 6,
   "metadata": {},
   "outputs": [],
   "source": [
    "def pval(a, b, delta0=0):\n",
    "    a_shifted = a - delta0\n",
    "    t_obs = np.mean(a_shifted) - np.mean(b)  # test statistic for observed\n",
    "    data = np.concatenate((a_shifted,b))\n",
    "    TOTAL = np.sum(data)\n",
    "    n1, n2 = len(a), len(b)\n",
    "    \n",
    "    n_combos = 0\n",
    "    #count = 0                               # num. permutations with t >= t_obs\n",
    "    combos = combinations(range(n1+n2), n1)  # all possible ways to choose n1 from n1 + n2\n",
    "    count_left = count_right = 0\n",
    "\n",
    "    for combo in combos:\n",
    "        group1 = [data[x] for x in combo]\n",
    "        x1bar = np.mean(group1)\n",
    "        x2bar = (TOTAL - (n1 * x1bar)) / n2\n",
    "        t = x1bar - x2bar\n",
    "        count_left += (t <= -abs(t_obs))\n",
    "        count_right += (t >= abs(t_obs))\n",
    "        n_combos += 1\n",
    "        \n",
    "    #p = (count_left + count_right)/n_combos  # proportion w/ \"as or more extreme\" test statistic\n",
    "    p_values = np.array([(count_left + count_right), count_left, count_right])\n",
    "    p_values = p_values / n_combos\n",
    "    return delta0, p_values"
   ]
  },
  {
   "cell_type": "code",
   "execution_count": 20,
   "metadata": {},
   "outputs": [],
   "source": [
    "def percent_change(old, new):\n",
    "    return 100 * abs(new - old) / old"
   ]
  },
  {
   "cell_type": "code",
   "execution_count": 31,
   "metadata": {},
   "outputs": [],
   "source": [
    "\"\"\"\n",
    "Parameters:\n",
    "x1 - data for group 1\n",
    "x2 - data for group 2\n",
    "start, end - initial bounds\n",
    "\n",
    "This function performs a binary search on the interval [start, end]\n",
    "corresponding to the (delta0, p_value) distribution.\n",
    "\n",
    "Note that we assume the distribution is monotone DECREASING on [start, end].\n",
    "I.e., the p-value associated with delta0 = start is larger than that for delta0 = end.\n",
    "\n",
    "Due to convergence concerns, this function terminates when either:\n",
    "(1) We have an approximation for delta0 such that the corresponding p-value is within\n",
    "    a desired margin of alpha.\n",
    "(2) The p-value from one iteration to the next has a percent change less than the desired\n",
    "    threshold.\n",
    "\"\"\"\n",
    "\n",
    "def search(x1, x2, start, end, margin=0.0001, alpha=0.05, threshold=1):\n",
    "    p = 0\n",
    "    i = 0\n",
    "\n",
    "    while (not i) or (abs(p - alpha) > margin):  # criterion (1)\n",
    "        print(\"iteration\", i)\n",
    "\n",
    "        mid = (start + end) / 2\n",
    "        print(\"delta0 =\", mid, \" in [\", start, \",\", end, \"]\")\n",
    "\n",
    "        delta0, p_values = pval(x1, x2, delta0=mid)\n",
    "        p_new = p_values[0]\n",
    "        if p_new > alpha + margin:\n",
    "            start = mid\n",
    "        elif p_new < alpha - margin:\n",
    "            end = mid\n",
    "        \n",
    "        # criterion (2)\n",
    "        if p and percent_change(p, p_new) <= threshold:\n",
    "            break\n",
    "\n",
    "        p = p_new\n",
    "        print(\"p =\", p)\n",
    "        print(\"---\")\n",
    "        \n",
    "        i += 1\n",
    "        \n",
    "    return delta0, p"
   ]
  },
  {
   "cell_type": "markdown",
   "metadata": {},
   "source": [
    "## Approximating the Confidence Interval\n",
    "\n",
    "We use `search()` to find an upper bound for the 95% confidence interval. To get a general idea of $(\\Delta_0, p)$ distribution looks like, we will compute $p$ for discrete evenly spaced $\\Delta_0 \\in [-3,1]$, a more conservative interval based on the earlier t-test."
   ]
  },
  {
   "cell_type": "code",
   "execution_count": null,
   "metadata": {},
   "outputs": [],
   "source": [
    "res = []\n",
    "\n",
    "# compute p for each delta0\n",
    "for d in np.linspace(-3, 1, num=401):\n",
    "    print(\"---\")\n",
    "    delta, p_values = pval(a, b, delta0=d)\n",
    "    print(\"delta0 =\", delta)\n",
    "    print(\"p =\", p_values[0])\n",
    "    res.append((delta, p_values[0]))\n",
    "    \n",
    "res"
   ]
  },
  {
   "cell_type": "markdown",
   "metadata": {},
   "source": [
    "Below is the plot of the 401 evenly spaced $\\Delta_0 \\in [-3, 1]$. We will use this plot to determine approximations for the 95% confidence interval. For the lower and upper bounds of this approximation, we select the two points which are sufficiently close to the line $p = 0.05$."
   ]
  },
  {
   "cell_type": "code",
   "execution_count": 57,
   "metadata": {},
   "outputs": [
    {
     "data": {
      "image/png": "[encoded data removed]",
      "text/plain": [
       "<Figure size 1440x720 with 1 Axes>"
      ]
     },
     "metadata": {
      "needs_background": "light"
     },
     "output_type": "display_data"
    }
   ],
   "source": [
    "data = np.array(res)\n",
    "x, y = data.T\n",
    "plt.scatter(x,y)\n",
    "plt.axhline(y=0.05, color='r', linestyle='-')\n",
    "plt.axvline(x=-0.5, color='g', linestyle='-')\n",
    "plt.axvline(x=-0.4, color='g', linestyle='-')\n",
    "plt.show()"
   ]
  },
  {
   "cell_type": "markdown",
   "metadata": {},
   "source": [
    "We can see that, assuming monotonicity, the upper bound of the confidence interval is between -0.5 and -0.4. We verify that $p$ for $\\Delta_0 = -0.5$ is greater than $p$ for $\\Delta_0 = -0.4$."
   ]
  },
  {
   "cell_type": "code",
   "execution_count": 12,
   "metadata": {},
   "outputs": [
    {
     "data": {
      "text/plain": [
       "(-0.5, array([0.08907918, 0.04475888, 0.0443203 ]))"
      ]
     },
     "execution_count": 12,
     "metadata": {},
     "output_type": "execute_result"
    }
   ],
   "source": [
    "pval(a, b, -0.5)"
   ]
  },
  {
   "cell_type": "code",
   "execution_count": 43,
   "metadata": {},
   "outputs": [
    {
     "data": {
      "text/plain": [
       "(-0.4, [0.04812481232591611, 0.024178338823647748, 0.02394647350226836])"
      ]
     },
     "execution_count": 43,
     "metadata": {},
     "output_type": "execute_result"
    }
   ],
   "source": [
    "pval(a, b, -0.4)"
   ]
  },
  {
   "cell_type": "markdown",
   "metadata": {},
   "source": [
    "We now look for a good approximation for $\\Delta$ in the interval $[-0.5, -0.4]$, bisecting the remaining candidate set each time until we find a sufficiently narrow interval that satisfies the earlier criteria."
   ]
  },
  {
   "cell_type": "code",
   "execution_count": 17,
   "metadata": {},
   "outputs": [
    {
     "name": "stdout",
     "output_type": "stream",
     "text": [
      "iteration 0\n",
      "delta0 = -0.45  in [ -0.45 , -0.4 ]\n",
      "p = 0.0662983200673334\n",
      "---\n",
      "iteration 1\n",
      "delta0 = -0.42500000000000004  in [ -0.42500000000000004 , -0.4 ]\n",
      "p = 0.056626540776493664\n",
      "---\n",
      "iteration 2\n",
      "delta0 = -0.41250000000000003  in [ -0.41250000000000003 , -0.4 ]\n",
      "p = 0.05226658521179991\n",
      "---\n",
      "iteration 3\n",
      "delta0 = -0.40625  in [ -0.40625 , -0.4 ]\n",
      "p = 0.05016352606876231\n",
      "---\n",
      "iteration 4\n",
      "delta0 = -0.403125  in [ -0.40625 , -0.403125 ]\n",
      "p = 0.0491214264265819\n",
      "---\n",
      "iteration 5\n",
      "delta0 = -0.4046875  in [ -0.40625 , -0.4046875 ]\n",
      "p = 0.049602167922264837\n",
      "---\n",
      "iteration 6\n",
      "delta0 = -0.40546875  in [ -0.40625 , -0.4046875 ]\n",
      "p = 0.04990910287720087\n",
      "---\n"
     ]
    },
    {
     "data": {
      "text/plain": [
       "(-0.40546875, 0.04990910287720087)"
      ]
     },
     "execution_count": 17,
     "metadata": {},
     "output_type": "execute_result"
    }
   ],
   "source": [
    "search(a, b, -0.5, -0.4)"
   ]
  },
  {
   "cell_type": "markdown",
   "metadata": {},
   "source": [
    "After running for 7 iterations, we have an approximation $\\hat\\delta_0 = -0.40546875$ which returns a p-value within our specified margin of error of $\\alpha$."
   ]
  },
  {
   "cell_type": "markdown",
   "metadata": {},
   "source": [
    "To verify that condition (2) works, let us set the threshold such that the search terminates after the iteration 1. From above, we see that iterations 0 and 1 return p-values of `0.0662983200673334` and `0.056626540776493664` respectively. This is a percent change of <15%, so if we set the threshold to 15, then the search should stop after iteration 1."
   ]
  },
  {
   "cell_type": "code",
   "execution_count": 27,
   "metadata": {},
   "outputs": [
    {
     "data": {
      "text/plain": [
       "14.588272042213067"
      ]
     },
     "execution_count": 27,
     "metadata": {},
     "output_type": "execute_result"
    }
   ],
   "source": [
    "percent_change(0.0662983200673334, 0.056626540776493664)"
   ]
  },
  {
   "cell_type": "code",
   "execution_count": 32,
   "metadata": {},
   "outputs": [
    {
     "name": "stdout",
     "output_type": "stream",
     "text": [
      "iteration 0\n",
      "delta0 = -0.45  in [ -0.5 , -0.4 ]\n",
      "p = 0.0662983200673334\n",
      "---\n",
      "iteration 1\n",
      "delta0 = -0.42500000000000004  in [ -0.45 , -0.4 ]\n"
     ]
    },
    {
     "data": {
      "text/plain": [
       "(-0.42500000000000004, 0.0662983200673334)"
      ]
     },
     "execution_count": 32,
     "metadata": {},
     "output_type": "execute_result"
    }
   ],
   "source": [
    "search(a, b, -0.5, -0.4, threshold=15)"
   ]
  }
 ],
 "metadata": {
  "kernelspec": {
   "display_name": "Python 3",
   "language": "python",
   "name": "python3"
  },
  "language_info": {
   "codemirror_mode": {
    "name": "ipython",
    "version": 3
   },
   "file_extension": ".py",
   "mimetype": "text/x-python",
   "name": "python",
   "nbconvert_exporter": "python",
   "pygments_lexer": "ipython3",
   "version": "3.8.5"
  }
 },
 "nbformat": 4,
 "nbformat_minor": 2
}
