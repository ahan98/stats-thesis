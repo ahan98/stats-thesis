{
 "cells": [
  {
   "cell_type": "code",
   "execution_count": 1,
   "id": "aa52a5a7",
   "metadata": {},
   "outputs": [],
   "source": [
    "from scipy.stats import ttest_ind\n",
    "import numpy as np\n",
    "from utils import partition\n",
    "from perm_test import permInterval, pval, tconf"
   ]
  },
  {
   "cell_type": "code",
   "execution_count": 8,
   "id": "03c3f7b2",
   "metadata": {},
   "outputs": [
    {
     "data": {
      "text/plain": [
       "array([0.9910469, 1.9078664])"
      ]
     },
     "execution_count": 8,
     "metadata": {},
     "output_type": "execute_result"
    }
   ],
   "source": [
    "n, n1, n2 = 2, 12, 8\n",
    "np.random.seed(123)\n",
    "x1s = np.random.normal(size=(n, n1))\n",
    "x2s = np.random.normal(size=(n, n2))\n",
    "ts = ttest_ind(x1s, x2s, axis=-1).statistic\n",
    "ts"
   ]
  },
  {
   "cell_type": "code",
   "execution_count": 9,
   "id": "bbebf02c",
   "metadata": {},
   "outputs": [
    {
     "data": {
      "text/plain": [
       "0.9910469006146199"
      ]
     },
     "execution_count": 9,
     "metadata": {},
     "output_type": "execute_result"
    }
   ],
   "source": [
    "x1, x2 = x1s[0], x2s[0]\n",
    "t_obs = ttest_ind(x1, x2, axis=-1).statistic\n",
    "t_obs"
   ]
  },
  {
   "cell_type": "code",
   "execution_count": 10,
   "id": "77213bb2",
   "metadata": {},
   "outputs": [
    {
     "data": {
      "text/plain": [
       "array([ True, False])"
      ]
     },
     "execution_count": 10,
     "metadata": {},
     "output_type": "execute_result"
    }
   ],
   "source": [
    "t_obs == ts"
   ]
  },
  {
   "cell_type": "code",
   "execution_count": 11,
   "id": "f3c87b2d",
   "metadata": {},
   "outputs": [
    {
     "data": {
      "text/plain": [
       "array([[ 0,  1,  2, ..., 17, 18, 19],\n",
       "       [ 0,  1,  2, ..., 17, 18, 19],\n",
       "       [ 0,  1,  2, ..., 17, 18, 19],\n",
       "       ...,\n",
       "       [ 7,  8, 10, ...,  5,  6,  9],\n",
       "       [ 7,  9, 10, ...,  5,  6,  8],\n",
       "       [ 8,  9, 10, ...,  5,  6,  7]])"
      ]
     },
     "execution_count": 11,
     "metadata": {},
     "output_type": "execute_result"
    }
   ],
   "source": [
    "parts = partition(n1, n2)\n",
    "parts"
   ]
  },
  {
   "cell_type": "code",
   "execution_count": 12,
   "id": "9ce30571",
   "metadata": {},
   "outputs": [
    {
     "data": {
      "text/plain": [
       "True"
      ]
     },
     "execution_count": 12,
     "metadata": {},
     "output_type": "execute_result"
    }
   ],
   "source": [
    "permInterval(x1, x2, parts, 0)"
   ]
  }
 ],
 "metadata": {
  "kernelspec": {
   "display_name": "Python 3 (ipykernel)",
   "language": "python",
   "name": "python3"
  },
  "language_info": {
   "codemirror_mode": {
    "name": "ipython",
    "version": 3
   },
   "file_extension": ".py",
   "mimetype": "text/x-python",
   "name": "python",
   "nbconvert_exporter": "python",
   "pygments_lexer": "ipython3",
   "version": "3.10.1"
  }
 },
 "nbformat": 4,
 "nbformat_minor": 5
}
