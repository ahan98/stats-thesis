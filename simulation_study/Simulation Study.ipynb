{
 "cells": [
  {
   "cell_type": "code",
   "execution_count": 1,
   "id": "28173b23",
   "metadata": {},
   "outputs": [],
   "source": [
    "import numpy as np\n",
    "import statsmodels.stats.api as sms\n",
    "from scipy.stats import t as t\n",
    "import math\n",
    "from itertools import combinations\n",
    "import threading\n",
    "#from tqdm import tqdm"
   ]
  },
  {
   "cell_type": "code",
   "execution_count": 2,
   "id": "667645b0",
   "metadata": {},
   "outputs": [],
   "source": [
    "from src.search import search\n",
    "from src.bootstrap import bootstrap_ci\n",
    "from src.perm_test import find_intervals, ttest_ind, pval\n",
    "from src.utils import partition"
   ]
  },
  {
   "cell_type": "markdown",
   "id": "36a244ed",
   "metadata": {},
   "source": [
    "---"
   ]
  },
  {
   "cell_type": "code",
   "execution_count": 3,
   "id": "d0df3b2e",
   "metadata": {},
   "outputs": [
    {
     "name": "stdout",
     "output_type": "stream",
     "text": [
      "[ 3.10640204 16.57130493]\n",
      "[ 7.99973308 23.47536422  2.11936196]\n"
     ]
    }
   ],
   "source": [
    "np.random.seed(123)\n",
    "n1, n2 = 2, 3\n",
    "gamma1 = (2, 5)  # shape k, scale theta\n",
    "gamma2 = (4, 3)\n",
    "x1 = np.random.gamma(gamma1[0], gamma1[1], n1)\n",
    "x2 = np.random.gamma(gamma2[0], gamma2[1], n2)\n",
    "print(x1)\n",
    "print(x2)"
   ]
  },
  {
   "cell_type": "code",
   "execution_count": 4,
   "id": "611f0478",
   "metadata": {},
   "outputs": [
    {
     "data": {
      "text/plain": [
       "array([[0, 1, 2, 3, 4],\n",
       "       [0, 2, 1, 3, 4],\n",
       "       [0, 3, 1, 2, 4],\n",
       "       [0, 4, 1, 2, 3],\n",
       "       [1, 2, 0, 3, 4],\n",
       "       [1, 3, 0, 2, 4],\n",
       "       [1, 4, 0, 2, 3],\n",
       "       [2, 3, 0, 1, 4],\n",
       "       [2, 4, 0, 1, 3],\n",
       "       [3, 4, 0, 1, 2]])"
      ]
     },
     "execution_count": 4,
     "metadata": {},
     "output_type": "execute_result"
    }
   ],
   "source": [
    "partitions = partition(n1, n2)\n",
    "partitions"
   ]
  },
  {
   "cell_type": "code",
   "execution_count": null,
   "id": "f0c0e7d2",
   "metadata": {},
   "outputs": [],
   "source": [
    "find_intervals(1, partitions, n1, n2, gamma1, gamma2,\n",
    "               pooled=True, alternative=\"two-sided\", save_intervals=True)"
   ]
  },
  {
   "cell_type": "markdown",
   "id": "fabf2ca4",
   "metadata": {},
   "source": [
    "---"
   ]
  },
  {
   "cell_type": "code",
   "execution_count": null,
   "id": "7480402d",
   "metadata": {},
   "outputs": [],
   "source": [
    "thread_count = 16\n",
    "threads = [0] * thread_count\n",
    "\n",
    "remaining = 128\n",
    "batch_size = remaining // thread_count\n",
    "\n",
    "intervals = []\n",
    "n_captured = 0"
   ]
  },
  {
   "cell_type": "code",
   "execution_count": null,
   "id": "3688d6d2",
   "metadata": {},
   "outputs": [],
   "source": [
    "%%time\n",
    "\n",
    "for i in range(thread_count):\n",
    "    n_samples = batch_size if i < thread_count-1 else remaining\n",
    "    threads[i] = threading.Thread(target=passToThread, args=(n_samples,))\n",
    "    threads[i].start()\n",
    "    remaining -= n_samples\n",
    "    \n",
    "for thread in threads:\n",
    "    thread.join()"
   ]
  },
  {
   "cell_type": "code",
   "execution_count": null,
   "id": "512925aa",
   "metadata": {},
   "outputs": [],
   "source": [
    "n_captured, len(intervals)"
   ]
  },
  {
   "cell_type": "markdown",
   "id": "4ca7de6c",
   "metadata": {},
   "source": [
    "Multithreading allows us to compute one confidence interval in \\~80 ms, even faster than it took to compute the one confidence interval above (\\~360 ms)."
   ]
  }
 ],
 "metadata": {
  "kernelspec": {
   "display_name": "Python 3 (ipykernel)",
   "language": "python",
   "name": "python3"
  },
  "language_info": {
   "codemirror_mode": {
    "name": "ipython",
    "version": 3
   },
   "file_extension": ".py",
   "mimetype": "text/x-python",
   "name": "python",
   "nbconvert_exporter": "python",
   "pygments_lexer": "ipython3",
   "version": "3.10.1"
  }
 },
 "nbformat": 4,
 "nbformat_minor": 5
}
