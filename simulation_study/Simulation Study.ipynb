{
 "cells": [
  {
   "cell_type": "code",
   "execution_count": 1,
   "id": "28173b23",
   "metadata": {},
   "outputs": [],
   "source": [
    "import numpy as np\n",
    "import statsmodels.stats.api as sms\n",
    "from scipy.stats import t as t\n",
    "import math\n",
    "from itertools import combinations\n",
    "import threading\n",
    "#from tqdm import tqdm"
   ]
  },
  {
   "cell_type": "code",
   "execution_count": 2,
   "id": "667645b0",
   "metadata": {},
   "outputs": [],
   "source": [
    "from src.bootstrap import bootstrap_ci\n",
    "from src.perm_test import search, ttest_ind, pval\n",
    "from src.utils import partition"
   ]
  },
  {
   "cell_type": "markdown",
   "id": "36a244ed",
   "metadata": {},
   "source": [
    "---"
   ]
  },
  {
   "cell_type": "code",
   "execution_count": 31,
   "id": "d0df3b2e",
   "metadata": {},
   "outputs": [
    {
     "name": "stdout",
     "output_type": "stream",
     "text": [
      "[ 3.10640204 16.57130493  5.12866305 24.18476682  0.43397101  5.8600058\n",
      "  4.67440403  7.73681736  5.78342153  5.83228843 16.63987585 11.08298414]\n",
      "[ 6.45227135 19.23152853 17.07707311  4.66477226  9.5959506   1.48357088\n",
      " 17.23434512 10.03238453]\n",
      "-2\n"
     ]
    }
   ],
   "source": [
    "np.random.seed(123)\n",
    "n1, n2 = 12, 8\n",
    "gamma1 = (2, 5)  # shape k, scale theta\n",
    "gamma2 = (4, 3)\n",
    "delta_true = (gamma1[0] * gamma1[1]) - (gamma2[0] * gamma2[1])  # true mean difference\n",
    "x1 = np.random.gamma(gamma1[0], gamma1[1], n1)\n",
    "x2 = np.random.gamma(gamma2[0], gamma2[1], n2)\n",
    "print(x1)\n",
    "print(x2)\n",
    "print(delta_true)"
   ]
  },
  {
   "cell_type": "code",
   "execution_count": 4,
   "id": "611f0478",
   "metadata": {},
   "outputs": [
    {
     "data": {
      "text/plain": [
       "array([[ 0,  1,  2, ..., 17, 18, 19],\n",
       "       [ 0,  1,  2, ..., 17, 18, 19],\n",
       "       [ 0,  1,  2, ..., 17, 18, 19],\n",
       "       ...,\n",
       "       [ 7,  8, 10, ...,  5,  6,  9],\n",
       "       [ 7,  9, 10, ...,  5,  6,  8],\n",
       "       [ 8,  9, 10, ...,  5,  6,  7]])"
      ]
     },
     "execution_count": 4,
     "metadata": {},
     "output_type": "execute_result"
    }
   ],
   "source": [
    "partitions = partition(n1, n2)\n",
    "partitions"
   ]
  },
  {
   "cell_type": "code",
   "execution_count": 5,
   "id": "e780c9be",
   "metadata": {},
   "outputs": [],
   "source": [
    "def tconfint(alpha, x1, x2, pooled=True, alternative=\"two-sided\"):\n",
    "    cm = sms.CompareMeans(sms.DescrStatsW(x1), sms.DescrStatsW(x2))\n",
    "    return cm.tconfint_diff(alpha, alternative, usevar=\"pooled\")"
   ]
  },
  {
   "cell_type": "code",
   "execution_count": 97,
   "id": "f0c0e7d2",
   "metadata": {},
   "outputs": [],
   "source": [
    "def passToThread(batch_start, batch_size, two_sided=True):\n",
    "    global n_captured\n",
    "    \n",
    "    def invert_test(alternative, batch_idx):\n",
    "        t99 = tconfint(0.001, x1s[batch_idx], x2s[batch_idx], pooled, alternative)\n",
    "        t90 = tconfint(0.20, x1s[batch_idx], x2s[batch_idx], pooled, alternative)\n",
    "        lower, upper = -np.inf, np.inf\n",
    "        if alternative != \"smaller\":\n",
    "            lower = search(x1, x2, partitions, t99[0], t90[0], alternative=alternative)\n",
    "        if alternative != \"larger\":\n",
    "            upper = search(x1, x2, partitions, t90[1], t99[1], alternative=alternative)\n",
    "        return lower, upper\n",
    "\n",
    "    for i in range(batch_start, batch_start + batch_size):\n",
    "        try:\n",
    "            if two_sided:\n",
    "                lower, upper = invert_test(\"two-sided\", i)\n",
    "            else:\n",
    "                lower1, upper1 = invert_test(\"smaller\", i)\n",
    "                lower2, upper2 = invert_test(\"larger\", i)\n",
    "                lower, upper = max(lower1, lower2), min(upper1, upper2)\n",
    "        except AssertionError:\n",
    "            continue\n",
    "        intervals.append((lower, upper))\n",
    "        n_captured += (lower <= delta_true) * (delta_true <= upper)"
   ]
  },
  {
   "cell_type": "code",
   "execution_count": 98,
   "id": "6d5ff53a",
   "metadata": {},
   "outputs": [],
   "source": [
    "np.random.seed(123)\n",
    "x1s = np.random.gamma(gamma1[0], gamma1[1], (7300, n1))\n",
    "x2s = np.random.gamma(gamma1[0], gamma1[1], (7300, n2))"
   ]
  },
  {
   "cell_type": "code",
   "execution_count": 101,
   "id": "96e0e718",
   "metadata": {},
   "outputs": [
    {
     "name": "stdout",
     "output_type": "stream",
     "text": [
      "CPU times: user 233 ms, sys: 48.9 ms, total: 282 ms\n",
      "Wall time: 280 ms\n"
     ]
    },
    {
     "data": {
      "text/plain": [
       "[(-4.475304927828296, 4.841502455220187)]"
      ]
     },
     "execution_count": 101,
     "metadata": {},
     "output_type": "execute_result"
    }
   ],
   "source": [
    "n_captured = 0\n",
    "intervals = []\n",
    "pooled = True\n",
    "%time passToThread(0, 1, two_sided=True)\n",
    "intervals"
   ]
  },
  {
   "cell_type": "code",
   "execution_count": 102,
   "id": "8eb7de3a",
   "metadata": {},
   "outputs": [
    {
     "name": "stdout",
     "output_type": "stream",
     "text": [
      "CPU times: user 128 ms, sys: 27.1 ms, total: 155 ms\n",
      "Wall time: 153 ms\n"
     ]
    },
    {
     "data": {
      "text/plain": [
       "[(-7.008071218100954, 3.6351771998122877)]"
      ]
     },
     "execution_count": 102,
     "metadata": {},
     "output_type": "execute_result"
    }
   ],
   "source": [
    "n_captured = 0\n",
    "intervals = []\n",
    "pooled = True\n",
    "%time passToThread(0, 1, two_sided=False)\n",
    "intervals"
   ]
  },
  {
   "cell_type": "markdown",
   "id": "fabf2ca4",
   "metadata": {},
   "source": [
    "---"
   ]
  },
  {
   "cell_type": "code",
   "execution_count": 19,
   "id": "7480402d",
   "metadata": {},
   "outputs": [],
   "source": [
    "thread_count = 16\n",
    "threads = [0] * thread_count\n",
    "\n",
    "remaining = 128\n",
    "batch_size = remaining // thread_count\n",
    "\n",
    "intervals = []\n",
    "n_captured = 0"
   ]
  },
  {
   "cell_type": "code",
   "execution_count": 20,
   "id": "3688d6d2",
   "metadata": {},
   "outputs": [
    {
     "name": "stdout",
     "output_type": "stream",
     "text": [
      "CPU times: user 49.6 s, sys: 14 s, total: 1min 3s\n",
      "Wall time: 10.8 s\n"
     ]
    }
   ],
   "source": [
    "%%time\n",
    "\n",
    "for i in range(thread_count):\n",
    "    n_samples = batch_size if i < thread_count-1 else remaining\n",
    "    threads[i] = threading.Thread(target=passToThread, args=(n_samples,))\n",
    "    threads[i].start()\n",
    "    remaining -= n_samples\n",
    "    \n",
    "for thread in threads:\n",
    "    thread.join()"
   ]
  },
  {
   "cell_type": "code",
   "execution_count": 21,
   "id": "512925aa",
   "metadata": {},
   "outputs": [
    {
     "data": {
      "text/plain": [
       "(125, 128)"
      ]
     },
     "execution_count": 21,
     "metadata": {},
     "output_type": "execute_result"
    }
   ],
   "source": [
    "n_captured, len(intervals)"
   ]
  },
  {
   "cell_type": "markdown",
   "id": "4ca7de6c",
   "metadata": {},
   "source": [
    "Multithreading allows us to compute one confidence interval in \\~80 ms, even faster than it took to compute the one confidence interval above (\\~360 ms)."
   ]
  }
 ],
 "metadata": {
  "kernelspec": {
   "display_name": "Python 3 (ipykernel)",
   "language": "python",
   "name": "python3"
  },
  "language_info": {
   "codemirror_mode": {
    "name": "ipython",
    "version": 3
   },
   "file_extension": ".py",
   "mimetype": "text/x-python",
   "name": "python",
   "nbconvert_exporter": "python",
   "pygments_lexer": "ipython3",
   "version": "3.10.1"
  }
 },
 "nbformat": 4,
 "nbformat_minor": 5
}
