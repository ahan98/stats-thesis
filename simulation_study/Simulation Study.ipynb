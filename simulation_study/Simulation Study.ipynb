{
 "cells": [
  {
   "cell_type": "code",
   "execution_count": 1,
   "id": "28173b23",
   "metadata": {},
   "outputs": [],
   "source": [
    "import numpy as np\n",
    "import statsmodels.stats.api as sms\n",
    "from scipy.stats import t as t\n",
    "import math\n",
    "from itertools import combinations\n",
    "import threading\n",
    "#from tqdm import tqdm"
   ]
  },
  {
   "cell_type": "code",
   "execution_count": 2,
   "id": "667645b0",
   "metadata": {},
   "outputs": [],
   "source": [
    "from src.bootstrap import bootstrap_ci\n",
    "from src.perm_test import search, ttest_ind, pval\n",
    "from src.utils import partition"
   ]
  },
  {
   "cell_type": "markdown",
   "id": "36a244ed",
   "metadata": {},
   "source": [
    "---"
   ]
  },
  {
   "cell_type": "code",
   "execution_count": 3,
   "id": "d0df3b2e",
   "metadata": {},
   "outputs": [
    {
     "name": "stdout",
     "output_type": "stream",
     "text": [
      "[ 3.10640204 16.57130493  5.12866305 24.18476682  0.43397101  5.8600058\n",
      "  4.67440403  7.73681736  5.78342153  5.83228843 16.63987585 11.08298414]\n",
      "[ 6.45227135 19.23152853 17.07707311  4.66477226  9.5959506   1.48357088\n",
      " 17.23434512 10.03238453]\n"
     ]
    }
   ],
   "source": [
    "np.random.seed(123)\n",
    "n1, n2 = 12, 8\n",
    "gamma1 = (2, 5)  # shape k, scale theta\n",
    "gamma2 = (4, 3)\n",
    "delta_true = (gamma1[0] * gamma1[1]) - (gamma2[0] * gamma2[1])  # true mean difference\n",
    "x1 = np.random.gamma(gamma1[0], gamma1[1], n1)\n",
    "x2 = np.random.gamma(gamma2[0], gamma2[1], n2)\n",
    "print(x1)\n",
    "print(x2)"
   ]
  },
  {
   "cell_type": "code",
   "execution_count": 4,
   "id": "611f0478",
   "metadata": {},
   "outputs": [
    {
     "data": {
      "text/plain": [
       "array([[ 0,  1,  2, ..., 17, 18, 19],\n",
       "       [ 0,  1,  2, ..., 17, 18, 19],\n",
       "       [ 0,  1,  2, ..., 17, 18, 19],\n",
       "       ...,\n",
       "       [ 7,  8, 10, ...,  5,  6,  9],\n",
       "       [ 7,  9, 10, ...,  5,  6,  8],\n",
       "       [ 8,  9, 10, ...,  5,  6,  7]])"
      ]
     },
     "execution_count": 4,
     "metadata": {},
     "output_type": "execute_result"
    }
   ],
   "source": [
    "partitions = partition(n1, n2)\n",
    "partitions"
   ]
  },
  {
   "cell_type": "code",
   "execution_count": 5,
   "id": "e780c9be",
   "metadata": {},
   "outputs": [],
   "source": [
    "def tconfint(alpha, x1, x2, pooled=True, alternative=\"two-sided\"):\n",
    "    cm = sms.CompareMeans(sms.DescrStatsW(x1), sms.DescrStatsW(x2))\n",
    "    return cm.tconfint_diff(alpha, alternative, usevar=\"pooled\")"
   ]
  },
  {
   "cell_type": "code",
   "execution_count": 6,
   "id": "f0c0e7d2",
   "metadata": {},
   "outputs": [],
   "source": [
    "def passToThread(batch_size):\n",
    "    global n_captured\n",
    "\n",
    "    for _ in range(batch_size):\n",
    "        x1 = np.random.gamma(gamma1[0], gamma1[1], n1)\n",
    "        x2 = np.random.gamma(gamma2[0], gamma2[1], n2)\n",
    "        print(\"[passToThread]\", x1, x2)\n",
    "\n",
    "        t99 = tconfint(0.001, x1, x2, pooled, alternative)\n",
    "        t90 = tconfint(0.20, x1, x2, pooled, alternative)\n",
    "\n",
    "        lower, upper = -np.inf, np.inf\n",
    "        try:\n",
    "            if alternative != \"smaller\":\n",
    "                lower = search(x1, x2, partitions, t99[0], t90[0])\n",
    "            if alternative != \"larger\":\n",
    "                upper = search(x1, x2, partitions, t90[1], t99[1])\n",
    "        except AssertionError:\n",
    "            continue\n",
    "\n",
    "        intervals.append((lower, upper))\n",
    "        n_captured += (lower <= delta_true) * (delta_true <= upper)"
   ]
  },
  {
   "cell_type": "code",
   "execution_count": 7,
   "id": "8eb7de3a",
   "metadata": {},
   "outputs": [],
   "source": [
    "n_captured = 0\n",
    "intervals = []\n",
    "pooled = True\n",
    "alternative=\"smaller\""
   ]
  },
  {
   "cell_type": "code",
   "execution_count": 8,
   "id": "6cf644df",
   "metadata": {},
   "outputs": [],
   "source": [
    "np.random.seed(123)"
   ]
  },
  {
   "cell_type": "code",
   "execution_count": 9,
   "id": "5a5f718e",
   "metadata": {},
   "outputs": [
    {
     "name": "stdout",
     "output_type": "stream",
     "text": [
      "[passToThread] [ 3.10640204 16.57130493  5.12866305 24.18476682  0.43397101  5.8600058\n",
      "  4.67440403  7.73681736  5.78342153  5.83228843 16.63987585 11.08298414] [ 6.45227135 19.23152853 17.07707311  4.66477226  9.5959506   1.48357088\n",
      " 17.23434512 10.03238453]\n",
      "[pval] [ 2.2503328  15.71523568  4.27259381 23.32869757 -0.42209823  5.00393656\n",
      "  3.81833478  6.88074811  4.92735229  4.97621918 15.78380661 10.2269149 ] [ 6.45227135 19.23152853 17.07707311  4.66477226  9.5959506   1.48357088\n",
      " 17.23434512 10.03238453]\n",
      "t_obs = -0.8620486679895987\n",
      "delta 0.8560692459202621\n",
      "[pval] [-6.22400417  7.24089871 -4.20174317 14.8543606  -8.89643521 -3.47040042\n",
      " -4.65600219 -1.59358886 -3.54698469 -3.49811779  7.30946963  1.75257792] [ 6.45227135 19.23152853 17.07707311  4.66477226  9.5959506   1.48357088\n",
      " 17.23434512 10.03238453]\n",
      "t_obs = -3.6104848835268477\n",
      "delta 9.330406219919354\n",
      "[pval] [-1.98683569 11.47806719  0.03542532 19.09152909 -4.65926672  0.76676807\n",
      " -0.41883371  2.64357962  0.6901838   0.7390507  11.54663812  5.98974641] [ 6.45227135 19.23152853 17.07707311  4.66477226  9.5959506   1.48357088\n",
      " 17.23434512 10.03238453]\n",
      "t_obs = -2.2362667757582235\n",
      "delta 5.093237732919808\n",
      "[pval] [ 0.13174856 13.59665144  2.15400956 21.21011333 -2.54068248  2.88535231\n",
      "  1.69975054  4.76216387  2.80876804  2.85763494 13.66522236  8.10833065] [ 6.45227135 19.23152853 17.07707311  4.66477226  9.5959506   1.48357088\n",
      " 17.23434512 10.03238453]\n",
      "t_obs = -1.549157721873911\n",
      "delta 2.974653489420035\n",
      "[pval] [-0.92754357 12.53735932  1.09471744 20.15082121 -3.5999746   1.82606019\n",
      "  0.64045842  3.70287175  1.74947592  1.79834282 12.60593024  7.04903853] [ 6.45227135 19.23152853 17.07707311  4.66477226  9.5959506   1.48357088\n",
      " 17.23434512 10.03238453]\n",
      "t_obs = -1.8927122488160666\n",
      "delta 4.033945611169921\n",
      "[pval] [-1.45718963 12.00771326  0.56507138 19.62117515 -4.12962066  1.29641413\n",
      "  0.11081235  3.17322569  1.21982986  1.26869676 12.07628418  6.51939247] [ 6.45227135 19.23152853 17.07707311  4.66477226  9.5959506   1.48357088\n",
      " 17.23434512 10.03238453]\n",
      "t_obs = -2.064489512287145\n",
      "delta 4.563591672044865\n",
      "[pval] [-1.72201266 11.74289023  0.30024835 19.35635212 -4.39444369  1.0315911\n",
      " -0.15401068  2.90840265  0.95500683  1.00387373 11.81146115  6.25456944] [ 6.45227135 19.23152853 17.07707311  4.66477226  9.5959506   1.48357088\n",
      " 17.23434512 10.03238453]\n",
      "t_obs = -2.150378144022684\n",
      "delta 4.828414702482336\n",
      "CPU times: user 131 ms, sys: 33.1 ms, total: 164 ms\n",
      "Wall time: 159 ms\n"
     ]
    }
   ],
   "source": [
    "%%time\n",
    "passToThread(1)"
   ]
  },
  {
   "cell_type": "code",
   "execution_count": 10,
   "id": "ba2280e0",
   "metadata": {},
   "outputs": [
    {
     "data": {
      "text/plain": [
       "[(-inf, 4.828414702482336)]"
      ]
     },
     "execution_count": 10,
     "metadata": {},
     "output_type": "execute_result"
    }
   ],
   "source": [
    "intervals"
   ]
  },
  {
   "cell_type": "markdown",
   "id": "fabf2ca4",
   "metadata": {},
   "source": [
    "---"
   ]
  },
  {
   "cell_type": "code",
   "execution_count": 19,
   "id": "7480402d",
   "metadata": {},
   "outputs": [],
   "source": [
    "thread_count = 16\n",
    "threads = [0] * thread_count\n",
    "\n",
    "remaining = 128\n",
    "batch_size = remaining // thread_count\n",
    "\n",
    "intervals = []\n",
    "n_captured = 0"
   ]
  },
  {
   "cell_type": "code",
   "execution_count": 20,
   "id": "3688d6d2",
   "metadata": {},
   "outputs": [
    {
     "name": "stdout",
     "output_type": "stream",
     "text": [
      "CPU times: user 49.6 s, sys: 14 s, total: 1min 3s\n",
      "Wall time: 10.8 s\n"
     ]
    }
   ],
   "source": [
    "%%time\n",
    "\n",
    "for i in range(thread_count):\n",
    "    n_samples = batch_size if i < thread_count-1 else remaining\n",
    "    threads[i] = threading.Thread(target=passToThread, args=(n_samples,))\n",
    "    threads[i].start()\n",
    "    remaining -= n_samples\n",
    "    \n",
    "for thread in threads:\n",
    "    thread.join()"
   ]
  },
  {
   "cell_type": "code",
   "execution_count": 21,
   "id": "512925aa",
   "metadata": {},
   "outputs": [
    {
     "data": {
      "text/plain": [
       "(125, 128)"
      ]
     },
     "execution_count": 21,
     "metadata": {},
     "output_type": "execute_result"
    }
   ],
   "source": [
    "n_captured, len(intervals)"
   ]
  },
  {
   "cell_type": "markdown",
   "id": "4ca7de6c",
   "metadata": {},
   "source": [
    "Multithreading allows us to compute one confidence interval in \\~80 ms, even faster than it took to compute the one confidence interval above (\\~360 ms)."
   ]
  },
  {
   "cell_type": "code",
   "execution_count": 10,
   "id": "21f32530",
   "metadata": {},
   "outputs": [
    {
     "data": {
      "text/plain": [
       "array([ 3.10640204, 16.57130493,  5.12866305, 24.18476682,  0.43397101,\n",
       "        5.8600058 ,  4.67440403,  7.73681736,  5.78342153,  5.83228843,\n",
       "       16.63987585, 11.08298414])"
      ]
     },
     "execution_count": 10,
     "metadata": {},
     "output_type": "execute_result"
    }
   ],
   "source": [
    "x1"
   ]
  },
  {
   "cell_type": "code",
   "execution_count": 11,
   "id": "e701227f",
   "metadata": {},
   "outputs": [
    {
     "data": {
      "text/plain": [
       "array([ 6.45227135, 19.23152853, 17.07707311,  4.66477226,  9.5959506 ,\n",
       "        1.48357088, 17.23434512, 10.03238453])"
      ]
     },
     "execution_count": 11,
     "metadata": {},
     "output_type": "execute_result"
    }
   ],
   "source": [
    "x2"
   ]
  },
  {
   "cell_type": "code",
   "execution_count": 15,
   "id": "b7e449d5",
   "metadata": {},
   "outputs": [
    {
     "data": {
      "text/plain": [
       "-1.5573782195752903"
      ]
     },
     "execution_count": 15,
     "metadata": {},
     "output_type": "execute_result"
    }
   ],
   "source": [
    "ttest_ind(x1-3, x2, 12, 8)"
   ]
  },
  {
   "cell_type": "code",
   "execution_count": null,
   "id": "2aa7907a",
   "metadata": {},
   "outputs": [],
   "source": []
  }
 ],
 "metadata": {
  "kernelspec": {
   "display_name": "Python 3 (ipykernel)",
   "language": "python",
   "name": "python3"
  },
  "language_info": {
   "codemirror_mode": {
    "name": "ipython",
    "version": 3
   },
   "file_extension": ".py",
   "mimetype": "text/x-python",
   "name": "python",
   "nbconvert_exporter": "python",
   "pygments_lexer": "ipython3",
   "version": "3.10.1"
  }
 },
 "nbformat": 4,
 "nbformat_minor": 5
}
