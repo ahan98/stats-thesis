{
 "cells": [
  {
   "cell_type": "code",
   "execution_count": 125,
   "id": "28173b23",
   "metadata": {},
   "outputs": [],
   "source": [
    "import numpy as np\n",
    "import multiprocess as mp\n",
    "import statsmodels.stats.api as sms\n",
    "from math import ceil\n",
    "from tqdm import tqdm"
   ]
  },
  {
   "cell_type": "code",
   "execution_count": 126,
   "id": "667645b0",
   "metadata": {},
   "outputs": [],
   "source": [
    "from src.bootstrap import bootstrap_ci\n",
    "from src.perm_test import search\n",
    "from src.utils import partition"
   ]
  },
  {
   "cell_type": "markdown",
   "id": "36a244ed",
   "metadata": {},
   "source": [
    "---"
   ]
  },
  {
   "cell_type": "code",
   "execution_count": 127,
   "id": "e780c9be",
   "metadata": {},
   "outputs": [],
   "source": [
    "# https://www.statsmodels.org/dev/generated/statsmodels.stats.weightstats.CompareMeans.tconfint_diff.html\n",
    "def tconfint(alpha, x1, x2, pooled=True, alternative=\"two-sided\"):\n",
    "    cm = sms.CompareMeans(sms.DescrStatsW(x1), sms.DescrStatsW(x2))\n",
    "    return cm.tconfint_diff(alpha, alternative, usevar=\"pooled\" if pooled else \"unequal\")"
   ]
  },
  {
   "cell_type": "code",
   "execution_count": 128,
   "id": "f0c0e7d2",
   "metadata": {},
   "outputs": [],
   "source": [
    "def passToThread(start_idx, end_idx, two_sided=True, pooled=True, method=\"permutation\", alpha=0.05):\n",
    "\n",
    "    def invert_test(idx, alternative, method=\"permutation\"):\n",
    "        x1, x2 = x1s[idx], x2s[idx]\n",
    "        if method == \"t\":\n",
    "            lower, upper = tconfint(alpha, x1, x2, pooled, alternative)\n",
    "            return lower, upper\n",
    "        \n",
    "        t99 = tconfint(0.001, x1, x2, pooled, alternative)\n",
    "        t90 = tconfint(0.20, x1, x2, pooled, alternative)        \n",
    "        lower, upper = -np.inf, np.inf\n",
    "        if alternative != \"smaller\":\n",
    "            lower = search(x1, x2, partitions, t99[0], t90[0], pooled=pooled, alternative=alternative)\n",
    "        if alternative != \"larger\":\n",
    "            upper = search(x1, x2, partitions, t90[1], t99[1], pooled=pooled, alternative=alternative)\n",
    "        return lower, upper\n",
    "\n",
    "    n_captured = n_error = 0\n",
    "    for i in range(start_idx, end_idx):\n",
    "        try:\n",
    "            if two_sided:\n",
    "                lower, upper = invert_test(i, \"two-sided\", method)\n",
    "            else:\n",
    "                lower1, upper1 = invert_test(i, \"smaller\", method)\n",
    "                lower2, upper2 = invert_test(i, \"larger\", method)\n",
    "                lower, upper = max(lower1, lower2), min(upper1, upper2)\n",
    "        except AssertionError:\n",
    "            n_error += 1\n",
    "            continue\n",
    "        n_captured += (lower <= delta_true) * (delta_true <= upper)\n",
    "    return n_captured, n_error"
   ]
  },
  {
   "cell_type": "code",
   "execution_count": 154,
   "id": "40a7e5a9",
   "metadata": {},
   "outputs": [],
   "source": [
    "def simulate(coverages, i, two_sided=True, pooled=True, method=\"permutation\"):\n",
    "    pool = mp.Pool(mp.cpu_count())\n",
    "    results = pool.starmap(passToThread, [(i * batch_size, min(total, i * (batch_size+1)),\\\n",
    "                                           two_sided, pooled, method) for i in range(n_batches)])\n",
    "    pool.close()\n",
    "    pool.join()\n",
    "    results = np.array(results).sum(axis=0)\n",
    "    if not results[1]:\n",
    "        coverages[i].append(results[0] / total)"
   ]
  },
  {
   "cell_type": "markdown",
   "id": "173b8c20",
   "metadata": {},
   "source": [
    "---"
   ]
  },
  {
   "cell_type": "code",
   "execution_count": 130,
   "id": "d0df3b2e",
   "metadata": {},
   "outputs": [
    {
     "data": {
      "text/plain": [
       "array([[ 0,  1,  2, ..., 17, 18, 19],\n",
       "       [ 0,  1,  2, ..., 17, 18, 19],\n",
       "       [ 0,  1,  2, ..., 17, 18, 19],\n",
       "       ...,\n",
       "       [ 7,  8, 10, ...,  5,  6,  9],\n",
       "       [ 7,  9, 10, ...,  5,  6,  8],\n",
       "       [ 8,  9, 10, ...,  5,  6,  7]])"
      ]
     },
     "execution_count": 130,
     "metadata": {},
     "output_type": "execute_result"
    }
   ],
   "source": [
    "n1, n2 = 12, 8\n",
    "partitions = partition(n1, n2)\n",
    "partitions"
   ]
  },
  {
   "cell_type": "code",
   "execution_count": 148,
   "id": "addbef30",
   "metadata": {},
   "outputs": [],
   "source": [
    "np.random.seed(123)\n",
    "gammas = np.random.randint(1, 11, (1,2,2))"
   ]
  },
  {
   "cell_type": "markdown",
   "id": "2c2b960a",
   "metadata": {},
   "source": [
    "---"
   ]
  },
  {
   "cell_type": "code",
   "execution_count": 166,
   "id": "ae153f88",
   "metadata": {},
   "outputs": [],
   "source": [
    "total = 1000  # num. samples per gamma\n",
    "batch_size = mp.cpu_count()\n",
    "n_batches = ceil(total/batch_size)"
   ]
  },
  {
   "cell_type": "code",
   "execution_count": 167,
   "id": "b1fc7b5c",
   "metadata": {},
   "outputs": [],
   "source": [
    "def get_coverages(coverages, g):\n",
    "    global x1s, x2s, delta_true\n",
    "    np.random.seed(123)\n",
    "    # global variables\n",
    "    x1s = np.random.gamma(g[0,0], g[0,1], (total, n1))\n",
    "    x2s = np.random.gamma(g[1,0], g[1,1], (total, n2))\n",
    "    delta_true = (g[0,0] * g[0,1]) - (g[1,0]*g[1,1])  # true mean difference\n",
    "    \n",
    "    i = 0\n",
    "    processes = []\n",
    "    for two_sided in [True, False]:\n",
    "        for pooled in [True, False]:\n",
    "            for method in [\"permutation\", \"t\"]:\n",
    "                # print(f\"two_sided: {two_sided}, pooled: {pooled}, method: {method}\")\n",
    "                #sub_l = manager.list(coverages[i])\n",
    "                #sub_l.append(simulate(two_sided, pooled, method))\n",
    "                #coverages[i] = sub_l\n",
    "                p = mp.Process(target=simulate, args=(coverages, i, two_sided, pooled, method))\n",
    "                processes.append(p)\n",
    "                p.start()\n",
    "                i += 1\n",
    "    for p in processes:\n",
    "        p.join()"
   ]
  },
  {
   "cell_type": "code",
   "execution_count": null,
   "id": "dbf83b69",
   "metadata": {},
   "outputs": [],
   "source": [
    "%%time\n",
    "\n",
    "manager = mp.Manager()\n",
    "coverages = manager.list([manager.list() for _ in range(8)])\n",
    "\n",
    "for g in gammas:\n",
    "    p = mp.Process(target=get_coverages, args=(coverages, g))\n",
    "    processes.append(p)\n",
    "    p.start()\n",
    "\n",
    "for p in processes:\n",
    "    p.join()"
   ]
  },
  {
   "cell_type": "code",
   "execution_count": 162,
   "id": "cbe0f9fb",
   "metadata": {},
   "outputs": [
    {
     "name": "stdout",
     "output_type": "stream",
     "text": [
      "[0.68]\n",
      "[0.68]\n",
      "[0.7]\n",
      "[0.69]\n",
      "[0.68]\n",
      "[0.67]\n",
      "[0.68]\n",
      "[0.65]\n"
     ]
    }
   ],
   "source": [
    "for coverage in coverages:\n",
    "    print(list(coverage))"
   ]
  },
  {
   "cell_type": "code",
   "execution_count": 86,
   "id": "fd534ba7",
   "metadata": {},
   "outputs": [],
   "source": [
    "import matplotlib.pyplot as plt\n",
    "%matplotlib inline"
   ]
  },
  {
   "cell_type": "code",
   "execution_count": 153,
   "id": "e7e73cf8",
   "metadata": {},
   "outputs": [
    {
     "data": {
      "image/png": "[encoded data removed]",
      "text/plain": [
       "<Figure size 720x504 with 1 Axes>"
      ]
     },
     "metadata": {
      "needs_background": "light"
     },
     "output_type": "display_data"
    }
   ],
   "source": [
    "coverages = [list(sublist) for sublist in coverages]  # convert to regular list of lists\n",
    "fig = plt.figure(figsize =(10, 7))\n",
    "ax = fig.add_axes([0, 0, 1, 1])\n",
    "bp = ax.boxplot(coverages)"
   ]
  }
 ],
 "metadata": {
  "kernelspec": {
   "display_name": "Python 3 (ipykernel)",
   "language": "python",
   "name": "python3"
  },
  "language_info": {
   "codemirror_mode": {
    "name": "ipython",
    "version": 3
   },
   "file_extension": ".py",
   "mimetype": "text/x-python",
   "name": "python",
   "nbconvert_exporter": "python",
   "pygments_lexer": "ipython3",
   "version": "3.10.1"
  }
 },
 "nbformat": 4,
 "nbformat_minor": 5
}
