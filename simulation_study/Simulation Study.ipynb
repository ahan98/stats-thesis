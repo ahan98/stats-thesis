{
 "cells": [
  {
   "cell_type": "code",
   "execution_count": 14,
   "id": "28173b23",
   "metadata": {},
   "outputs": [],
   "source": [
    "import numpy as np\n",
    "import multiprocess as mp\n",
    "import statsmodels.stats.api as sms\n",
    "from math import ceil\n",
    "from tqdm import tqdm"
   ]
  },
  {
   "cell_type": "code",
   "execution_count": 15,
   "id": "667645b0",
   "metadata": {},
   "outputs": [],
   "source": [
    "from src.bootstrap import bootstrap_ci\n",
    "from src.perm_test import search\n",
    "from src.utils import partition"
   ]
  },
  {
   "cell_type": "markdown",
   "id": "36a244ed",
   "metadata": {},
   "source": [
    "---"
   ]
  },
  {
   "cell_type": "code",
   "execution_count": 16,
   "id": "e780c9be",
   "metadata": {},
   "outputs": [],
   "source": [
    "# https://www.statsmodels.org/dev/generated/statsmodels.stats.weightstats.CompareMeans.tconfint_diff.html\n",
    "def tconfint(alpha, x1, x2, pooled=True, alternative=\"two-sided\"):\n",
    "    cm = sms.CompareMeans(sms.DescrStatsW(x1), sms.DescrStatsW(x2))\n",
    "    return cm.tconfint_diff(alpha, alternative, usevar=\"pooled\" if pooled else \"unequal\")"
   ]
  },
  {
   "cell_type": "code",
   "execution_count": 4,
   "id": "f0c0e7d2",
   "metadata": {},
   "outputs": [],
   "source": [
    "def passToThread(start_idx, end_idx, two_sided=True, pooled=True, method=\"permutation\", alpha=0.05):\n",
    "\n",
    "    def invert_test(idx, alternative, method=\"permutation\"):\n",
    "        x1, x2 = x1s[idx], x2s[idx]\n",
    "        if method == \"t\":\n",
    "            lower, upper = tconfint(alpha, x1, x2, pooled, alternative)\n",
    "            return lower, upper\n",
    "        \n",
    "        t99 = tconfint(0.001, x1, x2, pooled, alternative)\n",
    "        t90 = tconfint(0.20, x1, x2, pooled, alternative)        \n",
    "        lower, upper = -np.inf, np.inf\n",
    "        if alternative != \"smaller\":\n",
    "            lower = search(x1, x2, partitions, t99[0], t90[0], pooled=pooled, alternative=alternative)\n",
    "        if alternative != \"larger\":\n",
    "            upper = search(x1, x2, partitions, t90[1], t99[1], pooled=pooled, alternative=alternative)\n",
    "        return lower, upper\n",
    "\n",
    "    n_captured = n_error = 0\n",
    "    for i in range(start_idx, end_idx):\n",
    "        try:\n",
    "            if two_sided:\n",
    "                lower, upper = invert_test(i, \"two-sided\", method)\n",
    "            else:\n",
    "                lower1, upper1 = invert_test(i, \"smaller\", method)\n",
    "                lower2, upper2 = invert_test(i, \"larger\", method)\n",
    "                lower, upper = max(lower1, lower2), min(upper1, upper2)\n",
    "        except AssertionError:\n",
    "            n_error += 1\n",
    "            continue\n",
    "        n_captured += (lower <= delta_true) * (delta_true <= upper)\n",
    "    return n_captured, n_error"
   ]
  },
  {
   "cell_type": "code",
   "execution_count": 5,
   "id": "40a7e5a9",
   "metadata": {},
   "outputs": [],
   "source": [
    "def simulate(coverages, i, two_sided=True, pooled=True, method=\"permutation\"):\n",
    "    pool = mp.Pool(mp.cpu_count())\n",
    "    results = pool.starmap(passToThread, [(i * batch_size, min(total, i * (batch_size+1)),\\\n",
    "                                           two_sided, pooled, method) for i in range(n_batches)])\n",
    "    pool.close()\n",
    "    pool.join()\n",
    "    results = np.array(results).sum(axis=0)\n",
    "    if not results[1]:\n",
    "        coverages[i].append(results[0] / total)"
   ]
  },
  {
   "cell_type": "markdown",
   "id": "173b8c20",
   "metadata": {},
   "source": [
    "---"
   ]
  },
  {
   "cell_type": "markdown",
   "id": "6f890dc0",
   "metadata": {},
   "source": [
    "smaller sample sizes, show example ouptuts for each function"
   ]
  },
  {
   "cell_type": "code",
   "execution_count": 17,
   "id": "d0df3b2e",
   "metadata": {},
   "outputs": [
    {
     "data": {
      "text/plain": [
       "array([[0, 1, 2, ..., 7, 8, 9],\n",
       "       [0, 1, 2, ..., 7, 8, 9],\n",
       "       [0, 1, 2, ..., 7, 8, 9],\n",
       "       ...,\n",
       "       [4, 5, 7, ..., 2, 3, 6],\n",
       "       [4, 6, 7, ..., 2, 3, 5],\n",
       "       [5, 6, 7, ..., 2, 3, 4]])"
      ]
     },
     "execution_count": 17,
     "metadata": {},
     "output_type": "execute_result"
    }
   ],
   "source": [
    "n1, n2 = 5, 5\n",
    "partitions = partition(n1, n2)\n",
    "partitions"
   ]
  },
  {
   "cell_type": "code",
   "execution_count": 18,
   "id": "c58ca7d8",
   "metadata": {},
   "outputs": [
    {
     "data": {
      "text/plain": [
       "(252, 10)"
      ]
     },
     "execution_count": 18,
     "metadata": {},
     "output_type": "execute_result"
    }
   ],
   "source": [
    "partitions.shape"
   ]
  },
  {
   "cell_type": "code",
   "execution_count": 19,
   "id": "addbef30",
   "metadata": {},
   "outputs": [],
   "source": [
    "np.random.seed(123)\n",
    "gammas = np.random.randint(1, 11, (3,2,2))"
   ]
  },
  {
   "cell_type": "markdown",
   "id": "2c2b960a",
   "metadata": {},
   "source": [
    "---"
   ]
  },
  {
   "cell_type": "code",
   "execution_count": 13,
   "id": "ae153f88",
   "metadata": {},
   "outputs": [],
   "source": [
    "total = 100  # num. samples per gamma\n",
    "batch_size = mp.cpu_count()\n",
    "n_batches = ceil(total/batch_size)"
   ]
  },
  {
   "cell_type": "code",
   "execution_count": 18,
   "id": "b1fc7b5c",
   "metadata": {},
   "outputs": [],
   "source": [
    "def get_coverages(coverages, g):\n",
    "    global x1s, x2s, delta_true\n",
    "    \n",
    "    np.random.seed(123)\n",
    "    # global variables\n",
    "    x1s = np.random.gamma(g[0,0], g[0,1], (total, n1))\n",
    "    x2s = np.random.gamma(g[1,0], g[1,1], (total, n2))\n",
    "    delta_true = (g[0,0] * g[0,1]) - (g[1,0]*g[1,1])  # true mean difference\n",
    "    \n",
    "    i = 0\n",
    "    processes = []\n",
    "    for two_sided in [True, False]:\n",
    "        for pooled in [True, False]:\n",
    "            for method in [\"permutation\", \"t\"]:\n",
    "                # print(f\"two_sided: {two_sided}, pooled: {pooled}, method: {method}\")\n",
    "                #sub_l = manager.list(coverages[i])\n",
    "                #sub_l.append(simulate(two_sided, pooled, method))\n",
    "                #coverages[i] = sub_l\n",
    "                p = mp.Process(target=simulate, args=(coverages, i, two_sided, pooled, method))\n",
    "                processes.append(p)\n",
    "                p.start()\n",
    "                i += 1\n",
    "    for p in processes:\n",
    "        p.join()"
   ]
  },
  {
   "cell_type": "code",
   "execution_count": 19,
   "id": "dbf83b69",
   "metadata": {},
   "outputs": [
    {
     "name": "stderr",
     "output_type": "stream",
     "text": [
      "Process Process-9:4:\n",
      "Process Process-10:2:\n",
      "Process Process-10:3:\n",
      "Process Process-8:1:\n",
      "Process Process-8:5:\n",
      "Traceback (most recent call last):\n",
      "Traceback (most recent call last):\n",
      "Traceback (most recent call last):\n",
      "Process Process-9:2:\n",
      "Traceback (most recent call last):\n",
      "  File \"/Library/Frameworks/Python.framework/Versions/3.10/lib/python3.10/site-packages/multiprocess/managers.py\", line 801, in _callmethod\n",
      "    conn = self._tls.connection\n",
      "Traceback (most recent call last):\n",
      "  File \"/Library/Frameworks/Python.framework/Versions/3.10/lib/python3.10/site-packages/multiprocess/managers.py\", line 801, in _callmethod\n",
      "    conn = self._tls.connection\n",
      "  File \"/Library/Frameworks/Python.framework/Versions/3.10/lib/python3.10/site-packages/multiprocess/managers.py\", line 801, in _callmethod\n",
      "    conn = self._tls.connection\n",
      "  File \"/Library/Frameworks/Python.framework/Versions/3.10/lib/python3.10/site-packages/multiprocess/managers.py\", line 801, in _callmethod\n",
      "    conn = self._tls.connection\n",
      "Traceback (most recent call last):\n",
      "  File \"/Library/Frameworks/Python.framework/Versions/3.10/lib/python3.10/site-packages/multiprocess/managers.py\", line 801, in _callmethod\n",
      "    conn = self._tls.connection\n",
      "AttributeError: 'ForkAwareLocal' object has no attribute 'connection'\n",
      "AttributeError: 'ForkAwareLocal' object has no attribute 'connection'\n",
      "  File \"/Library/Frameworks/Python.framework/Versions/3.10/lib/python3.10/site-packages/multiprocess/managers.py\", line 801, in _callmethod\n",
      "    conn = self._tls.connection\n",
      "AttributeError: 'ForkAwareLocal' object has no attribute 'connection'\n",
      "AttributeError: 'ForkAwareLocal' object has no attribute 'connection'\n",
      "\n",
      "During handling of the above exception, another exception occurred:\n",
      "\n",
      "AttributeError: 'ForkAwareLocal' object has no attribute 'connection'\n",
      "AttributeError: 'ForkAwareLocal' object has no attribute 'connection'\n",
      "\n",
      "During handling of the above exception, another exception occurred:\n",
      "\n",
      "\n",
      "During handling of the above exception, another exception occurred:\n",
      "\n",
      "\n",
      "During handling of the above exception, another exception occurred:\n",
      "\n",
      "\n",
      "During handling of the above exception, another exception occurred:\n",
      "\n",
      "Traceback (most recent call last):\n",
      "\n",
      "During handling of the above exception, another exception occurred:\n",
      "\n",
      "Traceback (most recent call last):\n",
      "Traceback (most recent call last):\n",
      "  File \"/Library/Frameworks/Python.framework/Versions/3.10/lib/python3.10/site-packages/multiprocess/process.py\", line 315, in _bootstrap\n",
      "    self.run()\n",
      "Traceback (most recent call last):\n",
      "Traceback (most recent call last):\n",
      "  File \"/Library/Frameworks/Python.framework/Versions/3.10/lib/python3.10/site-packages/multiprocess/process.py\", line 315, in _bootstrap\n",
      "    self.run()\n",
      "Traceback (most recent call last):\n",
      "  File \"/Library/Frameworks/Python.framework/Versions/3.10/lib/python3.10/site-packages/multiprocess/process.py\", line 315, in _bootstrap\n",
      "    self.run()\n",
      "  File \"/Library/Frameworks/Python.framework/Versions/3.10/lib/python3.10/site-packages/multiprocess/process.py\", line 108, in run\n",
      "    self._target(*self._args, **self._kwargs)\n",
      "  File \"/Library/Frameworks/Python.framework/Versions/3.10/lib/python3.10/site-packages/multiprocess/process.py\", line 315, in _bootstrap\n",
      "    self.run()\n",
      "  File \"/Library/Frameworks/Python.framework/Versions/3.10/lib/python3.10/site-packages/multiprocess/process.py\", line 315, in _bootstrap\n",
      "    self.run()\n",
      "  File \"/Library/Frameworks/Python.framework/Versions/3.10/lib/python3.10/site-packages/multiprocess/process.py\", line 108, in run\n",
      "    self._target(*self._args, **self._kwargs)\n",
      "  File \"/Library/Frameworks/Python.framework/Versions/3.10/lib/python3.10/site-packages/multiprocess/process.py\", line 315, in _bootstrap\n",
      "    self.run()\n",
      "  File \"/Library/Frameworks/Python.framework/Versions/3.10/lib/python3.10/site-packages/multiprocess/process.py\", line 108, in run\n",
      "    self._target(*self._args, **self._kwargs)\n",
      "  File \"/Library/Frameworks/Python.framework/Versions/3.10/lib/python3.10/site-packages/multiprocess/process.py\", line 108, in run\n",
      "    self._target(*self._args, **self._kwargs)\n",
      "  File \"/var/folders/y5/md_x_rz56954ldvsqk9_tpw80000gn/T/ipykernel_2039/1376381614.py\", line 9, in simulate\n",
      "    coverages[i].append(results[0] / total)\n",
      "  File \"/Library/Frameworks/Python.framework/Versions/3.10/lib/python3.10/site-packages/multiprocess/process.py\", line 108, in run\n",
      "    self._target(*self._args, **self._kwargs)\n",
      "  File \"/var/folders/y5/md_x_rz56954ldvsqk9_tpw80000gn/T/ipykernel_2039/1376381614.py\", line 9, in simulate\n",
      "    coverages[i].append(results[0] / total)\n",
      "  File \"/var/folders/y5/md_x_rz56954ldvsqk9_tpw80000gn/T/ipykernel_2039/1376381614.py\", line 9, in simulate\n",
      "    coverages[i].append(results[0] / total)\n",
      "  File \"/Library/Frameworks/Python.framework/Versions/3.10/lib/python3.10/site-packages/multiprocess/process.py\", line 108, in run\n",
      "    self._target(*self._args, **self._kwargs)\n",
      "  File \"<string>\", line 2, in __getitem__\n",
      "  File \"/var/folders/y5/md_x_rz56954ldvsqk9_tpw80000gn/T/ipykernel_2039/1376381614.py\", line 9, in simulate\n",
      "    coverages[i].append(results[0] / total)\n",
      "  File \"/var/folders/y5/md_x_rz56954ldvsqk9_tpw80000gn/T/ipykernel_2039/1376381614.py\", line 9, in simulate\n",
      "    coverages[i].append(results[0] / total)\n",
      "  File \"<string>\", line 2, in __getitem__\n",
      "  File \"<string>\", line 2, in __getitem__\n",
      "  File \"/var/folders/y5/md_x_rz56954ldvsqk9_tpw80000gn/T/ipykernel_2039/1376381614.py\", line 9, in simulate\n",
      "    coverages[i].append(results[0] / total)\n",
      "  File \"/Library/Frameworks/Python.framework/Versions/3.10/lib/python3.10/site-packages/multiprocess/managers.py\", line 805, in _callmethod\n",
      "    self._connect()\n",
      "  File \"<string>\", line 2, in __getitem__\n",
      "  File \"<string>\", line 2, in __getitem__\n",
      "  File \"<string>\", line 2, in __getitem__\n",
      "  File \"/Library/Frameworks/Python.framework/Versions/3.10/lib/python3.10/site-packages/multiprocess/managers.py\", line 805, in _callmethod\n",
      "    self._connect()\n",
      "  File \"/Library/Frameworks/Python.framework/Versions/3.10/lib/python3.10/site-packages/multiprocess/managers.py\", line 805, in _callmethod\n",
      "    self._connect()\n",
      "  File \"/Library/Frameworks/Python.framework/Versions/3.10/lib/python3.10/site-packages/multiprocess/managers.py\", line 792, in _connect\n",
      "    conn = self._Client(self._token.address, authkey=self._authkey)\n",
      "  File \"/Library/Frameworks/Python.framework/Versions/3.10/lib/python3.10/site-packages/multiprocess/managers.py\", line 805, in _callmethod\n",
      "    self._connect()\n",
      "  File \"/Library/Frameworks/Python.framework/Versions/3.10/lib/python3.10/site-packages/multiprocess/managers.py\", line 805, in _callmethod\n",
      "    self._connect()\n",
      "  File \"/Library/Frameworks/Python.framework/Versions/3.10/lib/python3.10/site-packages/multiprocess/managers.py\", line 792, in _connect\n",
      "    conn = self._Client(self._token.address, authkey=self._authkey)\n",
      "  File \"/Library/Frameworks/Python.framework/Versions/3.10/lib/python3.10/site-packages/multiprocess/managers.py\", line 792, in _connect\n",
      "    conn = self._Client(self._token.address, authkey=self._authkey)\n",
      "  File \"/Library/Frameworks/Python.framework/Versions/3.10/lib/python3.10/site-packages/multiprocess/managers.py\", line 805, in _callmethod\n",
      "    self._connect()\n",
      "  File \"/Library/Frameworks/Python.framework/Versions/3.10/lib/python3.10/site-packages/multiprocess/connection.py\", line 510, in Client\n",
      "    c = SocketClient(address)\n",
      "  File \"/Library/Frameworks/Python.framework/Versions/3.10/lib/python3.10/site-packages/multiprocess/managers.py\", line 792, in _connect\n",
      "    conn = self._Client(self._token.address, authkey=self._authkey)\n",
      "  File \"/Library/Frameworks/Python.framework/Versions/3.10/lib/python3.10/site-packages/multiprocess/managers.py\", line 792, in _connect\n",
      "    conn = self._Client(self._token.address, authkey=self._authkey)\n",
      "  File \"/Library/Frameworks/Python.framework/Versions/3.10/lib/python3.10/site-packages/multiprocess/connection.py\", line 510, in Client\n",
      "    c = SocketClient(address)\n",
      "  File \"/Library/Frameworks/Python.framework/Versions/3.10/lib/python3.10/site-packages/multiprocess/managers.py\", line 792, in _connect\n",
      "    conn = self._Client(self._token.address, authkey=self._authkey)\n",
      "  File \"/Library/Frameworks/Python.framework/Versions/3.10/lib/python3.10/site-packages/multiprocess/connection.py\", line 510, in Client\n",
      "    c = SocketClient(address)\n"
     ]
    },
    {
     "name": "stderr",
     "output_type": "stream",
     "text": [
      "  File \"/Library/Frameworks/Python.framework/Versions/3.10/lib/python3.10/site-packages/multiprocess/connection.py\", line 638, in SocketClient\n",
      "    s.connect(address)\n",
      "  File \"/Library/Frameworks/Python.framework/Versions/3.10/lib/python3.10/site-packages/multiprocess/connection.py\", line 510, in Client\n",
      "    c = SocketClient(address)\n",
      "  File \"/Library/Frameworks/Python.framework/Versions/3.10/lib/python3.10/site-packages/multiprocess/connection.py\", line 638, in SocketClient\n",
      "    s.connect(address)\n",
      "  File \"/Library/Frameworks/Python.framework/Versions/3.10/lib/python3.10/site-packages/multiprocess/connection.py\", line 638, in SocketClient\n",
      "    s.connect(address)\n",
      "  File \"/Library/Frameworks/Python.framework/Versions/3.10/lib/python3.10/site-packages/multiprocess/connection.py\", line 510, in Client\n",
      "    c = SocketClient(address)\n",
      "  File \"/Library/Frameworks/Python.framework/Versions/3.10/lib/python3.10/site-packages/multiprocess/connection.py\", line 510, in Client\n",
      "    c = SocketClient(address)\n",
      "ConnectionRefusedError: [Errno 61] Connection refused\n",
      "  File \"/Library/Frameworks/Python.framework/Versions/3.10/lib/python3.10/site-packages/multiprocess/connection.py\", line 638, in SocketClient\n",
      "    s.connect(address)\n",
      "ConnectionRefusedError: [Errno 61] Connection refused\n",
      "  File \"/Library/Frameworks/Python.framework/Versions/3.10/lib/python3.10/site-packages/multiprocess/connection.py\", line 638, in SocketClient\n",
      "    s.connect(address)\n",
      "ConnectionRefusedError: [Errno 61] Connection refused\n",
      "  File \"/Library/Frameworks/Python.framework/Versions/3.10/lib/python3.10/site-packages/multiprocess/connection.py\", line 638, in SocketClient\n",
      "    s.connect(address)\n",
      "ConnectionRefusedError: [Errno 61] Connection refused\n",
      "ConnectionRefusedError: [Errno 61] Connection refused\n",
      "ConnectionRefusedError: [Errno 61] Connection refused\n"
     ]
    },
    {
     "name": "stdout",
     "output_type": "stream",
     "text": [
      "CPU times: user 34 ms, sys: 41.8 ms, total: 75.8 ms\n",
      "Wall time: 876 ms\n"
     ]
    }
   ],
   "source": [
    "%%time\n",
    "\n",
    "manager = mp.Manager()\n",
    "coverages = manager.list([manager.list() for _ in range(8)])\n",
    "\n",
    "processes = []\n",
    "for g in gammas:\n",
    "    p = mp.Process(target=get_coverages, args=(coverages, g))\n",
    "    processes.append(p)\n",
    "    p.start()\n",
    "\n",
    "for p in processes:\n",
    "    p.join()"
   ]
  },
  {
   "cell_type": "code",
   "execution_count": 20,
   "id": "cbe0f9fb",
   "metadata": {},
   "outputs": [
    {
     "name": "stdout",
     "output_type": "stream",
     "text": [
      "[0.69, 0.69]\n",
      "[0.68]\n",
      "[0.7]\n",
      "[0.69, 0.68]\n",
      "[0.66, 0.67]\n",
      "[0.67, 0.65, 0.64]\n",
      "[0.7, 0.66, 0.67]\n",
      "[0.65, 0.67, 0.66]\n"
     ]
    }
   ],
   "source": [
    "for coverage in coverages:\n",
    "    print(list(coverage))"
   ]
  },
  {
   "cell_type": "code",
   "execution_count": 21,
   "id": "fd534ba7",
   "metadata": {},
   "outputs": [],
   "source": [
    "import matplotlib.pyplot as plt\n",
    "%matplotlib inline"
   ]
  },
  {
   "cell_type": "code",
   "execution_count": 22,
   "id": "e7e73cf8",
   "metadata": {},
   "outputs": [
    {
     "data": {
      "image/png": "[encoded data removed]",
      "text/plain": [
       "<Figure size 720x504 with 1 Axes>"
      ]
     },
     "metadata": {
      "needs_background": "light"
     },
     "output_type": "display_data"
    }
   ],
   "source": [
    "coverages = [list(sublist) for sublist in coverages]  # convert to regular list of lists\n",
    "fig = plt.figure(figsize =(10, 7))\n",
    "ax = fig.add_axes([0, 0, 1, 1])\n",
    "bp = ax.boxplot(coverages)"
   ]
  },
  {
   "cell_type": "code",
   "execution_count": 1,
   "id": "adebf73d",
   "metadata": {},
   "outputs": [],
   "source": [
    "from src.perm_test import ttest_ind"
   ]
  },
  {
   "cell_type": "code",
   "execution_count": 4,
   "id": "6d4b4a09",
   "metadata": {},
   "outputs": [],
   "source": [
    "A = np.array([[1, 2], [3, 4]])\n",
    "B = np.array([[2, 3], [5, 6]])"
   ]
  },
  {
   "cell_type": "code",
   "execution_count": 5,
   "id": "74538b5c",
   "metadata": {},
   "outputs": [
    {
     "data": {
      "text/plain": [
       "<function src.perm_test.ttest_ind(x1s, x2s, n1, n2, pooled=True)>"
      ]
     },
     "execution_count": 5,
     "metadata": {},
     "output_type": "execute_result"
    }
   ],
   "source": [
    "ttest_ind"
   ]
  },
  {
   "cell_type": "code",
   "execution_count": 6,
   "id": "7a08b9a6",
   "metadata": {},
   "outputs": [
    {
     "data": {
      "text/plain": [
       "array([-1.41421356, -2.82842712])"
      ]
     },
     "execution_count": 6,
     "metadata": {},
     "output_type": "execute_result"
    }
   ],
   "source": [
    "ttest_ind(A, B, 2, 2, True)"
   ]
  },
  {
   "cell_type": "code",
   "execution_count": 13,
   "id": "ad5ab616",
   "metadata": {},
   "outputs": [
    {
     "name": "stdout",
     "output_type": "stream",
     "text": [
      "CPU times: user 1.03 ms, sys: 1.31 ms, total: 2.34 ms\n",
      "Wall time: 1.16 ms\n"
     ]
    },
    {
     "data": {
      "text/plain": [
       "array([-2.98595345e+00,  1.01757469e+00, -6.11059738e-01, -1.63868419e+00,\n",
       "       -2.02239902e+00,  3.91807562e-02, -7.44007464e-01,  4.86062053e-01,\n",
       "       -1.31914883e+00, -6.90098677e-01, -1.89421446e-01,  7.61164929e-01,\n",
       "       -6.28359603e-01, -1.06873173e+00, -1.06261650e+00, -3.16403142e-01,\n",
       "        1.13283249e+00, -5.59069347e-01, -1.63116083e+00,  5.89170792e-01,\n",
       "        2.25310133e+00,  1.19498636e+00,  1.96115013e-01, -2.10509704e-01,\n",
       "        7.22006002e-01, -3.82774009e-01,  3.01438907e-01, -6.89647686e-02,\n",
       "       -9.24429786e-01, -9.64666237e-01,  1.95081266e+00,  7.32980711e-01,\n",
       "       -1.68958327e+00, -1.47488010e+00, -1.31840903e+00,  1.01778333e+00,\n",
       "       -2.17433996e+00,  1.11702183e+00,  2.51980450e-01,  1.03011283e+00,\n",
       "       -8.71894396e-01,  4.89197343e-01,  4.32362387e-01,  2.26528491e+00,\n",
       "        1.06647435e+00,  1.67825898e-01, -8.25457529e-01, -4.67533954e-02,\n",
       "        1.09638317e-01,  2.50687805e-01,  8.92731320e-01,  2.06133026e-01,\n",
       "        1.18660157e+00,  2.17096747e-01, -1.45212512e+00, -1.46415144e+00,\n",
       "        1.23407811e+00,  7.19471006e-01, -9.70323228e-02,  1.34226931e+00,\n",
       "        1.21178400e+00, -8.23135280e-01, -2.09070713e+00, -9.40097725e-01,\n",
       "        8.53149171e-01,  1.45935794e+00, -1.05443930e-01, -2.47088368e-01,\n",
       "        5.03835795e-02,  7.95676603e-01,  8.56236684e-01, -1.30031079e-01,\n",
       "        6.71364886e-01,  3.00329423e-01,  1.21870061e+00,  1.41495770e+00,\n",
       "        1.16071891e+00, -5.80457871e-01, -5.59622004e-01, -6.63671847e-01,\n",
       "       -2.19033906e-01, -5.09977487e-01, -5.18161401e-02,  1.88595233e-01,\n",
       "        1.13645120e+00, -2.70780092e+00,  1.98833343e-01,  4.75755880e-01,\n",
       "        1.95629840e+00,  7.59449589e-01, -5.23398674e-01,  1.08429059e+00,\n",
       "        2.35351757e-01, -1.67568426e+00,  6.75256043e-01,  8.09156603e-01,\n",
       "        2.54410840e+00,  4.85446657e-01,  6.91807476e-01, -5.98314147e-01,\n",
       "       -8.41044839e-01,  3.02136357e-01, -2.88010692e-01,  6.52866358e-01,\n",
       "        8.32892305e-01,  5.42066159e-01,  1.20806067e+00, -7.36152796e-01,\n",
       "        1.48633360e+00, -3.25349562e-01, -2.68856917e-01, -2.48154521e-02,\n",
       "       -9.21987331e-01, -1.12455376e+00,  1.21757983e+00,  2.63177971e-01,\n",
       "       -2.17354562e-01,  6.90777273e-01, -5.67348257e-01, -2.56249598e-01,\n",
       "        1.85687045e+00, -9.53857736e-02, -5.88654818e-01, -6.93434330e-01,\n",
       "        1.53280588e+00, -1.86794860e-01,  4.14857296e-01,  8.82184252e-01,\n",
       "        4.81607545e-01, -6.92929712e-01, -3.20736156e-01,  9.10967861e-01,\n",
       "        3.80438674e-01, -2.41286974e-01, -8.67479100e-01, -1.77527069e+00,\n",
       "        2.20524863e-01, -4.42714257e-01,  1.16624657e+00, -1.15447168e+00,\n",
       "       -2.17914313e-01,  1.03827795e+00,  6.18428420e-01, -1.10410107e+00,\n",
       "        1.14638977e+00,  3.51053698e-01, -1.26326360e-01, -1.00996637e-01,\n",
       "       -3.49360935e-01, -2.62599912e+00,  2.52663814e+00,  7.31215749e-01,\n",
       "       -7.97374756e-02, -6.82931421e-01,  1.02796732e+00,  1.21907037e+00,\n",
       "       -5.58747021e-02, -6.57640552e-01, -8.73078772e-01, -1.37092554e+00,\n",
       "        5.01504607e-01, -1.13398081e+00, -7.01599137e-01,  5.42695547e-01,\n",
       "       -7.07327986e-01,  1.49720129e+00,  8.53336241e-01, -7.24092531e-01,\n",
       "        1.18712715e+00,  7.14973438e-01, -4.61405470e-02, -1.98895486e+00,\n",
       "        6.00848713e-01,  9.80465046e-01, -4.10650330e-01,  1.24457791e+00,\n",
       "       -1.27349395e-01,  4.68681769e-01, -1.31954640e+00, -1.19439255e+00,\n",
       "        1.05878802e-01,  7.42249331e-01, -3.61436588e-01, -6.04022208e-01,\n",
       "        2.47470845e-01, -7.24657867e-01, -7.82328354e-01,  6.26743469e-01,\n",
       "        7.24102884e-01, -1.81375082e+00, -4.14276516e-01, -4.62066098e-01,\n",
       "       -4.52566516e-01,  1.14627386e+00,  1.21455564e+00,  1.65377613e-01,\n",
       "       -1.66007205e+00, -2.18601980e+00, -1.84997340e-01, -1.86716116e-01,\n",
       "        1.71318062e+00,  5.11277969e-01,  2.35686850e+00, -6.33920529e-02,\n",
       "        4.20900498e-01,  1.39763361e+00,  4.19343293e-01,  1.27666181e-01,\n",
       "       -6.06793245e-01, -2.84703125e-01, -6.35541026e-02, -1.29376563e-01,\n",
       "        2.77001078e-01, -1.07107168e-01,  4.98877161e-01, -1.04227664e-02,\n",
       "       -6.27446506e-01,  4.84926388e-01, -1.19261560e-01,  2.46753977e-01,\n",
       "        2.96446500e-01, -1.06871017e+00,  4.26509794e-01, -6.84239067e-01,\n",
       "        3.41958788e+00, -9.13880764e-02, -1.02470091e-01, -3.32525580e-01,\n",
       "       -7.85579492e-01,  1.38640247e+00, -2.14842580e-02, -5.33005605e-01,\n",
       "       -1.76727013e-01,  1.36004411e-01,  6.05128213e-01, -1.80068586e+00,\n",
       "       -1.03496648e+00, -8.77621162e-02,  1.10055012e+00,  4.41723806e-01,\n",
       "        1.86233231e-01,  7.00501107e-01, -8.53461007e-01,  3.76996250e-01,\n",
       "        1.29900628e+00, -4.67832551e-01,  6.91387705e-01,  6.10077124e-01,\n",
       "       -2.47805324e-01,  4.80280087e-01, -8.92810343e-02, -6.93067646e-01,\n",
       "       -6.29171935e-01,  8.81543123e-02,  2.37063718e-01,  3.78273505e-01,\n",
       "        2.22218739e+00,  2.75994132e-02,  1.25972674e+00,  5.13586322e-01,\n",
       "        5.59217428e-01,  7.75126904e-01, -2.92768776e-01,  3.38009159e+00,\n",
       "        1.80143599e-01, -1.34316746e+00, -1.61244283e+00,  2.01400939e+00,\n",
       "        1.31293580e+00,  4.96682010e-01, -3.31657732e-01, -3.90503643e-01,\n",
       "        8.01815180e-01, -8.48758771e-02,  7.01195934e-01, -3.66877530e-01,\n",
       "       -1.19959545e+00,  1.68385814e+00, -4.20793898e-01,  2.22302193e-01,\n",
       "       -8.05555345e-01,  5.30700255e-01,  1.34137104e+00,  1.16758019e+00,\n",
       "        2.10121043e+00, -5.02849624e-01,  8.18487127e-01,  6.06065470e-01,\n",
       "       -8.84465797e-01, -1.29820237e-01,  4.79727048e-01, -1.13474585e+00,\n",
       "       -1.18136709e-01,  1.18054032e+00, -1.59166139e+00, -4.33132094e-01,\n",
       "       -5.32508231e-01,  5.28623833e-01, -6.61244580e-02, -2.03730592e-01,\n",
       "       -6.98375926e-02,  7.09179157e-01,  6.25076466e-01, -8.08853995e-01,\n",
       "        7.96309284e-01, -8.89558472e-01,  1.26922248e+00,  1.01946740e+00,\n",
       "       -7.97304982e-01,  9.04626277e-01,  1.09470794e+00,  1.52512166e-01,\n",
       "       -8.69640316e-01, -1.51609661e+00, -2.91989428e-01,  2.71153895e-01,\n",
       "        4.16316277e-01,  2.81642490e-02,  5.13879578e-01, -4.78476709e-01,\n",
       "       -1.19606853e+00, -1.92346258e+00, -1.85703355e+00, -1.38721046e+00,\n",
       "       -1.71422836e-01,  7.42529315e-02,  8.62272832e-01,  2.13145758e+00,\n",
       "        1.19333768e+00,  1.92561029e+00, -1.21124934e+00, -2.79780831e-01,\n",
       "        3.96327052e-01, -7.95308063e-02, -1.05107045e+00,  9.58120602e-01,\n",
       "        9.09466519e-01,  6.19698466e-01,  6.22069530e-01,  5.03428311e-01,\n",
       "        8.84454969e-01, -1.40530500e+00,  1.23047208e+00,  1.06312659e+00,\n",
       "       -1.42423276e-01, -5.48152345e-01,  1.16608235e+00, -4.74806608e-01,\n",
       "       -8.79782020e-01, -7.50128052e-01, -5.88416961e-01,  1.28089756e-01,\n",
       "       -9.30726335e-02, -7.38258965e-02,  1.00411196e+00,  3.81651752e-01,\n",
       "       -1.06919234e+00, -1.32191296e-01, -7.00652609e-01, -5.45350789e-01,\n",
       "        3.01626527e-03,  5.94721756e-01, -1.75528455e+00, -9.07491662e-01,\n",
       "       -1.21632839e-01, -1.13804008e+00,  1.15037593e+00, -1.39863258e+00,\n",
       "       -2.64275430e+00, -8.58758146e-01, -9.06874466e-01,  1.61383158e-01,\n",
       "        3.42016814e-01, -1.22391813e-01,  8.97418600e-01,  2.31348159e-01,\n",
       "       -1.72972949e-01,  8.21215405e-01, -1.93087687e-01, -3.48608159e-01,\n",
       "        1.65229734e+00,  1.05128390e+00, -5.83755496e-02,  8.59022089e-03,\n",
       "       -1.27457797e+00, -1.34137455e+00, -1.68465087e+00,  6.08442011e-01,\n",
       "       -3.44623763e-02, -2.18808762e+00, -8.44160974e-01, -9.89004334e-01,\n",
       "       -6.40668698e-01, -6.62005500e-01,  3.81185504e-01, -2.54714100e-01,\n",
       "        1.63710539e+00, -3.66599401e-01, -2.28305253e-01,  1.13489295e+00,\n",
       "       -7.55578560e-01,  7.29497301e-01,  2.50061985e+00, -4.75151094e-02,\n",
       "        5.34209881e-01,  9.50993140e-01, -1.25032922e+00, -1.34020819e+00,\n",
       "        4.51313552e-01, -3.83941228e+00, -2.55983667e-01,  9.81858079e-01,\n",
       "       -2.02632417e+00, -1.55139632e-01, -1.97566734e+00,  1.03296372e-01,\n",
       "        1.96954664e+00,  4.36642247e-03, -3.52210372e-01,  3.66475860e-01,\n",
       "        1.86795587e+00,  2.95635535e-02,  1.11382061e+00,  3.40935351e+00,\n",
       "       -6.23712075e-01,  6.41912296e-01,  1.84300552e+00, -9.12671359e-01,\n",
       "        1.83669685e+00,  2.36308923e-02,  1.90769179e+00, -3.00289565e-01,\n",
       "       -6.14122663e-01,  1.05544471e+00,  7.23060512e-01, -8.99477392e-01,\n",
       "       -5.78276796e-01,  5.30373869e-01, -1.35950298e+00, -3.12535426e-01,\n",
       "        4.87213492e-01, -3.67608874e-01, -1.44839730e+00, -7.20024829e-01,\n",
       "        1.21545982e+00,  1.16980400e+00,  7.31206610e-01,  1.57906572e+00,\n",
       "       -1.19008827e+00, -1.06119232e+00, -1.39823381e-01,  3.55409977e-01,\n",
       "       -2.06733908e+00, -8.79358699e-01, -1.65042291e+00,  1.28159268e+00,\n",
       "        4.17058090e-01, -8.35350153e-01,  7.63057358e-01, -8.60739803e-01,\n",
       "       -1.09559239e-01,  4.76178109e-01,  6.25233247e-01, -8.75145100e-02,\n",
       "       -5.95590190e-02, -2.83355907e+00,  2.37863246e-01, -7.05095129e-01,\n",
       "        6.84167776e-03,  5.87862763e-01,  7.97793157e-01, -1.00306419e+00,\n",
       "       -9.41570349e-01, -1.21932722e+00,  1.17010267e+00,  2.61360283e-01,\n",
       "       -1.77866748e+00, -2.06908062e-01, -9.31361034e-01,  2.52712005e-01,\n",
       "        1.10584198e+00,  1.58615948e+00, -1.23182085e+00,  1.50601029e-01,\n",
       "       -6.12249046e-01, -1.60641037e+00, -3.07472237e-01, -5.41071074e-01,\n",
       "        2.71003315e-01,  3.72195015e-01, -2.46136686e-01, -3.77197381e-01,\n",
       "       -1.77809542e+00, -6.89931859e-01, -2.03237326e+00,  1.10288050e+00,\n",
       "       -5.84479991e-01,  5.59068885e-01, -2.56136091e-01, -6.73069180e-01,\n",
       "        3.34373571e-01,  9.95733131e-01, -1.88992756e-01,  3.91110898e-01,\n",
       "       -6.06806643e-01,  1.38060736e+00,  2.11217478e-01,  1.95069931e-01,\n",
       "        1.66967947e+00, -3.41004631e-01,  2.40416028e-01,  6.99808639e-02,\n",
       "        2.27504612e+00, -2.87835622e-01,  5.36857234e-01,  5.82713533e-01,\n",
       "        2.17714737e-01,  2.92915324e-01,  1.18895031e+00, -4.38792766e-01,\n",
       "       -1.53984403e+00,  1.20084761e+00, -1.63395833e-01,  1.09487310e+00,\n",
       "       -1.59622231e+00,  2.49670245e+00,  3.80590872e+00, -1.03897732e+00,\n",
       "        1.23084350e+00, -1.02545508e-01,  1.39280064e+00,  4.14698446e-01,\n",
       "        4.96283315e-01,  1.35556302e-01, -1.47432257e-01,  5.79965935e-01,\n",
       "        1.41792608e+00,  1.80600731e-01, -7.59915563e-01, -7.83834089e-01,\n",
       "       -5.14834806e-01, -7.96765316e-01, -2.79552028e-01,  1.76247515e+00,\n",
       "       -2.28727407e-01,  1.44602223e+00, -1.43821513e-01, -1.59863823e+00,\n",
       "        3.57027118e-02,  1.06834461e+00, -1.41903123e+00,  6.05472747e-01,\n",
       "        4.94958071e-01,  5.71769137e-01,  2.16812577e+00,  3.88431064e-01,\n",
       "        4.77023864e-01, -1.08152160e-01, -1.90597467e+00,  4.28235623e-02,\n",
       "        1.89708129e+00, -3.84259376e-02,  8.20732770e-01,  1.22869230e+00,\n",
       "        1.13216862e+00,  9.57041069e-01, -2.98261833e-01, -5.11150443e-01,\n",
       "        5.60897577e-01, -1.00417904e-01, -1.33842704e+00, -5.23289007e-01,\n",
       "        2.19439731e-01,  5.33031688e-01,  4.10264285e-02,  1.05919589e+00,\n",
       "       -2.64618667e+00,  1.78653155e+00,  1.06987860e+00, -4.46068651e-01,\n",
       "       -1.49066142e-01,  4.46433835e-01,  5.63263654e-01, -9.16232140e-01,\n",
       "        1.86058587e-02, -1.94087226e-01, -3.24480806e-01,  7.03723557e-01,\n",
       "        1.28929413e+00, -1.11676543e+00,  6.06542048e-01, -2.71251601e-01,\n",
       "       -1.23537670e+00,  1.69178026e-02, -1.78563081e-01, -8.57663535e-02,\n",
       "        7.43395695e-01, -8.76294726e-01,  4.94700160e-01, -1.93353999e-01,\n",
       "        8.88102367e-01,  1.46602202e+00,  1.15805385e+00,  4.47649425e-01,\n",
       "       -3.81852280e-01, -3.07953659e+00, -1.30272991e+00,  2.00735976e+00,\n",
       "        7.42081485e-01,  2.28899025e-01,  5.18594406e-01,  8.74638549e-01,\n",
       "       -2.20046294e-01, -1.28910959e+00, -1.68256445e+00,  1.05206475e+00,\n",
       "        1.31990836e+00,  1.03863919e+00, -1.16678604e+00, -8.07221657e-01,\n",
       "        1.58597686e+00,  3.49016639e-01,  6.87743379e-01, -9.36095469e-01,\n",
       "        7.17316387e-01,  6.80425546e-01,  1.23278638e+00,  7.27509323e-01,\n",
       "       -2.62313638e-01,  2.02520658e-01,  1.37202436e-01, -6.80886803e-01,\n",
       "       -1.58260198e+00, -3.61941277e-02, -9.82769952e-01, -6.53717893e-02,\n",
       "        4.72303044e-01,  4.01985950e-01,  2.98303874e-04, -5.77967361e-01,\n",
       "        8.62894914e-01, -1.83214614e+00, -1.29112130e+00,  1.01281266e+00,\n",
       "       -8.73864933e-01,  1.07972420e+00, -1.14994518e+00, -1.49338444e+00,\n",
       "        1.92286294e-01, -1.68957796e+00, -2.02421942e-01, -2.23213719e-01,\n",
       "        7.58653779e-01, -2.17252842e+00,  3.15162629e-01,  7.59210782e-01,\n",
       "       -5.66731407e-01,  1.32446264e+00, -2.20803386e+00, -2.26750064e+00,\n",
       "        3.82160418e-01,  6.82861631e-02, -6.25223824e-01, -3.62547474e-01,\n",
       "       -2.56346648e-01, -4.79233810e-01, -7.43008045e-01,  2.33906691e-02,\n",
       "       -1.72100780e+00,  9.29143220e-01,  9.25391831e-01,  5.11542996e-01,\n",
       "        2.67044487e+00,  8.55399802e-01, -4.41270773e-01, -1.27785189e+00,\n",
       "       -1.07337253e+00, -2.76261123e-01, -1.33514151e+00, -5.05767825e-02,\n",
       "       -9.65060163e-02, -1.51624739e-01, -5.96150370e-01,  3.86750973e-01,\n",
       "        2.95825696e-01,  1.19882092e+00,  1.05978764e-01, -5.88595432e-01,\n",
       "        4.35562904e-01, -6.58506748e-02,  2.78143157e+00, -2.05120779e-01,\n",
       "       -1.07115308e+00,  2.78903174e-01, -1.68942435e+00, -1.06742179e+00,\n",
       "        1.89378522e+00, -4.35163954e-01, -1.75031127e+00, -1.26185488e+00,\n",
       "        4.28876705e-01, -3.08327363e-01,  1.09328965e+00,  1.05769960e+00,\n",
       "       -9.19131880e-02,  1.87131214e+00, -9.48990711e-01,  1.32520130e+00,\n",
       "        1.98997277e-01, -7.50215772e-01,  9.35397518e-01, -1.42573222e+00,\n",
       "        3.06943339e-01,  5.65977224e-01, -1.96234114e+00, -1.40456675e+00,\n",
       "       -1.06685124e+00, -2.74279790e-01,  1.57895320e-01, -8.81164061e-01,\n",
       "       -1.43933294e+00,  3.85462168e-01, -1.41658846e+00, -7.90119828e-01,\n",
       "        6.00831151e-01,  8.64971131e-01, -1.02494181e+00,  1.40029827e-01,\n",
       "        6.48968123e-01,  2.10421765e+00, -1.02658451e+00, -3.11035561e-01,\n",
       "       -4.13096070e-01, -1.72828680e+00, -1.51539896e-01,  1.55888901e-01,\n",
       "       -3.09460116e-01, -1.39748689e+00, -3.53089341e-01, -9.09993982e-01,\n",
       "       -8.01120186e-01, -8.20603658e-01, -1.58715432e-01,  1.29305356e+00,\n",
       "       -7.88341946e-01, -1.94808825e-01, -2.82320611e-01, -3.63923487e-01,\n",
       "       -6.12816641e-01,  1.04266559e-01, -7.06819516e-02,  9.24816521e-01,\n",
       "        5.12359899e-01, -8.28420491e-02, -6.63926333e-01, -1.54706078e+00,\n",
       "       -8.11185065e-01, -6.89014728e-01, -1.15592180e+00, -1.17175245e+00,\n",
       "        1.61059247e-01, -6.45882999e-01,  1.16581855e+00,  4.09114670e-02,\n",
       "        2.83803297e-01,  1.46377463e+00, -1.08722359e+00, -6.01916609e-01,\n",
       "       -1.34153239e+00, -4.87450181e-02, -9.03016958e-01, -4.54727270e-02,\n",
       "        1.18050698e+00, -3.75388788e-01,  1.83674389e+00, -6.20431063e-01,\n",
       "       -1.15053328e+00,  5.18805228e-01, -1.46927772e+00,  1.36470107e+00,\n",
       "        3.46260772e-01, -8.00311721e-01,  8.77848906e-02,  6.11192835e-01,\n",
       "        1.73852259e-01,  1.96266759e+00, -1.33209912e+00,  1.06592094e+00,\n",
       "        1.40549316e+00,  3.07334074e-01,  1.46268279e-01, -5.74055388e-01,\n",
       "       -1.48769595e+00, -2.08085591e-01, -9.62000207e-01, -8.96921444e-01,\n",
       "       -1.59109468e+00, -2.33056840e-01, -1.16550787e+00,  2.65622513e-01,\n",
       "        1.08157609e+00, -6.41674629e-01, -5.74358608e-01, -1.74535170e+00,\n",
       "        4.59148680e-01,  3.87594777e-01, -9.94146837e-01, -1.42517472e-01,\n",
       "        8.10209799e-01,  6.37408936e-01,  1.45823889e+00, -1.95441466e-01,\n",
       "        1.04025664e+00,  6.44905942e-01, -9.00430930e-02,  3.44216378e-01,\n",
       "        1.04878391e+00, -5.02465249e-01,  9.25280380e-01,  6.06998477e-01,\n",
       "       -5.59794036e-02, -1.39254773e+00, -1.10275269e+00, -1.09372128e+00,\n",
       "       -5.92210315e-01, -3.38228822e-01,  4.92240308e-01,  3.27211423e-01,\n",
       "       -4.65559693e-01,  9.41734947e-01,  3.26162473e-01,  2.28557442e+00,\n",
       "        4.94030925e-01, -8.51510303e-01, -5.76031355e-01,  2.81799141e+00,\n",
       "        4.61363344e-01,  1.12134475e+00, -8.14722507e-01,  1.20161558e+00,\n",
       "       -3.35467467e+00, -4.88746921e-02,  5.96957802e-01,  5.90504562e-01,\n",
       "        1.34231576e-01,  1.92325520e+00, -6.36738461e-01,  1.02268824e+00,\n",
       "        9.54171441e-01, -2.59529442e-01,  1.09373037e-01, -3.91244097e-01,\n",
       "       -2.37021649e-01,  1.28825558e+00, -1.31728659e+00,  2.15983120e-01,\n",
       "        6.61885250e-01,  9.84387534e-01, -1.13282836e+00, -2.38750090e-01,\n",
       "        2.14909042e-01, -7.73876368e-01, -3.29218636e-01, -7.27772814e-01,\n",
       "        9.93671746e-01,  5.18065400e-01, -2.40450692e-01, -7.76021319e-01,\n",
       "       -1.68058262e-01,  1.24260154e-01, -3.23003819e-01,  8.47858943e-01,\n",
       "       -3.83172623e-01, -3.98225831e-01,  2.31587413e-01,  4.02710234e-01,\n",
       "        3.67148250e-01, -1.40834331e-01, -2.11535672e-01,  9.49943208e-01,\n",
       "        8.40541154e-01, -5.34930463e-01,  1.33675678e+00,  5.23146801e-01,\n",
       "        5.17854484e-01,  2.53174933e-01,  4.85219073e-01, -3.36187862e-01,\n",
       "       -6.47158595e-01,  1.80479934e+00, -6.10374652e-01,  1.10449469e+00,\n",
       "        1.27356179e+00,  2.51936226e-01, -4.13699109e-01, -5.40830183e-01,\n",
       "        1.77521506e-01,  7.51261068e-01,  1.13983736e+00,  2.38100636e-01,\n",
       "       -3.09037711e-01, -7.30188976e-01, -3.25763410e-02, -2.06265435e-01,\n",
       "       -4.10107531e-01, -5.16351418e-01, -1.61741012e+00, -3.07586495e-01,\n",
       "       -1.05117756e+00,  4.71481464e-01,  8.16868008e-01, -8.94855129e-01,\n",
       "        4.46799234e-01,  3.30481545e-01, -2.72169533e+00,  3.50990546e-01,\n",
       "       -2.11193230e+00,  1.40072592e+00, -1.25487111e+00, -8.26458928e-01,\n",
       "       -2.85423480e+00, -8.89949895e-01, -9.92561667e-01, -3.46864476e-01,\n",
       "       -3.81208235e-01, -1.39391610e-01, -7.53005383e-03,  1.71446209e-02,\n",
       "        8.98303362e-01,  2.15964549e-01, -2.44334492e+00,  1.08165554e+00,\n",
       "       -8.62708101e-01,  6.40296581e-01,  3.28097775e-01,  1.65795199e+00,\n",
       "       -1.93705789e-01,  1.12963391e+00,  1.10016056e+00, -8.56215056e-02,\n",
       "        7.46551627e-01, -1.20153037e+00,  2.39565763e-01,  3.97892396e-01,\n",
       "        1.82583294e+00, -3.27381581e-01, -2.21379093e+00, -6.41705079e-01,\n",
       "       -1.15929888e+00, -1.86605934e-01, -1.07719398e+00,  9.68198166e-02,\n",
       "       -7.62212367e-02, -1.37281296e+00, -1.36860749e-01, -1.19183199e+00,\n",
       "        4.33436645e-01, -1.90130266e+00,  1.46769085e+00,  4.52635866e-01,\n",
       "        6.69080556e-01, -1.67123677e+00, -4.59793702e-01,  1.10475111e+00,\n",
       "        1.63694013e+00, -3.54433015e-01,  1.78586403e+00, -1.29604294e+00,\n",
       "        1.38254316e+00, -3.59030166e-01,  2.17300690e-01, -8.66464336e-01,\n",
       "       -1.00275192e+00,  1.22173379e+00, -4.04659014e-01, -2.06945806e+00,\n",
       "       -6.38545548e-01,  2.09392586e+00,  6.87492445e-01,  1.97182325e-01,\n",
       "        6.67232339e-01, -2.46976644e-01,  3.09219107e+00,  1.51732063e-01,\n",
       "        1.10655919e+00, -1.37529840e+00, -3.18011995e-01, -2.25070148e+00,\n",
       "       -6.63099643e-01,  1.04140634e+00, -3.59256257e-01,  1.19586604e-01,\n",
       "        5.37707266e-01,  3.26270030e+00,  1.33665226e+00,  2.00252817e+00,\n",
       "        9.28558955e-01,  7.60320824e-01,  3.57565853e-01,  6.25051227e-02])"
      ]
     },
     "execution_count": 13,
     "metadata": {},
     "output_type": "execute_result"
    }
   ],
   "source": [
    "A = np.random.random((1000,12))\n",
    "B = np.random.random((1000, 8))\n",
    "%time ttest_ind(A, B, 12, 8, True)"
   ]
  },
  {
   "cell_type": "code",
   "execution_count": null,
   "id": "dd008d74",
   "metadata": {},
   "outputs": [],
   "source": []
  }
 ],
 "metadata": {
  "kernelspec": {
   "display_name": "Python 3 (ipykernel)",
   "language": "python",
   "name": "python3"
  },
  "language_info": {
   "codemirror_mode": {
    "name": "ipython",
    "version": 3
   },
   "file_extension": ".py",
   "mimetype": "text/x-python",
   "name": "python",
   "nbconvert_exporter": "python",
   "pygments_lexer": "ipython3",
   "version": "3.10.1"
  }
 },
 "nbformat": 4,
 "nbformat_minor": 5
}
