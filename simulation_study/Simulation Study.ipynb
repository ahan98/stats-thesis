{
 "cells": [
  {
   "cell_type": "code",
   "execution_count": 1,
   "id": "28173b23",
   "metadata": {},
   "outputs": [],
   "source": [
    "import numpy as np\n",
    "import multiprocess as mp\n",
    "import statsmodels.stats.api as sms\n",
    "from math import ceil\n",
    "#from tqdm import tqdm"
   ]
  },
  {
   "cell_type": "code",
   "execution_count": 2,
   "id": "667645b0",
   "metadata": {},
   "outputs": [],
   "source": [
    "from src.bootstrap import bootstrap_ci\n",
    "from src.perm_test import search\n",
    "from src.utils import partition"
   ]
  },
  {
   "cell_type": "markdown",
   "id": "36a244ed",
   "metadata": {},
   "source": [
    "---"
   ]
  },
  {
   "cell_type": "code",
   "execution_count": 3,
   "id": "e780c9be",
   "metadata": {},
   "outputs": [],
   "source": [
    "# https://www.statsmodels.org/dev/generated/statsmodels.stats.weightstats.CompareMeans.tconfint_diff.html\n",
    "def tconfint(alpha, x1, x2, pooled=True, alternative=\"two-sided\"):\n",
    "    cm = sms.CompareMeans(sms.DescrStatsW(x1), sms.DescrStatsW(x2))\n",
    "    return cm.tconfint_diff(alpha, alternative, usevar=\"pooled\" if pooled else \"unequal\")"
   ]
  },
  {
   "cell_type": "code",
   "execution_count": 4,
   "id": "f0c0e7d2",
   "metadata": {},
   "outputs": [],
   "source": [
    "def passToThread(batch_start, batch_size, two_sided=True, pooled=True, method=\"permutation\", alpha=0.05):\n",
    "\n",
    "    def invert_test(batch_idx, alternative, method=\"permutation\"):\n",
    "        x1, x2 = x1s[batch_idx], x2s[batch_idx]\n",
    "        if method == \"t\":\n",
    "            lower, upper = tconfint(alpha, x1, x2, pooled, alternative)\n",
    "            return lower, upper\n",
    "        \n",
    "        t99 = tconfint(0.001, x1, x2, pooled, alternative)\n",
    "        t90 = tconfint(0.20, x1, x2, pooled, alternative)        \n",
    "        lower, upper = -np.inf, np.inf\n",
    "        if alternative != \"smaller\":\n",
    "            lower = search(x1, x2, partitions, t99[0], t90[0], pooled=pooled, alternative=alternative)\n",
    "        if alternative != \"larger\":\n",
    "            upper = search(x1, x2, partitions, t90[1], t99[1], pooled=pooled, alternative=alternative)\n",
    "        return lower, upper\n",
    "\n",
    "    n_captured = n_error = 0\n",
    "    for i in range(batch_start, batch_start + batch_size):\n",
    "        try:\n",
    "            if two_sided:\n",
    "                lower, upper = invert_test(i, \"two-sided\", method)\n",
    "            else:\n",
    "                lower1, upper1 = invert_test(i, \"smaller\", method)\n",
    "                lower2, upper2 = invert_test(i, \"larger\", method)\n",
    "                lower, upper = max(lower1, lower2), min(upper1, upper2)\n",
    "        except AssertionError:\n",
    "            n_error += 1\n",
    "            continue\n",
    "        n_captured += (lower <= delta_true) * (delta_true <= upper)\n",
    "    return n_captured, n_error"
   ]
  },
  {
   "cell_type": "code",
   "execution_count": 5,
   "id": "a60c475c",
   "metadata": {},
   "outputs": [],
   "source": [
    "def simulate(two_sided=True, pooled=True, method=\"permutation\"):\n",
    "    pool = mp.Pool(mp.cpu_count())\n",
    "    results = pool.starmap(passToThread,\\\n",
    "                           [(i * batch_size, batch_size, two_sided, pooled, method) for i in range(n_batches)])\n",
    "    pool.close()\n",
    "    pool.join()\n",
    "    results = np.array(results).sum(axis=0)\n",
    "    if results[1]:\n",
    "        return None\n",
    "    \n",
    "    return results[0] / total"
   ]
  },
  {
   "cell_type": "markdown",
   "id": "5d362ada",
   "metadata": {},
   "source": [
    "---"
   ]
  },
  {
   "cell_type": "code",
   "execution_count": 6,
   "id": "a57e219e",
   "metadata": {},
   "outputs": [],
   "source": [
    "total = 128\n",
    "batch_size = mp.cpu_count()\n",
    "n_batches = ceil(total/batch_size)"
   ]
  },
  {
   "cell_type": "code",
   "execution_count": 7,
   "id": "d0df3b2e",
   "metadata": {},
   "outputs": [
    {
     "data": {
      "text/plain": [
       "array([[ 0,  1,  2, ..., 17, 18, 19],\n",
       "       [ 0,  1,  2, ..., 17, 18, 19],\n",
       "       [ 0,  1,  2, ..., 17, 18, 19],\n",
       "       ...,\n",
       "       [ 7,  8, 10, ...,  5,  6,  9],\n",
       "       [ 7,  9, 10, ...,  5,  6,  8],\n",
       "       [ 8,  9, 10, ...,  5,  6,  7]])"
      ]
     },
     "execution_count": 7,
     "metadata": {},
     "output_type": "execute_result"
    }
   ],
   "source": [
    "n1, n2 = 12, 8\n",
    "partitions = partition(n1, n2)\n",
    "partitions"
   ]
  },
  {
   "cell_type": "code",
   "execution_count": 8,
   "id": "1a134a71",
   "metadata": {},
   "outputs": [],
   "source": [
    "np.random.seed(123)\n",
    "gammas = np.random.randint(1, 11, (3,2,2))"
   ]
  },
  {
   "cell_type": "code",
   "execution_count": 10,
   "id": "f31352c7",
   "metadata": {},
   "outputs": [
    {
     "name": "stdout",
     "output_type": "stream",
     "text": [
      "gamma1: [3 3] gamma2: [7 2]\n",
      "two_sided: True, pooled: True, method: permutation\n",
      "two_sided: True, pooled: True, method: t\n",
      "two_sided: True, pooled: False, method: permutation\n",
      "two_sided: True, pooled: False, method: t\n",
      "two_sided: False, pooled: True, method: permutation\n",
      "two_sided: False, pooled: True, method: t\n",
      "two_sided: False, pooled: False, method: permutation\n",
      "two_sided: False, pooled: False, method: t\n",
      "---\n",
      "gamma1: [ 4 10] gamma2: [7 2]\n",
      "two_sided: True, pooled: True, method: permutation\n",
      "two_sided: True, pooled: True, method: t\n",
      "two_sided: True, pooled: False, method: permutation\n",
      "two_sided: True, pooled: False, method: t\n",
      "two_sided: False, pooled: True, method: permutation\n",
      "two_sided: False, pooled: True, method: t\n",
      "two_sided: False, pooled: False, method: permutation\n",
      "two_sided: False, pooled: False, method: t\n",
      "---\n",
      "gamma1: [1 2] gamma2: [10  1]\n",
      "two_sided: True, pooled: True, method: permutation\n",
      "two_sided: True, pooled: True, method: t\n",
      "two_sided: True, pooled: False, method: permutation\n",
      "two_sided: True, pooled: False, method: t\n",
      "two_sided: False, pooled: True, method: permutation\n",
      "two_sided: False, pooled: True, method: t\n",
      "two_sided: False, pooled: False, method: permutation\n",
      "two_sided: False, pooled: False, method: t\n",
      "---\n"
     ]
    }
   ],
   "source": [
    "coverages = [[] for _ in range(8)]\n",
    "i = 0\n",
    "for g in gammas:\n",
    "    np.random.seed(123)\n",
    "    # global variables\n",
    "    x1s = np.random.gamma(g[0,0], g[0,1], (total, n1))\n",
    "    x2s = np.random.gamma(g[1,0], g[1,1], (total, n2))\n",
    "    delta_true = (g[0,0] * g[0,1]) - (g[1,0]*g[1,1])  # true mean difference\n",
    "\n",
    "    print(\"gamma1:\", g[0], \"gamma2:\", g[1])\n",
    "    for two_sided in [True, False]:\n",
    "        for pooled in [True, False]:\n",
    "            for method in [\"permutation\", \"t\"]:\n",
    "                print(f\"two_sided: {two_sided}, pooled: {pooled}, method: {method}\")\n",
    "                coverages[i].append(simulate(two_sided, pooled, method))\n",
    "                i += 1\n",
    "    print(\"---\")\n",
    "    i = 0"
   ]
  },
  {
   "cell_type": "code",
   "execution_count": 11,
   "id": "f93299da",
   "metadata": {},
   "outputs": [
    {
     "data": {
      "text/plain": [
       "[[0.984375, 0.984375, 0.9765625],\n",
       " [0.953125, 0.96875, 0.9453125],\n",
       " [0.984375, 0.984375, 1.0],\n",
       " [0.953125, 0.96875, 0.9609375],\n",
       " [0.9765625, 0.984375, 0.9375],\n",
       " [0.9453125, 0.9609375, 0.84375],\n",
       " [0.9609375, 0.953125, 0.9296875],\n",
       " [0.9375, 0.9296875, 0.890625]]"
      ]
     },
     "execution_count": 11,
     "metadata": {},
     "output_type": "execute_result"
    }
   ],
   "source": [
    "coverages"
   ]
  },
  {
   "cell_type": "code",
   "execution_count": 12,
   "id": "165a9c5b",
   "metadata": {},
   "outputs": [],
   "source": [
    "import matplotlib.pyplot as plt\n",
    "%matplotlib inline"
   ]
  },
  {
   "cell_type": "code",
   "execution_count": 13,
   "id": "65c872f3",
   "metadata": {},
   "outputs": [
    {
     "data": {
      "image/png": "[encoded data removed]",
      "text/plain": [
       "<Figure size 720x504 with 1 Axes>"
      ]
     },
     "metadata": {
      "needs_background": "light"
     },
     "output_type": "display_data"
    }
   ],
   "source": [
    "fig = plt.figure(figsize =(10, 7))\n",
    " \n",
    "# Creating axes instance\n",
    "ax = fig.add_axes([0, 0, 1, 1])\n",
    " \n",
    "# Creating plot\n",
    "bp = ax.boxplot(coverages)"
   ]
  }
 ],
 "metadata": {
  "kernelspec": {
   "display_name": "Python 3 (ipykernel)",
   "language": "python",
   "name": "python3"
  },
  "language_info": {
   "codemirror_mode": {
    "name": "ipython",
    "version": 3
   },
   "file_extension": ".py",
   "mimetype": "text/x-python",
   "name": "python",
   "nbconvert_exporter": "python",
   "pygments_lexer": "ipython3",
   "version": "3.10.1"
  }
 },
 "nbformat": 4,
 "nbformat_minor": 5
}
