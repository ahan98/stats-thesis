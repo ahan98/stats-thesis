{
 "cells": [
  {
   "cell_type": "markdown",
   "id": "c593a4d7",
   "metadata": {},
   "source": [
    "Types of Confidence Intervals:\n",
    "\n",
    "1. Invert two 1-sided tests\n",
    "- invert one test using `alternative == \"less\"`, and another using `alternative == \"greater\"`\n",
    "- for both tests, use `alpha/2`\n",
    "\n",
    "2. Invert one 2-sided test\n",
    "\n",
    "3. t-test confidence interval for difference in means\n",
    "\n",
    "4. Bootstrap confidence interval\n",
    "\n",
    "For types 1-3, we have two subtypes of confidence intervals for pooled vs. unpooled variances. Ultimately, we will have 7 types of confidence intervals to compare (since the bootstrap CI does not rely on assumptions of the population variances).\n",
    "\n",
    "For each type of CI, simulate 7300 instances (generating new samples each time, but keeping the parameters the same). Then measure the coverage probability, i.e., the proportion of the 7300 CIs which capture the true difference in means (which is known, since the data is simulated)."
   ]
  },
  {
   "cell_type": "code",
   "execution_count": null,
   "id": "28173b23",
   "metadata": {},
   "outputs": [],
   "source": [
    "import numpy as np\n",
    "import statsmodels.stats.api as sms\n",
    "import scipy.stats as stats\n",
    "import math\n",
    "from itertools import combinations\n",
    "#from tqdm import tqdm"
   ]
  },
  {
   "cell_type": "code",
   "execution_count": null,
   "id": "667645b0",
   "metadata": {},
   "outputs": [],
   "source": [
    "from src.search import search\n",
    "from src.bootstrap import bootstrap_ci\n",
    "from src.perm_test import pval"
   ]
  },
  {
   "cell_type": "code",
   "execution_count": null,
   "id": "2fa48af5",
   "metadata": {},
   "outputs": [],
   "source": [
    "def get_partitions(n1, n2):\n",
    "    total_length = n1 + n2\n",
    "\n",
    "    def get_groups(idxs):\n",
    "        i = 0\n",
    "        idxs2 = []\n",
    "        for j in idxs:\n",
    "            while i < total_length and i < j:\n",
    "                idxs2.append(i)\n",
    "                i += 1\n",
    "\n",
    "            if i == j:\n",
    "                i += 1\n",
    "\n",
    "        idxs2 += range(i, total_length)\n",
    "        return list(idxs), idxs2\n",
    "\n",
    "    partitions = []\n",
    "    for idxs in combinations(range(total_length), n1):\n",
    "        partitions.append(get_groups(idxs))\n",
    "    return partitions"
   ]
  },
  {
   "cell_type": "code",
   "execution_count": null,
   "id": "f0ed6c43",
   "metadata": {},
   "outputs": [],
   "source": [
    "def tconfint(alpha, pooled, x1, x2):\n",
    "    cm = sms.CompareMeans(sms.DescrStatsW(x1), sms.DescrStatsW(x2))\n",
    "    return cm.tconfint_diff(alpha, usevar=\"pooled\" if pooled else \"unequal\")"
   ]
  },
  {
   "cell_type": "code",
   "execution_count": null,
   "id": "3635fcb6",
   "metadata": {},
   "outputs": [],
   "source": [
    "n1, n2 = 12, 8\n",
    "partitions = get_partitions(n1, n2)\n",
    "#partitions"
   ]
  },
  {
   "cell_type": "code",
   "execution_count": null,
   "id": "ae8b8957",
   "metadata": {},
   "outputs": [],
   "source": [
    "alpha = 0.05\n",
    "alternative = \"less\"\n",
    "pooled = True\n",
    "\n",
    "intervals = []\n",
    "n_captured = n_error = 0\n",
    "\n",
    "gamma1 = (2, 5)  # shape k, scale theta\n",
    "gamma2 = (4, 3)\n",
    "delta_true = (gamma1[0] * gamma1[1]) - (gamma2[0] * gamma2[1])  # true mean difference\n",
    "\n",
    "n_samples = 1\n",
    "\n",
    "for _ in range(n_samples):\n",
    "    x1 = np.random.gamma(gamma1[0], gamma1[1], n1)\n",
    "    x2 = np.random.gamma(gamma2[0], gamma2[1], n2)\n",
    "\n",
    "    t99 = tconfint(0.01, pooled, x1, x2)\n",
    "    t90 = tconfint(0.10, pooled, x1, x2)\n",
    "\n",
    "    lower = search(x1, x2, partitions, t99[0], t90[0])\n",
    "    if lower is None:\n",
    "        n_error += 1\n",
    "        continue\n",
    "\n",
    "    upper = search(x1, x2, partitions, t90[1], t99[1])\n",
    "    if upper is None:\n",
    "        n_error += 1\n",
    "        continue\n",
    "\n",
    "    intervals.append((lower, upper))\n",
    "    n_captured += (lower <= delta_true) * (delta_true <= upper)"
   ]
  },
  {
   "cell_type": "code",
   "execution_count": null,
   "id": "bcaf05f2",
   "metadata": {},
   "outputs": [],
   "source": [
    "intervals"
   ]
  },
  {
   "cell_type": "code",
   "execution_count": 10,
   "id": "0a97c0c1",
   "metadata": {},
   "outputs": [
    {
     "data": {
      "text/plain": [
       "-2"
      ]
     },
     "execution_count": 10,
     "metadata": {},
     "output_type": "execute_result"
    }
   ],
   "source": [
    "delta_true"
   ]
  },
  {
   "cell_type": "code",
   "execution_count": 11,
   "id": "185f0617",
   "metadata": {},
   "outputs": [
    {
     "data": {
      "text/plain": [
       "[(-10.3336376245957, 3.2744722384624785)]"
      ]
     },
     "execution_count": 11,
     "metadata": {},
     "output_type": "execute_result"
    }
   ],
   "source": [
    "intervals"
   ]
  },
  {
   "cell_type": "code",
   "execution_count": null,
   "id": "7bc5ef39",
   "metadata": {},
   "outputs": [],
   "source": [
    "#x1 = np.random.gamma(gamma1[0], gamma1[1], n1)\n",
    "#x2 = np.random.gamma(gamma2[0], gamma2[1], n2)\n",
    "p_lower = pval(x1, x2, partitions, delta=intervals[0][0])\n",
    "p_upper = pval(x1, x2, partitions, delta=intervals[0][1])\n",
    "p_lower, p_upper"
   ]
  },
  {
   "cell_type": "markdown",
   "id": "7972ffbd",
   "metadata": {},
   "source": [
    "## Scrap Code"
   ]
  },
  {
   "cell_type": "code",
   "execution_count": null,
   "id": "076c025c",
   "metadata": {},
   "outputs": [],
   "source": [
    "a = np.array([18.85,16.93,19.29,18.31])#,17.27,18.64,17.82,19.00,19.58,18.04,17.27,19.19])\n",
    "b = np.array([19.23,19.57,19.50,18.64])#,18.70,19.54,19.04,20.67,20.71,18.99,19.37,19.06])"
   ]
  },
  {
   "cell_type": "code",
   "execution_count": null,
   "id": "b8bc2754",
   "metadata": {},
   "outputs": [],
   "source": [
    "tconfint(0.05, True, a, b)"
   ]
  },
  {
   "cell_type": "code",
   "execution_count": null,
   "id": "90c3ba4d",
   "metadata": {},
   "outputs": [],
   "source": [
    "from itertools import combinations"
   ]
  },
  {
   "cell_type": "code",
   "execution_count": null,
   "id": "67b8cad2",
   "metadata": {},
   "outputs": [],
   "source": [
    "np.append(a,b)"
   ]
  },
  {
   "cell_type": "code",
   "execution_count": null,
   "id": "c7eac6a8",
   "metadata": {},
   "outputs": [],
   "source": [
    "def get_groups(total_length, idxs):\n",
    "    i = 0\n",
    "    idxs2 = []\n",
    "    for j in idxs:\n",
    "        while i < total_length and i < j:\n",
    "            idxs2.append(i)\n",
    "            i += 1\n",
    "            \n",
    "        if i == j:\n",
    "            i += 1\n",
    "                \n",
    "    while i < total_length:\n",
    "        idxs2.append(i)\n",
    "        i += 1\n",
    "    \n",
    "    return idxs, idxs2\n",
    "        \n",
    "#get_groups(7, [1,2,3])"
   ]
  },
  {
   "cell_type": "code",
   "execution_count": null,
   "id": "44da7001",
   "metadata": {},
   "outputs": [],
   "source": [
    "def get_partitions(combined, n1):\n",
    "\n",
    "    def partition(idxs):\n",
    "        i = 0\n",
    "        group1 = []\n",
    "        group2 = []\n",
    "        for j in idxs:\n",
    "            while i < len(combined) and i < j:\n",
    "                group2.append(combined[i])\n",
    "                i += 1\n",
    "\n",
    "            if i == j:\n",
    "                i += 1\n",
    "\n",
    "            group1.append(combined[j])\n",
    "\n",
    "        while i < len(combined):\n",
    "            group2.append(combined[i])\n",
    "            i += 1\n",
    "\n",
    "        return group1, group2\n",
    "\n",
    "    partitions = []\n",
    "    for idxs in combinations(range(len(combined)), n1):\n",
    "        partitions.append(partition(idxs))\n",
    "    return partitions\n",
    "\n",
    "\n",
    "#get_partitions(np.append(a, b), len(a))"
   ]
  },
  {
   "cell_type": "code",
   "execution_count": null,
   "id": "eb339861",
   "metadata": {},
   "outputs": [],
   "source": [
    "x = (1,2)\n",
    "a[x]"
   ]
  },
  {
   "cell_type": "code",
   "execution_count": null,
   "id": "421535d4",
   "metadata": {},
   "outputs": [],
   "source": [
    "bootstrap_ci(a, b, epochs=100)"
   ]
  },
  {
   "cell_type": "code",
   "execution_count": null,
   "id": "d319f9fd",
   "metadata": {},
   "outputs": [],
   "source": [
    "# https://www.statsmodels.org/stable/generated/statsmodels.stats.weightstats.CompareMeans.html\n",
    "\n",
    "X1, X2 = np.arange(10,21), np.arange(20,26.5,.5)\n",
    "\n",
    "cm = sms.CompareMeans(sms.DescrStatsW(X1), sms.DescrStatsW(X2))\n",
    "print(cm.tconfint_diff(0.05, usevar=\"pooled\" if pooled else \"unequal\"))"
   ]
  },
  {
   "cell_type": "code",
   "execution_count": null,
   "id": "88b2332b",
   "metadata": {},
   "outputs": [],
   "source": [
    "tconfint(0.05, True, X1, X2)"
   ]
  }
 ],
 "metadata": {
  "kernelspec": {
   "display_name": "Python 3",
   "language": "python",
   "name": "python3"
  },
  "language_info": {
   "codemirror_mode": {
    "name": "ipython",
    "version": 3
   },
   "file_extension": ".py",
   "mimetype": "text/x-python",
   "name": "python",
   "nbconvert_exporter": "python",
   "pygments_lexer": "ipython3",
   "version": "3.8.5"
  }
 },
 "nbformat": 4,
 "nbformat_minor": 5
}
