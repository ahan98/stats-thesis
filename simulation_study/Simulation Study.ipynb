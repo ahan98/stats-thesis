{
 "cells": [
  {
   "cell_type": "markdown",
   "id": "c593a4d7",
   "metadata": {},
   "source": [
    "Types of Confidence Intervals:\n",
    "\n",
    "1. Invert two 1-sided tests\n",
    "- invert one test using `alternative == \"less\"`, and another using `alternative == \"greater\"`\n",
    "- for both tests, use `alpha/2`\n",
    "\n",
    "2. Invert one 2-sided test\n",
    "\n",
    "3. t-test confidence interval for difference in means\n",
    "\n",
    "4. Bootstrap confidence interval\n",
    "\n",
    "For types 1-3, we have two subtypes of confidence intervals for pooled vs. unpooled variances. Ultimately, we will have 7 types of confidence intervals to compare (since the bootstrap CI does not rely on assumptions of the population variances).\n",
    "\n",
    "For each type of CI, simulate 7300 instances (generating new samples each time, but keeping the parameters the same). Then measure the coverage probability, i.e., the proportion of the 7300 CIs which capture the true difference in means (which is known, since the data is simulated)."
   ]
  },
  {
   "cell_type": "code",
   "execution_count": 1,
   "id": "28173b23",
   "metadata": {},
   "outputs": [],
   "source": [
    "import numpy as np\n",
    "import statsmodels.stats.api as sms\n",
    "import scipy.stats as stats\n",
    "import math\n",
    "from itertools import combinations\n",
    "import threading\n",
    "#from tqdm import tqdm"
   ]
  },
  {
   "cell_type": "code",
   "execution_count": 2,
   "id": "667645b0",
   "metadata": {},
   "outputs": [],
   "source": [
    "from src.search import search\n",
    "from src.bootstrap import bootstrap_ci\n",
    "from src.perm_test import pval"
   ]
  },
  {
   "cell_type": "code",
   "execution_count": 3,
   "id": "2fa48af5",
   "metadata": {},
   "outputs": [],
   "source": [
    "def get_partitions(n1, n2):\n",
    "    total_length = n1 + n2\n",
    "\n",
    "    def get_groups(idxs):\n",
    "        i = 0\n",
    "        idxs2 = []\n",
    "        for j in idxs:\n",
    "            while i < total_length and i < j:\n",
    "                idxs2.append(i)\n",
    "                i += 1\n",
    "\n",
    "            if i == j:\n",
    "                i += 1\n",
    "\n",
    "        idxs2 += range(i, total_length)\n",
    "        return list(idxs) + idxs2\n",
    "\n",
    "    partitions = np.array([get_groups(idxs) for idxs in combinations(range(total_length), n1)])\n",
    "    return partitions"
   ]
  },
  {
   "cell_type": "code",
   "execution_count": 4,
   "id": "f0ed6c43",
   "metadata": {},
   "outputs": [],
   "source": [
    "def tconfint(alpha, pooled, x1, x2):\n",
    "    cm = sms.CompareMeans(sms.DescrStatsW(x1), sms.DescrStatsW(x2))\n",
    "    return cm.tconfint_diff(alpha, usevar=\"pooled\" if pooled else \"unequal\")"
   ]
  },
  {
   "cell_type": "code",
   "execution_count": 28,
   "id": "07236d11",
   "metadata": {},
   "outputs": [],
   "source": [
    "def passToThread(n_samples):\n",
    "    global n_captured, n_error\n",
    "    \n",
    "    for _ in range(n_samples):\n",
    "        x1 = np.random.gamma(gamma1[0], gamma1[1], n1)\n",
    "        x2 = np.random.gamma(gamma2[0], gamma2[1], n2)\n",
    "\n",
    "        t99 = tconfint(0.001, pooled, x1, x2)\n",
    "        t90 = tconfint(0.20, pooled, x1, x2)\n",
    "\n",
    "        lower = search(x1, x2, partitions, t99[0], t90[0])\n",
    "        if lower is None:\n",
    "            n_error += 1\n",
    "            continue\n",
    "\n",
    "        upper = search(x1, x2, partitions, t90[1], t99[1])\n",
    "        if upper is None:\n",
    "            n_error += 1\n",
    "            continue\n",
    "\n",
    "        intervals.append((lower, upper))\n",
    "        n_captured += (lower <= delta_true) * (delta_true <= upper)"
   ]
  },
  {
   "cell_type": "code",
   "execution_count": 29,
   "id": "ae8b8957",
   "metadata": {},
   "outputs": [],
   "source": [
    "alpha = 0.05\n",
    "alternative = \"less\"\n",
    "pooled = True\n",
    "\n",
    "gamma1 = (2, 5)  # shape k, scale theta\n",
    "gamma2 = (4, 3)\n",
    "delta_true = (gamma1[0] * gamma1[1]) - (gamma2[0] * gamma2[1])  # true mean difference\n",
    "\n",
    "n1, n2 = 12, 8\n",
    "partitions = get_partitions(n1, n2)\n",
    "\n",
    "intervals = []\n",
    "n_captured = n_error = 0"
   ]
  },
  {
   "cell_type": "code",
   "execution_count": 30,
   "id": "7f6b8d0a",
   "metadata": {},
   "outputs": [
    {
     "name": "stdout",
     "output_type": "stream",
     "text": [
      "CPU times: user 344 ms, sys: 23.7 ms, total: 368 ms\n",
      "Wall time: 366 ms\n"
     ]
    }
   ],
   "source": [
    "%%time\n",
    "# time how long it takes to find one confidence interval\n",
    "passToThread(1)"
   ]
  },
  {
   "cell_type": "code",
   "execution_count": 31,
   "id": "b38179f4",
   "metadata": {},
   "outputs": [
    {
     "data": {
      "text/plain": [
       "-2"
      ]
     },
     "execution_count": 31,
     "metadata": {},
     "output_type": "execute_result"
    }
   ],
   "source": [
    "delta_true"
   ]
  },
  {
   "cell_type": "code",
   "execution_count": 32,
   "id": "f2740f3c",
   "metadata": {},
   "outputs": [
    {
     "data": {
      "text/plain": [
       "(1, 1, 0)"
      ]
     },
     "execution_count": 32,
     "metadata": {},
     "output_type": "execute_result"
    }
   ],
   "source": [
    "n_captured, len(intervals), n_error"
   ]
  },
  {
   "cell_type": "code",
   "execution_count": 52,
   "id": "7480402d",
   "metadata": {},
   "outputs": [],
   "source": [
    "thread_count = 8\n",
    "threads = [0] * thread_count\n",
    "\n",
    "remaining = 1000  # 1 call per thread\n",
    "batch_size = remaining // thread_count\n",
    "\n",
    "intervals = []\n",
    "n_captured = n_error = 0"
   ]
  },
  {
   "cell_type": "code",
   "execution_count": 53,
   "id": "3688d6d2",
   "metadata": {},
   "outputs": [
    {
     "name": "stdout",
     "output_type": "stream",
     "text": [
      "CPU times: user 8min 38s, sys: 9.51 s, total: 8min 47s\n",
      "Wall time: 1min 14s\n"
     ]
    }
   ],
   "source": [
    "%%time\n",
    "\n",
    "for i in range(thread_count):\n",
    "    n_samples = batch_size if i < thread_count-1 else remaining\n",
    "    threads[i] = threading.Thread(target=passToThread, args=(n_samples,))\n",
    "    threads[i].start()\n",
    "    remaining -= n_samples\n",
    "    \n",
    "for thread in threads:\n",
    "    thread.join()"
   ]
  },
  {
   "cell_type": "code",
   "execution_count": 54,
   "id": "512925aa",
   "metadata": {},
   "outputs": [
    {
     "data": {
      "text/plain": [
       "(978, 1000, 0)"
      ]
     },
     "execution_count": 54,
     "metadata": {},
     "output_type": "execute_result"
    }
   ],
   "source": [
    "n_captured, len(intervals), n_error"
   ]
  },
  {
   "cell_type": "markdown",
   "id": "4ca7de6c",
   "metadata": {},
   "source": [
    "Multithreading allows us to compute one confidence interval in \\~80 ms, even faster than it took to compute the one confidence interval above (\\~360 ms)."
   ]
  },
  {
   "cell_type": "code",
   "execution_count": 57,
   "id": "c7d2f81a",
   "metadata": {},
   "outputs": [],
   "source": [
    "def total_mins(n_intervals):\n",
    "    mins = n_intervals * 0.08 / 60\n",
    "    hrs = mins / 60\n",
    "    print(\"estimated time:\", round(mins, 2), \"mins (\", round(hrs, 2), \"hrs )\")"
   ]
  },
  {
   "cell_type": "code",
   "execution_count": 58,
   "id": "6978c980",
   "metadata": {},
   "outputs": [
    {
     "name": "stdout",
     "output_type": "stream",
     "text": [
      "estimated time: 68.13 mins ( 1.14 hrs )\n"
     ]
    }
   ],
   "source": [
    "total_mins(7300*7)"
   ]
  },
  {
   "cell_type": "markdown",
   "id": "7972ffbd",
   "metadata": {},
   "source": [
    "## Scrap Code"
   ]
  },
  {
   "cell_type": "code",
   "execution_count": null,
   "id": "d319f9fd",
   "metadata": {},
   "outputs": [],
   "source": [
    "# https://www.statsmodels.org/stable/generated/statsmodels.stats.weightstats.CompareMeans.html\n",
    "\n",
    "X1, X2 = np.arange(10,21), np.arange(20,26.5,.5)\n",
    "\n",
    "cm = sms.CompareMeans(sms.DescrStatsW(X1), sms.DescrStatsW(X2))\n",
    "print(cm.tconfint_diff(0.05, usevar=\"pooled\" if pooled else \"unequal\"))"
   ]
  }
 ],
 "metadata": {
  "kernelspec": {
   "display_name": "Python 3",
   "language": "python",
   "name": "python3"
  },
  "language_info": {
   "codemirror_mode": {
    "name": "ipython",
    "version": 3
   },
   "file_extension": ".py",
   "mimetype": "text/x-python",
   "name": "python",
   "nbconvert_exporter": "python",
   "pygments_lexer": "ipython3",
   "version": "3.8.5"
  }
 },
 "nbformat": 4,
 "nbformat_minor": 5
}
