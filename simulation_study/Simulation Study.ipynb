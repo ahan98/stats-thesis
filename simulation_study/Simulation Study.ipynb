{
 "cells": [
  {
   "cell_type": "code",
   "execution_count": 31,
   "id": "28173b23",
   "metadata": {},
   "outputs": [],
   "source": [
    "import numpy as np\n",
    "import multiprocess as mp\n",
    "import statsmodels.stats.api as sms\n",
    "#from tqdm import tqdm"
   ]
  },
  {
   "cell_type": "code",
   "execution_count": 8,
   "id": "667645b0",
   "metadata": {},
   "outputs": [],
   "source": [
    "from src.bootstrap import bootstrap_ci\n",
    "from src.perm_test import search\n",
    "from src.utils import partition"
   ]
  },
  {
   "cell_type": "markdown",
   "id": "36a244ed",
   "metadata": {},
   "source": [
    "---"
   ]
  },
  {
   "cell_type": "code",
   "execution_count": 9,
   "id": "d0df3b2e",
   "metadata": {},
   "outputs": [
    {
     "data": {
      "text/plain": [
       "array([[ 0,  1,  2, ..., 17, 18, 19],\n",
       "       [ 0,  1,  2, ..., 17, 18, 19],\n",
       "       [ 0,  1,  2, ..., 17, 18, 19],\n",
       "       ...,\n",
       "       [ 7,  8, 10, ...,  5,  6,  9],\n",
       "       [ 7,  9, 10, ...,  5,  6,  8],\n",
       "       [ 8,  9, 10, ...,  5,  6,  7]])"
      ]
     },
     "execution_count": 9,
     "metadata": {},
     "output_type": "execute_result"
    }
   ],
   "source": [
    "n1, n2 = 12, 8\n",
    "gamma1 = (2, 5)  # shape k, scale theta\n",
    "gamma2 = (4, 3)\n",
    "delta_true = (gamma1[0] * gamma1[1]) - (gamma2[0] * gamma2[1])  # true mean difference\n",
    "partitions = partition(n1, n2)\n",
    "partitions"
   ]
  },
  {
   "cell_type": "code",
   "execution_count": 10,
   "id": "e780c9be",
   "metadata": {},
   "outputs": [],
   "source": [
    "# https://www.statsmodels.org/dev/generated/statsmodels.stats.weightstats.CompareMeans.tconfint_diff.html\n",
    "def tconfint(alpha, x1, x2, pooled=True, alternative=\"two-sided\"):\n",
    "    cm = sms.CompareMeans(sms.DescrStatsW(x1), sms.DescrStatsW(x2))\n",
    "    return cm.tconfint_diff(alpha, alternative, usevar=\"pooled\" if pooled else \"unequal\")"
   ]
  },
  {
   "cell_type": "code",
   "execution_count": 107,
   "id": "f0c0e7d2",
   "metadata": {},
   "outputs": [],
   "source": [
    "def passToThread(batch_start, batch_size, two_sided=True, pooled=True):\n",
    "\n",
    "    def invert_test(batch_idx, alternative):\n",
    "        x1, x2 = x1s[batch_idx], x2s[batch_idx]\n",
    "        t99 = tconfint(0.001, x1, x2, pooled, alternative)\n",
    "        t90 = tconfint(0.20, x1, x2, pooled, alternative)\n",
    "\n",
    "        lower, upper = -np.inf, np.inf\n",
    "        if alternative != \"smaller\":\n",
    "            lower = search(x1, x2, partitions, t99[0], t90[0], pooled=pooled, alternative=alternative)\n",
    "        if alternative != \"larger\":\n",
    "            upper = search(x1, x2, partitions, t90[1], t99[1], pooled=pooled, alternative=alternative)\n",
    "        return lower, upper\n",
    "\n",
    "    n_captured = n_error = 0\n",
    "    for i in range(batch_start, batch_start + batch_size):\n",
    "        try:\n",
    "            if two_sided:\n",
    "                lower, upper = invert_test(i, \"two-sided\")\n",
    "            else:\n",
    "                lower1, upper1 = invert_test(i, \"smaller\")\n",
    "                lower2, upper2 = invert_test(i, \"larger\")\n",
    "                lower, upper = max(lower1, lower2), min(upper1, upper2)\n",
    "        except AssertionError:\n",
    "            n_error += 1\n",
    "            continue\n",
    "\n",
    "        n_captured += (lower <= delta_true) * (delta_true <= upper)\n",
    "    return n_captured, n_error"
   ]
  },
  {
   "cell_type": "code",
   "execution_count": 109,
   "id": "dce8a9ba",
   "metadata": {},
   "outputs": [],
   "source": [
    "np.random.seed(123)\n",
    "x1s = np.random.gamma(gamma1[0], gamma1[1], (7300, n1))\n",
    "x2s = np.random.gamma(gamma2[0], gamma2[1], (7300, n2))"
   ]
  },
  {
   "cell_type": "code",
   "execution_count": 114,
   "id": "998dceea",
   "metadata": {},
   "outputs": [
    {
     "name": "stdout",
     "output_type": "stream",
     "text": [
      "CPU times: user 7.37 ms, sys: 3.03 ms, total: 10.4 ms\n",
      "Wall time: 11.3 s\n"
     ]
    },
    {
     "data": {
      "text/plain": [
       "[(7, 0),\n",
       " (6, 0),\n",
       " (7, 0),\n",
       " (8, 0),\n",
       " (8, 0),\n",
       " (7, 0),\n",
       " (8, 0),\n",
       " (8, 0),\n",
       " (8, 0),\n",
       " (8, 0),\n",
       " (7, 0),\n",
       " (8, 0),\n",
       " (7, 0),\n",
       " (7, 0),\n",
       " (6, 0),\n",
       " (8, 0)]"
      ]
     },
     "execution_count": 114,
     "metadata": {},
     "output_type": "execute_result"
    }
   ],
   "source": [
    "batch_size = 8\n",
    "n_batches = 16\n",
    "pool = mp.Pool(mp.cpu_count())\n",
    "# invert single two-sided test w/ unpooled variance\n",
    "%time pool.starmap(passToThread, [(i * batch_size, batch_size, False, False) for i in range(n_batches)])"
   ]
  },
  {
   "cell_type": "code",
   "execution_count": 112,
   "id": "029f9176",
   "metadata": {},
   "outputs": [
    {
     "name": "stdout",
     "output_type": "stream",
     "text": [
      "CPU times: user 18.2 ms, sys: 7.25 ms, total: 25.5 ms\n",
      "Wall time: 11.4 s\n"
     ]
    },
    {
     "data": {
      "text/plain": [
       "[(7, 0),\n",
       " (6, 0),\n",
       " (7, 0),\n",
       " (8, 0),\n",
       " (8, 0),\n",
       " (7, 0),\n",
       " (8, 0),\n",
       " (8, 0),\n",
       " (8, 0),\n",
       " (8, 0),\n",
       " (7, 0),\n",
       " (8, 0),\n",
       " (8, 0),\n",
       " (7, 0),\n",
       " (7, 0),\n",
       " (8, 0)]"
      ]
     },
     "execution_count": 112,
     "metadata": {},
     "output_type": "execute_result"
    }
   ],
   "source": [
    "# invert single two-sided test w/ pooled variance\n",
    "%time pool.starmap(passToThread, [(i * batch_size, batch_size, False, True) for i in range(n_batches)])"
   ]
  }
 ],
 "metadata": {
  "kernelspec": {
   "display_name": "Python 3 (ipykernel)",
   "language": "python",
   "name": "python3"
  },
  "language_info": {
   "codemirror_mode": {
    "name": "ipython",
    "version": 3
   },
   "file_extension": ".py",
   "mimetype": "text/x-python",
   "name": "python",
   "nbconvert_exporter": "python",
   "pygments_lexer": "ipython3",
   "version": "3.10.1"
  }
 },
 "nbformat": 4,
 "nbformat_minor": 5
}
