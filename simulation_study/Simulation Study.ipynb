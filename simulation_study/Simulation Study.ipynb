{
 "cells": [
  {
   "cell_type": "code",
   "execution_count": 1,
   "id": "28173b23",
   "metadata": {},
   "outputs": [],
   "source": [
    "import numpy as np\n",
    "import statsmodels.stats.api as sms\n",
    "from scipy.stats import t as t\n",
    "import math\n",
    "from itertools import combinations\n",
    "import threading\n",
    "#from tqdm import tqdm"
   ]
  },
  {
   "cell_type": "code",
   "execution_count": 2,
   "id": "667645b0",
   "metadata": {},
   "outputs": [],
   "source": [
    "from src.bootstrap import bootstrap_ci\n",
    "from src.perm_test import search, ttest_ind, pval\n",
    "from src.utils import partition"
   ]
  },
  {
   "cell_type": "markdown",
   "id": "36a244ed",
   "metadata": {},
   "source": [
    "---"
   ]
  },
  {
   "cell_type": "code",
   "execution_count": 156,
   "id": "d0df3b2e",
   "metadata": {},
   "outputs": [],
   "source": [
    "n1, n2 = 12, 8\n",
    "gamma1 = (2, 5)  # shape k, scale theta\n",
    "gamma2 = (4, 3)\n",
    "delta_true = (gamma1[0] * gamma1[1]) - (gamma2[0] * gamma2[1])  # true mean difference"
   ]
  },
  {
   "cell_type": "code",
   "execution_count": 179,
   "id": "e780c9be",
   "metadata": {},
   "outputs": [],
   "source": [
    "def tconfint(alpha, x1, x2, pooled=True, alternative=\"two-sided\"):\n",
    "    cm = sms.CompareMeans(sms.DescrStatsW(x1), sms.DescrStatsW(x2))\n",
    "    return cm.tconfint_diff(alpha, alternative, usevar=\"pooled\" if pooled else \"unequal\")"
   ]
  },
  {
   "cell_type": "code",
   "execution_count": 184,
   "id": "f0c0e7d2",
   "metadata": {},
   "outputs": [],
   "source": [
    "def passToThread(batch_start, batch_size, two_sided=True, pooled=True):\n",
    "    global n_captured\n",
    "    \n",
    "    def invert_test(batch_idx, alternative):\n",
    "        t99 = tconfint(0.001, x1s[batch_idx], x2s[batch_idx], pooled, alternative)\n",
    "        t90 = tconfint(0.20, x1s[batch_idx], x2s[batch_idx], pooled, alternative)\n",
    "\n",
    "        lower, upper = -np.inf, np.inf\n",
    "        if alternative != \"smaller\":\n",
    "            lower = search(x1, x2, partitions, t99[0], t90[0], alternative=alternative)\n",
    "        if alternative != \"larger\":\n",
    "            upper = search(x1, x2, partitions, t90[1], t99[1], alternative=alternative)\n",
    "        return lower, upper\n",
    "\n",
    "    for i in range(batch_start, batch_start + batch_size):\n",
    "        try:\n",
    "            if two_sided:\n",
    "                lower, upper = invert_test(i, \"two-sided\")\n",
    "            else:\n",
    "                lower1, upper1 = invert_test(i, \"smaller\")\n",
    "                lower2, upper2 = invert_test(i, \"larger\")\n",
    "                lower, upper = max(lower1, lower2), min(upper1, upper2)\n",
    "        except AssertionError:\n",
    "            continue\n",
    "        intervals.append((lower, upper))\n",
    "        n_captured += (lower <= delta_true) * (delta_true <= upper)"
   ]
  },
  {
   "cell_type": "code",
   "execution_count": 189,
   "id": "6d5ff53a",
   "metadata": {},
   "outputs": [],
   "source": [
    "np.random.seed(1)\n",
    "x1s = np.random.gamma(gamma1[0], gamma1[1], (7300, n1))\n",
    "x2s = np.random.gamma(gamma1[0], gamma1[1], (7300, n2))"
   ]
  },
  {
   "cell_type": "code",
   "execution_count": 193,
   "id": "96e0e718",
   "metadata": {},
   "outputs": [
    {
     "name": "stdout",
     "output_type": "stream",
     "text": [
      "CPU times: user 260 ms, sys: 52.8 ms, total: 313 ms\n",
      "Wall time: 310 ms\n"
     ]
    },
    {
     "data": {
      "text/plain": [
       "[(-12.202947679977779, 4.740844819603792)]"
      ]
     },
     "execution_count": 193,
     "metadata": {},
     "output_type": "execute_result"
    }
   ],
   "source": [
    "n_captured = 0\n",
    "intervals = []\n",
    "pooled = True\n",
    "%time passToThread(1, 1, two_sided=True, pooled=False)\n",
    "intervals"
   ]
  },
  {
   "cell_type": "code",
   "execution_count": 194,
   "id": "78b372df",
   "metadata": {},
   "outputs": [
    {
     "name": "stdout",
     "output_type": "stream",
     "text": [
      "CPU times: user 285 ms, sys: 58.6 ms, total: 344 ms\n",
      "Wall time: 342 ms\n"
     ]
    },
    {
     "data": {
      "text/plain": [
       "[(-11.898873007088184, 4.710796316314038)]"
      ]
     },
     "execution_count": 194,
     "metadata": {},
     "output_type": "execute_result"
    }
   ],
   "source": [
    "n_captured = 0\n",
    "intervals = []\n",
    "pooled = True\n",
    "%time passToThread(1, 1, two_sided=True, pooled=True)\n",
    "intervals"
   ]
  },
  {
   "cell_type": "markdown",
   "id": "fabf2ca4",
   "metadata": {},
   "source": [
    "---"
   ]
  },
  {
   "cell_type": "code",
   "execution_count": 19,
   "id": "7480402d",
   "metadata": {},
   "outputs": [],
   "source": [
    "thread_count = 16\n",
    "threads = [0] * thread_count\n",
    "\n",
    "remaining = 128\n",
    "batch_size = remaining // thread_count\n",
    "\n",
    "intervals = []\n",
    "n_captured = 0"
   ]
  },
  {
   "cell_type": "code",
   "execution_count": 20,
   "id": "3688d6d2",
   "metadata": {},
   "outputs": [
    {
     "name": "stdout",
     "output_type": "stream",
     "text": [
      "CPU times: user 49.6 s, sys: 14 s, total: 1min 3s\n",
      "Wall time: 10.8 s\n"
     ]
    }
   ],
   "source": [
    "%%time\n",
    "\n",
    "for i in range(thread_count):\n",
    "    n_samples = batch_size if i < thread_count-1 else remaining\n",
    "    threads[i] = threading.Thread(target=passToThread, args=(n_samples,))\n",
    "    threads[i].start()\n",
    "    remaining -= n_samples\n",
    "    \n",
    "for thread in threads:\n",
    "    thread.join()"
   ]
  },
  {
   "cell_type": "code",
   "execution_count": 21,
   "id": "512925aa",
   "metadata": {},
   "outputs": [
    {
     "data": {
      "text/plain": [
       "(125, 128)"
      ]
     },
     "execution_count": 21,
     "metadata": {},
     "output_type": "execute_result"
    }
   ],
   "source": [
    "n_captured, len(intervals)"
   ]
  },
  {
   "cell_type": "markdown",
   "id": "4ca7de6c",
   "metadata": {},
   "source": [
    "Multithreading allows us to compute one confidence interval in \\~80 ms, even faster than it took to compute the one confidence interval above (\\~360 ms)."
   ]
  }
 ],
 "metadata": {
  "kernelspec": {
   "display_name": "Python 3 (ipykernel)",
   "language": "python",
   "name": "python3"
  },
  "language_info": {
   "codemirror_mode": {
    "name": "ipython",
    "version": 3
   },
   "file_extension": ".py",
   "mimetype": "text/x-python",
   "name": "python",
   "nbconvert_exporter": "python",
   "pygments_lexer": "ipython3",
   "version": "3.10.1"
  }
 },
 "nbformat": 4,
 "nbformat_minor": 5
}
