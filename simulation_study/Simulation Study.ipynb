{
 "cells": [
  {
   "cell_type": "markdown",
   "id": "76e6efc0",
   "metadata": {},
   "source": [
    "## TODO"
   ]
  },
  {
   "cell_type": "markdown",
   "id": "65b26d87",
   "metadata": {},
   "source": [
    "- vectorize `tconfint()`\n",
    "- vectorize `passToThread()`\n",
    "  - generate 7300xn1 and 7300xn2 for the matrices of data\n",
    "  - 7300 x n1 -> 7300 x 1 (`lower`)\n",
    "  - 7300 x n2 -> 7300 x 1 (`upper`)\n",
    "  - 7300 x 1 boolean vector, i-th entry is True iff `lower[i] <= delta-true <= upper[i]`\n",
    "  - ouptut p-value which is proportion of boolean vector that is True"
   ]
  },
  {
   "cell_type": "markdown",
   "id": "440ac590",
   "metadata": {},
   "source": [
    "---"
   ]
  },
  {
   "cell_type": "code",
   "execution_count": 213,
   "id": "28173b23",
   "metadata": {},
   "outputs": [],
   "source": [
    "import numpy as np\n",
    "import statsmodels.stats.api as sms\n",
    "import scipy.stats as stats\n",
    "import math\n",
    "from itertools import combinations\n",
    "import threading\n",
    "#from tqdm import tqdm"
   ]
  },
  {
   "cell_type": "code",
   "execution_count": 214,
   "id": "667645b0",
   "metadata": {},
   "outputs": [],
   "source": [
    "from src.search import search\n",
    "from src.bootstrap import bootstrap_ci\n",
    "from src.perm_test import ttest_ind_vectorized, pval_vectorized"
   ]
  },
  {
   "cell_type": "code",
   "execution_count": 215,
   "id": "2fa48af5",
   "metadata": {},
   "outputs": [],
   "source": [
    "def get_partitions(n1, n2):\n",
    "    total_length = n1 + n2\n",
    "\n",
    "    def get_groups(idxs):\n",
    "        i = 0\n",
    "        idxs2 = []\n",
    "        for j in idxs:\n",
    "            while i < total_length and i < j:\n",
    "                idxs2.append(i)\n",
    "                i += 1\n",
    "\n",
    "            if i == j:\n",
    "                i += 1\n",
    "\n",
    "        idxs2 += range(i, total_length)\n",
    "        return list(idxs) + idxs2\n",
    "\n",
    "    partitions = np.array([get_groups(idxs) for idxs in combinations(range(total_length), n1)])\n",
    "    return partitions"
   ]
  },
  {
   "cell_type": "code",
   "execution_count": 216,
   "id": "f0ed6c43",
   "metadata": {},
   "outputs": [],
   "source": [
    "def tconfint(alpha, pooled, x1, x2):\n",
    "    cm = sms.CompareMeans(sms.DescrStatsW(x1), sms.DescrStatsW(x2))\n",
    "    return cm.tconfint_diff(alpha, usevar=\"pooled\" if pooled else \"unequal\")"
   ]
  },
  {
   "cell_type": "code",
   "execution_count": 217,
   "id": "07236d11",
   "metadata": {},
   "outputs": [],
   "source": [
    "def passToThread(n_samples):\n",
    "    global n_captured\n",
    "    \n",
    "    for _ in range(n_samples):\n",
    "        x1 = np.random.gamma(gamma1[0], gamma1[1], n1)\n",
    "        x2 = np.random.gamma(gamma2[0], gamma2[1], n2)\n",
    "\n",
    "        # TODO vectorize\n",
    "        t99 = tconfint(0.001, pooled, x1, x2)\n",
    "        t90 = tconfint(0.20, pooled, x1, x2)\n",
    "\n",
    "        try:\n",
    "            lower = search(x1, x2, partitions, t99[0], t90[0])\n",
    "            upper = search(x1, x2, partitions, t90[1], t99[1])\n",
    "        except AssertionError:\n",
    "            continue\n",
    "\n",
    "        intervals.append((lower, upper))\n",
    "        n_captured += (lower <= delta_true) * (delta_true <= upper)"
   ]
  },
  {
   "cell_type": "code",
   "execution_count": 218,
   "id": "ae8b8957",
   "metadata": {},
   "outputs": [],
   "source": [
    "alpha = 0.05\n",
    "alternative = \"less\"\n",
    "pooled = True\n",
    "\n",
    "gamma1 = (2, 5)  # shape k, scale theta\n",
    "gamma2 = (4, 3)\n",
    "delta_true = (gamma1[0] * gamma1[1]) - (gamma2[0] * gamma2[1])  # true mean difference\n",
    "\n",
    "n1, n2 = 12, 8\n",
    "partitions = get_partitions(n1, n2)\n",
    "\n",
    "intervals = []\n",
    "n_captured = 0"
   ]
  },
  {
   "cell_type": "code",
   "execution_count": 219,
   "id": "7f6b8d0a",
   "metadata": {},
   "outputs": [
    {
     "name": "stdout",
     "output_type": "stream",
     "text": [
      "CPU times: user 342 ms, sys: 26.8 ms, total: 369 ms\n",
      "Wall time: 368 ms\n"
     ]
    }
   ],
   "source": [
    "%%time\n",
    "# time how long it takes to find one confidence interval\n",
    "passToThread(1)"
   ]
  },
  {
   "cell_type": "code",
   "execution_count": 220,
   "id": "b38179f4",
   "metadata": {},
   "outputs": [
    {
     "data": {
      "text/plain": [
       "-2"
      ]
     },
     "execution_count": 220,
     "metadata": {},
     "output_type": "execute_result"
    }
   ],
   "source": [
    "delta_true"
   ]
  },
  {
   "cell_type": "code",
   "execution_count": 221,
   "id": "f2740f3c",
   "metadata": {},
   "outputs": [
    {
     "data": {
      "text/plain": [
       "(1, 1)"
      ]
     },
     "execution_count": 221,
     "metadata": {},
     "output_type": "execute_result"
    }
   ],
   "source": [
    "n_captured, len(intervals)"
   ]
  },
  {
   "cell_type": "code",
   "execution_count": 222,
   "id": "7480402d",
   "metadata": {},
   "outputs": [],
   "source": [
    "thread_count = 8\n",
    "threads = [0] * thread_count\n",
    "\n",
    "remaining = 128\n",
    "batch_size = remaining // thread_count\n",
    "\n",
    "intervals = []\n",
    "n_captured = 0"
   ]
  },
  {
   "cell_type": "code",
   "execution_count": 223,
   "id": "3688d6d2",
   "metadata": {},
   "outputs": [
    {
     "name": "stdout",
     "output_type": "stream",
     "text": [
      "CPU times: user 1min 5s, sys: 1.4 s, total: 1min 7s\n",
      "Wall time: 9.64 s\n"
     ]
    }
   ],
   "source": [
    "%%time\n",
    "\n",
    "for i in range(thread_count):\n",
    "    n_samples = batch_size if i < thread_count-1 else remaining\n",
    "    threads[i] = threading.Thread(target=passToThread, args=(n_samples,))\n",
    "    threads[i].start()\n",
    "    remaining -= n_samples\n",
    "    \n",
    "for thread in threads:\n",
    "    thread.join()"
   ]
  },
  {
   "cell_type": "code",
   "execution_count": 224,
   "id": "512925aa",
   "metadata": {},
   "outputs": [
    {
     "data": {
      "text/plain": [
       "(125, 128)"
      ]
     },
     "execution_count": 224,
     "metadata": {},
     "output_type": "execute_result"
    }
   ],
   "source": [
    "n_captured, len(intervals)"
   ]
  },
  {
   "cell_type": "markdown",
   "id": "4ca7de6c",
   "metadata": {},
   "source": [
    "Multithreading allows us to compute one confidence interval in \\~80 ms, even faster than it took to compute the one confidence interval above (\\~360 ms)."
   ]
  },
  {
   "cell_type": "markdown",
   "id": "7972ffbd",
   "metadata": {},
   "source": [
    "## Scrap Code"
   ]
  },
  {
   "cell_type": "code",
   "execution_count": 157,
   "id": "035cdea9",
   "metadata": {},
   "outputs": [],
   "source": [
    "# https://www.statsmodels.org/stable/generated/statsmodels.stats.weightstats.CompareMeans.html\n",
    "np.random.seed(124)\n",
    "n1, n2 = 12, 8\n",
    "x1 = np.random.gamma(gamma1[0], gamma1[1], (5, n1))\n",
    "x2 = np.random.gamma(gamma2[0], gamma2[1], (5, n2))"
   ]
  },
  {
   "cell_type": "code",
   "execution_count": 158,
   "id": "77e74c56",
   "metadata": {},
   "outputs": [],
   "source": [
    "from scipy.stats import ttest_ind as ttest\n",
    "from scipy.stats import t as t"
   ]
  },
  {
   "cell_type": "code",
   "execution_count": 159,
   "id": "e8854077",
   "metadata": {},
   "outputs": [
    {
     "data": {
      "text/plain": [
       "Ttest_indResult(statistic=array([-1.41652211, -0.2703295 , -1.2391753 , -0.88257159, -1.42359231]), pvalue=array([0.17369686, 0.78998195, 0.2311958 , 0.3891026 , 0.1716681 ]))"
      ]
     },
     "execution_count": 159,
     "metadata": {},
     "output_type": "execute_result"
    }
   ],
   "source": [
    "ttest(x1, x2, axis=1)"
   ]
  },
  {
   "cell_type": "code",
   "execution_count": 163,
   "id": "d319f9fd",
   "metadata": {},
   "outputs": [
    {
     "name": "stdout",
     "output_type": "stream",
     "text": [
      "(-9.036252057023685, 1.758211350664376)\n"
     ]
    }
   ],
   "source": [
    "cm = sms.CompareMeans(sms.DescrStatsW(x1[0]), sms.DescrStatsW(x2[0]))\n",
    "print(cm.tconfint_diff(0.05, usevar=\"pooled\" if pooled else \"unequal\"))"
   ]
  },
  {
   "cell_type": "code",
   "execution_count": 164,
   "id": "ebb6f659",
   "metadata": {},
   "outputs": [],
   "source": [
    "# TODO alternative=\"unequal\", etc.\n",
    "def interval_vectorized(x1s, x2s, alpha=0.05, pooled=True):\n",
    "    n1, n2 = x1s.shape[-1], x2s.shape[-1]\n",
    "    #print(\"n1 =\", n1, \"n2 =\", n2)\n",
    "    sum1 = np.sum(x1s, axis=-1)\n",
    "    sum2 = np.sum(x2s, axis=-1)\n",
    "    #print(\"sums\", sum1, sum2)\n",
    "\n",
    "    mean1 = sum1 / n1\n",
    "    mean2 = sum2 / n2\n",
    "    #print(\"means\", mean1, mean2)\n",
    "\n",
    "    sample_var = lambda x, mean, n: (np.sum(x**2, axis=-1) - n*mean**2) / (n-1)\n",
    "    var1 = sample_var(x1s, mean1, n1)\n",
    "    var2 = sample_var(x2s, mean2, n2)\n",
    "    #print(\"sample variances\", var1, var2)\n",
    "\n",
    "    pooled_var = ((n1-1)*var1 + (n2-1)*var2) / (n1+n2-2)\n",
    "    #print(\"pooled var\", pooled_var)\n",
    "    denom = np.sqrt(pooled_var * (1/n1 + 1/n2))\n",
    "\n",
    "    t_crit = t.ppf(q=1-alpha/2, df=n1+n2-2)\n",
    "    lower = (mean1 - mean2) - t_crit*denom\n",
    "    upper = (mean1 - mean2) + t_crit*denom\n",
    "    return lower, upper"
   ]
  },
  {
   "cell_type": "code",
   "execution_count": 165,
   "id": "35c4df4e",
   "metadata": {},
   "outputs": [
    {
     "data": {
      "text/plain": [
       "(-9.036252057023685, 1.7582113506643742)"
      ]
     },
     "execution_count": 165,
     "metadata": {},
     "output_type": "execute_result"
    }
   ],
   "source": [
    "interval_vectorized(x1[0], x2[0])"
   ]
  },
  {
   "cell_type": "code",
   "execution_count": 166,
   "id": "31eb6a8e",
   "metadata": {},
   "outputs": [
    {
     "data": {
      "text/plain": [
       "(array([-9.03625206, -5.73727455, -7.35169269, -6.57976376, -9.46387131]),\n",
       " array([1.75821135, 4.42914293, 1.89674028, 2.68693657, 1.81873608]))"
      ]
     },
     "execution_count": 166,
     "metadata": {},
     "output_type": "execute_result"
    }
   ],
   "source": [
    "interval_vectorized(x1, x2)"
   ]
  },
  {
   "cell_type": "code",
   "execution_count": 193,
   "id": "a5617d93",
   "metadata": {},
   "outputs": [],
   "source": [
    "t_wide = interval_vectorized(x1, x2, alpha=0.01)\n",
    "t_narrow = interval_vectorized(x1, x2, alpha=0.1)"
   ]
  },
  {
   "cell_type": "code",
   "execution_count": 194,
   "id": "805a96fc",
   "metadata": {},
   "outputs": [
    {
     "data": {
      "text/plain": [
       "(array([-11.03368321,  -7.61849071,  -9.06304298,  -8.29449428,\n",
       "        -11.5516297 ]),\n",
       " array([3.7556425 , 6.31035908, 3.60809058, 4.4016671 , 3.90649447]))"
      ]
     },
     "execution_count": 194,
     "metadata": {},
     "output_type": "execute_result"
    }
   ],
   "source": [
    "t_wide"
   ]
  },
  {
   "cell_type": "code",
   "execution_count": 195,
   "id": "a479d6d4",
   "metadata": {},
   "outputs": [
    {
     "data": {
      "text/plain": [
       "(array([-8.0937992 , -4.84965571, -6.54422207, -5.77069824, -8.47879914]),\n",
       " array([0.8157585 , 3.54152408, 1.08926967, 1.87787105, 0.83366391]))"
      ]
     },
     "execution_count": 195,
     "metadata": {},
     "output_type": "execute_result"
    }
   ],
   "source": [
    "t_narrow"
   ]
  },
  {
   "cell_type": "code",
   "execution_count": 196,
   "id": "e4fb1454",
   "metadata": {},
   "outputs": [
    {
     "ename": "KeyboardInterrupt",
     "evalue": "",
     "output_type": "error",
     "traceback": [
      "\u001b[0;31m---------------------------------------------------------------------------\u001b[0m",
      "\u001b[0;31mKeyboardInterrupt\u001b[0m                         Traceback (most recent call last)",
      "\u001b[0;32m<ipython-input-196-eefda5e0527c>\u001b[0m in \u001b[0;36m<module>\u001b[0;34m\u001b[0m\n\u001b[0;32m----> 1\u001b[0;31m \u001b[0mlower\u001b[0m \u001b[0;34m=\u001b[0m \u001b[0msearch\u001b[0m\u001b[0;34m(\u001b[0m\u001b[0mx1\u001b[0m\u001b[0;34m[\u001b[0m\u001b[0;36m0\u001b[0m\u001b[0;34m]\u001b[0m\u001b[0;34m,\u001b[0m \u001b[0mx2\u001b[0m\u001b[0;34m[\u001b[0m\u001b[0;36m0\u001b[0m\u001b[0;34m]\u001b[0m\u001b[0;34m,\u001b[0m \u001b[0mpartitions\u001b[0m\u001b[0;34m,\u001b[0m \u001b[0mt_wide\u001b[0m\u001b[0;34m[\u001b[0m\u001b[0;36m0\u001b[0m\u001b[0;34m]\u001b[0m\u001b[0;34m[\u001b[0m\u001b[0;36m0\u001b[0m\u001b[0;34m]\u001b[0m\u001b[0;34m,\u001b[0m \u001b[0mt_narrow\u001b[0m\u001b[0;34m[\u001b[0m\u001b[0;36m0\u001b[0m\u001b[0;34m]\u001b[0m\u001b[0;34m[\u001b[0m\u001b[0;36m0\u001b[0m\u001b[0;34m]\u001b[0m\u001b[0;34m)\u001b[0m\u001b[0;34m\u001b[0m\u001b[0;34m\u001b[0m\u001b[0m\n\u001b[0m",
      "\u001b[0;32m~/git/stats-thesis/simulation_study/src/search.py\u001b[0m in \u001b[0;36msearch\u001b[0;34m(x1, x2, partitions, start, end, margin, alpha, threshold)\u001b[0m\n\u001b[1;32m     34\u001b[0m         \u001b[0;31m# print(\"delta =\", delta, \" in [\", start, \",\", end, \"]\")\u001b[0m\u001b[0;34m\u001b[0m\u001b[0;34m\u001b[0m\u001b[0;34m\u001b[0m\u001b[0m\n\u001b[1;32m     35\u001b[0m \u001b[0;34m\u001b[0m\u001b[0m\n\u001b[0;32m---> 36\u001b[0;31m         \u001b[0mp_new\u001b[0m \u001b[0;34m=\u001b[0m \u001b[0mpval_vectorized\u001b[0m\u001b[0;34m(\u001b[0m\u001b[0mx1\u001b[0m\u001b[0;34m,\u001b[0m \u001b[0mx2\u001b[0m\u001b[0;34m,\u001b[0m \u001b[0mpartitions\u001b[0m\u001b[0;34m,\u001b[0m \u001b[0mdelta\u001b[0m\u001b[0;34m=\u001b[0m\u001b[0mdelta\u001b[0m\u001b[0;34m)\u001b[0m\u001b[0;34m\u001b[0m\u001b[0;34m\u001b[0m\u001b[0m\n\u001b[0m\u001b[1;32m     37\u001b[0m         \u001b[0;31m# print(\"p_new =\", p_new)\u001b[0m\u001b[0;34m\u001b[0m\u001b[0;34m\u001b[0m\u001b[0;34m\u001b[0m\u001b[0m\n\u001b[1;32m     38\u001b[0m \u001b[0;34m\u001b[0m\u001b[0m\n",
      "\u001b[0;32m~/git/stats-thesis/simulation_study/src/perm_test.py\u001b[0m in \u001b[0;36mpval_vectorized\u001b[0;34m(x1, x2, partitions, delta, pooled, alternative)\u001b[0m\n\u001b[1;32m     43\u001b[0m \u001b[0;34m\u001b[0m\u001b[0m\n\u001b[1;32m     44\u001b[0m     \u001b[0msubset\u001b[0m \u001b[0;34m=\u001b[0m \u001b[0;32mNone\u001b[0m\u001b[0;34m\u001b[0m\u001b[0;34m\u001b[0m\u001b[0m\n\u001b[0;32m---> 45\u001b[0;31m     \u001b[0mt_obs\u001b[0m \u001b[0;34m=\u001b[0m \u001b[0mttest_ind_vectorized\u001b[0m\u001b[0;34m(\u001b[0m\u001b[0mx1\u001b[0m\u001b[0;34m,\u001b[0m \u001b[0mx2\u001b[0m\u001b[0;34m,\u001b[0m \u001b[0mn1\u001b[0m\u001b[0;34m,\u001b[0m \u001b[0mn2\u001b[0m\u001b[0;34m,\u001b[0m \u001b[0mpooled\u001b[0m\u001b[0;34m)\u001b[0m\u001b[0;34m\u001b[0m\u001b[0;34m\u001b[0m\u001b[0m\n\u001b[0m\u001b[1;32m     46\u001b[0m     \u001b[0;31m#print(\"t_obs =\", t_obs)\u001b[0m\u001b[0;34m\u001b[0m\u001b[0;34m\u001b[0m\u001b[0;34m\u001b[0m\u001b[0m\n\u001b[1;32m     47\u001b[0m     \u001b[0;32mif\u001b[0m \u001b[0malternative\u001b[0m \u001b[0;34m==\u001b[0m \u001b[0;34m\"less\"\u001b[0m\u001b[0;34m:\u001b[0m\u001b[0;34m\u001b[0m\u001b[0;34m\u001b[0m\u001b[0m\n",
      "\u001b[0;32m~/git/stats-thesis/simulation_study/src/perm_test.py\u001b[0m in \u001b[0;36mttest_ind_vectorized\u001b[0;34m(x1s, x2s, n1, n2, pooled)\u001b[0m\n\u001b[1;32m     14\u001b[0m \u001b[0;34m\u001b[0m\u001b[0m\n\u001b[1;32m     15\u001b[0m     \u001b[0msample_var\u001b[0m \u001b[0;34m=\u001b[0m \u001b[0;32mlambda\u001b[0m \u001b[0mx\u001b[0m\u001b[0;34m,\u001b[0m \u001b[0mmean\u001b[0m\u001b[0;34m,\u001b[0m \u001b[0mn\u001b[0m\u001b[0;34m:\u001b[0m \u001b[0;34m(\u001b[0m\u001b[0mnp\u001b[0m\u001b[0;34m.\u001b[0m\u001b[0msum\u001b[0m\u001b[0;34m(\u001b[0m\u001b[0mx\u001b[0m\u001b[0;34m**\u001b[0m\u001b[0;36m2\u001b[0m\u001b[0;34m,\u001b[0m \u001b[0maxis\u001b[0m\u001b[0;34m=\u001b[0m\u001b[0;34m-\u001b[0m\u001b[0;36m1\u001b[0m\u001b[0;34m)\u001b[0m \u001b[0;34m-\u001b[0m \u001b[0mn\u001b[0m\u001b[0;34m*\u001b[0m\u001b[0mmean\u001b[0m\u001b[0;34m**\u001b[0m\u001b[0;36m2\u001b[0m\u001b[0;34m)\u001b[0m \u001b[0;34m/\u001b[0m \u001b[0;34m(\u001b[0m\u001b[0mn\u001b[0m\u001b[0;34m-\u001b[0m\u001b[0;36m1\u001b[0m\u001b[0;34m)\u001b[0m\u001b[0;34m\u001b[0m\u001b[0;34m\u001b[0m\u001b[0m\n\u001b[0;32m---> 16\u001b[0;31m     \u001b[0mvar1\u001b[0m \u001b[0;34m=\u001b[0m \u001b[0msample_var\u001b[0m\u001b[0;34m(\u001b[0m\u001b[0mx1s\u001b[0m\u001b[0;34m,\u001b[0m \u001b[0mmean1\u001b[0m\u001b[0;34m,\u001b[0m \u001b[0mn1\u001b[0m\u001b[0;34m)\u001b[0m\u001b[0;34m\u001b[0m\u001b[0;34m\u001b[0m\u001b[0m\n\u001b[0m\u001b[1;32m     17\u001b[0m     \u001b[0mvar2\u001b[0m \u001b[0;34m=\u001b[0m \u001b[0msample_var\u001b[0m\u001b[0;34m(\u001b[0m\u001b[0mx2s\u001b[0m\u001b[0;34m,\u001b[0m \u001b[0mmean2\u001b[0m\u001b[0;34m,\u001b[0m \u001b[0mn2\u001b[0m\u001b[0;34m)\u001b[0m\u001b[0;34m\u001b[0m\u001b[0;34m\u001b[0m\u001b[0m\n\u001b[1;32m     18\u001b[0m     \u001b[0;31m#print(\"sample variances\", var1, var2)\u001b[0m\u001b[0;34m\u001b[0m\u001b[0;34m\u001b[0m\u001b[0;34m\u001b[0m\u001b[0m\n",
      "\u001b[0;32m~/git/stats-thesis/simulation_study/src/perm_test.py\u001b[0m in \u001b[0;36m<lambda>\u001b[0;34m(x, mean, n)\u001b[0m\n\u001b[1;32m     13\u001b[0m     \u001b[0;31m#print(\"means\", mean1, mean2)\u001b[0m\u001b[0;34m\u001b[0m\u001b[0;34m\u001b[0m\u001b[0;34m\u001b[0m\u001b[0m\n\u001b[1;32m     14\u001b[0m \u001b[0;34m\u001b[0m\u001b[0m\n\u001b[0;32m---> 15\u001b[0;31m     \u001b[0msample_var\u001b[0m \u001b[0;34m=\u001b[0m \u001b[0;32mlambda\u001b[0m \u001b[0mx\u001b[0m\u001b[0;34m,\u001b[0m \u001b[0mmean\u001b[0m\u001b[0;34m,\u001b[0m \u001b[0mn\u001b[0m\u001b[0;34m:\u001b[0m \u001b[0;34m(\u001b[0m\u001b[0mnp\u001b[0m\u001b[0;34m.\u001b[0m\u001b[0msum\u001b[0m\u001b[0;34m(\u001b[0m\u001b[0mx\u001b[0m\u001b[0;34m**\u001b[0m\u001b[0;36m2\u001b[0m\u001b[0;34m,\u001b[0m \u001b[0maxis\u001b[0m\u001b[0;34m=\u001b[0m\u001b[0;34m-\u001b[0m\u001b[0;36m1\u001b[0m\u001b[0;34m)\u001b[0m \u001b[0;34m-\u001b[0m \u001b[0mn\u001b[0m\u001b[0;34m*\u001b[0m\u001b[0mmean\u001b[0m\u001b[0;34m**\u001b[0m\u001b[0;36m2\u001b[0m\u001b[0;34m)\u001b[0m \u001b[0;34m/\u001b[0m \u001b[0;34m(\u001b[0m\u001b[0mn\u001b[0m\u001b[0;34m-\u001b[0m\u001b[0;36m1\u001b[0m\u001b[0;34m)\u001b[0m\u001b[0;34m\u001b[0m\u001b[0;34m\u001b[0m\u001b[0m\n\u001b[0m\u001b[1;32m     16\u001b[0m     \u001b[0mvar1\u001b[0m \u001b[0;34m=\u001b[0m \u001b[0msample_var\u001b[0m\u001b[0;34m(\u001b[0m\u001b[0mx1s\u001b[0m\u001b[0;34m,\u001b[0m \u001b[0mmean1\u001b[0m\u001b[0;34m,\u001b[0m \u001b[0mn1\u001b[0m\u001b[0;34m)\u001b[0m\u001b[0;34m\u001b[0m\u001b[0;34m\u001b[0m\u001b[0m\n\u001b[1;32m     17\u001b[0m     \u001b[0mvar2\u001b[0m \u001b[0;34m=\u001b[0m \u001b[0msample_var\u001b[0m\u001b[0;34m(\u001b[0m\u001b[0mx2s\u001b[0m\u001b[0;34m,\u001b[0m \u001b[0mmean2\u001b[0m\u001b[0;34m,\u001b[0m \u001b[0mn2\u001b[0m\u001b[0;34m)\u001b[0m\u001b[0;34m\u001b[0m\u001b[0;34m\u001b[0m\u001b[0m\n",
      "\u001b[0;32m<__array_function__ internals>\u001b[0m in \u001b[0;36msum\u001b[0;34m(*args, **kwargs)\u001b[0m\n",
      "\u001b[0;32m/usr/local/lib/python3.8/site-packages/numpy/core/fromnumeric.py\u001b[0m in \u001b[0;36msum\u001b[0;34m(a, axis, dtype, out, keepdims, initial, where)\u001b[0m\n\u001b[1;32m   2121\u001b[0m \u001b[0;34m\u001b[0m\u001b[0m\n\u001b[1;32m   2122\u001b[0m \u001b[0;34m\u001b[0m\u001b[0m\n\u001b[0;32m-> 2123\u001b[0;31m \u001b[0;34m@\u001b[0m\u001b[0marray_function_dispatch\u001b[0m\u001b[0;34m(\u001b[0m\u001b[0m_sum_dispatcher\u001b[0m\u001b[0;34m)\u001b[0m\u001b[0;34m\u001b[0m\u001b[0;34m\u001b[0m\u001b[0m\n\u001b[0m\u001b[1;32m   2124\u001b[0m def sum(a, axis=None, dtype=None, out=None, keepdims=np._NoValue,\n\u001b[1;32m   2125\u001b[0m         initial=np._NoValue, where=np._NoValue):\n",
      "\u001b[0;31mKeyboardInterrupt\u001b[0m: "
     ]
    }
   ],
   "source": [
    "lower = search(x1[0], x2[0], partitions, t_wide[0][0], t_narrow[0][0])"
   ]
  },
  {
   "cell_type": "code",
   "execution_count": null,
   "id": "855724d6",
   "metadata": {},
   "outputs": [],
   "source": [
    "    global n_captured\n",
    "    \n",
    "    for _ in range(n_samples):\n",
    "        x1 = np.random.gamma(gamma1[0], gamma1[1], n1)\n",
    "        x2 = np.random.gamma(gamma2[0], gamma2[1], n2)\n",
    "\n",
    "        # TODO vectorize\n",
    "        t99 = tconfint(0.001, pooled, x1, x2)\n",
    "        t90 = tconfint(0.20, pooled, x1, x2)\n",
    "\n",
    "        try:\n",
    "            lower = search(x1, x2, partitions, t99[0], t90[0])\n",
    "            upper = search(x1, x2, partitions, t90[1], t99[1])\n",
    "        except AssertionError:\n",
    "            continue\n",
    "\n",
    "        intervals.append((lower, upper))\n",
    "        n_captured += (lower <= delta_true) * (delta_true <= upper)"
   ]
  },
  {
   "cell_type": "code",
   "execution_count": 197,
   "id": "52db9e99",
   "metadata": {},
   "outputs": [
    {
     "data": {
      "text/plain": [
       "(-7.618490712386961, 6.310359084631237)"
      ]
     },
     "execution_count": 197,
     "metadata": {},
     "output_type": "execute_result"
    }
   ],
   "source": [
    "t_wide[0][1], t_wide[1][1]"
   ]
  },
  {
   "cell_type": "code",
   "execution_count": 206,
   "id": "eedae435",
   "metadata": {},
   "outputs": [
    {
     "name": "stdout",
     "output_type": "stream",
     "text": [
      "(-10.142539885476689, 8.83440825772096)\n",
      "(-3.8729643459064005, 2.5648327181506727)\n"
     ]
    }
   ],
   "source": [
    "cm = sms.CompareMeans(sms.DescrStatsW(x1[1]), sms.DescrStatsW(x2[1]))\n",
    "print(cm.tconfint_diff(0.001, usevar=\"pooled\" if pooled else \"unequal\"))\n",
    "print(cm.tconfint_diff(0.20, usevar=\"pooled\" if pooled else \"unequal\"))"
   ]
  },
  {
   "cell_type": "code",
   "execution_count": 211,
   "id": "99550e11",
   "metadata": {},
   "outputs": [
    {
     "data": {
      "text/plain": [
       "1.0"
      ]
     },
     "execution_count": 211,
     "metadata": {},
     "output_type": "execute_result"
    }
   ],
   "source": [
    "pval_vectorized(x1[1], x2[1], partitions, delta=-2)"
   ]
  },
  {
   "cell_type": "code",
   "execution_count": 207,
   "id": "d9e94f4f",
   "metadata": {},
   "outputs": [
    {
     "ename": "KeyboardInterrupt",
     "evalue": "",
     "output_type": "error",
     "traceback": [
      "\u001b[0;31m---------------------------------------------------------------------------\u001b[0m",
      "\u001b[0;31mKeyboardInterrupt\u001b[0m                         Traceback (most recent call last)",
      "\u001b[0;32m<ipython-input-207-a87f77861868>\u001b[0m in \u001b[0;36m<module>\u001b[0;34m\u001b[0m\n\u001b[0;32m----> 1\u001b[0;31m \u001b[0msearch\u001b[0m\u001b[0;34m(\u001b[0m\u001b[0mx1\u001b[0m\u001b[0;34m[\u001b[0m\u001b[0;36m1\u001b[0m\u001b[0;34m]\u001b[0m\u001b[0;34m,\u001b[0m \u001b[0mx2\u001b[0m\u001b[0;34m[\u001b[0m\u001b[0;36m1\u001b[0m\u001b[0;34m]\u001b[0m\u001b[0;34m,\u001b[0m \u001b[0mpartitions\u001b[0m\u001b[0;34m,\u001b[0m \u001b[0;34m-\u001b[0m\u001b[0;36m10.142539885476689\u001b[0m\u001b[0;34m,\u001b[0m \u001b[0;34m-\u001b[0m\u001b[0;36m3.8729643459064005\u001b[0m\u001b[0;34m)\u001b[0m\u001b[0;34m\u001b[0m\u001b[0;34m\u001b[0m\u001b[0m\n\u001b[0m",
      "\u001b[0;32m~/git/stats-thesis/simulation_study/src/search.py\u001b[0m in \u001b[0;36msearch\u001b[0;34m(x1, x2, partitions, start, end, margin, alpha, threshold)\u001b[0m\n\u001b[1;32m     34\u001b[0m         \u001b[0;31m# print(\"delta =\", delta, \" in [\", start, \",\", end, \"]\")\u001b[0m\u001b[0;34m\u001b[0m\u001b[0;34m\u001b[0m\u001b[0;34m\u001b[0m\u001b[0m\n\u001b[1;32m     35\u001b[0m \u001b[0;34m\u001b[0m\u001b[0m\n\u001b[0;32m---> 36\u001b[0;31m         \u001b[0mp_new\u001b[0m \u001b[0;34m=\u001b[0m \u001b[0mpval_vectorized\u001b[0m\u001b[0;34m(\u001b[0m\u001b[0mx1\u001b[0m\u001b[0;34m,\u001b[0m \u001b[0mx2\u001b[0m\u001b[0;34m,\u001b[0m \u001b[0mpartitions\u001b[0m\u001b[0;34m,\u001b[0m \u001b[0mdelta\u001b[0m\u001b[0;34m=\u001b[0m\u001b[0mdelta\u001b[0m\u001b[0;34m)\u001b[0m\u001b[0;34m\u001b[0m\u001b[0;34m\u001b[0m\u001b[0m\n\u001b[0m\u001b[1;32m     37\u001b[0m         \u001b[0;31m# print(\"p_new =\", p_new)\u001b[0m\u001b[0;34m\u001b[0m\u001b[0;34m\u001b[0m\u001b[0;34m\u001b[0m\u001b[0m\n\u001b[1;32m     38\u001b[0m \u001b[0;34m\u001b[0m\u001b[0m\n",
      "\u001b[0;32m~/git/stats-thesis/simulation_study/src/perm_test.py\u001b[0m in \u001b[0;36mpval_vectorized\u001b[0;34m(x1, x2, partitions, delta, pooled, alternative)\u001b[0m\n\u001b[1;32m     40\u001b[0m     \u001b[0mx1s\u001b[0m \u001b[0;34m=\u001b[0m \u001b[0mcombined\u001b[0m\u001b[0;34m[\u001b[0m\u001b[0mpartitions\u001b[0m\u001b[0;34m[\u001b[0m\u001b[0;34m:\u001b[0m\u001b[0;34m,\u001b[0m\u001b[0;34m:\u001b[0m\u001b[0mn1\u001b[0m\u001b[0;34m]\u001b[0m\u001b[0;34m]\u001b[0m\u001b[0;34m\u001b[0m\u001b[0;34m\u001b[0m\u001b[0m\n\u001b[1;32m     41\u001b[0m     \u001b[0mx2s\u001b[0m \u001b[0;34m=\u001b[0m \u001b[0mcombined\u001b[0m\u001b[0;34m[\u001b[0m\u001b[0mpartitions\u001b[0m\u001b[0;34m[\u001b[0m\u001b[0;34m:\u001b[0m\u001b[0;34m,\u001b[0m\u001b[0mn1\u001b[0m\u001b[0;34m:\u001b[0m\u001b[0;34m]\u001b[0m\u001b[0;34m]\u001b[0m\u001b[0;34m\u001b[0m\u001b[0;34m\u001b[0m\u001b[0m\n\u001b[0;32m---> 42\u001b[0;31m     \u001b[0mts\u001b[0m \u001b[0;34m=\u001b[0m \u001b[0mttest_ind_vectorized\u001b[0m\u001b[0;34m(\u001b[0m\u001b[0mx1s\u001b[0m\u001b[0;34m,\u001b[0m \u001b[0mx2s\u001b[0m\u001b[0;34m,\u001b[0m \u001b[0mn1\u001b[0m\u001b[0;34m,\u001b[0m \u001b[0mn2\u001b[0m\u001b[0;34m,\u001b[0m \u001b[0mpooled\u001b[0m\u001b[0;34m)\u001b[0m\u001b[0;34m\u001b[0m\u001b[0;34m\u001b[0m\u001b[0m\n\u001b[0m\u001b[1;32m     43\u001b[0m \u001b[0;34m\u001b[0m\u001b[0m\n\u001b[1;32m     44\u001b[0m     \u001b[0msubset\u001b[0m \u001b[0;34m=\u001b[0m \u001b[0;32mNone\u001b[0m\u001b[0;34m\u001b[0m\u001b[0;34m\u001b[0m\u001b[0m\n",
      "\u001b[0;32m~/git/stats-thesis/simulation_study/src/perm_test.py\u001b[0m in \u001b[0;36mttest_ind_vectorized\u001b[0;34m(x1s, x2s, n1, n2, pooled)\u001b[0m\n\u001b[1;32m     22\u001b[0m     \u001b[0mdenom\u001b[0m \u001b[0;34m=\u001b[0m \u001b[0mnp\u001b[0m\u001b[0;34m.\u001b[0m\u001b[0msqrt\u001b[0m\u001b[0;34m(\u001b[0m\u001b[0mpooled_var\u001b[0m \u001b[0;34m*\u001b[0m \u001b[0;34m(\u001b[0m\u001b[0;36m1\u001b[0m\u001b[0;34m/\u001b[0m\u001b[0mn1\u001b[0m \u001b[0;34m+\u001b[0m \u001b[0;36m1\u001b[0m\u001b[0;34m/\u001b[0m\u001b[0mn2\u001b[0m\u001b[0;34m)\u001b[0m\u001b[0;34m)\u001b[0m\u001b[0;34m\u001b[0m\u001b[0;34m\u001b[0m\u001b[0m\n\u001b[1;32m     23\u001b[0m \u001b[0;34m\u001b[0m\u001b[0m\n\u001b[0;32m---> 24\u001b[0;31m     \u001b[0mt\u001b[0m \u001b[0;34m=\u001b[0m \u001b[0;34m(\u001b[0m\u001b[0mmean1\u001b[0m \u001b[0;34m-\u001b[0m \u001b[0mmean2\u001b[0m\u001b[0;34m)\u001b[0m \u001b[0;34m/\u001b[0m \u001b[0mdenom\u001b[0m\u001b[0;34m\u001b[0m\u001b[0;34m\u001b[0m\u001b[0m\n\u001b[0m\u001b[1;32m     25\u001b[0m     \u001b[0;32mreturn\u001b[0m \u001b[0mt\u001b[0m\u001b[0;34m\u001b[0m\u001b[0;34m\u001b[0m\u001b[0m\n\u001b[1;32m     26\u001b[0m \u001b[0;34m\u001b[0m\u001b[0m\n",
      "\u001b[0;31mKeyboardInterrupt\u001b[0m: "
     ]
    }
   ],
   "source": [
    "search(x1[1], x2[1], partitions, -10.142539885476689, -3.8729643459064005)"
   ]
  },
  {
   "cell_type": "code",
   "execution_count": 203,
   "id": "8afb9fa3",
   "metadata": {},
   "outputs": [
    {
     "data": {
      "text/plain": [
       "(array([-11.03368321,  -7.61849071,  -9.06304298,  -8.29449428,\n",
       "        -11.5516297 ]),\n",
       " array([3.7556425 , 6.31035908, 3.60809058, 4.4016671 , 3.90649447]))"
      ]
     },
     "execution_count": 203,
     "metadata": {},
     "output_type": "execute_result"
    }
   ],
   "source": [
    "t_wide"
   ]
  },
  {
   "cell_type": "code",
   "execution_count": null,
   "id": "887783be",
   "metadata": {},
   "outputs": [],
   "source": []
  }
 ],
 "metadata": {
  "kernelspec": {
   "display_name": "Python 3",
   "language": "python",
   "name": "python3"
  },
  "language_info": {
   "codemirror_mode": {
    "name": "ipython",
    "version": 3
   },
   "file_extension": ".py",
   "mimetype": "text/x-python",
   "name": "python",
   "nbconvert_exporter": "python",
   "pygments_lexer": "ipython3",
   "version": "3.8.5"
  }
 },
 "nbformat": 4,
 "nbformat_minor": 5
}
