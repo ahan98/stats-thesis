{
 "cells": [
  {
   "cell_type": "markdown",
   "id": "a4b5050e",
   "metadata": {},
   "source": [
    "## TODO"
   ]
  },
  {
   "cell_type": "markdown",
   "id": "5700353c",
   "metadata": {},
   "source": [
    "- vectorize `tconfint()`\n",
    "- vectorize `passToThread()`\n",
    "  - generate 7300xn1 and 7300xn2 for the matrices of data\n",
    "  - 7300 x n1 -> 7300 x 1 (`lower`)\n",
    "  - 7300 x n2 -> 7300 x 1 (`upper`)\n",
    "  - 7300 x 1 boolean vector, i-th entry is True iff `lower[i] <= delta-true <= upper[i]`\n",
    "  - ouptut p-value which is proportion of boolean vector that is True"
   ]
  },
  {
   "cell_type": "markdown",
   "id": "36a244ed",
   "metadata": {},
   "source": [
    "---"
   ]
  },
  {
   "cell_type": "code",
   "execution_count": 383,
   "id": "28173b23",
   "metadata": {},
   "outputs": [],
   "source": [
    "import numpy as np\n",
    "import statsmodels.stats.api as sms\n",
    "from scipy.stats import t as t\n",
    "import math\n",
    "from itertools import combinations\n",
    "import threading\n",
    "#from tqdm import tqdm"
   ]
  },
  {
   "cell_type": "code",
   "execution_count": 214,
   "id": "667645b0",
   "metadata": {},
   "outputs": [],
   "source": [
    "from src.search import search\n",
    "from src.bootstrap import bootstrap_ci\n",
    "from src.perm_test import ttest_ind_vectorized, pval_vectorized"
   ]
  },
  {
   "cell_type": "code",
   "execution_count": 215,
   "id": "2fa48af5",
   "metadata": {},
   "outputs": [],
   "source": [
    "def get_partitions(n1, n2):\n",
    "    total_length = n1 + n2\n",
    "\n",
    "    def get_groups(idxs):\n",
    "        i = 0\n",
    "        idxs2 = []\n",
    "        for j in idxs:\n",
    "            while i < total_length and i < j:\n",
    "                idxs2.append(i)\n",
    "                i += 1\n",
    "\n",
    "            if i == j:\n",
    "                i += 1\n",
    "\n",
    "        idxs2 += range(i, total_length)\n",
    "        return list(idxs) + idxs2\n",
    "\n",
    "    partitions = np.array([get_groups(idxs) for idxs in combinations(range(total_length), n1)])\n",
    "    return partitions"
   ]
  },
  {
   "cell_type": "code",
   "execution_count": 216,
   "id": "f0ed6c43",
   "metadata": {},
   "outputs": [],
   "source": [
    "def tconfint(alpha, pooled, x1, x2):\n",
    "    cm = sms.CompareMeans(sms.DescrStatsW(x1), sms.DescrStatsW(x2))\n",
    "    return cm.tconfint_diff(alpha, usevar=\"pooled\" if pooled else \"unequal\")"
   ]
  },
  {
   "cell_type": "code",
   "execution_count": 217,
   "id": "07236d11",
   "metadata": {},
   "outputs": [],
   "source": [
    "def passToThread(n_samples):\n",
    "    global n_captured\n",
    "    \n",
    "    for _ in range(n_samples):\n",
    "        x1 = np.random.gamma(gamma1[0], gamma1[1], n1)\n",
    "        x2 = np.random.gamma(gamma2[0], gamma2[1], n2)\n",
    "\n",
    "        # TODO vectorize\n",
    "        t99 = tconfint(0.001, pooled, x1, x2)\n",
    "        t90 = tconfint(0.20, pooled, x1, x2)\n",
    "\n",
    "        try:\n",
    "            lower = search(x1, x2, partitions, t99[0], t90[0])\n",
    "            upper = search(x1, x2, partitions, t90[1], t99[1])\n",
    "        except AssertionError:\n",
    "            continue\n",
    "\n",
    "        intervals.append((lower, upper))\n",
    "        n_captured += (lower <= delta_true) * (delta_true <= upper)"
   ]
  },
  {
   "cell_type": "code",
   "execution_count": 218,
   "id": "ae8b8957",
   "metadata": {},
   "outputs": [],
   "source": [
    "alpha = 0.05\n",
    "alternative = \"less\"\n",
    "pooled = True\n",
    "\n",
    "gamma1 = (2, 5)  # shape k, scale theta\n",
    "gamma2 = (4, 3)\n",
    "delta_true = (gamma1[0] * gamma1[1]) - (gamma2[0] * gamma2[1])  # true mean difference\n",
    "\n",
    "n1, n2 = 12, 8\n",
    "partitions = get_partitions(n1, n2)\n",
    "\n",
    "intervals = []\n",
    "n_captured = 0"
   ]
  },
  {
   "cell_type": "code",
   "execution_count": 219,
   "id": "7f6b8d0a",
   "metadata": {},
   "outputs": [
    {
     "name": "stdout",
     "output_type": "stream",
     "text": [
      "CPU times: user 342 ms, sys: 26.8 ms, total: 369 ms\n",
      "Wall time: 368 ms\n"
     ]
    }
   ],
   "source": [
    "%%time\n",
    "# time how long it takes to find one confidence interval\n",
    "passToThread(1)"
   ]
  },
  {
   "cell_type": "code",
   "execution_count": 220,
   "id": "b38179f4",
   "metadata": {},
   "outputs": [
    {
     "data": {
      "text/plain": [
       "-2"
      ]
     },
     "execution_count": 220,
     "metadata": {},
     "output_type": "execute_result"
    }
   ],
   "source": [
    "delta_true"
   ]
  },
  {
   "cell_type": "code",
   "execution_count": 221,
   "id": "f2740f3c",
   "metadata": {},
   "outputs": [
    {
     "data": {
      "text/plain": [
       "(1, 1)"
      ]
     },
     "execution_count": 221,
     "metadata": {},
     "output_type": "execute_result"
    }
   ],
   "source": [
    "n_captured, len(intervals)"
   ]
  },
  {
   "cell_type": "code",
   "execution_count": 364,
   "id": "7480402d",
   "metadata": {},
   "outputs": [],
   "source": [
    "thread_count = 16\n",
    "threads = [0] * thread_count\n",
    "\n",
    "remaining = 128\n",
    "batch_size = remaining // thread_count\n",
    "\n",
    "intervals = []\n",
    "n_captured = 0"
   ]
  },
  {
   "cell_type": "code",
   "execution_count": 365,
   "id": "3688d6d2",
   "metadata": {},
   "outputs": [
    {
     "name": "stdout",
     "output_type": "stream",
     "text": [
      "CPU times: user 1min 9s, sys: 1.42 s, total: 1min 10s\n",
      "Wall time: 9.6 s\n"
     ]
    }
   ],
   "source": [
    "%%time\n",
    "\n",
    "for i in range(thread_count):\n",
    "    n_samples = batch_size if i < thread_count-1 else remaining\n",
    "    threads[i] = threading.Thread(target=passToThread, args=(n_samples,))\n",
    "    threads[i].start()\n",
    "    remaining -= n_samples\n",
    "    \n",
    "for thread in threads:\n",
    "    thread.join()"
   ]
  },
  {
   "cell_type": "code",
   "execution_count": 224,
   "id": "512925aa",
   "metadata": {},
   "outputs": [
    {
     "data": {
      "text/plain": [
       "(125, 128)"
      ]
     },
     "execution_count": 224,
     "metadata": {},
     "output_type": "execute_result"
    }
   ],
   "source": [
    "n_captured, len(intervals)"
   ]
  },
  {
   "cell_type": "markdown",
   "id": "4ca7de6c",
   "metadata": {},
   "source": [
    "Multithreading allows us to compute one confidence interval in \\~80 ms, even faster than it took to compute the one confidence interval above (\\~360 ms)."
   ]
  },
  {
   "cell_type": "markdown",
   "id": "7972ffbd",
   "metadata": {},
   "source": [
    "## Scrap Code"
   ]
  },
  {
   "cell_type": "code",
   "execution_count": 369,
   "id": "137cbe7c",
   "metadata": {},
   "outputs": [],
   "source": [
    "# https://www.statsmodels.org/stable/generated/statsmodels.stats.weightstats.CompareMeans.html\n",
    "np.random.seed(123)\n",
    "n1, n2 = 12, 8\n",
    "n_samples = 1\n",
    "x1 = np.random.gamma(gamma1[0], gamma1[1], n1)\n",
    "x2 = np.random.gamma(gamma2[0], gamma2[1], n2)"
   ]
  },
  {
   "cell_type": "code",
   "execution_count": 371,
   "id": "d319f9fd",
   "metadata": {},
   "outputs": [
    {
     "name": "stdout",
     "output_type": "stream",
     "text": [
      "(-7.148602688245627, 3.544779427557045)\n",
      "(-10.677094684430186, 7.073271423741604)\n"
     ]
    }
   ],
   "source": [
    "cm = sms.CompareMeans(sms.DescrStatsW(x1), sms.DescrStatsW(x2))\n",
    "t99 = cm.tconfint_diff(0.01, usevar=\"pooled\" if pooled else \"unequal\")\n",
    "t90 = cm.tconfint_diff(0.1, usevar=\"pooled\" if pooled else \"unequal\") \n",
    "print(t90)\n",
    "print(t99)"
   ]
  },
  {
   "cell_type": "code",
   "execution_count": 372,
   "id": "de0926aa",
   "metadata": {},
   "outputs": [
    {
     "data": {
      "text/plain": [
       "(-10.670203098500139, 4.867963926126254, -2)"
      ]
     },
     "execution_count": 372,
     "metadata": {},
     "output_type": "execute_result"
    }
   ],
   "source": [
    "lower = search(x1, x2, partitions, t99[0], t90[0])\n",
    "upper = search(x1, x2, partitions, t90[1], t99[1])\n",
    "lower, upper, delta_true"
   ]
  },
  {
   "cell_type": "code",
   "execution_count": 373,
   "id": "41112ab5",
   "metadata": {},
   "outputs": [],
   "source": [
    "np.random.seed(123)\n",
    "n1, n2 = 12, 8\n",
    "n_samples = 1\n",
    "x1 = np.random.gamma(gamma1[0], gamma1[1], (n_samples, n1))\n",
    "x2 = np.random.gamma(gamma2[0], gamma2[1], (n_samples, n2))"
   ]
  },
  {
   "cell_type": "code",
   "execution_count": 374,
   "id": "b03cb744",
   "metadata": {},
   "outputs": [],
   "source": [
    "# TODO alternative=\"unequal\", etc.\n",
    "# TODO this code is almost identical to ttest_ind_vectorized\n",
    "#      merge into same function with parameter to switch return value\n",
    "def tconfint_vectorized(x1s, x2s, alpha=0.05, pooled=True, alternative=\"unequal\"):\n",
    "    n1, n2 = x1s.shape[-1], x2s.shape[-1]\n",
    "    #print(\"n1 =\", n1, \"n2 =\", n2)\n",
    "    sum1 = np.sum(x1s, axis=-1)\n",
    "    sum2 = np.sum(x2s, axis=-1)\n",
    "    #print(\"sums\", sum1, sum2)\n",
    "\n",
    "    mean1 = sum1 / n1\n",
    "    mean2 = sum2 / n2\n",
    "    #print(\"means\", mean1, mean2)\n",
    "\n",
    "    sample_var = lambda x, mean, n: (np.sum(x**2, axis=-1) - n*mean**2) / (n-1)\n",
    "    var1 = sample_var(x1s, mean1, n1)\n",
    "    var2 = sample_var(x2s, mean2, n2)\n",
    "    #print(\"sample variances\", var1, var2)\n",
    "\n",
    "    pooled_var = ((n1-1)*var1 + (n2-1)*var2) / (n1+n2-2)\n",
    "    #print(\"pooled var\", pooled_var)\n",
    "    denom = np.sqrt(pooled_var * (1/n1 + 1/n2))\n",
    "\n",
    "    t_crit = t.ppf(q=1-alpha/2, df=n1+n2-2)  # scipy.stats.t.ppf()\n",
    "    lower = (mean1 - mean2) - t_crit*denom\n",
    "    upper = (mean1 - mean2) + t_crit*denom\n",
    "    return lower, upper"
   ]
  },
  {
   "cell_type": "code",
   "execution_count": 375,
   "id": "fa031779",
   "metadata": {},
   "outputs": [
    {
     "name": "stdout",
     "output_type": "stream",
     "text": [
      "(array([-7.14860269]), array([3.54477943]))\n",
      "(array([-10.67709468]), array([7.07327142]))\n"
     ]
    }
   ],
   "source": [
    "t90 = tconfint_vectorized(x1, x2, alpha=0.1)\n",
    "t99 = tconfint_vectorized(x1, x2, alpha=0.01)\n",
    "print(t90)\n",
    "print(t99)"
   ]
  },
  {
   "cell_type": "code",
   "execution_count": 376,
   "id": "c51418c7",
   "metadata": {},
   "outputs": [],
   "source": [
    "i = 0  # sample\n",
    "lower = search(x1[i], x2[i], partitions, t99[0][i], t90[0][i])\n",
    "upper = search(x1[i], x2[i], partitions, t90[1][i], t99[1][i])"
   ]
  },
  {
   "cell_type": "code",
   "execution_count": 377,
   "id": "81e9d4af",
   "metadata": {},
   "outputs": [
    {
     "data": {
      "text/plain": [
       "(-10.670203098500139, 4.867963926126254)"
      ]
     },
     "execution_count": 377,
     "metadata": {},
     "output_type": "execute_result"
    }
   ],
   "source": [
    "lower, upper"
   ]
  },
  {
   "cell_type": "code",
   "execution_count": 378,
   "id": "3285c0e2",
   "metadata": {},
   "outputs": [],
   "source": [
    "# TODO this is only partially vectorized; still need to vectorize `search`\n",
    "def passToThread_vectorized(n_samples):\n",
    "    global n_captured\n",
    "    np.random.seed(123)\n",
    "\n",
    "    x1 = np.random.gamma(gamma1[0], gamma1[1], (n_samples, n1))\n",
    "    x2 = np.random.gamma(gamma2[0], gamma2[1], (n_samples, n2))\n",
    "    \n",
    "    t99 = tconfint_vectorized(x1, x2, alpha=0.01)\n",
    "    t90 = tconfint_vectorized(x1, x2, alpha=0.1)\n",
    "    \n",
    "    # this needs to be vectorized\n",
    "    for i in range(n_samples):\n",
    "        try:\n",
    "            lower = search(x1[i], x2[i], partitions, t99[0][i], t90[0][i])\n",
    "            upper = search(x1[i], x2[i], partitions, t90[1][i], t99[1][i])\n",
    "        except AssertionError:\n",
    "            #print(\"AssertionError: Alpha not contained in estimated bounds\")\n",
    "            continue\n",
    "        #print(i, \": (\", lower, \",\", upper, \")\")\n",
    "        n_captured += (lower <= delta_true) * (delta_true <= upper)"
   ]
  },
  {
   "cell_type": "code",
   "execution_count": 379,
   "id": "d44656d4",
   "metadata": {},
   "outputs": [
    {
     "name": "stdout",
     "output_type": "stream",
     "text": [
      "CPU times: user 9.5 s, sys: 31.8 ms, total: 9.53 s\n",
      "Wall time: 9.53 s\n"
     ]
    },
    {
     "data": {
      "text/plain": [
       "32"
      ]
     },
     "execution_count": 379,
     "metadata": {},
     "output_type": "execute_result"
    }
   ],
   "source": [
    "%%time\n",
    "n_captured = 0\n",
    "passToThread_vectorized(32)\n",
    "n_captured"
   ]
  },
  {
   "cell_type": "code",
   "execution_count": 380,
   "id": "c8e53a41",
   "metadata": {},
   "outputs": [
    {
     "name": "stdout",
     "output_type": "stream",
     "text": [
      "CPU times: user 10.4 s, sys: 72.5 ms, total: 10.5 s\n",
      "Wall time: 10.5 s\n"
     ]
    },
    {
     "data": {
      "text/plain": [
       "30"
      ]
     },
     "execution_count": 380,
     "metadata": {},
     "output_type": "execute_result"
    }
   ],
   "source": [
    "%%time\n",
    "n_captured = 0\n",
    "passToThread(32)\n",
    "n_captured"
   ]
  },
  {
   "cell_type": "code",
   "execution_count": 381,
   "id": "de598502",
   "metadata": {},
   "outputs": [],
   "source": [
    "thread_count = 16\n",
    "threads = [0] * thread_count\n",
    "\n",
    "remaining = 128\n",
    "batch_size = remaining // thread_count\n",
    "\n",
    "intervals = []\n",
    "n_captured = 0"
   ]
  },
  {
   "cell_type": "code",
   "execution_count": 382,
   "id": "fb93f8e3",
   "metadata": {},
   "outputs": [
    {
     "name": "stdout",
     "output_type": "stream",
     "text": [
      "CPU times: user 1min 2s, sys: 1.56 s, total: 1min 4s\n",
      "Wall time: 8.79 s\n"
     ]
    }
   ],
   "source": [
    "%%time\n",
    "\n",
    "for i in range(thread_count):\n",
    "    n_samples = batch_size if i < thread_count-1 else remaining\n",
    "    threads[i] = threading.Thread(target=passToThread_vectorized, args=(n_samples,))\n",
    "    threads[i].start()\n",
    "    remaining -= n_samples\n",
    "    \n",
    "for thread in threads:\n",
    "    thread.join()"
   ]
  }
 ],
 "metadata": {
  "kernelspec": {
   "display_name": "Python 3",
   "language": "python",
   "name": "python3"
  },
  "language_info": {
   "codemirror_mode": {
    "name": "ipython",
    "version": 3
   },
   "file_extension": ".py",
   "mimetype": "text/x-python",
   "name": "python",
   "nbconvert_exporter": "python",
   "pygments_lexer": "ipython3",
   "version": "3.8.5"
  }
 },
 "nbformat": 4,
 "nbformat_minor": 5
}
